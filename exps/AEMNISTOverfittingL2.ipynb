{
 "cells": [
  {
   "cell_type": "code",
   "execution_count": 1,
   "metadata": {},
   "outputs": [],
   "source": [
    "import torch\n",
    "import torch.nn as nn\n",
    "import torch.optim as optim\n",
    "import numpy as np\n",
    "from torchvision.datasets import MNIST\n",
    "from torch.utils.data import DataLoader\n",
    "from torchvision import transforms\n",
    "import torch.nn.functional as F\n",
    "import os\n",
    "from tqdm import tqdm\n",
    "\n",
    "class SingleLayerNN(nn.Module):\n",
    "    def __init__(self):\n",
    "        super(SingleLayerNN, self).__init__()\n",
    "        self.fc = nn.Linear(784, 512) \n",
    "        self.fc0 = nn.Linear(512, 256)\n",
    "        self.fc1 = nn.Linear(256, 128)\n",
    "        self.fc2 = nn.Linear(128, 64)\n",
    "        self.out = nn.Linear(64, 10)\n",
    "\n",
    "    def forward(self, x):\n",
    "        x = torch.relu(self.fc(x)) \n",
    "        x = torch.relu(self.fc0(x))\n",
    "        x = torch.relu(self.fc1(x))\n",
    "        x = torch.relu(self.fc2(x))\n",
    "        x = self.out(x)  \n",
    "        return x\n",
    "\n",
    "model = SingleLayerNN()\n",
    "\n",
    "\n",
    "criterion = nn.MSELoss() \n",
    "optimizer = optim.Adam(model.parameters(), lr=0.01)  \n"
   ]
  },
  {
   "cell_type": "code",
   "execution_count": 2,
   "metadata": {},
   "outputs": [],
   "source": [
    "#torch.manual_seed(7)"
   ]
  },
  {
   "cell_type": "code",
   "execution_count": 3,
   "metadata": {},
   "outputs": [
    {
     "name": "stderr",
     "output_type": "stream",
     "text": [
      "/var/folders/d1/pxwd2rcj41j7b2lhnz909xn80000gn/T/ipykernel_58043/112231088.py:4: UserWarning: To copy construct from a tensor, it is recommended to use sourceTensor.clone().detach() or sourceTensor.clone().detach().requires_grad_(True), rather than torch.tensor(sourceTensor).\n",
      "  x_train = torch.tensor(x_train, dtype=torch.float32)\n",
      "/var/folders/d1/pxwd2rcj41j7b2lhnz909xn80000gn/T/ipykernel_58043/112231088.py:5: UserWarning: To copy construct from a tensor, it is recommended to use sourceTensor.clone().detach() or sourceTensor.clone().detach().requires_grad_(True), rather than torch.tensor(sourceTensor).\n",
      "  y_train = torch.tensor(y_train, dtype=torch.float32)\n"
     ]
    }
   ],
   "source": [
    "train_dataset = MNIST(os.getcwd(), train=True, download=True, transform=[transforms.ToTensor(), transforms.Normalize((0.5,), (0.5,))])\n",
    "x_train = train_dataset.data / 255.0\n",
    "y_train = F.one_hot(train_dataset.targets, num_classes=10)\n",
    "x_train = torch.tensor(x_train, dtype=torch.float32)\n",
    "y_train = torch.tensor(y_train, dtype=torch.float32)\n",
    "x_train = x_train.view(-1, 784)\n",
    "dtrain = torch.utils.data.TensorDataset(x_train, y_train)\n",
    "trainloader = DataLoader(dtrain, batch_size=256, shuffle=True)"
   ]
  },
  {
   "cell_type": "code",
   "execution_count": 4,
   "metadata": {},
   "outputs": [
    {
     "name": "stderr",
     "output_type": "stream",
     "text": [
      "/var/folders/d1/pxwd2rcj41j7b2lhnz909xn80000gn/T/ipykernel_58043/3473755828.py:4: UserWarning: To copy construct from a tensor, it is recommended to use sourceTensor.clone().detach() or sourceTensor.clone().detach().requires_grad_(True), rather than torch.tensor(sourceTensor).\n",
      "  x_test = torch.tensor(x_test, dtype=torch.float32)\n",
      "/var/folders/d1/pxwd2rcj41j7b2lhnz909xn80000gn/T/ipykernel_58043/3473755828.py:5: UserWarning: To copy construct from a tensor, it is recommended to use sourceTensor.clone().detach() or sourceTensor.clone().detach().requires_grad_(True), rather than torch.tensor(sourceTensor).\n",
      "  y_test = torch.tensor(y_test, dtype=torch.float32)\n"
     ]
    }
   ],
   "source": [
    "testDataset = MNIST(os.getcwd(), train=False, download=True, transform=[transforms.ToTensor(), transforms.Normalize((0.5,), (0.5,))])\n",
    "x_test = testDataset.data / 255.0\n",
    "y_test = F.one_hot(testDataset.targets, num_classes=10)\n",
    "x_test = torch.tensor(x_test, dtype=torch.float32)\n",
    "y_test = torch.tensor(y_test, dtype=torch.float32)\n",
    "x_test = x_test.view(-1, 784)\n",
    "dtest = torch.utils.data.TensorDataset(x_test, y_test)\n",
    "testloader = DataLoader(dtest, batch_size=256, shuffle=True)"
   ]
  },
  {
   "cell_type": "code",
   "execution_count": 5,
   "metadata": {},
   "outputs": [],
   "source": [
    "def neuronalNeuralBalance(inl, oul):\n",
    "\n",
    "    ninc = torch.zeros_like(inl.weight)\n",
    "    noul = torch.zeros_like(oul.weight)\n",
    "\n",
    "    for i in range(inl.weight.data.shape[0]):\n",
    "        inc = np.sqrt(torch.sum(torch.square(inl.weight.data[i])).item())\n",
    "        outg = np.sqrt(torch.sum(torch.square(oul.weight.data[:,i])).item())\n",
    "\n",
    "        # outg = outg / float(len(oul.weight.data[:,i]))\n",
    "        # inc = inc / float(len(inl.weight.data[i]))\n",
    "\n",
    "        opt = np.sqrt(outg/inc)\n",
    "\n",
    "        ninc[i] = inl.weight.data[i]*opt\n",
    "        noul[:, i] = oul.weight.data[:,i]/opt\n",
    "\n",
    "    inl.weight.data = ninc\n",
    "    oul.weight.data = noul\n"
   ]
  },
  {
   "cell_type": "code",
   "execution_count": 6,
   "metadata": {},
   "outputs": [
    {
     "name": "stdout",
     "output_type": "stream",
     "text": [
      "Linear\n",
      "Linear\n",
      "Linear\n",
      "Linear\n",
      "Linear\n"
     ]
    },
    {
     "name": "stderr",
     "output_type": "stream",
     "text": [
      "  0%|          | 0/235 [00:00<?, ?it/s]"
     ]
    },
    {
     "name": "stderr",
     "output_type": "stream",
     "text": [
      "100%|██████████| 235/235 [00:01<00:00, 172.67it/s]\n"
     ]
    },
    {
     "name": "stdout",
     "output_type": "stream",
     "text": [
      "Epoch 0/100, Loss: 0.00816934835165739, train dataset accuracy: 77.195\n",
      "test dataset accuracy: 92.24%\n"
     ]
    },
    {
     "name": "stderr",
     "output_type": "stream",
     "text": [
      "100%|██████████| 235/235 [00:01<00:00, 187.80it/s]\n"
     ]
    },
    {
     "name": "stdout",
     "output_type": "stream",
     "text": [
      "Epoch 1/100, Loss: 0.00916080828756094, train dataset accuracy: 92.67666666666666\n",
      "test dataset accuracy: 93.14%\n"
     ]
    },
    {
     "name": "stderr",
     "output_type": "stream",
     "text": [
      "100%|██████████| 235/235 [00:01<00:00, 187.60it/s]\n"
     ]
    },
    {
     "name": "stdout",
     "output_type": "stream",
     "text": [
      "Epoch 2/100, Loss: 0.01244414784014225, train dataset accuracy: 93.54166666666667\n",
      "test dataset accuracy: 93.6%\n"
     ]
    },
    {
     "name": "stderr",
     "output_type": "stream",
     "text": [
      "100%|██████████| 235/235 [00:01<00:00, 170.08it/s]\n"
     ]
    },
    {
     "name": "stdout",
     "output_type": "stream",
     "text": [
      "Epoch 3/100, Loss: 0.010629257187247276, train dataset accuracy: 94.01166666666667\n",
      "test dataset accuracy: 93.72%\n"
     ]
    },
    {
     "name": "stderr",
     "output_type": "stream",
     "text": [
      "100%|██████████| 235/235 [00:01<00:00, 188.16it/s]\n"
     ]
    },
    {
     "name": "stdout",
     "output_type": "stream",
     "text": [
      "Epoch 4/100, Loss: 0.012255226261913776, train dataset accuracy: 94.27333333333333\n",
      "test dataset accuracy: 94.29%\n"
     ]
    },
    {
     "name": "stderr",
     "output_type": "stream",
     "text": [
      "100%|██████████| 235/235 [00:01<00:00, 182.83it/s]\n"
     ]
    },
    {
     "name": "stdout",
     "output_type": "stream",
     "text": [
      "Epoch 5/100, Loss: 0.004240977577865124, train dataset accuracy: 94.60333333333334\n",
      "test dataset accuracy: 94.23%\n"
     ]
    },
    {
     "name": "stderr",
     "output_type": "stream",
     "text": [
      "100%|██████████| 235/235 [00:01<00:00, 190.12it/s]\n"
     ]
    },
    {
     "name": "stdout",
     "output_type": "stream",
     "text": [
      "Epoch 6/100, Loss: 0.005943273659795523, train dataset accuracy: 94.73666666666666\n",
      "test dataset accuracy: 94.06%\n"
     ]
    },
    {
     "name": "stderr",
     "output_type": "stream",
     "text": [
      "100%|██████████| 235/235 [00:01<00:00, 188.13it/s]\n"
     ]
    },
    {
     "name": "stdout",
     "output_type": "stream",
     "text": [
      "Epoch 7/100, Loss: 0.014236580580472946, train dataset accuracy: 94.90833333333333\n",
      "test dataset accuracy: 94.25%\n"
     ]
    },
    {
     "name": "stderr",
     "output_type": "stream",
     "text": [
      "100%|██████████| 235/235 [00:01<00:00, 182.40it/s]\n"
     ]
    },
    {
     "name": "stdout",
     "output_type": "stream",
     "text": [
      "Epoch 8/100, Loss: 0.009852577932178974, train dataset accuracy: 94.985\n",
      "test dataset accuracy: 94.23%\n"
     ]
    },
    {
     "name": "stderr",
     "output_type": "stream",
     "text": [
      "100%|██████████| 235/235 [00:01<00:00, 192.53it/s]\n"
     ]
    },
    {
     "name": "stdout",
     "output_type": "stream",
     "text": [
      "Epoch 9/100, Loss: 0.014495965093374252, train dataset accuracy: 95.10833333333333\n",
      "test dataset accuracy: 93.95%\n"
     ]
    },
    {
     "name": "stderr",
     "output_type": "stream",
     "text": [
      "100%|██████████| 235/235 [00:01<00:00, 178.57it/s]\n"
     ]
    },
    {
     "name": "stdout",
     "output_type": "stream",
     "text": [
      "Epoch 10/100, Loss: 0.01189645566046238, train dataset accuracy: 95.15\n",
      "test dataset accuracy: 94.19%\n"
     ]
    },
    {
     "name": "stderr",
     "output_type": "stream",
     "text": [
      "100%|██████████| 235/235 [00:01<00:00, 190.43it/s]\n"
     ]
    },
    {
     "name": "stdout",
     "output_type": "stream",
     "text": [
      "Epoch 11/100, Loss: 0.006207948084920645, train dataset accuracy: 95.29166666666667\n",
      "test dataset accuracy: 94.72%\n"
     ]
    },
    {
     "name": "stderr",
     "output_type": "stream",
     "text": [
      "100%|██████████| 235/235 [00:01<00:00, 186.56it/s]\n"
     ]
    },
    {
     "name": "stdout",
     "output_type": "stream",
     "text": [
      "Epoch 12/100, Loss: 0.011684972792863846, train dataset accuracy: 95.39333333333333\n",
      "test dataset accuracy: 94.35%\n"
     ]
    },
    {
     "name": "stderr",
     "output_type": "stream",
     "text": [
      "100%|██████████| 235/235 [00:01<00:00, 193.31it/s]\n"
     ]
    },
    {
     "name": "stdout",
     "output_type": "stream",
     "text": [
      "Epoch 13/100, Loss: 0.006167226005345583, train dataset accuracy: 95.38833333333334\n",
      "test dataset accuracy: 94.72%\n"
     ]
    },
    {
     "name": "stderr",
     "output_type": "stream",
     "text": [
      "100%|██████████| 235/235 [00:01<00:00, 195.41it/s]\n"
     ]
    },
    {
     "name": "stdout",
     "output_type": "stream",
     "text": [
      "Epoch 14/100, Loss: 0.010388050228357315, train dataset accuracy: 95.43666666666667\n",
      "test dataset accuracy: 94.42%\n"
     ]
    },
    {
     "name": "stderr",
     "output_type": "stream",
     "text": [
      "100%|██████████| 235/235 [00:01<00:00, 187.03it/s]\n"
     ]
    },
    {
     "name": "stdout",
     "output_type": "stream",
     "text": [
      "Epoch 15/100, Loss: 0.007377623580396175, train dataset accuracy: 95.55666666666667\n",
      "test dataset accuracy: 94.92%\n"
     ]
    },
    {
     "name": "stderr",
     "output_type": "stream",
     "text": [
      "100%|██████████| 235/235 [00:01<00:00, 186.98it/s]\n"
     ]
    },
    {
     "name": "stdout",
     "output_type": "stream",
     "text": [
      "Epoch 16/100, Loss: 0.00862934347242117, train dataset accuracy: 95.51166666666667\n",
      "test dataset accuracy: 94.63%\n"
     ]
    },
    {
     "name": "stderr",
     "output_type": "stream",
     "text": [
      "100%|██████████| 235/235 [00:01<00:00, 193.75it/s]\n"
     ]
    },
    {
     "name": "stdout",
     "output_type": "stream",
     "text": [
      "Epoch 17/100, Loss: 0.013465013355016708, train dataset accuracy: 95.615\n",
      "test dataset accuracy: 94.61%\n"
     ]
    },
    {
     "name": "stderr",
     "output_type": "stream",
     "text": [
      "100%|██████████| 235/235 [00:01<00:00, 194.07it/s]\n"
     ]
    },
    {
     "name": "stdout",
     "output_type": "stream",
     "text": [
      "Epoch 18/100, Loss: 0.010508161969482899, train dataset accuracy: 95.65666666666667\n",
      "test dataset accuracy: 94.59%\n"
     ]
    },
    {
     "name": "stderr",
     "output_type": "stream",
     "text": [
      "100%|██████████| 235/235 [00:01<00:00, 196.02it/s]\n"
     ]
    },
    {
     "name": "stdout",
     "output_type": "stream",
     "text": [
      "Epoch 19/100, Loss: 0.004310153890401125, train dataset accuracy: 95.64833333333333\n",
      "test dataset accuracy: 94.61%\n"
     ]
    },
    {
     "name": "stderr",
     "output_type": "stream",
     "text": [
      "100%|██████████| 235/235 [00:01<00:00, 194.41it/s]\n"
     ]
    },
    {
     "name": "stdout",
     "output_type": "stream",
     "text": [
      "Epoch 20/100, Loss: 0.009669643826782703, train dataset accuracy: 95.605\n",
      "test dataset accuracy: 94.25%\n"
     ]
    },
    {
     "name": "stderr",
     "output_type": "stream",
     "text": [
      "100%|██████████| 235/235 [00:01<00:00, 194.50it/s]\n"
     ]
    },
    {
     "name": "stdout",
     "output_type": "stream",
     "text": [
      "Epoch 21/100, Loss: 0.009283133782446384, train dataset accuracy: 95.78\n",
      "test dataset accuracy: 94.63%\n"
     ]
    },
    {
     "name": "stderr",
     "output_type": "stream",
     "text": [
      "100%|██████████| 235/235 [00:01<00:00, 179.27it/s]\n"
     ]
    },
    {
     "name": "stdout",
     "output_type": "stream",
     "text": [
      "Epoch 22/100, Loss: 0.007344045210629702, train dataset accuracy: 95.81666666666666\n",
      "test dataset accuracy: 94.62%\n"
     ]
    },
    {
     "name": "stderr",
     "output_type": "stream",
     "text": [
      "100%|██████████| 235/235 [00:01<00:00, 195.87it/s]\n"
     ]
    },
    {
     "name": "stdout",
     "output_type": "stream",
     "text": [
      "Epoch 23/100, Loss: 0.002382304286584258, train dataset accuracy: 95.70166666666667\n",
      "test dataset accuracy: 94.56%\n"
     ]
    },
    {
     "name": "stderr",
     "output_type": "stream",
     "text": [
      "100%|██████████| 235/235 [00:01<00:00, 196.43it/s]\n"
     ]
    },
    {
     "name": "stdout",
     "output_type": "stream",
     "text": [
      "Epoch 24/100, Loss: 0.0059343380853533745, train dataset accuracy: 95.94166666666666\n",
      "test dataset accuracy: 94.31%\n"
     ]
    },
    {
     "name": "stderr",
     "output_type": "stream",
     "text": [
      "100%|██████████| 235/235 [00:01<00:00, 186.11it/s]\n"
     ]
    },
    {
     "name": "stdout",
     "output_type": "stream",
     "text": [
      "Epoch 25/100, Loss: 0.012722943909466267, train dataset accuracy: 95.86666666666666\n",
      "test dataset accuracy: 94.63%\n"
     ]
    },
    {
     "name": "stderr",
     "output_type": "stream",
     "text": [
      "100%|██████████| 235/235 [00:01<00:00, 194.89it/s]\n"
     ]
    },
    {
     "name": "stdout",
     "output_type": "stream",
     "text": [
      "Epoch 26/100, Loss: 0.0036880963016301394, train dataset accuracy: 95.90166666666667\n",
      "test dataset accuracy: 94.78%\n"
     ]
    },
    {
     "name": "stderr",
     "output_type": "stream",
     "text": [
      "100%|██████████| 235/235 [00:01<00:00, 193.06it/s]\n"
     ]
    },
    {
     "name": "stdout",
     "output_type": "stream",
     "text": [
      "Epoch 27/100, Loss: 0.014498733915388584, train dataset accuracy: 95.93666666666667\n",
      "test dataset accuracy: 94.78%\n"
     ]
    },
    {
     "name": "stderr",
     "output_type": "stream",
     "text": [
      "100%|██████████| 235/235 [00:01<00:00, 193.83it/s]\n"
     ]
    },
    {
     "name": "stdout",
     "output_type": "stream",
     "text": [
      "Epoch 28/100, Loss: 0.0072897812351584435, train dataset accuracy: 95.92666666666666\n",
      "test dataset accuracy: 94.5%\n"
     ]
    },
    {
     "name": "stderr",
     "output_type": "stream",
     "text": [
      "100%|██████████| 235/235 [00:01<00:00, 182.48it/s]\n"
     ]
    },
    {
     "name": "stdout",
     "output_type": "stream",
     "text": [
      "Epoch 29/100, Loss: 0.006575645878911018, train dataset accuracy: 95.95666666666666\n",
      "test dataset accuracy: 94.77%\n"
     ]
    },
    {
     "name": "stderr",
     "output_type": "stream",
     "text": [
      "100%|██████████| 235/235 [00:01<00:00, 194.13it/s]\n"
     ]
    },
    {
     "name": "stdout",
     "output_type": "stream",
     "text": [
      "Epoch 30/100, Loss: 0.005740493535995483, train dataset accuracy: 96.0\n",
      "test dataset accuracy: 94.52%\n"
     ]
    },
    {
     "name": "stderr",
     "output_type": "stream",
     "text": [
      "100%|██████████| 235/235 [00:01<00:00, 195.42it/s]\n"
     ]
    },
    {
     "name": "stdout",
     "output_type": "stream",
     "text": [
      "Epoch 31/100, Loss: 0.00910264439880848, train dataset accuracy: 96.04666666666667\n",
      "test dataset accuracy: 94.7%\n"
     ]
    },
    {
     "name": "stderr",
     "output_type": "stream",
     "text": [
      "100%|██████████| 235/235 [00:01<00:00, 187.74it/s]\n"
     ]
    },
    {
     "name": "stdout",
     "output_type": "stream",
     "text": [
      "Epoch 32/100, Loss: 0.010382452979683876, train dataset accuracy: 96.01333333333334\n",
      "test dataset accuracy: 94.29%\n"
     ]
    },
    {
     "name": "stderr",
     "output_type": "stream",
     "text": [
      "100%|██████████| 235/235 [00:01<00:00, 197.32it/s]\n"
     ]
    },
    {
     "name": "stdout",
     "output_type": "stream",
     "text": [
      "Epoch 33/100, Loss: 0.009079479612410069, train dataset accuracy: 96.085\n",
      "test dataset accuracy: 94.58%\n"
     ]
    },
    {
     "name": "stderr",
     "output_type": "stream",
     "text": [
      "100%|██████████| 235/235 [00:01<00:00, 195.55it/s]\n"
     ]
    },
    {
     "name": "stdout",
     "output_type": "stream",
     "text": [
      "Epoch 34/100, Loss: 0.005838801618665457, train dataset accuracy: 96.00166666666667\n",
      "test dataset accuracy: 94.39%\n"
     ]
    },
    {
     "name": "stderr",
     "output_type": "stream",
     "text": [
      "100%|██████████| 235/235 [00:01<00:00, 194.20it/s]\n"
     ]
    },
    {
     "name": "stdout",
     "output_type": "stream",
     "text": [
      "Epoch 35/100, Loss: 0.009251548908650875, train dataset accuracy: 95.98166666666667\n",
      "test dataset accuracy: 94.77%\n"
     ]
    },
    {
     "name": "stderr",
     "output_type": "stream",
     "text": [
      "100%|██████████| 235/235 [00:01<00:00, 188.16it/s]\n"
     ]
    },
    {
     "name": "stdout",
     "output_type": "stream",
     "text": [
      "Epoch 36/100, Loss: 0.004742220044136047, train dataset accuracy: 96.18666666666667\n",
      "test dataset accuracy: 94.11%\n"
     ]
    },
    {
     "name": "stderr",
     "output_type": "stream",
     "text": [
      "100%|██████████| 235/235 [00:01<00:00, 196.35it/s]\n"
     ]
    },
    {
     "name": "stdout",
     "output_type": "stream",
     "text": [
      "Epoch 37/100, Loss: 0.0024662993382662535, train dataset accuracy: 96.15\n",
      "test dataset accuracy: 94.4%\n"
     ]
    },
    {
     "name": "stderr",
     "output_type": "stream",
     "text": [
      "100%|██████████| 235/235 [00:01<00:00, 196.03it/s]\n"
     ]
    },
    {
     "name": "stdout",
     "output_type": "stream",
     "text": [
      "Epoch 38/100, Loss: 0.0072480556555092335, train dataset accuracy: 96.07833333333333\n",
      "test dataset accuracy: 94.49%\n"
     ]
    },
    {
     "name": "stderr",
     "output_type": "stream",
     "text": [
      "100%|██████████| 235/235 [00:01<00:00, 189.75it/s]\n"
     ]
    },
    {
     "name": "stdout",
     "output_type": "stream",
     "text": [
      "Epoch 39/100, Loss: 0.007577403448522091, train dataset accuracy: 96.0\n",
      "test dataset accuracy: 94.87%\n"
     ]
    },
    {
     "name": "stderr",
     "output_type": "stream",
     "text": [
      "100%|██████████| 235/235 [00:01<00:00, 194.44it/s]\n"
     ]
    },
    {
     "name": "stdout",
     "output_type": "stream",
     "text": [
      "Epoch 40/100, Loss: 0.007400310132652521, train dataset accuracy: 96.27833333333334\n",
      "test dataset accuracy: 94.33%\n"
     ]
    },
    {
     "name": "stderr",
     "output_type": "stream",
     "text": [
      "100%|██████████| 235/235 [00:01<00:00, 195.65it/s]\n"
     ]
    },
    {
     "name": "stdout",
     "output_type": "stream",
     "text": [
      "Epoch 41/100, Loss: 0.007987975142896175, train dataset accuracy: 96.10166666666667\n",
      "test dataset accuracy: 94.7%\n"
     ]
    },
    {
     "name": "stderr",
     "output_type": "stream",
     "text": [
      "100%|██████████| 235/235 [00:01<00:00, 188.51it/s]\n"
     ]
    },
    {
     "name": "stdout",
     "output_type": "stream",
     "text": [
      "Epoch 42/100, Loss: 0.004816249944269657, train dataset accuracy: 96.16166666666666\n",
      "test dataset accuracy: 94.82%\n"
     ]
    },
    {
     "name": "stderr",
     "output_type": "stream",
     "text": [
      "100%|██████████| 235/235 [00:01<00:00, 190.92it/s]\n"
     ]
    },
    {
     "name": "stdout",
     "output_type": "stream",
     "text": [
      "Epoch 43/100, Loss: 0.0020746171940118074, train dataset accuracy: 96.25333333333333\n",
      "test dataset accuracy: 94.76%\n"
     ]
    },
    {
     "name": "stderr",
     "output_type": "stream",
     "text": [
      "100%|██████████| 235/235 [00:01<00:00, 196.37it/s]\n"
     ]
    },
    {
     "name": "stdout",
     "output_type": "stream",
     "text": [
      "Epoch 44/100, Loss: 0.00944518856704235, train dataset accuracy: 96.29333333333334\n",
      "test dataset accuracy: 94.32%\n"
     ]
    },
    {
     "name": "stderr",
     "output_type": "stream",
     "text": [
      "100%|██████████| 235/235 [00:01<00:00, 197.03it/s]\n"
     ]
    },
    {
     "name": "stdout",
     "output_type": "stream",
     "text": [
      "Epoch 45/100, Loss: 0.003744427114725113, train dataset accuracy: 96.31\n",
      "test dataset accuracy: 94.7%\n"
     ]
    },
    {
     "name": "stderr",
     "output_type": "stream",
     "text": [
      "100%|██████████| 235/235 [00:01<00:00, 188.63it/s]\n"
     ]
    },
    {
     "name": "stdout",
     "output_type": "stream",
     "text": [
      "Epoch 46/100, Loss: 0.004633767064660788, train dataset accuracy: 96.30166666666666\n",
      "test dataset accuracy: 94.84%\n"
     ]
    },
    {
     "name": "stderr",
     "output_type": "stream",
     "text": [
      "100%|██████████| 235/235 [00:01<00:00, 194.43it/s]\n"
     ]
    },
    {
     "name": "stdout",
     "output_type": "stream",
     "text": [
      "Epoch 47/100, Loss: 0.009743181057274342, train dataset accuracy: 96.28666666666666\n",
      "test dataset accuracy: 94.64%\n"
     ]
    },
    {
     "name": "stderr",
     "output_type": "stream",
     "text": [
      "100%|██████████| 235/235 [00:01<00:00, 195.41it/s]\n"
     ]
    },
    {
     "name": "stdout",
     "output_type": "stream",
     "text": [
      "Epoch 48/100, Loss: 0.004903500434011221, train dataset accuracy: 96.31833333333333\n",
      "test dataset accuracy: 94.58%\n"
     ]
    },
    {
     "name": "stderr",
     "output_type": "stream",
     "text": [
      "100%|██████████| 235/235 [00:01<00:00, 180.94it/s]\n"
     ]
    },
    {
     "name": "stdout",
     "output_type": "stream",
     "text": [
      "Epoch 49/100, Loss: 0.010156186297535896, train dataset accuracy: 96.41\n",
      "test dataset accuracy: 94.39%\n"
     ]
    },
    {
     "name": "stderr",
     "output_type": "stream",
     "text": [
      "100%|██████████| 235/235 [00:01<00:00, 195.68it/s]\n"
     ]
    },
    {
     "name": "stdout",
     "output_type": "stream",
     "text": [
      "Epoch 50/100, Loss: 0.0048228418454527855, train dataset accuracy: 96.22333333333333\n",
      "test dataset accuracy: 94.66%\n"
     ]
    },
    {
     "name": "stderr",
     "output_type": "stream",
     "text": [
      "100%|██████████| 235/235 [00:01<00:00, 193.23it/s]\n"
     ]
    },
    {
     "name": "stdout",
     "output_type": "stream",
     "text": [
      "Epoch 51/100, Loss: 0.006507574580609798, train dataset accuracy: 96.31666666666666\n",
      "test dataset accuracy: 94.77%\n"
     ]
    },
    {
     "name": "stderr",
     "output_type": "stream",
     "text": [
      "100%|██████████| 235/235 [00:01<00:00, 197.36it/s]\n"
     ]
    },
    {
     "name": "stdout",
     "output_type": "stream",
     "text": [
      "Epoch 52/100, Loss: 0.002379768528044224, train dataset accuracy: 96.265\n",
      "test dataset accuracy: 94.79%\n"
     ]
    },
    {
     "name": "stderr",
     "output_type": "stream",
     "text": [
      "100%|██████████| 235/235 [00:01<00:00, 196.53it/s]\n"
     ]
    },
    {
     "name": "stdout",
     "output_type": "stream",
     "text": [
      "Epoch 53/100, Loss: 0.003057821886613965, train dataset accuracy: 96.35166666666667\n",
      "test dataset accuracy: 94.77%\n"
     ]
    },
    {
     "name": "stderr",
     "output_type": "stream",
     "text": [
      "100%|██████████| 235/235 [00:01<00:00, 195.74it/s]\n"
     ]
    },
    {
     "name": "stdout",
     "output_type": "stream",
     "text": [
      "Epoch 54/100, Loss: 0.007483976893126965, train dataset accuracy: 96.29\n",
      "test dataset accuracy: 94.73%\n"
     ]
    },
    {
     "name": "stderr",
     "output_type": "stream",
     "text": [
      "100%|██████████| 235/235 [00:01<00:00, 193.93it/s]\n"
     ]
    },
    {
     "name": "stdout",
     "output_type": "stream",
     "text": [
      "Epoch 55/100, Loss: 0.001159028965048492, train dataset accuracy: 96.46\n",
      "test dataset accuracy: 94.56%\n"
     ]
    },
    {
     "name": "stderr",
     "output_type": "stream",
     "text": [
      "100%|██████████| 235/235 [00:01<00:00, 180.99it/s]\n"
     ]
    },
    {
     "name": "stdout",
     "output_type": "stream",
     "text": [
      "Epoch 56/100, Loss: 0.005056334193795919, train dataset accuracy: 96.43666666666667\n",
      "test dataset accuracy: 94.71%\n"
     ]
    },
    {
     "name": "stderr",
     "output_type": "stream",
     "text": [
      "100%|██████████| 235/235 [00:01<00:00, 195.34it/s]\n"
     ]
    },
    {
     "name": "stdout",
     "output_type": "stream",
     "text": [
      "Epoch 57/100, Loss: 0.002947760047391057, train dataset accuracy: 96.48666666666666\n",
      "test dataset accuracy: 94.87%\n"
     ]
    },
    {
     "name": "stderr",
     "output_type": "stream",
     "text": [
      "100%|██████████| 235/235 [00:01<00:00, 197.09it/s]\n"
     ]
    },
    {
     "name": "stdout",
     "output_type": "stream",
     "text": [
      "Epoch 58/100, Loss: 0.003054750384762883, train dataset accuracy: 96.555\n",
      "test dataset accuracy: 94.72%\n"
     ]
    },
    {
     "name": "stderr",
     "output_type": "stream",
     "text": [
      "100%|██████████| 235/235 [00:01<00:00, 187.04it/s]\n"
     ]
    },
    {
     "name": "stdout",
     "output_type": "stream",
     "text": [
      "Epoch 59/100, Loss: 0.006823081988841295, train dataset accuracy: 96.42833333333333\n",
      "test dataset accuracy: 94.46%\n"
     ]
    },
    {
     "name": "stderr",
     "output_type": "stream",
     "text": [
      "100%|██████████| 235/235 [00:01<00:00, 194.58it/s]\n"
     ]
    },
    {
     "name": "stdout",
     "output_type": "stream",
     "text": [
      "Epoch 60/100, Loss: 0.0007987318676896393, train dataset accuracy: 96.51666666666667\n",
      "test dataset accuracy: 94.57%\n"
     ]
    },
    {
     "name": "stderr",
     "output_type": "stream",
     "text": [
      "100%|██████████| 235/235 [00:01<00:00, 194.94it/s]\n"
     ]
    },
    {
     "name": "stdout",
     "output_type": "stream",
     "text": [
      "Epoch 61/100, Loss: 0.008315439336001873, train dataset accuracy: 96.61666666666666\n",
      "test dataset accuracy: 94.59%\n"
     ]
    },
    {
     "name": "stderr",
     "output_type": "stream",
     "text": [
      "100%|██████████| 235/235 [00:01<00:00, 190.08it/s]\n"
     ]
    },
    {
     "name": "stdout",
     "output_type": "stream",
     "text": [
      "Epoch 62/100, Loss: 0.007571911904960871, train dataset accuracy: 96.41333333333333\n",
      "test dataset accuracy: 94.54%\n"
     ]
    },
    {
     "name": "stderr",
     "output_type": "stream",
     "text": [
      "100%|██████████| 235/235 [00:01<00:00, 186.87it/s]\n"
     ]
    },
    {
     "name": "stdout",
     "output_type": "stream",
     "text": [
      "Epoch 63/100, Loss: 0.007186683360487223, train dataset accuracy: 96.48\n",
      "test dataset accuracy: 94.35%\n"
     ]
    },
    {
     "name": "stderr",
     "output_type": "stream",
     "text": [
      "100%|██████████| 235/235 [00:01<00:00, 193.16it/s]\n"
     ]
    },
    {
     "name": "stdout",
     "output_type": "stream",
     "text": [
      "Epoch 64/100, Loss: 0.007077047601342201, train dataset accuracy: 96.425\n",
      "test dataset accuracy: 94.67%\n"
     ]
    },
    {
     "name": "stderr",
     "output_type": "stream",
     "text": [
      "100%|██████████| 235/235 [00:01<00:00, 192.62it/s]\n"
     ]
    },
    {
     "name": "stdout",
     "output_type": "stream",
     "text": [
      "Epoch 65/100, Loss: 0.0019893122371286154, train dataset accuracy: 96.425\n",
      "test dataset accuracy: 94.95%\n"
     ]
    },
    {
     "name": "stderr",
     "output_type": "stream",
     "text": [
      "100%|██████████| 235/235 [00:01<00:00, 186.95it/s]\n"
     ]
    },
    {
     "name": "stdout",
     "output_type": "stream",
     "text": [
      "Epoch 66/100, Loss: 0.004950927570462227, train dataset accuracy: 96.45166666666667\n",
      "test dataset accuracy: 94.68%\n"
     ]
    },
    {
     "name": "stderr",
     "output_type": "stream",
     "text": [
      "100%|██████████| 235/235 [00:01<00:00, 193.57it/s]\n"
     ]
    },
    {
     "name": "stdout",
     "output_type": "stream",
     "text": [
      "Epoch 67/100, Loss: 0.0013822279870510101, train dataset accuracy: 96.44833333333334\n",
      "test dataset accuracy: 94.5%\n"
     ]
    },
    {
     "name": "stderr",
     "output_type": "stream",
     "text": [
      "100%|██████████| 235/235 [00:01<00:00, 193.73it/s]\n"
     ]
    },
    {
     "name": "stdout",
     "output_type": "stream",
     "text": [
      "Epoch 68/100, Loss: 0.007805570960044861, train dataset accuracy: 96.59833333333333\n",
      "test dataset accuracy: 94.51%\n"
     ]
    },
    {
     "name": "stderr",
     "output_type": "stream",
     "text": [
      "100%|██████████| 235/235 [00:01<00:00, 184.39it/s]\n"
     ]
    },
    {
     "name": "stdout",
     "output_type": "stream",
     "text": [
      "Epoch 69/100, Loss: 0.003227752400562167, train dataset accuracy: 96.59833333333333\n",
      "test dataset accuracy: 94.68%\n"
     ]
    },
    {
     "name": "stderr",
     "output_type": "stream",
     "text": [
      "100%|██████████| 235/235 [00:01<00:00, 194.45it/s]\n"
     ]
    },
    {
     "name": "stdout",
     "output_type": "stream",
     "text": [
      "Epoch 70/100, Loss: 0.007140947971493006, train dataset accuracy: 96.485\n",
      "test dataset accuracy: 94.67%\n"
     ]
    },
    {
     "name": "stderr",
     "output_type": "stream",
     "text": [
      "100%|██████████| 235/235 [00:01<00:00, 192.63it/s]\n"
     ]
    },
    {
     "name": "stdout",
     "output_type": "stream",
     "text": [
      "Epoch 71/100, Loss: 0.0065094949677586555, train dataset accuracy: 96.52\n",
      "test dataset accuracy: 94.67%\n"
     ]
    },
    {
     "name": "stderr",
     "output_type": "stream",
     "text": [
      "100%|██████████| 235/235 [00:01<00:00, 192.49it/s]\n"
     ]
    },
    {
     "name": "stdout",
     "output_type": "stream",
     "text": [
      "Epoch 72/100, Loss: 0.004396965727210045, train dataset accuracy: 96.47333333333333\n",
      "test dataset accuracy: 94.26%\n"
     ]
    },
    {
     "name": "stderr",
     "output_type": "stream",
     "text": [
      "100%|██████████| 235/235 [00:01<00:00, 187.62it/s]\n"
     ]
    },
    {
     "name": "stdout",
     "output_type": "stream",
     "text": [
      "Epoch 73/100, Loss: 0.005802856758236885, train dataset accuracy: 96.5\n",
      "test dataset accuracy: 94.62%\n"
     ]
    },
    {
     "name": "stderr",
     "output_type": "stream",
     "text": [
      "100%|██████████| 235/235 [00:01<00:00, 193.55it/s]\n"
     ]
    },
    {
     "name": "stdout",
     "output_type": "stream",
     "text": [
      "Epoch 74/100, Loss: 0.010007328353822231, train dataset accuracy: 96.525\n",
      "test dataset accuracy: 94.72%\n"
     ]
    },
    {
     "name": "stderr",
     "output_type": "stream",
     "text": [
      "100%|██████████| 235/235 [00:01<00:00, 189.92it/s]\n"
     ]
    },
    {
     "name": "stdout",
     "output_type": "stream",
     "text": [
      "Epoch 75/100, Loss: 0.00998731516301632, train dataset accuracy: 96.68166666666667\n",
      "test dataset accuracy: 94.61%\n"
     ]
    },
    {
     "name": "stderr",
     "output_type": "stream",
     "text": [
      "100%|██████████| 235/235 [00:01<00:00, 187.16it/s]\n"
     ]
    },
    {
     "name": "stdout",
     "output_type": "stream",
     "text": [
      "Epoch 76/100, Loss: 0.007710133213549852, train dataset accuracy: 96.61\n",
      "test dataset accuracy: 94.78%\n"
     ]
    },
    {
     "name": "stderr",
     "output_type": "stream",
     "text": [
      "100%|██████████| 235/235 [00:01<00:00, 195.07it/s]\n"
     ]
    },
    {
     "name": "stdout",
     "output_type": "stream",
     "text": [
      "Epoch 77/100, Loss: 0.0024739482905715704, train dataset accuracy: 96.555\n",
      "test dataset accuracy: 94.46%\n"
     ]
    },
    {
     "name": "stderr",
     "output_type": "stream",
     "text": [
      "100%|██████████| 235/235 [00:01<00:00, 194.73it/s]\n"
     ]
    },
    {
     "name": "stdout",
     "output_type": "stream",
     "text": [
      "Epoch 78/100, Loss: 0.007340528070926666, train dataset accuracy: 96.66833333333334\n",
      "test dataset accuracy: 94.55%\n"
     ]
    },
    {
     "name": "stderr",
     "output_type": "stream",
     "text": [
      "100%|██████████| 235/235 [00:01<00:00, 193.21it/s]\n"
     ]
    },
    {
     "name": "stdout",
     "output_type": "stream",
     "text": [
      "Epoch 79/100, Loss: 0.004407560918480158, train dataset accuracy: 96.69\n",
      "test dataset accuracy: 94.35%\n"
     ]
    },
    {
     "name": "stderr",
     "output_type": "stream",
     "text": [
      "100%|██████████| 235/235 [00:01<00:00, 184.27it/s]\n"
     ]
    },
    {
     "name": "stdout",
     "output_type": "stream",
     "text": [
      "Epoch 80/100, Loss: 0.005931137595325708, train dataset accuracy: 96.62666666666667\n",
      "test dataset accuracy: 94.59%\n"
     ]
    },
    {
     "name": "stderr",
     "output_type": "stream",
     "text": [
      "100%|██████████| 235/235 [00:01<00:00, 195.37it/s]\n"
     ]
    },
    {
     "name": "stdout",
     "output_type": "stream",
     "text": [
      "Epoch 81/100, Loss: 0.005105060059577227, train dataset accuracy: 96.72166666666666\n",
      "test dataset accuracy: 94.91%\n"
     ]
    },
    {
     "name": "stderr",
     "output_type": "stream",
     "text": [
      "100%|██████████| 235/235 [00:01<00:00, 191.25it/s]\n"
     ]
    },
    {
     "name": "stdout",
     "output_type": "stream",
     "text": [
      "Epoch 82/100, Loss: 0.00455479184165597, train dataset accuracy: 96.73166666666667\n",
      "test dataset accuracy: 94.72%\n"
     ]
    },
    {
     "name": "stderr",
     "output_type": "stream",
     "text": [
      "100%|██████████| 235/235 [00:01<00:00, 178.23it/s]\n"
     ]
    },
    {
     "name": "stdout",
     "output_type": "stream",
     "text": [
      "Epoch 83/100, Loss: 0.00437571108341217, train dataset accuracy: 96.71\n",
      "test dataset accuracy: 94.55%\n"
     ]
    },
    {
     "name": "stderr",
     "output_type": "stream",
     "text": [
      "100%|██████████| 235/235 [00:01<00:00, 187.66it/s]\n"
     ]
    },
    {
     "name": "stdout",
     "output_type": "stream",
     "text": [
      "Epoch 84/100, Loss: 0.007641939911991358, train dataset accuracy: 96.75333333333333\n",
      "test dataset accuracy: 94.65%\n"
     ]
    },
    {
     "name": "stderr",
     "output_type": "stream",
     "text": [
      "100%|██████████| 235/235 [00:01<00:00, 192.02it/s]\n"
     ]
    },
    {
     "name": "stdout",
     "output_type": "stream",
     "text": [
      "Epoch 85/100, Loss: 0.008923660032451153, train dataset accuracy: 96.73666666666666\n",
      "test dataset accuracy: 94.51%\n"
     ]
    },
    {
     "name": "stderr",
     "output_type": "stream",
     "text": [
      "100%|██████████| 235/235 [00:01<00:00, 190.06it/s]\n"
     ]
    },
    {
     "name": "stdout",
     "output_type": "stream",
     "text": [
      "Epoch 86/100, Loss: 0.005027691833674908, train dataset accuracy: 96.78333333333333\n",
      "test dataset accuracy: 94.87%\n"
     ]
    },
    {
     "name": "stderr",
     "output_type": "stream",
     "text": [
      "100%|██████████| 235/235 [00:01<00:00, 182.80it/s]\n"
     ]
    },
    {
     "name": "stdout",
     "output_type": "stream",
     "text": [
      "Epoch 87/100, Loss: 0.0062407394871115685, train dataset accuracy: 96.71\n",
      "test dataset accuracy: 94.67%\n"
     ]
    },
    {
     "name": "stderr",
     "output_type": "stream",
     "text": [
      "100%|██████████| 235/235 [00:01<00:00, 192.67it/s]\n"
     ]
    },
    {
     "name": "stdout",
     "output_type": "stream",
     "text": [
      "Epoch 88/100, Loss: 0.010279634036123753, train dataset accuracy: 96.705\n",
      "test dataset accuracy: 94.44%\n"
     ]
    },
    {
     "name": "stderr",
     "output_type": "stream",
     "text": [
      "100%|██████████| 235/235 [00:01<00:00, 192.93it/s]\n"
     ]
    },
    {
     "name": "stdout",
     "output_type": "stream",
     "text": [
      "Epoch 89/100, Loss: 0.004927140660583973, train dataset accuracy: 96.87166666666667\n",
      "test dataset accuracy: 94.94%\n"
     ]
    },
    {
     "name": "stderr",
     "output_type": "stream",
     "text": [
      "100%|██████████| 235/235 [00:01<00:00, 186.30it/s]\n"
     ]
    },
    {
     "name": "stdout",
     "output_type": "stream",
     "text": [
      "Epoch 90/100, Loss: 0.00514200096949935, train dataset accuracy: 96.875\n",
      "test dataset accuracy: 94.69%\n"
     ]
    },
    {
     "name": "stderr",
     "output_type": "stream",
     "text": [
      "100%|██████████| 235/235 [00:01<00:00, 176.09it/s]\n"
     ]
    },
    {
     "name": "stdout",
     "output_type": "stream",
     "text": [
      "Epoch 91/100, Loss: 0.004617222584784031, train dataset accuracy: 96.785\n",
      "test dataset accuracy: 94.74%\n"
     ]
    },
    {
     "name": "stderr",
     "output_type": "stream",
     "text": [
      "100%|██████████| 235/235 [00:01<00:00, 177.33it/s]\n"
     ]
    },
    {
     "name": "stdout",
     "output_type": "stream",
     "text": [
      "Epoch 92/100, Loss: 0.0007234258810058236, train dataset accuracy: 96.79666666666667\n",
      "test dataset accuracy: 94.7%\n"
     ]
    },
    {
     "name": "stderr",
     "output_type": "stream",
     "text": [
      "100%|██████████| 235/235 [00:01<00:00, 182.88it/s]\n"
     ]
    },
    {
     "name": "stdout",
     "output_type": "stream",
     "text": [
      "Epoch 93/100, Loss: 0.005770883988589048, train dataset accuracy: 96.78\n",
      "test dataset accuracy: 94.6%\n"
     ]
    },
    {
     "name": "stderr",
     "output_type": "stream",
     "text": [
      "100%|██████████| 235/235 [00:01<00:00, 192.03it/s]\n"
     ]
    },
    {
     "name": "stdout",
     "output_type": "stream",
     "text": [
      "Epoch 94/100, Loss: 0.008332793600857258, train dataset accuracy: 96.82\n",
      "test dataset accuracy: 94.51%\n"
     ]
    },
    {
     "name": "stderr",
     "output_type": "stream",
     "text": [
      "100%|██████████| 235/235 [00:01<00:00, 193.15it/s]\n"
     ]
    },
    {
     "name": "stdout",
     "output_type": "stream",
     "text": [
      "Epoch 95/100, Loss: 0.007040050812065601, train dataset accuracy: 96.69333333333333\n",
      "test dataset accuracy: 94.64%\n"
     ]
    },
    {
     "name": "stderr",
     "output_type": "stream",
     "text": [
      "100%|██████████| 235/235 [00:01<00:00, 176.83it/s]\n"
     ]
    },
    {
     "name": "stdout",
     "output_type": "stream",
     "text": [
      "Epoch 96/100, Loss: 0.004680722486227751, train dataset accuracy: 96.875\n",
      "test dataset accuracy: 94.55%\n"
     ]
    },
    {
     "name": "stderr",
     "output_type": "stream",
     "text": [
      "100%|██████████| 235/235 [00:01<00:00, 167.18it/s]\n"
     ]
    },
    {
     "name": "stdout",
     "output_type": "stream",
     "text": [
      "Epoch 97/100, Loss: 0.0055114394053816795, train dataset accuracy: 96.84\n",
      "test dataset accuracy: 94.48%\n"
     ]
    },
    {
     "name": "stderr",
     "output_type": "stream",
     "text": [
      "100%|██████████| 235/235 [00:01<00:00, 180.89it/s]\n"
     ]
    },
    {
     "name": "stdout",
     "output_type": "stream",
     "text": [
      "Epoch 98/100, Loss: 0.0035498447250574827, train dataset accuracy: 96.83833333333334\n",
      "test dataset accuracy: 94.5%\n"
     ]
    },
    {
     "name": "stderr",
     "output_type": "stream",
     "text": [
      "100%|██████████| 235/235 [00:01<00:00, 178.33it/s]\n"
     ]
    },
    {
     "name": "stdout",
     "output_type": "stream",
     "text": [
      "Epoch 99/100, Loss: 0.009189063683152199, train dataset accuracy: 96.77833333333334\n",
      "test dataset accuracy: 94.55%\n"
     ]
    }
   ],
   "source": [
    "model = model\n",
    "lay = []\n",
    "for n, i in model.named_children():\n",
    "    print(type(i).__name__)\n",
    "    if type(i).__name__ == \"Linear\":\n",
    "        lay.append((n, i))\n",
    "\n",
    "acc = []\n",
    "\n",
    "num_epochs = 100  \n",
    "for epoch in range(num_epochs):\n",
    "    ttot = 0\n",
    "    tcorr = 0\n",
    "    for b in tqdm(trainloader):\n",
    "        xt, y = b[0], b[1]\n",
    "        optimizer.zero_grad() \n",
    "        outputs = model(xt)  \n",
    "        loss = criterion(outputs, y) \n",
    "        \n",
    "        loss.backward() \n",
    "        optimizer.step() \n",
    "    \n",
    "        _, y = torch.max(y.data, 1)\n",
    "        _, pred = torch.max(outputs.data, 1)\n",
    "        ttot += y.shape[0]\n",
    "        tcorr += (pred == y).sum().item()\n",
    "    \n",
    "    # for i in range(len(lay)):\n",
    "    #     if i > 0 and i <= len(lay)-1:\n",
    "    #         di = neuronalNeuralBalance(lay[i-1][1], lay[i][1])\n",
    "\n",
    "    print(f'Epoch {epoch}/{num_epochs}, Loss: {loss.item()}, train dataset accuracy: {100*tcorr/ttot}')\n",
    "        \n",
    "    tot = 0\n",
    "    corr = 0\n",
    "\n",
    "    with torch.no_grad():\n",
    "        for i in testloader:\n",
    "            xt, y = i[0], i[1]\n",
    "            outputs = model(xt)  \n",
    "            _, y = torch.max(y.data, 1)\n",
    "            _, pred = torch.max(outputs.data, 1)\n",
    "            tot += y.shape[0]\n",
    "            corr += (pred == y).sum().item()\n",
    "    print(f'test dataset accuracy: {100*corr/tot}%')\n",
    "    acc.append(corr/tot)\n"
   ]
  },
  {
   "cell_type": "code",
   "execution_count": 7,
   "metadata": {},
   "outputs": [
    {
     "data": {
      "image/png": "[encoded data removed]",
      "text/plain": [
       "<Figure size 2500x500 with 3 Axes>"
      ]
     },
     "metadata": {},
     "output_type": "display_data"
    }
   ],
   "source": [
    "import matplotlib.pyplot as plt\n",
    "\n",
    "fc_weights = model.fc.weight.cpu().detach().numpy().flatten()\n",
    "fc2_weights = model.fc2.weight.cpu().detach().numpy().flatten()\n",
    "out_weights = model.out.weight.cpu().detach().numpy().flatten()\n",
    "\n",
    "bins = np.linspace(-0.5, 0.5, 50) \n",
    "fc_hist, fc_bins = np.histogram(fc_weights, bins=bins)\n",
    "fc2_hist, fc2_bins = np.histogram(fc2_weights, bins=bins)\n",
    "out_hist, out_bins = np.histogram(out_weights, bins=bins)\n",
    "\n",
    "fc_bin_centers = 0.5 * (fc_bins[:-1] + fc_bins[1:])\n",
    "fc2_bin_centers = 0.5 * (fc2_bins[:-1] + fc2_bins[1:])\n",
    "out_bin_centers = 0.5 * (out_bins[:-1] + out_bins[1:])\n",
    "\n",
    "plt.figure(figsize=(25, 5))\n",
    "\n",
    "plt.subplot(1, 3, 1)\n",
    "plt.plot(fc_bin_centers, fc_hist, marker='o', linestyle='-', color='b')\n",
    "plt.title('Weight Distribution: Input to Hidden1 Layer')\n",
    "plt.xlabel('Weight Value')\n",
    "plt.ylabel('Frequency')\n",
    "\n",
    "plt.subplot(1, 3, 2)\n",
    "plt.plot(fc2_bin_centers, fc2_hist, marker='o', linestyle='-', color='g')\n",
    "plt.title('Weight Distribution: hidden 1 to hidden 2 Layer')\n",
    "plt.xlabel('Weight Value')\n",
    "plt.ylabel('Frequency')\n",
    "\n",
    "plt.subplot(1, 3, 3)\n",
    "plt.plot(out_bin_centers, out_hist, marker='o', linestyle='-', color='g')\n",
    "plt.title('Weight Distribution: Hidden2 to Output Layer')\n",
    "plt.xlabel('Weight Value')\n",
    "plt.ylabel('Frequency')\n",
    "\n",
    "plt.tight_layout()\n",
    "plt.show()\n"
   ]
  },
  {
   "cell_type": "code",
   "execution_count": 8,
   "metadata": {},
   "outputs": [
    {
     "name": "stdout",
     "output_type": "stream",
     "text": [
      "Number of non-zero weights greater than 0.01 in layer 1: 364053\n",
      "Number of non-zero weights greater than 0.01 in layer 1: 7534\n",
      "Number of non-zero weights greater than 0.01 in layer 3: 599\n"
     ]
    }
   ],
   "source": [
    "import torch\n",
    "\n",
    "def count_nonzero_weights_above_threshold(layer, threshold=0.01):\n",
    "    return torch.sum(torch.abs(layer.weight) > threshold).item()\n",
    "\n",
    "threshold_value = 0.01 \n",
    "\n",
    "nonzero_fc1 = count_nonzero_weights_above_threshold(model.fc, threshold=threshold_value)\n",
    "nonzero_fc2 = count_nonzero_weights_above_threshold(model.fc2, threshold=threshold_value)\n",
    "nonzero_fc3 = count_nonzero_weights_above_threshold(model.out, threshold=threshold_value)\n",
    "\n",
    "print(f'Number of non-zero weights greater than {threshold_value} in layer 1: {nonzero_fc1}')\n",
    "print(f'Number of non-zero weights greater than {threshold_value} in layer 1: {nonzero_fc2}')\n",
    "print(f'Number of non-zero weights greater than {threshold_value} in layer 3: {nonzero_fc3}')"
   ]
  },
  {
   "cell_type": "code",
   "execution_count": 9,
   "metadata": {},
   "outputs": [
    {
     "name": "stdout",
     "output_type": "stream",
     "text": [
      "[0.673019307634971, 0.7444903269946196, 0.7712721603146088, 0.6785834901856918, 0.633811157493597, 0.7410533957368448, 0.7663234130975418, 0.6830031696468474, 0.6799179561875545, 0.7013388943251231, 0.677128595823347, 0.6919857470677464, 0.7509077533814529, 0.8053593304256329, 0.6918406447617507, 0.7485484381531314, 0.7553491141901286, 0.7267541737782163, 0.6341312937373657, 0.7122704955286792, 0.6861299574798704, 0.6795257423158015, 0.6656314906217451, 0.6247665199150916, 0.6819428879421184, 0.6833442783965181, 0.6223315383807756, 0.6804397442998649, 0.6556474106988248, 0.7291670512225584, 0.7414026477300656, 0.7322703507987068, 0.7167734532167802, 0.7416496199358257, 0.6888143106187496, 0.694036225825422, 0.7177613436680436, 0.613305688172306, 0.6895909021982688, 0.6759559481011509, 0.6742940684638611, 0.6525844644553103, 0.8285126784913782, 0.6584048887877925, 0.7682748239066097, 0.6662851816099731, 0.6853569633992794, 0.6963569464252295, 0.7282560936210761, 0.650942498992104, 0.7625130195554499, 0.675556158018437, 0.7239384547153114, 0.6675465354141693, 0.6637129894210844, 0.6867010108129757, 0.7457029772972849, 0.659926107537678, 0.6821807783151616, 0.660675670850217, 0.7298828915840222, 0.7772092206063959, 0.680549275387181, 0.6657195408312889, 0.6786851770746135, 0.7731844419875397, 0.6116718626744667, 0.6094412158904976, 0.7749981890478015, 0.7218531962389648, 0.8807227878861453, 0.6524805363223771, 0.7033304250818435, 0.7316505967967195, 0.6762243656136436, 0.6689894097206727, 0.6569632183734088, 0.6840381595029605, 0.7742690324047241, 0.738505138039712, 0.7047647680728161, 0.627355298032238, 0.8115905447201023, 0.6786843168972073, 0.6382270581127357, 0.6920225795605031, 0.6228721506717092, 0.6886957991554274, 0.7606807124044138, 0.6447200345870957, 0.7561659225721712, 0.8072339037968995, 0.8120102145623841, 0.6734139988278273, 0.6413341305131034, 0.7034418847042503, 0.667209478917172, 0.6679222017321592, 0.6931155043033289, 0.7116947854554037, 0.6689188032039337, 0.6934461387875692, 0.6197041335352116, 0.6875530462904665, 0.6769437461412117, 0.6713524326967373, 0.6339149256247129, 0.6953549500089747, 0.5001433709448169, 0.6632875768141611, 0.6458258515418291, 0.6811596020305801, 0.6916415930099422, 0.6712632287028215, 0.697660055218498, 0.7726846947485544, 0.7149959598844193, 0.7729724848711569, 0.6295418476041925, 0.6971933482785915, 0.6917661785577165, 0.6659070507320022, 0.6929737676700639, 0.23876228344550093, 0.6499786673736192, 0.7463460969499613, 0.764610774608787, 0.7844773466138141, 0.652559230650665, 0.7071499928324276, 0.6737979366942358, 0.6742827543495246, 0.20077500716723623, 0.6963200239440891, 0.8108040764613794, 0.7189038661005592, 0.6745584551440753, 0.6294225485095376, 0.7333343452953468, 0.2836629520859709, 0.6469940226127636, 0.6752724744225193, 0.702213807303227, 0.692647800933514, 0.7135151983299807, 0.6992079603462077, 0.7105418670343082, 0.6898557652738101, 0.695065151855711, 0.6973536113791585, 0.702509046107643, 0.7697160003148691, 0.7435139509729567, 0.6735143811629161, 0.6658353344977678, 0.8048203535495806, 0.2936331521635005, 0.6908406416832824, 0.6767518819038302, 0.7023006177307112, 0.6812660487190891, 0.8225508171328497, 0.6661257334603755, 0.6943963084887624, 0.6682114367033537, 0.6771216916475664, 0.661046582593439, 0.6728690001308304, 0.5799393121285917, 0.7022985773753297, 0.7014554759736178, 0.6265800558957304, 0.22669137593279876, 0.7266933544522942, 0.704813166236899, 0.6191722100069497, 0.6878632358357275, 0.7525615741833095, 0.6609118889720598, 0.6045145668945925, 0.6638387896766541, 0.6734100735199499, 0.6347015593916809, 0.69361519974306, 0.6908062816008096, 0.6841559903575866, 0.6853244006686879, 0.7779745454959842, 0.6787407289140002, 0.7016160830804891, 0.6796244470969356, 0.7031509630172023, 0.6668922731095558, 0.6711630619637882, 0.8043902983821929, 0.7256917880751731, 0.7915056988591094, 0.758096836576534, 0.7149204918188329, 0.7068483068186816, 0.7338432417492395, 0.7065770579180732, 0.6746689345133119, 0.6201645422489345, 0.6628649070122548, 0.6987898148840522, 0.6768361083649113, 0.6994387085831155, 0.7057721321772122, 0.6596701102889052, 0.7299474824266265, 0.7060591249658247, 0.694149829280286, 0.7697385686191918, 0.7187369869822259, 0.7398429924838187, 0.6825376601229047, 0.6896101829910866, 0.713756336380991, 0.6885398931866891, 0.6890973255393947, 0.7552859610556176, 0.6631585833380257, 0.670680898569261, 0.7265662448400697, 0.8011414917674927, 0.6791252454081906, 0.762454731346689, 0.6598100391211501, 0.650178403694952, 0.7882372212931555, 0.6923737384385468, 0.712618771340375, 0.7464374403742855, 0.7953176755778214, 0.6627037282196002, 0.6718379460122726, 0.6926700001179271, 0.6509889521527323, 0.6576474157760218, 0.7659499102054661, 0.679523313697861, 0.6720990384046093, 0.6565540087103932, 0.7079264925885133, 0.6773350120364583, 0.6902880253978181, 0.6625278883087711, 0.6997960010309558, 0.6827155463260147, 0.6704193381355483, 0.62960728990724, 0.7129379507673101, 0.6901851080455428, 0.6963631406154597, 0.6930604180580558, 0.7015017196723679, 0.7029064398047856, 0.7032128897484898, 0.7204514337036545, 0.7807759634174444, 0.696628073953687, 0.7011498082646925, 0.674680815736234, 0.7408083467757024, 0.8248314106242183, 0.7024368808217759, 0.8228074501768772, 0.7253754550745022, 0.6492302262377653, 0.5911652046941842, 0.6929777150399137, 0.7232682908707625, 0.6615765464411439, 0.7285630337608978, 0.7241873187314692, 0.6887853759584073, 0.6671438682693902, 0.6983807985413324, 0.28982229536381166, 0.7059404313571802, 0.8186925386812914, 0.6957450722587557, 0.7226728648299544, 0.6993742350067489, 0.7075026597543821, 0.6301819500402955, 0.7152110664179268, 0.7093222425675106, 0.7121927090978843, 0.6628422769047984, 0.748471635451679, 0.6890615815002048, 0.6644416885525443, 0.7239170819659789, 0.694335012631049, 0.7144093892256125, 0.7201425787979329, 0.7398876068610335, 0.7564450561042685, 0.6867056833820285, 0.6877739503486054, 0.7255061432415004, 0.6910629341425663, 0.6890396651979291, 0.7092239327547714, 0.6719297270342974, 0.7096311245466762, 0.6586225934000746, 0.6950447278818561, 0.669278313498895, 0.6823927330637677, 0.8090350331285664, 0.7859674820243502, 0.6860031587570218, 0.7030088105445189, 0.7608999144697035, 0.6691447920049824, 0.6888164385395061, 0.673487792701347, 0.6954180833443064, 0.7482783462874142, 0.7170058479528298, 0.6940383681837856, 0.7046334156934564, 0.6857856446206348, 0.7088832955200586, 0.6377812121688121, 0.7091810411424192, 0.6588996875830113, 0.851798761911655, 0.6932974354723227, 0.6930599564698506, 0.7269644991369897, 0.6989208666070315, 0.5886976754979623, 0.6868660964562621, 0.7485244942056019, 0.6481862629044268, 0.6808587477973952, 0.7004086680690578, 0.7378962539962439, 0.7527994049512262, 0.7304113185753868, 0.7083905950416339, 0.6773375694940968, 0.7300707560147675, 0.7183040906065606, 0.7034119531434828, 0.6817528849344657, 0.6778550691588423, 0.7039851163236548, 0.6587407757060807, 0.680153609728435, 0.6589017453800692, 0.6706909071610685, 0.6302343214692991, 0.7522133346641595, 0.7623000425269565, 0.6862490193574801, 0.6652115138633097, 0.6783647026206324, 0.6991538275062689, 0.6917586864499109, 0.8134147381381089, 0.682960641818082, 0.6858915220903543, 0.656803006974402, 0.6766059058290234, 0.7337572761095253, 0.7486747168940175, 0.7014097631749933, 0.7449398054482134, 0.6412779657377211, 0.796284415535186, 0.67766623518579, 0.7135931600641675, 0.6914654583710447, 0.6525178989946095, 0.7890398105991873, 0.6852375641852568, 0.6663971243785212, 0.6816156122687916, 0.7618918442116546, 0.6870748508956875, 0.21229500809972318, 0.7176498243756865, 0.6857205735594932, 0.6827997257897408, 0.6671877464193894, 0.6849729548016772, 0.684800873536736, 0.724749770189923, 0.7970465968267356, 0.25802495430033356, 0.681889556921034, 0.6802613215156015, 0.7308970976792432, 0.7082772540809025, 0.6701978415391762, 0.6434057508439538, 0.6907360998786383, 0.6759586253608048, 0.7686662243207862, 0.6799125880392216, 0.6722287844668322, 0.7323012791665489, 0.8990295313123505, 0.7183463624300191, 0.7589908106884532, 0.700920053623112, 0.7496498896559447, 0.706295933085978, 0.7745739699137761, 0.6983795486090321, 0.7566354697409787, 0.7077611605863379, 0.7019758901542787, 0.7800902195866227, 0.6807343055132212, 0.6424762857971187, 0.7705009136097691, 0.711494947021368, 0.6948788102150513, 0.6789671914005553, 0.7033419489367385, 0.7551997811862867, 0.6803070030721174, 0.7020896997512324, 0.7376014234819619, 0.8259210371879246, 0.6907868782167795, 0.6766906205936865, 0.757371695485084, 0.7683324502326236, 0.6155554314022748, 0.7856815891114376, 0.6759095483713409, 0.7386297149339429, 0.6656369123793056, 0.8287153247723439, 0.6970466281963373, 0.6728873977806205, 0.7529598573506505, 0.7237105696871177, 0.347877295387553, 0.7243253080316481, 0.7064812665613036, 0.7175569155115582, 0.8359952904671858, 0.7655307220128585, 0.6966510680968905, 0.7151958682717813, 0.6602177408919614, 0.6727894789596702, 0.8429519851978741, 0.733827410708449, 0.6897444531102144, 0.699843095942381, 0.667770242322369, 0.6825158733848224, 0.7087050590604107, 0.7229573334626158, 0.6662019726846851, 0.6591181614841799, 0.7524334515662358, 0.7286188087754362, 0.696941336243372, 0.7019216553957858, 0.7167813450489108, 0.7040828793466721, 0.7775216736486836, 0.6668908646689176, 0.6863199345999741, 0.6986074377992564, 0.6089546733385257, 0.6835126374145573, 0.7300841193845514, 0.6916741251410974, 0.6713163555136185, 0.601768785675093, 0.6722532523797213, 0.6192193644339625, 0.7999586654427172, 0.7704347543752124, 0.6870879512634068, 0.6825657003549185, 0.6916048053871906, 0.6784280059869713, 0.6997794305832115, 0.6878726057033482, 0.6934122464812416, 0.668544070976553, 0.6788123403937399, 0.6911716792308041, 0.689390347114991, 0.6619061720904161, 0.680523379301211, 0.6808767040038495, 0.6894113803054703, 0.667674604645505, 0.6507179727315698, 0.2449421723655017, 0.708663690660619, 0.6663014109169894, 0.7116883603584981, 0.6917783003068058, 0.7417867872695656, 0.6654259250235904, 0.630338728785674, 0.719102974074271, 0.7015384189967787]\n",
      "torch.Size([512])\n",
      "[1.230085079934212, 1.3087834889028107, 0.6389946647595041, 0.5043923510101598, 0.5195160358023607, 0.6117179534091726, 0.5355096147644143, 1.766030092198329, 0.6961789302075332, 0.5149047492868625, 0.4883991466829009, 0.6490228381448258, 0.5159809840990225, 1.8355544114127866, 0.5219794873604826, 0.5963107550245406, 0.4582445406261721, 0.50456125316324, 0.5400802358998265, 0.4566999008278162, 0.4626835303471317, 0.7103874961220004, 0.4646039701583793, 0.536721994894851, 0.926319618492231, 0.5563206693328168, 0.5777465994656864, 0.5001139745790065, 0.6243774377584125, 0.5747887318301277, 0.5176099773663899, 1.1980602854669182, 0.5894837538528019, 0.5030242064547115, 0.5742224793429108, 0.5276555428680948, 0.6303464606789028, 0.47017229122714416, 0.8350399117814957, 0.4726028486563295, 1.1615657359294114, 2.855128407438711, 0.5133803125496945, 1.2738918507816455, 0.4821090591891712, 0.46590214615062164, 0.5959062116086913, 0.5409845067287634, 0.6944926842270318, 0.5330412897241649, 0.5495814758122557, 1.483315663473181, 0.5159988056101411, 0.44586194407156204, 0.5875531487049852, 0.7558700821271798, 0.7236825637339794, 0.5319461558990188, 0.542882813616747, 1.5983902437564492, 0.779292947700023, 0.5526992075835457, 0.6386153060777252, 0.5793201630239375, 0.6084471411493351, 0.580399470737032, 0.4817328381161938, 0.5519608940047457, 1.742267812610093, 0.8560794296879741, 0.6262779029059757, 0.47933187087605145, 0.4990937942817218, 0.6638526809418901, 0.5811586796636934, 1.1706325779639597, 2.761302248284583, 0.5104248958125758, 1.5568704749489979, 0.5422588258565233, 0.6083624443595557, 0.5365064673743652, 0.46471359216451713, 0.5769486401921724, 0.8317667513373856, 0.5273852076624, 0.6850871598431898, 1.2191989946055377, 0.49121040302601354, 1.245598595771191, 1.1940515620314849, 0.5731706924130106, 0.5223257130991917, 0.9063443244488663, 0.5236285853860234, 0.5528380453952418, 0.5485738001801675, 0.9683844823740855, 2.0744557650335413, 0.5018030911816317, 0.4487866037748506, 0.6108125554824126, 0.48549149599132596, 0.6121853393791942, 0.7215406077251224, 0.6388598341541314, 0.5507429066031525, 0.49172621047100107, 0.5002761374677691, 0.9598141998328749, 0.879474888752942, 1.8447646011193408, 0.5887043307614601, 2.4688571148049943, 0.6241054722609318, 2.1697218257204294, 1.3600200725803056, 0.47027931982678833, 0.6048484161011566, 0.5497573100980129, 0.48987194924510824, 1.0748787103003568, 1.2450647919756392, 0.615601671040767, 0.7115469666364771, 0.489066821193629, 1.0123908261349939, 0.5750312697146686, 0.5209028988931637, 0.5088290701909872, 0.5957848498178898, 0.551907429810083, 0.6209294857478309, 0.5848299583647433, 0.8566650462069664, 0.5051231200393521, 0.5136330367170797, 0.46329208914986914, 0.8889375495234665, 1.7378939534842754, 0.9607741724541987, 0.5202197448265997, 0.7285374789425071, 0.5389693560864707, 0.5992265759675451, 0.4970709480856648, 0.5822608893688246, 1.1114704965399818, 1.0019545815233506, 0.8755515282052558, 0.6379995476197359, 0.48744586637345816, 0.5238572417398802, 0.7978868286870681, 0.41682981255476603, 0.6051084692665459, 0.8540701303002662, 0.4829318320180985, 0.5406966944608386, 1.0554220072946632, 0.6853761136993453, 0.5442110634447459, 0.5098620795973835, 0.49436412951570113, 0.6295253807779675, 0.691457344294648, 0.5529541811793325, 0.5905823059533585, 0.912396451130647, 0.48146533509182726, 1.8794567375163833, 0.7033600734790056, 0.5407701987179641, 0.5153554111029859, 0.5443315510686365, 0.7226502915036565, 0.5787347142983805, 0.4250706772300379, 0.9880153539848882, 0.5439318296343653, 1.6171198878299584, 0.4983542618868292, 0.6094668925005472, 0.6352977472862783, 0.9953512304850667, 0.8505706505771471, 0.5405395999450362, 0.5952045455953819, 0.5778683089420992, 0.630012128738622, 1.0111258478627516, 0.5116062593045119, 0.6000324213733594, 1.0734713313451896, 0.5555810193768144, 0.466944164065644, 0.5518802381134658, 0.5314713558143815, 0.8839646227934008, 0.5064409352700139, 0.6438351455058655, 0.4870547441387691, 1.3514463445361484, 0.49730772166522885, 0.6606041631319883, 0.49531320349807023, 0.49490766406948006, 1.7207864838150717, 1.1862892585057074, 0.47884603057750325, 0.6013903543187161, 1.398988638046948, 1.4986643974640916, 0.6906330411961803, 0.6627319960543717, 0.4892292710310665, 0.7737852122368967, 0.636567258464516, 0.5690620219539576, 0.9638761796817343, 0.5130450985855893, 0.4987045772271289, 0.47561319222714066, 0.5687619984841573, 0.61561098861092, 0.5426292069099036, 0.5222023717600945, 0.5740471972305891, 1.4481021054855996, 0.5368418297447999, 3.217109889046008, 2.0957267247983613, 0.7508996072805674, 0.48173121773083205, 0.5418732009582635, 0.5991527225152693, 0.470537275073356, 0.683076306632521, 0.5860421470370637, 0.5749708051830008, 0.51583722120013, 0.5507005472652008, 0.6008498581262282, 1.8859088050067714, 0.9802783285106225, 0.4710235533668153, 0.6413276988021548, 0.5738367171777013, 0.6056226758133327, 0.6332650644358869, 0.6959396020491068, 0.6104407679958964, 0.6968844876160216, 0.6891034805470638, 1.763511186680748, 1.1069055384678392]\n",
      "torch.Size([256])\n",
      "[0.2154291510268925, 0.5534142841815254, 0.5948028811082514, 0.3688575955949597, 0.3361102878784, 0.7398237483463354, 0.41177590143693793, 0.47264613080112033, 0.5381171857985427, 0.506456155376239, 0.5523764734640536, 0.37085551203165984, 0.5680291303457279, 0.4447118250041242, 0.4277761648517082, 0.5302935878239603, 0.4718460971068841, 0.42544572478970105, 0.48294139626919563, 0.2936383508725582, 0.5182165336876724, 0.4365581905458804, 0.88485386389297, 0.38276832911622605, 0.4635053979020158, 0.49904756755030494, 0.4076118435081871, 0.4319466753498533, 0.5878695731074371, 0.60616749024121, 0.43760212187102715, 0.34826470203165016, 0.4144184087668615, 0.34309117128300937, 0.30834590906009046, 0.3731516370906677, 0.5900672975336143, 0.321766165836733, 0.4289299575147457, 0.5937124122494861, 0.4173550247317974, 0.4409614764869729, 0.3688512197537912, 0.38924368022842326, 0.5209057611350916, 0.47363159063953253, 0.6043120071750115, 0.4585167936977785, 0.3728895448922931, 0.4754661571673961, 0.5364088607331902, 0.43798430041371245, 0.31752564295613706, 0.32116971490885793, 0.4745307159941865, 0.45310335707613186, 0.3190694671645744, 0.34561332752196267, 0.4662151210143976, 0.45231799092908687, 0.5235573825767794, 0.35308784849850483, 0.4066127229689998, 0.4915477257638374, 0.335415190744375, 0.5174428077524259, 0.27423288966539994, 0.5328368218720952, 0.5591069979059731, 0.2910698048820729, 0.3053579713868811, 0.31462337428989673, 0.37987209630184277, 0.2411020025685103, 0.3665963439332942, 0.491854870259445, 0.49348444110451867, 0.40677648161953944, 0.3500196134108616, 0.4004796221188198, 0.3306353241422285, 0.6554993616720242, 0.36763118093561636, 0.6452509515053771, 0.5253879174416509, 0.6255298822036641, 0.44545114474449315, 0.5381637555229215, 0.638815581599102, 0.6363904817360836, 0.3893149325271759, 0.3245980871681437, 0.6136730402010389, 0.5499815129119546, 0.4272610601434156, 0.4861715735239193, 0.3480584737856167, 0.35757032814007006, 0.4109313120938728, 0.34077885631994753, 0.7683335816134794, 0.35127004732912326, 0.4906396917088163, 0.5435363307607007, 0.6439079673966527, 0.6780372052690167, 0.5115624153013067, 0.5486834878615845, 0.6354884883038542, 0.4396283641193399, 0.46658859008939907, 0.3904978897161675, 0.18598672786324974, 0.4947493758192744, 0.36510910360850624, 0.5540659638894215, 0.31954183681295606, 0.49371178477367933, 0.5758791078030838, 0.2655674022193696, 0.43731793122040313, 0.542098804026964, 0.46895886515219026, 0.3973134176926643, 0.3765748166146047, 0.4062966909494702, 0.5789327731174461, 0.44803677771540584]\n",
      "torch.Size([128])\n",
      "[0.26194308444442344, 0.2925483206335524, 0.3724656627614688, 0.5221600669592283, 0.19700825384513243, 0.17313671652783288, 0.09861592724504033, 0.2524829015316261, 0.044367279886640666, 0.3730048370796246, 0.27209054266675275, 0.3018489696784818, 0.1191511757541692, 0.18624980371039113, 0.09460302342630851, 0.17234558340600853, 0.6432609772936523, 1.1509097277380238, 0.16007624774850557, 0.09369293970730297, 0.49672183135983006, 0.2712053259588657, 0.2091871835140151, 0.09838797348635892, 0.08771406837477716, 0.11907112402928222, 0.18730280431199578, 0.181808356186634, 0.1065809054510431, 0.6360590941085319, 0.1375400236834655, 0.26571015091530176, 0.18540521113634692, 0.38113814102192317, 0.5516253161292195, 0.06652400108129222, 0.44197682838680136, 0.1035471425638604, 0.116998025119492, 0.1377773080709938, 0.5422265530802298, 0.07573962470235612, 0.1828585136480504, 0.20295170020662842, 0.35323522702173227, 0.2724013037969451, 0.16246605338250197, 0.252908057479327, 0.1920195089914335, 0.20694285589816283, 0.14339591087837048, 0.2781571023590399, 0.23940620114366878, 0.1158412028869288, 0.2792210707420781, 0.7574642616015226, 0.09688647352571063, 0.10269475734462975, 0.0774537056510067, 0.7186811613373741, 0.22007571912518376, 0.5291403319459572, 0.15392441869608775, 0.29834188035774173]\n",
      "torch.Size([64])\n"
     ]
    }
   ],
   "source": [
    "for i in range(len(lay)):\n",
    "    if i > 0 and i <= len(lay)-1:\n",
    "        norms = []\n",
    "        for j in range(lay[i-1][1].weight.shape[0]):\n",
    "            norms.append(np.sqrt(torch.sum(torch.square(lay[i][1].weight.data[:,j])).item())/np.sqrt(torch.sum(torch.square(lay[i-1][1].weight.data[j])).item()))\n",
    "        print(norms)\n",
    "        norms = torch.tensor(norms)\n",
    "        print(norms.shape)"
   ]
  },
  {
   "cell_type": "code",
   "execution_count": 10,
   "metadata": {},
   "outputs": [
    {
     "data": {
      "image/png": "[encoded data removed]",
      "text/plain": [
       "<Figure size 1600x1000 with 1 Axes>"
      ]
     },
     "metadata": {},
     "output_type": "display_data"
    }
   ],
   "source": [
    "epochs_plot = list(range(100))\n",
    "\n",
    "plt.figure(figsize=(16, 10))\n",
    "plt.plot(epochs_plot, acc, linestyle='-', color='b', label='acc')\n",
    "\n",
    "plt.xlabel('Epochs', fontsize=14)\n",
    "plt.ylabel('Accuracy', fontsize=14)\n",
    "plt.title('Model Accuracy Over Epochs', fontsize=14)\n",
    "\n",
    "plt.xticks(fontsize=14)\n",
    "plt.yticks(fontsize=14)\n",
    "\n",
    "plt.grid(True)\n",
    "\n",
    "plt.legend(fontsize=14)\n",
    "\n",
    "plt.show()"
   ]
  },
  {
   "cell_type": "code",
   "execution_count": 11,
   "metadata": {},
   "outputs": [],
   "source": [
    "import pickle\n",
    "with open('cleanAcc.pkl', 'wb') as f:\n",
    "    pickle.dump(acc, f)"
   ]
  }
 ],
 "metadata": {
  "kernelspec": {
   "display_name": "Python 3",
   "language": "python",
   "name": "python3"
  },
  "language_info": {
   "codemirror_mode": {
    "name": "ipython",
    "version": 3
   },
   "file_extension": ".py",
   "mimetype": "text/x-python",
   "name": "python",
   "nbconvert_exporter": "python",
   "pygments_lexer": "ipython3",
   "version": "3.11.2"
  }
 },
 "nbformat": 4,
 "nbformat_minor": 2
}
