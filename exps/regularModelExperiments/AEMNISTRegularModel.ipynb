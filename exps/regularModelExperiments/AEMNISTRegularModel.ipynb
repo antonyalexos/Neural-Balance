{
 "cells": [
  {
   "cell_type": "code",
   "execution_count": 45,
   "metadata": {},
   "outputs": [],
   "source": [
    "import torch\n",
    "import torch.nn as nn\n",
    "import torch.optim as optim\n",
    "import numpy as np\n",
    "from torchvision.datasets import MNIST\n",
    "from torch.utils.data import DataLoader\n",
    "from torchvision import transforms\n",
    "import torch.nn.functional as F\n",
    "import os\n",
    "from tqdm import tqdm\n",
    "\n",
    "class SingleLayerNN(nn.Module):\n",
    "    def __init__(self):\n",
    "        super(SingleLayerNN, self).__init__()\n",
    "        self.fc = nn.Linear(784, 256) \n",
    "        self.fc1 = nn.Linear(256, 128)\n",
    "        self.fc2 = nn.Linear(128, 64)\n",
    "        self.out = nn.Linear(64, 10)\n",
    "\n",
    "    def forward(self, x):\n",
    "        x = torch.relu(self.fc(x)) \n",
    "        x = torch.relu(self.fc1(x))\n",
    "        x = torch.relu(self.fc2(x))\n",
    "        x = self.out(x)  \n",
    "        return x\n",
    "\n",
    "model = SingleLayerNN()\n",
    "\n",
    "\n",
    "criterion = nn.MSELoss() \n",
    "optimizer = optim.Adam(model.parameters(), lr=0.01)  \n"
   ]
  },
  {
   "cell_type": "code",
   "execution_count": 46,
   "metadata": {},
   "outputs": [],
   "source": [
    "#torch.manual_seed(7)"
   ]
  },
  {
   "cell_type": "code",
   "execution_count": 47,
   "metadata": {},
   "outputs": [
    {
     "name": "stderr",
     "output_type": "stream",
     "text": [
      "/var/folders/d1/pxwd2rcj41j7b2lhnz909xn80000gn/T/ipykernel_58371/112231088.py:4: UserWarning: To copy construct from a tensor, it is recommended to use sourceTensor.clone().detach() or sourceTensor.clone().detach().requires_grad_(True), rather than torch.tensor(sourceTensor).\n",
      "  x_train = torch.tensor(x_train, dtype=torch.float32)\n",
      "/var/folders/d1/pxwd2rcj41j7b2lhnz909xn80000gn/T/ipykernel_58371/112231088.py:5: UserWarning: To copy construct from a tensor, it is recommended to use sourceTensor.clone().detach() or sourceTensor.clone().detach().requires_grad_(True), rather than torch.tensor(sourceTensor).\n",
      "  y_train = torch.tensor(y_train, dtype=torch.float32)\n"
     ]
    }
   ],
   "source": [
    "train_dataset = MNIST(os.getcwd(), train=True, download=True, transform=[transforms.ToTensor(), transforms.Normalize((0.5,), (0.5,))])\n",
    "x_train = train_dataset.data / 255.0\n",
    "y_train = F.one_hot(train_dataset.targets, num_classes=10)\n",
    "x_train = torch.tensor(x_train, dtype=torch.float32)\n",
    "y_train = torch.tensor(y_train, dtype=torch.float32)\n",
    "x_train = x_train.view(-1, 784)\n",
    "dtrain = torch.utils.data.TensorDataset(x_train, y_train)\n",
    "trainloader = DataLoader(dtrain, batch_size=256, shuffle=True)"
   ]
  },
  {
   "cell_type": "code",
   "execution_count": 48,
   "metadata": {},
   "outputs": [
    {
     "name": "stderr",
     "output_type": "stream",
     "text": [
      "/var/folders/d1/pxwd2rcj41j7b2lhnz909xn80000gn/T/ipykernel_58371/3473755828.py:4: UserWarning: To copy construct from a tensor, it is recommended to use sourceTensor.clone().detach() or sourceTensor.clone().detach().requires_grad_(True), rather than torch.tensor(sourceTensor).\n",
      "  x_test = torch.tensor(x_test, dtype=torch.float32)\n",
      "/var/folders/d1/pxwd2rcj41j7b2lhnz909xn80000gn/T/ipykernel_58371/3473755828.py:5: UserWarning: To copy construct from a tensor, it is recommended to use sourceTensor.clone().detach() or sourceTensor.clone().detach().requires_grad_(True), rather than torch.tensor(sourceTensor).\n",
      "  y_test = torch.tensor(y_test, dtype=torch.float32)\n"
     ]
    }
   ],
   "source": [
    "testDataset = MNIST(os.getcwd(), train=False, download=True, transform=[transforms.ToTensor(), transforms.Normalize((0.5,), (0.5,))])\n",
    "x_test = testDataset.data / 255.0\n",
    "y_test = F.one_hot(testDataset.targets, num_classes=10)\n",
    "x_test = torch.tensor(x_test, dtype=torch.float32)\n",
    "y_test = torch.tensor(y_test, dtype=torch.float32)\n",
    "x_test = x_test.view(-1, 784)\n",
    "dtest = torch.utils.data.TensorDataset(x_test, y_test)\n",
    "testloader = DataLoader(dtest, batch_size=256, shuffle=True)"
   ]
  },
  {
   "cell_type": "code",
   "execution_count": 49,
   "metadata": {},
   "outputs": [],
   "source": [
    "def neuronalNeuralBalance(inl, oul):\n",
    "\n",
    "    ninc = torch.zeros_like(inl.weight)\n",
    "    noul = torch.zeros_like(oul.weight)\n",
    "\n",
    "    for i in range(inl.weight.data.shape[0]):\n",
    "        inc = np.sqrt(torch.sum(torch.square(inl.weight.data[i])).item())\n",
    "        outg = np.sqrt(torch.sum(torch.square(oul.weight.data[:,i])).item())\n",
    "\n",
    "        # outg = outg / float(len(oul.weight.data[:,i]))\n",
    "        # inc = inc / float(len(inl.weight.data[i]))\n",
    "\n",
    "        opt = np.sqrt(outg/inc)\n",
    "\n",
    "        ninc[i] = inl.weight.data[i]*opt\n",
    "        noul[:, i] = oul.weight.data[:,i]/opt\n",
    "\n",
    "    inl.weight.data = ninc\n",
    "    oul.weight.data = noul\n"
   ]
  },
  {
   "cell_type": "code",
   "execution_count": 50,
   "metadata": {},
   "outputs": [
    {
     "name": "stdout",
     "output_type": "stream",
     "text": [
      "Linear\n",
      "Linear\n",
      "Linear\n",
      "Linear\n",
      "Linear\n"
     ]
    },
    {
     "name": "stderr",
     "output_type": "stream",
     "text": [
      "100%|██████████| 235/235 [00:01<00:00, 136.14it/s]\n"
     ]
    },
    {
     "name": "stdout",
     "output_type": "stream",
     "text": [
      "Epoch 0/100, Loss: 0.05615578591823578, train dataset accuracy: 30.796666666666667\n",
      "test dataset accuracy: 53.59%\n"
     ]
    },
    {
     "name": "stderr",
     "output_type": "stream",
     "text": [
      "100%|██████████| 235/235 [00:01<00:00, 142.69it/s]\n"
     ]
    },
    {
     "name": "stdout",
     "output_type": "stream",
     "text": [
      "Epoch 1/100, Loss: 0.020121432840824127, train dataset accuracy: 82.0\n",
      "test dataset accuracy: 86.3%\n"
     ]
    },
    {
     "name": "stderr",
     "output_type": "stream",
     "text": [
      "100%|██████████| 235/235 [00:01<00:00, 153.33it/s]\n"
     ]
    },
    {
     "name": "stdout",
     "output_type": "stream",
     "text": [
      "Epoch 2/100, Loss: 0.02332386001944542, train dataset accuracy: 87.14\n",
      "test dataset accuracy: 88.63%\n"
     ]
    },
    {
     "name": "stderr",
     "output_type": "stream",
     "text": [
      "100%|██████████| 235/235 [00:01<00:00, 159.26it/s]\n"
     ]
    },
    {
     "name": "stdout",
     "output_type": "stream",
     "text": [
      "Epoch 3/100, Loss: 0.02280220203101635, train dataset accuracy: 88.53\n",
      "test dataset accuracy: 89.39%\n"
     ]
    },
    {
     "name": "stderr",
     "output_type": "stream",
     "text": [
      "100%|██████████| 235/235 [00:01<00:00, 169.74it/s]\n"
     ]
    },
    {
     "name": "stdout",
     "output_type": "stream",
     "text": [
      "Epoch 4/100, Loss: 0.02230863645672798, train dataset accuracy: 89.295\n",
      "test dataset accuracy: 89.5%\n"
     ]
    },
    {
     "name": "stderr",
     "output_type": "stream",
     "text": [
      "100%|██████████| 235/235 [00:01<00:00, 169.10it/s]\n"
     ]
    },
    {
     "name": "stdout",
     "output_type": "stream",
     "text": [
      "Epoch 5/100, Loss: 0.014169578440487385, train dataset accuracy: 90.03\n",
      "test dataset accuracy: 90.04%\n"
     ]
    },
    {
     "name": "stderr",
     "output_type": "stream",
     "text": [
      "100%|██████████| 235/235 [00:01<00:00, 165.30it/s]\n"
     ]
    },
    {
     "name": "stdout",
     "output_type": "stream",
     "text": [
      "Epoch 6/100, Loss: 0.010671940632164478, train dataset accuracy: 90.155\n",
      "test dataset accuracy: 90.03%\n"
     ]
    },
    {
     "name": "stderr",
     "output_type": "stream",
     "text": [
      "100%|██████████| 235/235 [00:01<00:00, 171.59it/s]\n"
     ]
    },
    {
     "name": "stdout",
     "output_type": "stream",
     "text": [
      "Epoch 7/100, Loss: 0.013942963443696499, train dataset accuracy: 90.70166666666667\n",
      "test dataset accuracy: 90.18%\n"
     ]
    },
    {
     "name": "stderr",
     "output_type": "stream",
     "text": [
      "100%|██████████| 235/235 [00:01<00:00, 160.63it/s]\n"
     ]
    },
    {
     "name": "stdout",
     "output_type": "stream",
     "text": [
      "Epoch 8/100, Loss: 0.008566352538764477, train dataset accuracy: 90.69833333333334\n",
      "test dataset accuracy: 90.75%\n"
     ]
    },
    {
     "name": "stderr",
     "output_type": "stream",
     "text": [
      "100%|██████████| 235/235 [00:01<00:00, 169.61it/s]\n"
     ]
    },
    {
     "name": "stdout",
     "output_type": "stream",
     "text": [
      "Epoch 9/100, Loss: 0.011669310741126537, train dataset accuracy: 91.00833333333334\n",
      "test dataset accuracy: 90.79%\n"
     ]
    },
    {
     "name": "stderr",
     "output_type": "stream",
     "text": [
      "100%|██████████| 235/235 [00:01<00:00, 164.85it/s]\n"
     ]
    },
    {
     "name": "stdout",
     "output_type": "stream",
     "text": [
      "Epoch 10/100, Loss: 0.016416070982813835, train dataset accuracy: 91.14\n",
      "test dataset accuracy: 90.84%\n"
     ]
    },
    {
     "name": "stderr",
     "output_type": "stream",
     "text": [
      "100%|██████████| 235/235 [00:01<00:00, 146.39it/s]\n"
     ]
    },
    {
     "name": "stdout",
     "output_type": "stream",
     "text": [
      "Epoch 11/100, Loss: 0.01579568348824978, train dataset accuracy: 91.225\n",
      "test dataset accuracy: 91.08%\n"
     ]
    },
    {
     "name": "stderr",
     "output_type": "stream",
     "text": [
      "100%|██████████| 235/235 [00:01<00:00, 134.65it/s]\n"
     ]
    },
    {
     "name": "stdout",
     "output_type": "stream",
     "text": [
      "Epoch 12/100, Loss: 0.017800478264689445, train dataset accuracy: 91.45\n",
      "test dataset accuracy: 91.04%\n"
     ]
    },
    {
     "name": "stderr",
     "output_type": "stream",
     "text": [
      "100%|██████████| 235/235 [00:01<00:00, 158.32it/s]\n"
     ]
    },
    {
     "name": "stdout",
     "output_type": "stream",
     "text": [
      "Epoch 13/100, Loss: 0.015579060651361942, train dataset accuracy: 91.52333333333333\n",
      "test dataset accuracy: 91.1%\n"
     ]
    },
    {
     "name": "stderr",
     "output_type": "stream",
     "text": [
      "100%|██████████| 235/235 [00:01<00:00, 148.41it/s]\n"
     ]
    },
    {
     "name": "stdout",
     "output_type": "stream",
     "text": [
      "Epoch 14/100, Loss: 0.015457618981599808, train dataset accuracy: 91.575\n",
      "test dataset accuracy: 90.52%\n"
     ]
    },
    {
     "name": "stderr",
     "output_type": "stream",
     "text": [
      "100%|██████████| 235/235 [00:01<00:00, 163.99it/s]\n"
     ]
    },
    {
     "name": "stdout",
     "output_type": "stream",
     "text": [
      "Epoch 15/100, Loss: 0.022613368928432465, train dataset accuracy: 91.57333333333334\n",
      "test dataset accuracy: 91.31%\n"
     ]
    },
    {
     "name": "stderr",
     "output_type": "stream",
     "text": [
      "100%|██████████| 235/235 [00:01<00:00, 131.71it/s]\n"
     ]
    },
    {
     "name": "stdout",
     "output_type": "stream",
     "text": [
      "Epoch 16/100, Loss: 0.0162418931722641, train dataset accuracy: 91.64666666666666\n",
      "test dataset accuracy: 91.19%\n"
     ]
    },
    {
     "name": "stderr",
     "output_type": "stream",
     "text": [
      "100%|██████████| 235/235 [00:01<00:00, 155.39it/s]\n"
     ]
    },
    {
     "name": "stdout",
     "output_type": "stream",
     "text": [
      "Epoch 17/100, Loss: 0.017001552507281303, train dataset accuracy: 91.83166666666666\n",
      "test dataset accuracy: 91.35%\n"
     ]
    },
    {
     "name": "stderr",
     "output_type": "stream",
     "text": [
      "100%|██████████| 235/235 [00:01<00:00, 162.07it/s]\n"
     ]
    },
    {
     "name": "stdout",
     "output_type": "stream",
     "text": [
      "Epoch 18/100, Loss: 0.008887588046491146, train dataset accuracy: 91.89\n",
      "test dataset accuracy: 91.09%\n"
     ]
    },
    {
     "name": "stderr",
     "output_type": "stream",
     "text": [
      "100%|██████████| 235/235 [00:01<00:00, 169.81it/s]\n"
     ]
    },
    {
     "name": "stdout",
     "output_type": "stream",
     "text": [
      "Epoch 19/100, Loss: 0.01883547380566597, train dataset accuracy: 91.75\n",
      "test dataset accuracy: 91.38%\n"
     ]
    },
    {
     "name": "stderr",
     "output_type": "stream",
     "text": [
      "100%|██████████| 235/235 [00:01<00:00, 169.09it/s]\n"
     ]
    },
    {
     "name": "stdout",
     "output_type": "stream",
     "text": [
      "Epoch 20/100, Loss: 0.010401949286460876, train dataset accuracy: 91.93166666666667\n",
      "test dataset accuracy: 90.95%\n"
     ]
    },
    {
     "name": "stderr",
     "output_type": "stream",
     "text": [
      "100%|██████████| 235/235 [00:01<00:00, 171.58it/s]\n"
     ]
    },
    {
     "name": "stdout",
     "output_type": "stream",
     "text": [
      "Epoch 21/100, Loss: 0.007888385094702244, train dataset accuracy: 91.92666666666666\n",
      "test dataset accuracy: 90.88%\n"
     ]
    },
    {
     "name": "stderr",
     "output_type": "stream",
     "text": [
      "100%|██████████| 235/235 [00:01<00:00, 161.95it/s]\n"
     ]
    },
    {
     "name": "stdout",
     "output_type": "stream",
     "text": [
      "Epoch 22/100, Loss: 0.013172728940844536, train dataset accuracy: 91.9\n",
      "test dataset accuracy: 91.44%\n"
     ]
    },
    {
     "name": "stderr",
     "output_type": "stream",
     "text": [
      "100%|██████████| 235/235 [00:01<00:00, 172.08it/s]\n"
     ]
    },
    {
     "name": "stdout",
     "output_type": "stream",
     "text": [
      "Epoch 23/100, Loss: 0.015733715146780014, train dataset accuracy: 91.9\n",
      "test dataset accuracy: 91.33%\n"
     ]
    },
    {
     "name": "stderr",
     "output_type": "stream",
     "text": [
      "100%|██████████| 235/235 [00:01<00:00, 170.86it/s]\n"
     ]
    },
    {
     "name": "stdout",
     "output_type": "stream",
     "text": [
      "Epoch 24/100, Loss: 0.014420402236282825, train dataset accuracy: 92.04666666666667\n",
      "test dataset accuracy: 91.18%\n"
     ]
    },
    {
     "name": "stderr",
     "output_type": "stream",
     "text": [
      "100%|██████████| 235/235 [00:01<00:00, 172.61it/s]\n"
     ]
    },
    {
     "name": "stdout",
     "output_type": "stream",
     "text": [
      "Epoch 25/100, Loss: 0.013600648380815983, train dataset accuracy: 92.05333333333333\n",
      "test dataset accuracy: 91.55%\n"
     ]
    },
    {
     "name": "stderr",
     "output_type": "stream",
     "text": [
      "100%|██████████| 235/235 [00:01<00:00, 167.63it/s]\n"
     ]
    },
    {
     "name": "stdout",
     "output_type": "stream",
     "text": [
      "Epoch 26/100, Loss: 0.01436701975762844, train dataset accuracy: 92.095\n",
      "test dataset accuracy: 91.37%\n"
     ]
    },
    {
     "name": "stderr",
     "output_type": "stream",
     "text": [
      "100%|██████████| 235/235 [00:01<00:00, 171.54it/s]\n"
     ]
    },
    {
     "name": "stdout",
     "output_type": "stream",
     "text": [
      "Epoch 27/100, Loss: 0.020603768527507782, train dataset accuracy: 92.15333333333334\n",
      "test dataset accuracy: 91.04%\n"
     ]
    },
    {
     "name": "stderr",
     "output_type": "stream",
     "text": [
      "100%|██████████| 235/235 [00:01<00:00, 172.84it/s]\n"
     ]
    },
    {
     "name": "stdout",
     "output_type": "stream",
     "text": [
      "Epoch 28/100, Loss: 0.01809677481651306, train dataset accuracy: 92.11333333333333\n",
      "test dataset accuracy: 91.19%\n"
     ]
    },
    {
     "name": "stderr",
     "output_type": "stream",
     "text": [
      "100%|██████████| 235/235 [00:01<00:00, 172.20it/s]\n"
     ]
    },
    {
     "name": "stdout",
     "output_type": "stream",
     "text": [
      "Epoch 29/100, Loss: 0.01147338468581438, train dataset accuracy: 92.13833333333334\n",
      "test dataset accuracy: 91.1%\n"
     ]
    },
    {
     "name": "stderr",
     "output_type": "stream",
     "text": [
      "100%|██████████| 235/235 [00:01<00:00, 160.45it/s]\n"
     ]
    },
    {
     "name": "stdout",
     "output_type": "stream",
     "text": [
      "Epoch 30/100, Loss: 0.012279034592211246, train dataset accuracy: 92.08166666666666\n",
      "test dataset accuracy: 91.36%\n"
     ]
    },
    {
     "name": "stderr",
     "output_type": "stream",
     "text": [
      "100%|██████████| 235/235 [00:01<00:00, 168.53it/s]\n"
     ]
    },
    {
     "name": "stdout",
     "output_type": "stream",
     "text": [
      "Epoch 31/100, Loss: 0.008359095081686974, train dataset accuracy: 92.09\n",
      "test dataset accuracy: 91.59%\n"
     ]
    },
    {
     "name": "stderr",
     "output_type": "stream",
     "text": [
      "100%|██████████| 235/235 [00:01<00:00, 171.26it/s]\n"
     ]
    },
    {
     "name": "stdout",
     "output_type": "stream",
     "text": [
      "Epoch 32/100, Loss: 0.012649075128138065, train dataset accuracy: 92.23666666666666\n",
      "test dataset accuracy: 91.45%\n"
     ]
    },
    {
     "name": "stderr",
     "output_type": "stream",
     "text": [
      "100%|██████████| 235/235 [00:01<00:00, 174.02it/s]\n"
     ]
    },
    {
     "name": "stdout",
     "output_type": "stream",
     "text": [
      "Epoch 33/100, Loss: 0.011761914007365704, train dataset accuracy: 92.28166666666667\n",
      "test dataset accuracy: 91.4%\n"
     ]
    },
    {
     "name": "stderr",
     "output_type": "stream",
     "text": [
      "100%|██████████| 235/235 [00:01<00:00, 165.12it/s]\n"
     ]
    },
    {
     "name": "stdout",
     "output_type": "stream",
     "text": [
      "Epoch 34/100, Loss: 0.0062204026617109776, train dataset accuracy: 92.05833333333334\n",
      "test dataset accuracy: 91.41%\n"
     ]
    },
    {
     "name": "stderr",
     "output_type": "stream",
     "text": [
      "100%|██████████| 235/235 [00:01<00:00, 171.07it/s]\n"
     ]
    },
    {
     "name": "stdout",
     "output_type": "stream",
     "text": [
      "Epoch 35/100, Loss: 0.008412051945924759, train dataset accuracy: 92.24\n",
      "test dataset accuracy: 91.54%\n"
     ]
    },
    {
     "name": "stderr",
     "output_type": "stream",
     "text": [
      "100%|██████████| 235/235 [00:01<00:00, 169.66it/s]\n"
     ]
    },
    {
     "name": "stdout",
     "output_type": "stream",
     "text": [
      "Epoch 36/100, Loss: 0.018104974180459976, train dataset accuracy: 92.27833333333334\n",
      "test dataset accuracy: 91.32%\n"
     ]
    },
    {
     "name": "stderr",
     "output_type": "stream",
     "text": [
      "100%|██████████| 235/235 [00:01<00:00, 169.86it/s]\n"
     ]
    },
    {
     "name": "stdout",
     "output_type": "stream",
     "text": [
      "Epoch 37/100, Loss: 0.012827136553823948, train dataset accuracy: 92.29166666666667\n",
      "test dataset accuracy: 91.32%\n"
     ]
    },
    {
     "name": "stderr",
     "output_type": "stream",
     "text": [
      "100%|██████████| 235/235 [00:01<00:00, 169.69it/s]\n"
     ]
    },
    {
     "name": "stdout",
     "output_type": "stream",
     "text": [
      "Epoch 38/100, Loss: 0.014071082696318626, train dataset accuracy: 92.315\n",
      "test dataset accuracy: 90.85%\n"
     ]
    },
    {
     "name": "stderr",
     "output_type": "stream",
     "text": [
      "100%|██████████| 235/235 [00:01<00:00, 158.56it/s]\n"
     ]
    },
    {
     "name": "stdout",
     "output_type": "stream",
     "text": [
      "Epoch 39/100, Loss: 0.008934631012380123, train dataset accuracy: 92.26333333333334\n",
      "test dataset accuracy: 91.34%\n"
     ]
    },
    {
     "name": "stderr",
     "output_type": "stream",
     "text": [
      "100%|██████████| 235/235 [00:01<00:00, 165.35it/s]\n"
     ]
    },
    {
     "name": "stdout",
     "output_type": "stream",
     "text": [
      "Epoch 40/100, Loss: 0.01182770635932684, train dataset accuracy: 92.42833333333333\n",
      "test dataset accuracy: 90.85%\n"
     ]
    },
    {
     "name": "stderr",
     "output_type": "stream",
     "text": [
      "100%|██████████| 235/235 [00:01<00:00, 130.13it/s]\n"
     ]
    },
    {
     "name": "stdout",
     "output_type": "stream",
     "text": [
      "Epoch 41/100, Loss: 0.016648879274725914, train dataset accuracy: 92.32333333333334\n",
      "test dataset accuracy: 91.35%\n"
     ]
    },
    {
     "name": "stderr",
     "output_type": "stream",
     "text": [
      "100%|██████████| 235/235 [00:01<00:00, 157.89it/s]\n"
     ]
    },
    {
     "name": "stdout",
     "output_type": "stream",
     "text": [
      "Epoch 42/100, Loss: 0.014081194065511227, train dataset accuracy: 92.29833333333333\n",
      "test dataset accuracy: 90.99%\n"
     ]
    },
    {
     "name": "stderr",
     "output_type": "stream",
     "text": [
      "100%|██████████| 235/235 [00:01<00:00, 169.54it/s]\n"
     ]
    },
    {
     "name": "stdout",
     "output_type": "stream",
     "text": [
      "Epoch 43/100, Loss: 0.01780703477561474, train dataset accuracy: 92.255\n",
      "test dataset accuracy: 91.28%\n"
     ]
    },
    {
     "name": "stderr",
     "output_type": "stream",
     "text": [
      "100%|██████████| 235/235 [00:01<00:00, 172.30it/s]\n"
     ]
    },
    {
     "name": "stdout",
     "output_type": "stream",
     "text": [
      "Epoch 44/100, Loss: 0.01507568545639515, train dataset accuracy: 92.35166666666667\n",
      "test dataset accuracy: 91.44%\n"
     ]
    },
    {
     "name": "stderr",
     "output_type": "stream",
     "text": [
      "100%|██████████| 235/235 [00:01<00:00, 173.12it/s]\n"
     ]
    },
    {
     "name": "stdout",
     "output_type": "stream",
     "text": [
      "Epoch 45/100, Loss: 0.008178754709661007, train dataset accuracy: 92.21\n",
      "test dataset accuracy: 91.34%\n"
     ]
    },
    {
     "name": "stderr",
     "output_type": "stream",
     "text": [
      "100%|██████████| 235/235 [00:01<00:00, 171.15it/s]\n"
     ]
    },
    {
     "name": "stdout",
     "output_type": "stream",
     "text": [
      "Epoch 46/100, Loss: 0.015991751104593277, train dataset accuracy: 92.45166666666667\n",
      "test dataset accuracy: 91.47%\n"
     ]
    },
    {
     "name": "stderr",
     "output_type": "stream",
     "text": [
      "100%|██████████| 235/235 [00:01<00:00, 171.39it/s]\n"
     ]
    },
    {
     "name": "stdout",
     "output_type": "stream",
     "text": [
      "Epoch 47/100, Loss: 0.013745542615652084, train dataset accuracy: 92.19\n",
      "test dataset accuracy: 91.25%\n"
     ]
    },
    {
     "name": "stderr",
     "output_type": "stream",
     "text": [
      "100%|██████████| 235/235 [00:01<00:00, 171.72it/s]\n"
     ]
    },
    {
     "name": "stdout",
     "output_type": "stream",
     "text": [
      "Epoch 48/100, Loss: 0.014688908122479916, train dataset accuracy: 92.40666666666667\n",
      "test dataset accuracy: 91.69%\n"
     ]
    },
    {
     "name": "stderr",
     "output_type": "stream",
     "text": [
      "100%|██████████| 235/235 [00:01<00:00, 160.49it/s]\n"
     ]
    },
    {
     "name": "stdout",
     "output_type": "stream",
     "text": [
      "Epoch 49/100, Loss: 0.013856956735253334, train dataset accuracy: 92.33666666666667\n",
      "test dataset accuracy: 91.11%\n"
     ]
    },
    {
     "name": "stderr",
     "output_type": "stream",
     "text": [
      "100%|██████████| 235/235 [00:01<00:00, 170.66it/s]\n"
     ]
    },
    {
     "name": "stdout",
     "output_type": "stream",
     "text": [
      "Epoch 50/100, Loss: 0.006420441437512636, train dataset accuracy: 92.445\n",
      "test dataset accuracy: 90.95%\n"
     ]
    },
    {
     "name": "stderr",
     "output_type": "stream",
     "text": [
      "100%|██████████| 235/235 [00:01<00:00, 167.43it/s]\n"
     ]
    },
    {
     "name": "stdout",
     "output_type": "stream",
     "text": [
      "Epoch 51/100, Loss: 0.004313325975090265, train dataset accuracy: 92.22666666666667\n",
      "test dataset accuracy: 90.98%\n"
     ]
    },
    {
     "name": "stderr",
     "output_type": "stream",
     "text": [
      "100%|██████████| 235/235 [00:01<00:00, 171.54it/s]\n"
     ]
    },
    {
     "name": "stdout",
     "output_type": "stream",
     "text": [
      "Epoch 52/100, Loss: 0.019305018708109856, train dataset accuracy: 92.43166666666667\n",
      "test dataset accuracy: 91.5%\n"
     ]
    },
    {
     "name": "stderr",
     "output_type": "stream",
     "text": [
      "100%|██████████| 235/235 [00:01<00:00, 165.57it/s]\n"
     ]
    },
    {
     "name": "stdout",
     "output_type": "stream",
     "text": [
      "Epoch 53/100, Loss: 0.01838773861527443, train dataset accuracy: 92.52\n",
      "test dataset accuracy: 91.68%\n"
     ]
    },
    {
     "name": "stderr",
     "output_type": "stream",
     "text": [
      "100%|██████████| 235/235 [00:01<00:00, 172.47it/s]\n"
     ]
    },
    {
     "name": "stdout",
     "output_type": "stream",
     "text": [
      "Epoch 54/100, Loss: 0.014285516925156116, train dataset accuracy: 92.55\n",
      "test dataset accuracy: 91.04%\n"
     ]
    },
    {
     "name": "stderr",
     "output_type": "stream",
     "text": [
      "100%|██████████| 235/235 [00:01<00:00, 172.09it/s]\n"
     ]
    },
    {
     "name": "stdout",
     "output_type": "stream",
     "text": [
      "Epoch 55/100, Loss: 0.007829082198441029, train dataset accuracy: 92.505\n",
      "test dataset accuracy: 91.54%\n"
     ]
    },
    {
     "name": "stderr",
     "output_type": "stream",
     "text": [
      "100%|██████████| 235/235 [00:01<00:00, 171.07it/s]\n"
     ]
    },
    {
     "name": "stdout",
     "output_type": "stream",
     "text": [
      "Epoch 56/100, Loss: 0.01341210026293993, train dataset accuracy: 92.525\n",
      "test dataset accuracy: 91.55%\n"
     ]
    },
    {
     "name": "stderr",
     "output_type": "stream",
     "text": [
      "100%|██████████| 235/235 [00:01<00:00, 165.44it/s]\n"
     ]
    },
    {
     "name": "stdout",
     "output_type": "stream",
     "text": [
      "Epoch 57/100, Loss: 0.012656856328248978, train dataset accuracy: 92.47833333333334\n",
      "test dataset accuracy: 91.17%\n"
     ]
    },
    {
     "name": "stderr",
     "output_type": "stream",
     "text": [
      "100%|██████████| 235/235 [00:01<00:00, 172.30it/s]\n"
     ]
    },
    {
     "name": "stdout",
     "output_type": "stream",
     "text": [
      "Epoch 58/100, Loss: 0.011683803051710129, train dataset accuracy: 92.62166666666667\n",
      "test dataset accuracy: 91.4%\n"
     ]
    },
    {
     "name": "stderr",
     "output_type": "stream",
     "text": [
      "100%|██████████| 235/235 [00:01<00:00, 165.06it/s]\n"
     ]
    },
    {
     "name": "stdout",
     "output_type": "stream",
     "text": [
      "Epoch 59/100, Loss: 0.0079390499740839, train dataset accuracy: 92.57833333333333\n",
      "test dataset accuracy: 90.97%\n"
     ]
    },
    {
     "name": "stderr",
     "output_type": "stream",
     "text": [
      "100%|██████████| 235/235 [00:01<00:00, 171.76it/s]\n"
     ]
    },
    {
     "name": "stdout",
     "output_type": "stream",
     "text": [
      "Epoch 60/100, Loss: 0.010898670181632042, train dataset accuracy: 92.52666666666667\n",
      "test dataset accuracy: 91.37%\n"
     ]
    },
    {
     "name": "stderr",
     "output_type": "stream",
     "text": [
      "100%|██████████| 235/235 [00:01<00:00, 164.90it/s]\n"
     ]
    },
    {
     "name": "stdout",
     "output_type": "stream",
     "text": [
      "Epoch 61/100, Loss: 0.015815166756510735, train dataset accuracy: 92.42333333333333\n",
      "test dataset accuracy: 91.43%\n"
     ]
    },
    {
     "name": "stderr",
     "output_type": "stream",
     "text": [
      "100%|██████████| 235/235 [00:01<00:00, 166.68it/s]\n"
     ]
    },
    {
     "name": "stdout",
     "output_type": "stream",
     "text": [
      "Epoch 62/100, Loss: 0.015073630958795547, train dataset accuracy: 92.44333333333333\n",
      "test dataset accuracy: 91.16%\n"
     ]
    },
    {
     "name": "stderr",
     "output_type": "stream",
     "text": [
      "100%|██████████| 235/235 [00:01<00:00, 171.52it/s]\n"
     ]
    },
    {
     "name": "stdout",
     "output_type": "stream",
     "text": [
      "Epoch 63/100, Loss: 0.016942378133535385, train dataset accuracy: 92.45833333333333\n",
      "test dataset accuracy: 91.32%\n"
     ]
    },
    {
     "name": "stderr",
     "output_type": "stream",
     "text": [
      "100%|██████████| 235/235 [00:01<00:00, 171.52it/s]\n"
     ]
    },
    {
     "name": "stdout",
     "output_type": "stream",
     "text": [
      "Epoch 64/100, Loss: 0.014054805040359497, train dataset accuracy: 92.44833333333334\n",
      "test dataset accuracy: 91.54%\n"
     ]
    },
    {
     "name": "stderr",
     "output_type": "stream",
     "text": [
      "100%|██████████| 235/235 [00:01<00:00, 164.15it/s]\n"
     ]
    },
    {
     "name": "stdout",
     "output_type": "stream",
     "text": [
      "Epoch 65/100, Loss: 0.017167890444397926, train dataset accuracy: 92.61833333333334\n",
      "test dataset accuracy: 91.5%\n"
     ]
    },
    {
     "name": "stderr",
     "output_type": "stream",
     "text": [
      "100%|██████████| 235/235 [00:01<00:00, 172.19it/s]\n"
     ]
    },
    {
     "name": "stdout",
     "output_type": "stream",
     "text": [
      "Epoch 66/100, Loss: 0.011120622046291828, train dataset accuracy: 92.6\n",
      "test dataset accuracy: 91.53%\n"
     ]
    },
    {
     "name": "stderr",
     "output_type": "stream",
     "text": [
      "100%|██████████| 235/235 [00:01<00:00, 171.75it/s]\n"
     ]
    },
    {
     "name": "stdout",
     "output_type": "stream",
     "text": [
      "Epoch 67/100, Loss: 0.023320717737078667, train dataset accuracy: 92.51166666666667\n",
      "test dataset accuracy: 91.3%\n"
     ]
    },
    {
     "name": "stderr",
     "output_type": "stream",
     "text": [
      "100%|██████████| 235/235 [00:01<00:00, 170.02it/s]\n"
     ]
    },
    {
     "name": "stdout",
     "output_type": "stream",
     "text": [
      "Epoch 68/100, Loss: 0.005005695857107639, train dataset accuracy: 92.64666666666666\n",
      "test dataset accuracy: 91.43%\n"
     ]
    },
    {
     "name": "stderr",
     "output_type": "stream",
     "text": [
      "100%|██████████| 235/235 [00:01<00:00, 169.43it/s]\n"
     ]
    },
    {
     "name": "stdout",
     "output_type": "stream",
     "text": [
      "Epoch 69/100, Loss: 0.0134254340082407, train dataset accuracy: 92.56666666666666\n",
      "test dataset accuracy: 91.32%\n"
     ]
    },
    {
     "name": "stderr",
     "output_type": "stream",
     "text": [
      "100%|██████████| 235/235 [00:01<00:00, 169.95it/s]\n"
     ]
    },
    {
     "name": "stdout",
     "output_type": "stream",
     "text": [
      "Epoch 70/100, Loss: 0.006983109749853611, train dataset accuracy: 92.65333333333334\n",
      "test dataset accuracy: 91.27%\n"
     ]
    },
    {
     "name": "stderr",
     "output_type": "stream",
     "text": [
      "100%|██████████| 235/235 [00:01<00:00, 164.26it/s]\n"
     ]
    },
    {
     "name": "stdout",
     "output_type": "stream",
     "text": [
      "Epoch 71/100, Loss: 0.00845782458782196, train dataset accuracy: 92.78666666666666\n",
      "test dataset accuracy: 91.25%\n"
     ]
    },
    {
     "name": "stderr",
     "output_type": "stream",
     "text": [
      "100%|██████████| 235/235 [00:01<00:00, 130.16it/s]\n"
     ]
    },
    {
     "name": "stdout",
     "output_type": "stream",
     "text": [
      "Epoch 72/100, Loss: 0.01304443646222353, train dataset accuracy: 92.69166666666666\n",
      "test dataset accuracy: 91.1%\n"
     ]
    },
    {
     "name": "stderr",
     "output_type": "stream",
     "text": [
      "100%|██████████| 235/235 [00:01<00:00, 144.27it/s]\n"
     ]
    },
    {
     "name": "stdout",
     "output_type": "stream",
     "text": [
      "Epoch 73/100, Loss: 0.014133934862911701, train dataset accuracy: 92.66833333333334\n",
      "test dataset accuracy: 91.39%\n"
     ]
    },
    {
     "name": "stderr",
     "output_type": "stream",
     "text": [
      "100%|██████████| 235/235 [00:01<00:00, 161.52it/s]\n"
     ]
    },
    {
     "name": "stdout",
     "output_type": "stream",
     "text": [
      "Epoch 74/100, Loss: 0.009922238998115063, train dataset accuracy: 92.72666666666667\n",
      "test dataset accuracy: 91.18%\n"
     ]
    },
    {
     "name": "stderr",
     "output_type": "stream",
     "text": [
      "100%|██████████| 235/235 [00:01<00:00, 166.32it/s]\n"
     ]
    },
    {
     "name": "stdout",
     "output_type": "stream",
     "text": [
      "Epoch 75/100, Loss: 0.014919260516762733, train dataset accuracy: 92.68333333333334\n",
      "test dataset accuracy: 91.48%\n"
     ]
    },
    {
     "name": "stderr",
     "output_type": "stream",
     "text": [
      "100%|██████████| 235/235 [00:01<00:00, 165.40it/s]\n"
     ]
    },
    {
     "name": "stdout",
     "output_type": "stream",
     "text": [
      "Epoch 76/100, Loss: 0.020600546151399612, train dataset accuracy: 92.70166666666667\n",
      "test dataset accuracy: 91.46%\n"
     ]
    },
    {
     "name": "stderr",
     "output_type": "stream",
     "text": [
      "100%|██████████| 235/235 [00:01<00:00, 150.74it/s]\n"
     ]
    },
    {
     "name": "stdout",
     "output_type": "stream",
     "text": [
      "Epoch 77/100, Loss: 0.020577870309352875, train dataset accuracy: 92.77\n",
      "test dataset accuracy: 91.38%\n"
     ]
    },
    {
     "name": "stderr",
     "output_type": "stream",
     "text": [
      "100%|██████████| 235/235 [00:01<00:00, 163.54it/s]\n"
     ]
    },
    {
     "name": "stdout",
     "output_type": "stream",
     "text": [
      "Epoch 78/100, Loss: 0.008486873470246792, train dataset accuracy: 92.59333333333333\n",
      "test dataset accuracy: 91.32%\n"
     ]
    },
    {
     "name": "stderr",
     "output_type": "stream",
     "text": [
      "100%|██████████| 235/235 [00:01<00:00, 165.82it/s]\n"
     ]
    },
    {
     "name": "stdout",
     "output_type": "stream",
     "text": [
      "Epoch 79/100, Loss: 0.005687604192644358, train dataset accuracy: 92.77166666666666\n",
      "test dataset accuracy: 91.57%\n"
     ]
    },
    {
     "name": "stderr",
     "output_type": "stream",
     "text": [
      "100%|██████████| 235/235 [00:01<00:00, 171.28it/s]\n"
     ]
    },
    {
     "name": "stdout",
     "output_type": "stream",
     "text": [
      "Epoch 80/100, Loss: 0.013966353610157967, train dataset accuracy: 92.70833333333333\n",
      "test dataset accuracy: 91.43%\n"
     ]
    },
    {
     "name": "stderr",
     "output_type": "stream",
     "text": [
      "100%|██████████| 235/235 [00:01<00:00, 154.00it/s]\n"
     ]
    },
    {
     "name": "stdout",
     "output_type": "stream",
     "text": [
      "Epoch 81/100, Loss: 0.008133511058986187, train dataset accuracy: 92.725\n",
      "test dataset accuracy: 91.36%\n"
     ]
    },
    {
     "name": "stderr",
     "output_type": "stream",
     "text": [
      "100%|██████████| 235/235 [00:01<00:00, 168.40it/s]\n"
     ]
    },
    {
     "name": "stdout",
     "output_type": "stream",
     "text": [
      "Epoch 82/100, Loss: 0.006929303985089064, train dataset accuracy: 92.70166666666667\n",
      "test dataset accuracy: 91.41%\n"
     ]
    },
    {
     "name": "stderr",
     "output_type": "stream",
     "text": [
      "100%|██████████| 235/235 [00:01<00:00, 169.61it/s]\n"
     ]
    },
    {
     "name": "stdout",
     "output_type": "stream",
     "text": [
      "Epoch 83/100, Loss: 0.012907628901302814, train dataset accuracy: 92.70666666666666\n",
      "test dataset accuracy: 90.97%\n"
     ]
    },
    {
     "name": "stderr",
     "output_type": "stream",
     "text": [
      "100%|██████████| 235/235 [00:01<00:00, 171.64it/s]\n"
     ]
    },
    {
     "name": "stdout",
     "output_type": "stream",
     "text": [
      "Epoch 84/100, Loss: 0.011591777205467224, train dataset accuracy: 92.77666666666667\n",
      "test dataset accuracy: 91.17%\n"
     ]
    },
    {
     "name": "stderr",
     "output_type": "stream",
     "text": [
      "100%|██████████| 235/235 [00:01<00:00, 161.93it/s]\n"
     ]
    },
    {
     "name": "stdout",
     "output_type": "stream",
     "text": [
      "Epoch 85/100, Loss: 0.016516245901584625, train dataset accuracy: 92.53333333333333\n",
      "test dataset accuracy: 91.12%\n"
     ]
    },
    {
     "name": "stderr",
     "output_type": "stream",
     "text": [
      "100%|██████████| 235/235 [00:01<00:00, 171.43it/s]\n"
     ]
    },
    {
     "name": "stdout",
     "output_type": "stream",
     "text": [
      "Epoch 86/100, Loss: 0.011510243639349937, train dataset accuracy: 92.68166666666667\n",
      "test dataset accuracy: 91.4%\n"
     ]
    },
    {
     "name": "stderr",
     "output_type": "stream",
     "text": [
      "100%|██████████| 235/235 [00:01<00:00, 165.98it/s]\n"
     ]
    },
    {
     "name": "stdout",
     "output_type": "stream",
     "text": [
      "Epoch 87/100, Loss: 0.017573557794094086, train dataset accuracy: 92.68333333333334\n",
      "test dataset accuracy: 91.42%\n"
     ]
    },
    {
     "name": "stderr",
     "output_type": "stream",
     "text": [
      "100%|██████████| 235/235 [00:01<00:00, 171.76it/s]\n"
     ]
    },
    {
     "name": "stdout",
     "output_type": "stream",
     "text": [
      "Epoch 88/100, Loss: 0.01713806577026844, train dataset accuracy: 92.71666666666667\n",
      "test dataset accuracy: 91.32%\n"
     ]
    },
    {
     "name": "stderr",
     "output_type": "stream",
     "text": [
      "100%|██████████| 235/235 [00:01<00:00, 163.97it/s]\n"
     ]
    },
    {
     "name": "stdout",
     "output_type": "stream",
     "text": [
      "Epoch 89/100, Loss: 0.006605178117752075, train dataset accuracy: 92.61333333333333\n",
      "test dataset accuracy: 91.33%\n"
     ]
    },
    {
     "name": "stderr",
     "output_type": "stream",
     "text": [
      "100%|██████████| 235/235 [00:01<00:00, 170.98it/s]\n"
     ]
    },
    {
     "name": "stdout",
     "output_type": "stream",
     "text": [
      "Epoch 90/100, Loss: 0.013127272948622704, train dataset accuracy: 92.60333333333334\n",
      "test dataset accuracy: 91.31%\n"
     ]
    },
    {
     "name": "stderr",
     "output_type": "stream",
     "text": [
      "100%|██████████| 235/235 [00:01<00:00, 168.00it/s]\n"
     ]
    },
    {
     "name": "stdout",
     "output_type": "stream",
     "text": [
      "Epoch 91/100, Loss: 0.011083790101110935, train dataset accuracy: 92.88833333333334\n",
      "test dataset accuracy: 91.75%\n"
     ]
    },
    {
     "name": "stderr",
     "output_type": "stream",
     "text": [
      "100%|██████████| 235/235 [00:01<00:00, 164.29it/s]\n"
     ]
    },
    {
     "name": "stdout",
     "output_type": "stream",
     "text": [
      "Epoch 92/100, Loss: 0.017391590401530266, train dataset accuracy: 92.63\n",
      "test dataset accuracy: 91.27%\n"
     ]
    },
    {
     "name": "stderr",
     "output_type": "stream",
     "text": [
      "100%|██████████| 235/235 [00:01<00:00, 165.59it/s]\n"
     ]
    },
    {
     "name": "stdout",
     "output_type": "stream",
     "text": [
      "Epoch 93/100, Loss: 0.00944689754396677, train dataset accuracy: 92.815\n",
      "test dataset accuracy: 91.47%\n"
     ]
    },
    {
     "name": "stderr",
     "output_type": "stream",
     "text": [
      "100%|██████████| 235/235 [00:01<00:00, 170.17it/s]\n"
     ]
    },
    {
     "name": "stdout",
     "output_type": "stream",
     "text": [
      "Epoch 94/100, Loss: 0.013862690888345242, train dataset accuracy: 92.63166666666666\n",
      "test dataset accuracy: 91.24%\n"
     ]
    },
    {
     "name": "stderr",
     "output_type": "stream",
     "text": [
      "100%|██████████| 235/235 [00:01<00:00, 171.34it/s]\n"
     ]
    },
    {
     "name": "stdout",
     "output_type": "stream",
     "text": [
      "Epoch 95/100, Loss: 0.025963926687836647, train dataset accuracy: 92.73333333333333\n",
      "test dataset accuracy: 90.91%\n"
     ]
    },
    {
     "name": "stderr",
     "output_type": "stream",
     "text": [
      "100%|██████████| 235/235 [00:01<00:00, 170.87it/s]\n"
     ]
    },
    {
     "name": "stdout",
     "output_type": "stream",
     "text": [
      "Epoch 96/100, Loss: 0.008544553071260452, train dataset accuracy: 92.70333333333333\n",
      "test dataset accuracy: 91.49%\n"
     ]
    },
    {
     "name": "stderr",
     "output_type": "stream",
     "text": [
      "100%|██████████| 235/235 [00:01<00:00, 158.96it/s]\n"
     ]
    },
    {
     "name": "stdout",
     "output_type": "stream",
     "text": [
      "Epoch 97/100, Loss: 0.0125885009765625, train dataset accuracy: 92.64166666666667\n",
      "test dataset accuracy: 90.9%\n"
     ]
    },
    {
     "name": "stderr",
     "output_type": "stream",
     "text": [
      "100%|██████████| 235/235 [00:01<00:00, 170.12it/s]\n"
     ]
    },
    {
     "name": "stdout",
     "output_type": "stream",
     "text": [
      "Epoch 98/100, Loss: 0.009271268732845783, train dataset accuracy: 92.74\n",
      "test dataset accuracy: 91.55%\n"
     ]
    },
    {
     "name": "stderr",
     "output_type": "stream",
     "text": [
      "100%|██████████| 235/235 [00:01<00:00, 171.73it/s]\n"
     ]
    },
    {
     "name": "stdout",
     "output_type": "stream",
     "text": [
      "Epoch 99/100, Loss: 0.007219443563371897, train dataset accuracy: 92.67833333333333\n",
      "test dataset accuracy: 91.24%\n"
     ]
    }
   ],
   "source": [
    "model = model\n",
    "lay = []\n",
    "for n, i in model.named_children():\n",
    "    print(type(i).__name__)\n",
    "    if type(i).__name__ == \"Linear\":\n",
    "        lay.append((n, i))\n",
    "\n",
    "acc = []\n",
    "\n",
    "num_epochs = 100  \n",
    "for epoch in range(num_epochs):\n",
    "    ttot = 0\n",
    "    tcorr = 0\n",
    "    for b in tqdm(trainloader):\n",
    "        xt, y = b[0], b[1]\n",
    "        optimizer.zero_grad() \n",
    "        outputs = model(xt)  \n",
    "        loss = criterion(outputs, y) \n",
    "        \n",
    "        loss.backward() \n",
    "        optimizer.step() \n",
    "    \n",
    "        _, y = torch.max(y.data, 1)\n",
    "        _, pred = torch.max(outputs.data, 1)\n",
    "        ttot += y.shape[0]\n",
    "        tcorr += (pred == y).sum().item()\n",
    "    \n",
    "    # for i in range(len(lay)):\n",
    "    #     if i > 0 and i <= len(lay)-1:\n",
    "    #         di = neuronalNeuralBalance(lay[i-1][1], lay[i][1])\n",
    "\n",
    "    print(f'Epoch {epoch}/{num_epochs}, Loss: {loss.item()}, train dataset accuracy: {100*tcorr/ttot}')\n",
    "        \n",
    "    tot = 0\n",
    "    corr = 0\n",
    "\n",
    "    with torch.no_grad():\n",
    "        for i in testloader:\n",
    "            xt, y = i[0], i[1]\n",
    "            outputs = model(xt)  \n",
    "            _, y = torch.max(y.data, 1)\n",
    "            _, pred = torch.max(outputs.data, 1)\n",
    "            tot += y.shape[0]\n",
    "            corr += (pred == y).sum().item()\n",
    "    print(f'test dataset accuracy: {100*corr/tot}%')\n",
    "    acc.append(corr/tot)\n"
   ]
  },
  {
   "cell_type": "code",
   "execution_count": 51,
   "metadata": {},
   "outputs": [
    {
     "data": {
      "image/png": "[encoded data removed]",
      "text/plain": [
       "<Figure size 2500x500 with 3 Axes>"
      ]
     },
     "metadata": {},
     "output_type": "display_data"
    }
   ],
   "source": [
    "import matplotlib.pyplot as plt\n",
    "\n",
    "fc_weights = model.fc.weight.cpu().detach().numpy().flatten()\n",
    "fc2_weights = model.fc2.weight.cpu().detach().numpy().flatten()\n",
    "out_weights = model.out.weight.cpu().detach().numpy().flatten()\n",
    "\n",
    "bins = np.linspace(-0.5, 0.5, 50) \n",
    "fc_hist, fc_bins = np.histogram(fc_weights, bins=bins)\n",
    "fc2_hist, fc2_bins = np.histogram(fc2_weights, bins=bins)\n",
    "out_hist, out_bins = np.histogram(out_weights, bins=bins)\n",
    "\n",
    "fc_bin_centers = 0.5 * (fc_bins[:-1] + fc_bins[1:])\n",
    "fc2_bin_centers = 0.5 * (fc2_bins[:-1] + fc2_bins[1:])\n",
    "out_bin_centers = 0.5 * (out_bins[:-1] + out_bins[1:])\n",
    "\n",
    "plt.figure(figsize=(25, 5))\n",
    "\n",
    "plt.subplot(1, 3, 1)\n",
    "plt.plot(fc_bin_centers, fc_hist, marker='o', linestyle='-', color='b')\n",
    "plt.title('Weight Distribution: Input to Hidden1 Layer')\n",
    "plt.xlabel('Weight Value')\n",
    "plt.ylabel('Frequency')\n",
    "\n",
    "plt.subplot(1, 3, 2)\n",
    "plt.plot(fc2_bin_centers, fc2_hist, marker='o', linestyle='-', color='g')\n",
    "plt.title('Weight Distribution: hidden 1 to hidden 2 Layer')\n",
    "plt.xlabel('Weight Value')\n",
    "plt.ylabel('Frequency')\n",
    "\n",
    "plt.subplot(1, 3, 3)\n",
    "plt.plot(out_bin_centers, out_hist, marker='o', linestyle='-', color='g')\n",
    "plt.title('Weight Distribution: Hidden2 to Output Layer')\n",
    "plt.xlabel('Weight Value')\n",
    "plt.ylabel('Frequency')\n",
    "\n",
    "plt.tight_layout()\n",
    "plt.show()\n"
   ]
  },
  {
   "cell_type": "code",
   "execution_count": 52,
   "metadata": {},
   "outputs": [
    {
     "name": "stdout",
     "output_type": "stream",
     "text": [
      "Number of non-zero weights greater than 0.01 in layer 1: 365966\n",
      "Number of non-zero weights greater than 0.01 in layer 1: 7462\n",
      "Number of non-zero weights greater than 0.01 in layer 3: 605\n"
     ]
    }
   ],
   "source": [
    "import torch\n",
    "\n",
    "def count_nonzero_weights_above_threshold(layer, threshold=0.01):\n",
    "    return torch.sum(torch.abs(layer.weight) > threshold).item()\n",
    "\n",
    "threshold_value = 0.01 \n",
    "\n",
    "nonzero_fc1 = count_nonzero_weights_above_threshold(model.fc, threshold=threshold_value)\n",
    "nonzero_fc2 = count_nonzero_weights_above_threshold(model.fc2, threshold=threshold_value)\n",
    "nonzero_fc3 = count_nonzero_weights_above_threshold(model.out, threshold=threshold_value)\n",
    "\n",
    "print(f'Number of non-zero weights greater than {threshold_value} in layer 1: {nonzero_fc1}')\n",
    "print(f'Number of non-zero weights greater than {threshold_value} in layer 1: {nonzero_fc2}')\n",
    "print(f'Number of non-zero weights greater than {threshold_value} in layer 3: {nonzero_fc3}')"
   ]
  },
  {
   "cell_type": "code",
   "execution_count": 53,
   "metadata": {},
   "outputs": [
    {
     "name": "stdout",
     "output_type": "stream",
     "text": [
      "[0.6836051558638829, 0.7001892668857618, 0.6911301303022993, 0.7057988124822323, 0.6879589525201452, 0.7232040590203461, 0.6989286381386509, 0.6872773609628366, 0.6843646796994819, 0.6874900989702569, 0.6686759554970249, 0.6697390507061399, 0.6790298591243797, 0.6060218922455337, 0.6506681445003176, 0.6559649117996398, 0.6908515540822048, 0.7291483890061609, 0.5829164063445289, 0.6852547886493361, 0.6928238338677986, 0.7210197369677196, 0.6511239116334607, 0.6972484567018461, 0.6737742116012398, 0.695186356052221, 0.6600716689253008, 0.6871562496258342, 0.6155354269250854, 0.6382252933241838, 0.5902228774548561, 0.7089964437098893, 0.5910200612568204, 0.7086979632496752, 0.6841047003283042, 0.6497777187247572, 0.7204973417246548, 0.5842363193181059, 0.6748894144719716, 0.698216814671496, 0.6552026940990618, 0.6305445591266764, 0.5837257095427172, 0.7556442135770286, 0.6355531976220782, 0.7133512400822158, 0.5955300268376127, 0.6857636640022841, 0.7058459494445677, 0.6883552347519932, 0.6955610682580687, 0.7137646668928821, 0.6381979439200538, 0.6782284838987671, 0.7288057524792655, 0.6933458614621428, 0.677047208399883, 0.6934539224062153, 0.7145025307509132, 0.6814635935419407, 0.6685713087579486, 0.6878841052535963, 0.7003254246211407, 0.6814731220270198, 0.692434805812426, 0.6854077140659084, 0.7170622485909267, 0.6764976479503474, 0.6639557071036445, 0.6396973588515713, 0.7485318868041654, 0.7142671024997885, 0.7203750596452114, 0.659829307220903, 0.6775575949760565, 0.7176226916370991, 0.7056077284452325, 0.5790657242697718, 0.6904683621743254, 0.7587378787901796, 0.6963712038295254, 0.6774121852482383, 0.74479628436545, 0.7181722528629998, 0.7131480907777062, 0.7051132981563478, 0.6759639108367851, 0.6607066440114789, 0.6274365264851185, 0.6756392711684552, 0.6556992131960979, 0.6544369345606145, 0.6952858044959207, 0.6609359178685847, 0.7037309896670636, 0.6988239203196314, 0.6933334023716815, 0.6700364183362832, 0.6783312012254883, 0.6350932539610581, 0.7545629902155978, 0.6852571543042204, 0.7110397989462547, 0.7031938183563751, 0.7096849020536414, 0.6001479816608896, 0.6811414519085448, 0.6898931477563285, 0.7110996103194237, 0.6724918140021857, 0.7063136456059508, 0.6560649675445933, 0.6128217188230473, 0.7226130248947183, 0.5567984072324674, 0.6910449580400883, 0.7363812545548029, 0.6433627904925856, 0.6855265197128773, 0.686480892637224, 0.7405611359750096, 0.7167899131658593, 0.688059106313108, 0.6761928492947614, 0.7535552820767536, 0.6496204794046408, 0.6637518153975409, 0.7423161378945344, 0.7117837338835824, 0.6629397783065469, 0.7006551996592038, 0.741352152973369, 0.6831008401749519, 0.7599097432302485, 0.706933752053903, 0.6959571160372211, 0.7179449304880875, 0.6979098141518297, 0.7441599908618782, 0.6531744100124985, 0.70954468395099, 0.6988923687244815, 0.7132794537010732, 0.7202758541107923, 0.6788017085257041, 0.6518020602050986, 0.5601022242439608, 0.702660664710265, 0.6580766168837121, 0.76258339817979, 0.7333067927909304, 0.6973316426365503, 0.6957065737595423, 0.5438199231117509, 0.6450624120547507, 0.7183599117472882, 0.5629160344366898, 0.6653756422126303, 0.6881922746259239, 0.6918697839222581, 0.6927823873300731, 0.7088272733614328, 0.6852901358954383, 0.6875609233786162, 0.681569879557258, 0.7193419498378295, 0.6867834217061805, 0.6697461153293252, 0.6416035507967488, 0.7313026064340551, 0.6438546269035283, 0.7071525819517416, 0.6970773531138883, 0.67131149815117, 0.7298869181038771, 0.7115253698657422, 0.6543216297557509, 0.14509640298453078, 0.6456963729199211, 0.5984834940118218, 0.7644624452051758, 0.6975455885361653, 0.6655192573760557, 0.7080860719006695, 0.6246439747212471, 0.7178765368646235, 0.7019261466535761, 0.6801573267109783, 0.7041557162730403, 0.6354445095600006, 0.6941732921690955, 0.6690015414367495, 0.7097652147328671, 0.7047151337271024, 0.7027961148713757, 0.637717060606208, 0.6348644452367376, 0.6281708805138244, 0.6874716893800505, 0.6802110535510247, 0.6575870604578846, 0.7341633746188413, 0.7202580923206579, 0.6980290391873758, 0.6656275281016433, 0.6400531975612989, 0.69662201388312, 0.6647861631803341, 0.304893290355691, 0.7409817014121034, 0.6782930309036104, 0.57389135556473, 0.6328751912570437, 0.6479512111577329, 0.6741314108606834, 0.6552189568758537, 0.7088061669561972, 0.6264484167179373, 0.7368513864307025, 0.699632609289197, 0.667003513406635, 0.7276325010122072, 0.6733956858804524, 0.6641985600293239, 0.704503751350187, 0.6596770329639682, 0.704722277327561, 0.6263949271173509, 0.7116766788628562, 0.5728042730456802, 0.6396431126858564, 0.619216093581721, 0.6245501939378041, 0.5609950453712005, 0.6137720250907448, 0.6686140470464318, 0.6540468280933158, 0.7161988813182131, 0.6828714697057109, 0.6458142922242898, 0.7006318816421284, 0.7225902807288492, 0.6682907400950571, 0.701784776309247, 0.6991562612659582, 0.6105706134262001, 0.6013563861465412, 0.6788238641779052, 0.6862783323010908, 0.6139287489020493, 0.666380864528398, 0.6619970099218847, 0.6857075178760486, 0.6725281556992887, 0.6611098602223948, 0.6579495790540674, 0.6548834278566394, 0.731261352395761, 0.6461068558058914, 0.7138934655302943, 0.7312346195721438, 0.6483613615894894, 0.6547740226089518, 0.7184181513203025, 0.6732508014340777, 0.6662776791739355, 0.7026483160681376, 0.6768556284688663, 0.6842517659268518, 0.7131825062069419, 0.6836243744964029, 0.7096679577748787, 0.6930525805086017, 0.7007154500808407, 0.6482529236433509, 0.6804100024002523, 0.6438579542895959, 0.6423009415910745, 0.6839280817380323, 0.6934294549132242, 0.6924240814484671, 0.6339970076839201, 0.7032425792471675, 0.5697664646147521, 0.7017602388539873, 0.6813464662827996, 0.6659630315171972, 0.6227061118451356, 0.7119364188782125, 0.7137528259287913, 0.6521082379677307, 0.7210832784595093, 0.6510924779077529, 0.7329174179378605, 0.6956602122027783, 0.7226187453530244, 0.6436881277942689, 0.6441935156910631, 0.7093686660750697, 0.6972771056395425, 0.619665111979731, 0.6968598331690147, 0.6555537527360928, 0.7164961333123355, 0.6590124198839321, 0.6750573592587963, 0.6752224690175316, 0.7156449633196614, 0.6949787390613847, 0.7072453297924024, 0.7580807696999879, 0.7430807038812889, 0.7009844092457722, 0.7204469896259653, 0.6957311046142652, 0.5417527837260123, 0.6797497428604641, 0.7397533358558978, 0.6599922738233375, 0.6784642313964039, 0.5814305335223346, 0.7511323720494322, 0.6858545413359456, 0.650181310472727, 0.6219172232804123, 0.6601236486924804, 0.6886508615065999, 0.6526176192746634, 0.6238333721383784, 0.5977001655050959, 0.7500706424153099, 0.7019849176335008, 0.6872176508973241, 0.6177298405676452, 0.6962077934718093, 0.645744793239763, 0.7101468334347583, 0.6711919641203614, 0.6452795961763785, 0.6435890853787954, 0.6630063810174531, 0.7407760269173603, 0.6450331758645615, 0.676876270609719, 0.7164774286883678, 0.7416902406151892, 0.7039704168481119, 0.6767757947290066, 0.7165129873913115, 0.6827670320633547, 0.7354654183903419, 0.6849511017338621, 0.690998730174394, 0.6603579297428702, 0.668912815094575, 0.6401637365898697, 0.6135113204326162, 0.6060698976420197, 0.6135419914395113, 0.6031914573307551, 0.6543896930585678, 0.6602129087971126, 0.6895241411827516, 0.6890860434652161, 0.7396737364441566, 0.5949107820800572, 0.7061100803463488, 0.5993011378942992, 0.7022190487472727, 0.687129720780135, 0.2757641844207834, 0.7263478817749195, 0.7554585200069087, 0.7190843635641457, 0.6214566425880133, 0.6982228884271754, 0.6874111313477669, 0.6899124001926428, 0.7413637755641428, 0.7277968289171541, 0.5300984881594987, 0.7487667116903582, 0.6960955828221853, 0.6900804100046399, 0.6402865226376945, 0.6537250711954191, 0.6771090436532453, 0.7478451995889833, 0.7603516529273566, 0.7083278282697468, 0.7920382715266733, 0.7159256168441983, 0.6837547109051487, 0.7093535397878618, 0.6518194472559581, 0.5655752068309935, 0.6543323168078796, 0.6653671274923686, 0.6759148013572158, 0.6555993640787474, 0.6914554304450706, 0.66510213417796, 0.6680667172255873, 0.6939424529021209, 0.6487023906789121, 0.7220457422225033, 0.6556973341941784, 0.7183794286992394, 0.6084439080080839, 0.6877581875955306, 0.6718024416048202, 0.6537379838566709, 0.7113875521904869, 0.6732651635485949, 0.7094771384533372, 0.7027961178646075, 0.7614833169432261, 0.6853469059428469, 0.7037463960724963, 0.7145699195887312, 0.6999593334660368, 0.6687672831497755, 0.643869705209857, 0.6956103406615279, 0.7025560274086609, 0.6601851559493765, 0.67526294047154, 0.7691915990761374, 0.7276168853674936, 0.6641686573333172, 0.6692707081472852, 0.6697699189897386, 0.6962963537381869, 0.25124519455265176, 0.6691626610067766, 0.6309032942853209, 0.6921782854161557, 0.665222556186578, 0.7298158658412056, 0.7200309327602004, 0.719133477754041, 0.6894982709517805, 0.6969670618711399, 0.683829014445217, 0.7377452973948445, 0.5610458922431416, 0.2785133666716594, 0.6792317902776529, 0.6230802830602871, 0.6577706890003336, 0.7030661499137171, 0.6877982472915558, 0.752461644940908, 0.6195017789151701, 0.6786734011559664, 0.6259148936606757, 0.6915424867116653, 0.7158397693417219, 0.6817047639331855, 0.6667210874368455, 0.6701990737328684, 0.6957680928956425, 0.6352486576963445, 0.6988632037222734, 0.6484681961728241, 0.7881344282675689, 0.6572736866558573, 0.6777688054526935, 0.6688631500628169, 0.7155053724236305, 0.6650613036416969, 0.6909035558672887, 0.6635147949379213, 0.6561408079724879, 0.7123742372702203, 0.6695785062117277, 0.7034772489295064, 0.6634368145158471, 0.6754523704326737, 0.6724446816488713, 0.7452166795879896, 0.6754450929488476, 0.585627228379925, 0.6448301688370771, 0.6961389038255748, 0.7089406703692978, 0.7030744516813302, 0.6779341889192357, 0.7173901360416113, 0.6085364688061301, 0.7258933657353329, 0.7103118348919956, 0.6735898707259351, 0.6958863866836793, 0.70624509907111, 0.6926629979533959, 0.6431278585995989, 0.7047456656632781, 0.7151903043982376, 0.6598680314311216, 0.6975008346740157, 0.6928438381603959, 0.649513527036752, 0.6968006711237605, 0.6795056124274966, 0.6878502748389292, 0.7213258119120188, 0.7173143517794044, 0.6228938374732931, 0.6924050175962673, 0.621829498508151, 0.6957890528857892]\n",
      "torch.Size([512])\n",
      "[0.6037281879440063, 0.4565899401254447, 0.4897474132698855, 0.4502904183740599, 1.6671458024054258, 0.6197687353239596, 0.8797580156696758, 0.6463048506242051, 0.7224524871747989, 0.6167874924121471, 0.4867626128043851, 0.5777175911526911, 1.074881083788971, 0.6340218987600946, 0.473976509487148, 0.7342826608196921, 0.5290697543455216, 0.504349031701732, 0.5804858353611679, 0.5414154573966294, 0.4702630611770612, 2.56939771066831, 0.7026196974905999, 0.6636408752098819, 0.7860018916113285, 0.5074872859484331, 0.5055143607903062, 0.5070292394419171, 0.5705142848993985, 0.497654569686024, 0.48104470521093373, 0.5485739831120507, 1.2759455181602593, 3.105232983798745, 0.6876988257800711, 1.2778860882444965, 0.6192963380876552, 0.4913879445077311, 0.7232845675195247, 0.5817226849938008, 0.4830792329975637, 1.1203871560351988, 0.8223484111917843, 0.49147506663110263, 0.701780647294296, 0.7301001105211615, 0.6026515559403579, 0.5173623189042388, 0.5481239284214899, 1.0428828346167305, 1.0632555140499191, 0.4974517633935251, 0.643864598148276, 2.713303360217139, 0.6118086314161169, 0.5130114848058417, 0.45633065585200705, 0.5159796471684609, 0.5397064751295855, 0.614605809836287, 0.6124548253430717, 0.5415370150270151, 0.7623004723131777, 1.0424222815186777, 0.5268128529141338, 0.7459998012590991, 1.5746849670407879, 0.5792860712223988, 0.4371988655614715, 0.6487748039191162, 0.603088278408379, 0.5011575585914724, 0.4783143225883786, 0.5198046016539074, 0.5118527465441268, 0.4598355435016099, 0.6823082439709706, 0.4871569381856837, 2.2278268585969716, 1.0014284325139264, 1.0158669603923747, 0.6633353151530483, 0.5468805925720363, 0.5545401372698548, 0.7680034307162732, 0.5566035988804419, 0.6577270192592339, 0.6414017270245537, 0.4986730296522648, 0.8860150564746174, 0.7616248566944778, 0.6478012220633494, 0.6076394446615052, 0.5009710253339251, 0.6528729455970322, 0.6657273105852741, 0.46650537145451393, 0.5047573590689118, 0.48645348132281896, 0.8516509410606805, 0.5433867815992819, 0.5290889538192839, 1.263864026539949, 0.4528456677115581, 0.6838707887163064, 0.5775353987734416, 0.939633434996659, 0.5873924840750772, 0.6164404820882511, 0.5485542226184873, 0.591872327310234, 0.6010661773477738, 0.5179936221827066, 0.5626732989212347, 0.4877901967303476, 0.6907438569919633, 0.8299019839196085, 1.105145262820362, 0.5098986522519019, 0.7539681127460618, 0.656734171344573, 0.8480754352596608, 2.064072218673101, 1.33290552499994, 0.7665076971658056, 0.5521324784463189, 0.47123997710988375, 1.1759376290661203, 0.5670753422224075, 0.519452687185325, 0.6129729705576679, 0.5215375778158062, 0.7355361440143344, 0.5624721420881503, 2.098893442305139, 0.5619226281005841, 0.8173757254435642, 0.445537234821932, 0.6652805086127627, 0.6882782591506886, 0.9182029162123735, 0.8711903186076916, 0.45467436628657626, 1.0724381719705722, 0.5364175289312556, 0.8062096575045239, 0.5693088389609342, 0.5080154536450022, 0.48995904959743064, 0.7820061929217905, 0.6503029423934672, 1.7374428887932314, 0.6876139478781174, 0.5301723755426344, 3.170664609392737, 0.5945572462120192, 0.745517386429402, 0.5510628391688999, 0.7030440950962643, 0.5715334303590958, 0.6119238790621185, 3.6277275960034814, 0.5223254250502887, 3.4926862327874724, 1.4597439210903016, 0.8129597313000937, 0.5859591291251134, 2.110648331437027, 0.8398656853248072, 0.5431647380641902, 0.4476446438974429, 0.5488287342863519, 2.6640182202681353, 0.33559844386712273, 1.9025909752448413, 0.9800490297645228, 1.4906353825684353, 0.6364971462708092, 0.689642543987668, 0.5359209845792717, 0.46177574019138834, 2.1279465027239226, 0.6374018911772026, 0.5285139010771926, 0.612186300177779, 0.4889761435116905, 0.5910684638168453, 0.49676726255561726, 3.5277097115490466, 0.5819849152957944, 0.5383098205932038, 0.6555717892513835, 0.6564675430137369, 0.45721370585049853, 0.5370120145246946, 0.48700299902587646, 0.6272308269692045, 0.5793033860171012, 0.666473737352049, 0.5712396732710653, 0.6206766942509657, 3.8278831666159965, 0.6173050755402641, 0.5656718762044078, 2.4099104252167964, 0.5938308412208456, 0.6163050191993958, 0.6777539880180392, 0.6261416128583026, 0.5332137134571578, 0.7363347870963414, 0.5929921225747463, 0.6175820258645417, 0.5776309500042929, 0.7187720194486819, 0.5863707454678398, 0.6001537624262467, 0.8742116126108389, 0.5074680248060781, 2.5333259746737324, 0.6193023646500767, 0.647507311468109, 1.3343521139049923, 3.576911479623323, 0.729813992397186, 0.5744569826939726, 1.2469793335587835, 0.44973098659662686, 2.887823076537409, 0.6149165575274307, 0.5738776840207257, 0.8203213265944779, 2.8521951333262785, 1.1986109464630537, 0.9616585728513137, 0.6047820320633518, 1.1769698798751693, 0.5616962626756754, 0.7820091161360022, 0.6119022289974244, 0.9293279430724339, 0.4804597551148066, 0.6692512504514833, 1.3509758685920783, 0.5071337201634807, 1.4842297197177927, 0.8013678330313593, 0.5483205720935299, 0.6009872616475318, 0.8221973808442313, 0.8781600390242614, 0.5272262634621598, 0.6282967904450923, 0.5601960026446974, 0.48505970086047534, 0.4961860669869641]\n",
      "torch.Size([256])\n",
      "[0.45588187379297035, 0.6547329276222222, 0.6144665415363588, 0.31847692378728515, 0.5606875644347584, 0.5353272310364003, 0.5763776874801108, 0.6000021540852551, 0.8955087907183024, 0.43706264670615047, 0.49195351331782194, 0.32002780284178783, 0.366032721345947, 0.5631143836902699, 0.48178032799874876, 0.4958571895949266, 0.5160422622014033, 0.7792901556218843, 0.6757728620815627, 0.2774723225585992, 0.5431421315349442, 0.5333069168794671, 0.4342940196902956, 0.6013921034829206, 0.700342715287117, 0.4697432414867597, 0.4319488509775265, 0.5110308676448532, 0.38781306885040884, 0.5425228511275179, 0.6243271316820245, 0.3590085604520921, 0.5724370789500856, 0.41465728752308656, 0.5827481018172377, 0.7657660052434128, 0.5226683342330958, 0.30038512144990687, 0.4545945514212391, 0.45393848647621843, 0.5143706675721771, 0.7316110940287515, 0.6706115872017558, 0.39445553406079353, 0.46325516715356563, 0.44715885126974875, 0.47543238539671745, 0.7112953022157752, 0.5705751315614647, 0.47315002969376796, 0.4875754226891189, 0.47189735549726625, 0.6011245781030479, 0.748594989923261, 0.5709413664062741, 0.4258647823927989, 0.5627626312417255, 0.4468508349838695, 0.4601716624732664, 0.3863164394545491, 0.49527601443997404, 0.49380668871526795, 0.44895530153681884, 0.7024591450202083, 0.5936087866065042, 0.5211077217833116, 0.6365169988194905, 0.7283109441911133, 0.5614648024643213, 0.39800500975537395, 0.5390272965478092, 0.4974492676015569, 0.5441947332782242, 0.2683098534473948, 0.4526424482611993, 0.7269521698481761, 0.5168170830157673, 0.46539690877905554, 0.6646072775201334, 0.6101706644633886, 0.6765064824871106, 0.5369830273733853, 0.6515215441404565, 0.4794170966301567, 0.6062468372002051, 0.914433660060022, 0.3696865463318818, 0.6109659869033408, 0.36924705618571296, 0.5874746124346951, 0.6185738369053513, 0.6869812593012514, 0.7841558846767422, 0.3931244215788672, 0.6297337430443862, 0.49983529260716714, 0.5810448618803905, 0.6844979334493508, 0.34648134585630147, 0.4473002526655691, 0.738593641609646, 0.5074495740720343, 0.47632947066844444, 0.5040008561233751, 0.4232867385636527, 0.3393833686919007, 0.48651477312979535, 0.43690047224501594, 0.9381096476494559, 0.5183816336022649, 0.44004160452759095, 0.4683063401374444, 0.47237505539963, 0.5567242239665539, 0.3769564287372468, 0.41109500917347314, 0.41220575489685013, 0.46434920870454893, 0.44249591888231427, 0.6451639668877771, 0.9129752577573396, 0.4131433928115362, 0.47598980498381716, 0.576559780948308, 0.4684283638135491, 0.352922369361897, 0.6335855164903006, 0.480377599390681]\n",
      "torch.Size([128])\n",
      "[0.2291283497972419, 0.13760369307392073, 0.10670812244333415, 0.1657152181196305, 0.17334438238492267, 0.11117975714645009, 0.2864165366588779, 0.22600467165947702, 0.2766984324978468, 0.5129422436043481, 0.11100171271542182, 0.13516761755593684, 0.7655752806405131, 0.08991445951780012, 0.1251248571950195, 0.12713969694867164, 0.1506100739939309, 0.12560311797852364, 0.1952820213067461, 0.11272086820701083, 0.09418864585288407, 0.4879815617838631, 0.5741052037264758, 0.6071558317459727, 0.07254025087038433, 0.08370433828865662, 0.2780828614252314, 0.31740682065115944, 0.5050103378198426, 0.06835281049786165, 0.21421509660172952, 0.15170086800267155, 0.1377109530809722, 0.3352549102891802, 0.18667225868229761, 0.2848427571895912, 0.17190020793545713, 0.1776502579442831, 0.43532157786642733, 0.10073961857604924, 0.09118327245376834, 0.31932080853410183, 0.24180584530197968, 0.10343468269021966, 0.3620446214251945, 0.40310133572697715, 0.1142810436729084, 0.1396194870799581, 0.12150927395188675, 0.6005635649194938, 0.6360228652975043, 0.29039388713748127, 0.3181321385599396, 0.11664982616223517, 0.14678345251994107, 0.08450089264333145, 0.6537651169565823, 0.22872849263283637, 0.1408837781839974, 0.1352084254666851, 0.11858025848805125, 0.2769998581942564, 0.15618394234382071, 0.1615688959682047]\n",
      "torch.Size([64])\n"
     ]
    }
   ],
   "source": [
    "for i in range(len(lay)):\n",
    "    if i > 0 and i <= len(lay)-1:\n",
    "        norms = []\n",
    "        for j in range(lay[i-1][1].weight.shape[0]):\n",
    "            norms.append(np.sqrt(torch.sum(torch.square(lay[i][1].weight.data[:,j])).item())/np.sqrt(torch.sum(torch.square(lay[i-1][1].weight.data[j])).item()))\n",
    "        print(norms)\n",
    "        norms = torch.tensor(norms)\n",
    "        print(norms.shape)"
   ]
  },
  {
   "cell_type": "code",
   "execution_count": 54,
   "metadata": {},
   "outputs": [
    {
     "data": {
      "image/png": "[encoded data removed]",
      "text/plain": [
       "<Figure size 1600x1000 with 1 Axes>"
      ]
     },
     "metadata": {},
     "output_type": "display_data"
    }
   ],
   "source": [
    "epochs_plot = list(range(100))\n",
    "\n",
    "plt.figure(figsize=(16, 10))\n",
    "plt.plot(epochs_plot, acc, linestyle='-', color='b', label='acc')\n",
    "\n",
    "plt.xlabel('Epochs', fontsize=14)\n",
    "plt.ylabel('Accuracy', fontsize=14)\n",
    "plt.title('Model Accuracy Over Epochs', fontsize=14)\n",
    "\n",
    "plt.xticks(fontsize=14)\n",
    "plt.yticks(fontsize=14)\n",
    "\n",
    "plt.grid(True)\n",
    "\n",
    "plt.legend(fontsize=14)\n",
    "\n",
    "plt.show()"
   ]
  },
  {
   "cell_type": "code",
   "execution_count": 55,
   "metadata": {},
   "outputs": [],
   "source": [
    "import pickle\n",
    "with open('cleanAcc4.pkl', 'wb') as f:\n",
    "    pickle.dump(acc, f)"
   ]
  }
 ],
 "metadata": {
  "kernelspec": {
   "display_name": "Python 3",
   "language": "python",
   "name": "python3"
  },
  "language_info": {
   "codemirror_mode": {
    "name": "ipython",
    "version": 3
   },
   "file_extension": ".py",
   "mimetype": "text/x-python",
   "name": "python",
   "nbconvert_exporter": "python",
   "pygments_lexer": "ipython3",
   "version": "3.11.2"
  }
 },
 "nbformat": 4,
 "nbformat_minor": 2
}
