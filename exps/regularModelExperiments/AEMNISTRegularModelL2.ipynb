{
 "cells": [
  {
   "cell_type": "code",
   "execution_count": 56,
   "metadata": {},
   "outputs": [],
   "source": [
    "import torch\n",
    "import torch.nn as nn\n",
    "import torch.optim as optim\n",
    "import numpy as np\n",
    "from torchvision.datasets import MNIST\n",
    "from torch.utils.data import DataLoader\n",
    "from torchvision import transforms\n",
    "import torch.nn.functional as F\n",
    "import os\n",
    "from tqdm import tqdm\n",
    "\n",
    "class SingleLayerNN(nn.Module):\n",
    "    def __init__(self):\n",
    "        super(SingleLayerNN, self).__init__()\n",
    "        self.fc = nn.Linear(784, 256) \n",
    "        self.fc1 = nn.Linear(256, 128)\n",
    "        self.fc2 = nn.Linear(128, 64)\n",
    "        self.out = nn.Linear(64, 10)\n",
    "\n",
    "    def forward(self, x):\n",
    "        x = torch.relu(self.fc(x)) \n",
    "        x = torch.relu(self.fc1(x))\n",
    "        x = torch.relu(self.fc2(x))\n",
    "        x = self.out(x)  \n",
    "        return x\n",
    "\n",
    "model = SingleLayerNN()\n",
    "\n",
    "\n",
    "criterion = nn.MSELoss() \n",
    "optimizer = optim.Adam(model.parameters(), lr=0.01)  \n"
   ]
  },
  {
   "cell_type": "code",
   "execution_count": 57,
   "metadata": {},
   "outputs": [],
   "source": [
    "#torch.manual_seed(7)"
   ]
  },
  {
   "cell_type": "code",
   "execution_count": 58,
   "metadata": {},
   "outputs": [
    {
     "name": "stderr",
     "output_type": "stream",
     "text": [
      "/var/folders/d1/pxwd2rcj41j7b2lhnz909xn80000gn/T/ipykernel_61136/112231088.py:4: UserWarning: To copy construct from a tensor, it is recommended to use sourceTensor.clone().detach() or sourceTensor.clone().detach().requires_grad_(True), rather than torch.tensor(sourceTensor).\n",
      "  x_train = torch.tensor(x_train, dtype=torch.float32)\n",
      "/var/folders/d1/pxwd2rcj41j7b2lhnz909xn80000gn/T/ipykernel_61136/112231088.py:5: UserWarning: To copy construct from a tensor, it is recommended to use sourceTensor.clone().detach() or sourceTensor.clone().detach().requires_grad_(True), rather than torch.tensor(sourceTensor).\n",
      "  y_train = torch.tensor(y_train, dtype=torch.float32)\n"
     ]
    }
   ],
   "source": [
    "train_dataset = MNIST(os.getcwd(), train=True, download=True, transform=[transforms.ToTensor(), transforms.Normalize((0.5,), (0.5,))])\n",
    "x_train = train_dataset.data / 255.0\n",
    "y_train = F.one_hot(train_dataset.targets, num_classes=10)\n",
    "x_train = torch.tensor(x_train, dtype=torch.float32)\n",
    "y_train = torch.tensor(y_train, dtype=torch.float32)\n",
    "x_train = x_train.view(-1, 784)\n",
    "dtrain = torch.utils.data.TensorDataset(x_train, y_train)\n",
    "trainloader = DataLoader(dtrain, batch_size=256, shuffle=True)"
   ]
  },
  {
   "cell_type": "code",
   "execution_count": 59,
   "metadata": {},
   "outputs": [
    {
     "name": "stderr",
     "output_type": "stream",
     "text": [
      "/var/folders/d1/pxwd2rcj41j7b2lhnz909xn80000gn/T/ipykernel_61136/3473755828.py:4: UserWarning: To copy construct from a tensor, it is recommended to use sourceTensor.clone().detach() or sourceTensor.clone().detach().requires_grad_(True), rather than torch.tensor(sourceTensor).\n",
      "  x_test = torch.tensor(x_test, dtype=torch.float32)\n",
      "/var/folders/d1/pxwd2rcj41j7b2lhnz909xn80000gn/T/ipykernel_61136/3473755828.py:5: UserWarning: To copy construct from a tensor, it is recommended to use sourceTensor.clone().detach() or sourceTensor.clone().detach().requires_grad_(True), rather than torch.tensor(sourceTensor).\n",
      "  y_test = torch.tensor(y_test, dtype=torch.float32)\n"
     ]
    }
   ],
   "source": [
    "testDataset = MNIST(os.getcwd(), train=False, download=True, transform=[transforms.ToTensor(), transforms.Normalize((0.5,), (0.5,))])\n",
    "x_test = testDataset.data / 255.0\n",
    "y_test = F.one_hot(testDataset.targets, num_classes=10)\n",
    "x_test = torch.tensor(x_test, dtype=torch.float32)\n",
    "y_test = torch.tensor(y_test, dtype=torch.float32)\n",
    "x_test = x_test.view(-1, 784)\n",
    "dtest = torch.utils.data.TensorDataset(x_test, y_test)\n",
    "testloader = DataLoader(dtest, batch_size=256, shuffle=True)"
   ]
  },
  {
   "cell_type": "code",
   "execution_count": 60,
   "metadata": {},
   "outputs": [],
   "source": [
    "def neuronalNeuralBalance(inl, oul):\n",
    "\n",
    "    ninc = torch.zeros_like(inl.weight)\n",
    "    noul = torch.zeros_like(oul.weight)\n",
    "\n",
    "    for i in range(inl.weight.data.shape[0]):\n",
    "        inc = np.sqrt(torch.sum(torch.square(inl.weight.data[i])).item())\n",
    "        outg = np.sqrt(torch.sum(torch.square(oul.weight.data[:,i])).item())\n",
    "\n",
    "        # outg = outg / float(len(oul.weight.data[:,i]))\n",
    "        # inc = inc / float(len(inl.weight.data[i]))\n",
    "\n",
    "        opt = np.sqrt(outg/inc)\n",
    "\n",
    "        ninc[i] = inl.weight.data[i]*opt\n",
    "        noul[:, i] = oul.weight.data[:,i]/opt\n",
    "\n",
    "    inl.weight.data = ninc\n",
    "    oul.weight.data = noul\n"
   ]
  },
  {
   "cell_type": "code",
   "execution_count": 61,
   "metadata": {},
   "outputs": [
    {
     "name": "stdout",
     "output_type": "stream",
     "text": [
      "Linear\n",
      "Linear\n",
      "Linear\n",
      "Linear\n",
      "Linear\n"
     ]
    },
    {
     "name": "stderr",
     "output_type": "stream",
     "text": [
      "100%|██████████| 235/235 [00:01<00:00, 143.88it/s]\n"
     ]
    },
    {
     "name": "stdout",
     "output_type": "stream",
     "text": [
      "Epoch 0/100, Loss: 0.054941803216934204, train dataset accuracy: 67.12\n",
      "test dataset accuracy: 89.45%\n"
     ]
    },
    {
     "name": "stderr",
     "output_type": "stream",
     "text": [
      "100%|██████████| 235/235 [00:01<00:00, 148.02it/s]\n"
     ]
    },
    {
     "name": "stdout",
     "output_type": "stream",
     "text": [
      "Epoch 1/100, Loss: 0.04545065015554428, train dataset accuracy: 90.45\n",
      "test dataset accuracy: 89.62%\n"
     ]
    },
    {
     "name": "stderr",
     "output_type": "stream",
     "text": [
      "100%|██████████| 235/235 [00:01<00:00, 142.63it/s]\n"
     ]
    },
    {
     "name": "stdout",
     "output_type": "stream",
     "text": [
      "Epoch 2/100, Loss: 0.0405549630522728, train dataset accuracy: 90.99333333333334\n",
      "test dataset accuracy: 90.6%\n"
     ]
    },
    {
     "name": "stderr",
     "output_type": "stream",
     "text": [
      "100%|██████████| 235/235 [00:01<00:00, 147.01it/s]\n"
     ]
    },
    {
     "name": "stdout",
     "output_type": "stream",
     "text": [
      "Epoch 3/100, Loss: 0.0453205406665802, train dataset accuracy: 91.60833333333333\n",
      "test dataset accuracy: 91.88%\n"
     ]
    },
    {
     "name": "stderr",
     "output_type": "stream",
     "text": [
      "100%|██████████| 235/235 [00:01<00:00, 141.85it/s]\n"
     ]
    },
    {
     "name": "stdout",
     "output_type": "stream",
     "text": [
      "Epoch 4/100, Loss: 0.041601892560720444, train dataset accuracy: 92.105\n",
      "test dataset accuracy: 92.66%\n"
     ]
    },
    {
     "name": "stderr",
     "output_type": "stream",
     "text": [
      "100%|██████████| 235/235 [00:01<00:00, 145.60it/s]\n"
     ]
    },
    {
     "name": "stdout",
     "output_type": "stream",
     "text": [
      "Epoch 5/100, Loss: 0.05272752419114113, train dataset accuracy: 91.80166666666666\n",
      "test dataset accuracy: 91.18%\n"
     ]
    },
    {
     "name": "stderr",
     "output_type": "stream",
     "text": [
      "100%|██████████| 235/235 [00:01<00:00, 150.06it/s]\n"
     ]
    },
    {
     "name": "stdout",
     "output_type": "stream",
     "text": [
      "Epoch 6/100, Loss: 0.05296339839696884, train dataset accuracy: 92.055\n",
      "test dataset accuracy: 92.54%\n"
     ]
    },
    {
     "name": "stderr",
     "output_type": "stream",
     "text": [
      "100%|██████████| 235/235 [00:01<00:00, 143.29it/s]\n"
     ]
    },
    {
     "name": "stdout",
     "output_type": "stream",
     "text": [
      "Epoch 7/100, Loss: 0.04841895401477814, train dataset accuracy: 89.965\n",
      "test dataset accuracy: 89.19%\n"
     ]
    },
    {
     "name": "stderr",
     "output_type": "stream",
     "text": [
      "100%|██████████| 235/235 [00:01<00:00, 147.91it/s]\n"
     ]
    },
    {
     "name": "stdout",
     "output_type": "stream",
     "text": [
      "Epoch 8/100, Loss: 0.039646513760089874, train dataset accuracy: 92.04833333333333\n",
      "test dataset accuracy: 92.71%\n"
     ]
    },
    {
     "name": "stderr",
     "output_type": "stream",
     "text": [
      "100%|██████████| 235/235 [00:01<00:00, 148.19it/s]\n"
     ]
    },
    {
     "name": "stdout",
     "output_type": "stream",
     "text": [
      "Epoch 9/100, Loss: 0.05350590869784355, train dataset accuracy: 91.92833333333333\n",
      "test dataset accuracy: 91.34%\n"
     ]
    },
    {
     "name": "stderr",
     "output_type": "stream",
     "text": [
      "100%|██████████| 235/235 [00:01<00:00, 148.65it/s]\n"
     ]
    },
    {
     "name": "stdout",
     "output_type": "stream",
     "text": [
      "Epoch 10/100, Loss: 0.037100791931152344, train dataset accuracy: 92.11833333333334\n",
      "test dataset accuracy: 92.5%\n"
     ]
    },
    {
     "name": "stderr",
     "output_type": "stream",
     "text": [
      "100%|██████████| 235/235 [00:01<00:00, 137.79it/s]\n"
     ]
    },
    {
     "name": "stdout",
     "output_type": "stream",
     "text": [
      "Epoch 11/100, Loss: 0.042643122375011444, train dataset accuracy: 92.40833333333333\n",
      "test dataset accuracy: 91.73%\n"
     ]
    },
    {
     "name": "stderr",
     "output_type": "stream",
     "text": [
      "100%|██████████| 235/235 [00:01<00:00, 148.16it/s]\n"
     ]
    },
    {
     "name": "stdout",
     "output_type": "stream",
     "text": [
      "Epoch 12/100, Loss: 0.03351960331201553, train dataset accuracy: 92.605\n",
      "test dataset accuracy: 93.24%\n"
     ]
    },
    {
     "name": "stderr",
     "output_type": "stream",
     "text": [
      "100%|██████████| 235/235 [00:01<00:00, 147.82it/s]\n"
     ]
    },
    {
     "name": "stdout",
     "output_type": "stream",
     "text": [
      "Epoch 13/100, Loss: 0.04479232430458069, train dataset accuracy: 92.29666666666667\n",
      "test dataset accuracy: 85.8%\n"
     ]
    },
    {
     "name": "stderr",
     "output_type": "stream",
     "text": [
      "100%|██████████| 235/235 [00:01<00:00, 147.12it/s]\n"
     ]
    },
    {
     "name": "stdout",
     "output_type": "stream",
     "text": [
      "Epoch 14/100, Loss: 0.04986760765314102, train dataset accuracy: 92.325\n",
      "test dataset accuracy: 92.71%\n"
     ]
    },
    {
     "name": "stderr",
     "output_type": "stream",
     "text": [
      "100%|██████████| 235/235 [00:01<00:00, 144.03it/s]\n"
     ]
    },
    {
     "name": "stdout",
     "output_type": "stream",
     "text": [
      "Epoch 15/100, Loss: 0.03782429173588753, train dataset accuracy: 92.26333333333334\n",
      "test dataset accuracy: 93.26%\n"
     ]
    },
    {
     "name": "stderr",
     "output_type": "stream",
     "text": [
      "100%|██████████| 235/235 [00:01<00:00, 148.01it/s]\n"
     ]
    },
    {
     "name": "stdout",
     "output_type": "stream",
     "text": [
      "Epoch 16/100, Loss: 0.03787782043218613, train dataset accuracy: 92.41833333333334\n",
      "test dataset accuracy: 92.26%\n"
     ]
    },
    {
     "name": "stderr",
     "output_type": "stream",
     "text": [
      "100%|██████████| 235/235 [00:01<00:00, 147.62it/s]\n"
     ]
    },
    {
     "name": "stdout",
     "output_type": "stream",
     "text": [
      "Epoch 17/100, Loss: 0.038542259484529495, train dataset accuracy: 92.20333333333333\n",
      "test dataset accuracy: 89.66%\n"
     ]
    },
    {
     "name": "stderr",
     "output_type": "stream",
     "text": [
      "100%|██████████| 235/235 [00:01<00:00, 147.61it/s]\n"
     ]
    },
    {
     "name": "stdout",
     "output_type": "stream",
     "text": [
      "Epoch 18/100, Loss: 0.03964994102716446, train dataset accuracy: 92.14666666666666\n",
      "test dataset accuracy: 93.0%\n"
     ]
    },
    {
     "name": "stderr",
     "output_type": "stream",
     "text": [
      "100%|██████████| 235/235 [00:01<00:00, 142.91it/s]\n"
     ]
    },
    {
     "name": "stdout",
     "output_type": "stream",
     "text": [
      "Epoch 19/100, Loss: 0.040522947907447815, train dataset accuracy: 92.44333333333333\n",
      "test dataset accuracy: 89.87%\n"
     ]
    },
    {
     "name": "stderr",
     "output_type": "stream",
     "text": [
      "100%|██████████| 235/235 [00:01<00:00, 142.57it/s]\n"
     ]
    },
    {
     "name": "stdout",
     "output_type": "stream",
     "text": [
      "Epoch 20/100, Loss: 0.03813298046588898, train dataset accuracy: 92.43\n",
      "test dataset accuracy: 91.87%\n"
     ]
    },
    {
     "name": "stderr",
     "output_type": "stream",
     "text": [
      "100%|██████████| 235/235 [00:01<00:00, 148.14it/s]\n"
     ]
    },
    {
     "name": "stdout",
     "output_type": "stream",
     "text": [
      "Epoch 21/100, Loss: 0.03605130687355995, train dataset accuracy: 91.90333333333334\n",
      "test dataset accuracy: 92.92%\n"
     ]
    },
    {
     "name": "stderr",
     "output_type": "stream",
     "text": [
      "100%|██████████| 235/235 [00:01<00:00, 144.64it/s]\n"
     ]
    },
    {
     "name": "stdout",
     "output_type": "stream",
     "text": [
      "Epoch 22/100, Loss: 0.04488809034228325, train dataset accuracy: 92.16166666666666\n",
      "test dataset accuracy: 91.52%\n"
     ]
    },
    {
     "name": "stderr",
     "output_type": "stream",
     "text": [
      "100%|██████████| 235/235 [00:01<00:00, 141.56it/s]\n"
     ]
    },
    {
     "name": "stdout",
     "output_type": "stream",
     "text": [
      "Epoch 23/100, Loss: 0.04320886358618736, train dataset accuracy: 92.54\n",
      "test dataset accuracy: 92.3%\n"
     ]
    },
    {
     "name": "stderr",
     "output_type": "stream",
     "text": [
      "100%|██████████| 235/235 [00:01<00:00, 148.08it/s]\n"
     ]
    },
    {
     "name": "stdout",
     "output_type": "stream",
     "text": [
      "Epoch 24/100, Loss: 0.06570914387702942, train dataset accuracy: 92.105\n",
      "test dataset accuracy: 72.09%\n"
     ]
    },
    {
     "name": "stderr",
     "output_type": "stream",
     "text": [
      "100%|██████████| 235/235 [00:01<00:00, 147.71it/s]\n"
     ]
    },
    {
     "name": "stdout",
     "output_type": "stream",
     "text": [
      "Epoch 25/100, Loss: 0.0372370146214962, train dataset accuracy: 92.32166666666667\n",
      "test dataset accuracy: 92.89%\n"
     ]
    },
    {
     "name": "stderr",
     "output_type": "stream",
     "text": [
      "100%|██████████| 235/235 [00:01<00:00, 148.25it/s]\n"
     ]
    },
    {
     "name": "stdout",
     "output_type": "stream",
     "text": [
      "Epoch 26/100, Loss: 0.04015339910984039, train dataset accuracy: 91.78\n",
      "test dataset accuracy: 92.12%\n"
     ]
    },
    {
     "name": "stderr",
     "output_type": "stream",
     "text": [
      "100%|██████████| 235/235 [00:01<00:00, 136.84it/s]\n"
     ]
    },
    {
     "name": "stdout",
     "output_type": "stream",
     "text": [
      "Epoch 27/100, Loss: 0.043190330266952515, train dataset accuracy: 92.24833333333333\n",
      "test dataset accuracy: 92.61%\n"
     ]
    },
    {
     "name": "stderr",
     "output_type": "stream",
     "text": [
      "100%|██████████| 235/235 [00:01<00:00, 148.16it/s]\n"
     ]
    },
    {
     "name": "stdout",
     "output_type": "stream",
     "text": [
      "Epoch 28/100, Loss: 0.031667571514844894, train dataset accuracy: 91.98166666666667\n",
      "test dataset accuracy: 93.11%\n"
     ]
    },
    {
     "name": "stderr",
     "output_type": "stream",
     "text": [
      "100%|██████████| 235/235 [00:01<00:00, 148.59it/s]\n"
     ]
    },
    {
     "name": "stdout",
     "output_type": "stream",
     "text": [
      "Epoch 29/100, Loss: 0.03730756789445877, train dataset accuracy: 92.49333333333334\n",
      "test dataset accuracy: 92.84%\n"
     ]
    },
    {
     "name": "stderr",
     "output_type": "stream",
     "text": [
      "100%|██████████| 235/235 [00:01<00:00, 146.12it/s]\n"
     ]
    },
    {
     "name": "stdout",
     "output_type": "stream",
     "text": [
      "Epoch 30/100, Loss: 0.039048198610544205, train dataset accuracy: 91.62166666666667\n",
      "test dataset accuracy: 92.83%\n"
     ]
    },
    {
     "name": "stderr",
     "output_type": "stream",
     "text": [
      "100%|██████████| 235/235 [00:01<00:00, 139.83it/s]\n"
     ]
    },
    {
     "name": "stdout",
     "output_type": "stream",
     "text": [
      "Epoch 31/100, Loss: 0.037844929844141006, train dataset accuracy: 92.635\n",
      "test dataset accuracy: 92.26%\n"
     ]
    },
    {
     "name": "stderr",
     "output_type": "stream",
     "text": [
      "100%|██████████| 235/235 [00:01<00:00, 147.84it/s]\n"
     ]
    },
    {
     "name": "stdout",
     "output_type": "stream",
     "text": [
      "Epoch 32/100, Loss: 0.04408692941069603, train dataset accuracy: 92.32\n",
      "test dataset accuracy: 91.93%\n"
     ]
    },
    {
     "name": "stderr",
     "output_type": "stream",
     "text": [
      "100%|██████████| 235/235 [00:01<00:00, 147.08it/s]\n"
     ]
    },
    {
     "name": "stdout",
     "output_type": "stream",
     "text": [
      "Epoch 33/100, Loss: 0.04358205944299698, train dataset accuracy: 91.545\n",
      "test dataset accuracy: 91.13%\n"
     ]
    },
    {
     "name": "stderr",
     "output_type": "stream",
     "text": [
      "100%|██████████| 235/235 [00:01<00:00, 148.09it/s]\n"
     ]
    },
    {
     "name": "stdout",
     "output_type": "stream",
     "text": [
      "Epoch 34/100, Loss: 0.04123632609844208, train dataset accuracy: 92.36833333333334\n",
      "test dataset accuracy: 91.78%\n"
     ]
    },
    {
     "name": "stderr",
     "output_type": "stream",
     "text": [
      "100%|██████████| 235/235 [00:01<00:00, 142.44it/s]\n"
     ]
    },
    {
     "name": "stdout",
     "output_type": "stream",
     "text": [
      "Epoch 35/100, Loss: 0.036849021911621094, train dataset accuracy: 92.37666666666667\n",
      "test dataset accuracy: 92.69%\n"
     ]
    },
    {
     "name": "stderr",
     "output_type": "stream",
     "text": [
      "100%|██████████| 235/235 [00:01<00:00, 147.96it/s]\n"
     ]
    },
    {
     "name": "stdout",
     "output_type": "stream",
     "text": [
      "Epoch 36/100, Loss: 0.03576355054974556, train dataset accuracy: 92.38666666666667\n",
      "test dataset accuracy: 92.67%\n"
     ]
    },
    {
     "name": "stderr",
     "output_type": "stream",
     "text": [
      "100%|██████████| 235/235 [00:01<00:00, 148.19it/s]\n"
     ]
    },
    {
     "name": "stdout",
     "output_type": "stream",
     "text": [
      "Epoch 37/100, Loss: 0.03612606227397919, train dataset accuracy: 92.35\n",
      "test dataset accuracy: 92.79%\n"
     ]
    },
    {
     "name": "stderr",
     "output_type": "stream",
     "text": [
      "100%|██████████| 235/235 [00:01<00:00, 146.35it/s]\n"
     ]
    },
    {
     "name": "stdout",
     "output_type": "stream",
     "text": [
      "Epoch 38/100, Loss: 0.03643783554434776, train dataset accuracy: 92.38833333333334\n",
      "test dataset accuracy: 93.17%\n"
     ]
    },
    {
     "name": "stderr",
     "output_type": "stream",
     "text": [
      "100%|██████████| 235/235 [00:01<00:00, 139.39it/s]\n"
     ]
    },
    {
     "name": "stdout",
     "output_type": "stream",
     "text": [
      "Epoch 39/100, Loss: 0.03819314017891884, train dataset accuracy: 92.585\n",
      "test dataset accuracy: 92.07%\n"
     ]
    },
    {
     "name": "stderr",
     "output_type": "stream",
     "text": [
      "100%|██████████| 235/235 [00:01<00:00, 143.14it/s]\n"
     ]
    },
    {
     "name": "stdout",
     "output_type": "stream",
     "text": [
      "Epoch 40/100, Loss: 0.04168637469410896, train dataset accuracy: 92.04166666666667\n",
      "test dataset accuracy: 91.28%\n"
     ]
    },
    {
     "name": "stderr",
     "output_type": "stream",
     "text": [
      "100%|██████████| 235/235 [00:01<00:00, 147.77it/s]\n"
     ]
    },
    {
     "name": "stdout",
     "output_type": "stream",
     "text": [
      "Epoch 41/100, Loss: 0.03703651577234268, train dataset accuracy: 92.695\n",
      "test dataset accuracy: 92.53%\n"
     ]
    },
    {
     "name": "stderr",
     "output_type": "stream",
     "text": [
      "100%|██████████| 235/235 [00:01<00:00, 148.53it/s]\n"
     ]
    },
    {
     "name": "stdout",
     "output_type": "stream",
     "text": [
      "Epoch 42/100, Loss: 0.04240497201681137, train dataset accuracy: 92.01833333333333\n",
      "test dataset accuracy: 92.41%\n"
     ]
    },
    {
     "name": "stderr",
     "output_type": "stream",
     "text": [
      "100%|██████████| 235/235 [00:01<00:00, 140.87it/s]\n"
     ]
    },
    {
     "name": "stdout",
     "output_type": "stream",
     "text": [
      "Epoch 43/100, Loss: 0.037261880934238434, train dataset accuracy: 92.67833333333333\n",
      "test dataset accuracy: 91.15%\n"
     ]
    },
    {
     "name": "stderr",
     "output_type": "stream",
     "text": [
      "100%|██████████| 235/235 [00:01<00:00, 150.27it/s]\n"
     ]
    },
    {
     "name": "stdout",
     "output_type": "stream",
     "text": [
      "Epoch 44/100, Loss: 0.040829651057720184, train dataset accuracy: 92.09833333333333\n",
      "test dataset accuracy: 92.79%\n"
     ]
    },
    {
     "name": "stderr",
     "output_type": "stream",
     "text": [
      "100%|██████████| 235/235 [00:01<00:00, 148.57it/s]\n"
     ]
    },
    {
     "name": "stdout",
     "output_type": "stream",
     "text": [
      "Epoch 45/100, Loss: 0.042208410799503326, train dataset accuracy: 91.98666666666666\n",
      "test dataset accuracy: 92.2%\n"
     ]
    },
    {
     "name": "stderr",
     "output_type": "stream",
     "text": [
      "100%|██████████| 235/235 [00:01<00:00, 147.37it/s]\n"
     ]
    },
    {
     "name": "stdout",
     "output_type": "stream",
     "text": [
      "Epoch 46/100, Loss: 0.04197697341442108, train dataset accuracy: 92.06166666666667\n",
      "test dataset accuracy: 92.83%\n"
     ]
    },
    {
     "name": "stderr",
     "output_type": "stream",
     "text": [
      "100%|██████████| 235/235 [00:01<00:00, 142.64it/s]\n"
     ]
    },
    {
     "name": "stdout",
     "output_type": "stream",
     "text": [
      "Epoch 47/100, Loss: 0.0435941107571125, train dataset accuracy: 92.3\n",
      "test dataset accuracy: 92.37%\n"
     ]
    },
    {
     "name": "stderr",
     "output_type": "stream",
     "text": [
      "100%|██████████| 235/235 [00:01<00:00, 145.25it/s]\n"
     ]
    },
    {
     "name": "stdout",
     "output_type": "stream",
     "text": [
      "Epoch 48/100, Loss: 0.039891015738248825, train dataset accuracy: 92.54\n",
      "test dataset accuracy: 92.4%\n"
     ]
    },
    {
     "name": "stderr",
     "output_type": "stream",
     "text": [
      "100%|██████████| 235/235 [00:01<00:00, 149.12it/s]\n"
     ]
    },
    {
     "name": "stdout",
     "output_type": "stream",
     "text": [
      "Epoch 49/100, Loss: 0.06018318980932236, train dataset accuracy: 92.395\n",
      "test dataset accuracy: 70.19%\n"
     ]
    },
    {
     "name": "stderr",
     "output_type": "stream",
     "text": [
      "100%|██████████| 235/235 [00:01<00:00, 147.80it/s]\n"
     ]
    },
    {
     "name": "stdout",
     "output_type": "stream",
     "text": [
      "Epoch 50/100, Loss: 0.035918015986680984, train dataset accuracy: 92.415\n",
      "test dataset accuracy: 91.88%\n"
     ]
    },
    {
     "name": "stderr",
     "output_type": "stream",
     "text": [
      "100%|██████████| 235/235 [00:01<00:00, 142.55it/s]\n"
     ]
    },
    {
     "name": "stdout",
     "output_type": "stream",
     "text": [
      "Epoch 51/100, Loss: 0.03895212337374687, train dataset accuracy: 92.46333333333334\n",
      "test dataset accuracy: 90.78%\n"
     ]
    },
    {
     "name": "stderr",
     "output_type": "stream",
     "text": [
      "100%|██████████| 235/235 [00:01<00:00, 148.53it/s]\n"
     ]
    },
    {
     "name": "stdout",
     "output_type": "stream",
     "text": [
      "Epoch 52/100, Loss: 0.04470597580075264, train dataset accuracy: 91.35166666666667\n",
      "test dataset accuracy: 92.86%\n"
     ]
    },
    {
     "name": "stderr",
     "output_type": "stream",
     "text": [
      "100%|██████████| 235/235 [00:01<00:00, 148.38it/s]\n"
     ]
    },
    {
     "name": "stdout",
     "output_type": "stream",
     "text": [
      "Epoch 53/100, Loss: 0.05348179489374161, train dataset accuracy: 92.18\n",
      "test dataset accuracy: 88.37%\n"
     ]
    },
    {
     "name": "stderr",
     "output_type": "stream",
     "text": [
      "100%|██████████| 235/235 [00:01<00:00, 148.96it/s]\n"
     ]
    },
    {
     "name": "stdout",
     "output_type": "stream",
     "text": [
      "Epoch 54/100, Loss: 0.041088782250881195, train dataset accuracy: 92.06833333333333\n",
      "test dataset accuracy: 92.47%\n"
     ]
    },
    {
     "name": "stderr",
     "output_type": "stream",
     "text": [
      "100%|██████████| 235/235 [00:01<00:00, 143.87it/s]\n"
     ]
    },
    {
     "name": "stdout",
     "output_type": "stream",
     "text": [
      "Epoch 55/100, Loss: 0.03936624526977539, train dataset accuracy: 92.35166666666667\n",
      "test dataset accuracy: 93.27%\n"
     ]
    },
    {
     "name": "stderr",
     "output_type": "stream",
     "text": [
      "100%|██████████| 235/235 [00:01<00:00, 147.56it/s]\n"
     ]
    },
    {
     "name": "stdout",
     "output_type": "stream",
     "text": [
      "Epoch 56/100, Loss: 0.042729005217552185, train dataset accuracy: 92.44\n",
      "test dataset accuracy: 92.92%\n"
     ]
    },
    {
     "name": "stderr",
     "output_type": "stream",
     "text": [
      "100%|██████████| 235/235 [00:01<00:00, 143.38it/s]\n"
     ]
    },
    {
     "name": "stdout",
     "output_type": "stream",
     "text": [
      "Epoch 57/100, Loss: 0.032899122685194016, train dataset accuracy: 92.62166666666667\n",
      "test dataset accuracy: 92.94%\n"
     ]
    },
    {
     "name": "stderr",
     "output_type": "stream",
     "text": [
      "100%|██████████| 235/235 [00:01<00:00, 141.98it/s]\n"
     ]
    },
    {
     "name": "stdout",
     "output_type": "stream",
     "text": [
      "Epoch 58/100, Loss: 0.04053840786218643, train dataset accuracy: 92.51333333333334\n",
      "test dataset accuracy: 93.02%\n"
     ]
    },
    {
     "name": "stderr",
     "output_type": "stream",
     "text": [
      "100%|██████████| 235/235 [00:01<00:00, 144.56it/s]\n"
     ]
    },
    {
     "name": "stdout",
     "output_type": "stream",
     "text": [
      "Epoch 59/100, Loss: 0.05438266694545746, train dataset accuracy: 92.16166666666666\n",
      "test dataset accuracy: 90.55%\n"
     ]
    },
    {
     "name": "stderr",
     "output_type": "stream",
     "text": [
      "100%|██████████| 235/235 [00:01<00:00, 148.04it/s]\n"
     ]
    },
    {
     "name": "stdout",
     "output_type": "stream",
     "text": [
      "Epoch 60/100, Loss: 0.04516478627920151, train dataset accuracy: 92.035\n",
      "test dataset accuracy: 92.77%\n"
     ]
    },
    {
     "name": "stderr",
     "output_type": "stream",
     "text": [
      "100%|██████████| 235/235 [00:01<00:00, 148.93it/s]\n"
     ]
    },
    {
     "name": "stdout",
     "output_type": "stream",
     "text": [
      "Epoch 61/100, Loss: 0.035191841423511505, train dataset accuracy: 91.93\n",
      "test dataset accuracy: 93.06%\n"
     ]
    },
    {
     "name": "stderr",
     "output_type": "stream",
     "text": [
      "100%|██████████| 235/235 [00:01<00:00, 150.21it/s]\n"
     ]
    },
    {
     "name": "stdout",
     "output_type": "stream",
     "text": [
      "Epoch 62/100, Loss: 0.040379829704761505, train dataset accuracy: 91.92166666666667\n",
      "test dataset accuracy: 92.86%\n"
     ]
    },
    {
     "name": "stderr",
     "output_type": "stream",
     "text": [
      "100%|██████████| 235/235 [00:01<00:00, 143.82it/s]\n"
     ]
    },
    {
     "name": "stdout",
     "output_type": "stream",
     "text": [
      "Epoch 63/100, Loss: 0.041409753262996674, train dataset accuracy: 92.43166666666667\n",
      "test dataset accuracy: 91.87%\n"
     ]
    },
    {
     "name": "stderr",
     "output_type": "stream",
     "text": [
      "100%|██████████| 235/235 [00:01<00:00, 148.56it/s]\n"
     ]
    },
    {
     "name": "stdout",
     "output_type": "stream",
     "text": [
      "Epoch 64/100, Loss: 0.04447289556264877, train dataset accuracy: 91.96833333333333\n",
      "test dataset accuracy: 91.23%\n"
     ]
    },
    {
     "name": "stderr",
     "output_type": "stream",
     "text": [
      "100%|██████████| 235/235 [00:01<00:00, 147.77it/s]\n"
     ]
    },
    {
     "name": "stdout",
     "output_type": "stream",
     "text": [
      "Epoch 65/100, Loss: 0.0353584885597229, train dataset accuracy: 92.66166666666666\n",
      "test dataset accuracy: 91.38%\n"
     ]
    },
    {
     "name": "stderr",
     "output_type": "stream",
     "text": [
      "100%|██████████| 235/235 [00:01<00:00, 146.91it/s]\n"
     ]
    },
    {
     "name": "stdout",
     "output_type": "stream",
     "text": [
      "Epoch 66/100, Loss: 0.03813115879893303, train dataset accuracy: 92.45333333333333\n",
      "test dataset accuracy: 92.62%\n"
     ]
    },
    {
     "name": "stderr",
     "output_type": "stream",
     "text": [
      "100%|██████████| 235/235 [00:01<00:00, 139.32it/s]\n"
     ]
    },
    {
     "name": "stdout",
     "output_type": "stream",
     "text": [
      "Epoch 67/100, Loss: 0.03619788959622383, train dataset accuracy: 92.30666666666667\n",
      "test dataset accuracy: 92.22%\n"
     ]
    },
    {
     "name": "stderr",
     "output_type": "stream",
     "text": [
      "100%|██████████| 235/235 [00:01<00:00, 148.53it/s]\n"
     ]
    },
    {
     "name": "stdout",
     "output_type": "stream",
     "text": [
      "Epoch 68/100, Loss: 0.056589603424072266, train dataset accuracy: 92.165\n",
      "test dataset accuracy: 90.31%\n"
     ]
    },
    {
     "name": "stderr",
     "output_type": "stream",
     "text": [
      "100%|██████████| 235/235 [00:01<00:00, 145.47it/s]\n"
     ]
    },
    {
     "name": "stdout",
     "output_type": "stream",
     "text": [
      "Epoch 69/100, Loss: 0.047456044703722, train dataset accuracy: 91.12666666666667\n",
      "test dataset accuracy: 92.63%\n"
     ]
    },
    {
     "name": "stderr",
     "output_type": "stream",
     "text": [
      "100%|██████████| 235/235 [00:01<00:00, 150.49it/s]\n"
     ]
    },
    {
     "name": "stdout",
     "output_type": "stream",
     "text": [
      "Epoch 70/100, Loss: 0.04107402265071869, train dataset accuracy: 92.44166666666666\n",
      "test dataset accuracy: 92.52%\n"
     ]
    },
    {
     "name": "stderr",
     "output_type": "stream",
     "text": [
      "100%|██████████| 235/235 [00:01<00:00, 146.08it/s]\n"
     ]
    },
    {
     "name": "stdout",
     "output_type": "stream",
     "text": [
      "Epoch 71/100, Loss: 0.03849704936146736, train dataset accuracy: 92.2\n",
      "test dataset accuracy: 92.29%\n"
     ]
    },
    {
     "name": "stderr",
     "output_type": "stream",
     "text": [
      "100%|██████████| 235/235 [00:01<00:00, 151.06it/s]\n"
     ]
    },
    {
     "name": "stdout",
     "output_type": "stream",
     "text": [
      "Epoch 72/100, Loss: 0.036787524819374084, train dataset accuracy: 92.455\n",
      "test dataset accuracy: 92.08%\n"
     ]
    },
    {
     "name": "stderr",
     "output_type": "stream",
     "text": [
      "100%|██████████| 235/235 [00:01<00:00, 150.93it/s]\n"
     ]
    },
    {
     "name": "stdout",
     "output_type": "stream",
     "text": [
      "Epoch 73/100, Loss: 0.0682365894317627, train dataset accuracy: 92.35833333333333\n",
      "test dataset accuracy: 86.32%\n"
     ]
    },
    {
     "name": "stderr",
     "output_type": "stream",
     "text": [
      "100%|██████████| 235/235 [00:01<00:00, 148.39it/s]\n"
     ]
    },
    {
     "name": "stdout",
     "output_type": "stream",
     "text": [
      "Epoch 74/100, Loss: 0.057824574410915375, train dataset accuracy: 91.95\n",
      "test dataset accuracy: 89.65%\n"
     ]
    },
    {
     "name": "stderr",
     "output_type": "stream",
     "text": [
      "100%|██████████| 235/235 [00:01<00:00, 143.25it/s]\n"
     ]
    },
    {
     "name": "stdout",
     "output_type": "stream",
     "text": [
      "Epoch 75/100, Loss: 0.04039978235960007, train dataset accuracy: 92.025\n",
      "test dataset accuracy: 92.83%\n"
     ]
    },
    {
     "name": "stderr",
     "output_type": "stream",
     "text": [
      "100%|██████████| 235/235 [00:01<00:00, 143.16it/s]\n"
     ]
    },
    {
     "name": "stdout",
     "output_type": "stream",
     "text": [
      "Epoch 76/100, Loss: 0.040764424949884415, train dataset accuracy: 92.39666666666666\n",
      "test dataset accuracy: 92.47%\n"
     ]
    },
    {
     "name": "stderr",
     "output_type": "stream",
     "text": [
      "100%|██████████| 235/235 [00:01<00:00, 144.58it/s]\n"
     ]
    },
    {
     "name": "stdout",
     "output_type": "stream",
     "text": [
      "Epoch 77/100, Loss: 0.04769950360059738, train dataset accuracy: 92.095\n",
      "test dataset accuracy: 92.25%\n"
     ]
    },
    {
     "name": "stderr",
     "output_type": "stream",
     "text": [
      "100%|██████████| 235/235 [00:01<00:00, 146.80it/s]\n"
     ]
    },
    {
     "name": "stdout",
     "output_type": "stream",
     "text": [
      "Epoch 78/100, Loss: 0.04017729312181473, train dataset accuracy: 92.07833333333333\n",
      "test dataset accuracy: 77.23%\n"
     ]
    },
    {
     "name": "stderr",
     "output_type": "stream",
     "text": [
      "100%|██████████| 235/235 [00:01<00:00, 144.08it/s]\n"
     ]
    },
    {
     "name": "stdout",
     "output_type": "stream",
     "text": [
      "Epoch 79/100, Loss: 0.03810369223356247, train dataset accuracy: 92.33333333333333\n",
      "test dataset accuracy: 92.42%\n"
     ]
    },
    {
     "name": "stderr",
     "output_type": "stream",
     "text": [
      "100%|██████████| 235/235 [00:01<00:00, 147.22it/s]\n"
     ]
    },
    {
     "name": "stdout",
     "output_type": "stream",
     "text": [
      "Epoch 80/100, Loss: 0.0440380685031414, train dataset accuracy: 92.46666666666667\n",
      "test dataset accuracy: 92.9%\n"
     ]
    },
    {
     "name": "stderr",
     "output_type": "stream",
     "text": [
      "100%|██████████| 235/235 [00:01<00:00, 144.63it/s]\n"
     ]
    },
    {
     "name": "stdout",
     "output_type": "stream",
     "text": [
      "Epoch 81/100, Loss: 0.039277639240026474, train dataset accuracy: 92.06833333333333\n",
      "test dataset accuracy: 91.57%\n"
     ]
    },
    {
     "name": "stderr",
     "output_type": "stream",
     "text": [
      "100%|██████████| 235/235 [00:01<00:00, 147.68it/s]\n"
     ]
    },
    {
     "name": "stdout",
     "output_type": "stream",
     "text": [
      "Epoch 82/100, Loss: 0.03914998471736908, train dataset accuracy: 92.52666666666667\n",
      "test dataset accuracy: 92.97%\n"
     ]
    },
    {
     "name": "stderr",
     "output_type": "stream",
     "text": [
      "100%|██████████| 235/235 [00:01<00:00, 144.05it/s]\n"
     ]
    },
    {
     "name": "stdout",
     "output_type": "stream",
     "text": [
      "Epoch 83/100, Loss: 0.0418851263821125, train dataset accuracy: 92.475\n",
      "test dataset accuracy: 92.11%\n"
     ]
    },
    {
     "name": "stderr",
     "output_type": "stream",
     "text": [
      "100%|██████████| 235/235 [00:01<00:00, 148.18it/s]\n"
     ]
    },
    {
     "name": "stdout",
     "output_type": "stream",
     "text": [
      "Epoch 84/100, Loss: 0.04219024255871773, train dataset accuracy: 91.99\n",
      "test dataset accuracy: 92.72%\n"
     ]
    },
    {
     "name": "stderr",
     "output_type": "stream",
     "text": [
      "100%|██████████| 235/235 [00:01<00:00, 147.68it/s]\n"
     ]
    },
    {
     "name": "stdout",
     "output_type": "stream",
     "text": [
      "Epoch 85/100, Loss: 0.033240702003240585, train dataset accuracy: 90.81\n",
      "test dataset accuracy: 93.09%\n"
     ]
    },
    {
     "name": "stderr",
     "output_type": "stream",
     "text": [
      "100%|██████████| 235/235 [00:01<00:00, 142.24it/s]\n"
     ]
    },
    {
     "name": "stdout",
     "output_type": "stream",
     "text": [
      "Epoch 86/100, Loss: 0.04007691144943237, train dataset accuracy: 92.515\n",
      "test dataset accuracy: 91.54%\n"
     ]
    },
    {
     "name": "stderr",
     "output_type": "stream",
     "text": [
      "100%|██████████| 235/235 [00:01<00:00, 143.06it/s]\n"
     ]
    },
    {
     "name": "stdout",
     "output_type": "stream",
     "text": [
      "Epoch 87/100, Loss: 0.04516478627920151, train dataset accuracy: 92.245\n",
      "test dataset accuracy: 93.06%\n"
     ]
    },
    {
     "name": "stderr",
     "output_type": "stream",
     "text": [
      "100%|██████████| 235/235 [00:01<00:00, 119.85it/s]\n"
     ]
    },
    {
     "name": "stdout",
     "output_type": "stream",
     "text": [
      "Epoch 88/100, Loss: 0.03510546684265137, train dataset accuracy: 91.99166666666666\n",
      "test dataset accuracy: 92.98%\n"
     ]
    },
    {
     "name": "stderr",
     "output_type": "stream",
     "text": [
      "100%|██████████| 235/235 [00:01<00:00, 122.17it/s]\n"
     ]
    },
    {
     "name": "stdout",
     "output_type": "stream",
     "text": [
      "Epoch 89/100, Loss: 0.04676695168018341, train dataset accuracy: 91.91\n",
      "test dataset accuracy: 91.85%\n"
     ]
    },
    {
     "name": "stderr",
     "output_type": "stream",
     "text": [
      "100%|██████████| 235/235 [00:01<00:00, 120.57it/s]\n"
     ]
    },
    {
     "name": "stdout",
     "output_type": "stream",
     "text": [
      "Epoch 90/100, Loss: 0.03593972697854042, train dataset accuracy: 92.35\n",
      "test dataset accuracy: 92.89%\n"
     ]
    },
    {
     "name": "stderr",
     "output_type": "stream",
     "text": [
      "100%|██████████| 235/235 [00:01<00:00, 120.04it/s]\n"
     ]
    },
    {
     "name": "stdout",
     "output_type": "stream",
     "text": [
      "Epoch 91/100, Loss: 0.045181162655353546, train dataset accuracy: 92.22666666666667\n",
      "test dataset accuracy: 91.68%\n"
     ]
    },
    {
     "name": "stderr",
     "output_type": "stream",
     "text": [
      "100%|██████████| 235/235 [00:02<00:00, 115.77it/s]\n"
     ]
    },
    {
     "name": "stdout",
     "output_type": "stream",
     "text": [
      "Epoch 92/100, Loss: 0.03906610608100891, train dataset accuracy: 91.61333333333333\n",
      "test dataset accuracy: 92.94%\n"
     ]
    },
    {
     "name": "stderr",
     "output_type": "stream",
     "text": [
      "100%|██████████| 235/235 [00:01<00:00, 118.29it/s]\n"
     ]
    },
    {
     "name": "stdout",
     "output_type": "stream",
     "text": [
      "Epoch 93/100, Loss: 0.0397171750664711, train dataset accuracy: 92.395\n",
      "test dataset accuracy: 92.14%\n"
     ]
    },
    {
     "name": "stderr",
     "output_type": "stream",
     "text": [
      "100%|██████████| 235/235 [00:02<00:00, 114.01it/s]\n"
     ]
    },
    {
     "name": "stdout",
     "output_type": "stream",
     "text": [
      "Epoch 94/100, Loss: 0.04097900539636612, train dataset accuracy: 92.43333333333334\n",
      "test dataset accuracy: 90.82%\n"
     ]
    },
    {
     "name": "stderr",
     "output_type": "stream",
     "text": [
      "100%|██████████| 235/235 [00:01<00:00, 120.18it/s]\n"
     ]
    },
    {
     "name": "stdout",
     "output_type": "stream",
     "text": [
      "Epoch 95/100, Loss: 0.03674330562353134, train dataset accuracy: 92.565\n",
      "test dataset accuracy: 92.69%\n"
     ]
    },
    {
     "name": "stderr",
     "output_type": "stream",
     "text": [
      "100%|██████████| 235/235 [00:02<00:00, 116.95it/s]\n"
     ]
    },
    {
     "name": "stdout",
     "output_type": "stream",
     "text": [
      "Epoch 96/100, Loss: 0.03739984706044197, train dataset accuracy: 92.47833333333334\n",
      "test dataset accuracy: 91.49%\n"
     ]
    },
    {
     "name": "stderr",
     "output_type": "stream",
     "text": [
      "100%|██████████| 235/235 [00:01<00:00, 119.33it/s]\n"
     ]
    },
    {
     "name": "stdout",
     "output_type": "stream",
     "text": [
      "Epoch 97/100, Loss: 0.03809204325079918, train dataset accuracy: 92.27666666666667\n",
      "test dataset accuracy: 93.06%\n"
     ]
    },
    {
     "name": "stderr",
     "output_type": "stream",
     "text": [
      "100%|██████████| 235/235 [00:01<00:00, 118.51it/s]\n"
     ]
    },
    {
     "name": "stdout",
     "output_type": "stream",
     "text": [
      "Epoch 98/100, Loss: 0.037279121577739716, train dataset accuracy: 91.99833333333333\n",
      "test dataset accuracy: 92.54%\n"
     ]
    },
    {
     "name": "stderr",
     "output_type": "stream",
     "text": [
      "100%|██████████| 235/235 [00:01<00:00, 122.47it/s]"
     ]
    },
    {
     "name": "stdout",
     "output_type": "stream",
     "text": [
      "Epoch 99/100, Loss: 0.04114396870136261, train dataset accuracy: 92.19166666666666\n",
      "test dataset accuracy: 92.45%\n"
     ]
    },
    {
     "name": "stderr",
     "output_type": "stream",
     "text": [
      "\n"
     ]
    }
   ],
   "source": [
    "model = model\n",
    "lay = []\n",
    "for n, i in model.named_children():\n",
    "    print(type(i).__name__)\n",
    "    if type(i).__name__ == \"Linear\":\n",
    "        lay.append((n, i))\n",
    "\n",
    "acc = []\n",
    "\n",
    "l2_lambda = 0.0005\n",
    "\n",
    "num_epochs = 100  \n",
    "for epoch in range(num_epochs):\n",
    "    ttot = 0\n",
    "    tcorr = 0\n",
    "    for b in tqdm(trainloader):\n",
    "        xt, y = b[0], b[1]\n",
    "        optimizer.zero_grad() \n",
    "        outputs = model(xt)  \n",
    "        loss = criterion(outputs, y) \n",
    "\n",
    "        l2_penalty = sum(torch.sum(p**2) for p in model.parameters())\n",
    "        loss += l2_lambda * l2_penalty \n",
    "        \n",
    "        loss.backward() \n",
    "        optimizer.step() \n",
    "    \n",
    "        _, y = torch.max(y.data, 1)\n",
    "        _, pred = torch.max(outputs.data, 1)\n",
    "        ttot += y.shape[0]\n",
    "        tcorr += (pred == y).sum().item()\n",
    "    \n",
    "    # for i in range(len(lay)):\n",
    "    #     if i > 0 and i <= len(lay)-1:\n",
    "    #         di = neuronalNeuralBalance(lay[i-1][1], lay[i][1])\n",
    "\n",
    "    print(f'Epoch {epoch}/{num_epochs}, Loss: {loss.item()}, train dataset accuracy: {100*tcorr/ttot}')\n",
    "        \n",
    "    tot = 0\n",
    "    corr = 0\n",
    "\n",
    "    with torch.no_grad():\n",
    "        for i in testloader:\n",
    "            xt, y = i[0], i[1]\n",
    "            outputs = model(xt)  \n",
    "            _, y = torch.max(y.data, 1)\n",
    "            _, pred = torch.max(outputs.data, 1)\n",
    "            tot += y.shape[0]\n",
    "            corr += (pred == y).sum().item()\n",
    "    print(f'test dataset accuracy: {100*corr/tot}%')\n",
    "    acc.append(corr/tot)\n"
   ]
  },
  {
   "cell_type": "code",
   "execution_count": 62,
   "metadata": {},
   "outputs": [
    {
     "data": {
      "image/png": "[encoded data removed]",
      "text/plain": [
       "<Figure size 2500x500 with 3 Axes>"
      ]
     },
     "metadata": {},
     "output_type": "display_data"
    }
   ],
   "source": [
    "import matplotlib.pyplot as plt\n",
    "\n",
    "fc_weights = model.fc.weight.cpu().detach().numpy().flatten()\n",
    "fc2_weights = model.fc2.weight.cpu().detach().numpy().flatten()\n",
    "out_weights = model.out.weight.cpu().detach().numpy().flatten()\n",
    "\n",
    "bins = np.linspace(-0.5, 0.5, 50) \n",
    "fc_hist, fc_bins = np.histogram(fc_weights, bins=bins)\n",
    "fc2_hist, fc2_bins = np.histogram(fc2_weights, bins=bins)\n",
    "out_hist, out_bins = np.histogram(out_weights, bins=bins)\n",
    "\n",
    "fc_bin_centers = 0.5 * (fc_bins[:-1] + fc_bins[1:])\n",
    "fc2_bin_centers = 0.5 * (fc2_bins[:-1] + fc2_bins[1:])\n",
    "out_bin_centers = 0.5 * (out_bins[:-1] + out_bins[1:])\n",
    "\n",
    "plt.figure(figsize=(25, 5))\n",
    "\n",
    "plt.subplot(1, 3, 1)\n",
    "plt.plot(fc_bin_centers, fc_hist, marker='o', linestyle='-', color='b')\n",
    "plt.title('Weight Distribution: Input to Hidden1 Layer')\n",
    "plt.xlabel('Weight Value')\n",
    "plt.ylabel('Frequency')\n",
    "\n",
    "plt.subplot(1, 3, 2)\n",
    "plt.plot(fc2_bin_centers, fc2_hist, marker='o', linestyle='-', color='g')\n",
    "plt.title('Weight Distribution: hidden 1 to hidden 2 Layer')\n",
    "plt.xlabel('Weight Value')\n",
    "plt.ylabel('Frequency')\n",
    "\n",
    "plt.subplot(1, 3, 3)\n",
    "plt.plot(out_bin_centers, out_hist, marker='o', linestyle='-', color='g')\n",
    "plt.title('Weight Distribution: Hidden2 to Output Layer')\n",
    "plt.xlabel('Weight Value')\n",
    "plt.ylabel('Frequency')\n",
    "\n",
    "plt.tight_layout()\n",
    "plt.show()\n"
   ]
  },
  {
   "cell_type": "code",
   "execution_count": 63,
   "metadata": {},
   "outputs": [
    {
     "name": "stdout",
     "output_type": "stream",
     "text": [
      "Number of non-zero weights greater than 0.01 in layer 1: 18948\n",
      "Number of non-zero weights greater than 0.01 in layer 1: 334\n",
      "Number of non-zero weights greater than 0.01 in layer 3: 209\n"
     ]
    }
   ],
   "source": [
    "import torch\n",
    "\n",
    "def count_nonzero_weights_above_threshold(layer, threshold=0.01):\n",
    "    return torch.sum(torch.abs(layer.weight) > threshold).item()\n",
    "\n",
    "threshold_value = 0.01 \n",
    "\n",
    "nonzero_fc1 = count_nonzero_weights_above_threshold(model.fc, threshold=threshold_value)\n",
    "nonzero_fc2 = count_nonzero_weights_above_threshold(model.fc2, threshold=threshold_value)\n",
    "nonzero_fc3 = count_nonzero_weights_above_threshold(model.out, threshold=threshold_value)\n",
    "\n",
    "print(f'Number of non-zero weights greater than {threshold_value} in layer 1: {nonzero_fc1}')\n",
    "print(f'Number of non-zero weights greater than {threshold_value} in layer 1: {nonzero_fc2}')\n",
    "print(f'Number of non-zero weights greater than {threshold_value} in layer 3: {nonzero_fc3}')"
   ]
  },
  {
   "cell_type": "code",
   "execution_count": 64,
   "metadata": {},
   "outputs": [
    {
     "name": "stdout",
     "output_type": "stream",
     "text": [
      "[0.8134357513199976, 0.038011713936481804, 0.0391998576987443, 0.49796127999681944, 0.001037685314637759, 0.8096099397781092, 0.008437150769044504, 0.0005195455315556551, 0.24536553503165387, 0.3797854465062827, 0.019864047149283266, 0.01231349774180607, 0.029735599926277067, 0.887924516493653, 1.0733156017812773, 0.15666048048628942, 0.39362853816163934, 0.4706019803956516, 0.07086016356670168, 0.04739902730870841, 0.678743320255354, 0.2215884784770149, 0.07701323279296926, 1.0453728002267357, 0.19527721647942906, 0.008920428994622469, 0.0517791176212962, 0.33848804980206004, 0.05281390481370467, 0.6846560202534198, 0.5736119405371921, 1.065599294525724, 0.33133290615456346, 0.5367502443195521, 0.5582305151858937, 0.9880222913087802, 0.5010292721286717, 0.0007780953018439987, 0.39486106545609617, 0.004157098525545327, 0.8454695416825031, 0.5088024259789459, 0.4243904307751403, 0.04587498676292789, 0.011406756230799469, 0.5782596692277953, 0.46605376794748776, 0.45490980831970723, 0.09499037838599568, 0.5200068588615022, 2.5654199047160253e-05, 0.07420521302641019, 0.002725911201779086, 0.008761614453338928, 0.2800267291707963, 0.036619388619741546, 1.049173057421159, 0.10280197132126685, 0.0003082369137536002, 0.0016773331534325764, 0.4485960036203065, 0.4329433711904188, 0.01798129570761932, 0.24077800143863146, 0.2851975265090229, 0.0004730949439644485, 0.2603981397933215, 0.7339438081928706, 0.06491962431527157, 0.6587593991629255, 0.12212462010076602, 0.46165329637838043, 0.6180511773765254, 0.7518901106123576, 0.2617022273310849, 0.9198751716616885, 0.123092698045167, 0.43391002000857365, 0.9535786798031314, 0.650000283361704, 0.1454294975489147, 0.12747994703031076, 0.6878640178338665, 0.6320024188842649, 0.12159067026355265, 0.00831531578213138, 0.24838573473912598, 0.0023452106947541803, 0.6478306497759032, 0.008360932957818219, 0.9970993870232738, 0.3902377374034942, 0.31955507646444337, 0.08047168935275342, 0.17723521429908776, 0.062807029640642, 0.5592306930405786, 0.12485959377379816, 0.10595449051020152, 0.00028803370454145424, 0.2912960312427523, 0.07063647634716444, 0.23542934524663478, 0.02780187371605168, 0.4032727560874569, 0.7802782332215543, 0.038861470856446284, 0.0016143053190842214, 0.3443918959495786, 0.5463874096975337, 0.47410673123553587, 0.7648903008425648, 0.08581640981956681, 0.49477287547850834, 1.5302046411453665, 0.06243299020188111, 0.03520357773231764, 0.6317701030939197, 0.37483196894213394, 0.14705915238088232, 0.39484183682560037, 0.13296116811591266, 0.43387193714088607, 0.2754766039693, 0.6879928927881636, 0.2503390623725238, 0.22057524987711852, 0.29795506022445917, 0.4676012127219036, 0.5594866595650059, 0.504998422378332, 0.031139102718184278, 0.2941369391330461, 1.4248358224046576, 0.6132913433676739, 0.0008611764766824906, 0.37617363418716904, 0.6326736478411179, 0.020641091065573193, 0.6864282371375244, 0.8806702902091921, 0.10472189923243216, 0.4458408652673398, 0.4511596487687874, 0.004385324780865589, 0.7771672498535105, 0.8671221035886173, 0.7561415066979167, 0.022129876432608338, 1.353372045160682, 1.4042635165652202, 0.3872384946446202, 0.007747941588154015, 0.04225215948663758, 0.7116987622553976, 0.0035861595095432216, 1.0312137440659457, 0.5902792685380315, 0.03207041651907107, 0.23844934122683076, 0.021400081659175132, 0.21185721191484394, 0.5818033389368986, 0.4909620802011052, 0.6682513192233952, 0.0013559364633238696, 0.3883678177116479, 0.0030553803609749686, 0.7664560236335087, 0.13793956951337538, 0.0195396822046605, 0.3243496499913703, 1.245975610003448, 0.21560785664818574, 0.2053400078265824, 0.29251836135376114, 0.4476353582696934, 0.5793286935166236, 0.5942110513104972, 0.3657291957334923, 0.4897801925429587, 0.4993227496122036, 0.15601262523950285, 0.0009037452277496854, 0.5491210818520924, 0.22350657076512626, 0.834747979309769, 0.0770062753536326, 0.18115447380675054, 0.7801712874645522, 0.19798538457002746, 2.1898247751686658e-05, 0.0006429973431303623, 0.00023440529933032596, 0.434837153805002, 0.024440262702692804, 0.023851754684153535, 0.009624364037244284, 0.5963253506565892, 0.0023118116736475323, 0.016141931692554654, 0.6759685916133795, 0.49490388396448515, 0.6365456228087574, 0.4141863646236667, 0.41489944520118116, 0.8653080537628837, 0.5371591824225832, 0.9109372369620004, 0.7424800820263426, 0.3754478557352277, 0.373897217308778, 0.05954592177314384, 0.3463586418803818, 0.2766123327930487, 0.5954673344840763, 0.0005715333667445729, 1.3340388627928366, 0.5548280363036994, 0.5039323625786184, 0.5171619036466859, 0.5962523124680779, 0.18991422945040767, 0.8344454139421721, 0.05408709216692664, 0.525638688195336, 0.016827397264357984, 0.528106599605929, 0.8324429100634153, 0.6158833664804589, 0.2987147631196964, 0.00801587274728326, 0.005580690056790104, 0.6181958906380361, 0.589319778564262, 0.29863160564144636, 0.8415144136031157, 0.8450316869660636, 0.00650568768248731, 0.25965080227602044, 0.7244867940171804, 1.0279683399099127, 0.362038188359428, 0.6534159086384751, 0.3682924077535159, 0.41427936383050795, 9.825780660873158e-05, 0.632211412078604, 0.4980834422465948, 0.5460486393104466, 0.0014628554682574791, 0.22803128965281572, 0.3104263893146122, 0.6948866951945692, 0.36829698669291877, 0.0012185417828398989, 0.2649798300062052, 0.45653357804547695, 0.002533820855615661, 0.022284833074616525, 0.5055593557773898, 0.5147557276081259, 0.023618624403627046, 0.5648434622270279, 0.10381956047850364, 0.47750924569045045, 0.43458084353997833, 0.0027518083294878065, 0.005556563222097677, 1.1013046011915772, 0.0008168881533566187, 0.0005929666068836083, 0.0010733351489148426, 0.0006268298696793142, 0.0016663244148810833, 0.8341525418014298, 0.044956644474106806, 0.29390556464722956, 0.004150917793537085, 0.08388386119857932, 1.5841100229039113, 0.7427890769735932, 0.1059546336980736, 0.5820007307710716, 0.3394666329002242, 0.5358544375683102, 0.1463737301071579, 0.0001065608566717934, 0.0028878795512902755, 0.47539686644517837, 0.5493945316667439, 0.4711839670514589, 0.9945686796148009, 0.07638343903767203, 0.3969769834459607, 0.03182722151471071, 1.0575561746552187, 0.034262732513352205, 0.6029658777500819, 0.7009218931220503, 0.17041714237680647, 0.38205476268523036, 0.029130891355392968, 0.7059648105250619, 0.008941874694091613, 0.7859317653908289, 0.5785695286232866, 0.051713027786588824, 0.6583289321727125, 0.5654700608461066, 0.763275827721747, 0.47298422325752176, 0.0003389706965730996, 0.034480574622595725, 0.27252309774710676, 0.05915012689762869, 0.0061063396631516305, 0.7439337054193005, 0.7882800151846883, 0.3896588400386181, 0.39420005714104167, 0.8777755071560578, 0.04048678016712388, 0.502043356532095, 0.6460350413697847, 0.5368418321445312, 0.10381799962274525, 0.10527545176463894, 0.505693673910795, 0.46512049417487056, 0.0006494241877336427, 0.8137189386664442, 0.891470240113114, 1.0989715246783562, 0.027242356419228692, 0.9798873760932681, 0.3498545141433349, 0.3179105780205751, 0.006975000234257797, 0.45133066828751206, 0.49765822080220923, 0.37494227684541254, 0.008629692334280747, 0.233293237854094, 0.047843555615680655, 0.5366793297056746, 0.4175575316969863, 0.2844424105781724, 0.0617951987022235, 0.15209741802827653, 0.011378456616541166, 0.009205237620119612, 1.0038040044575252, 0.02473056844800087, 0.0031616300850803108, 0.8091206509407723, 0.3065512322346681, 0.002133077598851704, 0.01991633754322765, 0.018335552539765383, 0.397921940320451, 0.0008333533100518154, 0.5670427158494978, 0.3795253688350052, 0.04285146695447835, 0.23342318042938057, 0.00014467290387944543, 0.5231266068691033, 0.3282439109841369, 0.9301247598612067, 0.1178287290845295, 0.45375696214446287, 0.9996931510581603, 0.4543139617725825, 0.012248978005182036, 0.2205013726887926, 1.3516033817514177, 0.011368665412901295, 1.4331958414273263, 1.0757244204055318, 0.9722852807654139, 0.2128647494267209, 0.8818743425605395, 0.08941280479441971, 0.00367744184187502, 0.00018453903469128514, 0.0011853388268628614, 0.24370170112217246, 0.28312508696592253, 0.2787162492922378, 0.05955115748679637, 0.035865033131782555, 0.5080746810555411, 0.353989132595158, 1.0593720726967126, 0.7230910523480227, 0.7534679418363207, 0.5422652696158988, 0.7395181900005401, 0.798870371220904, 0.0033016242349084325, 0.010994729291767043, 0.2345545800556746, 0.0003466077044198498, 0.8553381666482488, 0.6129765607244076, 0.482241249781163, 0.8170490484138822, 0.24370806239943726, 0.5612382849209933, 0.5176833399234411, 0.16707410968275302, 0.0012408536686800045, 0.4078884369006682, 0.1219840131565599, 1.6084761244281738, 0.0013436773250494393, 0.4505429768312654, 0.21818624737198036, 0.4914190866117917, 0.010362401714596965, 0.8319288856368354, 0.6241225371075426, 0.5664132254478976, 0.3987647448433641, 0.003869172908022946, 0.44502666411657626, 0.22953447016073397, 0.0527466377716417, 0.38037301189313283, 0.63971495996975, 0.0013131694890786668, 1.0513112921644492, 0.8018025284582126, 0.4585650848636868, 0.6509372036051589, 0.29551070705594507, 0.6209235309087393, 0.0451179177406019, 0.06708800247929897, 1.9581620189381261, 0.23699301188026245, 0.13857737599123104, 0.08399300687235106, 0.17234511032759087, 0.76124419400305, 1.1207229195704154, 0.6411191535802591, 0.102921893597461, 0.4980112477920609, 0.26808273216535095, 0.4235411463868363, 0.2872900422871873, 0.21644330856485253, 0.16130294070356618, 0.709563136012892, 0.4183069300189193, 0.002017974496109025, 0.003543606658114198, 0.0006942636689229995, 0.2095336023673069, 0.4029365450307035, 0.2776847043876484, 0.04379954374897877, 0.000516295321031703, 0.7588141570028398, 0.002698939294611391, 0.001818456567722359, 0.7605729978906921, 0.4006099075014196, 0.0015216294402765132, 0.5085156068690528, 0.0027686101753161677, 0.35596862985474, 0.003066541512923281, 0.44309494338086236, 0.379370899042265, 0.286658257269941, 0.043856263374509895, 0.6688965665317286, 0.898623245105266, 0.4348644807405915, 0.060248354214081264, 0.29639626102216793, 0.015447343867440419, 0.5636916145633113, 0.0025591941212001223, 0.4107789540405271, 0.48275069670243376, 1.156061100508475, 0.3215503586817367, 0.5792273089071404, 1.080685486781935, 0.4670485813848172, 0.7874063458499011, 0.006251596408696501, 0.0003230039902578697, 0.005419618447353998, 0.853492848126955, 0.04881666792347937, 0.2745442078094013, 0.396185505299416, 0.18548363153805852, 0.8196621049296257, 0.19446066690102903, 0.4311624490895877, 0.6361404110469276, 0.15801586275681692, 0.6802778233755863, 0.006755950094176953, 0.4204675333812522, 0.07677518588499124]\n",
      "torch.Size([512])\n",
      "[0.6160136620914212, 0.31010938237383245, 0.5054088185138798, 0.4329635341011906, 0.3651673936054044, 0.4199281007030362, 0.5599770929414158, 0.4476313003220133, 0.593426812053463, 0.7535866090196762, 0.3713386279060555, 1.9041152796524616, 1.1384253994580729, 0.43768750723899136, 0.8039332918785227, 0.7843063015211451, 0.2127173420550312, 0.2941687810507933, 0.44425126602004683, 0.6082720701707072, 0.6118514380192315, 1.0584128959624972, 0.9506130294377408, 1.0430521483813415, 0.5135016228438173, 1.0698625849911505, 0.5082541143795354, 1.2226340306768817, 0.8548475078250791, 1.1361531341142244, 0.4560329427857238, 0.355656130047836, 0.41800020000960486, 2.623308585853113, 0.47438445570666576, 0.7775183622215164, 1.49689675436022, 0.2465537095962756, 0.3156068276407604, 0.9714322686337669, 0.8927868660873315, 0.9242307713669657, 0.32131791514235236, 0.3098336424580344, 0.7807151440906323, 0.17805231277898004, 0.4336326135466196, 0.6683154488095696, 0.7756298861378207, 0.24895616587371996, 0.7360795016946494, 0.5052629544472633, 0.4578953494761638, 1.0009502516060795, 0.5984165222920339, 0.5778786631579231, 0.3195553158823003, 0.20071253015226925, 0.8705570606179492, 1.0953506124066352, 0.2616698160123279, 1.046533080903044, 0.33040118030252813, 0.29792318962409936, 0.25566480234029504, 0.44838129736008453, 0.8259358306183274, 0.355710453287826, 2.6393152809759277, 0.2764071363692769, 0.58845427334041, 2.7904976607351744, 0.8288877275601509, 0.6515680199220854, 0.4207858833906576, 0.3993806965242031, 0.3791020716636875, 0.21182269884966895, 0.5749622591096006, 0.3289442076068199, 0.29877243275936954, 0.5035524542473806, 0.25770285646666924, 0.9135648988515933, 0.43720258131351797, 0.6252575854179847, 1.8276663866077703, 0.45376032358162466, 0.2842573558446835, 1.338813419816096, 0.5154238509924035, 0.6426053185721057, 0.5288921179915667, 0.40134779648153907, 0.41498825795277006, 0.19388919522711925, 0.5057152083247809, 1.6862966094321183, 1.5685902769200557, 0.44864951919374263, 0.8590980303799809, 0.6231104939160861, 0.9243975198848431, 0.8170827951672404, 0.1024863358976961, 1.896222631958495, 0.435087700430244, 0.3335556889448699, 0.4870073351987671, 0.6987513022715499, 0.3713478714601029, 0.2487144181039599, 0.5301254115592879, 0.28920389529700213, 0.9110321806913749, 1.7033382895038405, 0.6300254434684297, 0.3773682973378025, 0.4841797332993219, 1.413940945161377, 0.2909491769647221, 0.23652675403970305, 0.2763388023453835, 0.39234905495385597, 0.2797387793462839, 0.19300906471731072, 0.20611660812775445, 0.3679235460100909, 0.29035433408382677, 0.5562410562908936, 0.3255087477872983, 0.46805093283296884, 0.21117153355321636, 0.43625942168174225, 0.7691578195251993, 1.0187036853946325, 0.46106274550210324, 0.7911502741838764, 0.26612857935130824, 17.183850615139946, 0.21091312429025935, 0.3110362428161997, 1.2407426995558781, 0.9000231553039708, 0.3445269433848889, 0.47603428327564795, 0.5797473882810756, 0.3333546894173034, 0.40633857723808403, 0.3158780268532068, 0.4525627527888254, 0.3466312841478724, 1.4793959779074342, 0.27775417343849385, 0.6922108836526223, 0.41669612836369274, 0.7485065027130365, 0.24766805407827136, 0.869512741638876, 0.5360631848894596, 0.7992488446217159, 1.1621529025188764, 2.0654491937540636, 0.7447953246032853, 0.5780422975424403, 0.2113987276622333, 0.18260870194261639, 0.23743076699299692, 0.47100285233095646, 1.0147478277996436, 0.1809266448658646, 0.36922790845801917, 1.1199733623066934, 0.12072938430341883, 0.3801229268454476, 0.4127486754171891, 1.5389971630925479, 0.48070604368459957, 0.8188357394447131, 0.5267299954277638, 0.5695179399752665, 0.4875784363992855, 0.41339355225372576, 0.48257052266021183, 0.48551222467049165, 0.7073677421328143, 11.713370983626017, 0.4657110587625527, 1.3349341182360555, 1.4804389307739472, 0.4363600523116003, 0.40352903283435093, 0.29614256220330537, 0.4443910540665898, 0.3708578904365189, 0.3433229666821769, 0.3682281169803024, 0.3559843002210801, 0.9545383551554893, 0.40168426008711083, 0.31299526234551805, 0.29838264497840583, 0.19468378924366275, 1.1218262871461724, 0.9335543931535374, 1.5285198354531506, 0.3573405850880474, 0.20179742975117573, 0.27393445449932186, 0.3359415912851202, 0.294929780059894, 0.3858893432410579, 0.41349534072205024, 1.1606408813634839, 0.5192945715459276, 0.665091992520054, 0.7097720530373796, 0.8200227855691266, 0.5051626716899712, 0.26114251558954876, 0.2370981287938253, 0.4478399387804078, 0.28876722545575073, 0.18235044670916623, 0.9634983538145437, 0.42341697188233735, 0.4087137842410027, 0.1770666576832888, 0.21058945739086135, 0.2668580964697188, 0.46134576447841247, 0.5396942325806499, 0.30871890366702875, 0.5098355572382917, 0.442476814329002, 0.6825438190354874, 0.5487213076422387, 0.846829663599634, 0.4020008028748623, 0.3463806511459339, nan, 0.9998231680201564, 0.3657450175829872, 0.23213347991839384, 0.1886737274564394, 0.33439437659233967, 0.9434629286119113, 0.2089740018755333, 0.3190921130046149, 2.0609775612593664, 0.28408030248553706, 0.5533019789777406, 0.1740945685926374, 0.6661069691733482, 1.0593233874742896, 0.6655673333580733]\n",
      "torch.Size([256])\n",
      "[1.8856578509055948, 0.8406333011743423, 0.5600742366450475, 1.1459960589879965, 0.32051250500143175, 0.6377080892209854, 9.505329249818484, 0.34671018740942433, 0.913895416891893, 1.631407454512892, 2.230959065228822, 0.3057825753486021, 0.7307963625253575, 0.3688591176028689, 0.4018378829277631, 0.641396482561267, 0.7663207900858187, 0.38213559254852353, 0.4714041628920367, 0.18150412167308214, 0.9505225671867296, 0.5758262336530233, 0.8697832922221604, 0.3852981240435115, 0.3640127753082664, 0.35867850048354866, 1.6996435068148539, 0.866259703873357, 2.1826390090556207, 102.2346710582832, 2.6941885753674217, 0.8492459438154908, 11473.796091064896, 1.0240900000898114, 2.386378654836356, 0.1474660958710376, 0.5966538831185794, 69.50734999501135, 0.1372627741482588, 0.7981399160340162, 0.4214158459788495, 0.5020624852900232, 0.9725259322399294, 0.7166552323517933, 0.9480692569488666, 0.617197721879788, 6.463717513286814, 0.38876706162383007, 1.0073729457999387, 2.5886766404882877, 0.9308556365132004, 1.8506710439298308, 0.5626948578646505, 0.3614673650798778, 0.36629616536910975, 5.025263572987719, 1.5700841029919477, 6.2874289129439545, 0.2317065865389203, 0.8603220415810614, 0.9045268497343494, 0.563741349583738, 0.38265274288112766, 46.841781357295275, 0.3491427574000097, 0.42596010953539704, 0.5072597492967421, 0.8163563019952081, 5.1984601228845575, 0.12840616983589004, 0.5190540673806864, 0.7974062278974777, 0.9240630434083632, 1.045869439498156, 0.5539244040329782, 0.8262645056441954, 0.8332872252907056, 0.9854112022232071, 0.32157498035313564, 0.3177194383648091, 0.7888698431099819, 0.3772662947747214, 0.9262876594203058, 0.9618787505868234, 2.996411016198565, 3.6602519065240364, 1.1576492992822507, 0.5235926814296891, 0.4976212305861834, 1.006499906413508, 0.48709791661976937, 0.794121678293104, 0.9863050080328365, 1.7827431398306368, 1.0442421646687836, 0.8600409858462915, 0.8646346126052148, 0.6984634620090749, 2.110867722407588, 0.7065164485909998, 1.2694600337757025, 0.8586718033126507, 0.528707016059017, 0.3963314514811577, 0.6715871168832184, 0.3575483973775742, 0.9615142348045476, 1.3518252769274406, 0.3456980257002621, 0.18258540665213394, 0.3518147045948988, 0.9921107064889271, 0.35692293003054903, 0.9468744678622516, 1.0191708020476122, 0.9760827449684883, 0.9381180699748417, 0.7173270707873575, 0.3197941442888253, 1.3204129730676337, 19.67872655404473, 0.6124767408825257, 0.7442226146318576, 1.0373541838334555, 0.9485660938914504, 0.41499829107502895, 0.969433567162507, 1.088684828583647]\n",
      "torch.Size([128])\n",
      "[1.0385609134537188, 1.022560651962823, 0.6304847785160304, 0.6826250056218265, 0.48767546897403885, 0.11639555688708987, 0.501912507737196, 1.0205343008051115, 1.0045838013661357, 1.0507229617209144, 0.008894411727710633, 0.47025090218631793, 1.0002412433770609, 0.7355818985966308, 0.7458268932678902, 0.00727843938947576, 0.6304630550826144, 0.007862365974521971, 0.8049620642288365, 1.0634716699769382, 1.6235253703029715, 0.11512219394025675, 0.7756788759921821, 0.8377013248827779, 0.9928633197487512, 0.9994421288727608, 0.25495568068365587, 0.552133352245427, 0.985713732578052, 0.32697815850517026, 1.042198047007856, 1.0055076807665133, 0.023046078543287798, 0.06543321592985485, 0.01953117376854284, 0.9824506552796841, 0.8042736236136675, 0.18834270442330267, 0.2888162549461791, 0.12725985220768554, nan, 1.0150266588620838, 0.7248892667527913, 0.14249388352173734, 0.16054722328196788, 1.0550118062121425, 0.9779703820053331, 0.8830773553474773, 0.992938482886492, 1.008329789765161, 0.5492473784958488, 0.9518206284287958, 0.7074968557644935, 0.005942103084956985, 0.7621225536974118, 0.025691605312638532, 0.05013065846501001, 0.0494538984267786, 0.9867917005149247, 0.5304010570552073, 1.6413772864754579, 1.0358436096962527, 0.008978063336874986, 1.0130201426638734]\n",
      "torch.Size([64])\n"
     ]
    },
    {
     "name": "stderr",
     "output_type": "stream",
     "text": [
      "/var/folders/d1/pxwd2rcj41j7b2lhnz909xn80000gn/T/ipykernel_61136/2415192822.py:5: RuntimeWarning: invalid value encountered in scalar divide\n",
      "  norms.append(np.sqrt(torch.sum(torch.square(lay[i][1].weight.data[:,j])).item())/np.sqrt(torch.sum(torch.square(lay[i-1][1].weight.data[j])).item()))\n"
     ]
    }
   ],
   "source": [
    "for i in range(len(lay)):\n",
    "    if i > 0 and i <= len(lay)-1:\n",
    "        norms = []\n",
    "        for j in range(lay[i-1][1].weight.shape[0]):\n",
    "            norms.append(np.sqrt(torch.sum(torch.square(lay[i][1].weight.data[:,j])).item())/np.sqrt(torch.sum(torch.square(lay[i-1][1].weight.data[j])).item()))\n",
    "        print(norms)\n",
    "        norms = torch.tensor(norms)\n",
    "        print(norms.shape)"
   ]
  },
  {
   "cell_type": "code",
   "execution_count": 65,
   "metadata": {},
   "outputs": [
    {
     "data": {
      "image/png": "[encoded data removed]",
      "text/plain": [
       "<Figure size 1600x1000 with 1 Axes>"
      ]
     },
     "metadata": {},
     "output_type": "display_data"
    }
   ],
   "source": [
    "epochs_plot = list(range(100))\n",
    "\n",
    "plt.figure(figsize=(16, 10))\n",
    "plt.plot(epochs_plot, acc, linestyle='-', color='b', label='acc')\n",
    "\n",
    "plt.xlabel('Epochs', fontsize=14)\n",
    "plt.ylabel('Accuracy', fontsize=14)\n",
    "plt.title('Model Accuracy Over Epochs', fontsize=14)\n",
    "\n",
    "plt.xticks(fontsize=14)\n",
    "plt.yticks(fontsize=14)\n",
    "\n",
    "plt.grid(True)\n",
    "\n",
    "plt.legend(fontsize=14)\n",
    "\n",
    "plt.show()"
   ]
  },
  {
   "cell_type": "code",
   "execution_count": 66,
   "metadata": {},
   "outputs": [],
   "source": [
    "import pickle\n",
    "with open('l2regularization1.pkl', 'wb') as f:\n",
    "    pickle.dump(acc, f)"
   ]
  }
 ],
 "metadata": {
  "kernelspec": {
   "display_name": "Python 3",
   "language": "python",
   "name": "python3"
  },
  "language_info": {
   "codemirror_mode": {
    "name": "ipython",
    "version": 3
   },
   "file_extension": ".py",
   "mimetype": "text/x-python",
   "name": "python",
   "nbconvert_exporter": "python",
   "pygments_lexer": "ipython3",
   "version": "3.11.2"
  }
 },
 "nbformat": 4,
 "nbformat_minor": 2
}
