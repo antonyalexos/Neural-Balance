{
 "cells": [
  {
   "cell_type": "code",
   "execution_count": 1,
   "metadata": {},
   "outputs": [],
   "source": [
    "import torch\n",
    "import torch.nn as nn\n",
    "import torch.optim as optim\n",
    "import numpy as np\n",
    "from torchvision.datasets import MNIST\n",
    "from torch.utils.data import DataLoader\n",
    "from torchvision import transforms\n",
    "import torch.nn.functional as F\n",
    "import os\n",
    "from tqdm import tqdm\n",
    "\n",
    "class SingleLayerNN(nn.Module):\n",
    "    def __init__(self):\n",
    "        super(SingleLayerNN, self).__init__()\n",
    "        self.fc = nn.Linear(784, 512) \n",
    "        self.fc0 = nn.Linear(512, 256)\n",
    "        self.fc1 = nn.Linear(256, 128)\n",
    "        self.fc2 = nn.Linear(128, 64)\n",
    "        self.out = nn.Linear(64, 10)\n",
    "\n",
    "    def forward(self, x):\n",
    "        x = torch.relu(self.fc(x)) \n",
    "        x = torch.relu(self.fc0(x))\n",
    "        x = torch.relu(self.fc1(x))\n",
    "        x = torch.relu(self.fc2(x))\n",
    "        x = self.out(x)  \n",
    "        return x\n",
    "\n",
    "model = SingleLayerNN()\n",
    "\n",
    "\n",
    "criterion = nn.MSELoss() \n",
    "optimizer = optim.Adam(model.parameters(), lr=0.01)  \n"
   ]
  },
  {
   "cell_type": "code",
   "execution_count": 2,
   "metadata": {},
   "outputs": [],
   "source": [
    "#torch.manual_seed(7)"
   ]
  },
  {
   "cell_type": "code",
   "execution_count": 3,
   "metadata": {},
   "outputs": [
    {
     "name": "stderr",
     "output_type": "stream",
     "text": [
      "/var/folders/d1/pxwd2rcj41j7b2lhnz909xn80000gn/T/ipykernel_57869/112231088.py:4: UserWarning: To copy construct from a tensor, it is recommended to use sourceTensor.clone().detach() or sourceTensor.clone().detach().requires_grad_(True), rather than torch.tensor(sourceTensor).\n",
      "  x_train = torch.tensor(x_train, dtype=torch.float32)\n",
      "/var/folders/d1/pxwd2rcj41j7b2lhnz909xn80000gn/T/ipykernel_57869/112231088.py:5: UserWarning: To copy construct from a tensor, it is recommended to use sourceTensor.clone().detach() or sourceTensor.clone().detach().requires_grad_(True), rather than torch.tensor(sourceTensor).\n",
      "  y_train = torch.tensor(y_train, dtype=torch.float32)\n"
     ]
    }
   ],
   "source": [
    "train_dataset = MNIST(os.getcwd(), train=True, download=True, transform=[transforms.ToTensor(), transforms.Normalize((0.5,), (0.5,))])\n",
    "x_train = train_dataset.data / 255.0\n",
    "y_train = F.one_hot(train_dataset.targets, num_classes=10)\n",
    "x_train = torch.tensor(x_train, dtype=torch.float32)\n",
    "y_train = torch.tensor(y_train, dtype=torch.float32)\n",
    "x_train = x_train.view(-1, 784)\n",
    "dtrain = torch.utils.data.TensorDataset(x_train, y_train)\n",
    "trainloader = DataLoader(dtrain, batch_size=256, shuffle=True)"
   ]
  },
  {
   "cell_type": "code",
   "execution_count": 4,
   "metadata": {},
   "outputs": [
    {
     "name": "stderr",
     "output_type": "stream",
     "text": [
      "/var/folders/d1/pxwd2rcj41j7b2lhnz909xn80000gn/T/ipykernel_57869/3473755828.py:4: UserWarning: To copy construct from a tensor, it is recommended to use sourceTensor.clone().detach() or sourceTensor.clone().detach().requires_grad_(True), rather than torch.tensor(sourceTensor).\n",
      "  x_test = torch.tensor(x_test, dtype=torch.float32)\n",
      "/var/folders/d1/pxwd2rcj41j7b2lhnz909xn80000gn/T/ipykernel_57869/3473755828.py:5: UserWarning: To copy construct from a tensor, it is recommended to use sourceTensor.clone().detach() or sourceTensor.clone().detach().requires_grad_(True), rather than torch.tensor(sourceTensor).\n",
      "  y_test = torch.tensor(y_test, dtype=torch.float32)\n"
     ]
    }
   ],
   "source": [
    "testDataset = MNIST(os.getcwd(), train=False, download=True, transform=[transforms.ToTensor(), transforms.Normalize((0.5,), (0.5,))])\n",
    "x_test = testDataset.data / 255.0\n",
    "y_test = F.one_hot(testDataset.targets, num_classes=10)\n",
    "x_test = torch.tensor(x_test, dtype=torch.float32)\n",
    "y_test = torch.tensor(y_test, dtype=torch.float32)\n",
    "x_test = x_test.view(-1, 784)\n",
    "dtest = torch.utils.data.TensorDataset(x_test, y_test)\n",
    "testloader = DataLoader(dtest, batch_size=256, shuffle=True)"
   ]
  },
  {
   "cell_type": "code",
   "execution_count": 5,
   "metadata": {},
   "outputs": [],
   "source": [
    "def neuronalNeuralBalance(inl, oul):\n",
    "\n",
    "    ninc = torch.zeros_like(inl.weight)\n",
    "    noul = torch.zeros_like(oul.weight)\n",
    "\n",
    "    for i in range(inl.weight.data.shape[0]):\n",
    "        inc = np.sqrt(torch.sum(torch.square(inl.weight.data[i])).item())\n",
    "        outg = np.sqrt(torch.sum(torch.square(oul.weight.data[:,i])).item())\n",
    "\n",
    "        # outg = outg / float(len(oul.weight.data[:,i]))\n",
    "        # inc = inc / float(len(inl.weight.data[i]))\n",
    "\n",
    "        opt = np.sqrt(outg/inc)\n",
    "\n",
    "        ninc[i] = inl.weight.data[i]*opt\n",
    "        noul[:, i] = oul.weight.data[:,i]/opt\n",
    "\n",
    "    inl.weight.data = ninc\n",
    "    oul.weight.data = noul\n"
   ]
  },
  {
   "cell_type": "code",
   "execution_count": 6,
   "metadata": {},
   "outputs": [
    {
     "name": "stdout",
     "output_type": "stream",
     "text": [
      "Linear\n",
      "Linear\n",
      "Linear\n",
      "Linear\n",
      "Linear\n"
     ]
    },
    {
     "name": "stderr",
     "output_type": "stream",
     "text": [
      "  0%|          | 0/235 [00:00<?, ?it/s]"
     ]
    },
    {
     "name": "stderr",
     "output_type": "stream",
     "text": [
      "100%|██████████| 235/235 [00:01<00:00, 170.21it/s]\n"
     ]
    },
    {
     "name": "stdout",
     "output_type": "stream",
     "text": [
      "Epoch 0/100, Loss: 0.012856663204729557, train dataset accuracy: 85.12333333333333\n",
      "test dataset accuracy: 93.91%\n"
     ]
    },
    {
     "name": "stderr",
     "output_type": "stream",
     "text": [
      "100%|██████████| 235/235 [00:01<00:00, 195.20it/s]\n"
     ]
    },
    {
     "name": "stdout",
     "output_type": "stream",
     "text": [
      "Epoch 1/100, Loss: 0.011287459172308445, train dataset accuracy: 94.265\n",
      "test dataset accuracy: 94.87%\n"
     ]
    },
    {
     "name": "stderr",
     "output_type": "stream",
     "text": [
      "100%|██████████| 235/235 [00:01<00:00, 198.60it/s]\n"
     ]
    },
    {
     "name": "stdout",
     "output_type": "stream",
     "text": [
      "Epoch 2/100, Loss: 0.010690336115658283, train dataset accuracy: 94.74\n",
      "test dataset accuracy: 94.99%\n"
     ]
    },
    {
     "name": "stderr",
     "output_type": "stream",
     "text": [
      "100%|██████████| 235/235 [00:01<00:00, 193.28it/s]\n"
     ]
    },
    {
     "name": "stdout",
     "output_type": "stream",
     "text": [
      "Epoch 3/100, Loss: 0.010673263110220432, train dataset accuracy: 94.945\n",
      "test dataset accuracy: 94.82%\n"
     ]
    },
    {
     "name": "stderr",
     "output_type": "stream",
     "text": [
      "100%|██████████| 235/235 [00:01<00:00, 195.40it/s]\n"
     ]
    },
    {
     "name": "stdout",
     "output_type": "stream",
     "text": [
      "Epoch 4/100, Loss: 0.006298461463302374, train dataset accuracy: 94.94666666666667\n",
      "test dataset accuracy: 95.37%\n"
     ]
    },
    {
     "name": "stderr",
     "output_type": "stream",
     "text": [
      "100%|██████████| 235/235 [00:01<00:00, 184.46it/s]\n"
     ]
    },
    {
     "name": "stdout",
     "output_type": "stream",
     "text": [
      "Epoch 5/100, Loss: 0.00789364892989397, train dataset accuracy: 94.96833333333333\n",
      "test dataset accuracy: 95.17%\n"
     ]
    },
    {
     "name": "stderr",
     "output_type": "stream",
     "text": [
      "100%|██████████| 235/235 [00:01<00:00, 190.64it/s]\n"
     ]
    },
    {
     "name": "stdout",
     "output_type": "stream",
     "text": [
      "Epoch 6/100, Loss: 0.004325853195041418, train dataset accuracy: 95.01666666666667\n",
      "test dataset accuracy: 94.74%\n"
     ]
    },
    {
     "name": "stderr",
     "output_type": "stream",
     "text": [
      "100%|██████████| 235/235 [00:01<00:00, 194.68it/s]\n"
     ]
    },
    {
     "name": "stdout",
     "output_type": "stream",
     "text": [
      "Epoch 7/100, Loss: 0.008842124603688717, train dataset accuracy: 94.82166666666667\n",
      "test dataset accuracy: 94.48%\n"
     ]
    },
    {
     "name": "stderr",
     "output_type": "stream",
     "text": [
      "100%|██████████| 235/235 [00:01<00:00, 182.84it/s]\n"
     ]
    },
    {
     "name": "stdout",
     "output_type": "stream",
     "text": [
      "Epoch 8/100, Loss: 0.006487214472144842, train dataset accuracy: 94.875\n",
      "test dataset accuracy: 94.68%\n"
     ]
    },
    {
     "name": "stderr",
     "output_type": "stream",
     "text": [
      "100%|██████████| 235/235 [00:01<00:00, 193.06it/s]\n"
     ]
    },
    {
     "name": "stdout",
     "output_type": "stream",
     "text": [
      "Epoch 9/100, Loss: 0.008496141992509365, train dataset accuracy: 94.99666666666667\n",
      "test dataset accuracy: 94.89%\n"
     ]
    },
    {
     "name": "stderr",
     "output_type": "stream",
     "text": [
      "100%|██████████| 235/235 [00:01<00:00, 193.33it/s]\n"
     ]
    },
    {
     "name": "stdout",
     "output_type": "stream",
     "text": [
      "Epoch 10/100, Loss: 0.003863754915073514, train dataset accuracy: 95.1\n",
      "test dataset accuracy: 95.37%\n"
     ]
    },
    {
     "name": "stderr",
     "output_type": "stream",
     "text": [
      "100%|██████████| 235/235 [00:01<00:00, 195.99it/s]\n"
     ]
    },
    {
     "name": "stdout",
     "output_type": "stream",
     "text": [
      "Epoch 11/100, Loss: 0.006090824492275715, train dataset accuracy: 95.06166666666667\n",
      "test dataset accuracy: 95.0%\n"
     ]
    },
    {
     "name": "stderr",
     "output_type": "stream",
     "text": [
      "100%|██████████| 235/235 [00:01<00:00, 187.50it/s]\n"
     ]
    },
    {
     "name": "stdout",
     "output_type": "stream",
     "text": [
      "Epoch 12/100, Loss: 0.00630682660266757, train dataset accuracy: 94.72833333333334\n",
      "test dataset accuracy: 95.07%\n"
     ]
    },
    {
     "name": "stderr",
     "output_type": "stream",
     "text": [
      "100%|██████████| 235/235 [00:01<00:00, 188.51it/s]\n"
     ]
    },
    {
     "name": "stdout",
     "output_type": "stream",
     "text": [
      "Epoch 13/100, Loss: 0.006726066581904888, train dataset accuracy: 94.82666666666667\n",
      "test dataset accuracy: 94.6%\n"
     ]
    },
    {
     "name": "stderr",
     "output_type": "stream",
     "text": [
      "100%|██████████| 235/235 [00:01<00:00, 196.30it/s]\n"
     ]
    },
    {
     "name": "stdout",
     "output_type": "stream",
     "text": [
      "Epoch 14/100, Loss: 0.012495114468038082, train dataset accuracy: 94.785\n",
      "test dataset accuracy: 94.45%\n"
     ]
    },
    {
     "name": "stderr",
     "output_type": "stream",
     "text": [
      "100%|██████████| 235/235 [00:01<00:00, 188.24it/s]\n"
     ]
    },
    {
     "name": "stdout",
     "output_type": "stream",
     "text": [
      "Epoch 15/100, Loss: 0.010232312604784966, train dataset accuracy: 95.14666666666666\n",
      "test dataset accuracy: 94.92%\n"
     ]
    },
    {
     "name": "stderr",
     "output_type": "stream",
     "text": [
      "100%|██████████| 235/235 [00:01<00:00, 192.89it/s]\n"
     ]
    },
    {
     "name": "stdout",
     "output_type": "stream",
     "text": [
      "Epoch 16/100, Loss: 0.007963782176375389, train dataset accuracy: 95.33\n",
      "test dataset accuracy: 95.16%\n"
     ]
    },
    {
     "name": "stderr",
     "output_type": "stream",
     "text": [
      "100%|██████████| 235/235 [00:01<00:00, 197.66it/s]\n"
     ]
    },
    {
     "name": "stdout",
     "output_type": "stream",
     "text": [
      "Epoch 17/100, Loss: 0.012471972964704037, train dataset accuracy: 95.45\n",
      "test dataset accuracy: 92.69%\n"
     ]
    },
    {
     "name": "stderr",
     "output_type": "stream",
     "text": [
      "100%|██████████| 235/235 [00:01<00:00, 194.78it/s]\n"
     ]
    },
    {
     "name": "stdout",
     "output_type": "stream",
     "text": [
      "Epoch 18/100, Loss: 0.00988793559372425, train dataset accuracy: 95.31166666666667\n",
      "test dataset accuracy: 94.95%\n"
     ]
    },
    {
     "name": "stderr",
     "output_type": "stream",
     "text": [
      "100%|██████████| 235/235 [00:01<00:00, 189.82it/s]\n"
     ]
    },
    {
     "name": "stdout",
     "output_type": "stream",
     "text": [
      "Epoch 19/100, Loss: 0.00722387945279479, train dataset accuracy: 95.515\n",
      "test dataset accuracy: 94.64%\n"
     ]
    },
    {
     "name": "stderr",
     "output_type": "stream",
     "text": [
      "100%|██████████| 235/235 [00:01<00:00, 192.52it/s]\n"
     ]
    },
    {
     "name": "stdout",
     "output_type": "stream",
     "text": [
      "Epoch 20/100, Loss: 0.007296897005289793, train dataset accuracy: 95.44666666666667\n",
      "test dataset accuracy: 95.11%\n"
     ]
    },
    {
     "name": "stderr",
     "output_type": "stream",
     "text": [
      "100%|██████████| 235/235 [00:01<00:00, 196.60it/s]\n"
     ]
    },
    {
     "name": "stdout",
     "output_type": "stream",
     "text": [
      "Epoch 21/100, Loss: 0.011965999379754066, train dataset accuracy: 95.665\n",
      "test dataset accuracy: 94.27%\n"
     ]
    },
    {
     "name": "stderr",
     "output_type": "stream",
     "text": [
      "100%|██████████| 235/235 [00:01<00:00, 183.81it/s]\n"
     ]
    },
    {
     "name": "stdout",
     "output_type": "stream",
     "text": [
      "Epoch 22/100, Loss: 0.01613600179553032, train dataset accuracy: 95.63\n",
      "test dataset accuracy: 94.96%\n"
     ]
    },
    {
     "name": "stderr",
     "output_type": "stream",
     "text": [
      "100%|██████████| 235/235 [00:01<00:00, 192.97it/s]\n"
     ]
    },
    {
     "name": "stdout",
     "output_type": "stream",
     "text": [
      "Epoch 23/100, Loss: 0.00878863874822855, train dataset accuracy: 95.10166666666667\n",
      "test dataset accuracy: 94.82%\n"
     ]
    },
    {
     "name": "stderr",
     "output_type": "stream",
     "text": [
      "100%|██████████| 235/235 [00:01<00:00, 188.36it/s]\n"
     ]
    },
    {
     "name": "stdout",
     "output_type": "stream",
     "text": [
      "Epoch 24/100, Loss: 0.009080972522497177, train dataset accuracy: 95.44166666666666\n",
      "test dataset accuracy: 95.26%\n"
     ]
    },
    {
     "name": "stderr",
     "output_type": "stream",
     "text": [
      "100%|██████████| 235/235 [00:01<00:00, 184.55it/s]\n"
     ]
    },
    {
     "name": "stdout",
     "output_type": "stream",
     "text": [
      "Epoch 25/100, Loss: 0.010999816469848156, train dataset accuracy: 95.61333333333333\n",
      "test dataset accuracy: 95.32%\n"
     ]
    },
    {
     "name": "stderr",
     "output_type": "stream",
     "text": [
      "100%|██████████| 235/235 [00:01<00:00, 188.10it/s]\n"
     ]
    },
    {
     "name": "stdout",
     "output_type": "stream",
     "text": [
      "Epoch 26/100, Loss: 0.006380701903253794, train dataset accuracy: 95.77666666666667\n",
      "test dataset accuracy: 95.42%\n"
     ]
    },
    {
     "name": "stderr",
     "output_type": "stream",
     "text": [
      "100%|██████████| 235/235 [00:01<00:00, 191.19it/s]\n"
     ]
    },
    {
     "name": "stdout",
     "output_type": "stream",
     "text": [
      "Epoch 27/100, Loss: 0.0034264400601387024, train dataset accuracy: 95.385\n",
      "test dataset accuracy: 95.44%\n"
     ]
    },
    {
     "name": "stderr",
     "output_type": "stream",
     "text": [
      "100%|██████████| 235/235 [00:01<00:00, 190.90it/s]\n"
     ]
    },
    {
     "name": "stdout",
     "output_type": "stream",
     "text": [
      "Epoch 28/100, Loss: 0.00293417158536613, train dataset accuracy: 95.63333333333334\n",
      "test dataset accuracy: 95.78%\n"
     ]
    },
    {
     "name": "stderr",
     "output_type": "stream",
     "text": [
      "100%|██████████| 235/235 [00:01<00:00, 183.71it/s]\n"
     ]
    },
    {
     "name": "stdout",
     "output_type": "stream",
     "text": [
      "Epoch 29/100, Loss: 0.0059493957087397575, train dataset accuracy: 95.52\n",
      "test dataset accuracy: 95.2%\n"
     ]
    },
    {
     "name": "stderr",
     "output_type": "stream",
     "text": [
      "100%|██████████| 235/235 [00:01<00:00, 179.17it/s]\n"
     ]
    },
    {
     "name": "stdout",
     "output_type": "stream",
     "text": [
      "Epoch 30/100, Loss: 0.004614477511495352, train dataset accuracy: 95.60666666666667\n",
      "test dataset accuracy: 95.35%\n"
     ]
    },
    {
     "name": "stderr",
     "output_type": "stream",
     "text": [
      "100%|██████████| 235/235 [00:01<00:00, 145.45it/s]\n"
     ]
    },
    {
     "name": "stdout",
     "output_type": "stream",
     "text": [
      "Epoch 31/100, Loss: 0.0014081429690122604, train dataset accuracy: 95.68833333333333\n",
      "test dataset accuracy: 95.04%\n"
     ]
    },
    {
     "name": "stderr",
     "output_type": "stream",
     "text": [
      "100%|██████████| 235/235 [00:01<00:00, 185.02it/s]\n"
     ]
    },
    {
     "name": "stdout",
     "output_type": "stream",
     "text": [
      "Epoch 32/100, Loss: 0.006466442719101906, train dataset accuracy: 95.56\n",
      "test dataset accuracy: 95.37%\n"
     ]
    },
    {
     "name": "stderr",
     "output_type": "stream",
     "text": [
      "100%|██████████| 235/235 [00:01<00:00, 198.52it/s]\n"
     ]
    },
    {
     "name": "stdout",
     "output_type": "stream",
     "text": [
      "Epoch 33/100, Loss: 0.005198806058615446, train dataset accuracy: 95.67166666666667\n",
      "test dataset accuracy: 95.72%\n"
     ]
    },
    {
     "name": "stderr",
     "output_type": "stream",
     "text": [
      "100%|██████████| 235/235 [00:01<00:00, 188.14it/s]\n"
     ]
    },
    {
     "name": "stdout",
     "output_type": "stream",
     "text": [
      "Epoch 34/100, Loss: 0.015406360849738121, train dataset accuracy: 95.545\n",
      "test dataset accuracy: 95.44%\n"
     ]
    },
    {
     "name": "stderr",
     "output_type": "stream",
     "text": [
      "100%|██████████| 235/235 [00:01<00:00, 192.39it/s]\n"
     ]
    },
    {
     "name": "stdout",
     "output_type": "stream",
     "text": [
      "Epoch 35/100, Loss: 0.008430306799709797, train dataset accuracy: 95.65166666666667\n",
      "test dataset accuracy: 95.22%\n"
     ]
    },
    {
     "name": "stderr",
     "output_type": "stream",
     "text": [
      "100%|██████████| 235/235 [00:01<00:00, 191.87it/s]\n"
     ]
    },
    {
     "name": "stdout",
     "output_type": "stream",
     "text": [
      "Epoch 36/100, Loss: 0.0037132292054593563, train dataset accuracy: 95.03166666666667\n",
      "test dataset accuracy: 94.91%\n"
     ]
    },
    {
     "name": "stderr",
     "output_type": "stream",
     "text": [
      "100%|██████████| 235/235 [00:01<00:00, 189.35it/s]\n"
     ]
    },
    {
     "name": "stdout",
     "output_type": "stream",
     "text": [
      "Epoch 37/100, Loss: 0.00446021743118763, train dataset accuracy: 94.915\n",
      "test dataset accuracy: 95.61%\n"
     ]
    },
    {
     "name": "stderr",
     "output_type": "stream",
     "text": [
      "100%|██████████| 235/235 [00:01<00:00, 192.93it/s]\n"
     ]
    },
    {
     "name": "stdout",
     "output_type": "stream",
     "text": [
      "Epoch 38/100, Loss: 0.006667954381555319, train dataset accuracy: 95.96833333333333\n",
      "test dataset accuracy: 96.03%\n"
     ]
    },
    {
     "name": "stderr",
     "output_type": "stream",
     "text": [
      "100%|██████████| 235/235 [00:01<00:00, 183.91it/s]\n"
     ]
    },
    {
     "name": "stdout",
     "output_type": "stream",
     "text": [
      "Epoch 39/100, Loss: 0.006246363744139671, train dataset accuracy: 96.04666666666667\n",
      "test dataset accuracy: 95.82%\n"
     ]
    },
    {
     "name": "stderr",
     "output_type": "stream",
     "text": [
      "100%|██████████| 235/235 [00:01<00:00, 196.51it/s]\n"
     ]
    },
    {
     "name": "stdout",
     "output_type": "stream",
     "text": [
      "Epoch 40/100, Loss: 0.005017778370529413, train dataset accuracy: 96.15166666666667\n",
      "test dataset accuracy: 95.64%\n"
     ]
    },
    {
     "name": "stderr",
     "output_type": "stream",
     "text": [
      "100%|██████████| 235/235 [00:01<00:00, 196.46it/s]\n"
     ]
    },
    {
     "name": "stdout",
     "output_type": "stream",
     "text": [
      "Epoch 41/100, Loss: 0.00809120200574398, train dataset accuracy: 95.63833333333334\n",
      "test dataset accuracy: 96.01%\n"
     ]
    },
    {
     "name": "stderr",
     "output_type": "stream",
     "text": [
      "100%|██████████| 235/235 [00:01<00:00, 189.30it/s]\n"
     ]
    },
    {
     "name": "stdout",
     "output_type": "stream",
     "text": [
      "Epoch 42/100, Loss: 0.00247206655330956, train dataset accuracy: 96.225\n",
      "test dataset accuracy: 95.64%\n"
     ]
    },
    {
     "name": "stderr",
     "output_type": "stream",
     "text": [
      "100%|██████████| 235/235 [00:01<00:00, 194.23it/s]\n"
     ]
    },
    {
     "name": "stdout",
     "output_type": "stream",
     "text": [
      "Epoch 43/100, Loss: 0.0051162284798920155, train dataset accuracy: 96.08\n",
      "test dataset accuracy: 95.91%\n"
     ]
    },
    {
     "name": "stderr",
     "output_type": "stream",
     "text": [
      "100%|██████████| 235/235 [00:01<00:00, 185.87it/s]\n"
     ]
    },
    {
     "name": "stdout",
     "output_type": "stream",
     "text": [
      "Epoch 44/100, Loss: 0.014973324723541737, train dataset accuracy: 95.12833333333333\n",
      "test dataset accuracy: 92.67%\n"
     ]
    },
    {
     "name": "stderr",
     "output_type": "stream",
     "text": [
      "100%|██████████| 235/235 [00:01<00:00, 191.20it/s]\n"
     ]
    },
    {
     "name": "stdout",
     "output_type": "stream",
     "text": [
      "Epoch 45/100, Loss: 0.005801753140985966, train dataset accuracy: 94.16166666666666\n",
      "test dataset accuracy: 95.56%\n"
     ]
    },
    {
     "name": "stderr",
     "output_type": "stream",
     "text": [
      "100%|██████████| 235/235 [00:01<00:00, 179.57it/s]\n"
     ]
    },
    {
     "name": "stdout",
     "output_type": "stream",
     "text": [
      "Epoch 46/100, Loss: 0.004686628468334675, train dataset accuracy: 95.93166666666667\n",
      "test dataset accuracy: 94.77%\n"
     ]
    },
    {
     "name": "stderr",
     "output_type": "stream",
     "text": [
      "100%|██████████| 235/235 [00:01<00:00, 185.10it/s]\n"
     ]
    },
    {
     "name": "stdout",
     "output_type": "stream",
     "text": [
      "Epoch 47/100, Loss: 0.006833272520452738, train dataset accuracy: 95.99166666666666\n",
      "test dataset accuracy: 94.68%\n"
     ]
    },
    {
     "name": "stderr",
     "output_type": "stream",
     "text": [
      "100%|██████████| 235/235 [00:01<00:00, 168.02it/s]\n"
     ]
    },
    {
     "name": "stdout",
     "output_type": "stream",
     "text": [
      "Epoch 48/100, Loss: 0.009248176589608192, train dataset accuracy: 96.03166666666667\n",
      "test dataset accuracy: 95.53%\n"
     ]
    },
    {
     "name": "stderr",
     "output_type": "stream",
     "text": [
      "100%|██████████| 235/235 [00:01<00:00, 182.99it/s]\n"
     ]
    },
    {
     "name": "stdout",
     "output_type": "stream",
     "text": [
      "Epoch 49/100, Loss: 0.006370925810188055, train dataset accuracy: 95.98833333333333\n",
      "test dataset accuracy: 95.59%\n"
     ]
    },
    {
     "name": "stderr",
     "output_type": "stream",
     "text": [
      "100%|██████████| 235/235 [00:01<00:00, 193.01it/s]\n"
     ]
    },
    {
     "name": "stdout",
     "output_type": "stream",
     "text": [
      "Epoch 50/100, Loss: 0.007350076921284199, train dataset accuracy: 96.00166666666667\n",
      "test dataset accuracy: 95.78%\n"
     ]
    },
    {
     "name": "stderr",
     "output_type": "stream",
     "text": [
      "100%|██████████| 235/235 [00:01<00:00, 198.79it/s]\n"
     ]
    },
    {
     "name": "stdout",
     "output_type": "stream",
     "text": [
      "Epoch 51/100, Loss: 0.0066300430335104465, train dataset accuracy: 96.195\n",
      "test dataset accuracy: 95.92%\n"
     ]
    },
    {
     "name": "stderr",
     "output_type": "stream",
     "text": [
      "100%|██████████| 235/235 [00:01<00:00, 195.50it/s]\n"
     ]
    },
    {
     "name": "stdout",
     "output_type": "stream",
     "text": [
      "Epoch 52/100, Loss: 0.0052223773673176765, train dataset accuracy: 96.27666666666667\n",
      "test dataset accuracy: 95.79%\n"
     ]
    },
    {
     "name": "stderr",
     "output_type": "stream",
     "text": [
      "100%|██████████| 235/235 [00:01<00:00, 198.89it/s]\n"
     ]
    },
    {
     "name": "stdout",
     "output_type": "stream",
     "text": [
      "Epoch 53/100, Loss: 0.006305471528321505, train dataset accuracy: 95.26833333333333\n",
      "test dataset accuracy: 94.69%\n"
     ]
    },
    {
     "name": "stderr",
     "output_type": "stream",
     "text": [
      "100%|██████████| 235/235 [00:01<00:00, 198.50it/s]\n"
     ]
    },
    {
     "name": "stdout",
     "output_type": "stream",
     "text": [
      "Epoch 54/100, Loss: 0.002606353722512722, train dataset accuracy: 96.105\n",
      "test dataset accuracy: 95.75%\n"
     ]
    },
    {
     "name": "stderr",
     "output_type": "stream",
     "text": [
      "100%|██████████| 235/235 [00:01<00:00, 200.72it/s]\n"
     ]
    },
    {
     "name": "stdout",
     "output_type": "stream",
     "text": [
      "Epoch 55/100, Loss: 0.004535222426056862, train dataset accuracy: 96.245\n",
      "test dataset accuracy: 95.47%\n"
     ]
    },
    {
     "name": "stderr",
     "output_type": "stream",
     "text": [
      "100%|██████████| 235/235 [00:01<00:00, 189.87it/s]\n"
     ]
    },
    {
     "name": "stdout",
     "output_type": "stream",
     "text": [
      "Epoch 56/100, Loss: 0.016075871884822845, train dataset accuracy: 90.165\n",
      "test dataset accuracy: 83.36%\n"
     ]
    },
    {
     "name": "stderr",
     "output_type": "stream",
     "text": [
      "100%|██████████| 235/235 [00:01<00:00, 188.78it/s]\n"
     ]
    },
    {
     "name": "stdout",
     "output_type": "stream",
     "text": [
      "Epoch 57/100, Loss: 0.013716990128159523, train dataset accuracy: 91.42833333333333\n",
      "test dataset accuracy: 93.12%\n"
     ]
    },
    {
     "name": "stderr",
     "output_type": "stream",
     "text": [
      "100%|██████████| 235/235 [00:01<00:00, 197.23it/s]\n"
     ]
    },
    {
     "name": "stdout",
     "output_type": "stream",
     "text": [
      "Epoch 58/100, Loss: 0.01775074005126953, train dataset accuracy: 93.53\n",
      "test dataset accuracy: 92.26%\n"
     ]
    },
    {
     "name": "stderr",
     "output_type": "stream",
     "text": [
      "100%|██████████| 235/235 [00:01<00:00, 188.72it/s]\n"
     ]
    },
    {
     "name": "stdout",
     "output_type": "stream",
     "text": [
      "Epoch 59/100, Loss: 0.019416995346546173, train dataset accuracy: 94.18833333333333\n",
      "test dataset accuracy: 94.51%\n"
     ]
    },
    {
     "name": "stderr",
     "output_type": "stream",
     "text": [
      "100%|██████████| 235/235 [00:01<00:00, 200.76it/s]\n"
     ]
    },
    {
     "name": "stdout",
     "output_type": "stream",
     "text": [
      "Epoch 60/100, Loss: 0.010771230794489384, train dataset accuracy: 94.90333333333334\n",
      "test dataset accuracy: 91.76%\n"
     ]
    },
    {
     "name": "stderr",
     "output_type": "stream",
     "text": [
      "100%|██████████| 235/235 [00:01<00:00, 192.97it/s]\n"
     ]
    },
    {
     "name": "stdout",
     "output_type": "stream",
     "text": [
      "Epoch 61/100, Loss: 0.012341207824647427, train dataset accuracy: 94.95166666666667\n",
      "test dataset accuracy: 94.79%\n"
     ]
    },
    {
     "name": "stderr",
     "output_type": "stream",
     "text": [
      "100%|██████████| 235/235 [00:01<00:00, 195.55it/s]\n"
     ]
    },
    {
     "name": "stdout",
     "output_type": "stream",
     "text": [
      "Epoch 62/100, Loss: 0.009733024053275585, train dataset accuracy: 95.345\n",
      "test dataset accuracy: 95.4%\n"
     ]
    },
    {
     "name": "stderr",
     "output_type": "stream",
     "text": [
      "100%|██████████| 235/235 [00:01<00:00, 187.42it/s]\n"
     ]
    },
    {
     "name": "stdout",
     "output_type": "stream",
     "text": [
      "Epoch 63/100, Loss: 0.0068573132157325745, train dataset accuracy: 95.78\n",
      "test dataset accuracy: 95.34%\n"
     ]
    },
    {
     "name": "stderr",
     "output_type": "stream",
     "text": [
      "100%|██████████| 235/235 [00:01<00:00, 201.45it/s]\n"
     ]
    },
    {
     "name": "stdout",
     "output_type": "stream",
     "text": [
      "Epoch 64/100, Loss: 0.00905470922589302, train dataset accuracy: 95.62\n",
      "test dataset accuracy: 95.48%\n"
     ]
    },
    {
     "name": "stderr",
     "output_type": "stream",
     "text": [
      "100%|██████████| 235/235 [00:01<00:00, 195.32it/s]\n"
     ]
    },
    {
     "name": "stdout",
     "output_type": "stream",
     "text": [
      "Epoch 65/100, Loss: 0.007176107261329889, train dataset accuracy: 96.09166666666667\n",
      "test dataset accuracy: 95.6%\n"
     ]
    },
    {
     "name": "stderr",
     "output_type": "stream",
     "text": [
      "100%|██████████| 235/235 [00:01<00:00, 177.51it/s]\n"
     ]
    },
    {
     "name": "stdout",
     "output_type": "stream",
     "text": [
      "Epoch 66/100, Loss: 0.012520922347903252, train dataset accuracy: 95.05833333333334\n",
      "test dataset accuracy: 95.59%\n"
     ]
    },
    {
     "name": "stderr",
     "output_type": "stream",
     "text": [
      "100%|██████████| 235/235 [00:01<00:00, 193.26it/s]\n"
     ]
    },
    {
     "name": "stdout",
     "output_type": "stream",
     "text": [
      "Epoch 67/100, Loss: 0.006398434285074472, train dataset accuracy: 95.73833333333333\n",
      "test dataset accuracy: 95.28%\n"
     ]
    },
    {
     "name": "stderr",
     "output_type": "stream",
     "text": [
      "100%|██████████| 235/235 [00:01<00:00, 196.25it/s]\n"
     ]
    },
    {
     "name": "stdout",
     "output_type": "stream",
     "text": [
      "Epoch 68/100, Loss: 0.017756300047039986, train dataset accuracy: 95.66\n",
      "test dataset accuracy: 95.28%\n"
     ]
    },
    {
     "name": "stderr",
     "output_type": "stream",
     "text": [
      "100%|██████████| 235/235 [00:01<00:00, 189.07it/s]\n"
     ]
    },
    {
     "name": "stdout",
     "output_type": "stream",
     "text": [
      "Epoch 69/100, Loss: 0.015598410740494728, train dataset accuracy: 95.29166666666667\n",
      "test dataset accuracy: 93.85%\n"
     ]
    },
    {
     "name": "stderr",
     "output_type": "stream",
     "text": [
      "100%|██████████| 235/235 [00:01<00:00, 180.44it/s]\n"
     ]
    },
    {
     "name": "stdout",
     "output_type": "stream",
     "text": [
      "Epoch 70/100, Loss: 0.006010809913277626, train dataset accuracy: 95.14\n",
      "test dataset accuracy: 94.61%\n"
     ]
    },
    {
     "name": "stderr",
     "output_type": "stream",
     "text": [
      "100%|██████████| 235/235 [00:01<00:00, 186.91it/s]\n"
     ]
    },
    {
     "name": "stdout",
     "output_type": "stream",
     "text": [
      "Epoch 71/100, Loss: 0.0044235484674572945, train dataset accuracy: 95.74\n",
      "test dataset accuracy: 94.67%\n"
     ]
    },
    {
     "name": "stderr",
     "output_type": "stream",
     "text": [
      "100%|██████████| 235/235 [00:01<00:00, 191.13it/s]\n"
     ]
    },
    {
     "name": "stdout",
     "output_type": "stream",
     "text": [
      "Epoch 72/100, Loss: 0.008142183534801006, train dataset accuracy: 95.99833333333333\n",
      "test dataset accuracy: 95.67%\n"
     ]
    },
    {
     "name": "stderr",
     "output_type": "stream",
     "text": [
      "100%|██████████| 235/235 [00:01<00:00, 182.54it/s]\n"
     ]
    },
    {
     "name": "stdout",
     "output_type": "stream",
     "text": [
      "Epoch 73/100, Loss: 0.0131081473082304, train dataset accuracy: 94.36333333333333\n",
      "test dataset accuracy: 94.55%\n"
     ]
    },
    {
     "name": "stderr",
     "output_type": "stream",
     "text": [
      "100%|██████████| 235/235 [00:01<00:00, 192.52it/s]\n"
     ]
    },
    {
     "name": "stdout",
     "output_type": "stream",
     "text": [
      "Epoch 74/100, Loss: 0.004876732360571623, train dataset accuracy: 95.77666666666667\n",
      "test dataset accuracy: 95.45%\n"
     ]
    },
    {
     "name": "stderr",
     "output_type": "stream",
     "text": [
      "100%|██████████| 235/235 [00:01<00:00, 195.22it/s]\n"
     ]
    },
    {
     "name": "stdout",
     "output_type": "stream",
     "text": [
      "Epoch 75/100, Loss: 0.011160856112837791, train dataset accuracy: 94.60333333333334\n",
      "test dataset accuracy: 94.7%\n"
     ]
    },
    {
     "name": "stderr",
     "output_type": "stream",
     "text": [
      "100%|██████████| 235/235 [00:01<00:00, 176.98it/s]\n"
     ]
    },
    {
     "name": "stdout",
     "output_type": "stream",
     "text": [
      "Epoch 76/100, Loss: 0.011305342428386211, train dataset accuracy: 95.26833333333333\n",
      "test dataset accuracy: 94.67%\n"
     ]
    },
    {
     "name": "stderr",
     "output_type": "stream",
     "text": [
      "100%|██████████| 235/235 [00:01<00:00, 192.15it/s]\n"
     ]
    },
    {
     "name": "stdout",
     "output_type": "stream",
     "text": [
      "Epoch 77/100, Loss: 0.005501443985849619, train dataset accuracy: 95.28166666666667\n",
      "test dataset accuracy: 95.28%\n"
     ]
    },
    {
     "name": "stderr",
     "output_type": "stream",
     "text": [
      "100%|██████████| 235/235 [00:01<00:00, 180.65it/s]\n"
     ]
    },
    {
     "name": "stdout",
     "output_type": "stream",
     "text": [
      "Epoch 78/100, Loss: 0.009926502592861652, train dataset accuracy: 94.875\n",
      "test dataset accuracy: 92.16%\n"
     ]
    },
    {
     "name": "stderr",
     "output_type": "stream",
     "text": [
      "100%|██████████| 235/235 [00:01<00:00, 175.23it/s]\n"
     ]
    },
    {
     "name": "stdout",
     "output_type": "stream",
     "text": [
      "Epoch 79/100, Loss: 0.009548489935696125, train dataset accuracy: 95.09666666666666\n",
      "test dataset accuracy: 95.48%\n"
     ]
    },
    {
     "name": "stderr",
     "output_type": "stream",
     "text": [
      "100%|██████████| 235/235 [00:01<00:00, 169.90it/s]\n"
     ]
    },
    {
     "name": "stdout",
     "output_type": "stream",
     "text": [
      "Epoch 80/100, Loss: 0.005586428102105856, train dataset accuracy: 95.525\n",
      "test dataset accuracy: 95.45%\n"
     ]
    },
    {
     "name": "stderr",
     "output_type": "stream",
     "text": [
      "100%|██████████| 235/235 [00:01<00:00, 175.68it/s]\n"
     ]
    },
    {
     "name": "stdout",
     "output_type": "stream",
     "text": [
      "Epoch 81/100, Loss: 0.0018892708467319608, train dataset accuracy: 96.16833333333334\n",
      "test dataset accuracy: 95.7%\n"
     ]
    },
    {
     "name": "stderr",
     "output_type": "stream",
     "text": [
      "100%|██████████| 235/235 [00:01<00:00, 179.46it/s]\n"
     ]
    },
    {
     "name": "stdout",
     "output_type": "stream",
     "text": [
      "Epoch 82/100, Loss: 0.003065443132072687, train dataset accuracy: 96.03166666666667\n",
      "test dataset accuracy: 95.14%\n"
     ]
    },
    {
     "name": "stderr",
     "output_type": "stream",
     "text": [
      "100%|██████████| 235/235 [00:01<00:00, 185.35it/s]\n"
     ]
    },
    {
     "name": "stdout",
     "output_type": "stream",
     "text": [
      "Epoch 83/100, Loss: 0.011433173902332783, train dataset accuracy: 95.57833333333333\n",
      "test dataset accuracy: 95.48%\n"
     ]
    },
    {
     "name": "stderr",
     "output_type": "stream",
     "text": [
      "100%|██████████| 235/235 [00:01<00:00, 189.84it/s]\n"
     ]
    },
    {
     "name": "stdout",
     "output_type": "stream",
     "text": [
      "Epoch 84/100, Loss: 0.007247565779834986, train dataset accuracy: 95.17666666666666\n",
      "test dataset accuracy: 95.18%\n"
     ]
    },
    {
     "name": "stderr",
     "output_type": "stream",
     "text": [
      "100%|██████████| 235/235 [00:01<00:00, 189.12it/s]\n"
     ]
    },
    {
     "name": "stdout",
     "output_type": "stream",
     "text": [
      "Epoch 85/100, Loss: 0.0031633416656404734, train dataset accuracy: 95.83\n",
      "test dataset accuracy: 95.32%\n"
     ]
    },
    {
     "name": "stderr",
     "output_type": "stream",
     "text": [
      "100%|██████████| 235/235 [00:01<00:00, 190.87it/s]\n"
     ]
    },
    {
     "name": "stdout",
     "output_type": "stream",
     "text": [
      "Epoch 86/100, Loss: 0.0015826249727979302, train dataset accuracy: 96.325\n",
      "test dataset accuracy: 96.08%\n"
     ]
    },
    {
     "name": "stderr",
     "output_type": "stream",
     "text": [
      "100%|██████████| 235/235 [00:01<00:00, 185.23it/s]\n"
     ]
    },
    {
     "name": "stdout",
     "output_type": "stream",
     "text": [
      "Epoch 87/100, Loss: 0.010965955443680286, train dataset accuracy: 96.75333333333333\n",
      "test dataset accuracy: 95.87%\n"
     ]
    },
    {
     "name": "stderr",
     "output_type": "stream",
     "text": [
      "100%|██████████| 235/235 [00:01<00:00, 175.70it/s]\n"
     ]
    },
    {
     "name": "stdout",
     "output_type": "stream",
     "text": [
      "Epoch 88/100, Loss: 0.014059516601264477, train dataset accuracy: 96.65833333333333\n",
      "test dataset accuracy: 95.33%\n"
     ]
    },
    {
     "name": "stderr",
     "output_type": "stream",
     "text": [
      "100%|██████████| 235/235 [00:01<00:00, 177.04it/s]\n"
     ]
    },
    {
     "name": "stdout",
     "output_type": "stream",
     "text": [
      "Epoch 89/100, Loss: 0.011725465767085552, train dataset accuracy: 96.55666666666667\n",
      "test dataset accuracy: 95.9%\n"
     ]
    },
    {
     "name": "stderr",
     "output_type": "stream",
     "text": [
      "100%|██████████| 235/235 [00:01<00:00, 189.25it/s]\n"
     ]
    },
    {
     "name": "stdout",
     "output_type": "stream",
     "text": [
      "Epoch 90/100, Loss: 0.00987333059310913, train dataset accuracy: 95.57833333333333\n",
      "test dataset accuracy: 93.87%\n"
     ]
    },
    {
     "name": "stderr",
     "output_type": "stream",
     "text": [
      "100%|██████████| 235/235 [00:01<00:00, 196.17it/s]\n"
     ]
    },
    {
     "name": "stdout",
     "output_type": "stream",
     "text": [
      "Epoch 91/100, Loss: 0.004652490373700857, train dataset accuracy: 95.93166666666667\n",
      "test dataset accuracy: 95.67%\n"
     ]
    },
    {
     "name": "stderr",
     "output_type": "stream",
     "text": [
      "100%|██████████| 235/235 [00:01<00:00, 194.95it/s]\n"
     ]
    },
    {
     "name": "stdout",
     "output_type": "stream",
     "text": [
      "Epoch 92/100, Loss: 0.014718529768288136, train dataset accuracy: 95.73\n",
      "test dataset accuracy: 94.78%\n"
     ]
    },
    {
     "name": "stderr",
     "output_type": "stream",
     "text": [
      "100%|██████████| 235/235 [00:01<00:00, 165.17it/s]\n"
     ]
    },
    {
     "name": "stdout",
     "output_type": "stream",
     "text": [
      "Epoch 93/100, Loss: 0.003686080453917384, train dataset accuracy: 95.925\n",
      "test dataset accuracy: 95.62%\n"
     ]
    },
    {
     "name": "stderr",
     "output_type": "stream",
     "text": [
      "100%|██████████| 235/235 [00:01<00:00, 175.35it/s]\n"
     ]
    },
    {
     "name": "stdout",
     "output_type": "stream",
     "text": [
      "Epoch 94/100, Loss: 0.009546251967549324, train dataset accuracy: 96.61833333333334\n",
      "test dataset accuracy: 96.07%\n"
     ]
    },
    {
     "name": "stderr",
     "output_type": "stream",
     "text": [
      "100%|██████████| 235/235 [00:01<00:00, 180.69it/s]\n"
     ]
    },
    {
     "name": "stdout",
     "output_type": "stream",
     "text": [
      "Epoch 95/100, Loss: 0.006376214791089296, train dataset accuracy: 96.76666666666667\n",
      "test dataset accuracy: 96.07%\n"
     ]
    },
    {
     "name": "stderr",
     "output_type": "stream",
     "text": [
      "100%|██████████| 235/235 [00:01<00:00, 174.77it/s]\n"
     ]
    },
    {
     "name": "stdout",
     "output_type": "stream",
     "text": [
      "Epoch 96/100, Loss: 0.010563736781477928, train dataset accuracy: 95.61333333333333\n",
      "test dataset accuracy: 95.26%\n"
     ]
    },
    {
     "name": "stderr",
     "output_type": "stream",
     "text": [
      "100%|██████████| 235/235 [00:01<00:00, 170.18it/s]\n"
     ]
    },
    {
     "name": "stdout",
     "output_type": "stream",
     "text": [
      "Epoch 97/100, Loss: 0.006979765836149454, train dataset accuracy: 94.46\n",
      "test dataset accuracy: 94.26%\n"
     ]
    },
    {
     "name": "stderr",
     "output_type": "stream",
     "text": [
      "100%|██████████| 235/235 [00:01<00:00, 182.20it/s]\n"
     ]
    },
    {
     "name": "stdout",
     "output_type": "stream",
     "text": [
      "Epoch 98/100, Loss: 0.026008136570453644, train dataset accuracy: 92.47333333333333\n",
      "test dataset accuracy: 89.27%\n"
     ]
    },
    {
     "name": "stderr",
     "output_type": "stream",
     "text": [
      "100%|██████████| 235/235 [00:01<00:00, 170.50it/s]\n"
     ]
    },
    {
     "name": "stdout",
     "output_type": "stream",
     "text": [
      "Epoch 99/100, Loss: 0.010433131828904152, train dataset accuracy: 92.60166666666667\n",
      "test dataset accuracy: 93.7%\n"
     ]
    }
   ],
   "source": [
    "model = model\n",
    "lay = []\n",
    "for n, i in model.named_children():\n",
    "    print(type(i).__name__)\n",
    "    if type(i).__name__ == \"Linear\":\n",
    "        lay.append((n, i))\n",
    "\n",
    "acc = []\n",
    "\n",
    "num_epochs = 100  \n",
    "for epoch in range(num_epochs):\n",
    "    ttot = 0\n",
    "    tcorr = 0\n",
    "    for b in tqdm(trainloader):\n",
    "        xt, y = b[0], b[1]\n",
    "        optimizer.zero_grad() \n",
    "        outputs = model(xt)  \n",
    "        loss = criterion(outputs, y) \n",
    "        \n",
    "        loss.backward() \n",
    "        optimizer.step() \n",
    "    \n",
    "        _, y = torch.max(y.data, 1)\n",
    "        _, pred = torch.max(outputs.data, 1)\n",
    "        ttot += y.shape[0]\n",
    "        tcorr += (pred == y).sum().item()\n",
    "    \n",
    "    for i in range(len(lay)):\n",
    "        if i > 0 and i <= len(lay)-1:\n",
    "            di = neuronalNeuralBalance(lay[i-1][1], lay[i][1])\n",
    "\n",
    "    print(f'Epoch {epoch}/{num_epochs}, Loss: {loss.item()}, train dataset accuracy: {100*tcorr/ttot}')\n",
    "        \n",
    "    tot = 0\n",
    "    corr = 0\n",
    "\n",
    "    with torch.no_grad():\n",
    "        for i in testloader:\n",
    "            xt, y = i[0], i[1]\n",
    "            outputs = model(xt)  \n",
    "            _, y = torch.max(y.data, 1)\n",
    "            _, pred = torch.max(outputs.data, 1)\n",
    "            tot += y.shape[0]\n",
    "            corr += (pred == y).sum().item()\n",
    "    print(f'test dataset accuracy: {100*corr/tot}%')\n",
    "    acc.append(corr/tot)\n"
   ]
  },
  {
   "cell_type": "code",
   "execution_count": 12,
   "metadata": {},
   "outputs": [
    {
     "data": {
      "image/png": "[encoded data removed]",
      "text/plain": [
       "<Figure size 2500x500 with 3 Axes>"
      ]
     },
     "metadata": {},
     "output_type": "display_data"
    }
   ],
   "source": [
    "import matplotlib.pyplot as plt\n",
    "\n",
    "fc_weights = model.fc.weight.cpu().detach().numpy().flatten()\n",
    "fc2_weights = model.fc2.weight.cpu().detach().numpy().flatten()\n",
    "out_weights = model.out.weight.cpu().detach().numpy().flatten()\n",
    "\n",
    "bins = np.linspace(-0.5, 0.5, 50) \n",
    "fc_hist, fc_bins = np.histogram(fc_weights, bins=bins)\n",
    "fc2_hist, fc2_bins = np.histogram(fc2_weights, bins=bins)\n",
    "out_hist, out_bins = np.histogram(out_weights, bins=bins)\n",
    "\n",
    "fc_bin_centers = 0.5 * (fc_bins[:-1] + fc_bins[1:])\n",
    "fc2_bin_centers = 0.5 * (fc2_bins[:-1] + fc2_bins[1:])\n",
    "out_bin_centers = 0.5 * (out_bins[:-1] + out_bins[1:])\n",
    "\n",
    "plt.figure(figsize=(25, 5))\n",
    "\n",
    "plt.subplot(1, 3, 1)\n",
    "plt.plot(fc_bin_centers, fc_hist, marker='o', linestyle='-', color='b')\n",
    "plt.title('Weight Distribution: Input to Hidden1 Layer')\n",
    "plt.xlabel('Weight Value')\n",
    "plt.ylabel('Frequency')\n",
    "\n",
    "plt.subplot(1, 3, 2)\n",
    "plt.plot(fc2_bin_centers, fc2_hist, marker='o', linestyle='-', color='g')\n",
    "plt.title('Weight Distribution: hidden 1 to hidden 2 Layer')\n",
    "plt.xlabel('Weight Value')\n",
    "plt.ylabel('Frequency')\n",
    "\n",
    "plt.subplot(1, 3, 3)\n",
    "plt.plot(out_bin_centers, out_hist, marker='o', linestyle='-', color='g')\n",
    "plt.title('Weight Distribution: Hidden2 to Output Layer')\n",
    "plt.xlabel('Weight Value')\n",
    "plt.ylabel('Frequency')\n",
    "\n",
    "plt.tight_layout()\n",
    "plt.show()\n"
   ]
  },
  {
   "cell_type": "code",
   "execution_count": 13,
   "metadata": {},
   "outputs": [
    {
     "name": "stdout",
     "output_type": "stream",
     "text": [
      "Number of non-zero weights greater than 0.01 in layer 1: 14488\n",
      "Number of non-zero weights greater than 0.01 in layer 1: 7181\n",
      "Number of non-zero weights greater than 0.01 in layer 3: 626\n"
     ]
    }
   ],
   "source": [
    "import torch\n",
    "\n",
    "def count_nonzero_weights_above_threshold(layer, threshold=0.01):\n",
    "    return torch.sum(torch.abs(layer.weight) > threshold).item()\n",
    "\n",
    "threshold_value = 0.01 \n",
    "\n",
    "nonzero_fc1 = count_nonzero_weights_above_threshold(model.fc, threshold=threshold_value)\n",
    "nonzero_fc2 = count_nonzero_weights_above_threshold(model.fc2, threshold=threshold_value)\n",
    "nonzero_fc3 = count_nonzero_weights_above_threshold(model.out, threshold=threshold_value)\n",
    "\n",
    "print(f'Number of non-zero weights greater than {threshold_value} in layer 1: {nonzero_fc1}')\n",
    "print(f'Number of non-zero weights greater than {threshold_value} in layer 1: {nonzero_fc2}')\n",
    "print(f'Number of non-zero weights greater than {threshold_value} in layer 3: {nonzero_fc3}')"
   ]
  },
  {
   "cell_type": "code",
   "execution_count": 14,
   "metadata": {},
   "outputs": [
    {
     "name": "stdout",
     "output_type": "stream",
     "text": [
      "[0.9757300025409273, 0.9755296814475954, 0.9751834431802341, 0.9757599632735816, 0.9750314185859098, 0.9763935158493928, 0.9761624661840291, 0.97622509239955, 0.9757783263397274, 0.9748446075168437, 0.9758563724512432, 0.9762005771337982, 0.9750889905458149, 0.9757540356559226, 0.9762413794058687, 0.975482902933996, 0.9749741336824305, 0.9764621620157617, 0.9752669425547449, 0.974868516667712, 0.9758365718594965, 0.9763399073393433, 0.9753473938872131, 0.9763221889432578, 0.9754143315410935, 0.975484790233107, 0.9764975906574898, 0.9761974497541063, 0.9758828091228794, 0.9758739972143784, 0.9756156391290961, 0.9758375114900557, 0.975305970330038, 0.9759696790967834, 0.9758242086415387, 0.9756324330709046, 0.9764118406574076, 0.976760351739537, 0.9761821139678459, 0.9757352112049688, 0.9752598195749559, 0.9756680441618184, 0.9753103568697108, 0.9762511125891057, 0.9763614117762409, 0.9755125377814287, 0.9760827590367931, 0.9755382828913178, 0.97617858055568, 0.9758291348199645, 0.9752337253782528, 0.9752856730827697, 0.9752189165396824, 0.9756430349338124, 0.9757566836998945, 0.9762430476649429, 0.9756429834706797, 0.9750663849474424, 0.9760907754178468, 0.9761066506004918, 0.9758948100448935, 0.975011053755104, 0.9757945631283932, 0.9757854251541941, 0.9757912113955827, 0.9754551738899891, 0.9760237372186131, 0.9758892764604026, 0.9760408529425046, 0.9759585300043616, 0.9756957692939819, 0.9757680738083524, 0.9752629383463701, 0.976079668345084, 0.9765715257020919, 0.9758147195967061, 0.9762625807903136, 0.9756751994348897, 0.9767049765013429, 0.9753081401738075, 0.9753888509472173, 0.9752149634422187, 0.9754290218694225, 0.9756916823209237, 0.9751458623723421, 0.9759344392378703, 0.9760581236138682, 0.9755960975942667, 0.9760296474236616, 0.9763391606994177, 0.9764469784384525, 0.974792229676003, 0.9758109249884388, 0.975931876206994, 0.9752608926036853, 0.9754280675289227, 0.9758735206805875, 0.9754620907575932, 0.9759859532563131, 0.9762257249333588, 0.9764282347199446, 0.9757440116970826, 0.9755702211055682, 0.9763799702115976, 0.9746222001920097, 0.9758755285192738, 0.9758225208502262, 0.975674170533222, 0.9753764321782437, 0.9758101820419945, 0.9756545057820905, 0.97606085790184, 0.9760777119658554, 0.9751293312624757, 0.9763614814301093, 0.9762305605763425, 0.9763262476451302, 0.9755394366283093, 0.9755583695410086, 0.9756049163612146, 0.975507572669826, 0.9754722384271232, 0.9759656157801758, 0.9762066893875367, 0.9755791841537127, 0.9764047067185018, 0.9754508151624782, 0.9752785460656294, 0.9756876484998086, 0.9752568916561469, 0.9761032179979116, 0.9762178866986293, 0.9759161747304665, 0.9758780659737708, 0.9753172879952058, 0.9758851717421693, 0.9764975417857167, 0.9758225073166963, 0.9756840268551188, 0.9760472170722898, 0.9758959077024203, 0.9764042373904414, 0.9762173791425967, 0.976024728389051, 0.9758371538014213, 0.975532917764412, 0.9745451336879485, 0.9764013994558092, 0.975484929728814, 0.9752826864993567, 0.9762765288053027, 0.9756207302730301, 0.9763690271004887, 0.9755061567886132, 0.9757731461559941, 0.9754183303790501, 0.9749226686327691, 0.9756710037332754, 0.9759882529212339, 0.9749828059153157, 0.9759624983907448, 0.9758634456416029, 0.9755073944042061, 0.9756293914188111, 0.9759142898180698, 0.9759756634071043, 0.9753865740211795, 0.9754132115339184, 0.9751309889536127, 0.9753781332966326, 0.975742387625924, 0.9760014893821217, 0.9761103868071436, 0.9765152416671085, 0.9752675460014871, 0.9757371832970948, 0.9754235622293642, 0.9756772222359837, 0.9766574802051592, 0.975614497828819, 0.9754278693358217, 0.9761868083515832, 0.9771122471418263, 0.9763978740679028, 0.976544181654065, 0.9756165143302602, 0.9754778538235912, 0.9759140559785662, 0.9755688513130707, 0.9757898159634215, 0.9750954840851029, 0.9755277075995739, 0.9759757170815738, 0.9753606717600375, 0.9752781165961486, 0.9757399987323551, 0.9759809941184457, 0.9753709720283676, 0.9758574222079774, 0.9735754303011587, 0.975950304468836, 0.9759286171973898, 0.9754020619091595, 0.9758144866522261, 0.9760897274576344, 0.9754097186873406, 0.9754614476277901, 0.975483229102194, 0.9757976215460007, 0.9757045655865749, 0.9759762157189903, 0.9749066940064405, 0.9762332072658584, 0.9759058687741237, 0.9760347874525721, 0.9758549519654167, 0.9756297643956, 0.9763319810299629, 0.9753044518699441, 0.9761913142086953, 0.9760688902996517, 0.9754632112414665, 0.9753460808895333, 0.9762121391720988, 0.975663655434906, 0.9756821429074437, 0.9762470466326938, 0.975185123857335, 0.9759978668710907, 0.9756079939293508, 0.9761083020920427, 0.976268291631439, 0.9751671601884955, 0.9757637311210875, 0.9754011880914956, 0.9754490511121963, 0.9761085913089973, 0.9755344710515765, 0.9758218689425242, 0.9753776209040808, 0.9753998137067665, 0.9756649666210828, 0.9754017970905321, 0.9755731436707387, 0.9756112062904553, 0.9748860188537214, 0.9759469842969893, 0.9752196146028674, 0.9751984750424812, 0.9747934014676836, 0.9762696597329344, 0.973857643672268, 0.975243981217669, 0.9764994654596167, 0.9758025511295778, 0.9743972818190806, 0.9756681706489013, 0.9760986039085697, 0.9760900932636454, 0.9754046957691108, 0.9756023498916326, 0.9758584169617014, 0.976017443128676, 0.9759325730110777, 0.9755707550700946, 0.9752236922712056, 0.975246166855204, 0.9758731617691608, 0.975646584439623, 0.9760806408539116, 0.9749827181442868, 0.9751702249896487, 0.9753282600859318, 0.9755290488558651, 0.9756477443232102, 0.9752780685531259, 0.9753716471508405, 0.9754317082695088, 0.9754748436021748, 0.9751472577489713, 0.976159450635111, 0.9753623102950609, 0.9759976938454116, 0.9754640749311345, 0.9755308773524398, 0.9754132588427439, 0.975548098969394, 0.9754648314880581, 0.9746060381843007, 0.9757117912658854, 0.9751540727038683, 0.9753694201290704, 0.9752100533467074, 0.9757820373712083, 0.9751797482212718, 0.9763134249412657, 0.9759274021445865, 0.975427131621192, 0.9762579625344964, 0.9752593543425302, 0.9759724979559814, 0.9757622264244901, 0.975510511916253, 0.9750959142400302, 0.9749675334410876, 0.9758352058061971, 0.9760020254140025, 0.9762150039791896, 0.9749008030546891, 0.9755467558106435, 0.975297309324016, 0.9756963589441214, 0.9756465255218103, 0.9760657618514337, 0.9757535824389039, 0.9759905146887429, 0.9761028211797491, 0.9755279836515129, 0.9759901014034127, 0.9755642705920539, 0.9754101325764354, 0.975435765603743, 0.9763332864621529, 0.9762981407443286, 0.9757200902343719, 0.9750592719121491, 0.9756869390742202, 0.975597851022175, 0.9760421280297512, 0.9764353305408462, 0.9756596734567039, 0.9752294536821069, 0.9756287569510677, 0.975044347528636, 0.9760644408953384, 0.9757997774641151, 0.975359585030144, 0.975751625899378, 0.97572993459974, 0.9752974768094964, 0.9750228373701207, 0.9753241658321163, 0.9758363261552974, 0.9758051236305806, 0.975238794067329, 0.9757154807027605, 0.9753455531691813, 0.97494572906568, 0.975461162606643, 0.9758875995398748, 0.9759354057000393, 0.9752382774851994, 0.9758945978854513, 0.9758603594725328, 0.9761351516171205, 0.9758007946880207, 0.9780891222369957, 0.976319030320781, 0.97614962407102, 0.9755246877137442, 0.9754850762324151, 0.9755108301108408, 0.9764736836716673, 0.9758844537455419, 0.9763551774642754, 0.9756552974352765, 0.97524443105403, 0.9754951836162269, 0.975145969063736, 0.9759790847861202, 0.9757560691831494, 0.9766923381565651, 0.9759205709225707, 0.9755029582336765, 0.9757448940830287, 0.9758920361214326, 0.975084475152608, 0.9756199926890571, 0.9749820009102486, 0.9759278171007133, 0.975948698558238, 0.9759564409654572, 0.9757626049823458, 0.9761387756041245, 0.9749501891247581, 0.9760274456918249, 0.9758398800382156, 0.9755764700279731, 0.9749653867665607, 0.9759151361466062, 0.9760656269761406, 0.9758569227820315, 0.9761041975826252, 0.9763980064923741, 0.9760464252304074, 0.9756047976085362, 0.976158485615063, 0.9757953316596131, 0.9764153410561934, 0.9763752986278132, 0.9761225299772495, 0.9756888755582949, 0.9758001662143355, 0.9761480208200376, 0.9756581690564367, 0.9758445417110684, 0.9760021964011483, 0.9753539729608464, 0.9759944955344222, 0.9756199969237462, 0.9759629005841115, 0.9758448532091992, 0.9757035684767834, 0.9756639193053106, 0.9752421633760059, 0.9750266761396246, 0.9759519968511997, 0.9754890953499212, 0.9757903844903953, 0.9760176088085725, 0.9761230688490626, 0.9758399334210933, 0.9757889561585185, 0.9756508517045749, 0.9757178832357432, 0.9768131744553242, 0.9757565862567291, 0.9755105241266969, 0.975782566682695, 0.9754673982362309, 0.9752754496208477, 0.9756860387471299, 0.9765442534123232, 0.9749780939694809, 0.9740477303557253, 0.9760578593112101, 0.9751171956782878, 0.9751151578046308, 0.9756424962408552, 0.9754605260474167, 0.9763044815883422, 0.9755808020000685, 0.9753799341580267, 0.9748949408872399, 0.9754351687370643, 0.9758204850835883, 0.9761262764231314, 0.9758805459619165, 0.9752200128759625, 0.9763101443977685, 0.9759000419429639, 0.9757044503592778, 0.9755015187640544, 0.9757487865347997, 0.9748170993971977, 0.9754679804091314, 0.9751775606567975, 0.9759443571048652, 0.9754888314565614, 0.9755858595542773, 0.9760867856065211, 0.9756517504255667, 0.9749669136168171, 0.9759322308682223, 0.9763001933749113, 0.9755385975457741, 0.9764049564222824, 0.9757923736846077, 0.9760625070060586, 0.9768171936408137, 0.9759684507148063, 0.975047436613139, 0.9752202354601555, 0.9755282984848057, 0.9756569248280287, 0.9756334913631652, 0.9755416538641846, 0.9768423926718953, 0.9756988951840032, 0.975486197892644, 0.9764842215635366, 0.9752099978783234, 0.9750742127593048, 0.9758139278136874, 0.9754813055123985, 0.9752013573511749, 0.9754552808874677, 0.9758119746561053, 0.9752194155620838, 0.9757629062165655, 0.9754426367951262, 0.9757084981853182, 0.9761638590705726, 0.974973542240949, 0.975211404315763, 0.9763471806293087, 0.9752886574347892, 0.9754921166308769, 0.9760899637670607, 0.9750903178853958, 0.9758693095835441, 0.9754944159651902, 0.9758418218084387, 0.9764194293653086, 0.9749164574048539, 0.9754193510822032, 0.9754783377358673, 0.9760387726513351, 0.9762290988715341, 0.976144411298603, 0.9762122959399985, 0.9760389509410149]\n",
      "torch.Size([512])\n",
      "[0.9825424061350916, 0.9803402963437093, 0.9817714780307458, 0.9817904065824988, 0.9818313003272487, 0.9823659776893436, 0.9820028443348844, 0.9816437765316693, 0.9831959615236083, 0.9819861852617857, 0.9818991668058524, 0.9815978482721629, 0.982072523033801, 0.9823727536470024, 0.9817851251760967, 0.9823666667783907, 0.9820516942752118, 0.9824524504920643, 0.9820083346112746, 0.9786479728236255, 0.979963649200793, 0.9817530992230145, 0.9819909000325214, 0.9816806202095861, 0.9779438786332624, 0.9811167570342055, 0.9821742974024997, 0.9821090217082812, 0.9819172851968069, 0.9821422508897857, 0.9825376111483477, 0.9822531511872056, 0.9820219626971456, 0.9817594918377107, 0.9822383301760476, 0.9817740793548932, 0.9821726300987692, 0.9820569006039944, 0.9817735710103755, 0.9820785804597383, 0.9824574597228032, 0.9812215526798083, 0.9814783469179713, 0.9816823616850908, 0.981898330016538, 0.9825445558015654, 0.9824660453472264, 0.982555931106542, 0.9824468128926164, 0.9818183119005095, 0.9819039614845738, 0.9835736239496328, 0.9821444549772754, 0.981894264867859, 0.9813281235779037, 0.9824181912122567, 0.9822460077619873, 0.9819514889388207, 0.982470898933236, 0.9822550992082242, 0.9826253065071157, 0.9811322378600263, 0.9821291825814116, 0.9820347122496681, 0.9816977516949461, 0.9821276745810895, 0.9821099729291453, 0.981844553135456, 0.9826194150748212, 0.9817480582968982, 0.9821479519880928, 0.982191613552754, 0.9810793963231075, 0.9821357468887137, 0.9817199644642176, 0.9809264987288795, 0.9819409166179044, 0.9819801133747744, 0.9824106969329126, 0.9823604316598792, 0.9822810728686048, 0.9819034543239437, 0.9817475036034862, 0.9825435663913523, 0.9816325211632232, 0.9819500499717153, 0.983024665344591, 0.9818094235811694, 0.9826942468910275, 0.9816199753251157, 0.981673175322072, 0.9821155059673806, 0.9818522878296572, 0.9815440414387183, 0.9813225282811727, 0.9806251752188959, 0.9819131032916739, 0.9822024886011451, 0.9819891011665436, 0.9825956195029198, 0.9814810182529935, 0.981950010610149, 0.9823388739658077, 0.982391519256841, 0.9832242563457628, 0.9820176546322265, 0.9824452304484009, 0.980476953485225, 0.9815407980421623, 0.9819198036098505, 0.9822542188104241, 0.9812305218590588, 0.9818129519329825, 0.98196707107294, 0.9831200494749948, 0.9808732822247992, 0.9820290422567123, 0.9820954552440522, 0.9819712558563776, 0.9815636270755687, 0.9822988645253521, 0.9819330860837217, 0.9821154374962371, 0.981877300884398, 0.9821394052353724, 0.9818903754493181, 0.9823993287188743, 0.9818043781159663, 0.9825490611697679, 0.9824855511653328, 0.9822373451870092, 0.9822953844105541, 0.9820909495474176, 0.9819522894777851, 0.9828408431075738, 0.98201821351737, 0.9817182362185051, 0.9819509460326303, 0.9821523742192103, 0.9824681355563791, 0.9819389562786315, 0.9824450358607583, 0.9836627178067017, 0.98200125191237, 0.9831981342374565, 0.9824770980274942, 0.9812847171422137, 0.9817979158447276, 0.9821254162283864, 0.9817723804512888, 0.9821594191939489, 0.9833890542599621, 0.9819250789928768, 0.9823537417804935, 0.9817999531743443, 0.9815124949245286, 0.9822046759557282, 0.9820207071888349, 0.9818362718502025, 0.9818346306296494, 0.9823896812239344, 0.9820257839706624, 0.9814195357372725, 0.9824332825835993, 0.9820649577036404, 0.9818425464999538, 0.9819779593314423, 0.9820463631701343, 0.9818125395475727, 0.982102801525504, 0.9821127388173357, 0.9816563540705425, 0.9817017667633454, 0.9824353708055152, 0.9826427381767414, 0.9820011094236655, 0.9818661875823345, 0.9819548501893678, 0.9822621671234265, 0.9821073567101526, 0.9821657262553172, 0.9821846800778183, 0.984089488054145, 0.9815681772340229, 0.9819167899741552, 0.9826522995049844, 0.982335178805922, 0.9819634489892474, 0.9826569437479657, 0.9818404164981023, 0.9820907312092959, 0.9818711166308527, 0.9821736566767467, 0.9825850406131771, 0.9822126871662711, 0.9819970166916268, 0.9817624070039961, 0.9818622924644123, 0.9821822165790289, 0.9827739447186431, 0.9821992490138971, 0.9818119321989813, 0.9820824900081851, 0.9820373341480028, 0.9836501989558547, 0.9831606821560744, 0.9820081685176116, 0.9832387216533562, 0.9819978595932091, 0.9832514737957627, 0.9819690017159701, 0.9827745658326326, 0.9821392953229563, 0.9823618134944351, 0.98211713001301, 0.9829591440289259, 0.982827333908104, 0.9821858751311938, 0.9819289068711359, 0.9819506738109129, 0.9819001303920862, 0.9819123516796439, 0.9818018288289523, 0.9814555726584504, 0.9821368725257116, 0.9824518451879268, 0.9821828299072551, 0.9820675386216196, 0.9820592386719527, 0.9816348376030601, 0.9820697334071107, 0.9818184921313029, 0.9825190956321183, 0.9816015667840965, 0.9818752836125317, 0.981790800202361, 0.9818661960758327, 0.9825892482649901, 0.9814297058478862, 0.9817942442206151, 0.9821956715204265, 0.9823416413648494, 0.982139246399358, 0.9826636502179581, 0.9819132554137661, 0.9820477998870702, 0.9813076663130197, 0.9819478435427356, 0.9822419432984842, 0.9821579226017222, 0.9821175535043354, 0.9817329891273276, 0.9821867902211147, 0.9821009691137287, 0.9822304387230892, 0.9822531179670732]\n",
      "torch.Size([256])\n",
      "[0.9901122548030945, 0.9908027527075928, 0.9909224027618204, 0.9909386553836826, 0.9909655963043196, 0.9906011380134226, 0.9909293988747819, 0.99077489632951, 0.990901672997794, 0.990876271303269, 0.9909316024779193, 0.9906457233645841, 0.9905021816542845, 0.9903462968034588, 0.9909834587259152, 0.9909566706512816, 0.9906348696295354, 0.9910947871099667, 0.9885040179659099, 0.9908150520857848, 0.9897253601594207, 0.9910275457989814, 0.990851464710504, 0.9909726078661282, 0.9908775728931754, 0.9908195124085001, 0.9909425406036617, 0.9848977444197883, 0.9909474294281991, 0.9909513892611975, 0.9908831472036355, 0.9909311659659824, 0.9909486303128129, 0.9909010747298026, 0.9909853325417842, 0.9909959623617315, 0.9909657839523679, 0.9909808411487856, 0.9907424083154518, 0.9904630449304161, 0.9907975689807956, 0.9908562870114723, 0.9906493143915431, 0.9909017304060224, 0.9875551552004711, 0.990586841911404, 0.9893982844560449, 0.9909979696185638, 0.9905829634085425, 0.9909046827615434, 0.9906153497730882, 0.9901828386299448, 0.9908521860952951, 0.9908952480381158, 0.9908141032813633, 0.9909218896568317, 0.9910141136770918, 0.9908958594185764, 0.9907608800368091, 0.9909387903385674, 0.9909906177272674, 0.9908921026055012, 0.9908854306813614, 0.9907629434945951, 0.990062472250745, 0.9909340999800934, 0.9908507995550324, 0.9909558057700261, 0.9906928886471524, 0.9898050015451199, 0.990681241969577, 0.9909560691085579, 0.9908351644922359, 0.9910073184428763, 0.990850048858871, 0.9896654540570431, 0.990930165977368, 0.9909631789021983, 0.9909407135201741, 0.990955725990588, 0.9908477994252035, 0.9909979443382019, 0.9896658940998361, 0.9909459522514471, 0.9904733958894903, 0.9907621723528296, 0.990943397917968, 0.9903867327590735, 0.9910587273923539, 0.9908968595542889, 0.9904650473439619, 0.9907540904232519, 0.9897540531729181, 0.9905885885416621, 0.9909049024228078, 0.990821256236393, 0.9907407710994875, 0.9899697997682565, 0.9910128011205988, 0.9909506772287764, 0.9909107395078853, 0.9909332216221888, 0.9909658687610008, 0.9909555981509434, 0.9888962051364385, 0.9908463263194885, 0.990804310454372, 0.9907053330987454, 0.9909487981477869, 0.9908244323603282, 0.990934986919505, 0.991025738781051, 0.9910054779233732, 0.99095987186437, 0.990977152174284, 0.9908546110905618, 0.9910008950584626, 0.9909635197011558, 0.9907852777257103, 0.9909403636486308, 0.9910187380198874, 0.990881271816655, 0.9905685604369409, 0.9908221286168929, 0.9909584255058059, 0.9909006711475388, 0.9909774447945586, 0.9908416610079477]\n",
      "torch.Size([128])\n",
      "[1.0, 1.000000087318983, 0.9999999634841971, 1.0000001003114318, 0.9999999558865972, 0.9999999170849557, 1.0000000623958438, 1.0000000505688784, 1.0000000589086055, 0.9999999599400599, 0.9999999564609047, 1.000000033024922, 1.0, 0.9999999694842802, 1.00000015012022, 1.000000119762444, 1.0000000463370247, 1.0, 1.0, 1.0000000380934495, 1.0000000970384026, 0.9999999283952526, 1.0, 1.0000000480787432, 0.999999882716183, 1.0, 0.9999999061864104, 0.9999999494887439, 1.0000000381517047, 1.000000041304351, 1.0, 0.9999998952665454, 1.0, 1.0000000437433447, 1.0, 0.9999999420457082, 1.0000000329115124, 0.9999999692589616, 1.0, 0.9999999490814433, 1.0, 0.9999999635368624, 1.000000049435192, 1.0000000320965294, 1.0, 0.9999998863817141, 1.000000082600007, 0.9999998967827759, 1.0000001003538124, 0.9999999681402659, 0.9999999447943974, 0.9999999199011997, 0.9999999542559936, 1.0000000728718, 1.0000000506809428, 1.0000000823192527, 1.0000000520537264, 0.9999999624401796, 1.0000001524755666, 1.0, 1.0, 1.0000000733796874, 1.0000000681041756, 1.000000040460033]\n",
      "torch.Size([64])\n"
     ]
    }
   ],
   "source": [
    "for i in range(len(lay)):\n",
    "    if i > 0 and i <= len(lay)-1:\n",
    "        norms = []\n",
    "        for j in range(lay[i-1][1].weight.shape[0]):\n",
    "            norms.append(np.sqrt(torch.sum(torch.square(lay[i][1].weight.data[:,j])).item())/np.sqrt(torch.sum(torch.square(lay[i-1][1].weight.data[j])).item()))\n",
    "        print(norms)\n",
    "        norms = torch.tensor(norms)\n",
    "        print(norms.shape)"
   ]
  },
  {
   "cell_type": "code",
   "execution_count": 15,
   "metadata": {},
   "outputs": [
    {
     "data": {
      "image/png": "[encoded data removed]",
      "text/plain": [
       "<Figure size 1600x1000 with 1 Axes>"
      ]
     },
     "metadata": {},
     "output_type": "display_data"
    }
   ],
   "source": [
    "epochs_plot = list(range(100))\n",
    "\n",
    "plt.figure(figsize=(16, 10))\n",
    "plt.plot(epochs_plot, acc, linestyle='-', color='b', label='acc')\n",
    "\n",
    "plt.xlabel('Epochs', fontsize=14)\n",
    "plt.ylabel('Accuracy', fontsize=14)\n",
    "plt.title('Model Accuracy Over Epochs', fontsize=14)\n",
    "\n",
    "plt.xticks(fontsize=14)\n",
    "plt.yticks(fontsize=14)\n",
    "\n",
    "plt.grid(True)\n",
    "\n",
    "plt.legend(fontsize=14)\n",
    "\n",
    "plt.show()"
   ]
  },
  {
   "cell_type": "code",
   "execution_count": 16,
   "metadata": {},
   "outputs": [],
   "source": [
    "import pickle\n",
    "with open('nbOnlineEveryEpochAcc.pkl', 'wb') as f:\n",
    "    pickle.dump(acc, f)"
   ]
  }
 ],
 "metadata": {
  "kernelspec": {
   "display_name": "Python 3",
   "language": "python",
   "name": "python3"
  },
  "language_info": {
   "codemirror_mode": {
    "name": "ipython",
    "version": 3
   },
   "file_extension": ".py",
   "mimetype": "text/x-python",
   "name": "python",
   "nbconvert_exporter": "python",
   "pygments_lexer": "ipython3",
   "version": "3.11.2"
  }
 },
 "nbformat": 4,
 "nbformat_minor": 2
}
