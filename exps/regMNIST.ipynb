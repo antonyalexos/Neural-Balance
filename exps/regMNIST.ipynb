{
 "cells": [
  {
   "cell_type": "code",
   "execution_count": 1,
   "metadata": {},
   "outputs": [],
   "source": [
    "import torch\n",
    "import torch.nn as nn\n",
    "import torch.optim as optim\n",
    "import numpy as np\n",
    "from torchvision.datasets import MNIST\n",
    "from torch.utils.data import DataLoader\n",
    "from torchvision import transforms\n",
    "import os\n",
    "from tqdm import tqdm\n",
    "\n",
    "class SingleLayerNN(nn.Module):\n",
    "    def __init__(self):\n",
    "        super(SingleLayerNN, self).__init__()\n",
    "        self.fc = nn.Linear(784, 64)  \n",
    "        self.out = nn.Linear(64, 784)\n",
    "\n",
    "    def forward(self, x):\n",
    "        x = torch.relu(self.fc(x)) \n",
    "        x = self.out(x)  \n",
    "        return x\n",
    "\n",
    "model = SingleLayerNN()\n",
    "\n",
    "\n",
    "criterion = nn.MSELoss() \n",
    "optimizer = optim.Adam(model.parameters(), lr=0.01)  \n"
   ]
  },
  {
   "cell_type": "code",
   "execution_count": 2,
   "metadata": {},
   "outputs": [
    {
     "name": "stderr",
     "output_type": "stream",
     "text": [
      "C:\\Users\\ianey\\AppData\\Local\\Temp\\ipykernel_21328\\2340656213.py:3: UserWarning: To copy construct from a tensor, it is recommended to use sourceTensor.clone().detach() or sourceTensor.clone().detach().requires_grad_(True), rather than torch.tensor(sourceTensor).\n",
      "  x_train = torch.tensor(x_train, dtype=torch.float32)\n"
     ]
    }
   ],
   "source": [
    "train_dataset = MNIST(os.getcwd(), train=True, download=True, transform=[transforms.ToTensor(), transforms.Normalize((0.5,), (0.5,))])\n",
    "x_train = train_dataset.data / 255.0\n",
    "x_train = torch.tensor(x_train, dtype=torch.float32)\n",
    "x_train = x_train.view(-1, 784)\n",
    "trainloader = DataLoader(x_train, batch_size=64, shuffle=True)"
   ]
  },
  {
   "cell_type": "code",
   "execution_count": 3,
   "metadata": {},
   "outputs": [
    {
     "name": "stdout",
     "output_type": "stream",
     "text": [
      "Linear\n",
      "Linear\n"
     ]
    },
    {
     "name": "stderr",
     "output_type": "stream",
     "text": [
      "100%|██████████| 938/938 [00:03<00:00, 287.47it/s]\n"
     ]
    },
    {
     "name": "stdout",
     "output_type": "stream",
     "text": [
      "Epoch 0/20, Loss: 0.1334373950958252\n"
     ]
    },
    {
     "name": "stderr",
     "output_type": "stream",
     "text": [
      "100%|██████████| 938/938 [00:03<00:00, 288.90it/s]\n"
     ]
    },
    {
     "name": "stdout",
     "output_type": "stream",
     "text": [
      "Epoch 1/20, Loss: 0.14730164408683777\n"
     ]
    },
    {
     "name": "stderr",
     "output_type": "stream",
     "text": [
      "100%|██████████| 938/938 [00:03<00:00, 286.03it/s]\n"
     ]
    },
    {
     "name": "stdout",
     "output_type": "stream",
     "text": [
      "Epoch 2/20, Loss: 0.12965843081474304\n"
     ]
    },
    {
     "name": "stderr",
     "output_type": "stream",
     "text": [
      "100%|██████████| 938/938 [00:03<00:00, 284.63it/s]\n"
     ]
    },
    {
     "name": "stdout",
     "output_type": "stream",
     "text": [
      "Epoch 3/20, Loss: 0.13709402084350586\n"
     ]
    },
    {
     "name": "stderr",
     "output_type": "stream",
     "text": [
      "100%|██████████| 938/938 [00:03<00:00, 284.25it/s]\n"
     ]
    },
    {
     "name": "stdout",
     "output_type": "stream",
     "text": [
      "Epoch 4/20, Loss: 0.13489040732383728\n"
     ]
    },
    {
     "name": "stderr",
     "output_type": "stream",
     "text": [
      "100%|██████████| 938/938 [00:03<00:00, 275.13it/s]\n"
     ]
    },
    {
     "name": "stdout",
     "output_type": "stream",
     "text": [
      "Epoch 5/20, Loss: 0.13118228316307068\n"
     ]
    },
    {
     "name": "stderr",
     "output_type": "stream",
     "text": [
      "100%|██████████| 938/938 [00:03<00:00, 235.23it/s]\n"
     ]
    },
    {
     "name": "stdout",
     "output_type": "stream",
     "text": [
      "Epoch 6/20, Loss: 0.13815808296203613\n"
     ]
    },
    {
     "name": "stderr",
     "output_type": "stream",
     "text": [
      "100%|██████████| 938/938 [00:03<00:00, 270.69it/s]\n"
     ]
    },
    {
     "name": "stdout",
     "output_type": "stream",
     "text": [
      "Epoch 7/20, Loss: 0.13217833638191223\n"
     ]
    },
    {
     "name": "stderr",
     "output_type": "stream",
     "text": [
      "100%|██████████| 938/938 [00:03<00:00, 291.79it/s]\n"
     ]
    },
    {
     "name": "stdout",
     "output_type": "stream",
     "text": [
      "Epoch 8/20, Loss: 0.13769470155239105\n"
     ]
    },
    {
     "name": "stderr",
     "output_type": "stream",
     "text": [
      "100%|██████████| 938/938 [00:03<00:00, 295.87it/s]\n"
     ]
    },
    {
     "name": "stdout",
     "output_type": "stream",
     "text": [
      "Epoch 9/20, Loss: 0.12620823085308075\n"
     ]
    },
    {
     "name": "stderr",
     "output_type": "stream",
     "text": [
      "100%|██████████| 938/938 [00:04<00:00, 208.15it/s]\n"
     ]
    },
    {
     "name": "stdout",
     "output_type": "stream",
     "text": [
      "Epoch 10/20, Loss: 0.13818475604057312\n"
     ]
    },
    {
     "name": "stderr",
     "output_type": "stream",
     "text": [
      "100%|██████████| 938/938 [00:04<00:00, 224.15it/s]\n"
     ]
    },
    {
     "name": "stdout",
     "output_type": "stream",
     "text": [
      "Epoch 11/20, Loss: 0.13330703973770142\n"
     ]
    },
    {
     "name": "stderr",
     "output_type": "stream",
     "text": [
      "100%|██████████| 938/938 [00:04<00:00, 224.33it/s]\n"
     ]
    },
    {
     "name": "stdout",
     "output_type": "stream",
     "text": [
      "Epoch 12/20, Loss: 0.1308077871799469\n"
     ]
    },
    {
     "name": "stderr",
     "output_type": "stream",
     "text": [
      "100%|██████████| 938/938 [00:03<00:00, 265.98it/s]\n"
     ]
    },
    {
     "name": "stdout",
     "output_type": "stream",
     "text": [
      "Epoch 13/20, Loss: 0.12846031785011292\n"
     ]
    },
    {
     "name": "stderr",
     "output_type": "stream",
     "text": [
      "100%|██████████| 938/938 [00:03<00:00, 298.98it/s]\n"
     ]
    },
    {
     "name": "stdout",
     "output_type": "stream",
     "text": [
      "Epoch 14/20, Loss: 0.12842556834220886\n"
     ]
    },
    {
     "name": "stderr",
     "output_type": "stream",
     "text": [
      "100%|██████████| 938/938 [00:03<00:00, 257.26it/s]\n"
     ]
    },
    {
     "name": "stdout",
     "output_type": "stream",
     "text": [
      "Epoch 15/20, Loss: 0.13335278630256653\n"
     ]
    },
    {
     "name": "stderr",
     "output_type": "stream",
     "text": [
      "100%|██████████| 938/938 [00:03<00:00, 288.03it/s]\n"
     ]
    },
    {
     "name": "stdout",
     "output_type": "stream",
     "text": [
      "Epoch 16/20, Loss: 0.13339315354824066\n"
     ]
    },
    {
     "name": "stderr",
     "output_type": "stream",
     "text": [
      "100%|██████████| 938/938 [00:03<00:00, 273.57it/s]\n"
     ]
    },
    {
     "name": "stdout",
     "output_type": "stream",
     "text": [
      "Epoch 17/20, Loss: 0.131694495677948\n"
     ]
    },
    {
     "name": "stderr",
     "output_type": "stream",
     "text": [
      "100%|██████████| 938/938 [00:03<00:00, 279.23it/s]\n"
     ]
    },
    {
     "name": "stdout",
     "output_type": "stream",
     "text": [
      "Epoch 18/20, Loss: 0.1345500349998474\n"
     ]
    },
    {
     "name": "stderr",
     "output_type": "stream",
     "text": [
      "100%|██████████| 938/938 [00:03<00:00, 287.53it/s]"
     ]
    },
    {
     "name": "stdout",
     "output_type": "stream",
     "text": [
      "Epoch 19/20, Loss: 0.13425737619400024\n"
     ]
    },
    {
     "name": "stderr",
     "output_type": "stream",
     "text": [
      "\n"
     ]
    }
   ],
   "source": [
    "model = model.to('cuda')\n",
    "lay = []\n",
    "for n, i in model.named_children():\n",
    "    print(type(i).__name__)\n",
    "    if type(i).__name__ == \"Linear\":\n",
    "        lay.append((n, i))\n",
    "\n",
    "l1_lambda = 0.0005\n",
    "\n",
    "num_epochs = 20  \n",
    "for epoch in range(num_epochs):\n",
    "    for b in tqdm(trainloader):\n",
    "        b = b.to('cuda')\n",
    "        optimizer.zero_grad() \n",
    "        outputs = model(b)  \n",
    "        loss = criterion(outputs, b) \n",
    "\n",
    "        l1_penalty = sum(p.abs().sum() for p in model.parameters())\n",
    "        loss += l1_lambda * l1_penalty \n",
    "\n",
    "        loss.backward() \n",
    "        optimizer.step() \n",
    "    \n",
    "    \n",
    "    # for i in range(len(lay)):\n",
    "    #     if i > 0 and i <= len(lay)-1:\n",
    "    #         neuronalNeuralBalance(lay[i-1][1], lay[i][1])\n",
    "\n",
    "    print(f'Epoch {epoch}/{num_epochs}, Loss: {loss.item()}')\n"
   ]
  },
  {
   "cell_type": "code",
   "execution_count": 4,
   "metadata": {},
   "outputs": [
    {
     "data": {
      "image/png": "[encoded data removed]",
      "text/plain": [
       "<Figure size 2500x500 with 2 Axes>"
      ]
     },
     "metadata": {},
     "output_type": "display_data"
    }
   ],
   "source": [
    "import matplotlib.pyplot as plt\n",
    "\n",
    "fc_weights = model.fc.weight.cpu().detach().numpy().flatten()\n",
    "out_weights = model.out.weight.cpu().detach().numpy().flatten()\n",
    "\n",
    "bins = np.linspace(-0.5, 0.5, 50) \n",
    "fc_hist, fc_bins = np.histogram(fc_weights, bins=bins)\n",
    "out_hist, out_bins = np.histogram(out_weights, bins=bins)\n",
    "\n",
    "fc_bin_centers = 0.5 * (fc_bins[:-1] + fc_bins[1:])\n",
    "out_bin_centers = 0.5 * (out_bins[:-1] + out_bins[1:])\n",
    "\n",
    "plt.figure(figsize=(25, 5))\n",
    "\n",
    "plt.subplot(1, 2, 1)\n",
    "plt.plot(fc_bin_centers, fc_hist, marker='o', linestyle='-', color='b')\n",
    "plt.title('Weight Distribution: Input to Hidden1 Layer')\n",
    "plt.xlabel('Weight Value')\n",
    "plt.ylabel('Frequency')\n",
    "\n",
    "plt.subplot(1, 2, 2)\n",
    "plt.plot(out_bin_centers, out_hist, marker='o', linestyle='-', color='g')\n",
    "plt.title('Weight Distribution: Hidden2 to Output Layer')\n",
    "plt.xlabel('Weight Value')\n",
    "plt.ylabel('Frequency')\n",
    "\n",
    "plt.tight_layout()\n",
    "plt.show()\n"
   ]
  },
  {
   "cell_type": "code",
   "execution_count": 5,
   "metadata": {},
   "outputs": [
    {
     "name": "stdout",
     "output_type": "stream",
     "text": [
      "Number of non-zero weights greater than 0.01 in layer 1: 118\n",
      "Number of non-zero weights greater than 0.01 in layer 3: 308\n"
     ]
    }
   ],
   "source": [
    "import torch\n",
    "\n",
    "def count_nonzero_weights_above_threshold(layer, threshold=0.1):\n",
    "    return torch.sum(torch.abs(layer.weight) > threshold).item()\n",
    "\n",
    "threshold_value = 0.01 \n",
    "\n",
    "nonzero_fc1 = count_nonzero_weights_above_threshold(model.fc, threshold=threshold_value)\n",
    "nonzero_fc3 = count_nonzero_weights_above_threshold(model.out, threshold=threshold_value)\n",
    "\n",
    "print(f'Number of non-zero weights greater than {threshold_value} in layer 1: {nonzero_fc1}')\n",
    "print(f'Number of non-zero weights greater than {threshold_value} in layer 3: {nonzero_fc3}')"
   ]
  }
 ],
 "metadata": {
  "kernelspec": {
   "display_name": "Python 3",
   "language": "python",
   "name": "python3"
  },
  "language_info": {
   "codemirror_mode": {
    "name": "ipython",
    "version": 3
   },
   "file_extension": ".py",
   "mimetype": "text/x-python",
   "name": "python",
   "nbconvert_exporter": "python",
   "pygments_lexer": "ipython3",
   "version": "3.11.8"
  }
 },
 "nbformat": 4,
 "nbformat_minor": 2
}
