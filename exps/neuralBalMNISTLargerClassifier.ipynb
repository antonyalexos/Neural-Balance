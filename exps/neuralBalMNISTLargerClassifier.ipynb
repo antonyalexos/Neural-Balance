{
 "cells": [
  {
   "cell_type": "code",
   "execution_count": 30,
   "metadata": {},
   "outputs": [],
   "source": [
    "import torch\n",
    "import torch.nn as nn\n",
    "import torch.optim as optim\n",
    "import numpy as np\n",
    "from torchvision.datasets import MNIST\n",
    "from torch.utils.data import DataLoader\n",
    "from torchvision import transforms\n",
    "import torch.nn.functional as F\n",
    "import os\n",
    "from tqdm import tqdm\n",
    "\n",
    "class SingleLayerNN(nn.Module):\n",
    "    def __init__(self):\n",
    "        super(SingleLayerNN, self).__init__()\n",
    "        self.fc = nn.Linear(784, 512)\n",
    "        self.fc2 = nn.Linear(512, 256)\n",
    "        self.fc3 = nn.Linear(256, 128)\n",
    "        self.fc4 = nn.Linear(128, 64)\n",
    "        self.fc5 = nn.Linear(64, 32)\n",
    "        self.out = nn.Linear(32, 10)\n",
    "\n",
    "    def forward(self, x):\n",
    "        x = torch.relu(self.fc(x)) \n",
    "        x = torch.relu(self.fc2(x))\n",
    "        x = torch.relu(self.fc3(x))\n",
    "        x = torch.relu(self.fc4(x))\n",
    "        x = torch.relu(self.fc5(x))\n",
    "        x = self.out(x)  \n",
    "        return x\n",
    "\n",
    "model = SingleLayerNN()\n",
    "\n",
    "\n",
    "criterion = nn.MSELoss() \n",
    "optimizer = optim.Adam(model.parameters(), lr=0.01)  \n"
   ]
  },
  {
   "cell_type": "code",
   "execution_count": 31,
   "metadata": {},
   "outputs": [
    {
     "data": {
      "text/plain": [
       "<torch._C.Generator at 0x20e21a236d0>"
      ]
     },
     "execution_count": 31,
     "metadata": {},
     "output_type": "execute_result"
    }
   ],
   "source": [
    "torch.manual_seed(7)"
   ]
  },
  {
   "cell_type": "code",
   "execution_count": 32,
   "metadata": {},
   "outputs": [
    {
     "name": "stderr",
     "output_type": "stream",
     "text": [
      "C:\\Users\\ianey\\AppData\\Local\\Temp\\ipykernel_7596\\2182951934.py:4: UserWarning: To copy construct from a tensor, it is recommended to use sourceTensor.clone().detach() or sourceTensor.clone().detach().requires_grad_(True), rather than torch.tensor(sourceTensor).\n",
      "  x_train = torch.tensor(x_train, dtype=torch.float32)\n",
      "C:\\Users\\ianey\\AppData\\Local\\Temp\\ipykernel_7596\\2182951934.py:5: UserWarning: To copy construct from a tensor, it is recommended to use sourceTensor.clone().detach() or sourceTensor.clone().detach().requires_grad_(True), rather than torch.tensor(sourceTensor).\n",
      "  y_train = torch.tensor(y_train, dtype=torch.float32)\n"
     ]
    }
   ],
   "source": [
    "train_dataset = MNIST(os.getcwd(), train=True, download=True, transform=[transforms.ToTensor(), transforms.Normalize((0.5,), (0.5,))])\n",
    "x_train = train_dataset.data / 255.0\n",
    "y_train = F.one_hot(train_dataset.targets, num_classes=10)\n",
    "x_train = torch.tensor(x_train, dtype=torch.float32)\n",
    "y_train = torch.tensor(y_train, dtype=torch.float32)\n",
    "x_train = x_train.view(-1, 784)\n",
    "dtrain = torch.utils.data.TensorDataset(x_train, y_train)\n",
    "trainloader = DataLoader(dtrain, batch_size=64, shuffle=True)"
   ]
  },
  {
   "cell_type": "code",
   "execution_count": 33,
   "metadata": {},
   "outputs": [
    {
     "name": "stderr",
     "output_type": "stream",
     "text": [
      "C:\\Users\\ianey\\AppData\\Local\\Temp\\ipykernel_7596\\2331197148.py:4: UserWarning: To copy construct from a tensor, it is recommended to use sourceTensor.clone().detach() or sourceTensor.clone().detach().requires_grad_(True), rather than torch.tensor(sourceTensor).\n",
      "  x_test = torch.tensor(x_test, dtype=torch.float32)\n",
      "C:\\Users\\ianey\\AppData\\Local\\Temp\\ipykernel_7596\\2331197148.py:5: UserWarning: To copy construct from a tensor, it is recommended to use sourceTensor.clone().detach() or sourceTensor.clone().detach().requires_grad_(True), rather than torch.tensor(sourceTensor).\n",
      "  y_test = torch.tensor(y_test, dtype=torch.float32)\n"
     ]
    }
   ],
   "source": [
    "testDataset = MNIST(os.getcwd(), train=False, download=True, transform=[transforms.ToTensor(), transforms.Normalize((0.5,), (0.5,))])\n",
    "x_test = testDataset.data / 255.0\n",
    "y_test = F.one_hot(testDataset.targets, num_classes=10)\n",
    "x_test = torch.tensor(x_test, dtype=torch.float32)\n",
    "y_test = torch.tensor(y_test, dtype=torch.float32)\n",
    "x_test = x_test.view(-1, 784)\n",
    "dtest = torch.utils.data.TensorDataset(x_test, y_test)\n",
    "testloader = DataLoader(dtest, batch_size=64, shuffle=True)"
   ]
  },
  {
   "cell_type": "code",
   "execution_count": 34,
   "metadata": {},
   "outputs": [],
   "source": [
    "def neuronalNeuralBalance(inl, oul):\n",
    "\n",
    "    ninc = torch.zeros_like(inl.weight)\n",
    "    noul = torch.zeros_like(oul.weight)\n",
    "\n",
    "    for i in range(inl.weight.data.shape[0]):\n",
    "        inc = np.sqrt(torch.sum(torch.square(inl.weight.data[i])).item())\n",
    "        outg = np.sqrt(torch.sum(torch.square(oul.weight.data[:,i])).item())\n",
    "\n",
    "        # outg = outg / float(len(oul.weight.data[:,i]))\n",
    "        # inc = inc / float(len(inl.weight.data[i]))\n",
    "\n",
    "        opt = np.sqrt(outg/inc)\n",
    "\n",
    "        ninc[i] = inl.weight.data[i]*opt\n",
    "        noul[:, i] = oul.weight.data[:,i]/opt\n",
    "\n",
    "    diff = (torch.sum(torch.abs(inl.weight.data - ninc)).item(), torch.sum(torch.abs(oul.weight.data-noul)).item())\n",
    "\n",
    "    inl.weight.data = ninc\n",
    "    oul.weight.data = noul\n",
    "\n",
    "    return diff\n"
   ]
  },
  {
   "cell_type": "code",
   "execution_count": 35,
   "metadata": {},
   "outputs": [
    {
     "name": "stdout",
     "output_type": "stream",
     "text": [
      "Linear\n",
      "Linear\n",
      "Linear\n",
      "Linear\n",
      "Linear\n",
      "Linear\n"
     ]
    },
    {
     "name": "stderr",
     "output_type": "stream",
     "text": [
      "  1%|          | 6/938 [00:00<00:21, 42.75it/s]"
     ]
    },
    {
     "name": "stderr",
     "output_type": "stream",
     "text": [
      "100%|██████████| 938/938 [00:03<00:00, 278.36it/s]\n"
     ]
    },
    {
     "name": "stdout",
     "output_type": "stream",
     "text": [
      "Epoch 0/20, Loss: 0.012992316856980324\n",
      "layer l2 norm for layer 0 = 20.550382614135742\n",
      "layer l2 norm for layer 1 = 14.450188636779785\n",
      "layer l2 norm for layer 2 = 9.211395263671875\n",
      "layer l2 norm for layer 3 = 5.252890586853027\n",
      "layer l2 norm for layer 4 = 2.489049196243286\n",
      "layer l2 norm for layer 5 = 2.2772793769836426\n",
      "test dataset accuracy: 93.22%\n"
     ]
    },
    {
     "name": "stderr",
     "output_type": "stream",
     "text": [
      "100%|██████████| 938/938 [00:03<00:00, 311.33it/s]\n"
     ]
    },
    {
     "name": "stdout",
     "output_type": "stream",
     "text": [
      "Epoch 1/20, Loss: 0.012000980786979198\n",
      "layer l2 norm for layer 0 = 20.412952423095703\n",
      "layer l2 norm for layer 1 = 16.299556732177734\n",
      "layer l2 norm for layer 2 = 10.77902603149414\n",
      "layer l2 norm for layer 3 = 6.67348575592041\n",
      "layer l2 norm for layer 4 = 4.257818222045898\n",
      "layer l2 norm for layer 5 = 3.281071662902832\n",
      "test dataset accuracy: 93.77%\n"
     ]
    },
    {
     "name": "stderr",
     "output_type": "stream",
     "text": [
      "100%|██████████| 938/938 [00:03<00:00, 305.00it/s]\n"
     ]
    },
    {
     "name": "stdout",
     "output_type": "stream",
     "text": [
      "Epoch 2/20, Loss: 0.01468215137720108\n",
      "layer l2 norm for layer 0 = 20.912172317504883\n",
      "layer l2 norm for layer 1 = 17.47650909423828\n",
      "layer l2 norm for layer 2 = 11.98063850402832\n",
      "layer l2 norm for layer 3 = 7.607554912567139\n",
      "layer l2 norm for layer 4 = 5.738134384155273\n",
      "layer l2 norm for layer 5 = 4.194014072418213\n",
      "test dataset accuracy: 92.99%\n"
     ]
    },
    {
     "name": "stderr",
     "output_type": "stream",
     "text": [
      "100%|██████████| 938/938 [00:02<00:00, 326.71it/s]\n"
     ]
    },
    {
     "name": "stdout",
     "output_type": "stream",
     "text": [
      "Epoch 3/20, Loss: 0.022397393360733986\n",
      "layer l2 norm for layer 0 = 22.380992889404297\n",
      "layer l2 norm for layer 1 = 17.774446487426758\n",
      "layer l2 norm for layer 2 = 12.991195678710938\n",
      "layer l2 norm for layer 3 = 9.043404579162598\n",
      "layer l2 norm for layer 4 = 7.016584873199463\n",
      "layer l2 norm for layer 5 = 5.315980911254883\n",
      "test dataset accuracy: 90.59%\n"
     ]
    },
    {
     "name": "stderr",
     "output_type": "stream",
     "text": [
      "100%|██████████| 938/938 [00:02<00:00, 325.08it/s]\n"
     ]
    },
    {
     "name": "stdout",
     "output_type": "stream",
     "text": [
      "Epoch 4/20, Loss: 0.029196327552199364\n",
      "layer l2 norm for layer 0 = 23.03618621826172\n",
      "layer l2 norm for layer 1 = 17.952415466308594\n",
      "layer l2 norm for layer 2 = 13.474788665771484\n",
      "layer l2 norm for layer 3 = 10.176620483398438\n",
      "layer l2 norm for layer 4 = 8.38024616241455\n",
      "layer l2 norm for layer 5 = 6.440901279449463\n",
      "test dataset accuracy: 82.31%\n"
     ]
    },
    {
     "name": "stderr",
     "output_type": "stream",
     "text": [
      "100%|██████████| 938/938 [00:03<00:00, 310.15it/s]\n"
     ]
    },
    {
     "name": "stdout",
     "output_type": "stream",
     "text": [
      "Epoch 5/20, Loss: 0.01677987538278103\n",
      "layer l2 norm for layer 0 = 21.416635513305664\n",
      "layer l2 norm for layer 1 = 18.23726463317871\n",
      "layer l2 norm for layer 2 = 13.515015602111816\n",
      "layer l2 norm for layer 3 = 11.207710266113281\n",
      "layer l2 norm for layer 4 = 9.673736572265625\n",
      "layer l2 norm for layer 5 = 7.258632183074951\n",
      "test dataset accuracy: 87.73%\n"
     ]
    },
    {
     "name": "stderr",
     "output_type": "stream",
     "text": [
      "100%|██████████| 938/938 [00:02<00:00, 318.35it/s]\n"
     ]
    },
    {
     "name": "stdout",
     "output_type": "stream",
     "text": [
      "Epoch 6/20, Loss: 0.04759088158607483\n",
      "layer l2 norm for layer 0 = 22.843122482299805\n",
      "layer l2 norm for layer 1 = 18.340734481811523\n",
      "layer l2 norm for layer 2 = 14.380331993103027\n",
      "layer l2 norm for layer 3 = 12.745013236999512\n",
      "layer l2 norm for layer 4 = 11.05778980255127\n",
      "layer l2 norm for layer 5 = 8.416011810302734\n",
      "test dataset accuracy: 74.4%\n"
     ]
    },
    {
     "name": "stderr",
     "output_type": "stream",
     "text": [
      "100%|██████████| 938/938 [00:03<00:00, 311.83it/s]\n"
     ]
    },
    {
     "name": "stdout",
     "output_type": "stream",
     "text": [
      "Epoch 7/20, Loss: 0.07997184246778488\n",
      "layer l2 norm for layer 0 = 21.489973068237305\n",
      "layer l2 norm for layer 1 = 17.383256912231445\n",
      "layer l2 norm for layer 2 = 14.7383394241333\n",
      "layer l2 norm for layer 3 = 14.066635131835938\n",
      "layer l2 norm for layer 4 = 12.400468826293945\n",
      "layer l2 norm for layer 5 = 9.435715675354004\n",
      "test dataset accuracy: 27.24%\n"
     ]
    },
    {
     "name": "stderr",
     "output_type": "stream",
     "text": [
      "100%|██████████| 938/938 [00:03<00:00, 289.57it/s]\n"
     ]
    },
    {
     "name": "stdout",
     "output_type": "stream",
     "text": [
      "Epoch 8/20, Loss: 0.07476819306612015\n",
      "layer l2 norm for layer 0 = 19.671667098999023\n",
      "layer l2 norm for layer 1 = 15.774994850158691\n",
      "layer l2 norm for layer 2 = 14.674291610717773\n",
      "layer l2 norm for layer 3 = 14.839693069458008\n",
      "layer l2 norm for layer 4 = 13.900996208190918\n",
      "layer l2 norm for layer 5 = 10.682984352111816\n",
      "test dataset accuracy: 23.47%\n"
     ]
    },
    {
     "name": "stderr",
     "output_type": "stream",
     "text": [
      "100%|██████████| 938/938 [00:03<00:00, 294.62it/s]\n"
     ]
    },
    {
     "name": "stdout",
     "output_type": "stream",
     "text": [
      "Epoch 9/20, Loss: 0.08205430954694748\n",
      "layer l2 norm for layer 0 = 18.345149993896484\n",
      "layer l2 norm for layer 1 = 14.727349281311035\n",
      "layer l2 norm for layer 2 = 15.025506973266602\n",
      "layer l2 norm for layer 3 = 15.790756225585938\n",
      "layer l2 norm for layer 4 = 15.229147911071777\n",
      "layer l2 norm for layer 5 = 11.767558097839355\n",
      "test dataset accuracy: 30.33%\n"
     ]
    },
    {
     "name": "stderr",
     "output_type": "stream",
     "text": [
      "100%|██████████| 938/938 [00:03<00:00, 307.52it/s]\n"
     ]
    },
    {
     "name": "stdout",
     "output_type": "stream",
     "text": [
      "Epoch 10/20, Loss: 0.06669796258211136\n",
      "layer l2 norm for layer 0 = 18.157846450805664\n",
      "layer l2 norm for layer 1 = 14.397575378417969\n",
      "layer l2 norm for layer 2 = 15.377676010131836\n",
      "layer l2 norm for layer 3 = 16.786108016967773\n",
      "layer l2 norm for layer 4 = 16.463193893432617\n",
      "layer l2 norm for layer 5 = 12.632248878479004\n",
      "test dataset accuracy: 36.55%\n"
     ]
    },
    {
     "name": "stderr",
     "output_type": "stream",
     "text": [
      "100%|██████████| 938/938 [00:03<00:00, 295.23it/s]\n"
     ]
    },
    {
     "name": "stdout",
     "output_type": "stream",
     "text": [
      "Epoch 11/20, Loss: 0.09007394313812256\n",
      "layer l2 norm for layer 0 = 17.152746200561523\n",
      "layer l2 norm for layer 1 = 14.480801582336426\n",
      "layer l2 norm for layer 2 = 15.799367904663086\n",
      "layer l2 norm for layer 3 = 17.66871452331543\n",
      "layer l2 norm for layer 4 = 17.55469512939453\n",
      "layer l2 norm for layer 5 = 13.425782203674316\n",
      "test dataset accuracy: 10.28%\n"
     ]
    },
    {
     "name": "stderr",
     "output_type": "stream",
     "text": [
      "100%|██████████| 938/938 [00:03<00:00, 308.65it/s]\n"
     ]
    },
    {
     "name": "stdout",
     "output_type": "stream",
     "text": [
      "Epoch 12/20, Loss: 0.09039618819952011\n",
      "layer l2 norm for layer 0 = 15.932243347167969\n",
      "layer l2 norm for layer 1 = 14.031305313110352\n",
      "layer l2 norm for layer 2 = 15.88811206817627\n",
      "layer l2 norm for layer 3 = 18.244070053100586\n",
      "layer l2 norm for layer 4 = 18.462316513061523\n",
      "layer l2 norm for layer 5 = 14.123997688293457\n",
      "test dataset accuracy: 10.32%\n"
     ]
    },
    {
     "name": "stderr",
     "output_type": "stream",
     "text": [
      "100%|██████████| 938/938 [00:02<00:00, 325.73it/s]\n"
     ]
    },
    {
     "name": "stdout",
     "output_type": "stream",
     "text": [
      "Epoch 13/20, Loss: 0.0907387062907219\n",
      "layer l2 norm for layer 0 = 14.889633178710938\n",
      "layer l2 norm for layer 1 = 13.562877655029297\n",
      "layer l2 norm for layer 2 = 15.881322860717773\n",
      "layer l2 norm for layer 3 = 18.70848846435547\n",
      "layer l2 norm for layer 4 = 19.17571258544922\n",
      "layer l2 norm for layer 5 = 14.669829368591309\n",
      "test dataset accuracy: 10.09%\n"
     ]
    },
    {
     "name": "stderr",
     "output_type": "stream",
     "text": [
      "100%|██████████| 938/938 [00:03<00:00, 306.76it/s]\n"
     ]
    },
    {
     "name": "stdout",
     "output_type": "stream",
     "text": [
      "Epoch 14/20, Loss: 0.08955615013837814\n",
      "layer l2 norm for layer 0 = 14.16094970703125\n",
      "layer l2 norm for layer 1 = 13.224128723144531\n",
      "layer l2 norm for layer 2 = 15.879302024841309\n",
      "layer l2 norm for layer 3 = 19.065486907958984\n",
      "layer l2 norm for layer 4 = 19.72834587097168\n",
      "layer l2 norm for layer 5 = 15.092581748962402\n",
      "test dataset accuracy: 11.35%\n"
     ]
    },
    {
     "name": "stderr",
     "output_type": "stream",
     "text": [
      "100%|██████████| 938/938 [00:02<00:00, 314.05it/s]\n"
     ]
    },
    {
     "name": "stdout",
     "output_type": "stream",
     "text": [
      "Epoch 15/20, Loss: 0.09042855352163315\n",
      "layer l2 norm for layer 0 = 13.63596248626709\n",
      "layer l2 norm for layer 1 = 12.975751876831055\n",
      "layer l2 norm for layer 2 = 15.878570556640625\n",
      "layer l2 norm for layer 3 = 19.337848663330078\n",
      "layer l2 norm for layer 4 = 20.15302085876465\n",
      "layer l2 norm for layer 5 = 15.417476654052734\n",
      "test dataset accuracy: 11.35%\n"
     ]
    },
    {
     "name": "stderr",
     "output_type": "stream",
     "text": [
      "100%|██████████| 938/938 [00:02<00:00, 326.71it/s]\n"
     ]
    },
    {
     "name": "stdout",
     "output_type": "stream",
     "text": [
      "Epoch 16/20, Loss: 0.09039916843175888\n",
      "layer l2 norm for layer 0 = 13.25413990020752\n",
      "layer l2 norm for layer 1 = 12.79269790649414\n",
      "layer l2 norm for layer 2 = 15.878571510314941\n",
      "layer l2 norm for layer 3 = 19.544809341430664\n",
      "layer l2 norm for layer 4 = 20.477514266967773\n",
      "layer l2 norm for layer 5 = 15.665728569030762\n",
      "test dataset accuracy: 10.09%\n"
     ]
    },
    {
     "name": "stderr",
     "output_type": "stream",
     "text": [
      "100%|██████████| 938/938 [00:03<00:00, 294.08it/s]\n"
     ]
    },
    {
     "name": "stdout",
     "output_type": "stream",
     "text": [
      "Epoch 17/20, Loss: 0.09080132097005844\n",
      "layer l2 norm for layer 0 = 12.97522258758545\n",
      "layer l2 norm for layer 1 = 12.6571044921875\n",
      "layer l2 norm for layer 2 = 15.878461837768555\n",
      "layer l2 norm for layer 3 = 19.701501846313477\n",
      "layer l2 norm for layer 4 = 20.72426986694336\n",
      "layer l2 norm for layer 5 = 15.854494094848633\n",
      "test dataset accuracy: 10.28%\n"
     ]
    },
    {
     "name": "stderr",
     "output_type": "stream",
     "text": [
      "100%|██████████| 938/938 [00:03<00:00, 296.06it/s]\n"
     ]
    },
    {
     "name": "stdout",
     "output_type": "stream",
     "text": [
      "Epoch 18/20, Loss: 0.09049983322620392\n",
      "layer l2 norm for layer 0 = 12.769373893737793\n",
      "layer l2 norm for layer 1 = 12.556514739990234\n",
      "layer l2 norm for layer 2 = 15.878559112548828\n",
      "layer l2 norm for layer 3 = 19.819854736328125\n",
      "layer l2 norm for layer 4 = 20.91126251220703\n",
      "layer l2 norm for layer 5 = 15.997598648071289\n",
      "test dataset accuracy: 11.35%\n"
     ]
    },
    {
     "name": "stderr",
     "output_type": "stream",
     "text": [
      "100%|██████████| 938/938 [00:03<00:00, 307.68it/s]\n"
     ]
    },
    {
     "name": "stdout",
     "output_type": "stream",
     "text": [
      "Epoch 19/20, Loss: 0.0896553322672844\n",
      "layer l2 norm for layer 0 = 12.617496490478516\n",
      "layer l2 norm for layer 1 = 12.481398582458496\n",
      "layer l2 norm for layer 2 = 15.878480911254883\n",
      "layer l2 norm for layer 3 = 19.90906524658203\n",
      "layer l2 norm for layer 4 = 21.05265235900879\n",
      "layer l2 norm for layer 5 = 16.105745315551758\n",
      "test dataset accuracy: 11.35%\n"
     ]
    }
   ],
   "source": [
    "model = model.to('cuda')\n",
    "lay = []\n",
    "for n, i in model.named_children():\n",
    "    print(type(i).__name__)\n",
    "    if type(i).__name__ == \"Linear\":\n",
    "        lay.append((n, i))\n",
    "\n",
    "num_epochs = 20  \n",
    "for epoch in range(num_epochs):\n",
    "    for b in tqdm(trainloader):\n",
    "        xt, y = b[0].to('cuda'), b[1].to('cuda')\n",
    "        optimizer.zero_grad() \n",
    "        outputs = model(xt)  \n",
    "        loss = criterion(outputs, y) \n",
    "        \n",
    "        loss.backward() \n",
    "        optimizer.step() \n",
    "    \n",
    "    \n",
    "    for i in range(len(lay)):\n",
    "        if i > 0 and i <= len(lay)-1:\n",
    "            di = neuronalNeuralBalance(lay[i-1][1], lay[i][1])\n",
    "            while(di[0]+di[1] > .001):\n",
    "                di = neuronalNeuralBalance(lay[i-1][1], lay[i][1])\n",
    "\n",
    "    print(f'Epoch {epoch}/{num_epochs}, Loss: {loss.item()}')\n",
    "\n",
    "    for i in range(len(lay)):\n",
    "        print(f'layer l2 norm for layer {i} = {torch.linalg.norm(lay[i][1].weight, ord=2)}')\n",
    "        \n",
    "    tot = 0\n",
    "    corr = 0\n",
    "\n",
    "    with torch.no_grad():\n",
    "        for i in testloader:\n",
    "            xt, y = i[0].to('cuda'), i[1].to('cuda')\n",
    "            outputs = model(xt)  \n",
    "            _, y = torch.max(y.data, 1)\n",
    "            _, pred = torch.max(outputs.data, 1)\n",
    "            tot += y.shape[0]\n",
    "            corr += (pred == y).sum().item()\n",
    "    print(f'test dataset accuracy: {100*corr/tot}%')\n"
   ]
  },
  {
   "cell_type": "code",
   "execution_count": 36,
   "metadata": {},
   "outputs": [
    {
     "data": {
      "image/png": "[encoded data removed]",
      "text/plain": [
       "<Figure size 2500x300 with 6 Axes>"
      ]
     },
     "metadata": {},
     "output_type": "display_data"
    }
   ],
   "source": [
    "import matplotlib.pyplot as plt\n",
    "\n",
    "fc_weights = model.fc.weight.cpu().detach().numpy().flatten()\n",
    "fc2_weights = model.fc2.weight.cpu().detach().numpy().flatten()\n",
    "fc3_weights = model.fc3.weight.cpu().detach().numpy().flatten()\n",
    "fc4_weights = model.fc4.weight.cpu().detach().numpy().flatten()\n",
    "fc5_weights = model.fc5.weight.cpu().detach().numpy().flatten()\n",
    "out_weights = model.out.weight.cpu().detach().numpy().flatten()\n",
    "\n",
    "bins = np.linspace(-0.5, 0.5, 50) \n",
    "fc_hist, fc_bins = np.histogram(fc_weights, bins=bins)\n",
    "fc2_hist, fc2_bins = np.histogram(fc2_weights, bins=bins)\n",
    "fc3_hist, fc3_bins = np.histogram(fc3_weights, bins=bins)\n",
    "fc4_hist, fc4_bins = np.histogram(fc4_weights, bins=bins)\n",
    "fc5_hist, fc5_bins = np.histogram(fc5_weights, bins=bins)\n",
    "out_hist, out_bins = np.histogram(out_weights, bins=bins)\n",
    "\n",
    "fc_bin_centers = 0.5 * (fc_bins[:-1] + fc_bins[1:])\n",
    "fc2_bin_centers = 0.5 * (fc2_bins[:-1] + fc2_bins[1:])\n",
    "fc3_bin_centers = 0.5 * (fc3_bins[:-1] + fc3_bins[1:])\n",
    "fc4_bin_centers = 0.5 * (fc4_bins[:-1] + fc4_bins[1:])\n",
    "fc5_bin_centers = 0.5 * (fc5_bins[:-1] + fc5_bins[1:])\n",
    "out_bin_centers = 0.5 * (out_bins[:-1] + out_bins[1:])\n",
    "\n",
    "plt.figure(figsize=(25, 3))\n",
    "\n",
    "plt.subplot(1, 6, 1)\n",
    "plt.plot(fc_bin_centers, fc_hist, marker='o', linestyle='-', color='b')\n",
    "plt.title('Weight Distribution: Input to Hidden1 Layer')\n",
    "plt.xlabel('Weight Value')\n",
    "plt.ylabel('Frequency')\n",
    "\n",
    "plt.subplot(1, 6, 2)\n",
    "plt.plot(fc2_bin_centers, fc2_hist, marker='o', linestyle='-', color='b')\n",
    "plt.title('Weight Distribution: Hidden1 to Hidden2 Layer')\n",
    "plt.xlabel('Weight Value')\n",
    "plt.ylabel('Frequency')\n",
    "\n",
    "plt.subplot(1, 6, 3)\n",
    "plt.plot(fc3_bin_centers, fc3_hist, marker='o', linestyle='-', color='b')\n",
    "plt.title('Weight Distribution: Hidden2 to Hidden3 Layer')\n",
    "plt.xlabel('Weight Value')\n",
    "plt.ylabel('Frequency')\n",
    "\n",
    "plt.subplot(1, 6, 4)\n",
    "plt.plot(fc4_bin_centers, fc4_hist, marker='o', linestyle='-', color='b')\n",
    "plt.title('Weight Distribution: Hidden3 to Hidden4 Layer')\n",
    "plt.xlabel('Weight Value')\n",
    "plt.ylabel('Frequency')\n",
    "\n",
    "plt.subplot(1, 6, 5)\n",
    "plt.plot(fc5_bin_centers, fc5_hist, marker='o', linestyle='-', color='b')\n",
    "plt.title('Weight Distribution: Hidden4 to Hidden5 Layer')\n",
    "plt.xlabel('Weight Value')\n",
    "plt.ylabel('Frequency')\n",
    "\n",
    "plt.subplot(1, 6, 6)\n",
    "plt.plot(out_bin_centers, out_hist, marker='o', linestyle='-', color='b')\n",
    "plt.title('Weight Distribution: Hidden5 to Output Layer')\n",
    "plt.xlabel('Weight Value')\n",
    "plt.ylabel('Frequency')\n",
    "\n",
    "plt.tight_layout()\n",
    "plt.show()\n"
   ]
  },
  {
   "cell_type": "code",
   "execution_count": 37,
   "metadata": {},
   "outputs": [
    {
     "name": "stdout",
     "output_type": "stream",
     "text": [
      "Number of non-zero weights greater than 0.01 in layer 1: 60365 = 15.038315130739797%\n",
      "Number of non-zero weights greater than 0.01 in layer 1: 54390 = 41.49627685546875%\n",
      "Number of non-zero weights greater than 0.01 in layer 3: 27187 = 82.9681396484375%\n",
      "Number of non-zero weights greater than 0.01 in layer 1: 7695 = 93.93310546875%\n",
      "Number of non-zero weights greater than 0.01 in layer 1: 2009 = 98.095703125%\n",
      "Number of non-zero weights greater than 0.01 in layer 1: 316 = 98.75%\n"
     ]
    }
   ],
   "source": [
    "import torch\n",
    "\n",
    "def count_nonzero_weights_above_threshold(layer, threshold=0.1):\n",
    "    return torch.sum(torch.abs(layer.weight) > threshold).item()\n",
    "\n",
    "threshold_value = 0.01 \n",
    "\n",
    "nonzero_fc1 = count_nonzero_weights_above_threshold(model.fc, threshold=threshold_value)\n",
    "nonzero_fc2 = count_nonzero_weights_above_threshold(model.fc2, threshold=threshold_value)\n",
    "nonzero_fc3 = count_nonzero_weights_above_threshold(model.fc3, threshold=threshold_value)\n",
    "nonzero_fc4 = count_nonzero_weights_above_threshold(model.fc4, threshold=threshold_value)\n",
    "nonzero_fc5 = count_nonzero_weights_above_threshold(model.fc5, threshold=threshold_value)\n",
    "nonzero_out = count_nonzero_weights_above_threshold(model.out, threshold=threshold_value)\n",
    "\n",
    "print(f'Number of non-zero weights greater than {threshold_value} in layer 1: {nonzero_fc1} = {100*nonzero_fc1/(model.fc.weight.data.shape[0]*model.fc.weight.data.shape[1])}%')\n",
    "print(f'Number of non-zero weights greater than {threshold_value} in layer 1: {nonzero_fc2} = {100*nonzero_fc2/(model.fc2.weight.data.shape[0]*model.fc2.weight.data.shape[1])}%')\n",
    "print(f'Number of non-zero weights greater than {threshold_value} in layer 3: {nonzero_fc3} = {100*nonzero_fc3/(model.fc3.weight.data.shape[0]*model.fc3.weight.data.shape[1])}%')\n",
    "print(f'Number of non-zero weights greater than {threshold_value} in layer 1: {nonzero_fc4} = {100*nonzero_fc4/(model.fc4.weight.data.shape[0]*model.fc4.weight.data.shape[1])}%')\n",
    "print(f'Number of non-zero weights greater than {threshold_value} in layer 1: {nonzero_fc5} = {100*nonzero_fc5/(model.fc5.weight.data.shape[0]*model.fc5.weight.data.shape[1])}%')\n",
    "print(f'Number of non-zero weights greater than {threshold_value} in layer 1: {nonzero_out} = {100*nonzero_out/(model.out.weight.data.shape[0]*model.out.weight.data.shape[1])}%')"
   ]
  },
  {
   "cell_type": "code",
   "execution_count": 38,
   "metadata": {},
   "outputs": [
    {
     "name": "stdout",
     "output_type": "stream",
     "text": [
      "[0.982192697936823, 0.9821926721108951, 0.9821926574446697, 0.98219270060183, 0.9821928932434038, 0.9821929132975582, 0.9821928926573212, 0.9821927124401264, 0.9821927547633686, 0.9821926982501963, 0.9821927963913638, 0.9821927033717347, 0.9821928037028712, 0.9821928122925102, 0.9821928428214938, 0.982192631442179, 0.9821927789817034, 0.9821928321735662, 0.9821928180159171, 0.9821928827095927, 0.9821927607316561, 0.9821928084883658, 0.9821927206217211, 0.9821926928133031, 0.9821926627076875, 0.9821926637866437, 0.9821927654669174, 0.9821926834840836, 0.982192843691398, 0.9821927538864073, 0.9821926397321227, 0.982192712386925, 0.9821928980529044, 0.9821928033200309, 0.9821926949557962, 0.9821928790925375, 0.9821928151218696, 0.9821928427223501, 0.9821928352830797, 0.9821926918764076, 0.9821927969252815, 0.9821927024093833, 0.9821927496499775, 0.9821928835722814, 0.9821927933254186, 0.9821927286596107, 0.9821927091927795, 0.9821928326620403, 0.9821928106988805, 0.9821927891015669, 0.9821927145467516, 0.9821927706273528, 0.9821927969556333, 0.9821926936628206, 0.9821928623415807, 0.9821927790954097, 0.9821928106799329, 0.9821926728196768, 0.98219275238683, 0.9821928281884457, 0.9821927657361155, 0.9821928206002773, 0.9821927201026831, 0.9821926840546743, 0.9821928473993629, 0.9821928667389931, 0.9821927842917997, 0.9821926489319996, 0.9821927391252535, 0.9821927261686, 0.9821927730330567, 0.9821927753287416, 0.9821928397748487, 0.9821928568665211, 0.9821928349393476, 0.9821927850722489, 0.9821925857339605, 0.9821928298474764, 0.9821927519019572, 0.9821926913223665, 0.9821927416587962, 0.9821927876401357, 0.9821927232908371, 0.9821927258785367, 0.9821927855864255, 0.9821928526201871, 0.98219279862132, 0.9821928508134076, 0.9821928308375759, 0.9821928051527977, 0.9821928109984569, 0.9821928297855675, 0.982192777289964, 0.9821927653179658, 0.9821928235754329, 0.98219283187585, 0.9821927680329295, 0.9821925946479653, 0.9821927182559073, 0.982192641114851, 0.9821927861018571, 0.9821928296542694, 0.9821928647961955, 0.9821928027402254, 0.982192844281736, 0.9821927837345047, 0.9821927723786412, 0.9821928723533841, 0.9821928306360053, 0.982192942189847, 0.9821928771350209, 0.9821927281075024, 0.9821927702272579, 0.9821927632381315, 0.9821927819680158, 0.9821928863593661, 0.9821928211933534, 0.982192731602092, 0.9821928310164166, 0.9821928073058575, 0.982192698740488, 0.9821929137425325, 0.9821928033991104, 0.9821928483032042, 0.9821926616406171, 0.9821928454878787, 0.9821926003409925, 0.9821928112388054, 0.9821926034901445, 0.9821928499917295, 0.9821927054918943, 0.9821928248366716, 0.9821928234044437, 0.9821926246193204, 0.9821927361686853, 0.9821928077338146, 0.9821927229188441, 0.98219271161171, 0.982192702111015, 0.9821927846567148, 0.9821928696681267, 0.9821927864648947, 0.9821927191315677, 0.9821927060365877, 0.9821926979216437, 0.9821928020793964, 0.9821928676072499, 0.9821927100471216, 0.9821928090281363, 0.9821927429985987, 0.98219265941935, 0.982192707724247, 0.9821927837194916, 0.9821928663410935, 0.9821927446598704, 0.9821927915054404, 0.982192741346142, 0.9821928161324948, 0.9821927483738033, 0.9821927002680692, 0.9821927185666351, 0.9821928637353112, 0.982192638954867, 0.9821926843111488, 0.9821927900484085, 0.9821927343448073, 0.9821927766893809, 0.9821926644814561, 0.9821927569657868, 0.9821927887382489, 0.982192878306622, 0.9821928703906601, 0.9821928143623789, 0.9821928926388617, 0.9821926107284775, 0.9821928626923698, 0.9821927637646096, 0.9821927185070589, 0.9821928233867155, 0.9821928028004789, 0.9821928603423341, 0.982192724989742, 0.9821926676242371, 0.9821927412205467, 0.982192874759495, 0.9821927538245664, 0.982192705123917, 0.9821927638306306, 0.9821928045930663, 0.9821927929543003, 0.9821926544090777, 0.9821925466064151, 0.9821927275574683, 0.9821927407639348, 0.9821928018894092, 0.9821927686146921, 0.9821928561030584, 0.9821929160138433, 0.9821928722224128, 0.9821925912956887, 0.9821927178111542, 0.982192625046732, 0.9821927199640594, 0.982192710345328, 0.982192764206939, 0.9821928346756583, 0.9821928216180287, 0.9821928250193106, 0.9821927155758392, 0.9821928383301761, 0.982192676326976, 0.9821927092985338, 0.9821927049278343, 0.9821928534425453, 0.9821927187129709, 0.982192708659841, 0.9821928104619699, 0.9821927943852761, 0.9821927509587157, 0.9821926901207855, 0.9821928535626135, 0.9821928313035659, 0.9821928512727675, 0.9821927733802402, 0.9821927493055325, 0.9821928734143396, 0.9821927107492285, 0.9821927110735146, 0.9821927220170363, 0.9821928831730236, 0.9821928105174641, 0.9821927583659253, 0.982192884883439, 0.9821928458210506, 0.9821927262881117, 0.982192787540213, 0.9821927600962511, 0.9821928267578816, 0.9821927584636858, 0.9821927565057219, 0.9821927194498677, 0.982192778150121, 0.9821928794502058, 0.9821926913019329, 0.9821927194026774, 0.9821928521892598, 0.9821927050292709, 0.9821929012497971, 0.9821928428133961, 0.9821927560882809, 0.9821927087914963, 0.982192717650522, 0.9821926231514603, 0.9821927987114966, 0.982192817411087, 0.9821927163826604, 0.9821927306545954, 0.982192813689447, 0.9821928601447216, 0.9821927535476477, 0.9821927757604051, 0.9821927224496698, 0.9821928314682575, 0.982192715765201, 0.9821927277168896, 0.9821927654214833, 0.9821927305199607, 0.9821927478870988, 0.9821929309259597, 0.9821927065123298, 0.9821927790420916, 0.9821928469886372, 0.9821927124752273, 0.9821929407998012, 0.9821927693605872, 0.9821927341872054, 0.9821927841196119, 0.9821927047971606, 0.9821928064658626, 0.9821927441533028, 0.9821925982374878, 0.9821927083009991, 0.9821928672340592, 0.9821927218729095, 0.9821927571844388, 0.9821927939808494, 0.982192834854945, 0.9821927050373592, 0.9821928551637868, 0.9821927505439025, 0.9821927032058234, 0.9821927096279089, 0.98219277366679, 0.9821928873496703, 0.9821928532793005, 0.9821927513799045, 0.9821927505448551, 0.9821927000411257, 0.982192874674595, 0.9821928018080265, 0.9821928813305838, 0.9821927007160566, 0.9821928627819905, 0.9821927082928078, 0.982192788953906, 0.9821926187030835, 0.9821927569301185, 0.9821928416690823, 0.9821927335093715, 0.9821929082831173, 0.9821928644395466, 0.9821928431671986, 0.9821927414859855, 0.9821926748085625, 0.9821927233668624, 0.9821928941131204, 0.9821928932864383, 0.9821927462837806, 0.9821927794470652, 0.9821928364558958, 0.9821927872739532, 0.9821927536938831, 0.982192768113207, 0.9821928125361807, 0.9821927912980785, 0.982192773332284, 0.9821928367376562, 0.9821928421465499, 0.9821928128116899, 0.9821928445057886, 0.9821928473565839, 0.9821928806586548, 0.982192811289773, 0.9821929054762369, 0.9821929549730725, 0.9821928829893117, 0.982192624041866, 0.9821927587048326, 0.9821927889309232, 0.9821927834570717, 0.9821928076581057, 0.9821927866772863, 0.9821926620305373, 0.9821928194827816, 0.9821927708591666, 0.9821928401117677, 0.9821929049674082, 0.9821927267100689, 0.9821928325544751, 0.9821927693303867, 0.9821927003910584, 0.9821928017387077, 0.9821926999662254, 0.9821926886845567, 0.9821928188432876, 0.9821928380866509, 0.9821927036981185, 0.9821927403299274, 0.9821927155590542, 0.9821929379161876, 0.9821927361930208, 0.9821927807771179, 0.9821928149224789, 0.9821927690033516, 0.982192946332988, 0.9821927053480873, 0.9821927324503873, 0.982192814653619, 0.9821929392729544, 0.9821927007288014, 0.9821927288545623, 0.9821927905629978, 0.9821927303344777, 0.9821928428997717, 0.9821929537739783, 0.9821928432225681, 0.9821928694004676, 0.9821928738009904, 0.9821928442533748, 0.9821927951573933, 0.9821926782909526, 0.9821927992777787, 0.982192850278638, 0.9821928089286619, 0.9821927266809471, 0.9821927321097929, 0.9821927288561345, 0.9821928553973535, 0.9821927975148567, 0.9821928708568116, 0.9821925929164224, 0.9821927890269179, 0.9821926930341489, 0.9821928517139913, 0.9821927255234577, 0.9821926691865263, 0.9821928360880506, 0.9821927842351814, 0.9821926146988107, 0.9821927263773572, 0.9821926977143473, 0.9821928219354736, 0.9821927054775418, 0.9821928174420662, 0.9821928641368189, 0.9821928612597685, 0.9821927221167394, 0.9821927373981774, 0.9821928597950684, 0.9821927191024511, 0.9821926686254204, 0.9821928961487204, 0.9821929714411434, 0.9821928286997764, 0.9821927475834124, 0.982192695884239, 0.9821927283390218, 0.9821927701314561, 0.982192733612105, 0.982192727816185, 0.9821927210584414, 0.9821928248486463, 0.9821926584817111, 0.9821927983420051, 0.9821927972115942, 0.9821927071112279, 0.9821927506965377, 0.9821927259894809, 0.9821928164274505, 0.9821928460735085, 0.9821926458658928, 0.9821928618842755, 0.9821928343432025, 0.9821927164375931, 0.9821928066265911, 0.9821928178695035, 0.9821927075068486, 0.9821928141244023, 0.9821927881791054, 0.9821927591311502, 0.982192760275178, 0.9821927029311123, 0.9821929255371878, 0.9821927393887387, 0.9821927357987773, 0.9821926445974809, 0.9821928209674066, 0.9821927773611008, 0.9821928072056723, 0.9821927457490301, 0.982192731659298, 0.9821928528813074, 0.9821928482618083, 0.9821928003835395, 0.9821927804408953, 0.9821928279242572, 0.9821928159110496, 0.9821927026578218, 0.9821928099890089, 0.9821927474768313, 0.9821926884144909, 0.9821929302891635, 0.9821929120208278, 0.9821928376698841, 0.9821927792826516, 0.9821929323515423, 0.9821927153479021, 0.9821926949947132, 0.9821927308319218, 0.9821928029817198, 0.982192705466924, 0.9821928914002158, 0.9821925684983475, 0.9821928215951596, 0.9821928301731462, 0.9821926288983631, 0.9821927870049392, 0.982192708576139, 0.9821928072708196, 0.9821928248196974, 0.9821928132201722, 0.9821927841946524, 0.9821928012981684, 0.9821928039322069, 0.9821927921450508, 0.9821929309257007, 0.9821927636297901, 0.9821927193015769, 0.982192698426923, 0.9821926332950744, 0.9821928381830269, 0.982192824495044, 0.9821927038420183, 0.9821928094872723, 0.9821929412162295, 0.9821927598532363, 0.9821928636090911, 0.9821928807036314, 0.9821928240806117, 0.982192617533013, 0.9821926746295839, 0.982192771203786, 0.9821927698479965, 0.9821926624544, 0.9821927783743155, 0.9821927154290703, 0.9821928650484958, 0.9821928289687237, 0.9821928642128451, 0.9821927027329079, 0.9821927116907646, 0.9821927334386906]\n",
      "torch.Size([512])\n",
      "[0.9821927054146641, 0.982192577139346, 0.9821927388846947, 0.9821926118666007, 0.9821926493289158, 0.9821927048231722, 0.9821927087086059, 0.9821928069268642, 0.9821927419060709, 0.9821927274075943, 0.9821926412532643, 0.9821925699807189, 0.9821925270159072, 0.9821927638260559, 0.9821927412740121, 0.982192674979815, 0.9821926029785419, 0.9821928075415736, 0.9821926027636954, 0.9821926456143476, 0.982192590971079, 0.982192635564788, 0.9821925946043865, 0.9821926609536977, 0.9821925936325359, 0.9821926522058154, 0.9821925561785457, 0.9821925499610583, 0.9821925270671129, 0.9821926485912422, 0.9821926660876618, 0.9821926813745661, 0.9821927539594499, 0.9821927001082781, 0.9821926036387033, 0.9821926731232908, 0.9821924798855016, 0.9821926173314237, 0.9821925826298971, 0.9821926713618749, 0.9821928074829692, 0.9821926395669411, 0.9821926704092223, 0.9821926496898961, 0.9821926861962716, 0.9821924936257539, 0.9821927216009841, 0.9821926370620943, 0.9821927122608162, 0.9821927296683266, 0.98219246359178, 0.982192523456257, 0.9821925987095623, 0.9821927046232387, 0.9821927743385588, 0.9821925505876102, 0.982192606952176, 0.9821926440487984, 0.9821927734091102, 0.9821927707756043, 0.9821926255852782, 0.9821926161818096, 0.9821925780126982, 0.9821926692598651, 0.982192592875302, 0.982192759981417, 0.9821926649902631, 0.982192572183527, 0.9821925648939414, 0.9821924748086811, 0.9821927279770986, 0.9821925707464635, 0.9821927881625054, 0.9821927291007383, 0.9821925774644802, 0.9821926918772593, 0.9821926137569917, 0.9821925641314886, 0.9821925600108106, 0.9821927433392833, 0.9821927087591344, 0.9821926330365415, 0.9821926595216582, 0.982192552083712, 0.9821926470594567, 0.982192566352487, 0.9821925788835119, 0.9821926503265433, 0.9821927196406793, 0.9821926254741845, 0.9821926711862854, 0.982192623746424, 0.9821926158298543, 0.9821926771550007, 0.9821926454506356, 0.9821927459650743, 0.9821925292892343, 0.982192572977081, 0.9821926715643351, 0.9821926562974116, 0.98219253250561, 0.9821927378862108, 0.9821925901240367, 0.9821926188017226, 0.982192448985961, 0.9821925829130583, 0.9821925407662336, 0.9821924837939452, 0.9821926396900011, 0.9821925182544863, 0.9821925050940812, 0.9821925342273607, 0.9821927539944272, 0.9821925585033299, 0.9821926715764566, 0.9821926641091548, 0.9821925463586025, 0.9821925970306684, 0.9821926584487648, 0.982192628012013, 0.9821926223760363, 0.9821926347913426, 0.9821927073961271, 0.9821925518788833, 0.9821926415923271, 0.9821926713720586, 0.9821925774847448, 0.9821927676724659, 0.9821927303320953, 0.9821926886992187, 0.9821927915280513, 0.982192657082161, 0.9821927384551781, 0.982192706570952, 0.9821925857561618, 0.9821926131319328, 0.9821927456041604, 0.9821926282795518, 0.9821927128031552, 0.9821925803415366, 0.9821925215009967, 0.9821926834606078, 0.9821927314277056, 0.9821927043694939, 0.9821925799842989, 0.9821926894980304, 0.9821925926049577, 0.9821926565500405, 0.9821927008893463, 0.9821925942692582, 0.982192635745741, 0.9821926800001528, 0.9821925901329163, 0.9821925584316054, 0.9821925808204435, 0.9821925868598163, 0.9821925775455864, 0.9821927605247146, 0.9821927483124618, 0.9821927110844768, 0.9821925999308362, 0.9821926550979002, 0.9821926847831615, 0.9821927183694128, 0.9821926963160741, 0.982192605209115, 0.9821925777859895, 0.9821925745665553, 0.982192582609701, 0.9821925120551012, 0.9821926202287415, 0.9821925663485772, 0.9821927120933106, 0.9821926427180656, 0.9821926877803122, 0.982192687105296, 0.9821926175749608, 0.9821927238408004, 0.982192615063913, 0.9821927008465567, 0.9821927365029407, 0.9821925448295039, 0.9821926606244425, 0.9821925545768537, 0.9821925529023021, 0.9821926024949719, 0.9821927175233663, 0.9821927356269748, 0.9821926478039315, 0.9821927490093402, 0.9821925671467056, 0.982192675004883, 0.9821925800012171, 0.9821927090360865, 0.9821925784755512, 0.9821926126117384, 0.9821926423094912, 0.9821926720876656, 0.982192581030708, 0.982192656271289, 0.9821925630651569, 0.9821925648473919, 0.9821926773278996, 0.9821925816709576, 0.9821925341472284, 0.9821927344272692, 0.9821926863518589, 0.9821925343356276, 0.982192591116018, 0.9821927008252697, 0.9821926793767829, 0.9821925537938828, 0.9821926217928363, 0.9821926888839289, 0.9821926816611383, 0.9821927665843614, 0.9821927175983904, 0.9821926198476606, 0.9821925916847406, 0.9821925976167267, 0.9821925408389122, 0.982192682063924, 0.9821927250690785, 0.9821925976807228, 0.9821925254022844, 0.982192658897715, 0.9821926747298114, 0.982192586122004, 0.9821926495819808, 0.982192722751256, 0.9821926416621056, 0.9821924893440602, 0.9821925466346537, 0.9821926334312432, 0.982192639582678, 0.982192642654602, 0.9821927524287002, 0.9821925575416656, 0.9821926843800718, 0.9821926488507914, 0.9821927481170392, 0.9821925573668817, 0.9821925792166384, 0.9821925442906849, 0.9821926560233413, 0.9821926019042747, 0.9821925796947922, 0.9821926941059541, 0.9821925784381585, 0.9821926927453323, 0.9821926944656804, 0.9821926137105773, 0.9821925917581761, 0.9821927427232569, 0.9821927092275983, 0.9821927021122583]\n",
      "torch.Size([256])\n",
      "[0.9866145058237225, 0.9866145465909869, 0.9866145380242294, 0.9866145076785503, 0.986614470471362, 0.9866145289003487, 0.9866146038028988, 0.9866144139678736, 0.9866144520357372, 0.9866144000245678, 0.9866146063205408, 0.9866145403058204, 0.9866146060398743, 0.9866145307264989, 0.9866145688267494, 0.986614515520278, 0.9866145102920074, 0.9866145123516098, 0.9866146072546768, 0.986614460605442, 0.9866145102953267, 0.9866144330305752, 0.9866145665266164, 0.9866146118928248, 0.9866144560427818, 0.9866145517716448, 0.9866145542971525, 0.986614557716913, 0.9866144874763418, 0.9866145284533422, 0.9866144154811732, 0.9866144780691459, 0.9866144917389207, 0.9866145072171044, 0.9866144543990554, 0.9866146220626221, 0.9866145130410344, 0.9866144218716103, 0.9866144420212176, 0.9866145469546289, 0.9866145758521276, 0.9866144709954674, 0.9866144488980719, 0.9866144953950708, 0.9866144689766079, 0.9866145001649937, 0.9866145591269949, 0.9866144818821401, 0.9866143819525633, 0.9866145053369136, 0.986614505069484, 0.9866144904416703, 0.986614557767341, 0.9866144405521796, 0.9866146152270336, 0.9866146097086829, 0.9866144588543355, 0.9866144194189989, 0.9866145577398415, 0.9866146061087376, 0.9866145459958436, 0.9866146408598613, 0.9866144714361571, 0.9866143278848231, 0.9866144678892975, 0.98661442032696, 0.9866143883740677, 0.9866144995109705, 0.9866145060237173, 0.9866144156168168, 0.9866145576742785, 0.9866144918866983, 0.9866144756750728, 0.9866145547204507, 0.98661455544319, 0.9866143969160174, 0.9866145132508687, 0.9866144499109417, 0.9866146237574378, 0.9866144843175655, 0.9866145278192842, 0.9866144480357059, 0.9866144309245886, 0.9866144591580868, 0.9866144487153053, 0.9866146005664426, 0.9866144692204023, 0.9866144609081368, 0.9866143973056043, 0.9866144930975908, 0.9866144276059325, 0.9866144867333289, 0.98661455025362, 0.9866144460777387, 0.9866143591765725, 0.9866145090319635, 0.9866145293205171, 0.9866144924225796, 0.9866145734405932, 0.9866146149960192, 0.9866145072951684, 0.9866144964105112, 0.9866144300849918, 0.986614452397659, 0.9866144593933321, 0.9866145188444322, 0.9866145197745069, 0.9866145387032041, 0.9866144463146593, 0.9866143967588576, 0.9866144456611494, 0.9866144193612129, 0.9866144867620835, 0.9866144418924662, 0.9866144602948599, 0.9866144417225695, 0.9866145715407207, 0.9866145025096731, 0.9866145121314478, 0.9866145373656621, 0.9866145681660712, 0.9866144544598326, 0.9866144493235893, 0.986614480752892, 0.9866145421379984, 0.9866144239693164, 0.9866145469541543, 0.9866144896440313]\n",
      "torch.Size([128])\n",
      "[0.9932847564169645, 0.9932847567763818, 0.993284750809276, 0.9932847499246508, 0.9932847710349667, 0.9932848081139285, 0.9932847189653543, 0.9932846892321034, 0.9932849277960633, 0.9932848752821248, 0.9932847602606759, 0.9932847870258138, 0.9932847491602339, 0.9932847411515506, 0.9932848156783335, 0.9932845419225873, 0.9932846070023281, 0.9932847032863575, 0.9932846740668683, 0.9932848386747899, 0.9932846416328348, 0.9932848569437083, 0.9932848190683397, 0.9932848681159181, 0.9932846846216392, 0.9932847109426629, 0.9932847232667554, 0.9932847528949621, 0.9932846682044697, 0.9932846609695197, 0.9932846876568892, 0.9932848868498977, 0.9932846716040299, 0.9932847455283449, 0.9932846935114993, 0.9932846580395331, 0.9932847690257439, 0.9932847058967564, 0.9932848172591178, 0.9932846878752327, 0.9932847239845014, 0.9932847921528437, 0.9932846803310793, 0.9932846904005252, 0.993284685186444, 0.99328469685764, 0.9932847924805216, 0.9932848142197341, 0.9932846723878217, 0.9932847033779549, 0.9932846673581112, 0.9932847030045902, 0.9932846888656354, 0.9932847838224035, 0.9932848685353268, 0.9932847045611083, 0.9932848338541326, 0.9932846968664992, 0.993284700960076, 0.9932846667635786, 0.9932847056845163, 0.9932846680950611, 0.9932847085850597, 0.9932846562174601]\n",
      "torch.Size([64])\n",
      "[1.0, 1.0000001555477385, 1.0000000516400827, 1.0, 1.0000000655521426, 1.000000114412612, 1.0000001067873792, 1.0000000368176032, 1.0000001020797402, 1.0000000662802726, 1.0000000408820173, 1.0000001710936435, 1.0, 1.0, 0.9999999554424299, 1.0000000495982924, 1.0, 1.0, 0.9999999644500914, 1.0000000309816557, 1.0, 1.0000000527148614, 1.0000000498716342, 1.0, 1.000000104909552, 0.999999969851176, 1.0, 1.0000001509413572, 1.0000000503487292, 1.0, 0.9999998816774937, 1.0]\n",
      "torch.Size([32])\n"
     ]
    }
   ],
   "source": [
    "for i in range(len(lay)):\n",
    "    if i > 0 and i <= len(lay)-1:\n",
    "        norms = []\n",
    "        for j in range(lay[i-1][1].weight.shape[0]):\n",
    "            norms.append(np.sqrt(torch.sum(torch.square(lay[i][1].weight.data[:,j])).item())/np.sqrt(torch.sum(torch.square(lay[i-1][1].weight.data[j])).item()))\n",
    "        print(norms)\n",
    "        norms = torch.tensor(norms)\n",
    "        print(norms.shape)"
   ]
  }
 ],
 "metadata": {
  "kernelspec": {
   "display_name": "Python 3",
   "language": "python",
   "name": "python3"
  },
  "language_info": {
   "codemirror_mode": {
    "name": "ipython",
    "version": 3
   },
   "file_extension": ".py",
   "mimetype": "text/x-python",
   "name": "python",
   "nbconvert_exporter": "python",
   "pygments_lexer": "ipython3",
   "version": "3.11.8"
  }
 },
 "nbformat": 4,
 "nbformat_minor": 2
}
