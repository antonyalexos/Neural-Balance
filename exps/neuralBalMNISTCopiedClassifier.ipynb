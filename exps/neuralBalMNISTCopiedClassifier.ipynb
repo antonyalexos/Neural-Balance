{
 "cells": [
  {
   "cell_type": "code",
   "execution_count": 12,
   "metadata": {},
   "outputs": [],
   "source": [
    "import torch\n",
    "import torch.nn as nn\n",
    "import torch.optim as optim\n",
    "import numpy as np\n",
    "from torchvision.datasets import MNIST\n",
    "from torch.utils.data import DataLoader\n",
    "from torchvision import transforms\n",
    "import torch.nn.functional as F\n",
    "import os\n",
    "from tqdm import tqdm\n",
    "\n",
    "class SingleLayerNN(nn.Module):\n",
    "    def __init__(self):\n",
    "        super(SingleLayerNN, self).__init__()\n",
    "        self.fc = nn.Linear(784, 256)\n",
    "        self.fc2 = nn.Linear(256, 128)\n",
    "        self.fc3 = nn.Linear(128, 64)\n",
    "        self.out = nn.Linear(64, 10)\n",
    "\n",
    "    def forward(self, x):\n",
    "        x = torch.relu(self.fc(x)) \n",
    "        x = torch.relu(self.fc2(x))\n",
    "        x = torch.relu(self.fc3(x))\n",
    "        x = self.out(x)  \n",
    "        return x\n",
    "\n",
    "model = SingleLayerNN()\n",
    "\n",
    "\n",
    "criterion = nn.MSELoss() \n",
    "optimizer = optim.Adam(model.parameters(), lr=0.01)  \n"
   ]
  },
  {
   "cell_type": "code",
   "execution_count": 13,
   "metadata": {},
   "outputs": [
    {
     "data": {
      "text/plain": [
       "<torch._C.Generator at 0x24972d3f6b0>"
      ]
     },
     "execution_count": 13,
     "metadata": {},
     "output_type": "execute_result"
    }
   ],
   "source": [
    "torch.manual_seed(7)"
   ]
  },
  {
   "cell_type": "code",
   "execution_count": 14,
   "metadata": {},
   "outputs": [
    {
     "name": "stderr",
     "output_type": "stream",
     "text": [
      "C:\\Users\\ianey\\AppData\\Local\\Temp\\ipykernel_16504\\2182951934.py:4: UserWarning: To copy construct from a tensor, it is recommended to use sourceTensor.clone().detach() or sourceTensor.clone().detach().requires_grad_(True), rather than torch.tensor(sourceTensor).\n",
      "  x_train = torch.tensor(x_train, dtype=torch.float32)\n",
      "C:\\Users\\ianey\\AppData\\Local\\Temp\\ipykernel_16504\\2182951934.py:5: UserWarning: To copy construct from a tensor, it is recommended to use sourceTensor.clone().detach() or sourceTensor.clone().detach().requires_grad_(True), rather than torch.tensor(sourceTensor).\n",
      "  y_train = torch.tensor(y_train, dtype=torch.float32)\n"
     ]
    }
   ],
   "source": [
    "train_dataset = MNIST(os.getcwd(), train=True, download=True, transform=[transforms.ToTensor(), transforms.Normalize((0.5,), (0.5,))])\n",
    "x_train = train_dataset.data / 255.0\n",
    "y_train = F.one_hot(train_dataset.targets, num_classes=10)\n",
    "x_train = torch.tensor(x_train, dtype=torch.float32)\n",
    "y_train = torch.tensor(y_train, dtype=torch.float32)\n",
    "x_train = x_train.view(-1, 784)\n",
    "dtrain = torch.utils.data.TensorDataset(x_train, y_train)\n",
    "trainloader = DataLoader(dtrain, batch_size=64, shuffle=True)"
   ]
  },
  {
   "cell_type": "code",
   "execution_count": 15,
   "metadata": {},
   "outputs": [
    {
     "name": "stderr",
     "output_type": "stream",
     "text": [
      "C:\\Users\\ianey\\AppData\\Local\\Temp\\ipykernel_16504\\2331197148.py:4: UserWarning: To copy construct from a tensor, it is recommended to use sourceTensor.clone().detach() or sourceTensor.clone().detach().requires_grad_(True), rather than torch.tensor(sourceTensor).\n",
      "  x_test = torch.tensor(x_test, dtype=torch.float32)\n",
      "C:\\Users\\ianey\\AppData\\Local\\Temp\\ipykernel_16504\\2331197148.py:5: UserWarning: To copy construct from a tensor, it is recommended to use sourceTensor.clone().detach() or sourceTensor.clone().detach().requires_grad_(True), rather than torch.tensor(sourceTensor).\n",
      "  y_test = torch.tensor(y_test, dtype=torch.float32)\n"
     ]
    }
   ],
   "source": [
    "testDataset = MNIST(os.getcwd(), train=False, download=True, transform=[transforms.ToTensor(), transforms.Normalize((0.5,), (0.5,))])\n",
    "x_test = testDataset.data / 255.0\n",
    "y_test = F.one_hot(testDataset.targets, num_classes=10)\n",
    "x_test = torch.tensor(x_test, dtype=torch.float32)\n",
    "y_test = torch.tensor(y_test, dtype=torch.float32)\n",
    "x_test = x_test.view(-1, 784)\n",
    "dtest = torch.utils.data.TensorDataset(x_test, y_test)\n",
    "testloader = DataLoader(dtest, batch_size=64, shuffle=True)"
   ]
  },
  {
   "cell_type": "code",
   "execution_count": 16,
   "metadata": {},
   "outputs": [],
   "source": [
    "def neuronalNeuralBalance(inl, oul):\n",
    "\n",
    "    ninc = torch.zeros_like(inl.weight)\n",
    "    noul = torch.zeros_like(oul.weight)\n",
    "\n",
    "    for i in range(inl.weight.data.shape[0]):\n",
    "        inc = np.sqrt(torch.sum(torch.square(inl.weight.data[i])).item())\n",
    "        outg = np.sqrt(torch.sum(torch.square(oul.weight.data[:,i])).item())\n",
    "\n",
    "        # outg = outg / float(len(oul.weight.data[:,i]))\n",
    "        # inc = inc / float(len(inl.weight.data[i]))\n",
    "\n",
    "        opt = np.sqrt(outg/inc)\n",
    "\n",
    "        ninc[i] = inl.weight.data[i]*opt\n",
    "        noul[:, i] = oul.weight.data[:,i]/opt\n",
    "\n",
    "    diff = (torch.sum(torch.abs(inl.weight.data - ninc)).item(), torch.sum(torch.abs(oul.weight.data-noul)).item())\n",
    "\n",
    "    inl.weight.data = ninc\n",
    "    oul.weight.data = noul\n",
    "\n",
    "    return diff\n"
   ]
  },
  {
   "cell_type": "code",
   "execution_count": 17,
   "metadata": {},
   "outputs": [
    {
     "name": "stdout",
     "output_type": "stream",
     "text": [
      "Linear\n",
      "Linear\n",
      "Linear\n",
      "Linear\n"
     ]
    },
    {
     "name": "stderr",
     "output_type": "stream",
     "text": [
      "100%|██████████| 938/938 [00:02<00:00, 350.81it/s]\n"
     ]
    },
    {
     "name": "stdout",
     "output_type": "stream",
     "text": [
      "Epoch 0/20, Loss: 0.015362049452960491\n",
      "layer l2 norm for layer 0 = 12.582353591918945\n",
      "layer l2 norm for layer 1 = 7.929424285888672\n",
      "layer l2 norm for layer 2 = 3.0548555850982666\n",
      "layer l2 norm for layer 3 = 2.5199458599090576\n",
      "test dataset accuracy: 92.31%\n"
     ]
    },
    {
     "name": "stderr",
     "output_type": "stream",
     "text": [
      "100%|██████████| 938/938 [00:02<00:00, 372.68it/s]\n"
     ]
    },
    {
     "name": "stdout",
     "output_type": "stream",
     "text": [
      "Epoch 1/20, Loss: 0.013726762495934963\n",
      "layer l2 norm for layer 0 = 11.080541610717773\n",
      "layer l2 norm for layer 1 = 8.860000610351562\n",
      "layer l2 norm for layer 2 = 4.843550205230713\n",
      "layer l2 norm for layer 3 = 3.3523447513580322\n",
      "test dataset accuracy: 93.66%\n"
     ]
    },
    {
     "name": "stderr",
     "output_type": "stream",
     "text": [
      "100%|██████████| 938/938 [00:02<00:00, 377.45it/s]\n"
     ]
    },
    {
     "name": "stdout",
     "output_type": "stream",
     "text": [
      "Epoch 2/20, Loss: 0.006951797753572464\n",
      "layer l2 norm for layer 0 = 9.958905220031738\n",
      "layer l2 norm for layer 1 = 9.74459171295166\n",
      "layer l2 norm for layer 2 = 6.093531608581543\n",
      "layer l2 norm for layer 3 = 4.104314804077148\n",
      "test dataset accuracy: 93.37%\n"
     ]
    },
    {
     "name": "stderr",
     "output_type": "stream",
     "text": [
      "100%|██████████| 938/938 [00:02<00:00, 383.20it/s]\n"
     ]
    },
    {
     "name": "stdout",
     "output_type": "stream",
     "text": [
      "Epoch 3/20, Loss: 0.018345190212130547\n",
      "layer l2 norm for layer 0 = 9.899931907653809\n",
      "layer l2 norm for layer 1 = 11.112936019897461\n",
      "layer l2 norm for layer 2 = 7.264734268188477\n",
      "layer l2 norm for layer 3 = 4.912639617919922\n",
      "test dataset accuracy: 93.13%\n"
     ]
    },
    {
     "name": "stderr",
     "output_type": "stream",
     "text": [
      "100%|██████████| 938/938 [00:02<00:00, 390.75it/s]\n"
     ]
    },
    {
     "name": "stdout",
     "output_type": "stream",
     "text": [
      "Epoch 4/20, Loss: 0.01629502885043621\n",
      "layer l2 norm for layer 0 = 9.90605640411377\n",
      "layer l2 norm for layer 1 = 12.393426895141602\n",
      "layer l2 norm for layer 2 = 8.414978981018066\n",
      "layer l2 norm for layer 3 = 5.638349533081055\n",
      "test dataset accuracy: 93.61%\n"
     ]
    },
    {
     "name": "stderr",
     "output_type": "stream",
     "text": [
      "100%|██████████| 938/938 [00:02<00:00, 400.53it/s]\n"
     ]
    },
    {
     "name": "stdout",
     "output_type": "stream",
     "text": [
      "Epoch 5/20, Loss: 0.004242999944835901\n",
      "layer l2 norm for layer 0 = 10.343287467956543\n",
      "layer l2 norm for layer 1 = 13.826985359191895\n",
      "layer l2 norm for layer 2 = 9.670937538146973\n",
      "layer l2 norm for layer 3 = 6.398399829864502\n",
      "test dataset accuracy: 92.69%\n"
     ]
    },
    {
     "name": "stderr",
     "output_type": "stream",
     "text": [
      "100%|██████████| 938/938 [00:02<00:00, 390.84it/s]\n"
     ]
    },
    {
     "name": "stdout",
     "output_type": "stream",
     "text": [
      "Epoch 6/20, Loss: 0.010783246718347073\n",
      "layer l2 norm for layer 0 = 10.763282775878906\n",
      "layer l2 norm for layer 1 = 15.431371688842773\n",
      "layer l2 norm for layer 2 = 10.928851127624512\n",
      "layer l2 norm for layer 3 = 7.193081855773926\n",
      "test dataset accuracy: 93.86%\n"
     ]
    },
    {
     "name": "stderr",
     "output_type": "stream",
     "text": [
      "100%|██████████| 938/938 [00:02<00:00, 413.08it/s]\n"
     ]
    },
    {
     "name": "stdout",
     "output_type": "stream",
     "text": [
      "Epoch 7/20, Loss: 0.01330472994595766\n",
      "layer l2 norm for layer 0 = 10.966621398925781\n",
      "layer l2 norm for layer 1 = 16.923587799072266\n",
      "layer l2 norm for layer 2 = 12.146939277648926\n",
      "layer l2 norm for layer 3 = 8.00401782989502\n",
      "test dataset accuracy: 93.59%\n"
     ]
    },
    {
     "name": "stderr",
     "output_type": "stream",
     "text": [
      "100%|██████████| 938/938 [00:02<00:00, 384.70it/s]\n"
     ]
    },
    {
     "name": "stdout",
     "output_type": "stream",
     "text": [
      "Epoch 8/20, Loss: 0.007073111832141876\n",
      "layer l2 norm for layer 0 = 11.625178337097168\n",
      "layer l2 norm for layer 1 = 18.261322021484375\n",
      "layer l2 norm for layer 2 = 13.430611610412598\n",
      "layer l2 norm for layer 3 = 8.858292579650879\n",
      "test dataset accuracy: 93.42%\n"
     ]
    },
    {
     "name": "stderr",
     "output_type": "stream",
     "text": [
      "100%|██████████| 938/938 [00:02<00:00, 366.02it/s]\n"
     ]
    },
    {
     "name": "stdout",
     "output_type": "stream",
     "text": [
      "Epoch 9/20, Loss: 0.007666930556297302\n",
      "layer l2 norm for layer 0 = 12.020995140075684\n",
      "layer l2 norm for layer 1 = 19.711666107177734\n",
      "layer l2 norm for layer 2 = 14.73843765258789\n",
      "layer l2 norm for layer 3 = 9.78758716583252\n",
      "test dataset accuracy: 93.65%\n"
     ]
    },
    {
     "name": "stderr",
     "output_type": "stream",
     "text": [
      "100%|██████████| 938/938 [00:02<00:00, 367.12it/s]\n"
     ]
    },
    {
     "name": "stdout",
     "output_type": "stream",
     "text": [
      "Epoch 10/20, Loss: 0.016503268852829933\n",
      "layer l2 norm for layer 0 = 12.36593246459961\n",
      "layer l2 norm for layer 1 = 21.133785247802734\n",
      "layer l2 norm for layer 2 = 16.054574966430664\n",
      "layer l2 norm for layer 3 = 10.681770324707031\n",
      "test dataset accuracy: 93.8%\n"
     ]
    },
    {
     "name": "stderr",
     "output_type": "stream",
     "text": [
      "100%|██████████| 938/938 [00:02<00:00, 381.33it/s]\n"
     ]
    },
    {
     "name": "stdout",
     "output_type": "stream",
     "text": [
      "Epoch 11/20, Loss: 0.005615508183836937\n",
      "layer l2 norm for layer 0 = 12.896066665649414\n",
      "layer l2 norm for layer 1 = 22.677532196044922\n",
      "layer l2 norm for layer 2 = 17.35692596435547\n",
      "layer l2 norm for layer 3 = 11.456865310668945\n",
      "test dataset accuracy: 93.86%\n"
     ]
    },
    {
     "name": "stderr",
     "output_type": "stream",
     "text": [
      "100%|██████████| 938/938 [00:02<00:00, 385.47it/s]\n"
     ]
    },
    {
     "name": "stdout",
     "output_type": "stream",
     "text": [
      "Epoch 12/20, Loss: 0.010583274066448212\n",
      "layer l2 norm for layer 0 = 13.421417236328125\n",
      "layer l2 norm for layer 1 = 24.147903442382812\n",
      "layer l2 norm for layer 2 = 18.642465591430664\n",
      "layer l2 norm for layer 3 = 12.314473152160645\n",
      "test dataset accuracy: 93.5%\n"
     ]
    },
    {
     "name": "stderr",
     "output_type": "stream",
     "text": [
      "100%|██████████| 938/938 [00:02<00:00, 378.40it/s]\n"
     ]
    },
    {
     "name": "stdout",
     "output_type": "stream",
     "text": [
      "Epoch 13/20, Loss: 0.011765243485569954\n",
      "layer l2 norm for layer 0 = 14.484370231628418\n",
      "layer l2 norm for layer 1 = 25.59626579284668\n",
      "layer l2 norm for layer 2 = 19.903413772583008\n",
      "layer l2 norm for layer 3 = 13.18177318572998\n",
      "test dataset accuracy: 93.59%\n"
     ]
    },
    {
     "name": "stderr",
     "output_type": "stream",
     "text": [
      "100%|██████████| 938/938 [00:02<00:00, 368.67it/s]\n"
     ]
    },
    {
     "name": "stdout",
     "output_type": "stream",
     "text": [
      "Epoch 14/20, Loss: 0.011170560494065285\n",
      "layer l2 norm for layer 0 = 15.433886528015137\n",
      "layer l2 norm for layer 1 = 27.174341201782227\n",
      "layer l2 norm for layer 2 = 21.18360137939453\n",
      "layer l2 norm for layer 3 = 14.05303955078125\n",
      "test dataset accuracy: 93.76%\n"
     ]
    },
    {
     "name": "stderr",
     "output_type": "stream",
     "text": [
      "100%|██████████| 938/938 [00:02<00:00, 382.98it/s]\n"
     ]
    },
    {
     "name": "stdout",
     "output_type": "stream",
     "text": [
      "Epoch 15/20, Loss: 0.01630428247153759\n",
      "layer l2 norm for layer 0 = 15.757925033569336\n",
      "layer l2 norm for layer 1 = 28.58696937561035\n",
      "layer l2 norm for layer 2 = 22.373674392700195\n",
      "layer l2 norm for layer 3 = 14.87804889678955\n",
      "test dataset accuracy: 93.22%\n"
     ]
    },
    {
     "name": "stderr",
     "output_type": "stream",
     "text": [
      "100%|██████████| 938/938 [00:02<00:00, 372.38it/s]\n"
     ]
    },
    {
     "name": "stdout",
     "output_type": "stream",
     "text": [
      "Epoch 16/20, Loss: 0.0058086952194571495\n",
      "layer l2 norm for layer 0 = 16.66291618347168\n",
      "layer l2 norm for layer 1 = 30.129961013793945\n",
      "layer l2 norm for layer 2 = 23.634151458740234\n",
      "layer l2 norm for layer 3 = 15.638934135437012\n",
      "test dataset accuracy: 93.19%\n"
     ]
    },
    {
     "name": "stderr",
     "output_type": "stream",
     "text": [
      "100%|██████████| 938/938 [00:02<00:00, 361.60it/s]\n"
     ]
    },
    {
     "name": "stdout",
     "output_type": "stream",
     "text": [
      "Epoch 17/20, Loss: 0.0014128078473731875\n",
      "layer l2 norm for layer 0 = 17.309066772460938\n",
      "layer l2 norm for layer 1 = 31.488374710083008\n",
      "layer l2 norm for layer 2 = 24.808218002319336\n",
      "layer l2 norm for layer 3 = 16.4852352142334\n",
      "test dataset accuracy: 93.55%\n"
     ]
    },
    {
     "name": "stderr",
     "output_type": "stream",
     "text": [
      "100%|██████████| 938/938 [00:02<00:00, 361.00it/s]\n"
     ]
    },
    {
     "name": "stdout",
     "output_type": "stream",
     "text": [
      "Epoch 18/20, Loss: 0.005865688435733318\n",
      "layer l2 norm for layer 0 = 17.6846923828125\n",
      "layer l2 norm for layer 1 = 32.82070541381836\n",
      "layer l2 norm for layer 2 = 26.00911521911621\n",
      "layer l2 norm for layer 3 = 17.303451538085938\n",
      "test dataset accuracy: 93.29%\n"
     ]
    },
    {
     "name": "stderr",
     "output_type": "stream",
     "text": [
      "100%|██████████| 938/938 [00:02<00:00, 376.80it/s]\n"
     ]
    },
    {
     "name": "stdout",
     "output_type": "stream",
     "text": [
      "Epoch 19/20, Loss: 0.007503093685954809\n",
      "layer l2 norm for layer 0 = 18.828907012939453\n",
      "layer l2 norm for layer 1 = 34.12453842163086\n",
      "layer l2 norm for layer 2 = 27.19308090209961\n",
      "layer l2 norm for layer 3 = 18.094764709472656\n",
      "test dataset accuracy: 93.92%\n"
     ]
    }
   ],
   "source": [
    "model = model.to('cuda')\n",
    "lay = []\n",
    "for n, i in model.named_children():\n",
    "    print(type(i).__name__)\n",
    "    if type(i).__name__ == \"Linear\":\n",
    "        lay.append((n, i))\n",
    "\n",
    "num_epochs = 20  \n",
    "for epoch in range(num_epochs):\n",
    "    for b in tqdm(trainloader):\n",
    "        xt, y = b[0].to('cuda'), b[1].to('cuda')\n",
    "        optimizer.zero_grad() \n",
    "        outputs = model(xt)  \n",
    "        loss = criterion(outputs, y) \n",
    "        \n",
    "        loss.backward() \n",
    "        optimizer.step() \n",
    "    \n",
    "    \n",
    "    for i in range(len(lay)):\n",
    "        if i > 0 and i <= len(lay)-1:\n",
    "            di = neuronalNeuralBalance(lay[i-1][1], lay[i][1])\n",
    "            while(di[0]+di[1] > .001):\n",
    "                di = neuronalNeuralBalance(lay[i-1][1], lay[i][1])\n",
    "\n",
    "    print(f'Epoch {epoch}/{num_epochs}, Loss: {loss.item()}')\n",
    "\n",
    "    for i in range(len(lay)):\n",
    "        print(f'layer l2 norm for layer {i} = {torch.linalg.norm(lay[i][1].weight, ord=2)}')\n",
    "        \n",
    "    tot = 0\n",
    "    corr = 0\n",
    "\n",
    "    with torch.no_grad():\n",
    "        for i in testloader:\n",
    "            xt, y = i[0].to('cuda'), i[1].to('cuda')\n",
    "            outputs = model(xt)  \n",
    "            _, y = torch.max(y.data, 1)\n",
    "            _, pred = torch.max(outputs.data, 1)\n",
    "            tot += y.shape[0]\n",
    "            corr += (pred == y).sum().item()\n",
    "    print(f'test dataset accuracy: {100*corr/tot}%')\n"
   ]
  },
  {
   "cell_type": "code",
   "execution_count": 18,
   "metadata": {},
   "outputs": [
    {
     "data": {
      "image/png": "[encoded data removed]",
      "text/plain": [
       "<Figure size 2500x300 with 4 Axes>"
      ]
     },
     "metadata": {},
     "output_type": "display_data"
    }
   ],
   "source": [
    "import matplotlib.pyplot as plt\n",
    "\n",
    "fc_weights = model.fc.weight.cpu().detach().numpy().flatten()\n",
    "fc2_weights = model.fc2.weight.cpu().detach().numpy().flatten()\n",
    "fc3_weights = model.fc3.weight.cpu().detach().numpy().flatten()\n",
    "out_weights = model.out.weight.cpu().detach().numpy().flatten()\n",
    "\n",
    "bins = np.linspace(-0.5, 0.5, 50) \n",
    "fc_hist, fc_bins = np.histogram(fc_weights, bins=bins)\n",
    "fc2_hist, fc2_bins = np.histogram(fc2_weights, bins=bins)\n",
    "fc3_hist, fc3_bins = np.histogram(fc3_weights, bins=bins)\n",
    "out_hist, out_bins = np.histogram(out_weights, bins=bins)\n",
    "\n",
    "fc_bin_centers = 0.5 * (fc_bins[:-1] + fc_bins[1:])\n",
    "fc2_bin_centers = 0.5 * (fc2_bins[:-1] + fc2_bins[1:])\n",
    "fc3_bin_centers = 0.5 * (fc3_bins[:-1] + fc3_bins[1:])\n",
    "out_bin_centers = 0.5 * (out_bins[:-1] + out_bins[1:])\n",
    "\n",
    "plt.figure(figsize=(25, 3))\n",
    "\n",
    "plt.subplot(1, 6, 1)\n",
    "plt.plot(fc_bin_centers, fc_hist, marker='o', linestyle='-', color='b')\n",
    "plt.title('Weight Distribution: Input to Hidden1 Layer')\n",
    "plt.xlabel('Weight Value')\n",
    "plt.ylabel('Frequency')\n",
    "\n",
    "plt.subplot(1, 6, 2)\n",
    "plt.plot(fc2_bin_centers, fc2_hist, marker='o', linestyle='-', color='b')\n",
    "plt.title('Weight Distribution: Hidden1 to Hidden2 Layer')\n",
    "plt.xlabel('Weight Value')\n",
    "plt.ylabel('Frequency')\n",
    "\n",
    "plt.subplot(1, 6, 3)\n",
    "plt.plot(fc3_bin_centers, fc3_hist, marker='o', linestyle='-', color='b')\n",
    "plt.title('Weight Distribution: Hidden2 to Hidden3 Layer')\n",
    "plt.xlabel('Weight Value')\n",
    "plt.ylabel('Frequency')\n",
    "\n",
    "plt.subplot(1, 6, 6)\n",
    "plt.plot(out_bin_centers, out_hist, marker='o', linestyle='-', color='b')\n",
    "plt.title('Weight Distribution: Hidden5 to Output Layer')\n",
    "plt.xlabel('Weight Value')\n",
    "plt.ylabel('Frequency')\n",
    "\n",
    "plt.tight_layout()\n",
    "plt.show()\n"
   ]
  },
  {
   "cell_type": "code",
   "execution_count": 19,
   "metadata": {},
   "outputs": [
    {
     "name": "stdout",
     "output_type": "stream",
     "text": [
      "Number of non-zero weights greater than 0.01 in layer 1: 10956 = 5.458785076530612%\n",
      "Number of non-zero weights greater than 0.01 in layer 1: 9448 = 28.8330078125%\n",
      "Number of non-zero weights greater than 0.01 in layer 3: 6636 = 81.005859375%\n",
      "Number of non-zero weights greater than 0.01 in layer 1: 638 = 99.6875%\n"
     ]
    }
   ],
   "source": [
    "import torch\n",
    "\n",
    "def count_nonzero_weights_above_threshold(layer, threshold=0.1):\n",
    "    return torch.sum(torch.abs(layer.weight) > threshold).item()\n",
    "\n",
    "threshold_value = 0.01 \n",
    "\n",
    "nonzero_fc1 = count_nonzero_weights_above_threshold(model.fc, threshold=threshold_value)\n",
    "nonzero_fc2 = count_nonzero_weights_above_threshold(model.fc2, threshold=threshold_value)\n",
    "nonzero_fc3 = count_nonzero_weights_above_threshold(model.fc3, threshold=threshold_value)\n",
    "nonzero_out = count_nonzero_weights_above_threshold(model.out, threshold=threshold_value)\n",
    "\n",
    "print(f'Number of non-zero weights greater than {threshold_value} in layer 1: {nonzero_fc1} = {100*nonzero_fc1/(model.fc.weight.data.shape[0]*model.fc.weight.data.shape[1])}%')\n",
    "print(f'Number of non-zero weights greater than {threshold_value} in layer 1: {nonzero_fc2} = {100*nonzero_fc2/(model.fc2.weight.data.shape[0]*model.fc2.weight.data.shape[1])}%')\n",
    "print(f'Number of non-zero weights greater than {threshold_value} in layer 3: {nonzero_fc3} = {100*nonzero_fc3/(model.fc3.weight.data.shape[0]*model.fc3.weight.data.shape[1])}%')\n",
    "print(f'Number of non-zero weights greater than {threshold_value} in layer 1: {nonzero_out} = {100*nonzero_out/(model.out.weight.data.shape[0]*model.out.weight.data.shape[1])}%')"
   ]
  },
  {
   "cell_type": "code",
   "execution_count": 20,
   "metadata": {},
   "outputs": [
    {
     "name": "stdout",
     "output_type": "stream",
     "text": [
      "[0.9289213720951033, 0.9164554254500694, 0.9168685347136319, 0.918896922113054, 0.9316957000914919, 0.9327710774447241, 0.9119914656196831, 0.9144480246577474, 0.9357079411218117, 0.9250221725383416, 0.9345204929014796, 0.937732436243812, 0.9174441960350358, 0.926362934999833, 0.9113472897940652, 0.920866627349429, 0.9213933938084545, 0.9141503357148631, 0.9140526357124273, 0.9354704856436825, 0.9120095450491347, 0.916171023604704, 0.9142294571847804, 0.9125115123539584, 0.9148723629807806, 0.9213627387662441, 0.9342157119978379, 0.9134582816189446, 0.9372350311060965, 0.925793744742923, 0.9240389060927875, 0.9140300254080997, 0.9139523579629567, 0.9120234060567204, 0.930646753575724, 0.9138242177853306, 0.9234632334939674, 0.9237895074165393, 0.9202497392635306, 0.9403482964904095, 0.9141185994742709, 0.9369538253653038, 0.9149695499287692, 0.9131700576573425, 0.9153251492270088, 0.9112005751440742, 0.9371899006799134, 0.9273130776487022, 0.9135708430093272, 0.9398010534134252, 0.9385186922223905, 0.9152678362418509, 0.9083438237229241, 0.9111222916556174, 0.9092414282335883, 0.9138065802706563, 0.9180029011580626, 0.9120735833559428, 0.9114908445865656, 0.9382525362499579, 0.9364273807726143, 0.9441939539402757, 0.9153510339961763, 0.919152935276702, 0.9201921612986512, 0.9160745033301403, 0.9247221710520995, 0.9203237056383298, 0.9246388974654602, 0.91432576037835, 0.9359785099754774, 0.9276177682552895, 0.9151019980841496, 0.9407687822859945, 0.9375115007679178, 0.9142497823117842, 0.9410703714371099, 0.9366414482057079, 0.9173814067335825, 0.9118276428813132, 0.914747275564821, 0.9198428748638617, 0.9127615001593822, 0.9157640569922771, 0.920782610053593, 0.9486183169889171, 0.9270201237275324, 0.910751912546874, 0.9343468816378118, 0.9128359827821868, 0.9129180987087239, 0.9277771907485972, 0.9128945557377804, 0.91515154061782, 0.9489507642272424, 0.9144763107278673, 0.9409439552127544, 0.9097661807817773, 0.9345006582744166, 0.9166161855978957, 0.917454436117816, 0.9244617537702969, 0.9317376782987243, 0.9142537337952829, 0.9370408418286617, 0.9139365120672016, 0.9370659099354475, 0.9463500225398114, 0.9139467743759219, 0.911956011329006, 0.9109038606942954, 0.9089442904738748, 0.924893016079567, 0.93171286130963, 0.9198516330072829, 0.9361431524872947, 0.9271183968625885, 0.9357202104465933, 0.9368799364324227, 0.9370006392160201, 0.937468888207955, 0.9410212995226326, 0.9385429851436926, 0.9154865766855739, 0.9113413635504222, 0.9160273657126239, 0.916536930019903, 0.9141364986125162, 0.9126244555268429, 0.9347684902997007, 0.9390248414685931, 0.9206186796524332, 0.9127975946939685, 0.9199200662730144, 0.9239103689936878, 0.9091910831660147, 0.9153161296950504, 0.920577570180726, 0.912660226759903, 0.9277613387987123, 0.9135318755668912, 0.9368532438867824, 0.9168669508656733, 0.9301746852857822, 0.9182855433060195, 0.9149617977040955, 0.9267132971245307, 0.938178056436883, 0.9127601037259042, 0.9119178829365994, 0.9165556295090616, 0.9125172090691961, 0.9265162256813807, 0.9407637370359447, 0.9135660342438624, 0.910978498765371, 0.9159438116329417, 0.9269699818194163, 0.9121865452575105, 0.9208518866061336, 0.9284880984043967, 0.9462695397956606, 0.9227214855750153, 0.9106881625970277, 0.9320159238900178, 0.9260779580473883, 0.9414707925308075, 0.9488901372941695, 0.9142380228575651, 0.9426651726633357, 0.938709677152716, 0.9159845567301702, 0.9330678657667716, 0.9375922109348648, 0.935935089625261, 0.915005838628425, 0.9228061611195497, 0.9345440107639863, 0.9365168452368026, 0.9387351865421555, 0.918278476753876, 0.9133051585842595, 0.9219836042981108, 0.9271382956714809, 0.9166538803749351, 0.9242748820962993, 0.9097466407615368, 0.9161135983539744, 0.94016840610949, 0.9098261852070854, 0.914484249990494, 0.9125783062869619, 0.9291408351973094, 0.9290571334896807, 0.9133047417632537, 0.9276858797047476, 0.9320058695522114, 0.9140513840827874, 0.9138170467730886, 0.920104557508333, 0.9430763673124699, 0.9199453111087045, 0.9293477606075762, 0.938028614338954, 0.9405872178843075, 0.9192449868291591, 0.9136942862453117, 0.9152336415957927, 0.9234703271672255, 0.9150870487352675, 0.9088596425310876, 0.9169652655789041, 0.9181421310889, 0.9330492190758486, 0.9311785924690746, 0.9489529904834456, 0.9458892146279863, 0.9296785969395152, 0.9294887202272517, 0.9434714119433112, 0.9310140144102423, 0.9425940315654704, 0.924948640424158, 0.93161455391062, 0.9242345407302834, 0.9126629676073914, 0.9219009266102677, 0.9139221256658541, 0.9143993682585394, 0.912383169326225, 0.9113714579006342, 0.9134137629840083, 0.9205320509741755, 0.9420261840372057, 0.9271587825281865, 0.911369983313808, 0.939941657873675, 0.92744670876937, 0.9096475576646372, 0.9108032508374194, 0.9339253274131984, 0.9335967232474013, 0.9233497683661546, 0.9141209979565743, 0.9147022615103805, 0.9188041122874416, 0.9117264296776223, 0.9137796364710766, 0.9127511328483645, 0.9152419166745128, 0.9086712285524619, 0.9163555217184911, 0.9303901421501892, 0.9190342622080607, 0.9154848511604844, 0.9327076640900244]\n",
      "torch.Size([256])\n",
      "[0.9523102455845783, 0.9555701384008403, 0.9555671979209063, 0.9559133235443835, 0.9557376487293496, 0.9555615644863109, 0.955596790885837, 0.9558545116761463, 0.9558231034332786, 0.9558861316337754, 0.9558413319711409, 0.8778952772804535, 0.9557398742316865, 0.9557053193576817, 0.9558788078780969, 0.9557713042315465, 0.9557596731010997, 0.9490804802523352, 0.9263549227293398, 0.931206868704727, 0.9470203794215036, 0.9559386756444357, 0.938812327747533, 0.9558190962511505, 0.9507399992092823, 0.9557595819383434, 0.9557878409561461, 0.9557410901690604, 0.9561102331354622, 0.955747639859956, 0.9558942277981429, 0.9556730303710387, 0.9557278873317187, 0.9557998396527622, 0.9332466277058258, 0.9555995276489144, 0.9551390934673929, 0.9346024259317647, 0.9557679705453415, 0.9558251019233712, 0.9557631117771842, 0.9557976560126091, 0.9451889982937975, 0.9555117439314585, 0.9556737481539246, 0.9555986275838958, 0.9556730599300899, 0.9551616514464256, 0.9558906924618299, 0.9556833619802401, 0.9555391324389689, 0.9559887120307458, 0.9558708620754583, 0.9556918196787374, 0.9556313469109052, 0.9557553908782469, 0.9557992924781035, 0.9559086312816817, 0.9550306713998146, 0.9558733663721062, 0.9549896310317775, 0.9556427625560191, 0.9557681786598576, 0.9535311349362909, 0.955722917992973, 0.9554365487314267, 0.9557947875040926, 0.9560922038451245, 0.9558543039284146, 0.9557388958368687, 0.9556602979210288, 0.9379319447380288, 0.9275072971400238, 0.9552634559962602, 0.9555376306110559, 0.955708185587605, 0.9560217691537259, 0.9556872437336136, 0.9556796811044914, 0.9558521072730727, 0.9559629920127684, 0.9558949908775187, 0.9559268466835552, 0.9558520996729798, 0.9558252952349651, 0.9341839309920337, 0.9557378662246597, 0.936497256440434, 0.9557653894696915, 0.9555874326453668, 0.955853436254037, 0.9558541308114742, 0.9558130284758919, 0.95600034393458, 0.955652955849617, 0.955783044108355, 0.9556723099715703, 0.9558141000696148, 0.9551539580799333, 0.9558365867817158, 0.9556435529227012, 0.9558868498217288, 0.9557090701061993, 0.9550940270375726, 0.9511514966873567, 0.9552018337951771, 0.9557843606644744, 0.9560313189731445, 0.9543528270244529, 0.9558613848005895, 0.9558736095750396, 0.9558750800060898, 0.9558497153878391, 0.9559389505895061, 0.9557029265811877, 0.9557227238738198, 0.955320882372796, 0.9556866593967752, 0.955898318632406, 0.9559616943585515, 0.9420910114019815, 0.9557109531893172, 0.9547905197068732, 0.9553141002886496, 0.9552399505571598, 0.9391265369430928, 0.9559672871840891, 0.9556607657153722]\n",
      "torch.Size([128])\n",
      "[1.00000009671084, 1.0000000307847552, 1.000000039102136, 0.9999999624395758, 1.0, 1.0000000893201941, 1.0, 1.0000001914397036, 1.0, 1.0000001616857093, 1.0000001077640612, 1.0, 0.9999999483636373, 1.0, 1.000000034031176, 1.0, 1.0000000430023992, 1.0, 0.9999999474235585, 1.0000000852331845, 1.0000001375646854, 1.0, 1.0, 1.0, 1.0000000429949814, 0.9999999272217533, 1.0000000348473939, 1.000000091542159, 1.0000000348014504, 1.0000000407080887, 1.0000000941530354, 0.999999908298986, 1.0, 1.0000000452062594, 0.9999999511458343, 1.0, 1.0000000394092172, 1.0000000950118177, 0.9999998798933959, 1.0000000550744845, 1.0, 1.0, 1.0, 1.0000000763697634, 0.9999999686246982, 1.0000000930517816, 1.0, 1.0000001843835435, 0.9999999531685755, 1.0000000316381803, 1.0000001147645183, 1.0, 1.0, 1.000000085726264, 1.0, 1.0000001267747836, 1.0000000724300173, 1.000000067002822, 1.0000000802655666, 1.000000141523336, 1.000000156556006, 1.0000000682512304, 1.0, 1.0]\n",
      "torch.Size([64])\n"
     ]
    }
   ],
   "source": [
    "for i in range(len(lay)):\n",
    "    if i > 0 and i <= len(lay)-1:\n",
    "        norms = []\n",
    "        for j in range(lay[i-1][1].weight.shape[0]):\n",
    "            norms.append(np.sqrt(torch.sum(torch.square(lay[i][1].weight.data[:,j])).item())/np.sqrt(torch.sum(torch.square(lay[i-1][1].weight.data[j])).item()))\n",
    "        print(norms)\n",
    "        norms = torch.tensor(norms)\n",
    "        print(norms.shape)"
   ]
  }
 ],
 "metadata": {
  "kernelspec": {
   "display_name": "Python 3",
   "language": "python",
   "name": "python3"
  },
  "language_info": {
   "codemirror_mode": {
    "name": "ipython",
    "version": 3
   },
   "file_extension": ".py",
   "mimetype": "text/x-python",
   "name": "python",
   "nbconvert_exporter": "python",
   "pygments_lexer": "ipython3",
   "version": "3.11.8"
  }
 },
 "nbformat": 4,
 "nbformat_minor": 2
}
