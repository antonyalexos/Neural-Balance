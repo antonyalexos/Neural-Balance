{
 "cells": [
  {
   "cell_type": "code",
   "execution_count": 128,
   "metadata": {},
   "outputs": [],
   "source": [
    "import torch\n",
    "import torch.nn as nn\n",
    "import torch.optim as optim\n",
    "import numpy as np\n",
    "from torchvision.datasets import MNIST\n",
    "from torch.utils.data import DataLoader\n",
    "from torchvision import transforms\n",
    "import torch.nn.functional as F\n",
    "import os\n",
    "from tqdm import tqdm\n",
    "\n",
    "class SingleLayerNN(nn.Module):\n",
    "    def __init__(self):\n",
    "        super(SingleLayerNN, self).__init__()\n",
    "        self.fc = nn.Linear(784, 512) \n",
    "        self.fc0 = nn.Linear(512, 256)\n",
    "        self.fc1 = nn.Linear(256, 128)\n",
    "        self.fc2 = nn.Linear(128, 64)\n",
    "        self.out = nn.Linear(64, 10)\n",
    "\n",
    "    def forward(self, x):\n",
    "        x = torch.relu(self.fc(x)) \n",
    "        x = torch.relu(self.fc0(x))\n",
    "        x = torch.relu(self.fc1(x))\n",
    "        x = torch.relu(self.fc2(x))\n",
    "        x = self.out(x)  \n",
    "        return x\n",
    "\n",
    "model = SingleLayerNN()\n",
    "\n",
    "\n",
    "criterion = nn.MSELoss() \n",
    "optimizer = optim.Adam(model.parameters(), lr=0.01)  \n"
   ]
  },
  {
   "cell_type": "code",
   "execution_count": 129,
   "metadata": {},
   "outputs": [],
   "source": [
    "#torch.manual_seed(7)"
   ]
  },
  {
   "cell_type": "code",
   "execution_count": 130,
   "metadata": {},
   "outputs": [
    {
     "name": "stderr",
     "output_type": "stream",
     "text": [
      "/var/folders/d1/pxwd2rcj41j7b2lhnz909xn80000gn/T/ipykernel_67757/112231088.py:4: UserWarning: To copy construct from a tensor, it is recommended to use sourceTensor.clone().detach() or sourceTensor.clone().detach().requires_grad_(True), rather than torch.tensor(sourceTensor).\n",
      "  x_train = torch.tensor(x_train, dtype=torch.float32)\n",
      "/var/folders/d1/pxwd2rcj41j7b2lhnz909xn80000gn/T/ipykernel_67757/112231088.py:5: UserWarning: To copy construct from a tensor, it is recommended to use sourceTensor.clone().detach() or sourceTensor.clone().detach().requires_grad_(True), rather than torch.tensor(sourceTensor).\n",
      "  y_train = torch.tensor(y_train, dtype=torch.float32)\n"
     ]
    }
   ],
   "source": [
    "train_dataset = MNIST(os.getcwd(), train=True, download=True, transform=[transforms.ToTensor(), transforms.Normalize((0.5,), (0.5,))])\n",
    "x_train = train_dataset.data / 255.0\n",
    "y_train = F.one_hot(train_dataset.targets, num_classes=10)\n",
    "x_train = torch.tensor(x_train, dtype=torch.float32)\n",
    "y_train = torch.tensor(y_train, dtype=torch.float32)\n",
    "x_train = x_train.view(-1, 784)\n",
    "dtrain = torch.utils.data.TensorDataset(x_train, y_train)\n",
    "trainloader = DataLoader(dtrain, batch_size=256, shuffle=True)"
   ]
  },
  {
   "cell_type": "code",
   "execution_count": 131,
   "metadata": {},
   "outputs": [
    {
     "name": "stderr",
     "output_type": "stream",
     "text": [
      "/var/folders/d1/pxwd2rcj41j7b2lhnz909xn80000gn/T/ipykernel_67757/3473755828.py:4: UserWarning: To copy construct from a tensor, it is recommended to use sourceTensor.clone().detach() or sourceTensor.clone().detach().requires_grad_(True), rather than torch.tensor(sourceTensor).\n",
      "  x_test = torch.tensor(x_test, dtype=torch.float32)\n",
      "/var/folders/d1/pxwd2rcj41j7b2lhnz909xn80000gn/T/ipykernel_67757/3473755828.py:5: UserWarning: To copy construct from a tensor, it is recommended to use sourceTensor.clone().detach() or sourceTensor.clone().detach().requires_grad_(True), rather than torch.tensor(sourceTensor).\n",
      "  y_test = torch.tensor(y_test, dtype=torch.float32)\n"
     ]
    }
   ],
   "source": [
    "testDataset = MNIST(os.getcwd(), train=False, download=True, transform=[transforms.ToTensor(), transforms.Normalize((0.5,), (0.5,))])\n",
    "x_test = testDataset.data / 255.0\n",
    "y_test = F.one_hot(testDataset.targets, num_classes=10)\n",
    "x_test = torch.tensor(x_test, dtype=torch.float32)\n",
    "y_test = torch.tensor(y_test, dtype=torch.float32)\n",
    "x_test = x_test.view(-1, 784)\n",
    "dtest = torch.utils.data.TensorDataset(x_test, y_test)\n",
    "testloader = DataLoader(dtest, batch_size=256, shuffle=True)"
   ]
  },
  {
   "cell_type": "code",
   "execution_count": 132,
   "metadata": {},
   "outputs": [],
   "source": [
    "def neuronalNeuralBalance(inl, oul):\n",
    "\n",
    "    ninc = torch.zeros_like(inl.weight)\n",
    "    noul = torch.zeros_like(oul.weight)\n",
    "\n",
    "    for i in range(inl.weight.data.shape[0]):\n",
    "        inc = np.sqrt(torch.sum(torch.square(inl.weight.data[i])).item())\n",
    "        outg = np.sqrt(torch.sum(torch.square(oul.weight.data[:,i])).item())\n",
    "\n",
    "        # outg = outg / float(len(oul.weight.data[:,i]))\n",
    "        # inc = inc / float(len(inl.weight.data[i]))\n",
    "\n",
    "        opt = np.sqrt(outg/inc)\n",
    "\n",
    "        ninc[i] = inl.weight.data[i]*opt\n",
    "        noul[:, i] = oul.weight.data[:,i]/opt\n",
    "\n",
    "    inl.weight.data = ninc\n",
    "    oul.weight.data = noul\n"
   ]
  },
  {
   "cell_type": "code",
   "execution_count": 133,
   "metadata": {},
   "outputs": [
    {
     "name": "stdout",
     "output_type": "stream",
     "text": [
      "Linear\n",
      "Linear\n",
      "Linear\n",
      "Linear\n",
      "Linear\n"
     ]
    },
    {
     "name": "stderr",
     "output_type": "stream",
     "text": [
      "100%|██████████| 235/235 [00:01<00:00, 128.64it/s]\n"
     ]
    },
    {
     "name": "stdout",
     "output_type": "stream",
     "text": [
      "Epoch 0/100, Loss: 0.01808919385075569, train dataset accuracy: 78.60166666666667\n",
      "test dataset accuracy: 94.56%\n"
     ]
    },
    {
     "name": "stderr",
     "output_type": "stream",
     "text": [
      "100%|██████████| 235/235 [00:01<00:00, 174.15it/s]\n"
     ]
    },
    {
     "name": "stdout",
     "output_type": "stream",
     "text": [
      "Epoch 1/100, Loss: 0.010621798224747181, train dataset accuracy: 95.41\n",
      "test dataset accuracy: 95.67%\n"
     ]
    },
    {
     "name": "stderr",
     "output_type": "stream",
     "text": [
      "100%|██████████| 235/235 [00:01<00:00, 176.63it/s]\n"
     ]
    },
    {
     "name": "stdout",
     "output_type": "stream",
     "text": [
      "Epoch 2/100, Loss: 0.00923972949385643, train dataset accuracy: 95.99166666666666\n",
      "test dataset accuracy: 96.04%\n"
     ]
    },
    {
     "name": "stderr",
     "output_type": "stream",
     "text": [
      "100%|██████████| 235/235 [00:01<00:00, 180.10it/s]\n"
     ]
    },
    {
     "name": "stdout",
     "output_type": "stream",
     "text": [
      "Epoch 3/100, Loss: 0.01890595629811287, train dataset accuracy: 96.17\n",
      "test dataset accuracy: 96.16%\n"
     ]
    },
    {
     "name": "stderr",
     "output_type": "stream",
     "text": [
      "100%|██████████| 235/235 [00:01<00:00, 181.61it/s]\n"
     ]
    },
    {
     "name": "stdout",
     "output_type": "stream",
     "text": [
      "Epoch 4/100, Loss: 0.015980800613760948, train dataset accuracy: 96.34666666666666\n",
      "test dataset accuracy: 96.02%\n"
     ]
    },
    {
     "name": "stderr",
     "output_type": "stream",
     "text": [
      "100%|██████████| 235/235 [00:01<00:00, 165.42it/s]\n"
     ]
    },
    {
     "name": "stdout",
     "output_type": "stream",
     "text": [
      "Epoch 5/100, Loss: 0.01150570623576641, train dataset accuracy: 96.42\n",
      "test dataset accuracy: 96.15%\n"
     ]
    },
    {
     "name": "stderr",
     "output_type": "stream",
     "text": [
      "100%|██████████| 235/235 [00:01<00:00, 183.00it/s]\n"
     ]
    },
    {
     "name": "stdout",
     "output_type": "stream",
     "text": [
      "Epoch 6/100, Loss: 0.0073578450828790665, train dataset accuracy: 96.365\n",
      "test dataset accuracy: 96.09%\n"
     ]
    },
    {
     "name": "stderr",
     "output_type": "stream",
     "text": [
      "100%|██████████| 235/235 [00:01<00:00, 170.56it/s]\n"
     ]
    },
    {
     "name": "stdout",
     "output_type": "stream",
     "text": [
      "Epoch 7/100, Loss: 0.008758257143199444, train dataset accuracy: 96.40666666666667\n",
      "test dataset accuracy: 96.28%\n"
     ]
    },
    {
     "name": "stderr",
     "output_type": "stream",
     "text": [
      "100%|██████████| 235/235 [00:01<00:00, 174.82it/s]\n"
     ]
    },
    {
     "name": "stdout",
     "output_type": "stream",
     "text": [
      "Epoch 8/100, Loss: 0.016857482492923737, train dataset accuracy: 96.475\n",
      "test dataset accuracy: 96.31%\n"
     ]
    },
    {
     "name": "stderr",
     "output_type": "stream",
     "text": [
      "100%|██████████| 235/235 [00:01<00:00, 169.42it/s]\n"
     ]
    },
    {
     "name": "stdout",
     "output_type": "stream",
     "text": [
      "Epoch 9/100, Loss: 0.008181204088032246, train dataset accuracy: 96.45\n",
      "test dataset accuracy: 95.85%\n"
     ]
    },
    {
     "name": "stderr",
     "output_type": "stream",
     "text": [
      "100%|██████████| 235/235 [00:01<00:00, 178.09it/s]\n"
     ]
    },
    {
     "name": "stdout",
     "output_type": "stream",
     "text": [
      "Epoch 10/100, Loss: 0.0069832345470786095, train dataset accuracy: 96.335\n",
      "test dataset accuracy: 96.5%\n"
     ]
    },
    {
     "name": "stderr",
     "output_type": "stream",
     "text": [
      "100%|██████████| 235/235 [00:01<00:00, 179.02it/s]\n"
     ]
    },
    {
     "name": "stdout",
     "output_type": "stream",
     "text": [
      "Epoch 11/100, Loss: 0.014686224982142448, train dataset accuracy: 96.58166666666666\n",
      "test dataset accuracy: 96.25%\n"
     ]
    },
    {
     "name": "stderr",
     "output_type": "stream",
     "text": [
      "100%|██████████| 235/235 [00:01<00:00, 176.51it/s]\n"
     ]
    },
    {
     "name": "stdout",
     "output_type": "stream",
     "text": [
      "Epoch 12/100, Loss: 0.011004913598299026, train dataset accuracy: 96.54833333333333\n",
      "test dataset accuracy: 95.62%\n"
     ]
    },
    {
     "name": "stderr",
     "output_type": "stream",
     "text": [
      "100%|██████████| 235/235 [00:01<00:00, 175.58it/s]\n"
     ]
    },
    {
     "name": "stdout",
     "output_type": "stream",
     "text": [
      "Epoch 13/100, Loss: 0.008277803659439087, train dataset accuracy: 96.565\n",
      "test dataset accuracy: 96.24%\n"
     ]
    },
    {
     "name": "stderr",
     "output_type": "stream",
     "text": [
      "100%|██████████| 235/235 [00:01<00:00, 174.97it/s]\n"
     ]
    },
    {
     "name": "stdout",
     "output_type": "stream",
     "text": [
      "Epoch 14/100, Loss: 0.009398916736245155, train dataset accuracy: 96.68333333333334\n",
      "test dataset accuracy: 96.61%\n"
     ]
    },
    {
     "name": "stderr",
     "output_type": "stream",
     "text": [
      "100%|██████████| 235/235 [00:01<00:00, 182.14it/s]\n"
     ]
    },
    {
     "name": "stdout",
     "output_type": "stream",
     "text": [
      "Epoch 15/100, Loss: 0.009474661201238632, train dataset accuracy: 96.68833333333333\n",
      "test dataset accuracy: 96.35%\n"
     ]
    },
    {
     "name": "stderr",
     "output_type": "stream",
     "text": [
      "100%|██████████| 235/235 [00:01<00:00, 175.57it/s]\n"
     ]
    },
    {
     "name": "stdout",
     "output_type": "stream",
     "text": [
      "Epoch 16/100, Loss: 0.01264764554798603, train dataset accuracy: 96.635\n",
      "test dataset accuracy: 96.62%\n"
     ]
    },
    {
     "name": "stderr",
     "output_type": "stream",
     "text": [
      "100%|██████████| 235/235 [00:01<00:00, 173.39it/s]\n"
     ]
    },
    {
     "name": "stdout",
     "output_type": "stream",
     "text": [
      "Epoch 17/100, Loss: 0.01017126813530922, train dataset accuracy: 96.79666666666667\n",
      "test dataset accuracy: 96.79%\n"
     ]
    },
    {
     "name": "stderr",
     "output_type": "stream",
     "text": [
      "100%|██████████| 235/235 [00:01<00:00, 176.37it/s]\n"
     ]
    },
    {
     "name": "stdout",
     "output_type": "stream",
     "text": [
      "Epoch 18/100, Loss: 0.007292397320270538, train dataset accuracy: 96.75166666666667\n",
      "test dataset accuracy: 96.24%\n"
     ]
    },
    {
     "name": "stderr",
     "output_type": "stream",
     "text": [
      "100%|██████████| 235/235 [00:01<00:00, 181.69it/s]\n"
     ]
    },
    {
     "name": "stdout",
     "output_type": "stream",
     "text": [
      "Epoch 19/100, Loss: 0.007643958553671837, train dataset accuracy: 96.69166666666666\n",
      "test dataset accuracy: 96.61%\n"
     ]
    },
    {
     "name": "stderr",
     "output_type": "stream",
     "text": [
      "100%|██████████| 235/235 [00:01<00:00, 179.89it/s]\n"
     ]
    },
    {
     "name": "stdout",
     "output_type": "stream",
     "text": [
      "Epoch 20/100, Loss: 0.01619996875524521, train dataset accuracy: 96.655\n",
      "test dataset accuracy: 96.0%\n"
     ]
    },
    {
     "name": "stderr",
     "output_type": "stream",
     "text": [
      "100%|██████████| 235/235 [00:01<00:00, 174.64it/s]\n"
     ]
    },
    {
     "name": "stdout",
     "output_type": "stream",
     "text": [
      "Epoch 21/100, Loss: 0.008952700532972813, train dataset accuracy: 96.66\n",
      "test dataset accuracy: 96.4%\n"
     ]
    },
    {
     "name": "stderr",
     "output_type": "stream",
     "text": [
      "100%|██████████| 235/235 [00:01<00:00, 181.31it/s]\n"
     ]
    },
    {
     "name": "stdout",
     "output_type": "stream",
     "text": [
      "Epoch 22/100, Loss: 0.010667996481060982, train dataset accuracy: 96.68\n",
      "test dataset accuracy: 96.26%\n"
     ]
    },
    {
     "name": "stderr",
     "output_type": "stream",
     "text": [
      "100%|██████████| 235/235 [00:01<00:00, 172.17it/s]\n"
     ]
    },
    {
     "name": "stdout",
     "output_type": "stream",
     "text": [
      "Epoch 23/100, Loss: 0.011612817645072937, train dataset accuracy: 96.66833333333334\n",
      "test dataset accuracy: 95.64%\n"
     ]
    },
    {
     "name": "stderr",
     "output_type": "stream",
     "text": [
      "100%|██████████| 235/235 [00:01<00:00, 184.91it/s]\n"
     ]
    },
    {
     "name": "stdout",
     "output_type": "stream",
     "text": [
      "Epoch 24/100, Loss: 0.011614304035902023, train dataset accuracy: 96.605\n",
      "test dataset accuracy: 96.92%\n"
     ]
    },
    {
     "name": "stderr",
     "output_type": "stream",
     "text": [
      "100%|██████████| 235/235 [00:01<00:00, 182.75it/s]\n"
     ]
    },
    {
     "name": "stdout",
     "output_type": "stream",
     "text": [
      "Epoch 25/100, Loss: 0.009666116908192635, train dataset accuracy: 96.825\n",
      "test dataset accuracy: 96.03%\n"
     ]
    },
    {
     "name": "stderr",
     "output_type": "stream",
     "text": [
      "100%|██████████| 235/235 [00:01<00:00, 179.09it/s]\n"
     ]
    },
    {
     "name": "stdout",
     "output_type": "stream",
     "text": [
      "Epoch 26/100, Loss: 0.010697836056351662, train dataset accuracy: 96.72\n",
      "test dataset accuracy: 96.11%\n"
     ]
    },
    {
     "name": "stderr",
     "output_type": "stream",
     "text": [
      "100%|██████████| 235/235 [00:01<00:00, 182.75it/s]\n"
     ]
    },
    {
     "name": "stdout",
     "output_type": "stream",
     "text": [
      "Epoch 27/100, Loss: 0.01657492108643055, train dataset accuracy: 96.685\n",
      "test dataset accuracy: 97.09%\n"
     ]
    },
    {
     "name": "stderr",
     "output_type": "stream",
     "text": [
      "100%|██████████| 235/235 [00:01<00:00, 168.46it/s]\n"
     ]
    },
    {
     "name": "stdout",
     "output_type": "stream",
     "text": [
      "Epoch 28/100, Loss: 0.014139046892523766, train dataset accuracy: 96.78166666666667\n",
      "test dataset accuracy: 96.51%\n"
     ]
    },
    {
     "name": "stderr",
     "output_type": "stream",
     "text": [
      "100%|██████████| 235/235 [00:01<00:00, 174.29it/s]\n"
     ]
    },
    {
     "name": "stdout",
     "output_type": "stream",
     "text": [
      "Epoch 29/100, Loss: 0.0127053651958704, train dataset accuracy: 96.88833333333334\n",
      "test dataset accuracy: 96.94%\n"
     ]
    },
    {
     "name": "stderr",
     "output_type": "stream",
     "text": [
      "100%|██████████| 235/235 [00:01<00:00, 176.44it/s]\n"
     ]
    },
    {
     "name": "stdout",
     "output_type": "stream",
     "text": [
      "Epoch 30/100, Loss: 0.011259444057941437, train dataset accuracy: 96.705\n",
      "test dataset accuracy: 96.03%\n"
     ]
    },
    {
     "name": "stderr",
     "output_type": "stream",
     "text": [
      "100%|██████████| 235/235 [00:01<00:00, 181.13it/s]\n"
     ]
    },
    {
     "name": "stdout",
     "output_type": "stream",
     "text": [
      "Epoch 31/100, Loss: 0.012929834425449371, train dataset accuracy: 96.89666666666666\n",
      "test dataset accuracy: 94.61%\n"
     ]
    },
    {
     "name": "stderr",
     "output_type": "stream",
     "text": [
      "100%|██████████| 235/235 [00:01<00:00, 164.61it/s]\n"
     ]
    },
    {
     "name": "stdout",
     "output_type": "stream",
     "text": [
      "Epoch 32/100, Loss: 0.01276269368827343, train dataset accuracy: 96.79166666666667\n",
      "test dataset accuracy: 96.46%\n"
     ]
    },
    {
     "name": "stderr",
     "output_type": "stream",
     "text": [
      "100%|██████████| 235/235 [00:01<00:00, 182.25it/s]\n"
     ]
    },
    {
     "name": "stdout",
     "output_type": "stream",
     "text": [
      "Epoch 33/100, Loss: 0.010201871395111084, train dataset accuracy: 96.62166666666667\n",
      "test dataset accuracy: 95.59%\n"
     ]
    },
    {
     "name": "stderr",
     "output_type": "stream",
     "text": [
      "100%|██████████| 235/235 [00:01<00:00, 175.39it/s]\n"
     ]
    },
    {
     "name": "stdout",
     "output_type": "stream",
     "text": [
      "Epoch 34/100, Loss: 0.0134761743247509, train dataset accuracy: 96.81666666666666\n",
      "test dataset accuracy: 96.96%\n"
     ]
    },
    {
     "name": "stderr",
     "output_type": "stream",
     "text": [
      "100%|██████████| 235/235 [00:01<00:00, 178.91it/s]\n"
     ]
    },
    {
     "name": "stdout",
     "output_type": "stream",
     "text": [
      "Epoch 35/100, Loss: 0.007551306392997503, train dataset accuracy: 96.87666666666667\n",
      "test dataset accuracy: 96.45%\n"
     ]
    },
    {
     "name": "stderr",
     "output_type": "stream",
     "text": [
      "100%|██████████| 235/235 [00:01<00:00, 184.83it/s]\n"
     ]
    },
    {
     "name": "stdout",
     "output_type": "stream",
     "text": [
      "Epoch 36/100, Loss: 0.01286364533007145, train dataset accuracy: 96.73666666666666\n",
      "test dataset accuracy: 96.19%\n"
     ]
    },
    {
     "name": "stderr",
     "output_type": "stream",
     "text": [
      "100%|██████████| 235/235 [00:01<00:00, 177.01it/s]\n"
     ]
    },
    {
     "name": "stdout",
     "output_type": "stream",
     "text": [
      "Epoch 37/100, Loss: 0.014638153836131096, train dataset accuracy: 96.67166666666667\n",
      "test dataset accuracy: 96.2%\n"
     ]
    },
    {
     "name": "stderr",
     "output_type": "stream",
     "text": [
      "100%|██████████| 235/235 [00:01<00:00, 178.91it/s]\n"
     ]
    },
    {
     "name": "stdout",
     "output_type": "stream",
     "text": [
      "Epoch 38/100, Loss: 0.014551259577274323, train dataset accuracy: 96.81333333333333\n",
      "test dataset accuracy: 96.56%\n"
     ]
    },
    {
     "name": "stderr",
     "output_type": "stream",
     "text": [
      "100%|██████████| 235/235 [00:01<00:00, 176.71it/s]\n"
     ]
    },
    {
     "name": "stdout",
     "output_type": "stream",
     "text": [
      "Epoch 39/100, Loss: 0.012699492275714874, train dataset accuracy: 96.67166666666667\n",
      "test dataset accuracy: 95.34%\n"
     ]
    },
    {
     "name": "stderr",
     "output_type": "stream",
     "text": [
      "100%|██████████| 235/235 [00:01<00:00, 184.62it/s]\n"
     ]
    },
    {
     "name": "stdout",
     "output_type": "stream",
     "text": [
      "Epoch 40/100, Loss: 0.009283027611672878, train dataset accuracy: 96.9\n",
      "test dataset accuracy: 96.65%\n"
     ]
    },
    {
     "name": "stderr",
     "output_type": "stream",
     "text": [
      "100%|██████████| 235/235 [00:01<00:00, 174.43it/s]\n"
     ]
    },
    {
     "name": "stdout",
     "output_type": "stream",
     "text": [
      "Epoch 41/100, Loss: 0.014853976666927338, train dataset accuracy: 96.83\n",
      "test dataset accuracy: 96.39%\n"
     ]
    },
    {
     "name": "stderr",
     "output_type": "stream",
     "text": [
      "100%|██████████| 235/235 [00:01<00:00, 181.35it/s]\n"
     ]
    },
    {
     "name": "stdout",
     "output_type": "stream",
     "text": [
      "Epoch 42/100, Loss: 0.011172907426953316, train dataset accuracy: 96.77\n",
      "test dataset accuracy: 96.01%\n"
     ]
    },
    {
     "name": "stderr",
     "output_type": "stream",
     "text": [
      "100%|██████████| 235/235 [00:01<00:00, 179.13it/s]\n"
     ]
    },
    {
     "name": "stdout",
     "output_type": "stream",
     "text": [
      "Epoch 43/100, Loss: 0.008979965932667255, train dataset accuracy: 96.795\n",
      "test dataset accuracy: 96.48%\n"
     ]
    },
    {
     "name": "stderr",
     "output_type": "stream",
     "text": [
      "100%|██████████| 235/235 [00:01<00:00, 181.33it/s]\n"
     ]
    },
    {
     "name": "stdout",
     "output_type": "stream",
     "text": [
      "Epoch 44/100, Loss: 0.013266995549201965, train dataset accuracy: 96.81166666666667\n",
      "test dataset accuracy: 96.12%\n"
     ]
    },
    {
     "name": "stderr",
     "output_type": "stream",
     "text": [
      "100%|██████████| 235/235 [00:01<00:00, 170.20it/s]\n"
     ]
    },
    {
     "name": "stdout",
     "output_type": "stream",
     "text": [
      "Epoch 45/100, Loss: 0.014079426415264606, train dataset accuracy: 96.79\n",
      "test dataset accuracy: 96.56%\n"
     ]
    },
    {
     "name": "stderr",
     "output_type": "stream",
     "text": [
      "100%|██████████| 235/235 [00:01<00:00, 175.33it/s]\n"
     ]
    },
    {
     "name": "stdout",
     "output_type": "stream",
     "text": [
      "Epoch 46/100, Loss: 0.00959833711385727, train dataset accuracy: 96.81666666666666\n",
      "test dataset accuracy: 96.94%\n"
     ]
    },
    {
     "name": "stderr",
     "output_type": "stream",
     "text": [
      "100%|██████████| 235/235 [00:01<00:00, 181.25it/s]\n"
     ]
    },
    {
     "name": "stdout",
     "output_type": "stream",
     "text": [
      "Epoch 47/100, Loss: 0.008051411248743534, train dataset accuracy: 96.80666666666667\n",
      "test dataset accuracy: 96.01%\n"
     ]
    },
    {
     "name": "stderr",
     "output_type": "stream",
     "text": [
      "100%|██████████| 235/235 [00:01<00:00, 177.42it/s]\n"
     ]
    },
    {
     "name": "stdout",
     "output_type": "stream",
     "text": [
      "Epoch 48/100, Loss: 0.012544587254524231, train dataset accuracy: 96.90333333333334\n",
      "test dataset accuracy: 96.99%\n"
     ]
    },
    {
     "name": "stderr",
     "output_type": "stream",
     "text": [
      "100%|██████████| 235/235 [00:01<00:00, 173.24it/s]\n"
     ]
    },
    {
     "name": "stdout",
     "output_type": "stream",
     "text": [
      "Epoch 49/100, Loss: 0.010756885632872581, train dataset accuracy: 96.83833333333334\n",
      "test dataset accuracy: 96.17%\n"
     ]
    },
    {
     "name": "stderr",
     "output_type": "stream",
     "text": [
      "100%|██████████| 235/235 [00:01<00:00, 182.34it/s]\n"
     ]
    },
    {
     "name": "stdout",
     "output_type": "stream",
     "text": [
      "Epoch 50/100, Loss: 0.007101015653461218, train dataset accuracy: 96.80833333333334\n",
      "test dataset accuracy: 95.91%\n"
     ]
    },
    {
     "name": "stderr",
     "output_type": "stream",
     "text": [
      "100%|██████████| 235/235 [00:01<00:00, 183.99it/s]\n"
     ]
    },
    {
     "name": "stdout",
     "output_type": "stream",
     "text": [
      "Epoch 51/100, Loss: 0.006191841326653957, train dataset accuracy: 96.855\n",
      "test dataset accuracy: 96.36%\n"
     ]
    },
    {
     "name": "stderr",
     "output_type": "stream",
     "text": [
      "100%|██████████| 235/235 [00:01<00:00, 180.94it/s]\n"
     ]
    },
    {
     "name": "stdout",
     "output_type": "stream",
     "text": [
      "Epoch 52/100, Loss: 0.01235133782029152, train dataset accuracy: 96.72\n",
      "test dataset accuracy: 96.14%\n"
     ]
    },
    {
     "name": "stderr",
     "output_type": "stream",
     "text": [
      "100%|██████████| 235/235 [00:01<00:00, 181.17it/s]\n"
     ]
    },
    {
     "name": "stdout",
     "output_type": "stream",
     "text": [
      "Epoch 53/100, Loss: 0.007768907584249973, train dataset accuracy: 96.845\n",
      "test dataset accuracy: 95.02%\n"
     ]
    },
    {
     "name": "stderr",
     "output_type": "stream",
     "text": [
      "100%|██████████| 235/235 [00:01<00:00, 184.75it/s]\n"
     ]
    },
    {
     "name": "stdout",
     "output_type": "stream",
     "text": [
      "Epoch 54/100, Loss: 0.014285016804933548, train dataset accuracy: 96.77333333333333\n",
      "test dataset accuracy: 95.87%\n"
     ]
    },
    {
     "name": "stderr",
     "output_type": "stream",
     "text": [
      "100%|██████████| 235/235 [00:01<00:00, 174.46it/s]\n"
     ]
    },
    {
     "name": "stdout",
     "output_type": "stream",
     "text": [
      "Epoch 55/100, Loss: 0.008906334638595581, train dataset accuracy: 96.90833333333333\n",
      "test dataset accuracy: 96.57%\n"
     ]
    },
    {
     "name": "stderr",
     "output_type": "stream",
     "text": [
      "100%|██████████| 235/235 [00:01<00:00, 174.58it/s]\n"
     ]
    },
    {
     "name": "stdout",
     "output_type": "stream",
     "text": [
      "Epoch 56/100, Loss: 0.01031176932156086, train dataset accuracy: 96.72333333333333\n",
      "test dataset accuracy: 96.56%\n"
     ]
    },
    {
     "name": "stderr",
     "output_type": "stream",
     "text": [
      "100%|██████████| 235/235 [00:01<00:00, 186.09it/s]\n"
     ]
    },
    {
     "name": "stdout",
     "output_type": "stream",
     "text": [
      "Epoch 57/100, Loss: 0.008579181507229805, train dataset accuracy: 96.84333333333333\n",
      "test dataset accuracy: 96.47%\n"
     ]
    },
    {
     "name": "stderr",
     "output_type": "stream",
     "text": [
      "100%|██████████| 235/235 [00:01<00:00, 184.71it/s]\n"
     ]
    },
    {
     "name": "stdout",
     "output_type": "stream",
     "text": [
      "Epoch 58/100, Loss: 0.008770822547376156, train dataset accuracy: 96.90166666666667\n",
      "test dataset accuracy: 96.51%\n"
     ]
    },
    {
     "name": "stderr",
     "output_type": "stream",
     "text": [
      "100%|██████████| 235/235 [00:01<00:00, 176.51it/s]\n"
     ]
    },
    {
     "name": "stdout",
     "output_type": "stream",
     "text": [
      "Epoch 59/100, Loss: 0.009401075541973114, train dataset accuracy: 96.96166666666667\n",
      "test dataset accuracy: 96.89%\n"
     ]
    },
    {
     "name": "stderr",
     "output_type": "stream",
     "text": [
      "100%|██████████| 235/235 [00:01<00:00, 173.81it/s]\n"
     ]
    },
    {
     "name": "stdout",
     "output_type": "stream",
     "text": [
      "Epoch 60/100, Loss: 0.015736617147922516, train dataset accuracy: 96.87166666666667\n",
      "test dataset accuracy: 96.34%\n"
     ]
    },
    {
     "name": "stderr",
     "output_type": "stream",
     "text": [
      "100%|██████████| 235/235 [00:01<00:00, 179.99it/s]\n"
     ]
    },
    {
     "name": "stdout",
     "output_type": "stream",
     "text": [
      "Epoch 61/100, Loss: 0.010078721679747105, train dataset accuracy: 96.88333333333334\n",
      "test dataset accuracy: 96.34%\n"
     ]
    },
    {
     "name": "stderr",
     "output_type": "stream",
     "text": [
      "100%|██████████| 235/235 [00:01<00:00, 178.94it/s]\n"
     ]
    },
    {
     "name": "stdout",
     "output_type": "stream",
     "text": [
      "Epoch 62/100, Loss: 0.011974353343248367, train dataset accuracy: 96.74833333333333\n",
      "test dataset accuracy: 96.54%\n"
     ]
    },
    {
     "name": "stderr",
     "output_type": "stream",
     "text": [
      "100%|██████████| 235/235 [00:01<00:00, 185.30it/s]\n"
     ]
    },
    {
     "name": "stdout",
     "output_type": "stream",
     "text": [
      "Epoch 63/100, Loss: 0.016166100278496742, train dataset accuracy: 96.86\n",
      "test dataset accuracy: 95.85%\n"
     ]
    },
    {
     "name": "stderr",
     "output_type": "stream",
     "text": [
      "100%|██████████| 235/235 [00:01<00:00, 175.33it/s]\n"
     ]
    },
    {
     "name": "stdout",
     "output_type": "stream",
     "text": [
      "Epoch 64/100, Loss: 0.013082567602396011, train dataset accuracy: 96.915\n",
      "test dataset accuracy: 96.24%\n"
     ]
    },
    {
     "name": "stderr",
     "output_type": "stream",
     "text": [
      "100%|██████████| 235/235 [00:01<00:00, 177.37it/s]\n"
     ]
    },
    {
     "name": "stdout",
     "output_type": "stream",
     "text": [
      "Epoch 65/100, Loss: 0.006603081710636616, train dataset accuracy: 96.86833333333334\n",
      "test dataset accuracy: 96.33%\n"
     ]
    },
    {
     "name": "stderr",
     "output_type": "stream",
     "text": [
      "100%|██████████| 235/235 [00:01<00:00, 182.09it/s]\n"
     ]
    },
    {
     "name": "stdout",
     "output_type": "stream",
     "text": [
      "Epoch 66/100, Loss: 0.018312711268663406, train dataset accuracy: 96.88\n",
      "test dataset accuracy: 95.75%\n"
     ]
    },
    {
     "name": "stderr",
     "output_type": "stream",
     "text": [
      "100%|██████████| 235/235 [00:01<00:00, 184.99it/s]\n"
     ]
    },
    {
     "name": "stdout",
     "output_type": "stream",
     "text": [
      "Epoch 67/100, Loss: 0.011838670819997787, train dataset accuracy: 96.70333333333333\n",
      "test dataset accuracy: 96.06%\n"
     ]
    },
    {
     "name": "stderr",
     "output_type": "stream",
     "text": [
      "100%|██████████| 235/235 [00:01<00:00, 180.53it/s]\n"
     ]
    },
    {
     "name": "stdout",
     "output_type": "stream",
     "text": [
      "Epoch 68/100, Loss: 0.010618692263960838, train dataset accuracy: 96.815\n",
      "test dataset accuracy: 96.12%\n"
     ]
    },
    {
     "name": "stderr",
     "output_type": "stream",
     "text": [
      "100%|██████████| 235/235 [00:01<00:00, 172.49it/s]\n"
     ]
    },
    {
     "name": "stdout",
     "output_type": "stream",
     "text": [
      "Epoch 69/100, Loss: 0.014942636713385582, train dataset accuracy: 96.89666666666666\n",
      "test dataset accuracy: 96.53%\n"
     ]
    },
    {
     "name": "stderr",
     "output_type": "stream",
     "text": [
      "100%|██████████| 235/235 [00:01<00:00, 187.33it/s]\n"
     ]
    },
    {
     "name": "stdout",
     "output_type": "stream",
     "text": [
      "Epoch 70/100, Loss: 0.01606013812124729, train dataset accuracy: 96.78333333333333\n",
      "test dataset accuracy: 96.46%\n"
     ]
    },
    {
     "name": "stderr",
     "output_type": "stream",
     "text": [
      "100%|██████████| 235/235 [00:01<00:00, 185.33it/s]\n"
     ]
    },
    {
     "name": "stdout",
     "output_type": "stream",
     "text": [
      "Epoch 71/100, Loss: 0.01123099122196436, train dataset accuracy: 96.87666666666667\n",
      "test dataset accuracy: 96.23%\n"
     ]
    },
    {
     "name": "stderr",
     "output_type": "stream",
     "text": [
      "100%|██████████| 235/235 [00:01<00:00, 180.15it/s]\n"
     ]
    },
    {
     "name": "stdout",
     "output_type": "stream",
     "text": [
      "Epoch 72/100, Loss: 0.010606532916426659, train dataset accuracy: 96.89666666666666\n",
      "test dataset accuracy: 96.84%\n"
     ]
    },
    {
     "name": "stderr",
     "output_type": "stream",
     "text": [
      "100%|██████████| 235/235 [00:01<00:00, 169.82it/s]\n"
     ]
    },
    {
     "name": "stdout",
     "output_type": "stream",
     "text": [
      "Epoch 73/100, Loss: 0.009042956866323948, train dataset accuracy: 96.78166666666667\n",
      "test dataset accuracy: 96.62%\n"
     ]
    },
    {
     "name": "stderr",
     "output_type": "stream",
     "text": [
      "100%|██████████| 235/235 [00:01<00:00, 186.95it/s]\n"
     ]
    },
    {
     "name": "stdout",
     "output_type": "stream",
     "text": [
      "Epoch 74/100, Loss: 0.013106049969792366, train dataset accuracy: 96.86666666666666\n",
      "test dataset accuracy: 96.58%\n"
     ]
    },
    {
     "name": "stderr",
     "output_type": "stream",
     "text": [
      "100%|██████████| 235/235 [00:01<00:00, 181.26it/s]\n"
     ]
    },
    {
     "name": "stdout",
     "output_type": "stream",
     "text": [
      "Epoch 75/100, Loss: 0.013411963358521461, train dataset accuracy: 96.745\n",
      "test dataset accuracy: 96.43%\n"
     ]
    },
    {
     "name": "stderr",
     "output_type": "stream",
     "text": [
      "100%|██████████| 235/235 [00:01<00:00, 179.59it/s]\n"
     ]
    },
    {
     "name": "stdout",
     "output_type": "stream",
     "text": [
      "Epoch 76/100, Loss: 0.011198990046977997, train dataset accuracy: 96.87833333333333\n",
      "test dataset accuracy: 96.52%\n"
     ]
    },
    {
     "name": "stderr",
     "output_type": "stream",
     "text": [
      "100%|██████████| 235/235 [00:01<00:00, 178.46it/s]\n"
     ]
    },
    {
     "name": "stdout",
     "output_type": "stream",
     "text": [
      "Epoch 77/100, Loss: 0.013848787173628807, train dataset accuracy: 96.80166666666666\n",
      "test dataset accuracy: 95.99%\n"
     ]
    },
    {
     "name": "stderr",
     "output_type": "stream",
     "text": [
      "100%|██████████| 235/235 [00:01<00:00, 166.19it/s]\n"
     ]
    },
    {
     "name": "stdout",
     "output_type": "stream",
     "text": [
      "Epoch 78/100, Loss: 0.01685505360364914, train dataset accuracy: 96.82833333333333\n",
      "test dataset accuracy: 96.36%\n"
     ]
    },
    {
     "name": "stderr",
     "output_type": "stream",
     "text": [
      "100%|██████████| 235/235 [00:01<00:00, 179.89it/s]\n"
     ]
    },
    {
     "name": "stdout",
     "output_type": "stream",
     "text": [
      "Epoch 79/100, Loss: 0.010394986718893051, train dataset accuracy: 96.74\n",
      "test dataset accuracy: 96.23%\n"
     ]
    },
    {
     "name": "stderr",
     "output_type": "stream",
     "text": [
      "100%|██████████| 235/235 [00:01<00:00, 180.87it/s]\n"
     ]
    },
    {
     "name": "stdout",
     "output_type": "stream",
     "text": [
      "Epoch 80/100, Loss: 0.010743362829089165, train dataset accuracy: 96.69333333333333\n",
      "test dataset accuracy: 96.04%\n"
     ]
    },
    {
     "name": "stderr",
     "output_type": "stream",
     "text": [
      "100%|██████████| 235/235 [00:01<00:00, 181.62it/s]\n"
     ]
    },
    {
     "name": "stdout",
     "output_type": "stream",
     "text": [
      "Epoch 81/100, Loss: 0.015385448932647705, train dataset accuracy: 96.845\n",
      "test dataset accuracy: 96.16%\n"
     ]
    },
    {
     "name": "stderr",
     "output_type": "stream",
     "text": [
      "100%|██████████| 235/235 [00:01<00:00, 178.26it/s]\n"
     ]
    },
    {
     "name": "stdout",
     "output_type": "stream",
     "text": [
      "Epoch 82/100, Loss: 0.015552004799246788, train dataset accuracy: 96.76166666666667\n",
      "test dataset accuracy: 96.46%\n"
     ]
    },
    {
     "name": "stderr",
     "output_type": "stream",
     "text": [
      "100%|██████████| 235/235 [00:01<00:00, 182.76it/s]\n"
     ]
    },
    {
     "name": "stdout",
     "output_type": "stream",
     "text": [
      "Epoch 83/100, Loss: 0.007604007609188557, train dataset accuracy: 96.86833333333334\n",
      "test dataset accuracy: 96.41%\n"
     ]
    },
    {
     "name": "stderr",
     "output_type": "stream",
     "text": [
      "100%|██████████| 235/235 [00:01<00:00, 173.54it/s]\n"
     ]
    },
    {
     "name": "stdout",
     "output_type": "stream",
     "text": [
      "Epoch 84/100, Loss: 0.011060409247875214, train dataset accuracy: 96.84833333333333\n",
      "test dataset accuracy: 95.88%\n"
     ]
    },
    {
     "name": "stderr",
     "output_type": "stream",
     "text": [
      "100%|██████████| 235/235 [00:01<00:00, 173.70it/s]\n"
     ]
    },
    {
     "name": "stdout",
     "output_type": "stream",
     "text": [
      "Epoch 85/100, Loss: 0.010833922773599625, train dataset accuracy: 96.82333333333334\n",
      "test dataset accuracy: 96.14%\n"
     ]
    },
    {
     "name": "stderr",
     "output_type": "stream",
     "text": [
      "100%|██████████| 235/235 [00:01<00:00, 182.61it/s]\n"
     ]
    },
    {
     "name": "stdout",
     "output_type": "stream",
     "text": [
      "Epoch 86/100, Loss: 0.010793039575219154, train dataset accuracy: 96.78333333333333\n",
      "test dataset accuracy: 96.12%\n"
     ]
    },
    {
     "name": "stderr",
     "output_type": "stream",
     "text": [
      "100%|██████████| 235/235 [00:01<00:00, 169.60it/s]\n"
     ]
    },
    {
     "name": "stdout",
     "output_type": "stream",
     "text": [
      "Epoch 87/100, Loss: 0.010855039581656456, train dataset accuracy: 96.89333333333333\n",
      "test dataset accuracy: 95.81%\n"
     ]
    },
    {
     "name": "stderr",
     "output_type": "stream",
     "text": [
      "100%|██████████| 235/235 [00:01<00:00, 175.06it/s]\n"
     ]
    },
    {
     "name": "stdout",
     "output_type": "stream",
     "text": [
      "Epoch 88/100, Loss: 0.01255712192505598, train dataset accuracy: 96.81666666666666\n",
      "test dataset accuracy: 96.59%\n"
     ]
    },
    {
     "name": "stderr",
     "output_type": "stream",
     "text": [
      "100%|██████████| 235/235 [00:01<00:00, 182.54it/s]\n"
     ]
    },
    {
     "name": "stdout",
     "output_type": "stream",
     "text": [
      "Epoch 89/100, Loss: 0.01192188449203968, train dataset accuracy: 96.725\n",
      "test dataset accuracy: 95.98%\n"
     ]
    },
    {
     "name": "stderr",
     "output_type": "stream",
     "text": [
      "100%|██████████| 235/235 [00:01<00:00, 178.90it/s]\n"
     ]
    },
    {
     "name": "stdout",
     "output_type": "stream",
     "text": [
      "Epoch 90/100, Loss: 0.012893108651041985, train dataset accuracy: 96.77666666666667\n",
      "test dataset accuracy: 95.9%\n"
     ]
    },
    {
     "name": "stderr",
     "output_type": "stream",
     "text": [
      "100%|██████████| 235/235 [00:01<00:00, 175.48it/s]\n"
     ]
    },
    {
     "name": "stdout",
     "output_type": "stream",
     "text": [
      "Epoch 91/100, Loss: 0.006976427044719458, train dataset accuracy: 96.80166666666666\n",
      "test dataset accuracy: 96.12%\n"
     ]
    },
    {
     "name": "stderr",
     "output_type": "stream",
     "text": [
      "100%|██████████| 235/235 [00:01<00:00, 171.39it/s]\n"
     ]
    },
    {
     "name": "stdout",
     "output_type": "stream",
     "text": [
      "Epoch 92/100, Loss: 0.010858890600502491, train dataset accuracy: 96.71333333333334\n",
      "test dataset accuracy: 96.51%\n"
     ]
    },
    {
     "name": "stderr",
     "output_type": "stream",
     "text": [
      "100%|██████████| 235/235 [00:01<00:00, 181.11it/s]\n"
     ]
    },
    {
     "name": "stdout",
     "output_type": "stream",
     "text": [
      "Epoch 93/100, Loss: 0.010656029917299747, train dataset accuracy: 96.95333333333333\n",
      "test dataset accuracy: 95.41%\n"
     ]
    },
    {
     "name": "stderr",
     "output_type": "stream",
     "text": [
      "100%|██████████| 235/235 [00:01<00:00, 174.56it/s]\n"
     ]
    },
    {
     "name": "stdout",
     "output_type": "stream",
     "text": [
      "Epoch 94/100, Loss: 0.007965209893882275, train dataset accuracy: 96.83166666666666\n",
      "test dataset accuracy: 96.55%\n"
     ]
    },
    {
     "name": "stderr",
     "output_type": "stream",
     "text": [
      "100%|██████████| 235/235 [00:01<00:00, 173.98it/s]\n"
     ]
    },
    {
     "name": "stdout",
     "output_type": "stream",
     "text": [
      "Epoch 95/100, Loss: 0.01031402312219143, train dataset accuracy: 96.85166666666667\n",
      "test dataset accuracy: 95.89%\n"
     ]
    },
    {
     "name": "stderr",
     "output_type": "stream",
     "text": [
      "100%|██████████| 235/235 [00:01<00:00, 171.00it/s]\n"
     ]
    },
    {
     "name": "stdout",
     "output_type": "stream",
     "text": [
      "Epoch 96/100, Loss: 0.014516335912048817, train dataset accuracy: 96.835\n",
      "test dataset accuracy: 96.14%\n"
     ]
    },
    {
     "name": "stderr",
     "output_type": "stream",
     "text": [
      "100%|██████████| 235/235 [00:01<00:00, 177.46it/s]\n"
     ]
    },
    {
     "name": "stdout",
     "output_type": "stream",
     "text": [
      "Epoch 97/100, Loss: 0.012440463528037071, train dataset accuracy: 96.79\n",
      "test dataset accuracy: 96.4%\n"
     ]
    },
    {
     "name": "stderr",
     "output_type": "stream",
     "text": [
      "100%|██████████| 235/235 [00:01<00:00, 181.62it/s]\n"
     ]
    },
    {
     "name": "stdout",
     "output_type": "stream",
     "text": [
      "Epoch 98/100, Loss: 0.012174457311630249, train dataset accuracy: 96.875\n",
      "test dataset accuracy: 96.24%\n"
     ]
    },
    {
     "name": "stderr",
     "output_type": "stream",
     "text": [
      "100%|██████████| 235/235 [00:01<00:00, 178.34it/s]\n"
     ]
    },
    {
     "name": "stdout",
     "output_type": "stream",
     "text": [
      "Epoch 99/100, Loss: 0.009124302305281162, train dataset accuracy: 96.69666666666667\n",
      "test dataset accuracy: 96.7%\n"
     ]
    }
   ],
   "source": [
    "model = model\n",
    "lay = []\n",
    "for n, i in model.named_children():\n",
    "    print(type(i).__name__)\n",
    "    if type(i).__name__ == \"Linear\":\n",
    "        lay.append((n, i))\n",
    "\n",
    "acc = []\n",
    "tacc=[]\n",
    "\n",
    "l2_lambda = 0.00001\n",
    "\n",
    "num_epochs = 100  \n",
    "for epoch in range(num_epochs):\n",
    "    ttot = 0\n",
    "    tcorr = 0\n",
    "    for b in tqdm(trainloader):\n",
    "        xt, y = b[0], b[1]\n",
    "        optimizer.zero_grad() \n",
    "        outputs = model(xt)  \n",
    "        loss = criterion(outputs, y) \n",
    "\n",
    "        l2_penalty = sum(torch.sum(p**2) for p in model.parameters())\n",
    "        loss += l2_lambda * l2_penalty \n",
    "        \n",
    "        loss.backward() \n",
    "        optimizer.step() \n",
    "    \n",
    "        _, y = torch.max(y.data, 1)\n",
    "        _, pred = torch.max(outputs.data, 1)\n",
    "        ttot += y.shape[0]\n",
    "        tcorr += (pred == y).sum().item()\n",
    "\n",
    "    tacc.append(tcorr/ttot)\n",
    "    \n",
    "    # for i in range(len(lay)):\n",
    "    #     if i > 0 and i <= len(lay)-1:\n",
    "    #         di = neuronalNeuralBalance(lay[i-1][1], lay[i][1])\n",
    "\n",
    "    print(f'Epoch {epoch}/{num_epochs}, Loss: {loss.item()}, train dataset accuracy: {100*tcorr/ttot}')\n",
    "        \n",
    "    tot = 0\n",
    "    corr = 0\n",
    "\n",
    "    with torch.no_grad():\n",
    "        for i in testloader:\n",
    "            xt, y = i[0], i[1]\n",
    "            outputs = model(xt)  \n",
    "            _, y = torch.max(y.data, 1)\n",
    "            _, pred = torch.max(outputs.data, 1)\n",
    "            tot += y.shape[0]\n",
    "            corr += (pred == y).sum().item()\n",
    "    print(f'test dataset accuracy: {100*corr/tot}%')\n",
    "    acc.append(corr/tot)\n"
   ]
  },
  {
   "cell_type": "code",
   "execution_count": 134,
   "metadata": {},
   "outputs": [
    {
     "data": {
      "image/png": "[encoded data removed]",
      "text/plain": [
       "<Figure size 2500x500 with 3 Axes>"
      ]
     },
     "metadata": {},
     "output_type": "display_data"
    }
   ],
   "source": [
    "import matplotlib.pyplot as plt\n",
    "\n",
    "fc_weights = model.fc.weight.cpu().detach().numpy().flatten()\n",
    "fc2_weights = model.fc2.weight.cpu().detach().numpy().flatten()\n",
    "out_weights = model.out.weight.cpu().detach().numpy().flatten()\n",
    "\n",
    "bins = np.linspace(-0.5, 0.5, 50) \n",
    "fc_hist, fc_bins = np.histogram(fc_weights, bins=bins)\n",
    "fc2_hist, fc2_bins = np.histogram(fc2_weights, bins=bins)\n",
    "out_hist, out_bins = np.histogram(out_weights, bins=bins)\n",
    "\n",
    "fc_bin_centers = 0.5 * (fc_bins[:-1] + fc_bins[1:])\n",
    "fc2_bin_centers = 0.5 * (fc2_bins[:-1] + fc2_bins[1:])\n",
    "out_bin_centers = 0.5 * (out_bins[:-1] + out_bins[1:])\n",
    "\n",
    "plt.figure(figsize=(25, 5))\n",
    "\n",
    "plt.subplot(1, 3, 1)\n",
    "plt.plot(fc_bin_centers, fc_hist, marker='o', linestyle='-', color='b')\n",
    "plt.title('Weight Distribution: Input to Hidden1 Layer')\n",
    "plt.xlabel('Weight Value')\n",
    "plt.ylabel('Frequency')\n",
    "\n",
    "plt.subplot(1, 3, 2)\n",
    "plt.plot(fc2_bin_centers, fc2_hist, marker='o', linestyle='-', color='g')\n",
    "plt.title('Weight Distribution: hidden 1 to hidden 2 Layer')\n",
    "plt.xlabel('Weight Value')\n",
    "plt.ylabel('Frequency')\n",
    "\n",
    "plt.subplot(1, 3, 3)\n",
    "plt.plot(out_bin_centers, out_hist, marker='o', linestyle='-', color='g')\n",
    "plt.title('Weight Distribution: Hidden2 to Output Layer')\n",
    "plt.xlabel('Weight Value')\n",
    "plt.ylabel('Frequency')\n",
    "\n",
    "plt.tight_layout()\n",
    "plt.show()\n"
   ]
  },
  {
   "cell_type": "code",
   "execution_count": 135,
   "metadata": {},
   "outputs": [
    {
     "name": "stdout",
     "output_type": "stream",
     "text": [
      "Number of non-zero weights greater than 0.01 in layer 1: 36358\n",
      "Number of non-zero weights greater than 0.01 in layer 1: 457\n",
      "Number of non-zero weights greater than 0.01 in layer 3: 226\n"
     ]
    }
   ],
   "source": [
    "import torch\n",
    "\n",
    "def count_nonzero_weights_above_threshold(layer, threshold=0.01):\n",
    "    return torch.sum(torch.abs(layer.weight) > threshold).item()\n",
    "\n",
    "threshold_value = 0.01 \n",
    "\n",
    "nonzero_fc1 = count_nonzero_weights_above_threshold(model.fc, threshold=threshold_value)\n",
    "nonzero_fc2 = count_nonzero_weights_above_threshold(model.fc2, threshold=threshold_value)\n",
    "nonzero_fc3 = count_nonzero_weights_above_threshold(model.out, threshold=threshold_value)\n",
    "\n",
    "print(f'Number of non-zero weights greater than {threshold_value} in layer 1: {nonzero_fc1}')\n",
    "print(f'Number of non-zero weights greater than {threshold_value} in layer 1: {nonzero_fc2}')\n",
    "print(f'Number of non-zero weights greater than {threshold_value} in layer 3: {nonzero_fc3}')"
   ]
  },
  {
   "cell_type": "code",
   "execution_count": 136,
   "metadata": {},
   "outputs": [
    {
     "name": "stdout",
     "output_type": "stream",
     "text": [
      "[2893853803.542538, 0.7743840688374725, 0.15327378251721147, 4363463979.188818, 0.23161942609205546, 0.47290345547186563, 36.44272420907972, 1071672895.9522369, 45837854.49765989, inf, 2.200902942338823, 0.48209915534595094, 0.5488350159784883, 12450.125903528096, 380300.58038768196, 0.3411031896151947, 2277649.8247639686, 30844391021.445393, 2.896793785265923, 670176960077380.1, 6.1593039640208056e+16, 704732.9358396642, 0.9964155072820429, 773593249.6231209, 12850223485.958473, 0.5503743903211428, 965465.4625200983, 5801.063825289424, 1.7168919285740556, 2.0128484291688947e+18, 0.6277540668348608, 0.6903948557062558, 7272879325.183849, 0.7642795694384322, inf, 8890947725268.023, 182176515.36431277, 3684015891687.89, 228.33798324266604, 203.9593523419635, 0.8502541910564336, 0.7829046129678939, 161391900641.01007, 0.5530325152690686, 1.5902231010236582e+16, 2.590008315236794, inf, 5.309785494110715e+19, inf, 2.4462543540121888e+17, 223.0723777773025, 12004082.171549613, 27546208454.183662, 3.42492041657012e+19, 64548.20610007966, 9.110234506624214e+17, 3.1081624698691436e+16, 11876840095.092083, inf, 14256012426.953688, 31096.93628533485, 4.249505621590563e+16, 0.5106047565485115, 0.5235983851190175, 158.23052894251876, 4601266550578.407, 0.7772425923068815, 129.36092201490246, 3747619.999175809, 0.24046945489851093, 35.81451986384456, 0.4906153445877998, 0.9284506385435647, 3556.1963880574685, inf, 328241588458.3041, 6.679705195123515e+18, inf, 0.10698007106589778, 2169.5680100791596, 1.2965406941244737, 74587.51340823562, 505167152156437.0, 1.7348866272511114, 0.39617344344253214, inf, 2822059.4470402393, 928.1852146993192, 0.48037518493050374, 9174288534477.719, 1.0513082291374116, 0.5364093944969829, 9776226586.075552, 1.4269058095696406e+17, 0.3352902384235846, 69.39233500987076, 11804682649702.371, 1.6002083531843962, 0.31462741357539387, inf, 46.74075668302876, 3.999540383266251e+20, 16477489221854.977, 166.35457090115082, 0.1362599370031487, 0.17460480104323317, 28981442681201.176, 62.17469989699628, 0.7507251826861696, 985414.4069072286, 4.33949549116112e+18, 1.1852717102231736, 0.4072326444304673, 2.5860384224550135, 0.5577236855102817, 5.645707320300085, 0.5070179251125677, 1001828701007.4955, 3.060102089256754, 4.867250324662333e+16, 0.9903192611308209, 22063924758.13804, 228829351177.69135, 0.8139934669351271, inf, inf, 380617.11418770713, 0.3627645365356361, 8.198614994446086e+17, 2875976.650391588, 0.22168141177156495, 0.6515386839110793, 0.3300475504119659, 8439.962760434746, 514035732.2802897, 91528.74465750583, 0.5336048538140672, 1.6555796675872079, 0.9980382845196911, 1.4264312158579974e+16, 0.6532903484372191, 0.43291254435962645, 6012501.89372909, 23560139054282.93, 59975898929754.99, 678729743334699.6, 0.43291762922323795, 0.6031887926592028, 0.4155703479233607, 1.8198674247155662, 25.046940362879905, 526401598.34659004, 25.316039530338934, 454.713338049832, 199.33891344446843, 1.7017877566616107e+19, 2.3728991354919455, 1.106004161336472, 0.815820209995203, 0.5926074724800319, inf, 6.145701105642512, 3.244833160967227e+17, 0.6231088601704364, 0.39816047251510983, 1600944406695500.2, 149.2669639066065, 6.938218722048583, 0.4495283684782919, 5.831854092162949, 0.2650812909727105, 0.4773868918503221, 0.47655294372366186, 0.5343067656723025, 607.4018084819143, 0.5140030621124474, 2.7292291863910614, 0.9843585099956484, 4.072742466287193e+17, inf, 0.13586841845309805, inf, 2169986.648614866, 292865128613.38983, 0.8030856436560119, 0.16825658911614216, inf, 0.24601194676691102, 64.11241567012529, 13542170.33474479, 167.0054130546136, 1.1441010406057284e+19, 160829388639.1409, inf, 3332.7172869934093, 0.6068396133257836, inf, 2246571045176.2915, 2.4296672439371572e+16, 4.2024783180769765, 44617707.00968721, 6.32740347757548e+18, 3539.959821064775, 1.4489068479242022, 4170651.920375655, 0.4116543868753853, 20635.43654202472, 229.3283326510827, inf, 0.5372888873399909, 12242.29132342207, 0.523665785571426, 1.653691541861308, 4055557.5153030595, 1.4850313740389132, 0.4985867554586744, 0.5017226932853692, 0.6217606026695693, 0.7324912430531848, 11.231149512920592, inf, 399.9101317667224, 3752230769385.876, 486.84803289585017, 0.9109110930494623, 0.679738657623878, 11562733737.728098, 109479291924.4468, 0.5670852949030049, 0.8218877115581377, 296104636316.6943, 0.5949275621325525, 3.126614796492093, inf, inf, 3830.3469846573994, 2.7059050251083843, 0.8127094384673246, 116609.24747601182, 14385679663221.785, 0.9411484842643195, 4.233452970475362e+17, 1273800915340138.2, 2.7305376347120456, 0.4655541059069259, inf, 0.58216708722324, 4553.677959452607, 1934642.4118136764, 0.49739282828362563, 0.47622269216998175, 298411050.9697499, 13285.983874647593, 57060.40276349805, 3.249414337794347, 193718734.83678472, 0.5619701488643973, 0.23567548464674862, 3.1583542065454564, 5.901260904317677, inf, inf, 72995480428232.62, 11888645.868704233, 62624.579913063746, 0.3589270653334425, 0.5076944848676785, 2.5113057286683107, 306.6468619414827, 0.4611370939687375, 6.440189708258614e+17, 0.5181424116784317, 2459846550668.563, 2076.0160839167734, inf, 96.8081122725741, 673138261247409.2, 208835.16915180595, 318.70760830723844, 0.8360019671654477, 8.468949907074498, 3108538636489920.5, 14585795.666123439, inf, 0.5422424506864851, 1.3406791167807058e+19, 0.7089343067661014, 0.2900090922124966, 61496450981.68287, 50183.53143372885, 1.4454938336697678e+19, 372186956.433004, 205408996.93523332, 11652495.795864977, 263035660625.98755, 23047.902627311618, 0.44123169387327377, 2654521440843.5435, inf, inf, 1.9231916193798275, 7566.817375498956, 399.5492030912097, 99359804.11692639, 4.647143911757003, inf, 8177250394149242.0, 324196808.7519656, 13.62635503804254, 149728046.29259902, 3.602122490337329e+19, 875311105772.0298, 0.25330511838411646, 0.4842958267080887, 3.465694678203308e+18, 1.4397971637272555, 233868871229.76343, 4583.278001682318, inf, 0.3428282062582598, 1.2470018300722914, 323598.0676459827, 5.661028889021675e+17, 1903760459151603.5, 5631864.56272512, 0.7034815146755422, 1490.186562336766, 0.8694249517893584, 0.4850823119873534, 6380006111931009.0, inf, 821351.395645276, 0.3545994831161037, 59262961862428.25, 5995580896.463014, 32.64417993729959, 1593.5830353527772, 1544544897891.8943, 9.981127315126742e+19, inf, 2948750448687.142, 118185456092.11264, inf, inf, 0.4634647009849229, 2.475392803258056, 1.0995712024363156, 22.4332739645595, 503065.60274560814, 2.0314397877355215, 4403.009934618049, inf, inf, inf, 0.35670220503229066, 585137416077.1241, 307.02607191894265, inf, 1.159225766078994, 0.3874822839519248, 466864.44732156966, 3.88613848239878e+16, 1.8177466001146227e+18, 0.6840178436305968, 165.662420404733, 374986.98834960477, 2.053647644211313, 416006162.30698854, 0.2408039976379494, inf, 2645855536192.737, 22316.817007424295, 1.8699449115388787, 6.213290416708471, 72213037.43099685, 24535274590.002068, 201.75259396169804, 0.6594913147037853, 1874.804932772872, 186477192291.79843, 7.78642247745927e+17, 2604394697.900472, 331.74763837354124, 0.23596501508798096, inf, 0.2520079700239583, 2.80949915305332, 330400417.28458166, 6382.322282261967, inf, 128.29428579289888, 3.90770038950121, 8.765566438173693e+16, 3.2527265063636466, 326713220012.7987, 9363362.474845259, 1.0346826316790136, 23785.046671650252, 30953474099.977943, 0.2551107197418527, 141773340814872.66, 4411570.4777700165, 155.5417423197271, 2984.1853214443695, 1.467392849953092, 2.4443870330397113, 49.70933388557867, 4421024.27440673, 30640.54212768525, inf, 86526.01864070779, 1.527951938375485e+17, 1119038.6275595257, 3.365106830646249, 16223665.889894333, inf, 0.7113731602417959, 0.7243025701950441, 2281790.2446152093, 1736297.6615373236, 10147157.058814697, 15702975633.6715, 107451103.52876596, 1.3689083184821609, 2.1604170992379466, 74471477771072.5, 11.473500653821308, 10.968527241967806, inf, 0.2114255908965376, 1.3477985885454853e+18, 456719.3398468828, 1.3452358019587514, 12.878029774602496, 2293157.829067783, 0.2169194293760734, 13.60340326033393, 1.3735564752117178, 0.29800955764795434, 1051186.4605042308, inf, 386069.30302694853, 2.667267556922437, 2.16227420436267, 1783324.8733406176, 65.55831255474546, 0.18868466089164243, 312715240227450.0, 7106646657495890.0, inf, 4195438.293473819, 4.448624642673683, inf, inf, 2222.501775741778, 0.18112230597102585, 126082499.61604328, inf, 0.292980994888958, inf, 219.59254940834373, 0.5144141588037431, 0.8210363134676676, 3785679591723.489, 681027.9794042435, 296795148189220.7, 0.5433411965882146, 4421.845307128777, 50257.89705529048, 4.727887276377898e+17, 4.9545823518705, 3.415644222087157e+17, 0.36427677177571083, 0.8567366574476161, 6111893.656471896, 36.68665872181724, inf, 917110015.4552639, 2046441004487.9248, inf, 0.4676957994175592, 2532.060838095031, 0.2690901462469163, 67126597638967.336, 3.0377380364202132e+16, inf, 148812282.37610328, 0.13221235397057396, 154243482.66615623, inf, 3.8095431049602746e+17, 16455795.153760945, 1.0399425175476656e+16, 3.756370610746109, 111.85012718260437, inf, 1225348368.3502498, inf, 0.49296846216564416, 22236.132848781024, 1.2392763759825594, 0.5267130060838494, 2.5484427586720952e+19, inf, 688.6164071286037, 315.45510616655076, 23289577.641212, 6809561.526760966, 0.4342026101373902, 69546.00532048054, 0.4751396028696977, 1610739.239448934]\n",
      "torch.Size([512])\n",
      "[0.0, 0.3294606945405567, 0.1343064871147111, 0.5101767059362879, 0.41322668911672145, 1.5121278970424299e-07, 1.5016410365024908, 0.4238272371418236, 0.39030517503777623, 0.0, 42.07758918164749, 0.07108471811533963, 5.567463240276442, 0.10618386328514588, 0.36526926360006234, 0.4790067147765709, 0.29768815187899056, 0.4240397415757174, 0.0027440220790592522, 0.2216181413116483, 0.26448011716013725, 0.20536252185097653, 0.6217111229346168, 0.654858747333157, 0.7568047605114213, 1.4204745643768566, 0.3687536472822194, 3.189927237955518e-08, 0.5146719008621636, 1.1852420360279181, 0.8069005282224679, 0.6885151722419357, 0.2475845619368535, 0.00018924362446473629, 2.4142464208342345, 3.0531403258497885e-09, 0.4795926851209506, 3.481460979386939, 0.15654716011455144, 0.07861278803758955, 121.54477127777187, 0.024155899097410137, 0.0004874095753689362, 0.006631747150410168, 0.43857709579262527, 0.03971495031295684, 0.7271171658030432, 1.6010488979863313, 0.04850157162991805, 4.492096140119767, 0.0, 0.38226949735377075, 0.1432298109612452, 0.38268125905091277, 0.6469554628533851, 1.1986068169724122, 0.0900001076901452, 0.05037673519052435, 0.00011671165169178273, 0.27400862255675573, 0.4613069235514483, 1.4906359223213308, 0.7318551471205397, 0.0038048054523760924, 0.7631872748704884, 1.4277772235909203, 0.6724801314024575, 0.9361502892075642, 0.33022879495044355, 0.7319073234132659, 0.38367696427223646, 1.5771913016616266, 0.6066658688729517, 0.00013499241105418777, 0.9841825524686866, 0.5244867680876691, 23.73895939365399, 0.0010826863409535011, 3.094887129699354, 1.2177624253311912, 1.1242921208433596, 4.238895699791832, 0.10326422454234437, 0.23441169929810488, 2.091806325947423, 0.3945068417112043, 4.99445487689373e-05, 0.0017897683030763775, 0.8135071764712954, 0.2896688154474152, 1.2460736731051312, 1.7513988230932737e-11, 0.727274584737687, 0.6998618531527906, 0.17924751369553202, 0.5817944323466681, 0.7954313398566272, 0.28806693819324053, 48.04603929408917, 0.4910281776735871, 1.395462287230974, 34.695706663283154, 0.24135306151937488, 0.0, 0.29197089750686134, 0.11296395176630525, 0.025611195014643387, 0.8362140593316061, 0.4475903978770279, 1.0266246908549839, 16.29889459946092, 0.12517231271306645, 1.46261835411047, 3.1461931213401053, 2.67151610496218, 13.004790614490178, 0.561742986881408, 0.6384237305859861, 0.053655181718816725, 8.887449918973004e-08, 0.5070850538632198, nan, 0.4931402014847804, 1.194067918217159, 0.005160624562929232, 0.05700674443058536, 0.4262341437701849, 2.2460862349495625, 0.7764020054177584, 0.00010498523318459255, 2.1743889060486112, 0.457471651041541, 2.5335676679454466, 0.13347690758304914, 0.7087375863656817, 0.4802175910522322, 0.40334356771537705, 0.0012531293105207894, 3.9624413929989433, 0.5470244497769519, 1.6791656772442938, 1.3962878001441652, 0.47059556777658845, 0.0028628606058923537, 0.21895862576922082, 0.3042612312414991, 0.2598585441088835, 2.293780977450569, 0.337429968350077, 11.773971016114166, 5.526411450597506e-05, 0.9586021071819328, 0.3268551586601808, 4.015644891720564, 0.04566878760777293, 0.4215684907701888, 0.22165781442042606, 0.3893170503459632, 4.220096159373461e-08, 0.04234794508384386, 0.3271341132176444, 0.5790387793095122, 0.6976742966524173, 7.914731423345697e-06, 0.44633709470066335, 1.3170152270315638, 0.00013262793829950896, 0.43323507980628473, 0.47949045796166223, 6.3523436731794805, 0.4013328734665908, 0.6228806053479218, 0.2305202432613942, 0.0, 0.6906503160788916, 0.6964965788319064, 0.4294968043889955, 0.0015491209011723344, 0.003582345007693962, 0.6530360032114415, 1.0381180522752853, 8.140497546105065e-07, 0.26148926021900987, 3.840535364923336, 0.4513909333729049, 0.004076530109308296, 0.4142851236858101, 1.261209322650457, 0.8329582825671031, 0.29448573580559917, 6.1558247076482974e-09, 0.5015856218679099, 0.4266496428123483, 0.3660025444219002, 0.0, 0.6271769230901989, 1.1748359425349222, 1.5002433152785988, 0.42594686582912783, 0.0, 1.2866198330354837, 0.562972819964274, 19627.08247600886, 0.004003719967579315, 0.4407857326990055, 34.10776306729427, 2.6768776164943655e-05, 0.5010926350769598, 0.65992797604046, 1.14441874341751, 1.7186125339512894, 3.764154024430734, 1.7601584036197788, 1.913552157714653, 0.804544173868997, 0.23449460827451518, 1.8480133638506707e-05, 2.357621694677535, 1.7327544504896697, 0.021409005628295275, 0.2584883230929407, 57.14055862498194, 2.777200018864636, 0.33739217073620037, 0.5543722752006257, 6.776193163787844e-06, 0.7311107753913784, 8.280544323147556e-11, 1.0443613261453366, 0.026855662075180944, 0.025350535351325948, 0.0001293610535293241, 0.9273480869447231, 0.6988728971611966, 3.2974631399949765, 0.0, 3.680520228119375, 16.340126311426282, 0.5262166175717892, 0.49896877645034154, 0.21360453003644103, 1.3609641692404431e-05, 1.5412347290020063e-05, 0.31791315271613285, 1.1619243422961112, 0.4758536763426294, 0.00022419601372734358, 0.8358735244404788, 0.009974521963873915, 0.4270432310795435, 0.11098201488900895, 0.003163518847061122, 0.0032388139100355145, 9889.291131608958, 0.06143662360189636, 1.0979976551714696]\n",
      "torch.Size([256])\n",
      "[0.9780304674565072, 0.4504637074508724, 0.4666497805653692, 0.0013921842885338614, 0.5050072570314513, 1.2113297028791359e-08, 0.9891598532753729, 0.4496116100582743, 0.03129157793086042, 0.6002670142936987, 3.8293818166330607e-11, 1.2518542347152866, 3.0110810999107185e-15, 0.9943233957762092, 1.0602158563853163, 0.869247388248704, 0.014800503092736795, 0.6338322277158043, 0.4156382877538162, 0.9016233548613346, 0.08450135037500173, 0.016550207893803615, 1.9027056216558353e-06, 2.8444069191283918e-11, 0.02822477955480108, 2.053586088545792, 0.0015748869669457777, 0.0004993653518661727, 0.006762216293722919, 5.434860190306942e-05, 7.152182349197514e-07, 0.004188230890270088, 0.27433279961674806, 1.056158657531902, 0.8281717450706556, 2.3550389554089347e-06, 0.0026540944828173643, 0.13266108943815086, 0.009822143594932196, 0.7963881166815964, 0.33205997124280523, 1.3769156184513202e-05, 0.8124051681045761, 0.3809299854772484, 0.06764039901442011, 0.025906803256064818, 3.922481779300242e-05, 0.00017305273915285655, 1.7716214744456296e-10, 0.7231404004556916, 0.47922064123610775, 0.594190348525451, 0.00042848289170826294, 0.16016301986608625, 0.3257887383153306, 0.3093067516351696, 0.006090713794363245, 0.7649413466136095, 1.3205976059543556, 0.0015006010870146653, 0.1646013947389822, 0.20716734716729698, 0.9486640671816454, 0.4019268958182889, 0.6859890144569635, 0.005437246850405885, 0.8974468970776271, 0.7031268622163904, 0.30273266924708225, 0.5763865757941883, 0.0635470647138821, 1.4699870780839162e-07, 9.2958402709938e-06, 0.004169046784443068, 0.82879639253615, 0.0006755276872152682, 0.0015770178162721421, 8.357151366929219e-06, 0.03792869922056224, 0.5812418983544144, 0.007383762793302453, 2.502564194208751e-09, 0.007243393447635449, 8.538483398045073e-07, 2.1810724307717714e-10, 29.50303911783437, 1.1440885163942606e-13, 0.003195860241103084, 0.00010933439236696979, 0.23129707238472258, 0.04515448993709154, 0.02940279964696306, 0.18972129743254756, 0.00013501567576246508, 0.9968476441369208, 0.13498924827145717, 1.032246578635857, 0.31407942457449667, 0.7925219198777547, 0.06345487260510255, 0.0, 0.002744605188908321, 0.3547184219995456, 0.00021958346316668868, 0.6568405025777864, 0.04212222197527925, 5.849113998601097e-05, 0.24105126785422348, 0.645130314146759, 0.004146652995817776, 0.025836546953692863, 0.8098222041828065, 0.045752232289417674, 0.8134642977570729, 9.572401190656985e-05, 0.0012995917714103953, 2.1409253781165262e-07, 0.005174822973226048, 0.9668295238638979, 0.06674274113554979, 0.3247774808803864, 0.7163638454691177, 0.05792750055618918, 5.365983907682572e-08, 0.8270709006064212, 0.20169286663279926, 1.7290410707318509, 0.6859822176929353]\n",
      "torch.Size([128])\n",
      "[0.7341541560950293, 7.409670911605227e-10, nan, 0.7642186607263162, 0.7087013259393035, 0.7895585708904506, 8.774046371514842, inf, 2.0326993635666177, 0.6731149120930461, 8.248040629284232e-11, 0.7709449573826312, 1.0951222542513457e-07, 0.0, 0.04681701866322111, 1.053331004650241e-06, 0.7158863811598009, 0.8816867486673444, 0.008492758207138133, 25.568021067136335, 0.762978274541726, 0.037991246472801894, 1.704923746781554, 2.8062547327157783e-08, 3.074257109881749e-05, 0.003507926473207887, 1.1434596856454533, 0.000769057573328626, 3.7757510970595834e-11, 0.1805437527574706, 3.8378885549736705, 0.8180998996251427, 0.5709745691079047, 0.08078932621351788, 8.818841357996488e-09, 3.1566079281480525e-08, 0.8818816066571734, 0.779776072845434, 3.2990465278241583, 0.06449081567883654, 0.6147410808550612, 0.0056379993402464815, 0.1341030891092474, 0.0, 0.1876444264043904, 2.0446922154098864e-08, 0.7933901428861929, 5.377729758236096, 8.261650503647786, 0.8245675255028451, 0.8380547130155253, 0.9382901936859791, 0.75367453056059, 0.7097738060646317, 0.8397798009593817, 0.8681847443577727, 0.7942557632691154, 1.0004408870475371e-10, 0.00201382820445535, 0.7128124103256964, 321.80204700368364, 1.3856739654523942, 0.2831763780064702, 0.020978956848766477]\n",
      "torch.Size([64])\n"
     ]
    },
    {
     "name": "stderr",
     "output_type": "stream",
     "text": [
      "/var/folders/d1/pxwd2rcj41j7b2lhnz909xn80000gn/T/ipykernel_67757/2415192822.py:5: RuntimeWarning: divide by zero encountered in scalar divide\n",
      "  norms.append(np.sqrt(torch.sum(torch.square(lay[i][1].weight.data[:,j])).item())/np.sqrt(torch.sum(torch.square(lay[i-1][1].weight.data[j])).item()))\n",
      "/var/folders/d1/pxwd2rcj41j7b2lhnz909xn80000gn/T/ipykernel_67757/2415192822.py:5: RuntimeWarning: invalid value encountered in scalar divide\n",
      "  norms.append(np.sqrt(torch.sum(torch.square(lay[i][1].weight.data[:,j])).item())/np.sqrt(torch.sum(torch.square(lay[i-1][1].weight.data[j])).item()))\n"
     ]
    }
   ],
   "source": [
    "for i in range(len(lay)):\n",
    "    if i > 0 and i <= len(lay)-1:\n",
    "        norms = []\n",
    "        for j in range(lay[i-1][1].weight.shape[0]):\n",
    "            norms.append(np.sqrt(torch.sum(torch.square(lay[i][1].weight.data[:,j])).item())/np.sqrt(torch.sum(torch.square(lay[i-1][1].weight.data[j])).item()))\n",
    "        print(norms)\n",
    "        norms = torch.tensor(norms)\n",
    "        print(norms.shape)"
   ]
  },
  {
   "cell_type": "code",
   "execution_count": 137,
   "metadata": {},
   "outputs": [
    {
     "data": {
      "image/png": "[encoded data removed]",
      "text/plain": [
       "<Figure size 1600x1000 with 1 Axes>"
      ]
     },
     "metadata": {},
     "output_type": "display_data"
    }
   ],
   "source": [
    "epochs_plot = list(range(100))\n",
    "\n",
    "plt.figure(figsize=(16, 10))\n",
    "plt.plot(epochs_plot, acc, linestyle='-', color='b', label='acc')\n",
    "\n",
    "plt.xlabel('Epochs', fontsize=14)\n",
    "plt.ylabel('Accuracy', fontsize=14)\n",
    "plt.title('Model Accuracy Over Epochs', fontsize=14)\n",
    "\n",
    "plt.xticks(fontsize=14)\n",
    "plt.yticks(fontsize=14)\n",
    "\n",
    "plt.grid(True)\n",
    "\n",
    "plt.legend(fontsize=14)\n",
    "\n",
    "plt.show()"
   ]
  },
  {
   "cell_type": "code",
   "execution_count": 138,
   "metadata": {},
   "outputs": [],
   "source": [
    "import pickle\n",
    "with open('l2regularization0.pkl', 'wb') as f:\n",
    "    pickle.dump(acc, f)\n",
    "\n",
    "with open('l2regularizationTrainAcc0.pkl', 'wb') as f:\n",
    "    pickle.dump(tacc, f)\n",
    "\n",
    "torch.save(model.state_dict(), 'l2Model0.pt')"
   ]
  }
 ],
 "metadata": {
  "kernelspec": {
   "display_name": "Python 3",
   "language": "python",
   "name": "python3"
  },
  "language_info": {
   "codemirror_mode": {
    "name": "ipython",
    "version": 3
   },
   "file_extension": ".py",
   "mimetype": "text/x-python",
   "name": "python",
   "nbconvert_exporter": "python",
   "pygments_lexer": "ipython3",
   "version": "3.11.2"
  }
 },
 "nbformat": 4,
 "nbformat_minor": 2
}
