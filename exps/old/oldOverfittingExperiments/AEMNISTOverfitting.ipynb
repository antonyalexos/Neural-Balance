{
 "cells": [
  {
   "cell_type": "code",
   "execution_count": 211,
   "metadata": {},
   "outputs": [],
   "source": [
    "import torch\n",
    "import torch.nn as nn\n",
    "import torch.optim as optim\n",
    "import numpy as np\n",
    "from torchvision.datasets import MNIST\n",
    "from torch.utils.data import DataLoader\n",
    "from torchvision import transforms\n",
    "import torch.nn.functional as F\n",
    "import os\n",
    "from tqdm import tqdm\n",
    "\n",
    "class SingleLayerNN(nn.Module):\n",
    "    def __init__(self):\n",
    "        super(SingleLayerNN, self).__init__()\n",
    "        self.fc = nn.Linear(784, 512) \n",
    "        self.fc0 = nn.Linear(512, 256)\n",
    "        self.fc1 = nn.Linear(256, 128)\n",
    "        self.fc2 = nn.Linear(128, 64)\n",
    "        self.out = nn.Linear(64, 10)\n",
    "\n",
    "    def forward(self, x):\n",
    "        x = torch.relu(self.fc(x)) \n",
    "        x = torch.relu(self.fc0(x))\n",
    "        x = torch.relu(self.fc1(x))\n",
    "        x = torch.relu(self.fc2(x))\n",
    "        x = self.out(x)  \n",
    "        return x\n",
    "\n",
    "model = SingleLayerNN()\n",
    "\n",
    "\n",
    "criterion = nn.MSELoss() \n",
    "optimizer = optim.Adam(model.parameters(), lr=0.01)  \n"
   ]
  },
  {
   "cell_type": "code",
   "execution_count": 212,
   "metadata": {},
   "outputs": [],
   "source": [
    "#torch.manual_seed(7)"
   ]
  },
  {
   "cell_type": "code",
   "execution_count": 213,
   "metadata": {},
   "outputs": [
    {
     "name": "stderr",
     "output_type": "stream",
     "text": [
      "/var/folders/d1/pxwd2rcj41j7b2lhnz909xn80000gn/T/ipykernel_64051/112231088.py:4: UserWarning: To copy construct from a tensor, it is recommended to use sourceTensor.clone().detach() or sourceTensor.clone().detach().requires_grad_(True), rather than torch.tensor(sourceTensor).\n",
      "  x_train = torch.tensor(x_train, dtype=torch.float32)\n",
      "/var/folders/d1/pxwd2rcj41j7b2lhnz909xn80000gn/T/ipykernel_64051/112231088.py:5: UserWarning: To copy construct from a tensor, it is recommended to use sourceTensor.clone().detach() or sourceTensor.clone().detach().requires_grad_(True), rather than torch.tensor(sourceTensor).\n",
      "  y_train = torch.tensor(y_train, dtype=torch.float32)\n"
     ]
    }
   ],
   "source": [
    "train_dataset = MNIST(os.getcwd(), train=True, download=True, transform=[transforms.ToTensor(), transforms.Normalize((0.5,), (0.5,))])\n",
    "x_train = train_dataset.data / 255.0\n",
    "y_train = F.one_hot(train_dataset.targets, num_classes=10)\n",
    "x_train = torch.tensor(x_train, dtype=torch.float32)\n",
    "y_train = torch.tensor(y_train, dtype=torch.float32)\n",
    "x_train = x_train.view(-1, 784)\n",
    "dtrain = torch.utils.data.TensorDataset(x_train, y_train)\n",
    "trainloader = DataLoader(dtrain, batch_size=256, shuffle=True)"
   ]
  },
  {
   "cell_type": "code",
   "execution_count": 214,
   "metadata": {},
   "outputs": [
    {
     "name": "stderr",
     "output_type": "stream",
     "text": [
      "/var/folders/d1/pxwd2rcj41j7b2lhnz909xn80000gn/T/ipykernel_64051/3473755828.py:4: UserWarning: To copy construct from a tensor, it is recommended to use sourceTensor.clone().detach() or sourceTensor.clone().detach().requires_grad_(True), rather than torch.tensor(sourceTensor).\n",
      "  x_test = torch.tensor(x_test, dtype=torch.float32)\n",
      "/var/folders/d1/pxwd2rcj41j7b2lhnz909xn80000gn/T/ipykernel_64051/3473755828.py:5: UserWarning: To copy construct from a tensor, it is recommended to use sourceTensor.clone().detach() or sourceTensor.clone().detach().requires_grad_(True), rather than torch.tensor(sourceTensor).\n",
      "  y_test = torch.tensor(y_test, dtype=torch.float32)\n"
     ]
    }
   ],
   "source": [
    "testDataset = MNIST(os.getcwd(), train=False, download=True, transform=[transforms.ToTensor(), transforms.Normalize((0.5,), (0.5,))])\n",
    "x_test = testDataset.data / 255.0\n",
    "y_test = F.one_hot(testDataset.targets, num_classes=10)\n",
    "x_test = torch.tensor(x_test, dtype=torch.float32)\n",
    "y_test = torch.tensor(y_test, dtype=torch.float32)\n",
    "x_test = x_test.view(-1, 784)\n",
    "dtest = torch.utils.data.TensorDataset(x_test, y_test)\n",
    "testloader = DataLoader(dtest, batch_size=256, shuffle=True)"
   ]
  },
  {
   "cell_type": "code",
   "execution_count": 215,
   "metadata": {},
   "outputs": [],
   "source": [
    "def neuronalNeuralBalance(inl, oul):\n",
    "\n",
    "    ninc = torch.zeros_like(inl.weight)\n",
    "    noul = torch.zeros_like(oul.weight)\n",
    "\n",
    "    for i in range(inl.weight.data.shape[0]):\n",
    "        inc = np.sqrt(torch.sum(torch.square(inl.weight.data[i])).item())\n",
    "        outg = np.sqrt(torch.sum(torch.square(oul.weight.data[:,i])).item())\n",
    "\n",
    "        # outg = outg / float(len(oul.weight.data[:,i]))\n",
    "        # inc = inc / float(len(inl.weight.data[i]))\n",
    "\n",
    "        opt = np.sqrt(outg/inc)\n",
    "\n",
    "        ninc[i] = inl.weight.data[i]*opt\n",
    "        noul[:, i] = oul.weight.data[:,i]/opt\n",
    "\n",
    "    inl.weight.data = ninc\n",
    "    oul.weight.data = noul\n"
   ]
  },
  {
   "cell_type": "code",
   "execution_count": 216,
   "metadata": {},
   "outputs": [
    {
     "name": "stdout",
     "output_type": "stream",
     "text": [
      "Linear\n",
      "Linear\n",
      "Linear\n",
      "Linear\n",
      "Linear\n"
     ]
    },
    {
     "name": "stderr",
     "output_type": "stream",
     "text": [
      "100%|██████████| 235/235 [00:01<00:00, 145.38it/s]\n"
     ]
    },
    {
     "name": "stdout",
     "output_type": "stream",
     "text": [
      "Epoch 0/100, Loss: 0.01541165728121996, train dataset accuracy: 75.41833333333334\n",
      "test dataset accuracy: 90.42%\n"
     ]
    },
    {
     "name": "stderr",
     "output_type": "stream",
     "text": [
      "100%|██████████| 235/235 [00:01<00:00, 146.98it/s]\n"
     ]
    },
    {
     "name": "stdout",
     "output_type": "stream",
     "text": [
      "Epoch 1/100, Loss: 0.010382642038166523, train dataset accuracy: 91.0\n",
      "test dataset accuracy: 91.53%\n"
     ]
    },
    {
     "name": "stderr",
     "output_type": "stream",
     "text": [
      "100%|██████████| 235/235 [00:01<00:00, 153.62it/s]\n"
     ]
    },
    {
     "name": "stdout",
     "output_type": "stream",
     "text": [
      "Epoch 2/100, Loss: 0.011295842938125134, train dataset accuracy: 92.04666666666667\n",
      "test dataset accuracy: 91.99%\n"
     ]
    },
    {
     "name": "stderr",
     "output_type": "stream",
     "text": [
      "100%|██████████| 235/235 [00:01<00:00, 160.85it/s]\n"
     ]
    },
    {
     "name": "stdout",
     "output_type": "stream",
     "text": [
      "Epoch 3/100, Loss: 0.011015740223228931, train dataset accuracy: 92.93666666666667\n",
      "test dataset accuracy: 93.06%\n"
     ]
    },
    {
     "name": "stderr",
     "output_type": "stream",
     "text": [
      "100%|██████████| 235/235 [00:01<00:00, 155.12it/s]\n"
     ]
    },
    {
     "name": "stdout",
     "output_type": "stream",
     "text": [
      "Epoch 4/100, Loss: 0.013883803971111774, train dataset accuracy: 93.57166666666667\n",
      "test dataset accuracy: 93.28%\n"
     ]
    },
    {
     "name": "stderr",
     "output_type": "stream",
     "text": [
      "100%|██████████| 235/235 [00:01<00:00, 159.44it/s]\n"
     ]
    },
    {
     "name": "stdout",
     "output_type": "stream",
     "text": [
      "Epoch 5/100, Loss: 0.00728924386203289, train dataset accuracy: 93.84333333333333\n",
      "test dataset accuracy: 93.29%\n"
     ]
    },
    {
     "name": "stderr",
     "output_type": "stream",
     "text": [
      "100%|██████████| 235/235 [00:01<00:00, 157.73it/s]\n"
     ]
    },
    {
     "name": "stdout",
     "output_type": "stream",
     "text": [
      "Epoch 6/100, Loss: 0.007506383117288351, train dataset accuracy: 94.005\n",
      "test dataset accuracy: 93.51%\n"
     ]
    },
    {
     "name": "stderr",
     "output_type": "stream",
     "text": [
      "100%|██████████| 235/235 [00:01<00:00, 164.30it/s]\n"
     ]
    },
    {
     "name": "stdout",
     "output_type": "stream",
     "text": [
      "Epoch 7/100, Loss: 0.00586546678096056, train dataset accuracy: 94.165\n",
      "test dataset accuracy: 93.39%\n"
     ]
    },
    {
     "name": "stderr",
     "output_type": "stream",
     "text": [
      "100%|██████████| 235/235 [00:01<00:00, 151.66it/s]\n"
     ]
    },
    {
     "name": "stdout",
     "output_type": "stream",
     "text": [
      "Epoch 8/100, Loss: 0.008793581277132034, train dataset accuracy: 94.48\n",
      "test dataset accuracy: 93.88%\n"
     ]
    },
    {
     "name": "stderr",
     "output_type": "stream",
     "text": [
      "100%|██████████| 235/235 [00:01<00:00, 155.79it/s]\n"
     ]
    },
    {
     "name": "stdout",
     "output_type": "stream",
     "text": [
      "Epoch 9/100, Loss: 0.009090087376534939, train dataset accuracy: 94.50333333333333\n",
      "test dataset accuracy: 94.05%\n"
     ]
    },
    {
     "name": "stderr",
     "output_type": "stream",
     "text": [
      "100%|██████████| 235/235 [00:01<00:00, 160.93it/s]\n"
     ]
    },
    {
     "name": "stdout",
     "output_type": "stream",
     "text": [
      "Epoch 10/100, Loss: 0.008165483362972736, train dataset accuracy: 94.705\n",
      "test dataset accuracy: 93.95%\n"
     ]
    },
    {
     "name": "stderr",
     "output_type": "stream",
     "text": [
      "100%|██████████| 235/235 [00:01<00:00, 160.85it/s]\n"
     ]
    },
    {
     "name": "stdout",
     "output_type": "stream",
     "text": [
      "Epoch 11/100, Loss: 0.002461464377120137, train dataset accuracy: 94.80166666666666\n",
      "test dataset accuracy: 94.04%\n"
     ]
    },
    {
     "name": "stderr",
     "output_type": "stream",
     "text": [
      "100%|██████████| 235/235 [00:01<00:00, 143.78it/s]\n"
     ]
    },
    {
     "name": "stdout",
     "output_type": "stream",
     "text": [
      "Epoch 12/100, Loss: 0.00815834291279316, train dataset accuracy: 94.85\n",
      "test dataset accuracy: 94.0%\n"
     ]
    },
    {
     "name": "stderr",
     "output_type": "stream",
     "text": [
      "100%|██████████| 235/235 [00:01<00:00, 162.62it/s]\n"
     ]
    },
    {
     "name": "stdout",
     "output_type": "stream",
     "text": [
      "Epoch 13/100, Loss: 0.010357454419136047, train dataset accuracy: 94.93833333333333\n",
      "test dataset accuracy: 94.0%\n"
     ]
    },
    {
     "name": "stderr",
     "output_type": "stream",
     "text": [
      "100%|██████████| 235/235 [00:01<00:00, 155.58it/s]\n"
     ]
    },
    {
     "name": "stdout",
     "output_type": "stream",
     "text": [
      "Epoch 14/100, Loss: 0.009600615128874779, train dataset accuracy: 94.97166666666666\n",
      "test dataset accuracy: 93.77%\n"
     ]
    },
    {
     "name": "stderr",
     "output_type": "stream",
     "text": [
      "100%|██████████| 235/235 [00:01<00:00, 158.06it/s]\n"
     ]
    },
    {
     "name": "stdout",
     "output_type": "stream",
     "text": [
      "Epoch 15/100, Loss: 0.008421736769378185, train dataset accuracy: 95.02166666666666\n",
      "test dataset accuracy: 94.11%\n"
     ]
    },
    {
     "name": "stderr",
     "output_type": "stream",
     "text": [
      "100%|██████████| 235/235 [00:01<00:00, 154.67it/s]\n"
     ]
    },
    {
     "name": "stdout",
     "output_type": "stream",
     "text": [
      "Epoch 16/100, Loss: 0.012871806509792805, train dataset accuracy: 95.04\n",
      "test dataset accuracy: 94.31%\n"
     ]
    },
    {
     "name": "stderr",
     "output_type": "stream",
     "text": [
      "100%|██████████| 235/235 [00:01<00:00, 159.61it/s]\n"
     ]
    },
    {
     "name": "stdout",
     "output_type": "stream",
     "text": [
      "Epoch 17/100, Loss: 0.011148764751851559, train dataset accuracy: 95.09833333333333\n",
      "test dataset accuracy: 94.06%\n"
     ]
    },
    {
     "name": "stderr",
     "output_type": "stream",
     "text": [
      "100%|██████████| 235/235 [00:01<00:00, 169.12it/s]\n"
     ]
    },
    {
     "name": "stdout",
     "output_type": "stream",
     "text": [
      "Epoch 18/100, Loss: 0.008269069716334343, train dataset accuracy: 95.05\n",
      "test dataset accuracy: 94.13%\n"
     ]
    },
    {
     "name": "stderr",
     "output_type": "stream",
     "text": [
      "100%|██████████| 235/235 [00:01<00:00, 165.79it/s]\n"
     ]
    },
    {
     "name": "stdout",
     "output_type": "stream",
     "text": [
      "Epoch 19/100, Loss: 0.009595674462616444, train dataset accuracy: 95.19\n",
      "test dataset accuracy: 94.37%\n"
     ]
    },
    {
     "name": "stderr",
     "output_type": "stream",
     "text": [
      "100%|██████████| 235/235 [00:01<00:00, 159.38it/s]\n"
     ]
    },
    {
     "name": "stdout",
     "output_type": "stream",
     "text": [
      "Epoch 20/100, Loss: 0.010649045929312706, train dataset accuracy: 95.23333333333333\n",
      "test dataset accuracy: 94.28%\n"
     ]
    },
    {
     "name": "stderr",
     "output_type": "stream",
     "text": [
      "100%|██████████| 235/235 [00:01<00:00, 160.28it/s]\n"
     ]
    },
    {
     "name": "stdout",
     "output_type": "stream",
     "text": [
      "Epoch 21/100, Loss: 0.006015886086970568, train dataset accuracy: 95.30166666666666\n",
      "test dataset accuracy: 94.16%\n"
     ]
    },
    {
     "name": "stderr",
     "output_type": "stream",
     "text": [
      "100%|██████████| 235/235 [00:01<00:00, 152.35it/s]\n"
     ]
    },
    {
     "name": "stdout",
     "output_type": "stream",
     "text": [
      "Epoch 22/100, Loss: 0.006479053292423487, train dataset accuracy: 95.40833333333333\n",
      "test dataset accuracy: 93.85%\n"
     ]
    },
    {
     "name": "stderr",
     "output_type": "stream",
     "text": [
      "100%|██████████| 235/235 [00:01<00:00, 154.23it/s]\n"
     ]
    },
    {
     "name": "stdout",
     "output_type": "stream",
     "text": [
      "Epoch 23/100, Loss: 0.011836794205009937, train dataset accuracy: 95.21\n",
      "test dataset accuracy: 94.04%\n"
     ]
    },
    {
     "name": "stderr",
     "output_type": "stream",
     "text": [
      "100%|██████████| 235/235 [00:01<00:00, 153.13it/s]\n"
     ]
    },
    {
     "name": "stdout",
     "output_type": "stream",
     "text": [
      "Epoch 24/100, Loss: 0.007615992799401283, train dataset accuracy: 95.27833333333334\n",
      "test dataset accuracy: 94.29%\n"
     ]
    },
    {
     "name": "stderr",
     "output_type": "stream",
     "text": [
      "100%|██████████| 235/235 [00:01<00:00, 155.35it/s]\n"
     ]
    },
    {
     "name": "stdout",
     "output_type": "stream",
     "text": [
      "Epoch 25/100, Loss: 0.004777596332132816, train dataset accuracy: 95.32833333333333\n",
      "test dataset accuracy: 94.36%\n"
     ]
    },
    {
     "name": "stderr",
     "output_type": "stream",
     "text": [
      "100%|██████████| 235/235 [00:01<00:00, 162.29it/s]\n"
     ]
    },
    {
     "name": "stdout",
     "output_type": "stream",
     "text": [
      "Epoch 26/100, Loss: 0.012057231739163399, train dataset accuracy: 95.465\n",
      "test dataset accuracy: 93.57%\n"
     ]
    },
    {
     "name": "stderr",
     "output_type": "stream",
     "text": [
      "100%|██████████| 235/235 [00:01<00:00, 159.33it/s]\n"
     ]
    },
    {
     "name": "stdout",
     "output_type": "stream",
     "text": [
      "Epoch 27/100, Loss: 0.004919711034744978, train dataset accuracy: 95.36833333333334\n",
      "test dataset accuracy: 94.11%\n"
     ]
    },
    {
     "name": "stderr",
     "output_type": "stream",
     "text": [
      "100%|██████████| 235/235 [00:01<00:00, 149.69it/s]\n"
     ]
    },
    {
     "name": "stdout",
     "output_type": "stream",
     "text": [
      "Epoch 28/100, Loss: 0.006817286368459463, train dataset accuracy: 95.41666666666667\n",
      "test dataset accuracy: 94.07%\n"
     ]
    },
    {
     "name": "stderr",
     "output_type": "stream",
     "text": [
      "100%|██████████| 235/235 [00:01<00:00, 156.13it/s]\n"
     ]
    },
    {
     "name": "stdout",
     "output_type": "stream",
     "text": [
      "Epoch 29/100, Loss: 0.006236514542251825, train dataset accuracy: 95.49166666666666\n",
      "test dataset accuracy: 94.13%\n"
     ]
    },
    {
     "name": "stderr",
     "output_type": "stream",
     "text": [
      "100%|██████████| 235/235 [00:01<00:00, 158.51it/s]\n"
     ]
    },
    {
     "name": "stdout",
     "output_type": "stream",
     "text": [
      "Epoch 30/100, Loss: 0.007552477531135082, train dataset accuracy: 95.44333333333333\n",
      "test dataset accuracy: 94.1%\n"
     ]
    },
    {
     "name": "stderr",
     "output_type": "stream",
     "text": [
      "100%|██████████| 235/235 [00:01<00:00, 163.01it/s]\n"
     ]
    },
    {
     "name": "stdout",
     "output_type": "stream",
     "text": [
      "Epoch 31/100, Loss: 0.010061146691441536, train dataset accuracy: 95.40333333333334\n",
      "test dataset accuracy: 94.14%\n"
     ]
    },
    {
     "name": "stderr",
     "output_type": "stream",
     "text": [
      "100%|██████████| 235/235 [00:01<00:00, 152.91it/s]\n"
     ]
    },
    {
     "name": "stdout",
     "output_type": "stream",
     "text": [
      "Epoch 32/100, Loss: 0.010591075755655766, train dataset accuracy: 95.415\n",
      "test dataset accuracy: 93.87%\n"
     ]
    },
    {
     "name": "stderr",
     "output_type": "stream",
     "text": [
      "100%|██████████| 235/235 [00:01<00:00, 153.41it/s]\n"
     ]
    },
    {
     "name": "stdout",
     "output_type": "stream",
     "text": [
      "Epoch 33/100, Loss: 0.005722155794501305, train dataset accuracy: 95.54833333333333\n",
      "test dataset accuracy: 94.27%\n"
     ]
    },
    {
     "name": "stderr",
     "output_type": "stream",
     "text": [
      "100%|██████████| 235/235 [00:01<00:00, 151.95it/s]\n"
     ]
    },
    {
     "name": "stdout",
     "output_type": "stream",
     "text": [
      "Epoch 34/100, Loss: 0.0077875819988548756, train dataset accuracy: 95.61666666666666\n",
      "test dataset accuracy: 94.19%\n"
     ]
    },
    {
     "name": "stderr",
     "output_type": "stream",
     "text": [
      "100%|██████████| 235/235 [00:01<00:00, 154.48it/s]\n"
     ]
    },
    {
     "name": "stdout",
     "output_type": "stream",
     "text": [
      "Epoch 35/100, Loss: 0.008597848936915398, train dataset accuracy: 95.48666666666666\n",
      "test dataset accuracy: 94.71%\n"
     ]
    },
    {
     "name": "stderr",
     "output_type": "stream",
     "text": [
      "100%|██████████| 235/235 [00:01<00:00, 150.59it/s]\n"
     ]
    },
    {
     "name": "stdout",
     "output_type": "stream",
     "text": [
      "Epoch 36/100, Loss: 0.0032899724319577217, train dataset accuracy: 95.71666666666667\n",
      "test dataset accuracy: 94.41%\n"
     ]
    },
    {
     "name": "stderr",
     "output_type": "stream",
     "text": [
      "100%|██████████| 235/235 [00:01<00:00, 163.37it/s]\n"
     ]
    },
    {
     "name": "stdout",
     "output_type": "stream",
     "text": [
      "Epoch 37/100, Loss: 0.012473825365304947, train dataset accuracy: 95.69166666666666\n",
      "test dataset accuracy: 94.33%\n"
     ]
    },
    {
     "name": "stderr",
     "output_type": "stream",
     "text": [
      "100%|██████████| 235/235 [00:01<00:00, 157.86it/s]\n"
     ]
    },
    {
     "name": "stdout",
     "output_type": "stream",
     "text": [
      "Epoch 38/100, Loss: 0.0057939509861171246, train dataset accuracy: 95.695\n",
      "test dataset accuracy: 94.31%\n"
     ]
    },
    {
     "name": "stderr",
     "output_type": "stream",
     "text": [
      "100%|██████████| 235/235 [00:01<00:00, 160.96it/s]\n"
     ]
    },
    {
     "name": "stdout",
     "output_type": "stream",
     "text": [
      "Epoch 39/100, Loss: 0.0044005680829286575, train dataset accuracy: 95.655\n",
      "test dataset accuracy: 94.41%\n"
     ]
    },
    {
     "name": "stderr",
     "output_type": "stream",
     "text": [
      "100%|██████████| 235/235 [00:01<00:00, 150.21it/s]\n"
     ]
    },
    {
     "name": "stdout",
     "output_type": "stream",
     "text": [
      "Epoch 40/100, Loss: 0.004539336543530226, train dataset accuracy: 95.55666666666667\n",
      "test dataset accuracy: 94.38%\n"
     ]
    },
    {
     "name": "stderr",
     "output_type": "stream",
     "text": [
      "100%|██████████| 235/235 [00:01<00:00, 157.05it/s]\n"
     ]
    },
    {
     "name": "stdout",
     "output_type": "stream",
     "text": [
      "Epoch 41/100, Loss: 0.005943254102021456, train dataset accuracy: 95.70666666666666\n",
      "test dataset accuracy: 94.38%\n"
     ]
    },
    {
     "name": "stderr",
     "output_type": "stream",
     "text": [
      "100%|██████████| 235/235 [00:01<00:00, 157.72it/s]\n"
     ]
    },
    {
     "name": "stdout",
     "output_type": "stream",
     "text": [
      "Epoch 42/100, Loss: 0.010004250332713127, train dataset accuracy: 95.50833333333334\n",
      "test dataset accuracy: 94.31%\n"
     ]
    },
    {
     "name": "stderr",
     "output_type": "stream",
     "text": [
      "100%|██████████| 235/235 [00:01<00:00, 156.20it/s]\n"
     ]
    },
    {
     "name": "stdout",
     "output_type": "stream",
     "text": [
      "Epoch 43/100, Loss: 0.004695763811469078, train dataset accuracy: 95.725\n",
      "test dataset accuracy: 94.56%\n"
     ]
    },
    {
     "name": "stderr",
     "output_type": "stream",
     "text": [
      "100%|██████████| 235/235 [00:01<00:00, 147.22it/s]\n"
     ]
    },
    {
     "name": "stdout",
     "output_type": "stream",
     "text": [
      "Epoch 44/100, Loss: 0.012860703282058239, train dataset accuracy: 95.77333333333333\n",
      "test dataset accuracy: 94.36%\n"
     ]
    },
    {
     "name": "stderr",
     "output_type": "stream",
     "text": [
      "100%|██████████| 235/235 [00:01<00:00, 152.79it/s]\n"
     ]
    },
    {
     "name": "stdout",
     "output_type": "stream",
     "text": [
      "Epoch 45/100, Loss: 0.011441509239375591, train dataset accuracy: 95.825\n",
      "test dataset accuracy: 94.26%\n"
     ]
    },
    {
     "name": "stderr",
     "output_type": "stream",
     "text": [
      "100%|██████████| 235/235 [00:01<00:00, 156.19it/s]\n"
     ]
    },
    {
     "name": "stdout",
     "output_type": "stream",
     "text": [
      "Epoch 46/100, Loss: 0.00753583200275898, train dataset accuracy: 95.875\n",
      "test dataset accuracy: 94.03%\n"
     ]
    },
    {
     "name": "stderr",
     "output_type": "stream",
     "text": [
      "100%|██████████| 235/235 [00:01<00:00, 159.78it/s]\n"
     ]
    },
    {
     "name": "stdout",
     "output_type": "stream",
     "text": [
      "Epoch 47/100, Loss: 0.003917874302715063, train dataset accuracy: 95.89666666666666\n",
      "test dataset accuracy: 94.39%\n"
     ]
    },
    {
     "name": "stderr",
     "output_type": "stream",
     "text": [
      "100%|██████████| 235/235 [00:01<00:00, 155.03it/s]\n"
     ]
    },
    {
     "name": "stdout",
     "output_type": "stream",
     "text": [
      "Epoch 48/100, Loss: 0.00581807317212224, train dataset accuracy: 95.84666666666666\n",
      "test dataset accuracy: 94.42%\n"
     ]
    },
    {
     "name": "stderr",
     "output_type": "stream",
     "text": [
      "100%|██████████| 235/235 [00:01<00:00, 159.81it/s]\n"
     ]
    },
    {
     "name": "stdout",
     "output_type": "stream",
     "text": [
      "Epoch 49/100, Loss: 0.0037842877209186554, train dataset accuracy: 95.815\n",
      "test dataset accuracy: 94.31%\n"
     ]
    },
    {
     "name": "stderr",
     "output_type": "stream",
     "text": [
      "100%|██████████| 235/235 [00:01<00:00, 161.90it/s]\n"
     ]
    },
    {
     "name": "stdout",
     "output_type": "stream",
     "text": [
      "Epoch 50/100, Loss: 0.008540288545191288, train dataset accuracy: 95.86333333333333\n",
      "test dataset accuracy: 94.32%\n"
     ]
    },
    {
     "name": "stderr",
     "output_type": "stream",
     "text": [
      "100%|██████████| 235/235 [00:01<00:00, 159.90it/s]\n"
     ]
    },
    {
     "name": "stdout",
     "output_type": "stream",
     "text": [
      "Epoch 51/100, Loss: 0.00915967021137476, train dataset accuracy: 95.86833333333334\n",
      "test dataset accuracy: 94.3%\n"
     ]
    },
    {
     "name": "stderr",
     "output_type": "stream",
     "text": [
      "100%|██████████| 235/235 [00:01<00:00, 152.07it/s]\n"
     ]
    },
    {
     "name": "stdout",
     "output_type": "stream",
     "text": [
      "Epoch 52/100, Loss: 0.008030164986848831, train dataset accuracy: 95.885\n",
      "test dataset accuracy: 94.03%\n"
     ]
    },
    {
     "name": "stderr",
     "output_type": "stream",
     "text": [
      "100%|██████████| 235/235 [00:01<00:00, 158.54it/s]\n"
     ]
    },
    {
     "name": "stdout",
     "output_type": "stream",
     "text": [
      "Epoch 53/100, Loss: 0.0030751009471714497, train dataset accuracy: 95.90333333333334\n",
      "test dataset accuracy: 94.31%\n"
     ]
    },
    {
     "name": "stderr",
     "output_type": "stream",
     "text": [
      "100%|██████████| 235/235 [00:01<00:00, 157.17it/s]\n"
     ]
    },
    {
     "name": "stdout",
     "output_type": "stream",
     "text": [
      "Epoch 54/100, Loss: 0.000823161331936717, train dataset accuracy: 95.91166666666666\n",
      "test dataset accuracy: 94.47%\n"
     ]
    },
    {
     "name": "stderr",
     "output_type": "stream",
     "text": [
      "100%|██████████| 235/235 [00:01<00:00, 158.47it/s]\n"
     ]
    },
    {
     "name": "stdout",
     "output_type": "stream",
     "text": [
      "Epoch 55/100, Loss: 0.004094137344509363, train dataset accuracy: 95.915\n",
      "test dataset accuracy: 94.47%\n"
     ]
    },
    {
     "name": "stderr",
     "output_type": "stream",
     "text": [
      "100%|██████████| 235/235 [00:01<00:00, 145.13it/s]\n"
     ]
    },
    {
     "name": "stdout",
     "output_type": "stream",
     "text": [
      "Epoch 56/100, Loss: 0.004389609210193157, train dataset accuracy: 95.945\n",
      "test dataset accuracy: 94.44%\n"
     ]
    },
    {
     "name": "stderr",
     "output_type": "stream",
     "text": [
      "100%|██████████| 235/235 [00:01<00:00, 156.81it/s]\n"
     ]
    },
    {
     "name": "stdout",
     "output_type": "stream",
     "text": [
      "Epoch 57/100, Loss: 0.005725824739784002, train dataset accuracy: 95.93833333333333\n",
      "test dataset accuracy: 93.93%\n"
     ]
    },
    {
     "name": "stderr",
     "output_type": "stream",
     "text": [
      "100%|██████████| 235/235 [00:01<00:00, 160.52it/s]\n"
     ]
    },
    {
     "name": "stdout",
     "output_type": "stream",
     "text": [
      "Epoch 58/100, Loss: 0.010706162080168724, train dataset accuracy: 95.89333333333333\n",
      "test dataset accuracy: 94.43%\n"
     ]
    },
    {
     "name": "stderr",
     "output_type": "stream",
     "text": [
      "100%|██████████| 235/235 [00:01<00:00, 156.83it/s]\n"
     ]
    },
    {
     "name": "stdout",
     "output_type": "stream",
     "text": [
      "Epoch 59/100, Loss: 0.009035995230078697, train dataset accuracy: 96.02333333333333\n",
      "test dataset accuracy: 94.41%\n"
     ]
    },
    {
     "name": "stderr",
     "output_type": "stream",
     "text": [
      "100%|██████████| 235/235 [00:01<00:00, 156.55it/s]\n"
     ]
    },
    {
     "name": "stdout",
     "output_type": "stream",
     "text": [
      "Epoch 60/100, Loss: 0.004019877407699823, train dataset accuracy: 95.89333333333333\n",
      "test dataset accuracy: 94.17%\n"
     ]
    },
    {
     "name": "stderr",
     "output_type": "stream",
     "text": [
      "100%|██████████| 235/235 [00:01<00:00, 157.41it/s]\n"
     ]
    },
    {
     "name": "stdout",
     "output_type": "stream",
     "text": [
      "Epoch 61/100, Loss: 0.008255683816969395, train dataset accuracy: 95.97\n",
      "test dataset accuracy: 94.42%\n"
     ]
    },
    {
     "name": "stderr",
     "output_type": "stream",
     "text": [
      "100%|██████████| 235/235 [00:01<00:00, 157.52it/s]\n"
     ]
    },
    {
     "name": "stdout",
     "output_type": "stream",
     "text": [
      "Epoch 62/100, Loss: 0.006470160558819771, train dataset accuracy: 96.16833333333334\n",
      "test dataset accuracy: 94.19%\n"
     ]
    },
    {
     "name": "stderr",
     "output_type": "stream",
     "text": [
      "100%|██████████| 235/235 [00:01<00:00, 157.06it/s]\n"
     ]
    },
    {
     "name": "stdout",
     "output_type": "stream",
     "text": [
      "Epoch 63/100, Loss: 0.005701955873519182, train dataset accuracy: 96.14\n",
      "test dataset accuracy: 94.42%\n"
     ]
    },
    {
     "name": "stderr",
     "output_type": "stream",
     "text": [
      "100%|██████████| 235/235 [00:01<00:00, 153.37it/s]\n"
     ]
    },
    {
     "name": "stdout",
     "output_type": "stream",
     "text": [
      "Epoch 64/100, Loss: 0.00976109504699707, train dataset accuracy: 95.99833333333333\n",
      "test dataset accuracy: 94.06%\n"
     ]
    },
    {
     "name": "stderr",
     "output_type": "stream",
     "text": [
      "100%|██████████| 235/235 [00:01<00:00, 159.66it/s]\n"
     ]
    },
    {
     "name": "stdout",
     "output_type": "stream",
     "text": [
      "Epoch 65/100, Loss: 0.006944594904780388, train dataset accuracy: 96.055\n",
      "test dataset accuracy: 94.19%\n"
     ]
    },
    {
     "name": "stderr",
     "output_type": "stream",
     "text": [
      "100%|██████████| 235/235 [00:01<00:00, 162.46it/s]\n"
     ]
    },
    {
     "name": "stdout",
     "output_type": "stream",
     "text": [
      "Epoch 66/100, Loss: 0.005926718004047871, train dataset accuracy: 96.19\n",
      "test dataset accuracy: 94.27%\n"
     ]
    },
    {
     "name": "stderr",
     "output_type": "stream",
     "text": [
      "100%|██████████| 235/235 [00:01<00:00, 150.14it/s]\n"
     ]
    },
    {
     "name": "stdout",
     "output_type": "stream",
     "text": [
      "Epoch 67/100, Loss: 0.005828976631164551, train dataset accuracy: 96.06\n",
      "test dataset accuracy: 93.83%\n"
     ]
    },
    {
     "name": "stderr",
     "output_type": "stream",
     "text": [
      "100%|██████████| 235/235 [00:01<00:00, 153.19it/s]\n"
     ]
    },
    {
     "name": "stdout",
     "output_type": "stream",
     "text": [
      "Epoch 68/100, Loss: 0.0025893060956150293, train dataset accuracy: 96.015\n",
      "test dataset accuracy: 94.4%\n"
     ]
    },
    {
     "name": "stderr",
     "output_type": "stream",
     "text": [
      "100%|██████████| 235/235 [00:01<00:00, 158.63it/s]\n"
     ]
    },
    {
     "name": "stdout",
     "output_type": "stream",
     "text": [
      "Epoch 69/100, Loss: 0.012224122881889343, train dataset accuracy: 96.09666666666666\n",
      "test dataset accuracy: 94.31%\n"
     ]
    },
    {
     "name": "stderr",
     "output_type": "stream",
     "text": [
      "100%|██████████| 235/235 [00:01<00:00, 150.32it/s]\n"
     ]
    },
    {
     "name": "stdout",
     "output_type": "stream",
     "text": [
      "Epoch 70/100, Loss: 0.004712037742137909, train dataset accuracy: 95.975\n",
      "test dataset accuracy: 94.43%\n"
     ]
    },
    {
     "name": "stderr",
     "output_type": "stream",
     "text": [
      "100%|██████████| 235/235 [00:01<00:00, 159.21it/s]\n"
     ]
    },
    {
     "name": "stdout",
     "output_type": "stream",
     "text": [
      "Epoch 71/100, Loss: 0.012047747150063515, train dataset accuracy: 96.09166666666667\n",
      "test dataset accuracy: 94.48%\n"
     ]
    },
    {
     "name": "stderr",
     "output_type": "stream",
     "text": [
      "100%|██████████| 235/235 [00:01<00:00, 158.20it/s]\n"
     ]
    },
    {
     "name": "stdout",
     "output_type": "stream",
     "text": [
      "Epoch 72/100, Loss: 0.006873657461255789, train dataset accuracy: 96.16666666666667\n",
      "test dataset accuracy: 94.04%\n"
     ]
    },
    {
     "name": "stderr",
     "output_type": "stream",
     "text": [
      "100%|██████████| 235/235 [00:01<00:00, 157.37it/s]\n"
     ]
    },
    {
     "name": "stdout",
     "output_type": "stream",
     "text": [
      "Epoch 73/100, Loss: 0.007004884537309408, train dataset accuracy: 96.09666666666666\n",
      "test dataset accuracy: 94.32%\n"
     ]
    },
    {
     "name": "stderr",
     "output_type": "stream",
     "text": [
      "100%|██████████| 235/235 [00:01<00:00, 158.02it/s]\n"
     ]
    },
    {
     "name": "stdout",
     "output_type": "stream",
     "text": [
      "Epoch 74/100, Loss: 0.01299067959189415, train dataset accuracy: 96.20166666666667\n",
      "test dataset accuracy: 94.12%\n"
     ]
    },
    {
     "name": "stderr",
     "output_type": "stream",
     "text": [
      "100%|██████████| 235/235 [00:01<00:00, 155.99it/s]\n"
     ]
    },
    {
     "name": "stdout",
     "output_type": "stream",
     "text": [
      "Epoch 75/100, Loss: 0.010161187499761581, train dataset accuracy: 96.21166666666667\n",
      "test dataset accuracy: 94.38%\n"
     ]
    },
    {
     "name": "stderr",
     "output_type": "stream",
     "text": [
      "100%|██████████| 235/235 [00:01<00:00, 151.92it/s]\n"
     ]
    },
    {
     "name": "stdout",
     "output_type": "stream",
     "text": [
      "Epoch 76/100, Loss: 0.004457209724932909, train dataset accuracy: 96.03833333333333\n",
      "test dataset accuracy: 94.56%\n"
     ]
    },
    {
     "name": "stderr",
     "output_type": "stream",
     "text": [
      "100%|██████████| 235/235 [00:01<00:00, 149.42it/s]\n"
     ]
    },
    {
     "name": "stdout",
     "output_type": "stream",
     "text": [
      "Epoch 77/100, Loss: 0.007510090246796608, train dataset accuracy: 96.095\n",
      "test dataset accuracy: 94.52%\n"
     ]
    },
    {
     "name": "stderr",
     "output_type": "stream",
     "text": [
      "100%|██████████| 235/235 [00:01<00:00, 156.57it/s]\n"
     ]
    },
    {
     "name": "stdout",
     "output_type": "stream",
     "text": [
      "Epoch 78/100, Loss: 0.00573318125680089, train dataset accuracy: 96.18833333333333\n",
      "test dataset accuracy: 94.27%\n"
     ]
    },
    {
     "name": "stderr",
     "output_type": "stream",
     "text": [
      "100%|██████████| 235/235 [00:01<00:00, 155.84it/s]\n"
     ]
    },
    {
     "name": "stdout",
     "output_type": "stream",
     "text": [
      "Epoch 79/100, Loss: 0.003120441222563386, train dataset accuracy: 96.25166666666667\n",
      "test dataset accuracy: 94.32%\n"
     ]
    },
    {
     "name": "stderr",
     "output_type": "stream",
     "text": [
      "100%|██████████| 235/235 [00:01<00:00, 152.75it/s]\n"
     ]
    },
    {
     "name": "stdout",
     "output_type": "stream",
     "text": [
      "Epoch 80/100, Loss: 0.005557089112699032, train dataset accuracy: 96.265\n",
      "test dataset accuracy: 94.62%\n"
     ]
    },
    {
     "name": "stderr",
     "output_type": "stream",
     "text": [
      "100%|██████████| 235/235 [00:01<00:00, 157.88it/s]\n"
     ]
    },
    {
     "name": "stdout",
     "output_type": "stream",
     "text": [
      "Epoch 81/100, Loss: 0.017516138032078743, train dataset accuracy: 96.29\n",
      "test dataset accuracy: 94.68%\n"
     ]
    },
    {
     "name": "stderr",
     "output_type": "stream",
     "text": [
      "100%|██████████| 235/235 [00:01<00:00, 159.19it/s]\n"
     ]
    },
    {
     "name": "stdout",
     "output_type": "stream",
     "text": [
      "Epoch 82/100, Loss: 0.002781254705041647, train dataset accuracy: 96.26166666666667\n",
      "test dataset accuracy: 94.15%\n"
     ]
    },
    {
     "name": "stderr",
     "output_type": "stream",
     "text": [
      "100%|██████████| 235/235 [00:01<00:00, 159.48it/s]\n"
     ]
    },
    {
     "name": "stdout",
     "output_type": "stream",
     "text": [
      "Epoch 83/100, Loss: 0.005807541776448488, train dataset accuracy: 96.14166666666667\n",
      "test dataset accuracy: 94.62%\n"
     ]
    },
    {
     "name": "stderr",
     "output_type": "stream",
     "text": [
      "100%|██████████| 235/235 [00:01<00:00, 159.00it/s]\n"
     ]
    },
    {
     "name": "stdout",
     "output_type": "stream",
     "text": [
      "Epoch 84/100, Loss: 0.00607550423592329, train dataset accuracy: 96.17333333333333\n",
      "test dataset accuracy: 94.41%\n"
     ]
    },
    {
     "name": "stderr",
     "output_type": "stream",
     "text": [
      "100%|██████████| 235/235 [00:01<00:00, 155.57it/s]\n"
     ]
    },
    {
     "name": "stdout",
     "output_type": "stream",
     "text": [
      "Epoch 85/100, Loss: 0.006924721412360668, train dataset accuracy: 96.23166666666667\n",
      "test dataset accuracy: 94.48%\n"
     ]
    },
    {
     "name": "stderr",
     "output_type": "stream",
     "text": [
      "100%|██████████| 235/235 [00:01<00:00, 164.06it/s]\n"
     ]
    },
    {
     "name": "stdout",
     "output_type": "stream",
     "text": [
      "Epoch 86/100, Loss: 0.007313042879104614, train dataset accuracy: 96.445\n",
      "test dataset accuracy: 94.63%\n"
     ]
    },
    {
     "name": "stderr",
     "output_type": "stream",
     "text": [
      "100%|██████████| 235/235 [00:01<00:00, 148.23it/s]\n"
     ]
    },
    {
     "name": "stdout",
     "output_type": "stream",
     "text": [
      "Epoch 87/100, Loss: 0.005047894082963467, train dataset accuracy: 96.24166666666666\n",
      "test dataset accuracy: 94.28%\n"
     ]
    },
    {
     "name": "stderr",
     "output_type": "stream",
     "text": [
      "100%|██████████| 235/235 [00:01<00:00, 152.04it/s]\n"
     ]
    },
    {
     "name": "stdout",
     "output_type": "stream",
     "text": [
      "Epoch 88/100, Loss: 0.0069486298598349094, train dataset accuracy: 96.33\n",
      "test dataset accuracy: 94.72%\n"
     ]
    },
    {
     "name": "stderr",
     "output_type": "stream",
     "text": [
      "100%|██████████| 235/235 [00:01<00:00, 156.48it/s]\n"
     ]
    },
    {
     "name": "stdout",
     "output_type": "stream",
     "text": [
      "Epoch 89/100, Loss: 0.0076646688394248486, train dataset accuracy: 96.295\n",
      "test dataset accuracy: 94.22%\n"
     ]
    },
    {
     "name": "stderr",
     "output_type": "stream",
     "text": [
      "100%|██████████| 235/235 [00:01<00:00, 161.07it/s]\n"
     ]
    },
    {
     "name": "stdout",
     "output_type": "stream",
     "text": [
      "Epoch 90/100, Loss: 0.005532911047339439, train dataset accuracy: 96.25833333333334\n",
      "test dataset accuracy: 94.35%\n"
     ]
    },
    {
     "name": "stderr",
     "output_type": "stream",
     "text": [
      "100%|██████████| 235/235 [00:01<00:00, 152.37it/s]\n"
     ]
    },
    {
     "name": "stdout",
     "output_type": "stream",
     "text": [
      "Epoch 91/100, Loss: 0.005950959865003824, train dataset accuracy: 96.12166666666667\n",
      "test dataset accuracy: 94.41%\n"
     ]
    },
    {
     "name": "stderr",
     "output_type": "stream",
     "text": [
      "100%|██████████| 235/235 [00:01<00:00, 151.58it/s]\n"
     ]
    },
    {
     "name": "stdout",
     "output_type": "stream",
     "text": [
      "Epoch 92/100, Loss: 0.006829969119280577, train dataset accuracy: 96.235\n",
      "test dataset accuracy: 94.43%\n"
     ]
    },
    {
     "name": "stderr",
     "output_type": "stream",
     "text": [
      "100%|██████████| 235/235 [00:01<00:00, 159.10it/s]\n"
     ]
    },
    {
     "name": "stdout",
     "output_type": "stream",
     "text": [
      "Epoch 93/100, Loss: 0.0056569818407297134, train dataset accuracy: 96.34\n",
      "test dataset accuracy: 94.37%\n"
     ]
    },
    {
     "name": "stderr",
     "output_type": "stream",
     "text": [
      "100%|██████████| 235/235 [00:01<00:00, 159.19it/s]\n"
     ]
    },
    {
     "name": "stdout",
     "output_type": "stream",
     "text": [
      "Epoch 94/100, Loss: 0.003233890514820814, train dataset accuracy: 96.34333333333333\n",
      "test dataset accuracy: 94.47%\n"
     ]
    },
    {
     "name": "stderr",
     "output_type": "stream",
     "text": [
      "100%|██████████| 235/235 [00:01<00:00, 160.32it/s]\n"
     ]
    },
    {
     "name": "stdout",
     "output_type": "stream",
     "text": [
      "Epoch 95/100, Loss: 0.0037887957878410816, train dataset accuracy: 96.34166666666667\n",
      "test dataset accuracy: 94.27%\n"
     ]
    },
    {
     "name": "stderr",
     "output_type": "stream",
     "text": [
      "100%|██████████| 235/235 [00:01<00:00, 147.51it/s]\n"
     ]
    },
    {
     "name": "stdout",
     "output_type": "stream",
     "text": [
      "Epoch 96/100, Loss: 0.005531370639801025, train dataset accuracy: 96.36333333333333\n",
      "test dataset accuracy: 94.48%\n"
     ]
    },
    {
     "name": "stderr",
     "output_type": "stream",
     "text": [
      "100%|██████████| 235/235 [00:01<00:00, 152.78it/s]\n"
     ]
    },
    {
     "name": "stdout",
     "output_type": "stream",
     "text": [
      "Epoch 97/100, Loss: 0.009565481916069984, train dataset accuracy: 96.30666666666667\n",
      "test dataset accuracy: 94.3%\n"
     ]
    },
    {
     "name": "stderr",
     "output_type": "stream",
     "text": [
      "100%|██████████| 235/235 [00:01<00:00, 158.30it/s]\n"
     ]
    },
    {
     "name": "stdout",
     "output_type": "stream",
     "text": [
      "Epoch 98/100, Loss: 0.01105512399226427, train dataset accuracy: 96.36666666666666\n",
      "test dataset accuracy: 94.06%\n"
     ]
    },
    {
     "name": "stderr",
     "output_type": "stream",
     "text": [
      "100%|██████████| 235/235 [00:01<00:00, 154.74it/s]\n"
     ]
    },
    {
     "name": "stdout",
     "output_type": "stream",
     "text": [
      "Epoch 99/100, Loss: 0.006826504599303007, train dataset accuracy: 96.32666666666667\n",
      "test dataset accuracy: 94.08%\n"
     ]
    }
   ],
   "source": [
    "model = model\n",
    "lay = []\n",
    "for n, i in model.named_children():\n",
    "    print(type(i).__name__)\n",
    "    if type(i).__name__ == \"Linear\":\n",
    "        lay.append((n, i))\n",
    "\n",
    "acc = []\n",
    "\n",
    "num_epochs = 100  \n",
    "for epoch in range(num_epochs):\n",
    "    ttot = 0\n",
    "    tcorr = 0\n",
    "    for b in tqdm(trainloader):\n",
    "        xt, y = b[0], b[1]\n",
    "        optimizer.zero_grad() \n",
    "        outputs = model(xt)  \n",
    "        loss = criterion(outputs, y) \n",
    "        \n",
    "        loss.backward() \n",
    "        optimizer.step() \n",
    "    \n",
    "        _, y = torch.max(y.data, 1)\n",
    "        _, pred = torch.max(outputs.data, 1)\n",
    "        ttot += y.shape[0]\n",
    "        tcorr += (pred == y).sum().item()\n",
    "    \n",
    "    # for i in range(len(lay)):\n",
    "    #     if i > 0 and i <= len(lay)-1:\n",
    "    #         di = neuronalNeuralBalance(lay[i-1][1], lay[i][1])\n",
    "\n",
    "    print(f'Epoch {epoch}/{num_epochs}, Loss: {loss.item()}, train dataset accuracy: {100*tcorr/ttot}')\n",
    "        \n",
    "    tot = 0\n",
    "    corr = 0\n",
    "\n",
    "    with torch.no_grad():\n",
    "        for i in testloader:\n",
    "            xt, y = i[0], i[1]\n",
    "            outputs = model(xt)  \n",
    "            _, y = torch.max(y.data, 1)\n",
    "            _, pred = torch.max(outputs.data, 1)\n",
    "            tot += y.shape[0]\n",
    "            corr += (pred == y).sum().item()\n",
    "    print(f'test dataset accuracy: {100*corr/tot}%')\n",
    "    acc.append(corr/tot)\n"
   ]
  },
  {
   "cell_type": "code",
   "execution_count": 217,
   "metadata": {},
   "outputs": [
    {
     "data": {
      "image/png": "[encoded data removed]",
      "text/plain": [
       "<Figure size 2500x500 with 3 Axes>"
      ]
     },
     "metadata": {},
     "output_type": "display_data"
    }
   ],
   "source": [
    "import matplotlib.pyplot as plt\n",
    "\n",
    "fc_weights = model.fc.weight.cpu().detach().numpy().flatten()\n",
    "fc2_weights = model.fc2.weight.cpu().detach().numpy().flatten()\n",
    "out_weights = model.out.weight.cpu().detach().numpy().flatten()\n",
    "\n",
    "bins = np.linspace(-0.5, 0.5, 50) \n",
    "fc_hist, fc_bins = np.histogram(fc_weights, bins=bins)\n",
    "fc2_hist, fc2_bins = np.histogram(fc2_weights, bins=bins)\n",
    "out_hist, out_bins = np.histogram(out_weights, bins=bins)\n",
    "\n",
    "fc_bin_centers = 0.5 * (fc_bins[:-1] + fc_bins[1:])\n",
    "fc2_bin_centers = 0.5 * (fc2_bins[:-1] + fc2_bins[1:])\n",
    "out_bin_centers = 0.5 * (out_bins[:-1] + out_bins[1:])\n",
    "\n",
    "plt.figure(figsize=(25, 5))\n",
    "\n",
    "plt.subplot(1, 3, 1)\n",
    "plt.plot(fc_bin_centers, fc_hist, marker='o', linestyle='-', color='b')\n",
    "plt.title('Weight Distribution: Input to Hidden1 Layer')\n",
    "plt.xlabel('Weight Value')\n",
    "plt.ylabel('Frequency')\n",
    "\n",
    "plt.subplot(1, 3, 2)\n",
    "plt.plot(fc2_bin_centers, fc2_hist, marker='o', linestyle='-', color='g')\n",
    "plt.title('Weight Distribution: hidden 1 to hidden 2 Layer')\n",
    "plt.xlabel('Weight Value')\n",
    "plt.ylabel('Frequency')\n",
    "\n",
    "plt.subplot(1, 3, 3)\n",
    "plt.plot(out_bin_centers, out_hist, marker='o', linestyle='-', color='g')\n",
    "plt.title('Weight Distribution: Hidden2 to Output Layer')\n",
    "plt.xlabel('Weight Value')\n",
    "plt.ylabel('Frequency')\n",
    "\n",
    "plt.tight_layout()\n",
    "plt.show()\n"
   ]
  },
  {
   "cell_type": "code",
   "execution_count": 218,
   "metadata": {},
   "outputs": [
    {
     "name": "stdout",
     "output_type": "stream",
     "text": [
      "Number of non-zero weights greater than 0.01 in layer 1: 362843\n",
      "Number of non-zero weights greater than 0.01 in layer 1: 7567\n",
      "Number of non-zero weights greater than 0.01 in layer 3: 590\n"
     ]
    }
   ],
   "source": [
    "import torch\n",
    "\n",
    "def count_nonzero_weights_above_threshold(layer, threshold=0.01):\n",
    "    return torch.sum(torch.abs(layer.weight) > threshold).item()\n",
    "\n",
    "threshold_value = 0.01 \n",
    "\n",
    "nonzero_fc1 = count_nonzero_weights_above_threshold(model.fc, threshold=threshold_value)\n",
    "nonzero_fc2 = count_nonzero_weights_above_threshold(model.fc2, threshold=threshold_value)\n",
    "nonzero_fc3 = count_nonzero_weights_above_threshold(model.out, threshold=threshold_value)\n",
    "\n",
    "print(f'Number of non-zero weights greater than {threshold_value} in layer 1: {nonzero_fc1}')\n",
    "print(f'Number of non-zero weights greater than {threshold_value} in layer 1: {nonzero_fc2}')\n",
    "print(f'Number of non-zero weights greater than {threshold_value} in layer 3: {nonzero_fc3}')"
   ]
  },
  {
   "cell_type": "code",
   "execution_count": 219,
   "metadata": {},
   "outputs": [
    {
     "name": "stdout",
     "output_type": "stream",
     "text": [
      "[0.677452857525524, 0.6305172213671206, 0.7136330712499985, 0.7569162069160666, 0.6745698281258717, 0.7630370783342714, 0.7014351270330643, 0.6979292318887728, 0.7395794111998253, 0.6131320633584103, 0.706731621290435, 0.7064309869014346, 0.5685790547674161, 0.6929580731333636, 0.6688293045866764, 0.6976489408170717, 0.6737156186220696, 0.7316187909231762, 0.6788225772935539, 0.6853799311549843, 0.7077860914839987, 0.6902693951894066, 0.7030055783573005, 0.662332899306424, 0.7076940020286712, 0.6655543317630029, 0.7330023915071636, 0.6851779124329893, 0.7203682251536575, 0.6869717134229271, 0.7027739211203073, 0.7356868081993376, 0.6728666578266994, 0.6820253463116653, 0.7286835891508321, 0.6547833704294801, 0.7467466401587661, 0.6653517367503979, 0.6329084780757863, 0.663350652875484, 0.2454627386529511, 0.6880756379934265, 0.684618893417509, 0.7013539883518675, 0.6752862573636732, 0.8650030264979276, 0.5938526348713994, 0.6720202891970457, 0.6929868038752817, 0.6781452445716146, 0.7266889636516496, 0.6994927299316617, 0.6880342285433327, 0.7085444104122421, 0.6718202220480404, 0.7422844976499016, 0.6873147461462823, 0.6400908169867883, 0.6412304098786195, 0.683619965561383, 0.700187342046558, 0.6736817490396821, 0.6766176911560243, 0.7099990672595193, 0.6248958742110118, 0.7073491541182424, 0.7624065489524432, 0.6549769042838174, 0.7172674323405408, 0.679410300711652, 0.7041116949402918, 0.7303539610985316, 0.684780675939811, 0.7680207095093985, 0.6795495167316853, 0.7555472005727005, 0.6740174285433677, 0.706609954586522, 0.7269131913914606, 0.7206665723192647, 0.7049169754868916, 0.643551354094032, 0.7360526190408961, 0.8019050398276532, 0.7586164643376233, 0.7640792948782913, 0.5994605559980686, 0.610367958431843, 0.6971754887801384, 0.6963857972719852, 0.6242965422959202, 0.7149662491487226, 0.6852926260979232, 0.7168068754356647, 0.7704985224226244, 0.26847089335873175, 0.6640016941423029, 0.7167510163427235, 0.7870893692887093, 0.6558868791752515, 0.6337333020535677, 0.6550492058135143, 0.6987004479120416, 0.6707537708912311, 0.7477560747870012, 0.6676182495389306, 0.7595697171094545, 0.6834355752384753, 0.3006451712590621, 0.7044403508593241, 0.6528956520384455, 0.7757655201488706, 0.6847332706215405, 0.7014378417225372, 0.8390550190801892, 0.6849671120257892, 0.720498029284036, 0.6751433628111667, 0.6641604305019977, 0.7177094688655101, 0.6934227124856802, 0.719955857725847, 0.7122065008007498, 0.6628125715596083, 0.6917882331428009, 0.6670119958585529, 0.7841947532353355, 0.7455757246109722, 0.7456780195970858, 0.6818973620258951, 0.696045898061336, 0.6973594783857088, 0.6866547883331061, 0.6938939519109742, 0.6892977372465326, 0.8031437740643284, 0.6769658994241926, 0.6742065768942755, 0.6416863368720596, 0.6793782233350293, 0.7455233526540845, 0.7061642600278839, 0.6700551946116124, 0.7891223044917267, 0.6633740213079714, 0.7916175808011263, 0.6725926793419074, 0.6555585835611774, 0.671753359999104, 0.641250998686158, 0.6815719511682208, 0.7948677305103483, 0.6855417871074829, 0.7170280983049314, 0.6445302539772093, 0.8625088918956294, 0.7666113092233203, 0.692981286272453, 0.7475455917457422, 0.6579903775505025, 0.6685687109115226, 0.7555146010308404, 0.6945609075330305, 0.707587218425277, 0.6565703594131144, 0.6959580758082418, 0.6534493043195849, 0.7097497193814452, 0.7245936153915407, 0.7047148903620947, 0.7097396511869446, 0.6947514923391175, 0.6324319596306396, 0.8206115056516687, 0.7617615807466195, 0.5599063096707345, 0.7035604712713853, 0.7705237731956047, 0.6628041854750286, 0.30347423637523296, 0.7196790013967678, 0.7059683661648583, 0.6504839845818106, 0.6905195396241923, 0.6177409252185074, 0.7083703643042633, 0.699505089006737, 0.6770650435401454, 0.6447990389670728, 0.7342029294911765, 0.6664639240549097, 0.7181564772464143, 0.406436654333523, 0.7026169071940226, 0.7792462652065186, 0.6624909187433838, 0.6952179663920658, 0.761931003913639, 0.739263942167637, 0.7137664228223108, 0.6625210438694253, 0.7553294216303853, 0.6965454908970902, 0.7087210370392334, 0.7601174150363432, 0.677660994445165, 0.7536328137259917, 0.8021205851019795, 0.73822644032798, 0.7200145966803767, 0.7080487963649287, 0.6730167423512602, 0.6829968204393032, 0.7045250541762403, 0.680136704264121, 0.6666860712468617, 0.7422660644707378, 0.6755008955591071, 0.7165759483718646, 0.6881614144521875, 0.6263347430055395, 0.5702400344209773, 0.6363902875551073, 0.6389820534992849, 0.7200623432692461, 0.6943124293530072, 0.6939031330484808, 0.6694566296376182, 0.9244635146653007, 0.621557515133593, 0.7273980804703413, 0.6727136172614279, 0.7594069185747337, 0.717470742436987, 0.6823919572561802, 0.7565709449997389, 0.7329755170520494, 0.4325244747041643, 0.658207494711022, 0.7202221862787522, 0.6916239898929224, 0.6943918001063524, 0.6666758216662324, 0.6679791804510792, 0.690509023508689, 0.6961306405876243, 0.6840476589429803, 0.7878109129671544, 0.7952106326176995, 0.7474643856809529, 0.6497879662475105, 0.6944135687650964, 0.7513028816229086, 0.6484083400654089, 0.660897677308086, 0.6984250746648561, 0.6467723917620677, 0.7537558765871712, 0.6405405942786179, 0.6664814016936205, 0.6614203135342772, 0.7175499832205418, 0.7354891532152857, 0.7434600395973945, 0.7107518091428465, 0.79161473106033, 0.6850971505126843, 0.6801450475377834, 0.6764914221107793, 0.6728653669172768, 0.691963853476513, 0.6124769350517988, 0.7862832217601121, 0.7666071456383539, 0.7486308725567122, 0.7372303986440457, 0.6873789773335152, 0.696089369326454, 0.6783883159963386, 0.6839609488663757, 0.6862497912164053, 0.6778055868602189, 0.8121855281642678, 0.6070957696609519, 0.6763636501148885, 0.6986688490159961, 0.7719853550177023, 0.6559800734431339, 0.7818302688499355, 0.7015155268101602, 0.661578061192469, 0.7210967559053277, 0.7190267961724586, 0.6820057171922741, 0.6810648900971767, 0.6926135082374533, 0.708461055668272, 0.6771098105128486, 0.6954253818992525, 0.6703902596721693, 0.6450638139074144, 0.7034290454807566, 0.685953190894535, 0.7512195295230364, 0.6430146010917936, 0.7411590010647819, 0.7149213242348971, 0.7050605281066537, 0.7040736533842934, 0.7401968033089474, 0.664862955989511, 0.7148274542396879, 0.6991108252952951, 0.761715528849167, 0.677653193480423, 0.6073201065587551, 0.6172217285418798, 0.6819088053408895, 0.6628092679863254, 0.36093620449589753, 0.6848886212881522, 0.7005313822469544, 0.6886244957988816, 0.7574702742807836, 0.7362450236475228, 0.6801225575605535, 0.6976308486114078, 0.7406715376107301, 0.6991477252661228, 0.7081415742571073, 0.6819001788954685, 0.7311737107010912, 0.6847961452287922, 0.6712945087439642, 0.6734731371559662, 0.7180130367717447, 0.6925952135436287, 0.6920122143650598, 0.7358678421257643, 0.7280128401989584, 0.6721551495644227, 0.7236867153392118, 0.7053520695648858, 0.6722836584424645, 0.687307401313824, 0.292883263506076, 0.7253580067560176, 0.6836149506569602, 0.6700743361575855, 0.738853437913221, 0.6711555931066714, 0.7434878521079598, 0.7153395070121559, 0.6511006572225209, 0.753690998092462, 0.6550097463700072, 0.626967036260994, 0.7052762972066006, 0.7117390738090295, 0.7494206963922606, 0.6869122551802013, 0.6579091936667881, 0.6889361114113409, 0.7049579296687772, 0.6635115052603919, 0.8022888454128906, 0.24312589443548357, 0.6664299490928924, 0.726899188301646, 0.753729098597043, 0.7192777314236337, 0.6955009282586192, 0.6231255754051364, 0.694574349184599, 0.6931766680579583, 0.6583566753909283, 0.6719511036233792, 0.7071098685501938, 0.7051140649504032, 0.7365689693438237, 0.735420575506317, 0.8158909008029439, 0.6730901921233221, 0.6971289078214382, 0.7745841390425593, 0.7596415664996967, 0.6474904596569672, 0.7052228362064281, 0.6288736798824829, 0.6995795086715441, 0.7090068525329297, 0.7215748480732103, 0.7785927724314056, 0.6573386732734602, 0.6918669817977647, 0.6606803678534797, 0.6903314142646729, 0.7343069461137482, 0.7567340689704198, 0.7039060178276694, 0.6342398756712484, 0.7051567961284333, 0.6427445890864264, 0.6856350030677205, 0.6923714304131583, 0.6590901448114619, 0.7144219738832731, 0.7108650290549812, 0.6898150682853846, 0.6975854510421816, 0.7105108746178572, 0.696817594200904, 0.6798709761542714, 0.7134267407541247, 0.6758747284695231, 0.3428036989956374, 0.6726806382737496, 0.6931284596677917, 0.7615596467078264, 0.6922469586632222, 0.4367808932760415, 0.6862499815037044, 0.757778225943377, 0.3127494119554777, 0.7108357666714874, 0.6724242537511614, 0.7190352085905057, 0.7167925272320343, 0.6463225484211983, 0.7044683273147144, 0.8607039239683847, 0.6891138573269899, 0.6687006464601486, 0.6690220572197187, 0.750880846684454, 0.7295654969310639, 0.6384013305807078, 0.706782454197942, 0.7466874996423932, 0.7268555380117759, 0.7383446415564556, 0.6733032675502872, 0.6814715004604295, 0.7306029306919918, 0.7098766773729419, 0.6868537224854564, 0.6752472738210274, 0.748279384521539, 0.6883666249959233, 0.6760173851444745, 0.7600479826484994, 0.6740988099374982, 0.28790914939984436, 0.7055834721857762, 0.7014741756179609, 0.6903049144785834, 0.6618742243324356, 0.7404690069858814, 0.7040703657322752, 0.8048134293279811, 0.6387180793254936, 0.7477979874276959, 0.711723589325794, 0.7271130686910694, 0.7222729848363462, 0.7037166482117266, 0.706315076502258, 0.6998863727794783, 0.7774691035959711, 0.6668037629628544, 0.7019032763726525, 0.6810818524860144, 0.6850854149786147, 0.6592404198745714, 0.6596762477019856, 0.7193750189557968, 0.7119032031337288, 0.7442514075682922, 0.7207640653746669, 0.7279439751567304, 0.7071571814123471, 0.6965779100526673, 0.6958213069264493, 0.6947959155366158, 0.7113742507744685, 0.685031665667807, 0.685608305407638, 0.7142613071382536, 0.6761078379575025, 0.6906686608173941, 0.7296960658410754, 0.6672379576889338, 0.7030883861102677, 0.749406496703153, 0.6952527113983704, 0.6761189041621576, 0.6767794353885069, 0.7454459557586817, 0.6852534807044018, 0.6827263671618917, 0.6044128692399073, 0.691645756341343, 0.6967349197708661, 0.668280229015571, 0.6740661374098993, 0.7094217211167245, 0.6735181904377374, 0.6748318450293126, 0.6929536861582166, 0.6975076612070665, 0.5833172822906766, 0.6887245262153419]\n",
      "torch.Size([512])\n",
      "[0.7424106529159977, 0.6755576095306478, 0.5234489009277984, 0.5829172542667534, 0.7263713507713483, 0.487901036712936, 0.508810657000352, 0.5362810834639401, 0.6119339475646663, 0.5216835470668505, 0.5038815892440975, 0.7426637573264849, 0.5186540943382169, 0.4706060843999292, 1.0456373611293805, 0.5653113549696813, 1.5117770178609211, 0.5314230623395781, 0.5715326257668056, 0.504310134672071, 0.6351921669149884, 0.53722060172346, 0.7556335693101824, 0.5926120589391572, 0.4324444662657324, 0.5214726907589071, 0.5036148413343775, 0.7692911930404336, 0.516718890913397, 0.4928087164767252, 0.597065374967252, 0.5120985568642513, 0.8334452542628529, 0.5604329622131367, 0.5520351773577958, 0.8012629272645566, 1.1586042098723608, 0.6242207729964558, 0.7716672140461295, 2.0205925252759824, 0.7703657987259775, 0.6020966937077564, 2.773579469655595, 0.9053300887510789, 1.2425830050705293, 0.6804227686191968, 0.5154706680656124, 0.48007067093022, 0.6252477844140384, 0.49497026544960043, 0.4772666460093855, 0.5401420271100592, 0.5479898490447654, 0.8938024656766128, 0.5061057090290064, 0.5579139112507402, 0.6452425093710703, 1.0241920905004775, 0.9259636606291004, 1.8714992791150564, 1.4375664427004453, 0.5840002777839504, 0.48043007474648713, 0.49111873682972884, 1.6827654009107849, 0.6573321786632653, 1.2991128381320256, 1.3671171093738286, 0.877965006727459, 0.49431980724405544, 0.4992641076652364, 0.5949874348870478, 0.49794697966702256, 0.5461884429580178, 0.4893759999463885, 0.7697974152910143, 0.8358661652432134, 1.0430754037480066, 0.5110505880747218, 0.49820658908505355, 0.5459225647957, 0.5045817693760206, 1.479285981554728, 0.5329064810016456, 0.5430198279734444, 1.1170311528355457, 1.1633199528710734, 0.5107056175139847, 1.0958257612502855, 0.5300983806456522, 0.7001026702048381, 0.5725650682938136, 0.5035868427891173, 0.6826775171427755, 0.495809203355711, 0.7339468703392288, 0.5031397224190394, 2.154986412130457, 0.9702960336482597, 0.5309509620376546, 0.706340846040009, 0.45057245713076083, 0.9473087110443095, 0.5208401947243464, 1.1076374705858367, 0.49419229250854807, 0.6432003580630707, 0.47861324561717744, 0.6553773145911945, 0.5445507495201922, 0.4545466787969361, 0.5445135065059254, 0.8068133341005095, 0.7670066823679796, 0.7754340419601655, 0.5864928999769286, 1.2993687663239495, 0.5470701599978813, 3.57823453596507, 0.4961088926149767, 0.49946335401211434, 1.0210619792167188, 0.601230378200642, 0.5419052087057754, 0.8427475051367733, 0.4753852875004379, 1.3281550242539146, 0.56360034280719, 0.6936361532283583, 0.5160287077952133, 0.6070176047832586, 0.9088854848515733, 0.4442478749099864, 1.4082835197662953, 0.5085825971823681, 0.5082150985087527, 0.48776114761102046, 0.5958478700439288, 1.3227942549320044, 2.2879379270169373, 0.779023720726623, 1.9574226092740719, 0.541479293941458, 0.48207585848325, 0.4752409073404866, 0.9207935793086124, 0.575178746980776, 1.5686536910777145, 0.6067730563173528, 0.5373660287911531, 0.5259734244886993, 0.8372763334656064, 1.381692130399342, 0.5211698788275357, 0.5146245547090105, 0.4922453171991904, 1.324109674064976, 0.5009100790891908, 0.49292301330788374, 1.550098486208753, 0.547997871273723, 0.60826177293032, 1.093596174078397, 0.6289074484897856, 0.5715999572883046, 0.7666786267845037, 0.5314507509120643, 0.6813613017894206, 1.0201918436979502, 0.46015851124480023, 0.5225331597113834, 0.5930199840965553, 0.49202327251146066, 0.4799396872973418, 0.5232141142919412, 0.4550175960437204, 0.5652170455762272, 0.46921479201994504, 1.423732110775102, 0.9323849047302621, 0.43376207636057235, 0.687830616734216, 0.9475853828997808, 0.5002193451674064, 0.5265143430842613, 0.5166630760295764, 0.485022633327958, 0.7069494857184383, 0.7144765344882942, 1.2456768542967156, 1.3593556632870198, 0.9671571151376894, 0.5172068021777333, 0.5201850643195027, 1.5593950941274597, 0.999671482711319, 0.48127114730488335, 0.5265098276799994, 0.9651783490834244, 1.0129765454145114, 0.4740533946734498, 0.4830133289694993, 0.4955972870013133, 0.4777284549776522, 0.5132803845834417, 1.0287993820087715, 0.5039493086333925, 0.5167323632042652, 0.5621783943948683, 1.075854532385831, 0.8981302030454957, 2.194627603099778, 0.547362083773489, 0.5777380883533989, 0.5000660681959138, 0.5492406312925662, 0.531207727235697, 0.6302234557200324, 1.5828380950508627, 0.7201142330818979, 0.6810296864173705, 1.726033146507845, 0.4954091884586529, 0.6322707920386411, 2.3125874581721133, 0.8019105418580434, 0.4543527195008894, 0.5135170944256489, 0.5155129051614992, 0.9018438071982848, 0.5304498494033066, 0.5794191641796615, 1.2083972109700238, 0.5299737681738936, 0.5946203742470529, 0.5617879749225279, 0.6019584263818226, 1.3317713458951401, 0.7590527667080138, 0.5798505248323926, 0.6565027404157439, 0.6509632030872293, 0.7340393921981323, 1.8045255210680848, 0.45890068506001674, 0.4985398838349888, 0.5759654765380829, 0.9253263609212106, 0.745970011443354, 0.5081862167300754, 0.5917304356966313, 0.5056563380638139, 0.5410824446599984, 0.8171743685408903, 0.5563045265155904, 0.554713857931955]\n",
      "torch.Size([256])\n",
      "[0.6995733477355979, 0.3784009910984931, 0.4036142053035934, 0.23419029006465317, 0.4784510159539547, 0.4012182892871612, 0.3288040923346917, 0.7021788292051129, 0.3998201849306377, 0.4513340726652095, 0.6172856030226358, 0.41404421257042523, 0.44178703595587027, 0.22642663192585466, 0.5571420801268584, 0.7329384002947754, 0.6044950315134492, 0.44549598205046476, 0.4758380648669723, 0.5880382565363588, 0.4166892737591159, 0.4750074548586394, 0.42826821519568864, 0.592526210535352, 0.32145165986275903, 0.555892851981132, 0.4479412821427522, 0.6058445036343229, 0.5493293568523465, 0.42225450844994383, 0.3085530016626804, 0.42241419094150945, 0.4352070204117225, 0.7406261024294252, 0.4581151846368356, 0.42985016352927974, 0.438342145641227, 0.6487139346088852, 0.5431244291421468, 0.4833095289133826, 0.5303342431344727, 0.5439233997751913, 0.7427381203893878, 0.26306419784792207, 0.4294752605527317, 0.21802624224525483, 0.41230291212369846, 0.7664529453236095, 0.5259913804483741, 0.5903112277485979, 0.5124177572340572, 0.4500462886140825, 0.6985346578240792, 0.6049943534924551, 0.47811827145520974, 0.5684600317578943, 0.2564082805690021, 0.6231531251085144, 0.5688492813037247, 0.6457713930049553, 0.5015406121202565, 0.5337309798093891, 0.5834477511254991, 0.44268892859084813, 0.48563386420689714, 0.5409089574592614, 0.539860860318347, 0.45612795741263834, 0.35973436902656175, 0.7036421668284384, 0.5190315240744093, 0.515443209450518, 0.49281361209861524, 0.5125600649834555, 0.5009555943050833, 0.540621104512403, 0.4741285099060215, 0.6136110864728174, 0.5158359287110977, 0.5439017279897955, 0.650310533615372, 0.33751533312532406, 0.5383763489134494, 0.4416533710440746, 0.49694320898346334, 0.637405687691014, 0.47213028023927556, 0.4254004342105381, 0.4683445420508692, 0.6123805537376331, 0.5938227688908354, 0.44438863967638775, 0.3921963559065594, 0.45218409189272396, 0.4762078580862453, 0.47615262989244306, 0.7139154092256227, 0.35682787954696316, 0.8336971862293753, 0.6186158819686418, 0.5104971861109775, 0.5365490433232606, 0.7016870268924941, 0.6088169939934179, 0.8339410019896769, 0.3364734215591807, 0.7640543937085595, 0.641004494683438, 0.36190012244452496, 0.7822197700192767, 0.37104209759631945, 0.42908574895507423, 0.5492470604223298, 0.4807380440346573, 0.5677809760061954, 0.67781647785911, 0.5940467734559608, 0.32492338105852053, 0.444734308020776, 0.9153580604258971, 0.52505978255883, 0.4103386820043269, 0.4298999449591163, 0.4238687124987862, 0.5688589543347367, 0.4668104015869813, 0.6416864319692857, 0.5355279402773091]\n",
      "torch.Size([128])\n",
      "[0.10653290247168046, 0.5021720386816263, 0.19790568071399295, 0.10964719603798938, 0.12425864898681724, 0.30642019614984806, 0.21312587120262197, 0.053090048573281215, 0.12719987977263353, 0.12048464264612085, 0.10523269190319985, 0.4598415400408115, 0.16682142385000806, 0.5358731190387359, 0.4773491512088403, 0.20697538762199208, 0.2796083724791437, 0.08666774641498784, 0.26785487053597157, 0.06256220633558492, 0.1775480914154868, 0.20417093976930945, 0.23276326384031448, 0.11576661556184843, 0.08754431215500509, 0.10227663387404773, 0.29295730235146383, 0.07248755217327507, 0.5613863187903133, 0.21680936466765616, 0.075602322715816, 0.23201676979193722, 0.23177922546247262, 0.1759938171371876, 0.09378506768275414, 0.0975931589948629, 0.11871414795020124, 0.3822240006861062, 0.18630868795534142, 0.09675989268552658, 0.0903074938416905, 0.2255217345070797, 0.750613064599338, 0.10466116859368879, 0.16286472781745487, 0.5047260281806841, 0.2670243782298398, 0.10476282291243669, 0.16886046751746905, 0.502194756786492, 0.12843302325380743, 0.14411358704309446, 0.08810275208051654, 0.23892188367783457, 0.5575443219206841, 0.0864979740434226, 0.10306093391129395, 0.10888834188630872, 0.16706224548026563, 0.0877423160150515, 0.07132309655598731, 0.1321325983279282, 0.45370558212440576, 0.08380586670755862]\n",
      "torch.Size([64])\n"
     ]
    }
   ],
   "source": [
    "for i in range(len(lay)):\n",
    "    if i > 0 and i <= len(lay)-1:\n",
    "        norms = []\n",
    "        for j in range(lay[i-1][1].weight.shape[0]):\n",
    "            norms.append(np.sqrt(torch.sum(torch.square(lay[i][1].weight.data[:,j])).item())/np.sqrt(torch.sum(torch.square(lay[i-1][1].weight.data[j])).item()))\n",
    "        print(norms)\n",
    "        norms = torch.tensor(norms)\n",
    "        print(norms.shape)"
   ]
  },
  {
   "cell_type": "code",
   "execution_count": 220,
   "metadata": {},
   "outputs": [
    {
     "data": {
      "image/png": "[encoded data removed]",
      "text/plain": [
       "<Figure size 1600x1000 with 1 Axes>"
      ]
     },
     "metadata": {},
     "output_type": "display_data"
    }
   ],
   "source": [
    "epochs_plot = list(range(100))\n",
    "\n",
    "plt.figure(figsize=(16, 10))\n",
    "plt.plot(epochs_plot, acc, linestyle='-', color='b', label='acc')\n",
    "\n",
    "plt.xlabel('Epochs', fontsize=14)\n",
    "plt.ylabel('Accuracy', fontsize=14)\n",
    "plt.title('Model Accuracy Over Epochs', fontsize=14)\n",
    "\n",
    "plt.xticks(fontsize=14)\n",
    "plt.yticks(fontsize=14)\n",
    "\n",
    "plt.grid(True)\n",
    "\n",
    "plt.legend(fontsize=14)\n",
    "\n",
    "plt.show()"
   ]
  },
  {
   "cell_type": "code",
   "execution_count": 221,
   "metadata": {},
   "outputs": [],
   "source": [
    "import pickle\n",
    "with open('cleanAcc0.pkl', 'wb') as f:\n",
    "    pickle.dump(acc, f)\n",
    "\n",
    "torch.save(model.state_dict(), 'cleanModel0.pt')"
   ]
  }
 ],
 "metadata": {
  "kernelspec": {
   "display_name": "Python 3",
   "language": "python",
   "name": "python3"
  },
  "language_info": {
   "codemirror_mode": {
    "name": "ipython",
    "version": 3
   },
   "file_extension": ".py",
   "mimetype": "text/x-python",
   "name": "python",
   "nbconvert_exporter": "python",
   "pygments_lexer": "ipython3",
   "version": "3.11.2"
  }
 },
 "nbformat": 4,
 "nbformat_minor": 2
}
