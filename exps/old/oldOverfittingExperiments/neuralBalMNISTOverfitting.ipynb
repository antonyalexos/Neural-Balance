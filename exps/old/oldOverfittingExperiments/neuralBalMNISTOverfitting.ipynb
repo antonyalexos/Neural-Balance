{
 "cells": [
  {
   "cell_type": "code",
   "execution_count": 177,
   "metadata": {},
   "outputs": [],
   "source": [
    "import torch\n",
    "import torch.nn as nn\n",
    "import torch.optim as optim\n",
    "import numpy as np\n",
    "from torchvision.datasets import MNIST\n",
    "from torch.utils.data import DataLoader\n",
    "from torchvision import transforms\n",
    "import torch.nn.functional as F\n",
    "import os\n",
    "from tqdm import tqdm\n",
    "\n",
    "class SingleLayerNN(nn.Module):\n",
    "    def __init__(self):\n",
    "        super(SingleLayerNN, self).__init__()\n",
    "        self.fc = nn.Linear(784, 512) \n",
    "        self.fc0 = nn.Linear(512, 256)\n",
    "        self.fc1 = nn.Linear(256, 128)\n",
    "        self.fc2 = nn.Linear(128, 64)\n",
    "        self.out = nn.Linear(64, 10)\n",
    "\n",
    "    def forward(self, x):\n",
    "        x = torch.relu(self.fc(x)) \n",
    "        x = torch.relu(self.fc0(x))\n",
    "        x = torch.relu(self.fc1(x))\n",
    "        x = torch.relu(self.fc2(x))\n",
    "        x = self.out(x)  \n",
    "        return x\n",
    "\n",
    "model = SingleLayerNN()\n",
    "\n",
    "\n",
    "criterion = nn.MSELoss() \n",
    "optimizer = optim.Adam(model.parameters(), lr=0.01)  \n"
   ]
  },
  {
   "cell_type": "code",
   "execution_count": 178,
   "metadata": {},
   "outputs": [],
   "source": [
    "#torch.manual_seed(7)"
   ]
  },
  {
   "cell_type": "code",
   "execution_count": 179,
   "metadata": {},
   "outputs": [
    {
     "name": "stderr",
     "output_type": "stream",
     "text": [
      "/var/folders/d1/pxwd2rcj41j7b2lhnz909xn80000gn/T/ipykernel_67182/112231088.py:4: UserWarning: To copy construct from a tensor, it is recommended to use sourceTensor.clone().detach() or sourceTensor.clone().detach().requires_grad_(True), rather than torch.tensor(sourceTensor).\n",
      "  x_train = torch.tensor(x_train, dtype=torch.float32)\n",
      "/var/folders/d1/pxwd2rcj41j7b2lhnz909xn80000gn/T/ipykernel_67182/112231088.py:5: UserWarning: To copy construct from a tensor, it is recommended to use sourceTensor.clone().detach() or sourceTensor.clone().detach().requires_grad_(True), rather than torch.tensor(sourceTensor).\n",
      "  y_train = torch.tensor(y_train, dtype=torch.float32)\n"
     ]
    }
   ],
   "source": [
    "train_dataset = MNIST(os.getcwd(), train=True, download=True, transform=[transforms.ToTensor(), transforms.Normalize((0.5,), (0.5,))])\n",
    "x_train = train_dataset.data / 255.0\n",
    "y_train = F.one_hot(train_dataset.targets, num_classes=10)\n",
    "x_train = torch.tensor(x_train, dtype=torch.float32)\n",
    "y_train = torch.tensor(y_train, dtype=torch.float32)\n",
    "x_train = x_train.view(-1, 784)\n",
    "dtrain = torch.utils.data.TensorDataset(x_train, y_train)\n",
    "trainloader = DataLoader(dtrain, batch_size=256, shuffle=True)"
   ]
  },
  {
   "cell_type": "code",
   "execution_count": 180,
   "metadata": {},
   "outputs": [
    {
     "name": "stderr",
     "output_type": "stream",
     "text": [
      "/var/folders/d1/pxwd2rcj41j7b2lhnz909xn80000gn/T/ipykernel_67182/3473755828.py:4: UserWarning: To copy construct from a tensor, it is recommended to use sourceTensor.clone().detach() or sourceTensor.clone().detach().requires_grad_(True), rather than torch.tensor(sourceTensor).\n",
      "  x_test = torch.tensor(x_test, dtype=torch.float32)\n",
      "/var/folders/d1/pxwd2rcj41j7b2lhnz909xn80000gn/T/ipykernel_67182/3473755828.py:5: UserWarning: To copy construct from a tensor, it is recommended to use sourceTensor.clone().detach() or sourceTensor.clone().detach().requires_grad_(True), rather than torch.tensor(sourceTensor).\n",
      "  y_test = torch.tensor(y_test, dtype=torch.float32)\n"
     ]
    }
   ],
   "source": [
    "testDataset = MNIST(os.getcwd(), train=False, download=True, transform=[transforms.ToTensor(), transforms.Normalize((0.5,), (0.5,))])\n",
    "x_test = testDataset.data / 255.0\n",
    "y_test = F.one_hot(testDataset.targets, num_classes=10)\n",
    "x_test = torch.tensor(x_test, dtype=torch.float32)\n",
    "y_test = torch.tensor(y_test, dtype=torch.float32)\n",
    "x_test = x_test.view(-1, 784)\n",
    "dtest = torch.utils.data.TensorDataset(x_test, y_test)\n",
    "testloader = DataLoader(dtest, batch_size=256, shuffle=True)"
   ]
  },
  {
   "cell_type": "code",
   "execution_count": 181,
   "metadata": {},
   "outputs": [],
   "source": [
    "def neuronalNeuralBalance(inl, oul):\n",
    "\n",
    "    ninc = torch.zeros_like(inl.weight)\n",
    "    noul = torch.zeros_like(oul.weight)\n",
    "\n",
    "    for i in range(inl.weight.data.shape[0]):\n",
    "        inc = np.sqrt(torch.sum(torch.square(inl.weight.data[i])).item())\n",
    "        outg = np.sqrt(torch.sum(torch.square(oul.weight.data[:,i])).item())\n",
    "\n",
    "        # outg = outg / float(len(oul.weight.data[:,i]))\n",
    "        # inc = inc / float(len(inl.weight.data[i]))\n",
    "\n",
    "        opt = np.sqrt(outg/inc)\n",
    "\n",
    "        ninc[i] = inl.weight.data[i]*opt\n",
    "        noul[:, i] = oul.weight.data[:,i]/opt\n",
    "\n",
    "    inl.weight.data = ninc\n",
    "    oul.weight.data = noul\n"
   ]
  },
  {
   "cell_type": "code",
   "execution_count": 182,
   "metadata": {},
   "outputs": [
    {
     "name": "stdout",
     "output_type": "stream",
     "text": [
      "Linear\n",
      "Linear\n",
      "Linear\n",
      "Linear\n",
      "Linear\n"
     ]
    },
    {
     "name": "stderr",
     "output_type": "stream",
     "text": [
      "100%|██████████| 235/235 [00:01<00:00, 154.87it/s]\n"
     ]
    },
    {
     "name": "stdout",
     "output_type": "stream",
     "text": [
      "Epoch 0/100, Loss: 0.047646284103393555, train dataset accuracy: 52.83\n",
      "test dataset accuracy: 66.17%\n"
     ]
    },
    {
     "name": "stderr",
     "output_type": "stream",
     "text": [
      "100%|██████████| 235/235 [00:01<00:00, 144.50it/s]\n"
     ]
    },
    {
     "name": "stdout",
     "output_type": "stream",
     "text": [
      "Epoch 1/100, Loss: 0.01986088976264, train dataset accuracy: 79.76166666666667\n",
      "test dataset accuracy: 85.99%\n"
     ]
    },
    {
     "name": "stderr",
     "output_type": "stream",
     "text": [
      "100%|██████████| 235/235 [00:01<00:00, 182.45it/s]\n"
     ]
    },
    {
     "name": "stdout",
     "output_type": "stream",
     "text": [
      "Epoch 2/100, Loss: 0.02105090580880642, train dataset accuracy: 86.76\n",
      "test dataset accuracy: 86.75%\n"
     ]
    },
    {
     "name": "stderr",
     "output_type": "stream",
     "text": [
      "100%|██████████| 235/235 [00:01<00:00, 175.02it/s]\n"
     ]
    },
    {
     "name": "stdout",
     "output_type": "stream",
     "text": [
      "Epoch 3/100, Loss: 0.01542346365749836, train dataset accuracy: 87.98166666666667\n",
      "test dataset accuracy: 86.84%\n"
     ]
    },
    {
     "name": "stderr",
     "output_type": "stream",
     "text": [
      "100%|██████████| 235/235 [00:01<00:00, 184.35it/s]\n"
     ]
    },
    {
     "name": "stdout",
     "output_type": "stream",
     "text": [
      "Epoch 4/100, Loss: 0.024583380669355392, train dataset accuracy: 88.26166666666667\n",
      "test dataset accuracy: 87.7%\n"
     ]
    },
    {
     "name": "stderr",
     "output_type": "stream",
     "text": [
      "100%|██████████| 235/235 [00:01<00:00, 176.75it/s]\n"
     ]
    },
    {
     "name": "stdout",
     "output_type": "stream",
     "text": [
      "Epoch 5/100, Loss: 0.021689053624868393, train dataset accuracy: 88.34166666666667\n",
      "test dataset accuracy: 87.59%\n"
     ]
    },
    {
     "name": "stderr",
     "output_type": "stream",
     "text": [
      "100%|██████████| 235/235 [00:01<00:00, 179.11it/s]\n"
     ]
    },
    {
     "name": "stdout",
     "output_type": "stream",
     "text": [
      "Epoch 6/100, Loss: 0.016494955867528915, train dataset accuracy: 88.76333333333334\n",
      "test dataset accuracy: 88.21%\n"
     ]
    },
    {
     "name": "stderr",
     "output_type": "stream",
     "text": [
      "100%|██████████| 235/235 [00:01<00:00, 180.82it/s]\n"
     ]
    },
    {
     "name": "stdout",
     "output_type": "stream",
     "text": [
      "Epoch 7/100, Loss: 0.01668894663453102, train dataset accuracy: 88.73\n",
      "test dataset accuracy: 88.38%\n"
     ]
    },
    {
     "name": "stderr",
     "output_type": "stream",
     "text": [
      "100%|██████████| 235/235 [00:01<00:00, 194.41it/s]\n"
     ]
    },
    {
     "name": "stdout",
     "output_type": "stream",
     "text": [
      "Epoch 8/100, Loss: 0.01416304986923933, train dataset accuracy: 89.09666666666666\n",
      "test dataset accuracy: 89.48%\n"
     ]
    },
    {
     "name": "stderr",
     "output_type": "stream",
     "text": [
      "100%|██████████| 235/235 [00:01<00:00, 163.06it/s]\n"
     ]
    },
    {
     "name": "stdout",
     "output_type": "stream",
     "text": [
      "Epoch 9/100, Loss: 0.012803449295461178, train dataset accuracy: 89.095\n",
      "test dataset accuracy: 89.2%\n"
     ]
    },
    {
     "name": "stderr",
     "output_type": "stream",
     "text": [
      "100%|██████████| 235/235 [00:01<00:00, 184.49it/s]\n"
     ]
    },
    {
     "name": "stdout",
     "output_type": "stream",
     "text": [
      "Epoch 10/100, Loss: 0.01254018023610115, train dataset accuracy: 89.28666666666666\n",
      "test dataset accuracy: 88.31%\n"
     ]
    },
    {
     "name": "stderr",
     "output_type": "stream",
     "text": [
      "100%|██████████| 235/235 [00:01<00:00, 180.13it/s]\n"
     ]
    },
    {
     "name": "stdout",
     "output_type": "stream",
     "text": [
      "Epoch 11/100, Loss: 0.010672633536159992, train dataset accuracy: 89.42833333333333\n",
      "test dataset accuracy: 89.06%\n"
     ]
    },
    {
     "name": "stderr",
     "output_type": "stream",
     "text": [
      "100%|██████████| 235/235 [00:01<00:00, 171.79it/s]\n"
     ]
    },
    {
     "name": "stdout",
     "output_type": "stream",
     "text": [
      "Epoch 12/100, Loss: 0.014318933710455894, train dataset accuracy: 89.42666666666666\n",
      "test dataset accuracy: 89.27%\n"
     ]
    },
    {
     "name": "stderr",
     "output_type": "stream",
     "text": [
      "100%|██████████| 235/235 [00:01<00:00, 174.00it/s]\n"
     ]
    },
    {
     "name": "stdout",
     "output_type": "stream",
     "text": [
      "Epoch 13/100, Loss: 0.01502650324255228, train dataset accuracy: 89.63666666666667\n",
      "test dataset accuracy: 89.84%\n"
     ]
    },
    {
     "name": "stderr",
     "output_type": "stream",
     "text": [
      "100%|██████████| 235/235 [00:01<00:00, 169.87it/s]\n"
     ]
    },
    {
     "name": "stdout",
     "output_type": "stream",
     "text": [
      "Epoch 14/100, Loss: 0.015152813866734505, train dataset accuracy: 89.66833333333334\n",
      "test dataset accuracy: 89.82%\n"
     ]
    },
    {
     "name": "stderr",
     "output_type": "stream",
     "text": [
      "100%|██████████| 235/235 [00:01<00:00, 173.62it/s]\n"
     ]
    },
    {
     "name": "stdout",
     "output_type": "stream",
     "text": [
      "Epoch 15/100, Loss: 0.023197518661618233, train dataset accuracy: 90.04166666666667\n",
      "test dataset accuracy: 89.56%\n"
     ]
    },
    {
     "name": "stderr",
     "output_type": "stream",
     "text": [
      "100%|██████████| 235/235 [00:01<00:00, 186.89it/s]\n"
     ]
    },
    {
     "name": "stdout",
     "output_type": "stream",
     "text": [
      "Epoch 16/100, Loss: 0.021423358470201492, train dataset accuracy: 90.00166666666667\n",
      "test dataset accuracy: 89.79%\n"
     ]
    },
    {
     "name": "stderr",
     "output_type": "stream",
     "text": [
      "100%|██████████| 235/235 [00:01<00:00, 161.16it/s]\n"
     ]
    },
    {
     "name": "stdout",
     "output_type": "stream",
     "text": [
      "Epoch 17/100, Loss: 0.01755833625793457, train dataset accuracy: 90.04166666666667\n",
      "test dataset accuracy: 89.98%\n"
     ]
    },
    {
     "name": "stderr",
     "output_type": "stream",
     "text": [
      "100%|██████████| 235/235 [00:01<00:00, 178.33it/s]\n"
     ]
    },
    {
     "name": "stdout",
     "output_type": "stream",
     "text": [
      "Epoch 18/100, Loss: 0.016402360051870346, train dataset accuracy: 90.15\n",
      "test dataset accuracy: 89.65%\n"
     ]
    },
    {
     "name": "stderr",
     "output_type": "stream",
     "text": [
      "100%|██████████| 235/235 [00:01<00:00, 177.28it/s]\n"
     ]
    },
    {
     "name": "stdout",
     "output_type": "stream",
     "text": [
      "Epoch 19/100, Loss: 0.011008743196725845, train dataset accuracy: 90.11166666666666\n",
      "test dataset accuracy: 89.86%\n"
     ]
    },
    {
     "name": "stderr",
     "output_type": "stream",
     "text": [
      "100%|██████████| 235/235 [00:01<00:00, 176.83it/s]\n"
     ]
    },
    {
     "name": "stdout",
     "output_type": "stream",
     "text": [
      "Epoch 20/100, Loss: 0.01860850863158703, train dataset accuracy: 90.31833333333333\n",
      "test dataset accuracy: 90.33%\n"
     ]
    },
    {
     "name": "stderr",
     "output_type": "stream",
     "text": [
      "100%|██████████| 235/235 [00:01<00:00, 174.74it/s]\n"
     ]
    },
    {
     "name": "stdout",
     "output_type": "stream",
     "text": [
      "Epoch 21/100, Loss: 0.01321136299520731, train dataset accuracy: 90.32166666666667\n",
      "test dataset accuracy: 89.99%\n"
     ]
    },
    {
     "name": "stderr",
     "output_type": "stream",
     "text": [
      "100%|██████████| 235/235 [00:01<00:00, 173.66it/s]\n"
     ]
    },
    {
     "name": "stdout",
     "output_type": "stream",
     "text": [
      "Epoch 22/100, Loss: 0.013098630122840405, train dataset accuracy: 90.16166666666666\n",
      "test dataset accuracy: 90.33%\n"
     ]
    },
    {
     "name": "stderr",
     "output_type": "stream",
     "text": [
      "100%|██████████| 235/235 [00:01<00:00, 172.39it/s]\n"
     ]
    },
    {
     "name": "stdout",
     "output_type": "stream",
     "text": [
      "Epoch 23/100, Loss: 0.01657489314675331, train dataset accuracy: 90.39333333333333\n",
      "test dataset accuracy: 88.62%\n"
     ]
    },
    {
     "name": "stderr",
     "output_type": "stream",
     "text": [
      "100%|██████████| 235/235 [00:01<00:00, 147.78it/s]\n"
     ]
    },
    {
     "name": "stdout",
     "output_type": "stream",
     "text": [
      "Epoch 24/100, Loss: 0.013468963094055653, train dataset accuracy: 90.31\n",
      "test dataset accuracy: 90.15%\n"
     ]
    },
    {
     "name": "stderr",
     "output_type": "stream",
     "text": [
      "100%|██████████| 235/235 [00:01<00:00, 133.76it/s]\n"
     ]
    },
    {
     "name": "stdout",
     "output_type": "stream",
     "text": [
      "Epoch 25/100, Loss: 0.010274915024638176, train dataset accuracy: 90.41833333333334\n",
      "test dataset accuracy: 90.12%\n"
     ]
    },
    {
     "name": "stderr",
     "output_type": "stream",
     "text": [
      "100%|██████████| 235/235 [00:01<00:00, 178.83it/s]\n"
     ]
    },
    {
     "name": "stdout",
     "output_type": "stream",
     "text": [
      "Epoch 26/100, Loss: 0.014862204901874065, train dataset accuracy: 90.535\n",
      "test dataset accuracy: 90.29%\n"
     ]
    },
    {
     "name": "stderr",
     "output_type": "stream",
     "text": [
      "100%|██████████| 235/235 [00:01<00:00, 187.13it/s]\n"
     ]
    },
    {
     "name": "stdout",
     "output_type": "stream",
     "text": [
      "Epoch 27/100, Loss: 0.008592379279434681, train dataset accuracy: 90.42\n",
      "test dataset accuracy: 90.31%\n"
     ]
    },
    {
     "name": "stderr",
     "output_type": "stream",
     "text": [
      "100%|██████████| 235/235 [00:01<00:00, 181.32it/s]\n"
     ]
    },
    {
     "name": "stdout",
     "output_type": "stream",
     "text": [
      "Epoch 28/100, Loss: 0.019025122746825218, train dataset accuracy: 90.44833333333334\n",
      "test dataset accuracy: 90.55%\n"
     ]
    },
    {
     "name": "stderr",
     "output_type": "stream",
     "text": [
      "100%|██████████| 235/235 [00:01<00:00, 172.87it/s]\n"
     ]
    },
    {
     "name": "stdout",
     "output_type": "stream",
     "text": [
      "Epoch 29/100, Loss: 0.016817092895507812, train dataset accuracy: 90.42\n",
      "test dataset accuracy: 89.73%\n"
     ]
    },
    {
     "name": "stderr",
     "output_type": "stream",
     "text": [
      "100%|██████████| 235/235 [00:01<00:00, 178.42it/s]\n"
     ]
    },
    {
     "name": "stdout",
     "output_type": "stream",
     "text": [
      "Epoch 30/100, Loss: 0.020521322265267372, train dataset accuracy: 90.365\n",
      "test dataset accuracy: 89.63%\n"
     ]
    },
    {
     "name": "stderr",
     "output_type": "stream",
     "text": [
      "100%|██████████| 235/235 [00:01<00:00, 173.44it/s]\n"
     ]
    },
    {
     "name": "stdout",
     "output_type": "stream",
     "text": [
      "Epoch 31/100, Loss: 0.009976638481020927, train dataset accuracy: 90.45333333333333\n",
      "test dataset accuracy: 90.5%\n"
     ]
    },
    {
     "name": "stderr",
     "output_type": "stream",
     "text": [
      "100%|██████████| 235/235 [00:01<00:00, 179.15it/s]\n"
     ]
    },
    {
     "name": "stdout",
     "output_type": "stream",
     "text": [
      "Epoch 32/100, Loss: 0.016371343284845352, train dataset accuracy: 90.54166666666667\n",
      "test dataset accuracy: 90.41%\n"
     ]
    },
    {
     "name": "stderr",
     "output_type": "stream",
     "text": [
      "100%|██████████| 235/235 [00:01<00:00, 172.35it/s]\n"
     ]
    },
    {
     "name": "stdout",
     "output_type": "stream",
     "text": [
      "Epoch 33/100, Loss: 0.009347108192741871, train dataset accuracy: 90.42333333333333\n",
      "test dataset accuracy: 90.34%\n"
     ]
    },
    {
     "name": "stderr",
     "output_type": "stream",
     "text": [
      "100%|██████████| 235/235 [00:01<00:00, 176.67it/s]\n"
     ]
    },
    {
     "name": "stdout",
     "output_type": "stream",
     "text": [
      "Epoch 34/100, Loss: 0.012011502869427204, train dataset accuracy: 90.41\n",
      "test dataset accuracy: 90.51%\n"
     ]
    },
    {
     "name": "stderr",
     "output_type": "stream",
     "text": [
      "100%|██████████| 235/235 [00:01<00:00, 178.52it/s]\n"
     ]
    },
    {
     "name": "stdout",
     "output_type": "stream",
     "text": [
      "Epoch 35/100, Loss: 0.013716387562453747, train dataset accuracy: 90.49333333333334\n",
      "test dataset accuracy: 90.69%\n"
     ]
    },
    {
     "name": "stderr",
     "output_type": "stream",
     "text": [
      "100%|██████████| 235/235 [00:01<00:00, 172.69it/s]\n"
     ]
    },
    {
     "name": "stdout",
     "output_type": "stream",
     "text": [
      "Epoch 36/100, Loss: 0.009601128287613392, train dataset accuracy: 90.53333333333333\n",
      "test dataset accuracy: 90.45%\n"
     ]
    },
    {
     "name": "stderr",
     "output_type": "stream",
     "text": [
      "100%|██████████| 235/235 [00:01<00:00, 163.95it/s]\n"
     ]
    },
    {
     "name": "stdout",
     "output_type": "stream",
     "text": [
      "Epoch 37/100, Loss: 0.01965097337961197, train dataset accuracy: 90.58333333333333\n",
      "test dataset accuracy: 89.89%\n"
     ]
    },
    {
     "name": "stderr",
     "output_type": "stream",
     "text": [
      "100%|██████████| 235/235 [00:01<00:00, 179.20it/s]\n"
     ]
    },
    {
     "name": "stdout",
     "output_type": "stream",
     "text": [
      "Epoch 38/100, Loss: 0.01616460457444191, train dataset accuracy: 90.775\n",
      "test dataset accuracy: 89.96%\n"
     ]
    },
    {
     "name": "stderr",
     "output_type": "stream",
     "text": [
      "100%|██████████| 235/235 [00:01<00:00, 183.44it/s]\n"
     ]
    },
    {
     "name": "stdout",
     "output_type": "stream",
     "text": [
      "Epoch 39/100, Loss: 0.015111424960196018, train dataset accuracy: 90.35833333333333\n",
      "test dataset accuracy: 90.35%\n"
     ]
    },
    {
     "name": "stderr",
     "output_type": "stream",
     "text": [
      "100%|██████████| 235/235 [00:01<00:00, 161.66it/s]\n"
     ]
    },
    {
     "name": "stdout",
     "output_type": "stream",
     "text": [
      "Epoch 40/100, Loss: 0.02419624663889408, train dataset accuracy: 90.595\n",
      "test dataset accuracy: 90.1%\n"
     ]
    },
    {
     "name": "stderr",
     "output_type": "stream",
     "text": [
      "100%|██████████| 235/235 [00:01<00:00, 173.86it/s]\n"
     ]
    },
    {
     "name": "stdout",
     "output_type": "stream",
     "text": [
      "Epoch 41/100, Loss: 0.018141772598028183, train dataset accuracy: 90.31666666666666\n",
      "test dataset accuracy: 90.69%\n"
     ]
    },
    {
     "name": "stderr",
     "output_type": "stream",
     "text": [
      "100%|██████████| 235/235 [00:01<00:00, 178.29it/s]\n"
     ]
    },
    {
     "name": "stdout",
     "output_type": "stream",
     "text": [
      "Epoch 42/100, Loss: 0.017524976283311844, train dataset accuracy: 90.725\n",
      "test dataset accuracy: 90.13%\n"
     ]
    },
    {
     "name": "stderr",
     "output_type": "stream",
     "text": [
      "100%|██████████| 235/235 [00:01<00:00, 174.10it/s]\n"
     ]
    },
    {
     "name": "stdout",
     "output_type": "stream",
     "text": [
      "Epoch 43/100, Loss: 0.019138144329190254, train dataset accuracy: 90.50333333333333\n",
      "test dataset accuracy: 89.93%\n"
     ]
    },
    {
     "name": "stderr",
     "output_type": "stream",
     "text": [
      "100%|██████████| 235/235 [00:01<00:00, 179.99it/s]\n"
     ]
    },
    {
     "name": "stdout",
     "output_type": "stream",
     "text": [
      "Epoch 44/100, Loss: 0.01005929708480835, train dataset accuracy: 90.645\n",
      "test dataset accuracy: 90.61%\n"
     ]
    },
    {
     "name": "stderr",
     "output_type": "stream",
     "text": [
      "100%|██████████| 235/235 [00:01<00:00, 172.94it/s]\n"
     ]
    },
    {
     "name": "stdout",
     "output_type": "stream",
     "text": [
      "Epoch 45/100, Loss: 0.014038468711078167, train dataset accuracy: 90.765\n",
      "test dataset accuracy: 90.61%\n"
     ]
    },
    {
     "name": "stderr",
     "output_type": "stream",
     "text": [
      "100%|██████████| 235/235 [00:01<00:00, 176.71it/s]\n"
     ]
    },
    {
     "name": "stdout",
     "output_type": "stream",
     "text": [
      "Epoch 46/100, Loss: 0.018552862107753754, train dataset accuracy: 90.65333333333334\n",
      "test dataset accuracy: 90.61%\n"
     ]
    },
    {
     "name": "stderr",
     "output_type": "stream",
     "text": [
      "100%|██████████| 235/235 [00:01<00:00, 187.99it/s]\n"
     ]
    },
    {
     "name": "stdout",
     "output_type": "stream",
     "text": [
      "Epoch 47/100, Loss: 0.01543466467410326, train dataset accuracy: 90.82833333333333\n",
      "test dataset accuracy: 90.71%\n"
     ]
    },
    {
     "name": "stderr",
     "output_type": "stream",
     "text": [
      "100%|██████████| 235/235 [00:01<00:00, 183.08it/s]\n"
     ]
    },
    {
     "name": "stdout",
     "output_type": "stream",
     "text": [
      "Epoch 48/100, Loss: 0.017926663160324097, train dataset accuracy: 90.74333333333334\n",
      "test dataset accuracy: 90.93%\n"
     ]
    },
    {
     "name": "stderr",
     "output_type": "stream",
     "text": [
      "100%|██████████| 235/235 [00:01<00:00, 178.69it/s]\n"
     ]
    },
    {
     "name": "stdout",
     "output_type": "stream",
     "text": [
      "Epoch 49/100, Loss: 0.016924576833844185, train dataset accuracy: 90.65\n",
      "test dataset accuracy: 89.39%\n"
     ]
    },
    {
     "name": "stderr",
     "output_type": "stream",
     "text": [
      "100%|██████████| 235/235 [00:01<00:00, 174.83it/s]\n"
     ]
    },
    {
     "name": "stdout",
     "output_type": "stream",
     "text": [
      "Epoch 50/100, Loss: 0.01782471127808094, train dataset accuracy: 90.46\n",
      "test dataset accuracy: 89.84%\n"
     ]
    },
    {
     "name": "stderr",
     "output_type": "stream",
     "text": [
      "100%|██████████| 235/235 [00:01<00:00, 178.23it/s]\n"
     ]
    },
    {
     "name": "stdout",
     "output_type": "stream",
     "text": [
      "Epoch 51/100, Loss: 0.012592757120728493, train dataset accuracy: 90.62666666666667\n",
      "test dataset accuracy: 90.66%\n"
     ]
    },
    {
     "name": "stderr",
     "output_type": "stream",
     "text": [
      "100%|██████████| 235/235 [00:01<00:00, 173.17it/s]\n"
     ]
    },
    {
     "name": "stdout",
     "output_type": "stream",
     "text": [
      "Epoch 52/100, Loss: 0.020652903243899345, train dataset accuracy: 90.585\n",
      "test dataset accuracy: 90.1%\n"
     ]
    },
    {
     "name": "stderr",
     "output_type": "stream",
     "text": [
      "100%|██████████| 235/235 [00:01<00:00, 163.21it/s]\n"
     ]
    },
    {
     "name": "stdout",
     "output_type": "stream",
     "text": [
      "Epoch 53/100, Loss: 0.012675642967224121, train dataset accuracy: 90.715\n",
      "test dataset accuracy: 90.01%\n"
     ]
    },
    {
     "name": "stderr",
     "output_type": "stream",
     "text": [
      "100%|██████████| 235/235 [00:01<00:00, 185.82it/s]\n"
     ]
    },
    {
     "name": "stdout",
     "output_type": "stream",
     "text": [
      "Epoch 54/100, Loss: 0.006989987567067146, train dataset accuracy: 90.54333333333334\n",
      "test dataset accuracy: 90.13%\n"
     ]
    },
    {
     "name": "stderr",
     "output_type": "stream",
     "text": [
      "100%|██████████| 235/235 [00:01<00:00, 173.73it/s]\n"
     ]
    },
    {
     "name": "stdout",
     "output_type": "stream",
     "text": [
      "Epoch 55/100, Loss: 0.013034078292548656, train dataset accuracy: 90.595\n",
      "test dataset accuracy: 90.74%\n"
     ]
    },
    {
     "name": "stderr",
     "output_type": "stream",
     "text": [
      "100%|██████████| 235/235 [00:01<00:00, 169.60it/s]\n"
     ]
    },
    {
     "name": "stdout",
     "output_type": "stream",
     "text": [
      "Epoch 56/100, Loss: 0.022845616564154625, train dataset accuracy: 91.07666666666667\n",
      "test dataset accuracy: 91.28%\n"
     ]
    },
    {
     "name": "stderr",
     "output_type": "stream",
     "text": [
      "100%|██████████| 235/235 [00:01<00:00, 176.16it/s]\n"
     ]
    },
    {
     "name": "stdout",
     "output_type": "stream",
     "text": [
      "Epoch 57/100, Loss: 0.01678646355867386, train dataset accuracy: 91.00166666666667\n",
      "test dataset accuracy: 90.49%\n"
     ]
    },
    {
     "name": "stderr",
     "output_type": "stream",
     "text": [
      "100%|██████████| 235/235 [00:01<00:00, 172.30it/s]\n"
     ]
    },
    {
     "name": "stdout",
     "output_type": "stream",
     "text": [
      "Epoch 58/100, Loss: 0.015257885679602623, train dataset accuracy: 91.28166666666667\n",
      "test dataset accuracy: 89.9%\n"
     ]
    },
    {
     "name": "stderr",
     "output_type": "stream",
     "text": [
      "100%|██████████| 235/235 [00:01<00:00, 188.93it/s]\n"
     ]
    },
    {
     "name": "stdout",
     "output_type": "stream",
     "text": [
      "Epoch 59/100, Loss: 0.011806579306721687, train dataset accuracy: 91.235\n",
      "test dataset accuracy: 90.56%\n"
     ]
    },
    {
     "name": "stderr",
     "output_type": "stream",
     "text": [
      "100%|██████████| 235/235 [00:01<00:00, 167.12it/s]\n"
     ]
    },
    {
     "name": "stdout",
     "output_type": "stream",
     "text": [
      "Epoch 60/100, Loss: 0.009885971434414387, train dataset accuracy: 91.315\n",
      "test dataset accuracy: 90.57%\n"
     ]
    },
    {
     "name": "stderr",
     "output_type": "stream",
     "text": [
      "100%|██████████| 235/235 [00:01<00:00, 171.12it/s]\n"
     ]
    },
    {
     "name": "stdout",
     "output_type": "stream",
     "text": [
      "Epoch 61/100, Loss: 0.006956498138606548, train dataset accuracy: 91.37833333333333\n",
      "test dataset accuracy: 90.77%\n"
     ]
    },
    {
     "name": "stderr",
     "output_type": "stream",
     "text": [
      "100%|██████████| 235/235 [00:01<00:00, 175.84it/s]\n"
     ]
    },
    {
     "name": "stdout",
     "output_type": "stream",
     "text": [
      "Epoch 62/100, Loss: 0.008167991414666176, train dataset accuracy: 90.80166666666666\n",
      "test dataset accuracy: 90.48%\n"
     ]
    },
    {
     "name": "stderr",
     "output_type": "stream",
     "text": [
      "100%|██████████| 235/235 [00:01<00:00, 182.26it/s]\n"
     ]
    },
    {
     "name": "stdout",
     "output_type": "stream",
     "text": [
      "Epoch 63/100, Loss: 0.019466670230031013, train dataset accuracy: 91.19833333333334\n",
      "test dataset accuracy: 90.94%\n"
     ]
    },
    {
     "name": "stderr",
     "output_type": "stream",
     "text": [
      "100%|██████████| 235/235 [00:01<00:00, 178.32it/s]\n"
     ]
    },
    {
     "name": "stdout",
     "output_type": "stream",
     "text": [
      "Epoch 64/100, Loss: 0.008603936061263084, train dataset accuracy: 90.97666666666667\n",
      "test dataset accuracy: 90.88%\n"
     ]
    },
    {
     "name": "stderr",
     "output_type": "stream",
     "text": [
      "100%|██████████| 235/235 [00:01<00:00, 173.94it/s]\n"
     ]
    },
    {
     "name": "stdout",
     "output_type": "stream",
     "text": [
      "Epoch 65/100, Loss: 0.012101084925234318, train dataset accuracy: 90.84\n",
      "test dataset accuracy: 90.35%\n"
     ]
    },
    {
     "name": "stderr",
     "output_type": "stream",
     "text": [
      "100%|██████████| 235/235 [00:01<00:00, 169.35it/s]\n"
     ]
    },
    {
     "name": "stdout",
     "output_type": "stream",
     "text": [
      "Epoch 66/100, Loss: 0.02002752386033535, train dataset accuracy: 91.05166666666666\n",
      "test dataset accuracy: 91.03%\n"
     ]
    },
    {
     "name": "stderr",
     "output_type": "stream",
     "text": [
      "100%|██████████| 235/235 [00:01<00:00, 172.71it/s]\n"
     ]
    },
    {
     "name": "stdout",
     "output_type": "stream",
     "text": [
      "Epoch 67/100, Loss: 0.018323609605431557, train dataset accuracy: 91.04166666666667\n",
      "test dataset accuracy: 90.63%\n"
     ]
    },
    {
     "name": "stderr",
     "output_type": "stream",
     "text": [
      "100%|██████████| 235/235 [00:01<00:00, 187.50it/s]\n"
     ]
    },
    {
     "name": "stdout",
     "output_type": "stream",
     "text": [
      "Epoch 68/100, Loss: 0.018134135752916336, train dataset accuracy: 91.345\n",
      "test dataset accuracy: 90.46%\n"
     ]
    },
    {
     "name": "stderr",
     "output_type": "stream",
     "text": [
      "100%|██████████| 235/235 [00:01<00:00, 167.23it/s]\n"
     ]
    },
    {
     "name": "stdout",
     "output_type": "stream",
     "text": [
      "Epoch 69/100, Loss: 0.015520394779741764, train dataset accuracy: 91.34333333333333\n",
      "test dataset accuracy: 90.41%\n"
     ]
    },
    {
     "name": "stderr",
     "output_type": "stream",
     "text": [
      "100%|██████████| 235/235 [00:01<00:00, 193.40it/s]\n"
     ]
    },
    {
     "name": "stdout",
     "output_type": "stream",
     "text": [
      "Epoch 70/100, Loss: 0.010756628587841988, train dataset accuracy: 91.41333333333333\n",
      "test dataset accuracy: 90.64%\n"
     ]
    },
    {
     "name": "stderr",
     "output_type": "stream",
     "text": [
      "100%|██████████| 235/235 [00:01<00:00, 170.26it/s]\n"
     ]
    },
    {
     "name": "stdout",
     "output_type": "stream",
     "text": [
      "Epoch 71/100, Loss: 0.015534667298197746, train dataset accuracy: 90.98166666666667\n",
      "test dataset accuracy: 90.56%\n"
     ]
    },
    {
     "name": "stderr",
     "output_type": "stream",
     "text": [
      "100%|██████████| 235/235 [00:01<00:00, 166.60it/s]\n"
     ]
    },
    {
     "name": "stdout",
     "output_type": "stream",
     "text": [
      "Epoch 72/100, Loss: 0.012578431516885757, train dataset accuracy: 91.145\n",
      "test dataset accuracy: 90.42%\n"
     ]
    },
    {
     "name": "stderr",
     "output_type": "stream",
     "text": [
      "100%|██████████| 235/235 [00:01<00:00, 165.70it/s]\n"
     ]
    },
    {
     "name": "stdout",
     "output_type": "stream",
     "text": [
      "Epoch 73/100, Loss: 0.013160099275410175, train dataset accuracy: 91.26166666666667\n",
      "test dataset accuracy: 90.46%\n"
     ]
    },
    {
     "name": "stderr",
     "output_type": "stream",
     "text": [
      "100%|██████████| 235/235 [00:01<00:00, 177.47it/s]\n"
     ]
    },
    {
     "name": "stdout",
     "output_type": "stream",
     "text": [
      "Epoch 74/100, Loss: 0.013525676913559437, train dataset accuracy: 91.31166666666667\n",
      "test dataset accuracy: 90.91%\n"
     ]
    },
    {
     "name": "stderr",
     "output_type": "stream",
     "text": [
      "100%|██████████| 235/235 [00:01<00:00, 186.73it/s]\n"
     ]
    },
    {
     "name": "stdout",
     "output_type": "stream",
     "text": [
      "Epoch 75/100, Loss: 0.014571291394531727, train dataset accuracy: 91.32333333333334\n",
      "test dataset accuracy: 91.03%\n"
     ]
    },
    {
     "name": "stderr",
     "output_type": "stream",
     "text": [
      "100%|██████████| 235/235 [00:01<00:00, 172.27it/s]\n"
     ]
    },
    {
     "name": "stdout",
     "output_type": "stream",
     "text": [
      "Epoch 76/100, Loss: 0.010563284158706665, train dataset accuracy: 91.63\n",
      "test dataset accuracy: 91.22%\n"
     ]
    },
    {
     "name": "stderr",
     "output_type": "stream",
     "text": [
      "100%|██████████| 235/235 [00:01<00:00, 173.02it/s]\n"
     ]
    },
    {
     "name": "stdout",
     "output_type": "stream",
     "text": [
      "Epoch 77/100, Loss: 0.011410745792090893, train dataset accuracy: 91.49\n",
      "test dataset accuracy: 90.87%\n"
     ]
    },
    {
     "name": "stderr",
     "output_type": "stream",
     "text": [
      "100%|██████████| 235/235 [00:01<00:00, 165.75it/s]\n"
     ]
    },
    {
     "name": "stdout",
     "output_type": "stream",
     "text": [
      "Epoch 78/100, Loss: 0.018444670364260674, train dataset accuracy: 91.40833333333333\n",
      "test dataset accuracy: 90.87%\n"
     ]
    },
    {
     "name": "stderr",
     "output_type": "stream",
     "text": [
      "100%|██████████| 235/235 [00:01<00:00, 178.55it/s]\n"
     ]
    },
    {
     "name": "stdout",
     "output_type": "stream",
     "text": [
      "Epoch 79/100, Loss: 0.0166232418268919, train dataset accuracy: 91.46666666666667\n",
      "test dataset accuracy: 90.82%\n"
     ]
    },
    {
     "name": "stderr",
     "output_type": "stream",
     "text": [
      "100%|██████████| 235/235 [00:01<00:00, 178.70it/s]\n"
     ]
    },
    {
     "name": "stdout",
     "output_type": "stream",
     "text": [
      "Epoch 80/100, Loss: 0.019517268985509872, train dataset accuracy: 91.39166666666667\n",
      "test dataset accuracy: 90.36%\n"
     ]
    },
    {
     "name": "stderr",
     "output_type": "stream",
     "text": [
      "100%|██████████| 235/235 [00:01<00:00, 158.57it/s]\n"
     ]
    },
    {
     "name": "stdout",
     "output_type": "stream",
     "text": [
      "Epoch 81/100, Loss: 0.014750645495951176, train dataset accuracy: 91.24666666666667\n",
      "test dataset accuracy: 88.83%\n"
     ]
    },
    {
     "name": "stderr",
     "output_type": "stream",
     "text": [
      "100%|██████████| 235/235 [00:01<00:00, 179.02it/s]\n"
     ]
    },
    {
     "name": "stdout",
     "output_type": "stream",
     "text": [
      "Epoch 82/100, Loss: 0.0160785261541605, train dataset accuracy: 90.605\n",
      "test dataset accuracy: 90.61%\n"
     ]
    },
    {
     "name": "stderr",
     "output_type": "stream",
     "text": [
      "100%|██████████| 235/235 [00:01<00:00, 167.19it/s]\n"
     ]
    },
    {
     "name": "stdout",
     "output_type": "stream",
     "text": [
      "Epoch 83/100, Loss: 0.015390477143228054, train dataset accuracy: 91.14833333333333\n",
      "test dataset accuracy: 91.03%\n"
     ]
    },
    {
     "name": "stderr",
     "output_type": "stream",
     "text": [
      "100%|██████████| 235/235 [00:01<00:00, 177.76it/s]\n"
     ]
    },
    {
     "name": "stdout",
     "output_type": "stream",
     "text": [
      "Epoch 84/100, Loss: 0.015614362433552742, train dataset accuracy: 91.14833333333333\n",
      "test dataset accuracy: 90.65%\n"
     ]
    },
    {
     "name": "stderr",
     "output_type": "stream",
     "text": [
      "100%|██████████| 235/235 [00:01<00:00, 175.04it/s]\n"
     ]
    },
    {
     "name": "stdout",
     "output_type": "stream",
     "text": [
      "Epoch 85/100, Loss: 0.019065679982304573, train dataset accuracy: 91.3\n",
      "test dataset accuracy: 90.67%\n"
     ]
    },
    {
     "name": "stderr",
     "output_type": "stream",
     "text": [
      "100%|██████████| 235/235 [00:01<00:00, 176.02it/s]\n"
     ]
    },
    {
     "name": "stdout",
     "output_type": "stream",
     "text": [
      "Epoch 86/100, Loss: 0.015225455164909363, train dataset accuracy: 90.905\n",
      "test dataset accuracy: 90.67%\n"
     ]
    },
    {
     "name": "stderr",
     "output_type": "stream",
     "text": [
      "100%|██████████| 235/235 [00:01<00:00, 167.61it/s]\n"
     ]
    },
    {
     "name": "stdout",
     "output_type": "stream",
     "text": [
      "Epoch 87/100, Loss: 0.015883345156908035, train dataset accuracy: 91.31833333333333\n",
      "test dataset accuracy: 91.21%\n"
     ]
    },
    {
     "name": "stderr",
     "output_type": "stream",
     "text": [
      "100%|██████████| 235/235 [00:01<00:00, 175.14it/s]\n"
     ]
    },
    {
     "name": "stdout",
     "output_type": "stream",
     "text": [
      "Epoch 88/100, Loss: 0.007611481472849846, train dataset accuracy: 91.24\n",
      "test dataset accuracy: 90.69%\n"
     ]
    },
    {
     "name": "stderr",
     "output_type": "stream",
     "text": [
      "100%|██████████| 235/235 [00:01<00:00, 162.88it/s]\n"
     ]
    },
    {
     "name": "stdout",
     "output_type": "stream",
     "text": [
      "Epoch 89/100, Loss: 0.008461376652121544, train dataset accuracy: 91.48333333333333\n",
      "test dataset accuracy: 90.65%\n"
     ]
    },
    {
     "name": "stderr",
     "output_type": "stream",
     "text": [
      "100%|██████████| 235/235 [00:01<00:00, 168.98it/s]\n"
     ]
    },
    {
     "name": "stdout",
     "output_type": "stream",
     "text": [
      "Epoch 90/100, Loss: 0.020441347733139992, train dataset accuracy: 91.28166666666667\n",
      "test dataset accuracy: 89.82%\n"
     ]
    },
    {
     "name": "stderr",
     "output_type": "stream",
     "text": [
      "100%|██████████| 235/235 [00:01<00:00, 176.34it/s]\n"
     ]
    },
    {
     "name": "stdout",
     "output_type": "stream",
     "text": [
      "Epoch 91/100, Loss: 0.016781486570835114, train dataset accuracy: 91.43\n",
      "test dataset accuracy: 91.14%\n"
     ]
    },
    {
     "name": "stderr",
     "output_type": "stream",
     "text": [
      "100%|██████████| 235/235 [00:01<00:00, 174.16it/s]\n"
     ]
    },
    {
     "name": "stdout",
     "output_type": "stream",
     "text": [
      "Epoch 92/100, Loss: 0.01760760322213173, train dataset accuracy: 91.605\n",
      "test dataset accuracy: 90.95%\n"
     ]
    },
    {
     "name": "stderr",
     "output_type": "stream",
     "text": [
      "100%|██████████| 235/235 [00:01<00:00, 166.33it/s]\n"
     ]
    },
    {
     "name": "stdout",
     "output_type": "stream",
     "text": [
      "Epoch 93/100, Loss: 0.014852119609713554, train dataset accuracy: 91.54333333333334\n",
      "test dataset accuracy: 90.42%\n"
     ]
    },
    {
     "name": "stderr",
     "output_type": "stream",
     "text": [
      "100%|██████████| 235/235 [00:01<00:00, 176.40it/s]\n"
     ]
    },
    {
     "name": "stdout",
     "output_type": "stream",
     "text": [
      "Epoch 94/100, Loss: 0.017939476296305656, train dataset accuracy: 91.55166666666666\n",
      "test dataset accuracy: 90.12%\n"
     ]
    },
    {
     "name": "stderr",
     "output_type": "stream",
     "text": [
      "100%|██████████| 235/235 [00:01<00:00, 174.39it/s]\n"
     ]
    },
    {
     "name": "stdout",
     "output_type": "stream",
     "text": [
      "Epoch 95/100, Loss: 0.015490394085645676, train dataset accuracy: 91.37666666666667\n",
      "test dataset accuracy: 91.28%\n"
     ]
    },
    {
     "name": "stderr",
     "output_type": "stream",
     "text": [
      "100%|██████████| 235/235 [00:01<00:00, 175.57it/s]\n"
     ]
    },
    {
     "name": "stdout",
     "output_type": "stream",
     "text": [
      "Epoch 96/100, Loss: 0.013760355301201344, train dataset accuracy: 91.63166666666666\n",
      "test dataset accuracy: 90.09%\n"
     ]
    },
    {
     "name": "stderr",
     "output_type": "stream",
     "text": [
      "100%|██████████| 235/235 [00:01<00:00, 175.68it/s]\n"
     ]
    },
    {
     "name": "stdout",
     "output_type": "stream",
     "text": [
      "Epoch 97/100, Loss: 0.01462976261973381, train dataset accuracy: 91.31166666666667\n",
      "test dataset accuracy: 90.98%\n"
     ]
    },
    {
     "name": "stderr",
     "output_type": "stream",
     "text": [
      "100%|██████████| 235/235 [00:01<00:00, 171.60it/s]\n"
     ]
    },
    {
     "name": "stdout",
     "output_type": "stream",
     "text": [
      "Epoch 98/100, Loss: 0.009523380547761917, train dataset accuracy: 91.42333333333333\n",
      "test dataset accuracy: 90.94%\n"
     ]
    },
    {
     "name": "stderr",
     "output_type": "stream",
     "text": [
      "100%|██████████| 235/235 [00:01<00:00, 176.81it/s]\n"
     ]
    },
    {
     "name": "stdout",
     "output_type": "stream",
     "text": [
      "Epoch 99/100, Loss: 0.010366374626755714, train dataset accuracy: 91.44833333333334\n",
      "test dataset accuracy: 90.85%\n"
     ]
    }
   ],
   "source": [
    "model = model\n",
    "lay = []\n",
    "for n, i in model.named_children():\n",
    "    print(type(i).__name__)\n",
    "    if type(i).__name__ == \"Linear\":\n",
    "        lay.append((n, i))\n",
    "\n",
    "acc = []\n",
    "tacc=[]\n",
    "\n",
    "num_epochs = 100  \n",
    "for epoch in range(num_epochs):\n",
    "    ttot = 0\n",
    "    tcorr = 0\n",
    "    for b in tqdm(trainloader):\n",
    "        xt, y = b[0], b[1]\n",
    "        optimizer.zero_grad() \n",
    "        outputs = model(xt)  \n",
    "        loss = criterion(outputs, y) \n",
    "        \n",
    "        loss.backward() \n",
    "        optimizer.step() \n",
    "    \n",
    "        _, y = torch.max(y.data, 1)\n",
    "        _, pred = torch.max(outputs.data, 1)\n",
    "        ttot += y.shape[0]\n",
    "        tcorr += (pred == y).sum().item()\n",
    "\n",
    "    tacc.append(tcorr/ttot)\n",
    "    \n",
    "    for i in range(len(lay)):\n",
    "        if i > 0 and i <= len(lay)-1:\n",
    "            di = neuronalNeuralBalance(lay[i-1][1], lay[i][1])\n",
    "\n",
    "    print(f'Epoch {epoch}/{num_epochs}, Loss: {loss.item()}, train dataset accuracy: {100*tcorr/ttot}')\n",
    "        \n",
    "    tot = 0\n",
    "    corr = 0\n",
    "\n",
    "    with torch.no_grad():\n",
    "        for i in testloader:\n",
    "            xt, y = i[0], i[1]\n",
    "            outputs = model(xt)  \n",
    "            _, y = torch.max(y.data, 1)\n",
    "            _, pred = torch.max(outputs.data, 1)\n",
    "            tot += y.shape[0]\n",
    "            corr += (pred == y).sum().item()\n",
    "    print(f'test dataset accuracy: {100*corr/tot}%')\n",
    "    acc.append(corr/tot)\n"
   ]
  },
  {
   "cell_type": "code",
   "execution_count": 183,
   "metadata": {},
   "outputs": [
    {
     "data": {
      "image/png": "[encoded data removed]",
      "text/plain": [
       "<Figure size 2500x500 with 3 Axes>"
      ]
     },
     "metadata": {},
     "output_type": "display_data"
    }
   ],
   "source": [
    "import matplotlib.pyplot as plt\n",
    "\n",
    "fc_weights = model.fc.weight.cpu().detach().numpy().flatten()\n",
    "fc2_weights = model.fc2.weight.cpu().detach().numpy().flatten()\n",
    "out_weights = model.out.weight.cpu().detach().numpy().flatten()\n",
    "\n",
    "bins = np.linspace(-0.5, 0.5, 50) \n",
    "fc_hist, fc_bins = np.histogram(fc_weights, bins=bins)\n",
    "fc2_hist, fc2_bins = np.histogram(fc2_weights, bins=bins)\n",
    "out_hist, out_bins = np.histogram(out_weights, bins=bins)\n",
    "\n",
    "fc_bin_centers = 0.5 * (fc_bins[:-1] + fc_bins[1:])\n",
    "fc2_bin_centers = 0.5 * (fc2_bins[:-1] + fc2_bins[1:])\n",
    "out_bin_centers = 0.5 * (out_bins[:-1] + out_bins[1:])\n",
    "\n",
    "plt.figure(figsize=(25, 5))\n",
    "\n",
    "plt.subplot(1, 3, 1)\n",
    "plt.plot(fc_bin_centers, fc_hist, marker='o', linestyle='-', color='b')\n",
    "plt.title('Weight Distribution: Input to Hidden1 Layer')\n",
    "plt.xlabel('Weight Value')\n",
    "plt.ylabel('Frequency')\n",
    "\n",
    "plt.subplot(1, 3, 2)\n",
    "plt.plot(fc2_bin_centers, fc2_hist, marker='o', linestyle='-', color='g')\n",
    "plt.title('Weight Distribution: hidden 1 to hidden 2 Layer')\n",
    "plt.xlabel('Weight Value')\n",
    "plt.ylabel('Frequency')\n",
    "\n",
    "plt.subplot(1, 3, 3)\n",
    "plt.plot(out_bin_centers, out_hist, marker='o', linestyle='-', color='g')\n",
    "plt.title('Weight Distribution: Hidden2 to Output Layer')\n",
    "plt.xlabel('Weight Value')\n",
    "plt.ylabel('Frequency')\n",
    "\n",
    "plt.tight_layout()\n",
    "plt.show()\n"
   ]
  },
  {
   "cell_type": "code",
   "execution_count": 184,
   "metadata": {},
   "outputs": [
    {
     "name": "stdout",
     "output_type": "stream",
     "text": [
      "Number of non-zero weights greater than 0.01 in layer 1: 38510\n",
      "Number of non-zero weights greater than 0.01 in layer 1: 6354\n",
      "Number of non-zero weights greater than 0.01 in layer 3: 633\n"
     ]
    }
   ],
   "source": [
    "import torch\n",
    "\n",
    "def count_nonzero_weights_above_threshold(layer, threshold=0.01):\n",
    "    return torch.sum(torch.abs(layer.weight) > threshold).item()\n",
    "\n",
    "threshold_value = 0.01 \n",
    "\n",
    "nonzero_fc1 = count_nonzero_weights_above_threshold(model.fc, threshold=threshold_value)\n",
    "nonzero_fc2 = count_nonzero_weights_above_threshold(model.fc2, threshold=threshold_value)\n",
    "nonzero_fc3 = count_nonzero_weights_above_threshold(model.out, threshold=threshold_value)\n",
    "\n",
    "print(f'Number of non-zero weights greater than {threshold_value} in layer 1: {nonzero_fc1}')\n",
    "print(f'Number of non-zero weights greater than {threshold_value} in layer 1: {nonzero_fc2}')\n",
    "print(f'Number of non-zero weights greater than {threshold_value} in layer 3: {nonzero_fc3}')"
   ]
  },
  {
   "cell_type": "code",
   "execution_count": 185,
   "metadata": {},
   "outputs": [
    {
     "name": "stdout",
     "output_type": "stream",
     "text": [
      "[1.0050671580306518, 1.003577841839755, 0.9980686500281679, 0.9937699175681548, 0.9978539523919434, 1.0040228876344952, 1.0017214032359503, 0.9984612255469559, 0.9969199029886309, 0.9946583154117754, 1.0044992369152994, 1.0061914101392082, 0.9963600959524659, 0.9960774843809557, 0.9912589009590547, 1.0052681345366623, 1.003239924932384, 1.003697212896309, 1.006453873907993, 0.998796462189217, 1.0050328118457659, 0.9943399189254141, 1.0041193772693295, 1.0068270472579377, 0.994198501421418, 1.00427911496232, 0.9902562496598464, 0.9919845221975888, 0.9953661282287418, 1.005215249718763, 1.0031175862859756, 1.0031935797684262, 1.0051624069777014, 0.9920541897626096, 0.9971273308862747, 0.9997446221175761, 1.0056569867501384, 1.006494098006997, 1.0056021898286496, 1.0020971045757645, 1.0061144815437404, 1.0006023746411357, 0.9995753235292357, 1.005652104660388, 1.0046203261835893, 1.0010173780235754, 1.0044356960171663, 0.9943825248023005, 1.00565342564086, 0.9928106145836102, 0.9864722864079837, 0.9940605473854667, 0.9868168310640479, 0.999589203987754, 0.9954712207650677, 1.005874275677904, 1.0056021963132653, 1.0052487070564844, 0.9900982394666765, 0.9975637400368006, 0.9925238601658515, 0.99329646765, 1.0047405389679251, 1.0047408986035224, 1.0054143872638157, 1.0067564471284556, 1.005154103085175, 1.0061107819900716, 0.990988854917272, 0.9953862972088514, 1.000069608065711, 1.0044245060851953, 1.0009423869498721, 1.003969700983666, 1.0054711695703424, 0.9913648624105288, 1.0042311459342388, 1.0004122155370332, 1.0066512639847547, 1.0062777328941321, 1.0053780792879465, 0.9972272614921831, 1.002477958219946, 1.0053530094737815, 0.9993227202430299, 0.9944895403225226, 1.006028463325353, 0.9951861166132505, 1.004386244592769, 1.0032970481150274, 1.0037528176131654, 0.9762918373022105, 1.0064073962636544, 1.005126257675621, 1.0059785316889887, 1.004592919837283, 0.9991879748031784, 0.9908888844323577, 0.9949602927837409, 1.0064611840970614, 1.0054854739663297, 1.0054926605385652, 1.005948075452694, 0.9978051515348711, 1.0057456040814672, 0.9974549205235017, 1.0035157225244489, 1.006413303053648, 1.0053151862455982, 1.0039069103388758, 1.0066518743731927, 1.0032778838527614, 1.0016437611199267, 0.9892333603772756, 1.0074266549293847, 0.9940681985804015, 1.0042070165540493, 1.0049094847960138, 0.9931575882804572, 0.9948293794505089, 1.0031818281073803, 1.005171158370472, 1.0074640167805953, 1.0042707632674543, 1.0067840191402524, 1.0050566323083987, 1.0018232646031524, 1.003170121677579, 1.006371589642154, 1.0035254400499178, 1.003405141363429, 1.0018597121001953, 1.0062701417897342, 0.992272146028534, 1.0065294578526816, 1.0043737109162196, 0.997616349947697, 0.9989731884333625, 0.9950432644698178, 1.002900089703179, 0.9942749787463826, 0.9925140457979564, 0.9948946638422862, 1.004702122872734, 0.9883746445491948, 1.0041605034698364, 1.0012997969617632, 1.0062020641819789, 0.9929519216995553, 1.006594741788829, 0.996985048598363, 0.9978160547584269, 0.9917155235226366, 0.9909097723170176, 1.0067691810989923, 0.9942425816682197, 1.0022913453197835, 1.0016151151464456, 1.0047651538951246, 0.9884200391858823, 1.0020002055513826, 0.9806835111587228, 0.9946870459881756, 1.0049760482896808, 1.0030102908404877, 1.0049479446408116, 0.9997446030323344, 1.00587683603765, 1.003485751476559, 1.0034234149946832, 0.9899770931886916, 1.0029824571201813, 0.9923962810997085, 0.9910282773287005, 1.0052575801827324, 0.9971494949093623, 0.9957845602016682, 0.9906513777190512, 1.007617947541672, 0.9938606295415509, 1.0047532959791738, 0.9857951609954881, 1.00641693149599, 1.0039622574076077, 1.0054798392304, 1.0004372014391407, 0.9979489669855784, 1.0056086539680613, 0.9933630970001999, 0.9983304055039308, 0.9938187384546381, 1.0018337701057494, 1.0067364567421704, 1.0058657484516917, 0.9984635235988596, 0.9950815981471249, 1.0037160629715918, 0.9972747465517322, 1.0043455964067063, 0.9916109356497522, 1.00104834669798, 1.0000839241661292, 1.006254470856572, 0.9886469992195015, 0.9933207092295454, 1.0038411990036393, 1.0058542154202912, 1.0011761390002436, 1.004225024462162, 1.0061237120410569, 0.9980889853254359, 1.0057517514621037, 1.0065524061409503, 1.0064606305069446, 1.005013188817668, 1.0053156281347948, 1.0055123868255114, 0.9870624769042752, 1.0032106024856184, 1.0053332242673199, 1.0049371298754357, 1.0054090644678093, 1.0060791442272505, 0.9945611127724645, 0.9753169084760699, 1.006006939495583, 1.0065085982606303, 1.0051407534924122, 1.0060497597913451, 1.0058749461854386, 1.0061784337500848, 1.0036494791674175, 1.0013241973010547, 0.9943171519964974, 1.0010988665383385, 1.0042672928561327, 0.9938551349251675, 0.9910407581366065, 1.0042227983588343, 1.0034945830409527, 1.0013553450935133, 0.9934837137247641, 1.0011711814757709, 1.0052575225060554, 1.0009698639611502, 1.0063265186791044, 1.0040531688998624, 1.0005712317695559, 1.0023471353971112, 1.0040417721816943, 1.0045028444812545, 0.9904167776099932, 1.0051997634600291, 1.004819833889227, 1.0026145869924432, 1.0054691226883523, 0.9991775318794235, 1.0001096455529255, 1.0062571754013951, 1.004901738719725, 1.0012229996833568, 1.000785797126524, 1.0009968017870376, 1.003414781265615, 1.0059176124688012, 1.0041154712676026, 1.0047715217357462, 0.9990438809953779, 1.0030676237647667, 1.0067312114112876, 0.9917409073339609, 1.0037468549742228, 1.004796434450386, 1.0020167915380356, 0.9944657742545124, 0.997999439133706, 1.0036676700410663, 0.9960572400120086, 1.0043648124288045, 1.0041895428649503, 1.006796964424764, 1.0058553843563771, 0.9938146108543897, 1.0041756688600325, 1.00606586678503, 0.9932851369656275, 1.006616359155457, 1.0061229483739582, 0.9899115093971067, 1.0053113228984076, 1.0063325961104128, 1.0019870217265487, 0.9881964585518381, 1.0034239881690232, 1.0040615054313378, 1.006883840169436, 0.9972777290002707, 1.0038110870720742, 0.9919372596117578, 1.0047066769515338, 1.000522241640025, 1.002735139373948, 1.0050054513048925, 1.0038391403026707, 0.9979374647943893, 1.004511318444371, 0.9920776427838318, 0.9984953263696743, 0.9977413642028655, 1.0032437098850033, 1.0068822613792372, 0.9925609772264163, 0.9937992025278998, 1.0016689906829255, 1.0056690589613353, 1.0019118260494053, 0.9908419536053206, 1.0065615175873752, 1.000580020999892, 0.9999593324548975, 0.996857231034579, 1.0006577931729312, 1.0035907140756304, 1.0036506819051725, 0.995595329499773, 1.0030095472816483, 0.9994660492284672, 0.9880732969080919, 1.0053652786219789, 1.0008452899294475, 0.9913740163817892, 0.9969472007369976, 1.0016889824141209, 1.0022669666008452, 0.9791179604364374, 1.0051248129633115, 0.9883885912415079, 1.000720862612101, 0.9906379753976484, 1.0064351551053252, 1.006549926716004, 0.99085035020917, 1.0002726917814058, 0.9992681046134076, 0.9998332336090665, 1.0059333711463139, 1.0060543816269862, 0.9952200572046022, 0.9999053683032342, 1.001529586730629, 1.0030140479309413, 1.0054828601635353, 0.994956945349204, 0.993003295858998, 0.9997648804198743, 1.0043384353143054, 0.9980909336039544, 1.0013983288958916, 0.9964489065118934, 0.9923445494974121, 1.0058986363055895, 1.0011646707912703, 1.0023427745080242, 1.0032999029054248, 1.002487050371034, 1.004861486092098, 1.0054090158799769, 0.9923773714600461, 0.9989546755770548, 0.9875474779249139, 0.9916002974404536, 0.9777440894809102, 1.0050376001806796, 1.0061379179405745, 1.006747325613686, 1.0049199154630748, 1.0059129998639376, 1.0037783612426818, 1.0023507161211787, 0.9968666049267055, 0.9925220625940713, 0.997326589571621, 1.0038424679320774, 0.9963461470455156, 0.9952662522235777, 1.0032761173524136, 1.0029763270394603, 1.0040510011261996, 1.005899820427473, 1.0039530705367625, 1.0060653571792273, 0.9935487459091308, 1.005146480668195, 1.0062431376097214, 1.0057618300302231, 0.9924721259787717, 1.006822838159781, 1.0064754435949075, 0.9996194874005759, 1.0028566513546522, 1.0055120058699323, 1.0049483393654433, 1.0007333196477417, 1.006278577317065, 1.0033851924919766, 1.0054581730134906, 1.0075362993330501, 1.0009667749219355, 0.9940884717414953, 1.0049497746720562, 0.9921159193869317, 1.0062627802247808, 1.0046223039669646, 1.0029556168750524, 1.0057797074698942, 0.9993626111895607, 1.0031840626343684, 1.0063195547704835, 0.9969768616947327, 1.00530128444529, 1.001252980516755, 1.0027238297951901, 1.0058272013356897, 0.9911874206059161, 0.992346288010239, 1.0028454828446411, 1.005732067584799, 0.990301038937622, 1.0051220191713293, 1.0070100646818294, 1.0025663291460654, 0.9982896777123489, 1.0012249758760852, 1.006024625187216, 0.9957771955385345, 0.9937283708126787, 0.9868128003988252, 0.99790230380131, 1.0035335466257276, 1.0027984240066055, 0.9982967641923727, 0.9928604889396841, 1.006677757381059, 0.9926144819957214, 1.0017256837490753, 1.0041603339710456, 1.0003869309520772, 1.0008932625200657, 0.9959675563684022, 1.0056457169080846, 0.9943856738836991, 0.9912063432935175, 1.0054040604176397, 0.9896931533287602, 1.0064886864274127, 1.0032529418705638, 0.995719360307701, 1.0066523975424997, 0.9934769985137568, 1.0005282912583267, 0.9948982681733126, 1.0051156221510238, 1.0023062231200095, 1.006473188639414, 1.003464602390518, 0.9922348857700297, 0.9898487286614056, 1.0038346949287031, 1.0038723595849348, 1.0044074364747706, 1.0022812067130968, 1.005471420564986, 1.0046809089919826, 0.9920541700549514, 1.002278022060005, 1.0066720304893, 1.0064395807266424, 0.9975107686550115, 1.0035911863318783, 1.006994528048234, 0.9959492874676652, 1.0060741962708195, 1.0024222268470766, 0.9975589234077858, 1.004589427604918, 1.0065468195767149, 1.0061315897684497, 0.9924371195407539, 1.0058842990973895, 0.9934125592625326, 1.0021890953020103, 1.0010162576545232, 1.0043750388297958, 0.9987464779200234, 1.0045310774018867, 1.004116922442092, 0.99135508536952, 1.0010500132375189, 1.0056189863928724, 1.0062019668360247, 0.9959162784475518, 0.9923768701650401, 1.0037715442188166, 1.0056093779587103, 0.9920283379618594, 1.0034965823509465, 1.0046797472702405, 1.0004575925902939, 1.005118328442361, 0.987234641792911, 1.0039479011303416, 0.9993503481988517]\n",
      "torch.Size([512])\n",
      "[0.9840145699312942, 0.9846201989873453, 0.9841821378501437, 0.984430376554018, 0.9830000592515501, 0.9843835591559589, 0.9843047722753242, 0.9844185835437538, 0.9842944971062957, 0.9833757281194042, 0.9845161026957212, 0.9844552465749139, 0.9847045428817536, 0.9846784658750554, 0.9841426381053937, 0.984336379439669, 0.9844623311486049, 0.9843131312303095, 0.9843349364852235, 0.9849633615399614, 0.9843691570798786, 0.984511035736445, 0.9842288764371501, 0.9844372063933866, 0.9835631884054353, 0.9841793092639813, 0.9844146729944275, 0.984401685435016, 0.9842943691596994, 0.9836117792298128, 0.9841499625896817, 0.9843284913902361, 0.9845191606068724, 0.9850524987817626, 0.984744682257129, 0.9844139269565059, 0.9844080070580745, 0.9845388266851347, 0.9843349040633856, 0.984480399195502, 0.9844468141842011, 0.9842305247271792, 0.9845050067181038, 0.98511852123105, 0.9843067401607924, 0.9848373928176497, 0.9846674788498121, 0.985012853078825, 0.9846081097438124, 0.9840300903603133, 0.984744641334487, 0.9843916124844685, 0.984643273368894, 0.9848946159685272, 0.9846509523472173, 0.9835175514632014, 0.9837648036581377, 0.9846758852954016, 0.9846322102738633, 0.9846567643405525, 0.9844315801707376, 0.9843363639522268, 0.9835862080255152, 0.9845270184681705, 0.9843164277816517, 0.9847973159025627, 0.9842203217808262, 0.9843767390556091, 0.9845857840364132, 0.9846037879784316, 0.9845834544440435, 0.9844927848173447, 0.979895536334175, 0.9844419646325426, 0.984630901738018, 0.983195461312244, 0.9835967226751638, 0.98408145425797, 0.980744592611698, 0.9839981423083297, 0.9839327321631488, 0.984812389365827, 0.984461035971741, 0.9834656099733522, 0.9843234927406093, 0.9846727278814417, 0.9847995284392405, 0.9845958886725042, 0.9842767745890056, 0.9844412750204367, 0.9846026479131861, 0.9843635115708492, 0.9846149097708388, 0.9844604295414137, 0.9842533054729609, 0.9843893589462739, 0.9842705899817412, 0.984592081558862, 0.9842452697521618, 0.9839804972110496, 0.9842108572422563, 0.9841540597815721, 0.9845666492643671, 0.9844450745059002, 0.9844809156031911, 0.9844936184432083, 0.9844999059563149, 0.9844563954612983, 0.9841717368432362, 0.9843460830499943, 0.9845727944802639, 0.9847072571264477, 0.9846522963335578, 0.9844656574506259, 0.984386942223602, 0.9843478602238354, 0.9843406789399718, 0.9848579646292663, 0.984462246387154, 0.9843893975657049, 0.9840147785276563, 0.9842325628495224, 0.9842182307377926, 0.9843563378511685, 0.9845287700317533, 0.984431543394389, 0.9843836738591427, 0.9845070016288977, 0.9839175537720213, 0.9842486610396407, 0.9844701148633322, 0.9838301691151331, 0.9846047860881855, 0.9843077079058403, 0.9845653577185429, 0.9844314262087811, 0.9841571324336023, 0.9846715625128412, 0.984434104748126, 0.9845139515751631, 0.9846490205561882, 0.9846633939775082, 0.9837005579365747, 0.9848283431749976, 0.9848117171767412, 0.9843903917674398, 0.9844204057639853, 0.984314856717039, 0.9844695294336322, 0.9844866014891281, 0.9847550130129046, 0.9846044399977816, 0.983650155935906, 0.9846985784377267, 0.9848792376835149, 0.9841277062748143, 0.9844426838994663, 0.983834752886939, 0.9846659781590483, 0.9842710434970864, 0.9852978514294989, 0.9844248836614385, 0.9838973402947866, 0.9844581920055117, 0.9842296059991203, 0.9847741508984041, 0.9850471083264581, 0.9839388621562623, 0.984043602344708, 0.9846104406256692, 0.9843122213739067, 0.9841488001221407, 0.9838194140010313, 0.9844438451653627, 0.9844490745377467, 0.9849880747903959, 0.9844611835744078, 0.9851398665391594, 0.9841936723781105, 0.9843113490613478, 0.9844800471173906, 0.9846719826527697, 0.9843690863351856, 0.9844072410178492, 0.9841645291880278, 0.9844857507280487, 0.9844504056306477, 0.9843605572790078, 0.9842963613351605, 0.9843823784625525, 0.9845344913759286, 0.9841512006076601, 0.9835027051845955, 0.9847099467847266, 0.9844587538688448, 0.984450284911958, 0.9846217226108835, 0.9841927144206284, 0.9841195435854134, 0.9844140977810504, 0.9847207416374952, 0.9844149610411539, 0.9847455139982215, 0.9845872779373687, 0.9842470312832994, 0.984235409467228, 0.9850125659227701, 0.9840276417831209, 0.984167411908243, 0.9842428239049212, 0.9847237442142749, 0.9846948538212951, 0.9844114883173981, 0.9823058849696077, 0.9842945695430033, 0.984287555250421, 0.9844014987068898, 0.984345106342138, 0.9869657560202221, 0.9845374570732796, 0.9834422961920598, 0.9840542474067727, 0.9845260030404358, 0.9841783487319749, 0.9845735135593221, 0.9843894258970545, 0.9846932167633422, 0.9846619442054211, 0.9845072331371143, 0.9835524915702845, 0.9825777699508511, 0.9841198594704641, 0.9849879722085275, 0.9841932136662285, 0.9846789438343255, 0.9846620522580963, 0.9840682296822767, 0.984472863027465, 0.9842840169278206, 0.9836728415509484, 0.9840908639808507, 0.9845927665636837, 0.9846288103585237, 0.9843063204821224, 0.9849964331749431, 0.9842409665373879, 0.9843745532145513, 0.9840313930804148, 0.9844800626626447, 0.9844472088682301, 0.9844700302354776, 0.9843266780716661, 0.9841407431772449, 0.9848301945435833, 0.9846250891752385, 0.984093204729178]\n",
      "torch.Size([256])\n",
      "[0.9918285137645286, 0.9891063644534478, 0.9920286947226169, 0.9922518734600349, 0.9921247709307904, 0.9920610360643556, 0.9919682387189759, 0.9922033379025069, 0.9918502316209721, 0.992152854002662, 0.9916684458700196, 0.9921644099085607, 0.9921535780896528, 0.9915734337155433, 0.9922194165675263, 0.9921267631639223, 0.9920379302002053, 0.9908666196809627, 0.9921606840448078, 0.992225269315066, 0.9920824732361875, 0.9921076028624412, 0.9919440254164738, 0.992162921000702, 0.9901189019038014, 0.9921449585573158, 0.992133078981892, 0.9920930447332544, 0.9902083037944694, 0.992083114227721, 0.9916099212282762, 0.9921387362284039, 0.991844463413945, 0.9921610899056382, 0.9921590860665966, 0.9921730262870021, 0.9921629184609302, 0.9916364621830772, 0.9921376431030534, 0.9909732297489539, 0.9921286506329375, 0.9916608728516993, 0.9921687279124873, 0.9920097695612552, 0.9921793896963302, 0.9921682845979315, 0.9921706804996506, 0.992114979168523, 0.9921753380837391, 0.9921575268516972, 0.9920435435675276, 0.9920930749337441, 0.9921693816101199, 0.9913267607257217, 0.9918767517630604, 0.9921708227990325, 0.9920791073722224, 0.9920968263444183, 0.9921946220796642, 0.9920974670436452, 0.9921991539349216, 0.9886294832383932, 0.9921899579204467, 0.9921497711526583, 0.9921447890486953, 0.9918240152217459, 0.992103392373118, 0.9921912497298465, 0.9921781139249018, 0.9908927633532627, 0.9921410974427312, 0.9921213216142608, 0.9918161930884246, 0.992132962146978, 0.9918051148984112, 0.9870308137789525, 0.9884075278299943, 0.9919975198914452, 0.9909175091701781, 0.9922157591781223, 0.9853533774743938, 0.9920587509806855, 0.9920286567134815, 0.9920710212011381, 0.9921199478779997, 0.9921826954006218, 0.9921442504325743, 0.9921770468819133, 0.9921479329029207, 0.9922165406741799, 0.992226723888464, 0.9922194085623902, 0.9918236452840474, 0.9915481301498404, 0.9921626588936278, 0.9922136636969473, 0.9900707692686297, 0.9921399527980368, 0.9902176843652637, 0.99197609958347, 0.9921277261120742, 0.9921136294544651, 0.991424521169546, 0.9918795648231046, 0.9920616066615652, 0.9921445466177328, 0.9922020148573438, 0.9877376529842463, 0.9922058617962158, 0.9919379829988595, 0.9921848493162355, 0.9916481631197513, 0.9921738554123438, 0.9863848832634329, 0.9877457595636084, 0.987294763859327, 0.9918672888741217, 0.9918969689405011, 0.9920616076198585, 0.9846357161587272, 0.9917103600370263, 0.9921015384812699, 0.9921455787750275, 0.986357151173383, 0.9920972245584108, 0.9915218390094283, 0.9920988777602754, 0.9922013672196601]\n",
      "torch.Size([128])\n",
      "[1.0000001065828952, 1.0000000313247894, 0.9999999417931195, 1.000000052659842, 1.000000038403507, 1.0000000725285472, 1.0000000517119967, 1.0000000507329994, 0.9999999571635877, 1.0, 1.0000000701921345, 1.0, 1.0, 0.9999999557271246, 1.0000000796217743, 1.0, 1.0, 0.9999999561654471, 1.0000000694114763, 1.0000000675208072, 1.0000000917299867, 0.9999999545744062, 0.9999999612330578, 0.999999891142677, 1.0, 0.9999999268428265, 1.0, 1.0, 0.9999999266943135, 0.9999999645747157, 0.9999998979958894, 0.9999999481786009, 0.9999999642465661, 1.000000113484855, 1.0000000399043023, 1.0000000543032546, 1.0, 1.0, 0.9999999546473569, 1.0000000500514667, 1.000000087945399, 1.000000111499358, 0.9999999617233049, 1.000000102151322, 1.00000008299051, 1.0000001227267628, 1.0000000327387168, 0.9999999587068393, 0.9999999054451179, 0.9999998274173735, 1.0, 1.0, 0.99999991012495, 0.9999999555518091, 1.0, 0.9999999294882103, 1.0000000485631508, 1.0, 0.9999999479025447, 1.0000000805734086, 0.999999950157988, 0.9999999430718871, 1.0000000459605491, 1.0]\n",
      "torch.Size([64])\n"
     ]
    }
   ],
   "source": [
    "for i in range(len(lay)):\n",
    "    if i > 0 and i <= len(lay)-1:\n",
    "        norms = []\n",
    "        for j in range(lay[i-1][1].weight.shape[0]):\n",
    "            norms.append(np.sqrt(torch.sum(torch.square(lay[i][1].weight.data[:,j])).item())/np.sqrt(torch.sum(torch.square(lay[i-1][1].weight.data[j])).item()))\n",
    "        print(norms)\n",
    "        norms = torch.tensor(norms)\n",
    "        print(norms.shape)"
   ]
  },
  {
   "cell_type": "code",
   "execution_count": 186,
   "metadata": {},
   "outputs": [
    {
     "data": {
      "image/png": "[encoded data removed]",
      "text/plain": [
       "<Figure size 1600x1000 with 1 Axes>"
      ]
     },
     "metadata": {},
     "output_type": "display_data"
    }
   ],
   "source": [
    "epochs_plot = list(range(100))\n",
    "\n",
    "plt.figure(figsize=(16, 10))\n",
    "plt.plot(epochs_plot, acc, linestyle='-', color='b', label='acc')\n",
    "\n",
    "plt.xlabel('Epochs', fontsize=14)\n",
    "plt.ylabel('Accuracy', fontsize=14)\n",
    "plt.title('Model Accuracy Over Epochs', fontsize=14)\n",
    "\n",
    "plt.xticks(fontsize=14)\n",
    "plt.yticks(fontsize=14)\n",
    "\n",
    "plt.grid(True)\n",
    "\n",
    "plt.legend(fontsize=14)\n",
    "\n",
    "plt.show()"
   ]
  },
  {
   "cell_type": "code",
   "execution_count": 187,
   "metadata": {},
   "outputs": [],
   "source": [
    "import pickle\n",
    "with open('nbOnlineEveryEpochAcc0.pkl', 'wb') as f:\n",
    "    pickle.dump(acc, f)\n",
    "\n",
    "with open('nbOnlineEveryEpochTrainAcc0.pkl', 'wb') as f:\n",
    "    pickle.dump(tacc, f)\n",
    "\n",
    "torch.save(model.state_dict(), 'neuralBalanceModel0.pt')"
   ]
  }
 ],
 "metadata": {
  "kernelspec": {
   "display_name": "Python 3",
   "language": "python",
   "name": "python3"
  },
  "language_info": {
   "codemirror_mode": {
    "name": "ipython",
    "version": 3
   },
   "file_extension": ".py",
   "mimetype": "text/x-python",
   "name": "python",
   "nbconvert_exporter": "python",
   "pygments_lexer": "ipython3",
   "version": "3.11.2"
  }
 },
 "nbformat": 4,
 "nbformat_minor": 2
}
