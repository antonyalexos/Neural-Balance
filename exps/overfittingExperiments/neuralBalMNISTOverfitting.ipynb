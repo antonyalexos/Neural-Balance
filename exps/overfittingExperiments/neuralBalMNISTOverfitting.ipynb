{
 "cells": [
  {
   "cell_type": "code",
   "execution_count": 40,
   "metadata": {},
   "outputs": [],
   "source": [
    "import torch\n",
    "import torch.nn as nn\n",
    "import torch.optim as optim\n",
    "import numpy as np\n",
    "from torchvision.datasets import MNIST\n",
    "from torch.utils.data import DataLoader\n",
    "from torchvision import transforms\n",
    "import torch.nn.functional as F\n",
    "import os\n",
    "from tqdm import tqdm\n",
    "\n",
    "class SingleLayerNN(nn.Module):\n",
    "    def __init__(self):\n",
    "        super(SingleLayerNN, self).__init__()\n",
    "        self.fc = nn.Linear(784, 512) \n",
    "        self.fc0 = nn.Linear(512, 256)\n",
    "        self.fc1 = nn.Linear(256, 128)\n",
    "        self.fc2 = nn.Linear(128, 64)\n",
    "        self.out = nn.Linear(64, 10)\n",
    "\n",
    "    def forward(self, x):\n",
    "        x = torch.relu(self.fc(x)) \n",
    "        x = torch.relu(self.fc0(x))\n",
    "        x = torch.relu(self.fc1(x))\n",
    "        x = torch.relu(self.fc2(x))\n",
    "        x = self.out(x)  \n",
    "        return x\n",
    "\n",
    "model = SingleLayerNN()\n",
    "\n",
    "\n",
    "criterion = nn.MSELoss() \n",
    "optimizer = optim.Adam(model.parameters(), lr=0.01)  \n"
   ]
  },
  {
   "cell_type": "code",
   "execution_count": 41,
   "metadata": {},
   "outputs": [],
   "source": [
    "#torch.manual_seed(7)"
   ]
  },
  {
   "cell_type": "code",
   "execution_count": 42,
   "metadata": {},
   "outputs": [
    {
     "name": "stderr",
     "output_type": "stream",
     "text": [
      "/var/folders/d1/pxwd2rcj41j7b2lhnz909xn80000gn/T/ipykernel_58405/112231088.py:4: UserWarning: To copy construct from a tensor, it is recommended to use sourceTensor.clone().detach() or sourceTensor.clone().detach().requires_grad_(True), rather than torch.tensor(sourceTensor).\n",
      "  x_train = torch.tensor(x_train, dtype=torch.float32)\n",
      "/var/folders/d1/pxwd2rcj41j7b2lhnz909xn80000gn/T/ipykernel_58405/112231088.py:5: UserWarning: To copy construct from a tensor, it is recommended to use sourceTensor.clone().detach() or sourceTensor.clone().detach().requires_grad_(True), rather than torch.tensor(sourceTensor).\n",
      "  y_train = torch.tensor(y_train, dtype=torch.float32)\n"
     ]
    }
   ],
   "source": [
    "train_dataset = MNIST(os.getcwd(), train=True, download=True, transform=[transforms.ToTensor(), transforms.Normalize((0.5,), (0.5,))])\n",
    "x_train = train_dataset.data / 255.0\n",
    "y_train = F.one_hot(train_dataset.targets, num_classes=10)\n",
    "x_train = torch.tensor(x_train, dtype=torch.float32)\n",
    "y_train = torch.tensor(y_train, dtype=torch.float32)\n",
    "x_train = x_train.view(-1, 784)\n",
    "dtrain = torch.utils.data.TensorDataset(x_train, y_train)\n",
    "trainloader = DataLoader(dtrain, batch_size=256, shuffle=True)"
   ]
  },
  {
   "cell_type": "code",
   "execution_count": 43,
   "metadata": {},
   "outputs": [
    {
     "name": "stderr",
     "output_type": "stream",
     "text": [
      "/var/folders/d1/pxwd2rcj41j7b2lhnz909xn80000gn/T/ipykernel_58405/3473755828.py:4: UserWarning: To copy construct from a tensor, it is recommended to use sourceTensor.clone().detach() or sourceTensor.clone().detach().requires_grad_(True), rather than torch.tensor(sourceTensor).\n",
      "  x_test = torch.tensor(x_test, dtype=torch.float32)\n",
      "/var/folders/d1/pxwd2rcj41j7b2lhnz909xn80000gn/T/ipykernel_58405/3473755828.py:5: UserWarning: To copy construct from a tensor, it is recommended to use sourceTensor.clone().detach() or sourceTensor.clone().detach().requires_grad_(True), rather than torch.tensor(sourceTensor).\n",
      "  y_test = torch.tensor(y_test, dtype=torch.float32)\n"
     ]
    }
   ],
   "source": [
    "testDataset = MNIST(os.getcwd(), train=False, download=True, transform=[transforms.ToTensor(), transforms.Normalize((0.5,), (0.5,))])\n",
    "x_test = testDataset.data / 255.0\n",
    "y_test = F.one_hot(testDataset.targets, num_classes=10)\n",
    "x_test = torch.tensor(x_test, dtype=torch.float32)\n",
    "y_test = torch.tensor(y_test, dtype=torch.float32)\n",
    "x_test = x_test.view(-1, 784)\n",
    "dtest = torch.utils.data.TensorDataset(x_test, y_test)\n",
    "testloader = DataLoader(dtest, batch_size=256, shuffle=True)"
   ]
  },
  {
   "cell_type": "code",
   "execution_count": 44,
   "metadata": {},
   "outputs": [],
   "source": [
    "def neuronalNeuralBalance(inl, oul):\n",
    "\n",
    "    ninc = torch.zeros_like(inl.weight)\n",
    "    noul = torch.zeros_like(oul.weight)\n",
    "\n",
    "    for i in range(inl.weight.data.shape[0]):\n",
    "        inc = np.sqrt(torch.sum(torch.square(inl.weight.data[i])).item())\n",
    "        outg = np.sqrt(torch.sum(torch.square(oul.weight.data[:,i])).item())\n",
    "\n",
    "        # outg = outg / float(len(oul.weight.data[:,i]))\n",
    "        # inc = inc / float(len(inl.weight.data[i]))\n",
    "\n",
    "        opt = np.sqrt(outg/inc)\n",
    "\n",
    "        ninc[i] = inl.weight.data[i]*opt\n",
    "        noul[:, i] = oul.weight.data[:,i]/opt\n",
    "\n",
    "    inl.weight.data = ninc\n",
    "    oul.weight.data = noul\n"
   ]
  },
  {
   "cell_type": "code",
   "execution_count": 45,
   "metadata": {},
   "outputs": [
    {
     "name": "stdout",
     "output_type": "stream",
     "text": [
      "Linear\n",
      "Linear\n",
      "Linear\n",
      "Linear\n",
      "Linear\n"
     ]
    },
    {
     "name": "stderr",
     "output_type": "stream",
     "text": [
      "100%|██████████| 235/235 [00:01<00:00, 129.31it/s]\n"
     ]
    },
    {
     "name": "stdout",
     "output_type": "stream",
     "text": [
      "Epoch 0/100, Loss: 0.022610358893871307, train dataset accuracy: 80.31333333333333\n",
      "test dataset accuracy: 91.1%\n"
     ]
    },
    {
     "name": "stderr",
     "output_type": "stream",
     "text": [
      "100%|██████████| 235/235 [00:01<00:00, 163.70it/s]\n"
     ]
    },
    {
     "name": "stdout",
     "output_type": "stream",
     "text": [
      "Epoch 1/100, Loss: 0.009436964988708496, train dataset accuracy: 91.425\n",
      "test dataset accuracy: 91.62%\n"
     ]
    },
    {
     "name": "stderr",
     "output_type": "stream",
     "text": [
      "100%|██████████| 235/235 [00:01<00:00, 160.12it/s]\n"
     ]
    },
    {
     "name": "stdout",
     "output_type": "stream",
     "text": [
      "Epoch 2/100, Loss: 0.010446364991366863, train dataset accuracy: 92.17666666666666\n",
      "test dataset accuracy: 92.8%\n"
     ]
    },
    {
     "name": "stderr",
     "output_type": "stream",
     "text": [
      "100%|██████████| 235/235 [00:01<00:00, 148.10it/s]\n"
     ]
    },
    {
     "name": "stdout",
     "output_type": "stream",
     "text": [
      "Epoch 3/100, Loss: 0.014338785782456398, train dataset accuracy: 92.45166666666667\n",
      "test dataset accuracy: 92.87%\n"
     ]
    },
    {
     "name": "stderr",
     "output_type": "stream",
     "text": [
      "100%|██████████| 235/235 [00:01<00:00, 134.80it/s]\n"
     ]
    },
    {
     "name": "stdout",
     "output_type": "stream",
     "text": [
      "Epoch 4/100, Loss: 0.011682949028909206, train dataset accuracy: 92.41833333333334\n",
      "test dataset accuracy: 92.73%\n"
     ]
    },
    {
     "name": "stderr",
     "output_type": "stream",
     "text": [
      "100%|██████████| 235/235 [00:01<00:00, 158.47it/s]\n"
     ]
    },
    {
     "name": "stdout",
     "output_type": "stream",
     "text": [
      "Epoch 5/100, Loss: 0.009867936372756958, train dataset accuracy: 92.67833333333333\n",
      "test dataset accuracy: 92.56%\n"
     ]
    },
    {
     "name": "stderr",
     "output_type": "stream",
     "text": [
      "100%|██████████| 235/235 [00:01<00:00, 178.23it/s]\n"
     ]
    },
    {
     "name": "stdout",
     "output_type": "stream",
     "text": [
      "Epoch 6/100, Loss: 0.016867613419890404, train dataset accuracy: 92.75166666666667\n",
      "test dataset accuracy: 92.59%\n"
     ]
    },
    {
     "name": "stderr",
     "output_type": "stream",
     "text": [
      "100%|██████████| 235/235 [00:01<00:00, 163.88it/s]\n"
     ]
    },
    {
     "name": "stdout",
     "output_type": "stream",
     "text": [
      "Epoch 7/100, Loss: 0.015604422427713871, train dataset accuracy: 92.7\n",
      "test dataset accuracy: 92.6%\n"
     ]
    },
    {
     "name": "stderr",
     "output_type": "stream",
     "text": [
      "100%|██████████| 235/235 [00:01<00:00, 164.26it/s]\n"
     ]
    },
    {
     "name": "stdout",
     "output_type": "stream",
     "text": [
      "Epoch 8/100, Loss: 0.0115794213488698, train dataset accuracy: 92.86333333333333\n",
      "test dataset accuracy: 93.01%\n"
     ]
    },
    {
     "name": "stderr",
     "output_type": "stream",
     "text": [
      "100%|██████████| 235/235 [00:01<00:00, 159.79it/s]\n"
     ]
    },
    {
     "name": "stdout",
     "output_type": "stream",
     "text": [
      "Epoch 9/100, Loss: 0.01126343384385109, train dataset accuracy: 92.72833333333334\n",
      "test dataset accuracy: 92.88%\n"
     ]
    },
    {
     "name": "stderr",
     "output_type": "stream",
     "text": [
      "100%|██████████| 235/235 [00:01<00:00, 162.98it/s]\n"
     ]
    },
    {
     "name": "stdout",
     "output_type": "stream",
     "text": [
      "Epoch 10/100, Loss: 0.016095859929919243, train dataset accuracy: 93.02\n",
      "test dataset accuracy: 92.89%\n"
     ]
    },
    {
     "name": "stderr",
     "output_type": "stream",
     "text": [
      "100%|██████████| 235/235 [00:01<00:00, 138.16it/s]\n"
     ]
    },
    {
     "name": "stdout",
     "output_type": "stream",
     "text": [
      "Epoch 11/100, Loss: 0.011839685961604118, train dataset accuracy: 92.985\n",
      "test dataset accuracy: 93.17%\n"
     ]
    },
    {
     "name": "stderr",
     "output_type": "stream",
     "text": [
      "100%|██████████| 235/235 [00:01<00:00, 136.25it/s]\n"
     ]
    },
    {
     "name": "stdout",
     "output_type": "stream",
     "text": [
      "Epoch 12/100, Loss: 0.017142189666628838, train dataset accuracy: 93.05666666666667\n",
      "test dataset accuracy: 92.7%\n"
     ]
    },
    {
     "name": "stderr",
     "output_type": "stream",
     "text": [
      "100%|██████████| 235/235 [00:02<00:00, 102.08it/s]\n"
     ]
    },
    {
     "name": "stdout",
     "output_type": "stream",
     "text": [
      "Epoch 13/100, Loss: 0.015467088669538498, train dataset accuracy: 92.94666666666667\n",
      "test dataset accuracy: 93.45%\n"
     ]
    },
    {
     "name": "stderr",
     "output_type": "stream",
     "text": [
      "100%|██████████| 235/235 [00:01<00:00, 138.42it/s]\n"
     ]
    },
    {
     "name": "stdout",
     "output_type": "stream",
     "text": [
      "Epoch 14/100, Loss: 0.013138951733708382, train dataset accuracy: 93.17\n",
      "test dataset accuracy: 93.21%\n"
     ]
    },
    {
     "name": "stderr",
     "output_type": "stream",
     "text": [
      "100%|██████████| 235/235 [00:01<00:00, 120.93it/s]\n"
     ]
    },
    {
     "name": "stdout",
     "output_type": "stream",
     "text": [
      "Epoch 15/100, Loss: 0.01325735542923212, train dataset accuracy: 92.8\n",
      "test dataset accuracy: 92.84%\n"
     ]
    },
    {
     "name": "stderr",
     "output_type": "stream",
     "text": [
      "100%|██████████| 235/235 [00:02<00:00, 106.13it/s]\n"
     ]
    },
    {
     "name": "stdout",
     "output_type": "stream",
     "text": [
      "Epoch 16/100, Loss: 0.008465084247291088, train dataset accuracy: 93.08666666666667\n",
      "test dataset accuracy: 92.84%\n"
     ]
    },
    {
     "name": "stderr",
     "output_type": "stream",
     "text": [
      "100%|██████████| 235/235 [00:02<00:00, 106.77it/s]\n"
     ]
    },
    {
     "name": "stdout",
     "output_type": "stream",
     "text": [
      "Epoch 17/100, Loss: 0.007913398556411266, train dataset accuracy: 93.175\n",
      "test dataset accuracy: 93.59%\n"
     ]
    },
    {
     "name": "stderr",
     "output_type": "stream",
     "text": [
      "100%|██████████| 235/235 [00:01<00:00, 130.02it/s]\n"
     ]
    },
    {
     "name": "stdout",
     "output_type": "stream",
     "text": [
      "Epoch 18/100, Loss: 0.010599633678793907, train dataset accuracy: 93.07666666666667\n",
      "test dataset accuracy: 93.14%\n"
     ]
    },
    {
     "name": "stderr",
     "output_type": "stream",
     "text": [
      "100%|██████████| 235/235 [00:01<00:00, 157.60it/s]\n"
     ]
    },
    {
     "name": "stdout",
     "output_type": "stream",
     "text": [
      "Epoch 19/100, Loss: 0.014058355242013931, train dataset accuracy: 93.115\n",
      "test dataset accuracy: 92.08%\n"
     ]
    },
    {
     "name": "stderr",
     "output_type": "stream",
     "text": [
      "100%|██████████| 235/235 [00:01<00:00, 154.73it/s]\n"
     ]
    },
    {
     "name": "stdout",
     "output_type": "stream",
     "text": [
      "Epoch 20/100, Loss: 0.007684783544391394, train dataset accuracy: 92.915\n",
      "test dataset accuracy: 92.61%\n"
     ]
    },
    {
     "name": "stderr",
     "output_type": "stream",
     "text": [
      "100%|██████████| 235/235 [00:01<00:00, 154.05it/s]\n"
     ]
    },
    {
     "name": "stdout",
     "output_type": "stream",
     "text": [
      "Epoch 21/100, Loss: 0.008697099052369595, train dataset accuracy: 93.04333333333334\n",
      "test dataset accuracy: 93.26%\n"
     ]
    },
    {
     "name": "stderr",
     "output_type": "stream",
     "text": [
      "100%|██████████| 235/235 [00:01<00:00, 157.21it/s]\n"
     ]
    },
    {
     "name": "stdout",
     "output_type": "stream",
     "text": [
      "Epoch 22/100, Loss: 0.006039773114025593, train dataset accuracy: 93.3\n",
      "test dataset accuracy: 92.8%\n"
     ]
    },
    {
     "name": "stderr",
     "output_type": "stream",
     "text": [
      "100%|██████████| 235/235 [00:01<00:00, 144.27it/s]\n"
     ]
    },
    {
     "name": "stdout",
     "output_type": "stream",
     "text": [
      "Epoch 23/100, Loss: 0.014278840273618698, train dataset accuracy: 93.285\n",
      "test dataset accuracy: 92.42%\n"
     ]
    },
    {
     "name": "stderr",
     "output_type": "stream",
     "text": [
      "100%|██████████| 235/235 [00:01<00:00, 143.39it/s]\n"
     ]
    },
    {
     "name": "stdout",
     "output_type": "stream",
     "text": [
      "Epoch 24/100, Loss: 0.006089935544878244, train dataset accuracy: 93.10333333333334\n",
      "test dataset accuracy: 91.95%\n"
     ]
    },
    {
     "name": "stderr",
     "output_type": "stream",
     "text": [
      "100%|██████████| 235/235 [00:01<00:00, 155.00it/s]\n"
     ]
    },
    {
     "name": "stdout",
     "output_type": "stream",
     "text": [
      "Epoch 25/100, Loss: 0.01029218640178442, train dataset accuracy: 93.36\n",
      "test dataset accuracy: 92.72%\n"
     ]
    },
    {
     "name": "stderr",
     "output_type": "stream",
     "text": [
      "100%|██████████| 235/235 [00:01<00:00, 155.68it/s]\n"
     ]
    },
    {
     "name": "stdout",
     "output_type": "stream",
     "text": [
      "Epoch 26/100, Loss: 0.016179470345377922, train dataset accuracy: 92.76833333333333\n",
      "test dataset accuracy: 93.06%\n"
     ]
    },
    {
     "name": "stderr",
     "output_type": "stream",
     "text": [
      "100%|██████████| 235/235 [00:01<00:00, 157.25it/s]\n"
     ]
    },
    {
     "name": "stdout",
     "output_type": "stream",
     "text": [
      "Epoch 27/100, Loss: 0.017833294346928596, train dataset accuracy: 93.04833333333333\n",
      "test dataset accuracy: 92.8%\n"
     ]
    },
    {
     "name": "stderr",
     "output_type": "stream",
     "text": [
      "100%|██████████| 235/235 [00:01<00:00, 159.81it/s]\n"
     ]
    },
    {
     "name": "stdout",
     "output_type": "stream",
     "text": [
      "Epoch 28/100, Loss: 0.013826887123286724, train dataset accuracy: 93.175\n",
      "test dataset accuracy: 92.41%\n"
     ]
    },
    {
     "name": "stderr",
     "output_type": "stream",
     "text": [
      "100%|██████████| 235/235 [00:01<00:00, 169.64it/s]\n"
     ]
    },
    {
     "name": "stdout",
     "output_type": "stream",
     "text": [
      "Epoch 29/100, Loss: 0.01239209994673729, train dataset accuracy: 92.68666666666667\n",
      "test dataset accuracy: 92.15%\n"
     ]
    },
    {
     "name": "stderr",
     "output_type": "stream",
     "text": [
      "100%|██████████| 235/235 [00:01<00:00, 179.61it/s]\n"
     ]
    },
    {
     "name": "stdout",
     "output_type": "stream",
     "text": [
      "Epoch 30/100, Loss: 0.021658610552549362, train dataset accuracy: 92.77833333333334\n",
      "test dataset accuracy: 92.34%\n"
     ]
    },
    {
     "name": "stderr",
     "output_type": "stream",
     "text": [
      "100%|██████████| 235/235 [00:01<00:00, 179.09it/s]\n"
     ]
    },
    {
     "name": "stdout",
     "output_type": "stream",
     "text": [
      "Epoch 31/100, Loss: 0.009464535862207413, train dataset accuracy: 92.90833333333333\n",
      "test dataset accuracy: 93.19%\n"
     ]
    },
    {
     "name": "stderr",
     "output_type": "stream",
     "text": [
      "100%|██████████| 235/235 [00:01<00:00, 175.54it/s]\n"
     ]
    },
    {
     "name": "stdout",
     "output_type": "stream",
     "text": [
      "Epoch 32/100, Loss: 0.006663653068244457, train dataset accuracy: 93.06666666666666\n",
      "test dataset accuracy: 92.67%\n"
     ]
    },
    {
     "name": "stderr",
     "output_type": "stream",
     "text": [
      "100%|██████████| 235/235 [00:01<00:00, 150.60it/s]\n"
     ]
    },
    {
     "name": "stdout",
     "output_type": "stream",
     "text": [
      "Epoch 33/100, Loss: 0.010100765153765678, train dataset accuracy: 93.43333333333334\n",
      "test dataset accuracy: 92.55%\n"
     ]
    },
    {
     "name": "stderr",
     "output_type": "stream",
     "text": [
      "100%|██████████| 235/235 [00:01<00:00, 149.78it/s]\n"
     ]
    },
    {
     "name": "stdout",
     "output_type": "stream",
     "text": [
      "Epoch 34/100, Loss: 0.007610398344695568, train dataset accuracy: 93.07666666666667\n",
      "test dataset accuracy: 92.55%\n"
     ]
    },
    {
     "name": "stderr",
     "output_type": "stream",
     "text": [
      "100%|██████████| 235/235 [00:01<00:00, 168.81it/s]\n"
     ]
    },
    {
     "name": "stdout",
     "output_type": "stream",
     "text": [
      "Epoch 35/100, Loss: 0.012291399762034416, train dataset accuracy: 93.435\n",
      "test dataset accuracy: 93.49%\n"
     ]
    },
    {
     "name": "stderr",
     "output_type": "stream",
     "text": [
      "100%|██████████| 235/235 [00:01<00:00, 170.35it/s]\n"
     ]
    },
    {
     "name": "stdout",
     "output_type": "stream",
     "text": [
      "Epoch 36/100, Loss: 0.00869127456098795, train dataset accuracy: 93.13333333333334\n",
      "test dataset accuracy: 92.33%\n"
     ]
    },
    {
     "name": "stderr",
     "output_type": "stream",
     "text": [
      "100%|██████████| 235/235 [00:01<00:00, 154.67it/s]\n"
     ]
    },
    {
     "name": "stdout",
     "output_type": "stream",
     "text": [
      "Epoch 37/100, Loss: 0.01137486007064581, train dataset accuracy: 93.26666666666667\n",
      "test dataset accuracy: 92.91%\n"
     ]
    },
    {
     "name": "stderr",
     "output_type": "stream",
     "text": [
      "100%|██████████| 235/235 [00:01<00:00, 158.22it/s]\n"
     ]
    },
    {
     "name": "stdout",
     "output_type": "stream",
     "text": [
      "Epoch 38/100, Loss: 0.009167814627289772, train dataset accuracy: 93.51\n",
      "test dataset accuracy: 93.01%\n"
     ]
    },
    {
     "name": "stderr",
     "output_type": "stream",
     "text": [
      "100%|██████████| 235/235 [00:01<00:00, 144.04it/s]\n"
     ]
    },
    {
     "name": "stdout",
     "output_type": "stream",
     "text": [
      "Epoch 39/100, Loss: 0.011434284970164299, train dataset accuracy: 93.57333333333334\n",
      "test dataset accuracy: 93.38%\n"
     ]
    },
    {
     "name": "stderr",
     "output_type": "stream",
     "text": [
      "100%|██████████| 235/235 [00:01<00:00, 165.17it/s]\n"
     ]
    },
    {
     "name": "stdout",
     "output_type": "stream",
     "text": [
      "Epoch 40/100, Loss: 0.009504381567239761, train dataset accuracy: 93.63166666666666\n",
      "test dataset accuracy: 92.71%\n"
     ]
    },
    {
     "name": "stderr",
     "output_type": "stream",
     "text": [
      "100%|██████████| 235/235 [00:01<00:00, 141.79it/s]\n"
     ]
    },
    {
     "name": "stdout",
     "output_type": "stream",
     "text": [
      "Epoch 41/100, Loss: 0.007953247055411339, train dataset accuracy: 93.575\n",
      "test dataset accuracy: 93.42%\n"
     ]
    },
    {
     "name": "stderr",
     "output_type": "stream",
     "text": [
      "100%|██████████| 235/235 [00:01<00:00, 155.65it/s]\n"
     ]
    },
    {
     "name": "stdout",
     "output_type": "stream",
     "text": [
      "Epoch 42/100, Loss: 0.005506713408976793, train dataset accuracy: 93.32\n",
      "test dataset accuracy: 93.32%\n"
     ]
    },
    {
     "name": "stderr",
     "output_type": "stream",
     "text": [
      "100%|██████████| 235/235 [00:01<00:00, 144.54it/s]\n"
     ]
    },
    {
     "name": "stdout",
     "output_type": "stream",
     "text": [
      "Epoch 43/100, Loss: 0.00895335990935564, train dataset accuracy: 93.6\n",
      "test dataset accuracy: 93.78%\n"
     ]
    },
    {
     "name": "stderr",
     "output_type": "stream",
     "text": [
      "100%|██████████| 235/235 [00:02<00:00, 106.19it/s]\n"
     ]
    },
    {
     "name": "stdout",
     "output_type": "stream",
     "text": [
      "Epoch 44/100, Loss: 0.01644652523100376, train dataset accuracy: 93.54666666666667\n",
      "test dataset accuracy: 90.42%\n"
     ]
    },
    {
     "name": "stderr",
     "output_type": "stream",
     "text": [
      "100%|██████████| 235/235 [00:02<00:00, 106.38it/s]\n"
     ]
    },
    {
     "name": "stdout",
     "output_type": "stream",
     "text": [
      "Epoch 45/100, Loss: 0.01049793977290392, train dataset accuracy: 92.97666666666667\n",
      "test dataset accuracy: 93.45%\n"
     ]
    },
    {
     "name": "stderr",
     "output_type": "stream",
     "text": [
      "100%|██████████| 235/235 [00:01<00:00, 136.61it/s]\n"
     ]
    },
    {
     "name": "stdout",
     "output_type": "stream",
     "text": [
      "Epoch 46/100, Loss: 0.01647152192890644, train dataset accuracy: 93.78\n",
      "test dataset accuracy: 92.61%\n"
     ]
    },
    {
     "name": "stderr",
     "output_type": "stream",
     "text": [
      "100%|██████████| 235/235 [00:01<00:00, 157.18it/s]\n"
     ]
    },
    {
     "name": "stdout",
     "output_type": "stream",
     "text": [
      "Epoch 47/100, Loss: 0.013705475255846977, train dataset accuracy: 93.275\n",
      "test dataset accuracy: 91.86%\n"
     ]
    },
    {
     "name": "stderr",
     "output_type": "stream",
     "text": [
      "100%|██████████| 235/235 [00:01<00:00, 167.04it/s]\n"
     ]
    },
    {
     "name": "stdout",
     "output_type": "stream",
     "text": [
      "Epoch 48/100, Loss: 0.00906738918274641, train dataset accuracy: 93.05166666666666\n",
      "test dataset accuracy: 93.03%\n"
     ]
    },
    {
     "name": "stderr",
     "output_type": "stream",
     "text": [
      "100%|██████████| 235/235 [00:01<00:00, 174.81it/s]\n"
     ]
    },
    {
     "name": "stdout",
     "output_type": "stream",
     "text": [
      "Epoch 49/100, Loss: 0.012146888300776482, train dataset accuracy: 93.48666666666666\n",
      "test dataset accuracy: 93.58%\n"
     ]
    },
    {
     "name": "stderr",
     "output_type": "stream",
     "text": [
      "100%|██████████| 235/235 [00:01<00:00, 155.64it/s]\n"
     ]
    },
    {
     "name": "stdout",
     "output_type": "stream",
     "text": [
      "Epoch 50/100, Loss: 0.010656644590198994, train dataset accuracy: 93.70166666666667\n",
      "test dataset accuracy: 93.2%\n"
     ]
    },
    {
     "name": "stderr",
     "output_type": "stream",
     "text": [
      "100%|██████████| 235/235 [00:01<00:00, 170.84it/s]\n"
     ]
    },
    {
     "name": "stdout",
     "output_type": "stream",
     "text": [
      "Epoch 51/100, Loss: 0.01343431044369936, train dataset accuracy: 93.36333333333333\n",
      "test dataset accuracy: 93.41%\n"
     ]
    },
    {
     "name": "stderr",
     "output_type": "stream",
     "text": [
      "100%|██████████| 235/235 [00:01<00:00, 162.07it/s]\n"
     ]
    },
    {
     "name": "stdout",
     "output_type": "stream",
     "text": [
      "Epoch 52/100, Loss: 0.010027678683400154, train dataset accuracy: 93.59333333333333\n",
      "test dataset accuracy: 93.36%\n"
     ]
    },
    {
     "name": "stderr",
     "output_type": "stream",
     "text": [
      "100%|██████████| 235/235 [00:01<00:00, 162.56it/s]\n"
     ]
    },
    {
     "name": "stdout",
     "output_type": "stream",
     "text": [
      "Epoch 53/100, Loss: 0.011472123675048351, train dataset accuracy: 93.58333333333333\n",
      "test dataset accuracy: 93.77%\n"
     ]
    },
    {
     "name": "stderr",
     "output_type": "stream",
     "text": [
      "100%|██████████| 235/235 [00:01<00:00, 169.57it/s]\n"
     ]
    },
    {
     "name": "stdout",
     "output_type": "stream",
     "text": [
      "Epoch 54/100, Loss: 0.010236197151243687, train dataset accuracy: 93.42666666666666\n",
      "test dataset accuracy: 92.98%\n"
     ]
    },
    {
     "name": "stderr",
     "output_type": "stream",
     "text": [
      "100%|██████████| 235/235 [00:01<00:00, 169.58it/s]\n"
     ]
    },
    {
     "name": "stdout",
     "output_type": "stream",
     "text": [
      "Epoch 55/100, Loss: 0.010937576182186604, train dataset accuracy: 93.81666666666666\n",
      "test dataset accuracy: 93.02%\n"
     ]
    },
    {
     "name": "stderr",
     "output_type": "stream",
     "text": [
      "100%|██████████| 235/235 [00:01<00:00, 163.43it/s]\n"
     ]
    },
    {
     "name": "stdout",
     "output_type": "stream",
     "text": [
      "Epoch 56/100, Loss: 0.012356903403997421, train dataset accuracy: 93.86666666666666\n",
      "test dataset accuracy: 93.21%\n"
     ]
    },
    {
     "name": "stderr",
     "output_type": "stream",
     "text": [
      "100%|██████████| 235/235 [00:01<00:00, 160.20it/s]\n"
     ]
    },
    {
     "name": "stdout",
     "output_type": "stream",
     "text": [
      "Epoch 57/100, Loss: 0.005208490416407585, train dataset accuracy: 94.02333333333333\n",
      "test dataset accuracy: 93.73%\n"
     ]
    },
    {
     "name": "stderr",
     "output_type": "stream",
     "text": [
      "100%|██████████| 235/235 [00:01<00:00, 164.16it/s]\n"
     ]
    },
    {
     "name": "stdout",
     "output_type": "stream",
     "text": [
      "Epoch 58/100, Loss: 0.01189407054334879, train dataset accuracy: 93.655\n",
      "test dataset accuracy: 92.67%\n"
     ]
    },
    {
     "name": "stderr",
     "output_type": "stream",
     "text": [
      "100%|██████████| 235/235 [00:01<00:00, 157.21it/s]\n"
     ]
    },
    {
     "name": "stdout",
     "output_type": "stream",
     "text": [
      "Epoch 59/100, Loss: 0.005941652227193117, train dataset accuracy: 93.69333333333333\n",
      "test dataset accuracy: 93.11%\n"
     ]
    },
    {
     "name": "stderr",
     "output_type": "stream",
     "text": [
      "100%|██████████| 235/235 [00:01<00:00, 156.93it/s]\n"
     ]
    },
    {
     "name": "stdout",
     "output_type": "stream",
     "text": [
      "Epoch 60/100, Loss: 0.021583516150712967, train dataset accuracy: 93.78166666666667\n",
      "test dataset accuracy: 93.09%\n"
     ]
    },
    {
     "name": "stderr",
     "output_type": "stream",
     "text": [
      "100%|██████████| 235/235 [00:01<00:00, 160.83it/s]\n"
     ]
    },
    {
     "name": "stdout",
     "output_type": "stream",
     "text": [
      "Epoch 61/100, Loss: 0.008630143478512764, train dataset accuracy: 93.57\n",
      "test dataset accuracy: 93.29%\n"
     ]
    },
    {
     "name": "stderr",
     "output_type": "stream",
     "text": [
      "100%|██████████| 235/235 [00:01<00:00, 162.11it/s]\n"
     ]
    },
    {
     "name": "stdout",
     "output_type": "stream",
     "text": [
      "Epoch 62/100, Loss: 0.0062431711703538895, train dataset accuracy: 94.14\n",
      "test dataset accuracy: 92.75%\n"
     ]
    },
    {
     "name": "stderr",
     "output_type": "stream",
     "text": [
      "100%|██████████| 235/235 [00:01<00:00, 172.84it/s]\n"
     ]
    },
    {
     "name": "stdout",
     "output_type": "stream",
     "text": [
      "Epoch 63/100, Loss: 0.014170057140290737, train dataset accuracy: 94.06833333333333\n",
      "test dataset accuracy: 93.51%\n"
     ]
    },
    {
     "name": "stderr",
     "output_type": "stream",
     "text": [
      "100%|██████████| 235/235 [00:01<00:00, 155.75it/s]\n"
     ]
    },
    {
     "name": "stdout",
     "output_type": "stream",
     "text": [
      "Epoch 64/100, Loss: 0.01134078111499548, train dataset accuracy: 93.49166666666666\n",
      "test dataset accuracy: 93.0%\n"
     ]
    },
    {
     "name": "stderr",
     "output_type": "stream",
     "text": [
      "100%|██████████| 235/235 [00:01<00:00, 154.13it/s]\n"
     ]
    },
    {
     "name": "stdout",
     "output_type": "stream",
     "text": [
      "Epoch 65/100, Loss: 0.008480207994580269, train dataset accuracy: 93.54\n",
      "test dataset accuracy: 93.23%\n"
     ]
    },
    {
     "name": "stderr",
     "output_type": "stream",
     "text": [
      "100%|██████████| 235/235 [00:01<00:00, 171.02it/s]\n"
     ]
    },
    {
     "name": "stdout",
     "output_type": "stream",
     "text": [
      "Epoch 66/100, Loss: 0.015663066878914833, train dataset accuracy: 93.85333333333334\n",
      "test dataset accuracy: 93.36%\n"
     ]
    },
    {
     "name": "stderr",
     "output_type": "stream",
     "text": [
      "100%|██████████| 235/235 [00:01<00:00, 167.74it/s]\n"
     ]
    },
    {
     "name": "stdout",
     "output_type": "stream",
     "text": [
      "Epoch 67/100, Loss: 0.014018643647432327, train dataset accuracy: 93.99\n",
      "test dataset accuracy: 93.23%\n"
     ]
    },
    {
     "name": "stderr",
     "output_type": "stream",
     "text": [
      "100%|██████████| 235/235 [00:01<00:00, 151.87it/s]\n"
     ]
    },
    {
     "name": "stdout",
     "output_type": "stream",
     "text": [
      "Epoch 68/100, Loss: 0.00471100676804781, train dataset accuracy: 93.75166666666667\n",
      "test dataset accuracy: 93.06%\n"
     ]
    },
    {
     "name": "stderr",
     "output_type": "stream",
     "text": [
      "100%|██████████| 235/235 [00:01<00:00, 152.44it/s]\n"
     ]
    },
    {
     "name": "stdout",
     "output_type": "stream",
     "text": [
      "Epoch 69/100, Loss: 0.0020851425360888243, train dataset accuracy: 93.965\n",
      "test dataset accuracy: 93.37%\n"
     ]
    },
    {
     "name": "stderr",
     "output_type": "stream",
     "text": [
      "100%|██████████| 235/235 [00:01<00:00, 160.12it/s]\n"
     ]
    },
    {
     "name": "stdout",
     "output_type": "stream",
     "text": [
      "Epoch 70/100, Loss: 0.004766072612255812, train dataset accuracy: 94.095\n",
      "test dataset accuracy: 93.4%\n"
     ]
    },
    {
     "name": "stderr",
     "output_type": "stream",
     "text": [
      "100%|██████████| 235/235 [00:01<00:00, 167.91it/s]\n"
     ]
    },
    {
     "name": "stdout",
     "output_type": "stream",
     "text": [
      "Epoch 71/100, Loss: 0.007891968823969364, train dataset accuracy: 94.12833333333333\n",
      "test dataset accuracy: 92.81%\n"
     ]
    },
    {
     "name": "stderr",
     "output_type": "stream",
     "text": [
      "100%|██████████| 235/235 [00:01<00:00, 162.18it/s]\n"
     ]
    },
    {
     "name": "stdout",
     "output_type": "stream",
     "text": [
      "Epoch 72/100, Loss: 0.017394741997122765, train dataset accuracy: 94.415\n",
      "test dataset accuracy: 93.79%\n"
     ]
    },
    {
     "name": "stderr",
     "output_type": "stream",
     "text": [
      "100%|██████████| 235/235 [00:01<00:00, 149.58it/s]\n"
     ]
    },
    {
     "name": "stdout",
     "output_type": "stream",
     "text": [
      "Epoch 73/100, Loss: 0.005877782125025988, train dataset accuracy: 94.21166666666667\n",
      "test dataset accuracy: 93.53%\n"
     ]
    },
    {
     "name": "stderr",
     "output_type": "stream",
     "text": [
      "100%|██████████| 235/235 [00:01<00:00, 173.13it/s]\n"
     ]
    },
    {
     "name": "stdout",
     "output_type": "stream",
     "text": [
      "Epoch 74/100, Loss: 0.014653791673481464, train dataset accuracy: 94.06833333333333\n",
      "test dataset accuracy: 93.03%\n"
     ]
    },
    {
     "name": "stderr",
     "output_type": "stream",
     "text": [
      "100%|██████████| 235/235 [00:01<00:00, 155.65it/s]\n"
     ]
    },
    {
     "name": "stdout",
     "output_type": "stream",
     "text": [
      "Epoch 75/100, Loss: 0.014593686908483505, train dataset accuracy: 93.88\n",
      "test dataset accuracy: 93.26%\n"
     ]
    },
    {
     "name": "stderr",
     "output_type": "stream",
     "text": [
      "100%|██████████| 235/235 [00:01<00:00, 158.72it/s]\n"
     ]
    },
    {
     "name": "stdout",
     "output_type": "stream",
     "text": [
      "Epoch 76/100, Loss: 0.009939831681549549, train dataset accuracy: 93.96333333333334\n",
      "test dataset accuracy: 93.15%\n"
     ]
    },
    {
     "name": "stderr",
     "output_type": "stream",
     "text": [
      "100%|██████████| 235/235 [00:01<00:00, 156.47it/s]\n"
     ]
    },
    {
     "name": "stdout",
     "output_type": "stream",
     "text": [
      "Epoch 77/100, Loss: 0.01451911497861147, train dataset accuracy: 93.82666666666667\n",
      "test dataset accuracy: 93.14%\n"
     ]
    },
    {
     "name": "stderr",
     "output_type": "stream",
     "text": [
      "100%|██████████| 235/235 [00:01<00:00, 179.08it/s]\n"
     ]
    },
    {
     "name": "stdout",
     "output_type": "stream",
     "text": [
      "Epoch 78/100, Loss: 0.006378878373652697, train dataset accuracy: 93.8\n",
      "test dataset accuracy: 93.17%\n"
     ]
    },
    {
     "name": "stderr",
     "output_type": "stream",
     "text": [
      "100%|██████████| 235/235 [00:01<00:00, 156.40it/s]\n"
     ]
    },
    {
     "name": "stdout",
     "output_type": "stream",
     "text": [
      "Epoch 79/100, Loss: 0.006900285370647907, train dataset accuracy: 93.83833333333334\n",
      "test dataset accuracy: 93.07%\n"
     ]
    },
    {
     "name": "stderr",
     "output_type": "stream",
     "text": [
      "100%|██████████| 235/235 [00:01<00:00, 167.85it/s]\n"
     ]
    },
    {
     "name": "stdout",
     "output_type": "stream",
     "text": [
      "Epoch 80/100, Loss: 0.013661179691553116, train dataset accuracy: 94.21333333333334\n",
      "test dataset accuracy: 93.36%\n"
     ]
    },
    {
     "name": "stderr",
     "output_type": "stream",
     "text": [
      "100%|██████████| 235/235 [00:01<00:00, 159.48it/s]\n"
     ]
    },
    {
     "name": "stdout",
     "output_type": "stream",
     "text": [
      "Epoch 81/100, Loss: 0.014763413928449154, train dataset accuracy: 94.17\n",
      "test dataset accuracy: 92.84%\n"
     ]
    },
    {
     "name": "stderr",
     "output_type": "stream",
     "text": [
      "100%|██████████| 235/235 [00:01<00:00, 163.94it/s]\n"
     ]
    },
    {
     "name": "stdout",
     "output_type": "stream",
     "text": [
      "Epoch 82/100, Loss: 0.005303066689521074, train dataset accuracy: 94.21\n",
      "test dataset accuracy: 93.84%\n"
     ]
    },
    {
     "name": "stderr",
     "output_type": "stream",
     "text": [
      "100%|██████████| 235/235 [00:01<00:00, 143.87it/s]\n"
     ]
    },
    {
     "name": "stdout",
     "output_type": "stream",
     "text": [
      "Epoch 83/100, Loss: 0.006846386007964611, train dataset accuracy: 94.26333333333334\n",
      "test dataset accuracy: 92.61%\n"
     ]
    },
    {
     "name": "stderr",
     "output_type": "stream",
     "text": [
      "100%|██████████| 235/235 [00:01<00:00, 148.95it/s]\n"
     ]
    },
    {
     "name": "stdout",
     "output_type": "stream",
     "text": [
      "Epoch 84/100, Loss: 0.013669010251760483, train dataset accuracy: 94.41333333333333\n",
      "test dataset accuracy: 93.3%\n"
     ]
    },
    {
     "name": "stderr",
     "output_type": "stream",
     "text": [
      "100%|██████████| 235/235 [00:01<00:00, 141.84it/s]\n"
     ]
    },
    {
     "name": "stdout",
     "output_type": "stream",
     "text": [
      "Epoch 85/100, Loss: 0.01116334181278944, train dataset accuracy: 94.17166666666667\n",
      "test dataset accuracy: 93.26%\n"
     ]
    },
    {
     "name": "stderr",
     "output_type": "stream",
     "text": [
      "100%|██████████| 235/235 [00:01<00:00, 140.89it/s]\n"
     ]
    },
    {
     "name": "stdout",
     "output_type": "stream",
     "text": [
      "Epoch 86/100, Loss: 0.011698096990585327, train dataset accuracy: 94.15333333333334\n",
      "test dataset accuracy: 93.38%\n"
     ]
    },
    {
     "name": "stderr",
     "output_type": "stream",
     "text": [
      "100%|██████████| 235/235 [00:01<00:00, 141.64it/s]\n"
     ]
    },
    {
     "name": "stdout",
     "output_type": "stream",
     "text": [
      "Epoch 87/100, Loss: 0.003602762473747134, train dataset accuracy: 94.325\n",
      "test dataset accuracy: 93.85%\n"
     ]
    },
    {
     "name": "stderr",
     "output_type": "stream",
     "text": [
      "100%|██████████| 235/235 [00:01<00:00, 149.01it/s]\n"
     ]
    },
    {
     "name": "stdout",
     "output_type": "stream",
     "text": [
      "Epoch 88/100, Loss: 0.011277928948402405, train dataset accuracy: 93.92666666666666\n",
      "test dataset accuracy: 93.3%\n"
     ]
    },
    {
     "name": "stderr",
     "output_type": "stream",
     "text": [
      "100%|██████████| 235/235 [00:01<00:00, 148.94it/s]\n"
     ]
    },
    {
     "name": "stdout",
     "output_type": "stream",
     "text": [
      "Epoch 89/100, Loss: 0.01725768856704235, train dataset accuracy: 94.21833333333333\n",
      "test dataset accuracy: 93.66%\n"
     ]
    },
    {
     "name": "stderr",
     "output_type": "stream",
     "text": [
      "100%|██████████| 235/235 [00:01<00:00, 154.62it/s]\n"
     ]
    },
    {
     "name": "stdout",
     "output_type": "stream",
     "text": [
      "Epoch 90/100, Loss: 0.01297671813517809, train dataset accuracy: 94.31666666666666\n",
      "test dataset accuracy: 93.52%\n"
     ]
    },
    {
     "name": "stderr",
     "output_type": "stream",
     "text": [
      "100%|██████████| 235/235 [00:01<00:00, 154.60it/s]\n"
     ]
    },
    {
     "name": "stdout",
     "output_type": "stream",
     "text": [
      "Epoch 91/100, Loss: 0.015271691605448723, train dataset accuracy: 93.83166666666666\n",
      "test dataset accuracy: 93.27%\n"
     ]
    },
    {
     "name": "stderr",
     "output_type": "stream",
     "text": [
      "100%|██████████| 235/235 [00:01<00:00, 157.61it/s]\n"
     ]
    },
    {
     "name": "stdout",
     "output_type": "stream",
     "text": [
      "Epoch 92/100, Loss: 0.010534431785345078, train dataset accuracy: 93.92333333333333\n",
      "test dataset accuracy: 93.48%\n"
     ]
    },
    {
     "name": "stderr",
     "output_type": "stream",
     "text": [
      "100%|██████████| 235/235 [00:01<00:00, 159.50it/s]\n"
     ]
    },
    {
     "name": "stdout",
     "output_type": "stream",
     "text": [
      "Epoch 93/100, Loss: 0.010835458524525166, train dataset accuracy: 94.36666666666666\n",
      "test dataset accuracy: 93.33%\n"
     ]
    },
    {
     "name": "stderr",
     "output_type": "stream",
     "text": [
      "100%|██████████| 235/235 [00:01<00:00, 141.72it/s]\n"
     ]
    },
    {
     "name": "stdout",
     "output_type": "stream",
     "text": [
      "Epoch 94/100, Loss: 0.006434459704905748, train dataset accuracy: 94.52333333333333\n",
      "test dataset accuracy: 93.76%\n"
     ]
    },
    {
     "name": "stderr",
     "output_type": "stream",
     "text": [
      "100%|██████████| 235/235 [00:01<00:00, 156.55it/s]\n"
     ]
    },
    {
     "name": "stdout",
     "output_type": "stream",
     "text": [
      "Epoch 95/100, Loss: 0.0037271790206432343, train dataset accuracy: 94.34\n",
      "test dataset accuracy: 93.87%\n"
     ]
    },
    {
     "name": "stderr",
     "output_type": "stream",
     "text": [
      "100%|██████████| 235/235 [00:01<00:00, 160.64it/s]\n"
     ]
    },
    {
     "name": "stdout",
     "output_type": "stream",
     "text": [
      "Epoch 96/100, Loss: 0.005281747784465551, train dataset accuracy: 94.43\n",
      "test dataset accuracy: 93.27%\n"
     ]
    },
    {
     "name": "stderr",
     "output_type": "stream",
     "text": [
      "100%|██████████| 235/235 [00:01<00:00, 161.39it/s]\n"
     ]
    },
    {
     "name": "stdout",
     "output_type": "stream",
     "text": [
      "Epoch 97/100, Loss: 0.011329177767038345, train dataset accuracy: 94.225\n",
      "test dataset accuracy: 93.77%\n"
     ]
    },
    {
     "name": "stderr",
     "output_type": "stream",
     "text": [
      "100%|██████████| 235/235 [00:01<00:00, 141.97it/s]\n"
     ]
    },
    {
     "name": "stdout",
     "output_type": "stream",
     "text": [
      "Epoch 98/100, Loss: 0.007154462393373251, train dataset accuracy: 93.96666666666667\n",
      "test dataset accuracy: 92.99%\n"
     ]
    },
    {
     "name": "stderr",
     "output_type": "stream",
     "text": [
      "100%|██████████| 235/235 [00:01<00:00, 158.57it/s]\n"
     ]
    },
    {
     "name": "stdout",
     "output_type": "stream",
     "text": [
      "Epoch 99/100, Loss: 0.009787539951503277, train dataset accuracy: 94.01333333333334\n",
      "test dataset accuracy: 92.11%\n"
     ]
    }
   ],
   "source": [
    "model = model\n",
    "lay = []\n",
    "for n, i in model.named_children():\n",
    "    print(type(i).__name__)\n",
    "    if type(i).__name__ == \"Linear\":\n",
    "        lay.append((n, i))\n",
    "\n",
    "acc = []\n",
    "\n",
    "num_epochs = 100  \n",
    "for epoch in range(num_epochs):\n",
    "    ttot = 0\n",
    "    tcorr = 0\n",
    "    for b in tqdm(trainloader):\n",
    "        xt, y = b[0], b[1]\n",
    "        optimizer.zero_grad() \n",
    "        outputs = model(xt)  \n",
    "        loss = criterion(outputs, y) \n",
    "        \n",
    "        loss.backward() \n",
    "        optimizer.step() \n",
    "    \n",
    "        _, y = torch.max(y.data, 1)\n",
    "        _, pred = torch.max(outputs.data, 1)\n",
    "        ttot += y.shape[0]\n",
    "        tcorr += (pred == y).sum().item()\n",
    "    \n",
    "    for i in range(len(lay)):\n",
    "        if i > 0 and i <= len(lay)-1:\n",
    "            di = neuronalNeuralBalance(lay[i-1][1], lay[i][1])\n",
    "\n",
    "    print(f'Epoch {epoch}/{num_epochs}, Loss: {loss.item()}, train dataset accuracy: {100*tcorr/ttot}')\n",
    "        \n",
    "    tot = 0\n",
    "    corr = 0\n",
    "\n",
    "    with torch.no_grad():\n",
    "        for i in testloader:\n",
    "            xt, y = i[0], i[1]\n",
    "            outputs = model(xt)  \n",
    "            _, y = torch.max(y.data, 1)\n",
    "            _, pred = torch.max(outputs.data, 1)\n",
    "            tot += y.shape[0]\n",
    "            corr += (pred == y).sum().item()\n",
    "    print(f'test dataset accuracy: {100*corr/tot}%')\n",
    "    acc.append(corr/tot)\n"
   ]
  },
  {
   "cell_type": "code",
   "execution_count": 46,
   "metadata": {},
   "outputs": [
    {
     "data": {
      "image/png": "[encoded data removed]",
      "text/plain": [
       "<Figure size 2500x500 with 3 Axes>"
      ]
     },
     "metadata": {},
     "output_type": "display_data"
    }
   ],
   "source": [
    "import matplotlib.pyplot as plt\n",
    "\n",
    "fc_weights = model.fc.weight.cpu().detach().numpy().flatten()\n",
    "fc2_weights = model.fc2.weight.cpu().detach().numpy().flatten()\n",
    "out_weights = model.out.weight.cpu().detach().numpy().flatten()\n",
    "\n",
    "bins = np.linspace(-0.5, 0.5, 50) \n",
    "fc_hist, fc_bins = np.histogram(fc_weights, bins=bins)\n",
    "fc2_hist, fc2_bins = np.histogram(fc2_weights, bins=bins)\n",
    "out_hist, out_bins = np.histogram(out_weights, bins=bins)\n",
    "\n",
    "fc_bin_centers = 0.5 * (fc_bins[:-1] + fc_bins[1:])\n",
    "fc2_bin_centers = 0.5 * (fc2_bins[:-1] + fc2_bins[1:])\n",
    "out_bin_centers = 0.5 * (out_bins[:-1] + out_bins[1:])\n",
    "\n",
    "plt.figure(figsize=(25, 5))\n",
    "\n",
    "plt.subplot(1, 3, 1)\n",
    "plt.plot(fc_bin_centers, fc_hist, marker='o', linestyle='-', color='b')\n",
    "plt.title('Weight Distribution: Input to Hidden1 Layer')\n",
    "plt.xlabel('Weight Value')\n",
    "plt.ylabel('Frequency')\n",
    "\n",
    "plt.subplot(1, 3, 2)\n",
    "plt.plot(fc2_bin_centers, fc2_hist, marker='o', linestyle='-', color='g')\n",
    "plt.title('Weight Distribution: hidden 1 to hidden 2 Layer')\n",
    "plt.xlabel('Weight Value')\n",
    "plt.ylabel('Frequency')\n",
    "\n",
    "plt.subplot(1, 3, 3)\n",
    "plt.plot(out_bin_centers, out_hist, marker='o', linestyle='-', color='g')\n",
    "plt.title('Weight Distribution: Hidden2 to Output Layer')\n",
    "plt.xlabel('Weight Value')\n",
    "plt.ylabel('Frequency')\n",
    "\n",
    "plt.tight_layout()\n",
    "plt.show()\n"
   ]
  },
  {
   "cell_type": "code",
   "execution_count": 47,
   "metadata": {},
   "outputs": [
    {
     "name": "stdout",
     "output_type": "stream",
     "text": [
      "Number of non-zero weights greater than 0.01 in layer 1: 5667\n",
      "Number of non-zero weights greater than 0.01 in layer 1: 6914\n",
      "Number of non-zero weights greater than 0.01 in layer 3: 632\n"
     ]
    }
   ],
   "source": [
    "import torch\n",
    "\n",
    "def count_nonzero_weights_above_threshold(layer, threshold=0.01):\n",
    "    return torch.sum(torch.abs(layer.weight) > threshold).item()\n",
    "\n",
    "threshold_value = 0.01 \n",
    "\n",
    "nonzero_fc1 = count_nonzero_weights_above_threshold(model.fc, threshold=threshold_value)\n",
    "nonzero_fc2 = count_nonzero_weights_above_threshold(model.fc2, threshold=threshold_value)\n",
    "nonzero_fc3 = count_nonzero_weights_above_threshold(model.out, threshold=threshold_value)\n",
    "\n",
    "print(f'Number of non-zero weights greater than {threshold_value} in layer 1: {nonzero_fc1}')\n",
    "print(f'Number of non-zero weights greater than {threshold_value} in layer 1: {nonzero_fc2}')\n",
    "print(f'Number of non-zero weights greater than {threshold_value} in layer 3: {nonzero_fc3}')"
   ]
  },
  {
   "cell_type": "code",
   "execution_count": 48,
   "metadata": {},
   "outputs": [
    {
     "name": "stdout",
     "output_type": "stream",
     "text": [
      "[0.9785332388928175, 0.9795337796363723, 0.979518247776531, 0.9797695742032985, 0.9811448878184577, 0.9801294962635096, 0.9806524080453389, 0.9790627200364015, 0.9806085262684803, 0.9805608643903388, 0.9807560015953464, 0.9793388934145479, 0.9801715872785964, 0.9786705355131045, 0.9820482049585939, 0.9818333785292237, 0.9792533271180371, 0.9796090308415784, 0.9799264843147479, 0.9802277969705011, 0.9790384352590525, 0.9779656436142123, 0.979481077553055, 0.9793321149949716, 0.9798689409655564, 0.9818924909326409, 0.9812097301095887, 0.9790798454722626, 0.9803146331654545, 0.9788069528202482, 0.9795634006879164, 0.9788610693263641, 0.978268576033662, 0.9785570164476877, 0.9801301987132206, 0.9791523224823071, 0.9779185758119406, 0.979861464442297, 0.9806587228096899, 0.9778589495749355, 0.9791594361684517, 0.9791633255630043, 0.9800003434254527, 0.9805896132139958, 0.9810272352841986, 0.9803356827713758, 0.980099461761115, 0.9790500786517239, 0.9801546533663693, 0.9797230380216971, 0.9798837860897807, 0.981098865120398, 0.9794620543742671, 0.9812923622072779, 0.9817875366253513, 0.9798688722124222, 0.9776169738365771, 0.9790947553407666, 0.9798442982156543, 0.981610288043573, 0.9793505860133931, 0.9823343132961506, 0.9799470303155404, 0.9803255566151247, 0.9781783711663945, 0.979691844104146, 0.9809617785766089, 0.9798792637230098, 0.9823577607835378, 0.9771174214522858, 0.9817732277834965, 0.9809022406673684, 0.9785134451538251, 0.9821668283223822, 0.980374348337999, 0.9823179192219754, 0.9809914614592721, 0.9797306132477234, 0.9800597060049091, 0.9794926321161826, 0.9794886490901075, 0.977920237826692, 0.9805797961079223, 0.980301531689303, 0.9810957024212492, 0.9798019935483719, 0.9801337486346925, 0.9789314312168039, 0.9794179683277869, 0.9809790780292889, 0.9793686629471317, 0.9791836326890238, 0.98182094092674, 0.9817735163564606, 0.9785317270729281, 0.9821531987336576, 0.9814114179537892, 0.981699606517127, 0.9789635303951124, 0.9796045001453011, 0.9796768921898292, 0.9795106318260125, 0.9811395427172197, 0.9793269318299166, 0.97977167754528, 0.9803849085606293, 0.9828222256573684, 0.9793797277717573, 0.9809932173253126, 0.9800943873186818, 0.979946558142275, 0.9791729234389502, 0.9812922914705201, 0.9805331103400045, 0.9784938136741491, 0.9836505804317721, 0.9805527221435165, 0.9794014027810166, 0.9795245335268897, 0.9799070608535694, 0.9776945834835882, 0.9801537560251518, 0.9778712489320146, 0.9807551121831162, 0.9787605285346345, 0.980455992165921, 0.9808811273050302, 0.9798823120827778, 0.9780602268292907, 0.9806883980462159, 0.9804822887666688, 0.9808387810036481, 0.9786482946187194, 0.982292125610329, 0.9782131392187642, 0.9796866831170353, 0.9798534082375512, 0.9808264305193707, 0.9802337456016383, 0.9831222191341703, 0.97981081499142, 0.9801750003809387, 0.9821335412511479, 0.9802518912143813, 0.9802318074851131, 0.978460871348721, 0.9798307788195338, 0.9780312222069929, 0.9793356995719952, 0.9807898808090668, 0.9799585833284663, 0.980957969676488, 0.9812257819712689, 0.9795242282840988, 0.9788134653625032, 0.9801188745125248, 0.9804904566902743, 0.9804579591178485, 0.9791220552902283, 0.9791728823018037, 0.9799589478304043, 0.9791090183376604, 0.9823075659531644, 0.9808071581026003, 0.9789241464360133, 0.9797728504382326, 0.980896277363229, 0.9784239339948723, 0.9803662568712707, 0.9788682645075261, 0.9796562789918742, 0.9794071273059454, 0.9813388391202875, 0.9813737811039426, 0.9811203120015997, 0.9800469460439245, 0.9794871467676588, 0.9815661360057834, 0.9806559683635874, 0.9790080897011932, 0.9801170353924022, 0.9814675986857233, 0.9795848942474246, 0.9795801400538744, 0.980162585749999, 0.981093662333322, 0.9794699087297432, 0.982024711771275, 0.9785405497172728, 0.9822441727446398, 0.9797501064607587, 0.9804618170210245, 0.9795474621827472, 0.9796946037559583, 0.980213720741294, 0.9805108515712639, 0.9788037306170327, 0.9794767010861338, 0.9802762227916543, 0.9796847777225764, 0.9792499703254199, 0.9786493597877328, 0.9806290940723814, 0.9810298207979841, 0.9803148054328785, 0.9781680806717357, 0.9800447888645425, 0.9795035735318149, 0.9803719960313585, 0.9785917118670502, 0.9786739565539949, 0.9822150510451604, 0.9797992111448741, 0.980426978191218, 0.9816093061458309, 0.9811581729280626, 0.979269772292858, 0.9818461376126184, 0.9802050136232899, 0.9803042384163926, 0.9803579231044781, 0.9790125943333382, 0.980518365863265, 0.9809292446393416, 0.9805637664817577, 0.9808912795556043, 0.9809046916035442, 0.9801874863229894, 0.9789395278407488, 0.9813715820418647, 0.979080431949247, 0.9805244318686472, 0.9792990901700285, 0.9796358045338229, 0.9799353357468777, 0.9808558619906852, 0.9789707422936629, 0.9791391873335058, 0.9788571981648485, 0.9797173081557923, 0.9801723425847443, 0.9796848434701445, 0.9819798232940922, 0.9805027989094017, 0.981490615006955, 0.9788561846126345, 0.9806430694739154, 0.9796651905717008, 0.9805128998795064, 0.981277221659251, 0.979513457347631, 0.9812063832055787, 0.9791932279348279, 0.9795622385262702, 0.9818590656736305, 0.9801459254105359, 0.9779128339582406, 0.9809892459355013, 0.980070083024053, 0.9807315380682897, 0.9792249105844189, 0.9809171439532937, 0.9792941398490035, 0.9786008536175475, 0.9805556093961287, 0.9806992952249395, 0.9800741976191699, 0.9799318601977375, 0.9800540039366181, 0.9804604049296451, 0.981161099611274, 0.9775863437087641, 0.9799802903303717, 0.9804845634780096, 0.9795131319175284, 0.9798861659939414, 0.9810177098747757, 0.9787797198819456, 0.9814825539283546, 0.9806522928095857, 0.980220515438601, 0.9805228899014994, 0.9789125608961622, 0.980816604467074, 0.9786498096397585, 0.979467225731909, 0.9788618036366433, 0.9802423641896352, 0.9820044562469994, 0.9818792867045226, 0.9794961417123774, 0.9794649866042621, 0.9795915475186688, 0.9801472840234444, 0.9821609475534923, 0.9786657141929558, 0.9813977364047076, 0.9818401403463941, 0.9804963059092382, 0.979458139195028, 0.979315265204233, 0.9794165487797731, 0.9805765769345662, 0.9811012103194335, 0.9797778213970012, 0.9801493803327194, 0.9823556951673555, 0.9795781032996885, 0.977428229539166, 0.9794071894426256, 0.9777756312798874, 0.9809709314561376, 0.9778595755888893, 0.9796890467429623, 0.9811787304463386, 0.9783102356228082, 0.9791038993730273, 0.9796204248606925, 0.9799482694539065, 0.9788971759478302, 0.9792815860873698, 0.979846125416809, 0.9798893340734234, 0.9809852568146985, 0.9794840290659056, 0.9802746401735377, 0.9803920683692672, 0.9823024619793471, 0.9789420565011985, 0.9793176576589537, 0.9806154937839971, 0.9794896255975516, 0.9798201853721562, 0.9805031982353659, 0.9785485483843854, 0.9799672437404096, 0.981846414530493, 0.9790859196186397, 0.9802435786874618, 0.9807170851001369, 0.9799518505278528, 0.9789834967964303, 0.9802519591501976, 0.9784631869483059, 0.9795304975696503, 0.9791461540664252, 0.9798825686042925, 0.9805164081257888, 0.981148366321176, 0.9796685481824772, 0.9817754063390198, 0.979328210115569, 0.9804274290018449, 0.9809776966582983, 0.9795354207145759, 0.9806504253661391, 0.9799985965697813, 0.9820801507302946, 0.9784848310080012, 0.9801246723057483, 0.9792182843167353, 0.9801639304740976, 0.9815759657771131, 0.9791474839520933, 0.98008273704229, 0.9802338630416505, 0.9804606656402608, 0.9777569281348084, 0.9799357696855261, 0.9807621811490745, 0.9819290490621603, 0.9814055181002503, 0.9814763314840849, 0.9807708766003805, 0.9800864149776626, 0.9812854886029212, 0.9811956063006617, 0.9800576398043458, 0.9784618505811159, 0.9805989313268775, 0.9803583135419347, 0.9805182688801675, 0.9820673437201449, 0.9802336698421035, 0.9791822641137071, 0.9801779947921868, 0.9777472467200516, 0.9795969521758197, 0.978301828978191, 0.9790970601556916, 0.9794006620084329, 0.9786104768974097, 0.9803729477251056, 0.9811708280322057, 0.979289790141898, 0.9824288230971601, 0.9784255520045367, 0.9796694131860709, 0.9789423136013925, 0.9794530315083841, 0.9797464916364996, 0.981712019187181, 0.9789043370667212, 0.9786869945547146, 0.9801717107346255, 0.9799439849893747, 0.978956294812646, 0.979717902508488, 0.9822528406240103, 0.9799698433318002, 0.9799270778149363, 0.9788705673409622, 0.9800400977916814, 0.9802586274592037, 0.978789912490373, 0.9806881186537798, 0.9785951327161747, 0.9807295954940569, 0.9797246898934997, 0.9792093153314138, 0.9788911550658963, 0.9806951168420053, 0.9793970973026096, 0.9802795368057393, 0.9792247354356508, 0.9803129966978748, 0.9798986781296254, 0.9785912644835204, 0.9806527853650691, 0.9786500381310026, 0.9798222349370773, 0.9804159742680133, 0.9815430054963692, 0.9802694886704652, 0.9795392216210245, 0.9791835547733071, 0.9781978714243036, 0.9814150190488803, 0.9806689723701968, 0.9785729265199914, 0.9814099891945425, 0.980994960598734, 0.9792198052777913, 0.979648021912159, 0.9806874211499458, 0.9799840752654096, 0.9803926613872866, 0.9790311936383765, 0.9783784369995273, 0.9820595554885715, 0.982079660901534, 0.9809025546601892, 0.9798422058888998, 0.9803081534078071, 0.9804897117900289, 0.9802178936921387, 0.9800301596229654, 0.9815011563493893, 0.9797296270463215, 0.978972490645473, 0.9803697309889188, 0.9797252685434233, 0.9812732888089584, 0.9802698531511365, 0.9792201394762777, 0.9805548911028245, 0.9785179361949697, 0.9788389415218287, 0.9798557353400418, 0.9796985870051597, 0.9798570040480322, 0.9799798709379539, 0.9786397846653409, 0.979693018561188, 0.9809288824489514, 0.9792777777015959, 0.9807656072719392, 0.9786983695104322, 0.9790271565539518, 0.9784309233695083, 0.9794825733703667, 0.9807795816739912, 0.9793302138490708, 0.9787150677898855, 0.9807994691287687, 0.9802358891033438, 0.9817616200454354, 0.9803239825993572, 0.9797981219758513, 0.9799836528529058, 0.9805884879844843, 0.9799209295482121, 0.9805386174610968, 0.9807560696534391, 0.9788665612874697, 0.9808875222637954, 0.9798848846608017, 0.9797419112319149, 0.9780752685567808, 0.9803169490820852, 0.9788577144087234, 0.9793637940967345, 0.9795020858957144, 0.9806399807086547, 0.9790073844262495, 0.9822733230271561, 0.9811579059871967, 0.9811347124493832, 0.9801162975011576, 0.9793320955918133, 0.9805949746385707, 0.9801444234298737]\n",
      "torch.Size([512])\n",
      "[0.9871977634757801, 0.9865358748984878, 0.9862172934205761, 0.986156733622915, 0.9858293551188583, 0.9857011508308401, 0.9868874269633967, 0.9861743055245029, 0.9855229616016353, 0.9851674710792576, 0.9863058424341538, 0.9863256615219999, 0.9861587558863054, 0.9859728073321823, 0.986149968801784, 0.9863668971417215, 0.9861343593408313, 0.9854560801575908, 0.986531848599115, 0.9863801192566765, 0.9862170531771308, 0.9864292142193783, 0.9862285131323507, 0.9905912717252563, 0.9874345126171072, 0.9861299422155071, 0.9864265235632884, 0.9865275028963266, 0.9863246220287885, 0.9862687531257635, 0.98619653425138, 0.9859773990318208, 0.9862991428280244, 0.9865223737618235, 0.9861777049965206, 0.9858918619181382, 0.9864070965868157, 0.9861199311969387, 0.9897103583120415, 0.9858829304487973, 0.9862328301318515, 0.9864088110716016, 0.9864582524439016, 0.9872784319187558, 0.9859313584282106, 0.9862718672352583, 0.9865916850735128, 0.9868487997895694, 0.9862464057287595, 0.9854381406760854, 0.9863488008593563, 0.9861723247650114, 0.9868136866038246, 0.9862864237982742, 0.9859943296540411, 0.9864762666545485, 0.9862961499710291, 0.9861686667468985, 0.9877815157710725, 0.9863757681036855, 0.9863491361800205, 0.9865394800525846, 0.986077888916862, 0.9863573376260856, 0.9865300182294833, 0.9861601229085583, 0.9867508679415973, 0.9864222893806781, 0.9854676028448176, 0.9864044612503017, 0.9866733876329224, 0.9861505540763814, 0.9863636396681813, 0.9861610854665723, 0.9857741085319988, 0.9879677879266727, 0.9871368102199033, 0.9892447721078017, 0.9864787014245989, 0.986953387353405, 0.9860487304383591, 0.9859429631797397, 0.988592350195292, 0.9862871238759308, 0.9869041852817242, 0.9860753365921288, 0.9866533591521579, 0.9858233161521129, 0.9861573688924373, 0.9862974692284594, 0.9863789308629446, 0.98624486653786, 0.9856736318368529, 0.982869051992997, 0.9862890455397508, 0.9864085525253974, 0.9865743710095365, 0.986961934456286, 0.9855605615417112, 0.9857398798516743, 0.9862260976011882, 0.9862319615875773, 0.9861848874956013, 0.9862722299188178, 0.9854639660614567, 0.9864933958841341, 0.9856823279241769, 0.9866187362643875, 0.9860247093553363, 0.9862283797251192, 0.9865582097162164, 0.9869437694032392, 0.9861575577699104, 0.9860838397262431, 0.9864500322086649, 0.9872456667371453, 0.9864098028030723, 0.9861924809160509, 0.9865606309850257, 0.9865207280973737, 0.9862083443480081, 0.9862860232336933, 0.9852762689319153, 0.9862648630855881, 0.9863615118495334, 0.986197076773339, 0.9863089522397491, 0.9862176192483163, 0.9863694695571276, 0.9864299612666039, 0.9865004286045672, 0.9876789011588923, 0.9863234311626208, 0.986183228887195, 0.9865929030190989, 0.9864007138760834, 0.9862790158888767, 0.9863752473538182, 0.9861748001595992, 0.9864364090189318, 0.9863121877458259, 0.9862727820496767, 0.9854665643308789, 0.9869553993638488, 0.9861961135078696, 0.9859503865966159, 0.9861185168568445, 0.986224903778188, 0.9865406268024964, 0.9857790079423882, 0.9860572143339535, 0.9859652565742593, 0.9876611368963072, 0.9865348168984918, 0.9862237311930055, 0.9868280369341506, 0.9856938918289007, 0.9861941879854544, 0.9869550530385768, 0.9887973384703138, 0.9883907859589408, 0.986347027910969, 0.986294936095167, 0.9907315155322252, 0.9863118278058286, 0.9862911498466694, 0.9866691143165534, 0.9862662617848076, 0.9864614442991387, 0.9858951043205232, 0.9861274668728446, 0.9862169425890193, 0.9866001628981991, 0.9863343012059163, 0.986449524687764, 0.9872200376889352, 0.9862890719735482, 0.9860055464581186, 0.9871531604247246, 0.9861898895568055, 0.986517312903028, 0.9850105916337418, 0.9867083874432334, 0.9864154988498983, 0.9860002995956624, 0.9860183934562798, 0.9861381430981044, 0.9868195862448597, 0.9865841739713505, 0.9860452858630777, 0.9868878643215205, 0.9862443776624201, 0.9864266495051793, 0.9862545537491517, 0.9864212916360724, 0.9860515310903247, 0.9848212486454919, 0.9861556633034069, 0.9878859131097776, 0.9863628253962283, 0.9859340228267488, 0.988198054674436, 0.9861510404358822, 0.9887360076045631, 0.9862404230522182, 0.9865795209362764, 0.9862971416334726, 0.9883275779349714, 0.9862638847542307, 0.9860270498402356, 0.9862915380113771, 0.9861563719836185, 0.986231709571615, 0.9862703149262798, 0.9863450456461367, 0.9859769867814704, 0.9873096651607567, 0.9860081815970005, 0.9859317334552998, 0.9870862741590442, 0.986054316441174, 0.9863119064753927, 0.9860891905251329, 0.9865093041905844, 0.9863146688698773, 0.9861793624043964, 0.9875272843570815, 0.9866193859472976, 0.9862046304703324, 0.9860602229301156, 0.9862537236271643, 0.9841530900974421, 0.9861894549784277, 0.9860063221186742, 0.9865096859361048, 0.9860761462328591, 0.9863350452492531, 0.9867103312371632, 0.9863821544714017, 0.9864648016652489, 0.9856819471717061, 0.9858098557202235, 0.9904991813025581, 0.9865403657191055, 0.9845026228957494, 0.985863514387926, 0.9855851218779028, 0.9863413885605165, 0.9859901411360503, 0.9858396073340895, 0.9863573860019783, 0.9860877096407602, 0.9861641762010028, 0.9877134941596257, 0.9856244906388941, 0.9862058682052027]\n",
      "torch.Size([256])\n",
      "[0.9928853928816571, 0.9930744638229424, 0.9930962711968213, 0.9926644300518086, 0.9927570106138965, 0.99305249751551, 0.9931787110061042, 0.9928068182165476, 0.9931751279468454, 0.992954502444946, 0.9933540807517195, 0.9934366258682963, 0.9929124647244826, 0.9929035134780593, 0.9929641340246728, 0.9927625506482419, 0.9930399190490724, 0.9931748850203004, 0.9923511697392037, 0.9930041454104471, 0.9925853553352567, 0.9932836549922077, 0.9931947459991967, 0.9929882153527892, 0.9926446831322107, 0.9931343550922714, 0.992563162602071, 0.9932499065453705, 0.9931490995818839, 0.9906844010283363, 0.9934420739268843, 0.992651263163957, 0.9920485467470884, 0.9926909335552434, 0.9932149980986998, 0.9930577706445745, 0.9929626727410474, 0.9936033619234607, 0.9931842854513824, 0.9931208028998707, 0.9920374905400053, 0.9927163043692214, 0.9928663950601945, 0.9928633210655403, 0.9929313754650884, 0.99333313224781, 0.9936085911988343, 0.9930128774972623, 0.993147910443075, 0.9930338997620104, 0.9909836882278592, 0.992972999041869, 0.9932285271131401, 0.9930835226163757, 0.9927910874359372, 0.9929319022047939, 0.9932544638991617, 0.9929918661716832, 0.9929800674456745, 0.99192045066485, 0.9929290246752439, 0.9927660724366565, 0.9931593060921804, 0.992882469602605, 0.9930829685736077, 0.992918603435423, 0.993269729663002, 0.9931056853033863, 0.9922332293945478, 0.9931063082243335, 0.9932418637093529, 0.9929915789959703, 0.9930421043194544, 0.9929487538284326, 0.9932482958684642, 0.9930028560625301, 0.9914207369813255, 0.9931056401178353, 0.992961517332574, 0.9931341618542575, 0.9930502786774992, 0.9932358758861342, 0.9928779594784581, 0.9930142470620744, 0.9927378792086063, 0.9932264880964347, 0.9928500888071954, 0.9929714756327003, 0.9932068436480235, 0.9932008199506744, 0.9921382690916569, 0.9926739167686299, 0.9931051341808833, 0.9920575520419718, 0.9931358392408978, 0.9930636504962704, 0.9930774876994586, 0.993126657001635, 0.9901643862452326, 0.9932282270167978, 0.9930235145510719, 0.9929923114830821, 0.9929533795998496, 0.992986399929988, 0.9931470283515574, 0.9928575658559529, 0.9931707406654732, 0.9929695088508863, 0.9928074054227882, 0.992956726738735, 0.9931809114730716, 0.9928950871634414, 0.9933309475708014, 0.9928853703685238, 0.9927106567047524, 0.9930924282117367, 0.9931331537862528, 0.9928942587057666, 0.9928218089052139, 0.9928797819733048, 0.993124262036726, 0.9930865119398172, 0.9930056631838946, 0.9929577845000817, 0.9927068512670946, 0.9928921668916235, 0.9931545785000171, 0.9926826297272118]\n",
      "torch.Size([128])\n",
      "[1.0, 0.9999998279309236, 0.9999999690447401, 0.9999999588600913, 1.0000000507532534, 0.9999999489470991, 0.9999998976845763, 1.0, 1.0000000553753259, 0.9999999003320489, 0.999999967651656, 1.0, 0.9999998992633076, 0.9999998834010898, 1.0000000545942882, 0.999999942774488, 1.0, 1.000000099676167, 1.0000000699717275, 0.9999999499176684, 1.0000000921921586, 0.9999999035163918, 1.000000049537448, 1.0000000467634316, 1.0, 0.9999999333725258, 1.0000000787818406, 1.0, 0.9999999617675116, 0.9999999019781032, 0.9999998315364685, 0.9999999422505143, 1.0, 0.9999999412636129, 1.000000057863484, 1.0, 1.0, 0.9999999610022172, 0.9999999212116606, 0.999999921095843, 0.9999998542774275, 1.0, 1.0, 0.9999999658900206, 1.0000000603107044, 1.0000000562560671, 1.0, 1.0, 1.000000042239461, 1.0000000333039032, 0.999999920157153, 1.0, 1.0, 1.000000105903512, 0.9999999409833943, 1.0, 0.9999999174027152, 0.9999999598870895, 1.0, 0.9999998910776294, 1.0000000438856869, 0.999999947601955, 1.000000043329778, 1.0]\n",
      "torch.Size([64])\n"
     ]
    }
   ],
   "source": [
    "for i in range(len(lay)):\n",
    "    if i > 0 and i <= len(lay)-1:\n",
    "        norms = []\n",
    "        for j in range(lay[i-1][1].weight.shape[0]):\n",
    "            norms.append(np.sqrt(torch.sum(torch.square(lay[i][1].weight.data[:,j])).item())/np.sqrt(torch.sum(torch.square(lay[i-1][1].weight.data[j])).item()))\n",
    "        print(norms)\n",
    "        norms = torch.tensor(norms)\n",
    "        print(norms.shape)"
   ]
  },
  {
   "cell_type": "code",
   "execution_count": 49,
   "metadata": {},
   "outputs": [
    {
     "data": {
      "image/png": "[encoded data removed]",
      "text/plain": [
       "<Figure size 1600x1000 with 1 Axes>"
      ]
     },
     "metadata": {},
     "output_type": "display_data"
    }
   ],
   "source": [
    "epochs_plot = list(range(100))\n",
    "\n",
    "plt.figure(figsize=(16, 10))\n",
    "plt.plot(epochs_plot, acc, linestyle='-', color='b', label='acc')\n",
    "\n",
    "plt.xlabel('Epochs', fontsize=14)\n",
    "plt.ylabel('Accuracy', fontsize=14)\n",
    "plt.title('Model Accuracy Over Epochs', fontsize=14)\n",
    "\n",
    "plt.xticks(fontsize=14)\n",
    "plt.yticks(fontsize=14)\n",
    "\n",
    "plt.grid(True)\n",
    "\n",
    "plt.legend(fontsize=14)\n",
    "\n",
    "plt.show()"
   ]
  },
  {
   "cell_type": "code",
   "execution_count": 50,
   "metadata": {},
   "outputs": [],
   "source": [
    "import pickle\n",
    "with open('nbOnlineEveryEpochAcc4.pkl', 'wb') as f:\n",
    "    pickle.dump(acc, f)"
   ]
  }
 ],
 "metadata": {
  "kernelspec": {
   "display_name": "Python 3",
   "language": "python",
   "name": "python3"
  },
  "language_info": {
   "codemirror_mode": {
    "name": "ipython",
    "version": 3
   },
   "file_extension": ".py",
   "mimetype": "text/x-python",
   "name": "python",
   "nbconvert_exporter": "python",
   "pygments_lexer": "ipython3",
   "version": "3.11.2"
  }
 },
 "nbformat": 4,
 "nbformat_minor": 2
}
