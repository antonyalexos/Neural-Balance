{
 "cells": [
  {
   "cell_type": "code",
   "execution_count": 45,
   "metadata": {},
   "outputs": [],
   "source": [
    "import torch\n",
    "import torch.nn as nn\n",
    "import torch.optim as optim\n",
    "import numpy as np\n",
    "from torchvision.datasets import MNIST\n",
    "from torch.utils.data import DataLoader\n",
    "from torchvision import transforms\n",
    "import torch.nn.functional as F\n",
    "import os\n",
    "from tqdm import tqdm\n",
    "\n",
    "class SingleLayerNN(nn.Module):\n",
    "    def __init__(self):\n",
    "        super(SingleLayerNN, self).__init__()\n",
    "        self.fc = nn.Linear(784, 512) \n",
    "        self.fc0 = nn.Linear(512, 256)\n",
    "        self.fc1 = nn.Linear(256, 128)\n",
    "        self.fc2 = nn.Linear(128, 64)\n",
    "        self.out = nn.Linear(64, 10)\n",
    "\n",
    "    def forward(self, x):\n",
    "        x = torch.relu(self.fc(x)) \n",
    "        x = torch.relu(self.fc0(x))\n",
    "        x = torch.relu(self.fc1(x))\n",
    "        x = torch.relu(self.fc2(x))\n",
    "        x = self.out(x)  \n",
    "        return x\n",
    "\n",
    "model = SingleLayerNN()\n",
    "\n",
    "\n",
    "criterion = nn.MSELoss() \n",
    "optimizer = optim.Adam(model.parameters(), lr=0.01)  \n"
   ]
  },
  {
   "cell_type": "code",
   "execution_count": 46,
   "metadata": {},
   "outputs": [],
   "source": [
    "#torch.manual_seed(7)"
   ]
  },
  {
   "cell_type": "code",
   "execution_count": 47,
   "metadata": {},
   "outputs": [
    {
     "name": "stderr",
     "output_type": "stream",
     "text": [
      "/var/folders/d1/pxwd2rcj41j7b2lhnz909xn80000gn/T/ipykernel_64215/112231088.py:4: UserWarning: To copy construct from a tensor, it is recommended to use sourceTensor.clone().detach() or sourceTensor.clone().detach().requires_grad_(True), rather than torch.tensor(sourceTensor).\n",
      "  x_train = torch.tensor(x_train, dtype=torch.float32)\n",
      "/var/folders/d1/pxwd2rcj41j7b2lhnz909xn80000gn/T/ipykernel_64215/112231088.py:5: UserWarning: To copy construct from a tensor, it is recommended to use sourceTensor.clone().detach() or sourceTensor.clone().detach().requires_grad_(True), rather than torch.tensor(sourceTensor).\n",
      "  y_train = torch.tensor(y_train, dtype=torch.float32)\n"
     ]
    }
   ],
   "source": [
    "train_dataset = MNIST(os.getcwd(), train=True, download=True, transform=[transforms.ToTensor(), transforms.Normalize((0.5,), (0.5,))])\n",
    "x_train = train_dataset.data / 255.0\n",
    "y_train = F.one_hot(train_dataset.targets, num_classes=10)\n",
    "x_train = torch.tensor(x_train, dtype=torch.float32)\n",
    "y_train = torch.tensor(y_train, dtype=torch.float32)\n",
    "x_train = x_train.view(-1, 784)\n",
    "dtrain = torch.utils.data.TensorDataset(x_train, y_train)\n",
    "trainloader = DataLoader(dtrain, batch_size=256, shuffle=True)"
   ]
  },
  {
   "cell_type": "code",
   "execution_count": 48,
   "metadata": {},
   "outputs": [
    {
     "name": "stderr",
     "output_type": "stream",
     "text": [
      "/var/folders/d1/pxwd2rcj41j7b2lhnz909xn80000gn/T/ipykernel_64215/3473755828.py:4: UserWarning: To copy construct from a tensor, it is recommended to use sourceTensor.clone().detach() or sourceTensor.clone().detach().requires_grad_(True), rather than torch.tensor(sourceTensor).\n",
      "  x_test = torch.tensor(x_test, dtype=torch.float32)\n",
      "/var/folders/d1/pxwd2rcj41j7b2lhnz909xn80000gn/T/ipykernel_64215/3473755828.py:5: UserWarning: To copy construct from a tensor, it is recommended to use sourceTensor.clone().detach() or sourceTensor.clone().detach().requires_grad_(True), rather than torch.tensor(sourceTensor).\n",
      "  y_test = torch.tensor(y_test, dtype=torch.float32)\n"
     ]
    }
   ],
   "source": [
    "testDataset = MNIST(os.getcwd(), train=False, download=True, transform=[transforms.ToTensor(), transforms.Normalize((0.5,), (0.5,))])\n",
    "x_test = testDataset.data / 255.0\n",
    "y_test = F.one_hot(testDataset.targets, num_classes=10)\n",
    "x_test = torch.tensor(x_test, dtype=torch.float32)\n",
    "y_test = torch.tensor(y_test, dtype=torch.float32)\n",
    "x_test = x_test.view(-1, 784)\n",
    "dtest = torch.utils.data.TensorDataset(x_test, y_test)\n",
    "testloader = DataLoader(dtest, batch_size=256, shuffle=True)"
   ]
  },
  {
   "cell_type": "code",
   "execution_count": 49,
   "metadata": {},
   "outputs": [],
   "source": [
    "def neuronalNeuralBalance(inl, oul):\n",
    "\n",
    "    ninc = torch.zeros_like(inl.weight)\n",
    "    noul = torch.zeros_like(oul.weight)\n",
    "\n",
    "    for i in range(inl.weight.data.shape[0]):\n",
    "        inc = np.sqrt(torch.sum(torch.square(inl.weight.data[i])).item())\n",
    "        outg = np.sqrt(torch.sum(torch.square(oul.weight.data[:,i])).item())\n",
    "\n",
    "        # outg = outg / float(len(oul.weight.data[:,i]))\n",
    "        # inc = inc / float(len(inl.weight.data[i]))\n",
    "\n",
    "        opt = np.sqrt(outg/inc)\n",
    "\n",
    "        ninc[i] = inl.weight.data[i]*opt\n",
    "        noul[:, i] = oul.weight.data[:,i]/opt\n",
    "\n",
    "    inl.weight.data = ninc\n",
    "    oul.weight.data = noul\n"
   ]
  },
  {
   "cell_type": "code",
   "execution_count": 50,
   "metadata": {},
   "outputs": [
    {
     "name": "stdout",
     "output_type": "stream",
     "text": [
      "Linear\n",
      "Linear\n",
      "Linear\n",
      "Linear\n",
      "Linear\n"
     ]
    },
    {
     "name": "stderr",
     "output_type": "stream",
     "text": [
      "100%|██████████| 235/235 [00:01<00:00, 157.88it/s]\n"
     ]
    },
    {
     "name": "stdout",
     "output_type": "stream",
     "text": [
      "Epoch 0/100, Loss: 0.01280889566987753, train dataset accuracy: 76.945\n",
      "test dataset accuracy: 91.92%\n"
     ]
    },
    {
     "name": "stderr",
     "output_type": "stream",
     "text": [
      "100%|██████████| 235/235 [00:01<00:00, 169.39it/s]\n"
     ]
    },
    {
     "name": "stdout",
     "output_type": "stream",
     "text": [
      "Epoch 1/100, Loss: 0.012393307872116566, train dataset accuracy: 92.32333333333334\n",
      "test dataset accuracy: 92.76%\n"
     ]
    },
    {
     "name": "stderr",
     "output_type": "stream",
     "text": [
      "100%|██████████| 235/235 [00:01<00:00, 173.81it/s]\n"
     ]
    },
    {
     "name": "stdout",
     "output_type": "stream",
     "text": [
      "Epoch 2/100, Loss: 0.01123923622071743, train dataset accuracy: 93.03166666666667\n",
      "test dataset accuracy: 93.93%\n"
     ]
    },
    {
     "name": "stderr",
     "output_type": "stream",
     "text": [
      "100%|██████████| 235/235 [00:01<00:00, 186.43it/s]\n"
     ]
    },
    {
     "name": "stdout",
     "output_type": "stream",
     "text": [
      "Epoch 3/100, Loss: 0.008834135718643665, train dataset accuracy: 93.43666666666667\n",
      "test dataset accuracy: 93.66%\n"
     ]
    },
    {
     "name": "stderr",
     "output_type": "stream",
     "text": [
      "100%|██████████| 235/235 [00:01<00:00, 179.48it/s]\n"
     ]
    },
    {
     "name": "stdout",
     "output_type": "stream",
     "text": [
      "Epoch 4/100, Loss: 0.009250500239431858, train dataset accuracy: 93.53166666666667\n",
      "test dataset accuracy: 93.49%\n"
     ]
    },
    {
     "name": "stderr",
     "output_type": "stream",
     "text": [
      "100%|██████████| 235/235 [00:01<00:00, 176.67it/s]\n"
     ]
    },
    {
     "name": "stdout",
     "output_type": "stream",
     "text": [
      "Epoch 5/100, Loss: 0.012639103457331657, train dataset accuracy: 93.64666666666666\n",
      "test dataset accuracy: 93.57%\n"
     ]
    },
    {
     "name": "stderr",
     "output_type": "stream",
     "text": [
      "100%|██████████| 235/235 [00:01<00:00, 163.04it/s]\n"
     ]
    },
    {
     "name": "stdout",
     "output_type": "stream",
     "text": [
      "Epoch 6/100, Loss: 0.009594380855560303, train dataset accuracy: 93.69833333333334\n",
      "test dataset accuracy: 94.06%\n"
     ]
    },
    {
     "name": "stderr",
     "output_type": "stream",
     "text": [
      "100%|██████████| 235/235 [00:01<00:00, 183.61it/s]\n"
     ]
    },
    {
     "name": "stdout",
     "output_type": "stream",
     "text": [
      "Epoch 7/100, Loss: 0.00973102543503046, train dataset accuracy: 93.64\n",
      "test dataset accuracy: 93.52%\n"
     ]
    },
    {
     "name": "stderr",
     "output_type": "stream",
     "text": [
      "100%|██████████| 235/235 [00:01<00:00, 167.75it/s]\n"
     ]
    },
    {
     "name": "stdout",
     "output_type": "stream",
     "text": [
      "Epoch 8/100, Loss: 0.008603139780461788, train dataset accuracy: 93.68333333333334\n",
      "test dataset accuracy: 93.88%\n"
     ]
    },
    {
     "name": "stderr",
     "output_type": "stream",
     "text": [
      "100%|██████████| 235/235 [00:01<00:00, 179.09it/s]\n"
     ]
    },
    {
     "name": "stdout",
     "output_type": "stream",
     "text": [
      "Epoch 9/100, Loss: 0.005664074327796698, train dataset accuracy: 93.75666666666666\n",
      "test dataset accuracy: 93.16%\n"
     ]
    },
    {
     "name": "stderr",
     "output_type": "stream",
     "text": [
      "100%|██████████| 235/235 [00:01<00:00, 184.18it/s]\n"
     ]
    },
    {
     "name": "stdout",
     "output_type": "stream",
     "text": [
      "Epoch 10/100, Loss: 0.017266161739826202, train dataset accuracy: 93.67666666666666\n",
      "test dataset accuracy: 94.57%\n"
     ]
    },
    {
     "name": "stderr",
     "output_type": "stream",
     "text": [
      "100%|██████████| 235/235 [00:01<00:00, 180.08it/s]\n"
     ]
    },
    {
     "name": "stdout",
     "output_type": "stream",
     "text": [
      "Epoch 11/100, Loss: 0.007715610787272453, train dataset accuracy: 93.77666666666667\n",
      "test dataset accuracy: 93.5%\n"
     ]
    },
    {
     "name": "stderr",
     "output_type": "stream",
     "text": [
      "100%|██████████| 235/235 [00:01<00:00, 165.80it/s]\n"
     ]
    },
    {
     "name": "stdout",
     "output_type": "stream",
     "text": [
      "Epoch 12/100, Loss: 0.00946164783090353, train dataset accuracy: 93.63\n",
      "test dataset accuracy: 93.64%\n"
     ]
    },
    {
     "name": "stderr",
     "output_type": "stream",
     "text": [
      "100%|██████████| 235/235 [00:01<00:00, 181.65it/s]\n"
     ]
    },
    {
     "name": "stdout",
     "output_type": "stream",
     "text": [
      "Epoch 13/100, Loss: 0.013940064236521721, train dataset accuracy: 93.845\n",
      "test dataset accuracy: 92.99%\n"
     ]
    },
    {
     "name": "stderr",
     "output_type": "stream",
     "text": [
      "100%|██████████| 235/235 [00:01<00:00, 176.69it/s]\n"
     ]
    },
    {
     "name": "stdout",
     "output_type": "stream",
     "text": [
      "Epoch 14/100, Loss: 0.010367577895522118, train dataset accuracy: 93.99833333333333\n",
      "test dataset accuracy: 93.81%\n"
     ]
    },
    {
     "name": "stderr",
     "output_type": "stream",
     "text": [
      "100%|██████████| 235/235 [00:01<00:00, 177.97it/s]\n"
     ]
    },
    {
     "name": "stdout",
     "output_type": "stream",
     "text": [
      "Epoch 15/100, Loss: 0.010448278859257698, train dataset accuracy: 94.07166666666667\n",
      "test dataset accuracy: 93.66%\n"
     ]
    },
    {
     "name": "stderr",
     "output_type": "stream",
     "text": [
      "100%|██████████| 235/235 [00:01<00:00, 156.09it/s]\n"
     ]
    },
    {
     "name": "stdout",
     "output_type": "stream",
     "text": [
      "Epoch 16/100, Loss: 0.00943747814744711, train dataset accuracy: 93.975\n",
      "test dataset accuracy: 93.16%\n"
     ]
    },
    {
     "name": "stderr",
     "output_type": "stream",
     "text": [
      "100%|██████████| 235/235 [00:01<00:00, 182.60it/s]\n"
     ]
    },
    {
     "name": "stdout",
     "output_type": "stream",
     "text": [
      "Epoch 17/100, Loss: 0.017236610874533653, train dataset accuracy: 94.21333333333334\n",
      "test dataset accuracy: 93.8%\n"
     ]
    },
    {
     "name": "stderr",
     "output_type": "stream",
     "text": [
      "100%|██████████| 235/235 [00:01<00:00, 171.62it/s]\n"
     ]
    },
    {
     "name": "stdout",
     "output_type": "stream",
     "text": [
      "Epoch 18/100, Loss: 0.01730285957455635, train dataset accuracy: 94.22166666666666\n",
      "test dataset accuracy: 93.91%\n"
     ]
    },
    {
     "name": "stderr",
     "output_type": "stream",
     "text": [
      "100%|██████████| 235/235 [00:01<00:00, 172.29it/s]\n"
     ]
    },
    {
     "name": "stdout",
     "output_type": "stream",
     "text": [
      "Epoch 19/100, Loss: 0.004024882335215807, train dataset accuracy: 94.39\n",
      "test dataset accuracy: 93.96%\n"
     ]
    },
    {
     "name": "stderr",
     "output_type": "stream",
     "text": [
      "100%|██████████| 235/235 [00:01<00:00, 177.19it/s]\n"
     ]
    },
    {
     "name": "stdout",
     "output_type": "stream",
     "text": [
      "Epoch 20/100, Loss: 0.006910847965627909, train dataset accuracy: 94.36\n",
      "test dataset accuracy: 94.29%\n"
     ]
    },
    {
     "name": "stderr",
     "output_type": "stream",
     "text": [
      "100%|██████████| 235/235 [00:01<00:00, 184.54it/s]\n"
     ]
    },
    {
     "name": "stdout",
     "output_type": "stream",
     "text": [
      "Epoch 21/100, Loss: 0.01057661883533001, train dataset accuracy: 94.11333333333333\n",
      "test dataset accuracy: 94.1%\n"
     ]
    },
    {
     "name": "stderr",
     "output_type": "stream",
     "text": [
      "100%|██████████| 235/235 [00:01<00:00, 185.46it/s]\n"
     ]
    },
    {
     "name": "stdout",
     "output_type": "stream",
     "text": [
      "Epoch 22/100, Loss: 0.015508916229009628, train dataset accuracy: 94.16\n",
      "test dataset accuracy: 94.25%\n"
     ]
    },
    {
     "name": "stderr",
     "output_type": "stream",
     "text": [
      "100%|██████████| 235/235 [00:01<00:00, 173.83it/s]\n"
     ]
    },
    {
     "name": "stdout",
     "output_type": "stream",
     "text": [
      "Epoch 23/100, Loss: 0.005514378193765879, train dataset accuracy: 94.385\n",
      "test dataset accuracy: 93.38%\n"
     ]
    },
    {
     "name": "stderr",
     "output_type": "stream",
     "text": [
      "100%|██████████| 235/235 [00:01<00:00, 179.66it/s]\n"
     ]
    },
    {
     "name": "stdout",
     "output_type": "stream",
     "text": [
      "Epoch 24/100, Loss: 0.00874288473278284, train dataset accuracy: 94.395\n",
      "test dataset accuracy: 93.98%\n"
     ]
    },
    {
     "name": "stderr",
     "output_type": "stream",
     "text": [
      "100%|██████████| 235/235 [00:01<00:00, 186.24it/s]\n"
     ]
    },
    {
     "name": "stdout",
     "output_type": "stream",
     "text": [
      "Epoch 25/100, Loss: 0.004667945206165314, train dataset accuracy: 94.57833333333333\n",
      "test dataset accuracy: 94.29%\n"
     ]
    },
    {
     "name": "stderr",
     "output_type": "stream",
     "text": [
      "100%|██████████| 235/235 [00:01<00:00, 185.20it/s]\n"
     ]
    },
    {
     "name": "stdout",
     "output_type": "stream",
     "text": [
      "Epoch 26/100, Loss: 0.01391757745295763, train dataset accuracy: 94.37833333333333\n",
      "test dataset accuracy: 94.2%\n"
     ]
    },
    {
     "name": "stderr",
     "output_type": "stream",
     "text": [
      "100%|██████████| 235/235 [00:01<00:00, 176.37it/s]\n"
     ]
    },
    {
     "name": "stdout",
     "output_type": "stream",
     "text": [
      "Epoch 27/100, Loss: 0.0030998161528259516, train dataset accuracy: 94.53166666666667\n",
      "test dataset accuracy: 93.84%\n"
     ]
    },
    {
     "name": "stderr",
     "output_type": "stream",
     "text": [
      "100%|██████████| 235/235 [00:01<00:00, 174.44it/s]\n"
     ]
    },
    {
     "name": "stdout",
     "output_type": "stream",
     "text": [
      "Epoch 28/100, Loss: 0.010102767497301102, train dataset accuracy: 94.425\n",
      "test dataset accuracy: 94.16%\n"
     ]
    },
    {
     "name": "stderr",
     "output_type": "stream",
     "text": [
      "100%|██████████| 235/235 [00:01<00:00, 181.89it/s]\n"
     ]
    },
    {
     "name": "stdout",
     "output_type": "stream",
     "text": [
      "Epoch 29/100, Loss: 0.013217889703810215, train dataset accuracy: 94.625\n",
      "test dataset accuracy: 93.7%\n"
     ]
    },
    {
     "name": "stderr",
     "output_type": "stream",
     "text": [
      "100%|██████████| 235/235 [00:01<00:00, 174.05it/s]\n"
     ]
    },
    {
     "name": "stdout",
     "output_type": "stream",
     "text": [
      "Epoch 30/100, Loss: 0.011195640079677105, train dataset accuracy: 94.35333333333334\n",
      "test dataset accuracy: 93.38%\n"
     ]
    },
    {
     "name": "stderr",
     "output_type": "stream",
     "text": [
      "100%|██████████| 235/235 [00:01<00:00, 159.41it/s]\n"
     ]
    },
    {
     "name": "stdout",
     "output_type": "stream",
     "text": [
      "Epoch 31/100, Loss: 0.006373235490173101, train dataset accuracy: 94.09333333333333\n",
      "test dataset accuracy: 94.31%\n"
     ]
    },
    {
     "name": "stderr",
     "output_type": "stream",
     "text": [
      "100%|██████████| 235/235 [00:01<00:00, 169.51it/s]\n"
     ]
    },
    {
     "name": "stdout",
     "output_type": "stream",
     "text": [
      "Epoch 32/100, Loss: 0.011693896725773811, train dataset accuracy: 94.72833333333334\n",
      "test dataset accuracy: 94.08%\n"
     ]
    },
    {
     "name": "stderr",
     "output_type": "stream",
     "text": [
      "100%|██████████| 235/235 [00:01<00:00, 178.59it/s]\n"
     ]
    },
    {
     "name": "stdout",
     "output_type": "stream",
     "text": [
      "Epoch 33/100, Loss: 0.013231409713625908, train dataset accuracy: 94.79666666666667\n",
      "test dataset accuracy: 93.83%\n"
     ]
    },
    {
     "name": "stderr",
     "output_type": "stream",
     "text": [
      "100%|██████████| 235/235 [00:01<00:00, 176.31it/s]\n"
     ]
    },
    {
     "name": "stdout",
     "output_type": "stream",
     "text": [
      "Epoch 34/100, Loss: 0.00782450009137392, train dataset accuracy: 94.87833333333333\n",
      "test dataset accuracy: 93.86%\n"
     ]
    },
    {
     "name": "stderr",
     "output_type": "stream",
     "text": [
      "100%|██████████| 235/235 [00:01<00:00, 185.28it/s]\n"
     ]
    },
    {
     "name": "stdout",
     "output_type": "stream",
     "text": [
      "Epoch 35/100, Loss: 0.004979339428246021, train dataset accuracy: 94.68833333333333\n",
      "test dataset accuracy: 94.71%\n"
     ]
    },
    {
     "name": "stderr",
     "output_type": "stream",
     "text": [
      "100%|██████████| 235/235 [00:01<00:00, 175.21it/s]\n"
     ]
    },
    {
     "name": "stdout",
     "output_type": "stream",
     "text": [
      "Epoch 36/100, Loss: 0.01504035945981741, train dataset accuracy: 94.73666666666666\n",
      "test dataset accuracy: 94.05%\n"
     ]
    },
    {
     "name": "stderr",
     "output_type": "stream",
     "text": [
      "100%|██████████| 235/235 [00:01<00:00, 180.77it/s]\n"
     ]
    },
    {
     "name": "stdout",
     "output_type": "stream",
     "text": [
      "Epoch 37/100, Loss: 0.010142713785171509, train dataset accuracy: 94.75333333333333\n",
      "test dataset accuracy: 93.97%\n"
     ]
    },
    {
     "name": "stderr",
     "output_type": "stream",
     "text": [
      "100%|██████████| 235/235 [00:01<00:00, 175.36it/s]\n"
     ]
    },
    {
     "name": "stdout",
     "output_type": "stream",
     "text": [
      "Epoch 38/100, Loss: 0.015429272316396236, train dataset accuracy: 94.72333333333333\n",
      "test dataset accuracy: 93.69%\n"
     ]
    },
    {
     "name": "stderr",
     "output_type": "stream",
     "text": [
      "100%|██████████| 235/235 [00:01<00:00, 178.11it/s]\n"
     ]
    },
    {
     "name": "stdout",
     "output_type": "stream",
     "text": [
      "Epoch 39/100, Loss: 0.007814412005245686, train dataset accuracy: 94.93166666666667\n",
      "test dataset accuracy: 94.52%\n"
     ]
    },
    {
     "name": "stderr",
     "output_type": "stream",
     "text": [
      "100%|██████████| 235/235 [00:01<00:00, 143.92it/s]\n"
     ]
    },
    {
     "name": "stdout",
     "output_type": "stream",
     "text": [
      "Epoch 40/100, Loss: 0.00847555324435234, train dataset accuracy: 91.73\n",
      "test dataset accuracy: 93.0%\n"
     ]
    },
    {
     "name": "stderr",
     "output_type": "stream",
     "text": [
      "100%|██████████| 235/235 [00:01<00:00, 176.71it/s]\n"
     ]
    },
    {
     "name": "stdout",
     "output_type": "stream",
     "text": [
      "Epoch 41/100, Loss: 0.013905835337936878, train dataset accuracy: 93.32833333333333\n",
      "test dataset accuracy: 93.67%\n"
     ]
    },
    {
     "name": "stderr",
     "output_type": "stream",
     "text": [
      "100%|██████████| 235/235 [00:01<00:00, 162.47it/s]\n"
     ]
    },
    {
     "name": "stdout",
     "output_type": "stream",
     "text": [
      "Epoch 42/100, Loss: 0.007941514253616333, train dataset accuracy: 93.94666666666667\n",
      "test dataset accuracy: 93.85%\n"
     ]
    },
    {
     "name": "stderr",
     "output_type": "stream",
     "text": [
      "100%|██████████| 235/235 [00:01<00:00, 182.86it/s]\n"
     ]
    },
    {
     "name": "stdout",
     "output_type": "stream",
     "text": [
      "Epoch 43/100, Loss: 0.0063337115570902824, train dataset accuracy: 94.39\n",
      "test dataset accuracy: 93.92%\n"
     ]
    },
    {
     "name": "stderr",
     "output_type": "stream",
     "text": [
      "100%|██████████| 235/235 [00:01<00:00, 175.88it/s]\n"
     ]
    },
    {
     "name": "stdout",
     "output_type": "stream",
     "text": [
      "Epoch 44/100, Loss: 0.00814356841146946, train dataset accuracy: 94.34333333333333\n",
      "test dataset accuracy: 93.5%\n"
     ]
    },
    {
     "name": "stderr",
     "output_type": "stream",
     "text": [
      "100%|██████████| 235/235 [00:01<00:00, 182.60it/s]\n"
     ]
    },
    {
     "name": "stdout",
     "output_type": "stream",
     "text": [
      "Epoch 45/100, Loss: 0.008307578973472118, train dataset accuracy: 94.58833333333334\n",
      "test dataset accuracy: 94.0%\n"
     ]
    },
    {
     "name": "stderr",
     "output_type": "stream",
     "text": [
      "100%|██████████| 235/235 [00:01<00:00, 173.16it/s]\n"
     ]
    },
    {
     "name": "stdout",
     "output_type": "stream",
     "text": [
      "Epoch 46/100, Loss: 0.016665134578943253, train dataset accuracy: 94.88333333333334\n",
      "test dataset accuracy: 94.72%\n"
     ]
    },
    {
     "name": "stderr",
     "output_type": "stream",
     "text": [
      "100%|██████████| 235/235 [00:01<00:00, 185.11it/s]\n"
     ]
    },
    {
     "name": "stdout",
     "output_type": "stream",
     "text": [
      "Epoch 47/100, Loss: 0.00504335667937994, train dataset accuracy: 94.46333333333334\n",
      "test dataset accuracy: 94.04%\n"
     ]
    },
    {
     "name": "stderr",
     "output_type": "stream",
     "text": [
      "100%|██████████| 235/235 [00:01<00:00, 168.39it/s]\n"
     ]
    },
    {
     "name": "stdout",
     "output_type": "stream",
     "text": [
      "Epoch 48/100, Loss: 0.010283627547323704, train dataset accuracy: 94.57333333333334\n",
      "test dataset accuracy: 93.98%\n"
     ]
    },
    {
     "name": "stderr",
     "output_type": "stream",
     "text": [
      "100%|██████████| 235/235 [00:01<00:00, 188.35it/s]\n"
     ]
    },
    {
     "name": "stdout",
     "output_type": "stream",
     "text": [
      "Epoch 49/100, Loss: 0.01465926505625248, train dataset accuracy: 94.79833333333333\n",
      "test dataset accuracy: 93.32%\n"
     ]
    },
    {
     "name": "stderr",
     "output_type": "stream",
     "text": [
      "100%|██████████| 235/235 [00:01<00:00, 182.17it/s]\n"
     ]
    },
    {
     "name": "stdout",
     "output_type": "stream",
     "text": [
      "Epoch 50/100, Loss: 0.006098286714404821, train dataset accuracy: 94.99166666666666\n",
      "test dataset accuracy: 94.34%\n"
     ]
    },
    {
     "name": "stderr",
     "output_type": "stream",
     "text": [
      "100%|██████████| 235/235 [00:01<00:00, 177.58it/s]\n"
     ]
    },
    {
     "name": "stdout",
     "output_type": "stream",
     "text": [
      "Epoch 51/100, Loss: 0.008958223275840282, train dataset accuracy: 95.08166666666666\n",
      "test dataset accuracy: 94.43%\n"
     ]
    },
    {
     "name": "stderr",
     "output_type": "stream",
     "text": [
      "100%|██████████| 235/235 [00:01<00:00, 172.59it/s]\n"
     ]
    },
    {
     "name": "stdout",
     "output_type": "stream",
     "text": [
      "Epoch 52/100, Loss: 0.015183593146502972, train dataset accuracy: 94.99666666666667\n",
      "test dataset accuracy: 94.4%\n"
     ]
    },
    {
     "name": "stderr",
     "output_type": "stream",
     "text": [
      "100%|██████████| 235/235 [00:01<00:00, 180.49it/s]\n"
     ]
    },
    {
     "name": "stdout",
     "output_type": "stream",
     "text": [
      "Epoch 53/100, Loss: 0.0036550092045217752, train dataset accuracy: 95.05\n",
      "test dataset accuracy: 94.59%\n"
     ]
    },
    {
     "name": "stderr",
     "output_type": "stream",
     "text": [
      "100%|██████████| 235/235 [00:01<00:00, 184.55it/s]\n"
     ]
    },
    {
     "name": "stdout",
     "output_type": "stream",
     "text": [
      "Epoch 54/100, Loss: 0.009921988472342491, train dataset accuracy: 95.01833333333333\n",
      "test dataset accuracy: 94.22%\n"
     ]
    },
    {
     "name": "stderr",
     "output_type": "stream",
     "text": [
      "100%|██████████| 235/235 [00:01<00:00, 179.38it/s]\n"
     ]
    },
    {
     "name": "stdout",
     "output_type": "stream",
     "text": [
      "Epoch 55/100, Loss: 0.004058348946273327, train dataset accuracy: 95.14\n",
      "test dataset accuracy: 94.4%\n"
     ]
    },
    {
     "name": "stderr",
     "output_type": "stream",
     "text": [
      "100%|██████████| 235/235 [00:01<00:00, 178.06it/s]\n"
     ]
    },
    {
     "name": "stdout",
     "output_type": "stream",
     "text": [
      "Epoch 56/100, Loss: 0.006969053763896227, train dataset accuracy: 95.05166666666666\n",
      "test dataset accuracy: 93.82%\n"
     ]
    },
    {
     "name": "stderr",
     "output_type": "stream",
     "text": [
      "100%|██████████| 235/235 [00:01<00:00, 172.39it/s]\n"
     ]
    },
    {
     "name": "stdout",
     "output_type": "stream",
     "text": [
      "Epoch 57/100, Loss: 0.00499896751716733, train dataset accuracy: 94.67\n",
      "test dataset accuracy: 94.66%\n"
     ]
    },
    {
     "name": "stderr",
     "output_type": "stream",
     "text": [
      "100%|██████████| 235/235 [00:01<00:00, 189.05it/s]\n"
     ]
    },
    {
     "name": "stdout",
     "output_type": "stream",
     "text": [
      "Epoch 58/100, Loss: 0.006399119738489389, train dataset accuracy: 94.93333333333334\n",
      "test dataset accuracy: 94.74%\n"
     ]
    },
    {
     "name": "stderr",
     "output_type": "stream",
     "text": [
      "100%|██████████| 235/235 [00:01<00:00, 181.49it/s]\n"
     ]
    },
    {
     "name": "stdout",
     "output_type": "stream",
     "text": [
      "Epoch 59/100, Loss: 0.007968150079250336, train dataset accuracy: 95.27\n",
      "test dataset accuracy: 94.36%\n"
     ]
    },
    {
     "name": "stderr",
     "output_type": "stream",
     "text": [
      "100%|██████████| 235/235 [00:01<00:00, 160.49it/s]\n"
     ]
    },
    {
     "name": "stdout",
     "output_type": "stream",
     "text": [
      "Epoch 60/100, Loss: 0.008672491647303104, train dataset accuracy: 95.61\n",
      "test dataset accuracy: 94.8%\n"
     ]
    },
    {
     "name": "stderr",
     "output_type": "stream",
     "text": [
      "100%|██████████| 235/235 [00:01<00:00, 180.17it/s]\n"
     ]
    },
    {
     "name": "stdout",
     "output_type": "stream",
     "text": [
      "Epoch 61/100, Loss: 0.01583479717373848, train dataset accuracy: 95.445\n",
      "test dataset accuracy: 94.35%\n"
     ]
    },
    {
     "name": "stderr",
     "output_type": "stream",
     "text": [
      "100%|██████████| 235/235 [00:01<00:00, 180.13it/s]\n"
     ]
    },
    {
     "name": "stdout",
     "output_type": "stream",
     "text": [
      "Epoch 62/100, Loss: 0.004882404580712318, train dataset accuracy: 95.33333333333333\n",
      "test dataset accuracy: 94.58%\n"
     ]
    },
    {
     "name": "stderr",
     "output_type": "stream",
     "text": [
      "100%|██████████| 235/235 [00:01<00:00, 177.91it/s]\n"
     ]
    },
    {
     "name": "stdout",
     "output_type": "stream",
     "text": [
      "Epoch 63/100, Loss: 0.0045615597628057, train dataset accuracy: 95.3\n",
      "test dataset accuracy: 94.15%\n"
     ]
    },
    {
     "name": "stderr",
     "output_type": "stream",
     "text": [
      "100%|██████████| 235/235 [00:01<00:00, 164.61it/s]\n"
     ]
    },
    {
     "name": "stdout",
     "output_type": "stream",
     "text": [
      "Epoch 64/100, Loss: 0.009708520025014877, train dataset accuracy: 95.22\n",
      "test dataset accuracy: 94.49%\n"
     ]
    },
    {
     "name": "stderr",
     "output_type": "stream",
     "text": [
      "100%|██████████| 235/235 [00:01<00:00, 183.01it/s]\n"
     ]
    },
    {
     "name": "stdout",
     "output_type": "stream",
     "text": [
      "Epoch 65/100, Loss: 0.011411884799599648, train dataset accuracy: 95.40333333333334\n",
      "test dataset accuracy: 94.71%\n"
     ]
    },
    {
     "name": "stderr",
     "output_type": "stream",
     "text": [
      "100%|██████████| 235/235 [00:01<00:00, 182.22it/s]\n"
     ]
    },
    {
     "name": "stdout",
     "output_type": "stream",
     "text": [
      "Epoch 66/100, Loss: 0.008896715007722378, train dataset accuracy: 95.455\n",
      "test dataset accuracy: 94.83%\n"
     ]
    },
    {
     "name": "stderr",
     "output_type": "stream",
     "text": [
      "100%|██████████| 235/235 [00:01<00:00, 181.13it/s]\n"
     ]
    },
    {
     "name": "stdout",
     "output_type": "stream",
     "text": [
      "Epoch 67/100, Loss: 0.011223893612623215, train dataset accuracy: 95.50333333333333\n",
      "test dataset accuracy: 93.88%\n"
     ]
    },
    {
     "name": "stderr",
     "output_type": "stream",
     "text": [
      "100%|██████████| 235/235 [00:01<00:00, 165.29it/s]\n"
     ]
    },
    {
     "name": "stdout",
     "output_type": "stream",
     "text": [
      "Epoch 68/100, Loss: 0.013234859332442284, train dataset accuracy: 95.57\n",
      "test dataset accuracy: 94.32%\n"
     ]
    },
    {
     "name": "stderr",
     "output_type": "stream",
     "text": [
      "100%|██████████| 235/235 [00:01<00:00, 176.66it/s]\n"
     ]
    },
    {
     "name": "stdout",
     "output_type": "stream",
     "text": [
      "Epoch 69/100, Loss: 0.007042123004794121, train dataset accuracy: 95.40666666666667\n",
      "test dataset accuracy: 94.51%\n"
     ]
    },
    {
     "name": "stderr",
     "output_type": "stream",
     "text": [
      "100%|██████████| 235/235 [00:01<00:00, 179.04it/s]\n"
     ]
    },
    {
     "name": "stdout",
     "output_type": "stream",
     "text": [
      "Epoch 70/100, Loss: 0.012754878029227257, train dataset accuracy: 95.50166666666667\n",
      "test dataset accuracy: 94.31%\n"
     ]
    },
    {
     "name": "stderr",
     "output_type": "stream",
     "text": [
      "100%|██████████| 235/235 [00:01<00:00, 178.56it/s]\n"
     ]
    },
    {
     "name": "stdout",
     "output_type": "stream",
     "text": [
      "Epoch 71/100, Loss: 0.007073506712913513, train dataset accuracy: 95.495\n",
      "test dataset accuracy: 94.68%\n"
     ]
    },
    {
     "name": "stderr",
     "output_type": "stream",
     "text": [
      "100%|██████████| 235/235 [00:01<00:00, 177.88it/s]\n"
     ]
    },
    {
     "name": "stdout",
     "output_type": "stream",
     "text": [
      "Epoch 72/100, Loss: 0.003705133916810155, train dataset accuracy: 95.53666666666666\n",
      "test dataset accuracy: 94.53%\n"
     ]
    },
    {
     "name": "stderr",
     "output_type": "stream",
     "text": [
      "100%|██████████| 235/235 [00:01<00:00, 176.46it/s]\n"
     ]
    },
    {
     "name": "stdout",
     "output_type": "stream",
     "text": [
      "Epoch 73/100, Loss: 0.009397323243319988, train dataset accuracy: 95.40166666666667\n",
      "test dataset accuracy: 94.29%\n"
     ]
    },
    {
     "name": "stderr",
     "output_type": "stream",
     "text": [
      "100%|██████████| 235/235 [00:01<00:00, 183.78it/s]\n"
     ]
    },
    {
     "name": "stdout",
     "output_type": "stream",
     "text": [
      "Epoch 74/100, Loss: 0.010335368104279041, train dataset accuracy: 95.66833333333334\n",
      "test dataset accuracy: 94.5%\n"
     ]
    },
    {
     "name": "stderr",
     "output_type": "stream",
     "text": [
      "100%|██████████| 235/235 [00:01<00:00, 170.32it/s]\n"
     ]
    },
    {
     "name": "stdout",
     "output_type": "stream",
     "text": [
      "Epoch 75/100, Loss: 0.015190346166491508, train dataset accuracy: 95.64166666666667\n",
      "test dataset accuracy: 94.5%\n"
     ]
    },
    {
     "name": "stderr",
     "output_type": "stream",
     "text": [
      "100%|██████████| 235/235 [00:01<00:00, 181.13it/s]\n"
     ]
    },
    {
     "name": "stdout",
     "output_type": "stream",
     "text": [
      "Epoch 76/100, Loss: 0.007830189540982246, train dataset accuracy: 95.66333333333333\n",
      "test dataset accuracy: 94.84%\n"
     ]
    },
    {
     "name": "stderr",
     "output_type": "stream",
     "text": [
      "100%|██████████| 235/235 [00:01<00:00, 175.81it/s]\n"
     ]
    },
    {
     "name": "stdout",
     "output_type": "stream",
     "text": [
      "Epoch 77/100, Loss: 0.009882484562695026, train dataset accuracy: 95.58666666666667\n",
      "test dataset accuracy: 94.53%\n"
     ]
    },
    {
     "name": "stderr",
     "output_type": "stream",
     "text": [
      "100%|██████████| 235/235 [00:01<00:00, 159.97it/s]\n"
     ]
    },
    {
     "name": "stdout",
     "output_type": "stream",
     "text": [
      "Epoch 78/100, Loss: 0.009565484710037708, train dataset accuracy: 95.435\n",
      "test dataset accuracy: 94.09%\n"
     ]
    },
    {
     "name": "stderr",
     "output_type": "stream",
     "text": [
      "100%|██████████| 235/235 [00:02<00:00, 113.29it/s]\n"
     ]
    },
    {
     "name": "stdout",
     "output_type": "stream",
     "text": [
      "Epoch 79/100, Loss: 0.00859825313091278, train dataset accuracy: 95.55333333333333\n",
      "test dataset accuracy: 94.78%\n"
     ]
    },
    {
     "name": "stderr",
     "output_type": "stream",
     "text": [
      "100%|██████████| 235/235 [00:01<00:00, 150.40it/s]\n"
     ]
    },
    {
     "name": "stdout",
     "output_type": "stream",
     "text": [
      "Epoch 80/100, Loss: 0.007689162157475948, train dataset accuracy: 94.73333333333333\n",
      "test dataset accuracy: 93.73%\n"
     ]
    },
    {
     "name": "stderr",
     "output_type": "stream",
     "text": [
      "100%|██████████| 235/235 [00:01<00:00, 170.41it/s]\n"
     ]
    },
    {
     "name": "stdout",
     "output_type": "stream",
     "text": [
      "Epoch 81/100, Loss: 0.009009498171508312, train dataset accuracy: 95.02833333333334\n",
      "test dataset accuracy: 94.0%\n"
     ]
    },
    {
     "name": "stderr",
     "output_type": "stream",
     "text": [
      "100%|██████████| 235/235 [00:01<00:00, 173.02it/s]\n"
     ]
    },
    {
     "name": "stdout",
     "output_type": "stream",
     "text": [
      "Epoch 82/100, Loss: 0.004790768027305603, train dataset accuracy: 95.285\n",
      "test dataset accuracy: 94.15%\n"
     ]
    },
    {
     "name": "stderr",
     "output_type": "stream",
     "text": [
      "100%|██████████| 235/235 [00:01<00:00, 151.79it/s]\n"
     ]
    },
    {
     "name": "stdout",
     "output_type": "stream",
     "text": [
      "Epoch 83/100, Loss: 0.006818536203354597, train dataset accuracy: 95.475\n",
      "test dataset accuracy: 94.53%\n"
     ]
    },
    {
     "name": "stderr",
     "output_type": "stream",
     "text": [
      "100%|██████████| 235/235 [00:01<00:00, 169.31it/s]\n"
     ]
    },
    {
     "name": "stdout",
     "output_type": "stream",
     "text": [
      "Epoch 84/100, Loss: 0.009091952815651894, train dataset accuracy: 95.28333333333333\n",
      "test dataset accuracy: 94.18%\n"
     ]
    },
    {
     "name": "stderr",
     "output_type": "stream",
     "text": [
      "100%|██████████| 235/235 [00:01<00:00, 185.51it/s]\n"
     ]
    },
    {
     "name": "stdout",
     "output_type": "stream",
     "text": [
      "Epoch 85/100, Loss: 0.008115592412650585, train dataset accuracy: 95.47833333333334\n",
      "test dataset accuracy: 94.06%\n"
     ]
    },
    {
     "name": "stderr",
     "output_type": "stream",
     "text": [
      "100%|██████████| 235/235 [00:01<00:00, 179.96it/s]\n"
     ]
    },
    {
     "name": "stdout",
     "output_type": "stream",
     "text": [
      "Epoch 86/100, Loss: 0.008378949947655201, train dataset accuracy: 95.33666666666667\n",
      "test dataset accuracy: 93.99%\n"
     ]
    },
    {
     "name": "stderr",
     "output_type": "stream",
     "text": [
      "100%|██████████| 235/235 [00:01<00:00, 177.59it/s]\n"
     ]
    },
    {
     "name": "stdout",
     "output_type": "stream",
     "text": [
      "Epoch 87/100, Loss: 0.007077118847519159, train dataset accuracy: 95.46833333333333\n",
      "test dataset accuracy: 94.31%\n"
     ]
    },
    {
     "name": "stderr",
     "output_type": "stream",
     "text": [
      "100%|██████████| 235/235 [00:01<00:00, 171.65it/s]\n"
     ]
    },
    {
     "name": "stdout",
     "output_type": "stream",
     "text": [
      "Epoch 88/100, Loss: 0.009285153821110725, train dataset accuracy: 95.54666666666667\n",
      "test dataset accuracy: 94.52%\n"
     ]
    },
    {
     "name": "stderr",
     "output_type": "stream",
     "text": [
      "100%|██████████| 235/235 [00:01<00:00, 166.76it/s]\n"
     ]
    },
    {
     "name": "stdout",
     "output_type": "stream",
     "text": [
      "Epoch 89/100, Loss: 0.00927782617509365, train dataset accuracy: 95.285\n",
      "test dataset accuracy: 94.21%\n"
     ]
    },
    {
     "name": "stderr",
     "output_type": "stream",
     "text": [
      "100%|██████████| 235/235 [00:01<00:00, 171.50it/s]\n"
     ]
    },
    {
     "name": "stdout",
     "output_type": "stream",
     "text": [
      "Epoch 90/100, Loss: 0.00816064141690731, train dataset accuracy: 95.69833333333334\n",
      "test dataset accuracy: 94.64%\n"
     ]
    },
    {
     "name": "stderr",
     "output_type": "stream",
     "text": [
      "100%|██████████| 235/235 [00:01<00:00, 169.40it/s]\n"
     ]
    },
    {
     "name": "stdout",
     "output_type": "stream",
     "text": [
      "Epoch 91/100, Loss: 0.010056396946310997, train dataset accuracy: 95.65833333333333\n",
      "test dataset accuracy: 94.52%\n"
     ]
    },
    {
     "name": "stderr",
     "output_type": "stream",
     "text": [
      "100%|██████████| 235/235 [00:01<00:00, 175.95it/s]\n"
     ]
    },
    {
     "name": "stdout",
     "output_type": "stream",
     "text": [
      "Epoch 92/100, Loss: 0.007488949690014124, train dataset accuracy: 95.59666666666666\n",
      "test dataset accuracy: 94.46%\n"
     ]
    },
    {
     "name": "stderr",
     "output_type": "stream",
     "text": [
      "100%|██████████| 235/235 [00:01<00:00, 173.16it/s]\n"
     ]
    },
    {
     "name": "stdout",
     "output_type": "stream",
     "text": [
      "Epoch 93/100, Loss: 0.01185099221765995, train dataset accuracy: 95.75833333333334\n",
      "test dataset accuracy: 94.99%\n"
     ]
    },
    {
     "name": "stderr",
     "output_type": "stream",
     "text": [
      "100%|██████████| 235/235 [00:01<00:00, 160.23it/s]\n"
     ]
    },
    {
     "name": "stdout",
     "output_type": "stream",
     "text": [
      "Epoch 94/100, Loss: 0.010526939295232296, train dataset accuracy: 95.81833333333333\n",
      "test dataset accuracy: 94.7%\n"
     ]
    },
    {
     "name": "stderr",
     "output_type": "stream",
     "text": [
      "100%|██████████| 235/235 [00:01<00:00, 163.19it/s]\n"
     ]
    },
    {
     "name": "stdout",
     "output_type": "stream",
     "text": [
      "Epoch 95/100, Loss: 0.005067187827080488, train dataset accuracy: 95.86333333333333\n",
      "test dataset accuracy: 94.42%\n"
     ]
    },
    {
     "name": "stderr",
     "output_type": "stream",
     "text": [
      "100%|██████████| 235/235 [00:01<00:00, 179.95it/s]\n"
     ]
    },
    {
     "name": "stdout",
     "output_type": "stream",
     "text": [
      "Epoch 96/100, Loss: 0.007526595611125231, train dataset accuracy: 94.95166666666667\n",
      "test dataset accuracy: 93.35%\n"
     ]
    },
    {
     "name": "stderr",
     "output_type": "stream",
     "text": [
      "100%|██████████| 235/235 [00:01<00:00, 180.54it/s]\n"
     ]
    },
    {
     "name": "stdout",
     "output_type": "stream",
     "text": [
      "Epoch 97/100, Loss: 0.007902433164417744, train dataset accuracy: 95.34833333333333\n",
      "test dataset accuracy: 94.84%\n"
     ]
    },
    {
     "name": "stderr",
     "output_type": "stream",
     "text": [
      "100%|██████████| 235/235 [00:01<00:00, 191.35it/s]\n"
     ]
    },
    {
     "name": "stdout",
     "output_type": "stream",
     "text": [
      "Epoch 98/100, Loss: 0.00762219401076436, train dataset accuracy: 95.50833333333334\n",
      "test dataset accuracy: 94.39%\n"
     ]
    },
    {
     "name": "stderr",
     "output_type": "stream",
     "text": [
      "100%|██████████| 235/235 [00:01<00:00, 169.21it/s]\n"
     ]
    },
    {
     "name": "stdout",
     "output_type": "stream",
     "text": [
      "Epoch 99/100, Loss: 0.005358993075788021, train dataset accuracy: 95.69833333333334\n",
      "test dataset accuracy: 94.74%\n"
     ]
    }
   ],
   "source": [
    "model = model\n",
    "lay = []\n",
    "for n, i in model.named_children():\n",
    "    print(type(i).__name__)\n",
    "    if type(i).__name__ == \"Linear\":\n",
    "        lay.append((n, i))\n",
    "\n",
    "acc = []\n",
    "\n",
    "num_epochs = 100  \n",
    "for epoch in range(num_epochs):\n",
    "    ttot = 0\n",
    "    tcorr = 0\n",
    "    for b in tqdm(trainloader):\n",
    "        xt, y = b[0], b[1]\n",
    "        optimizer.zero_grad() \n",
    "        outputs = model(xt)  \n",
    "        loss = criterion(outputs, y) \n",
    "        \n",
    "        loss.backward() \n",
    "        optimizer.step() \n",
    "    \n",
    "        _, y = torch.max(y.data, 1)\n",
    "        _, pred = torch.max(outputs.data, 1)\n",
    "        ttot += y.shape[0]\n",
    "        tcorr += (pred == y).sum().item()\n",
    "    \n",
    "    for i in range(len(lay)):\n",
    "        if i > 0 and i <= len(lay)-1:\n",
    "            di = neuronalNeuralBalance(lay[i-1][1], lay[i][1])\n",
    "\n",
    "    print(f'Epoch {epoch}/{num_epochs}, Loss: {loss.item()}, train dataset accuracy: {100*tcorr/ttot}')\n",
    "        \n",
    "    tot = 0\n",
    "    corr = 0\n",
    "\n",
    "    with torch.no_grad():\n",
    "        for i in testloader:\n",
    "            xt, y = i[0], i[1]\n",
    "            outputs = model(xt)  \n",
    "            _, y = torch.max(y.data, 1)\n",
    "            _, pred = torch.max(outputs.data, 1)\n",
    "            tot += y.shape[0]\n",
    "            corr += (pred == y).sum().item()\n",
    "    print(f'test dataset accuracy: {100*corr/tot}%')\n",
    "    acc.append(corr/tot)\n"
   ]
  },
  {
   "cell_type": "code",
   "execution_count": 51,
   "metadata": {},
   "outputs": [
    {
     "data": {
      "image/png": "[encoded data removed]",
      "text/plain": [
       "<Figure size 2500x500 with 3 Axes>"
      ]
     },
     "metadata": {},
     "output_type": "display_data"
    }
   ],
   "source": [
    "import matplotlib.pyplot as plt\n",
    "\n",
    "fc_weights = model.fc.weight.cpu().detach().numpy().flatten()\n",
    "fc2_weights = model.fc2.weight.cpu().detach().numpy().flatten()\n",
    "out_weights = model.out.weight.cpu().detach().numpy().flatten()\n",
    "\n",
    "bins = np.linspace(-0.5, 0.5, 50) \n",
    "fc_hist, fc_bins = np.histogram(fc_weights, bins=bins)\n",
    "fc2_hist, fc2_bins = np.histogram(fc2_weights, bins=bins)\n",
    "out_hist, out_bins = np.histogram(out_weights, bins=bins)\n",
    "\n",
    "fc_bin_centers = 0.5 * (fc_bins[:-1] + fc_bins[1:])\n",
    "fc2_bin_centers = 0.5 * (fc2_bins[:-1] + fc2_bins[1:])\n",
    "out_bin_centers = 0.5 * (out_bins[:-1] + out_bins[1:])\n",
    "\n",
    "plt.figure(figsize=(25, 5))\n",
    "\n",
    "plt.subplot(1, 3, 1)\n",
    "plt.plot(fc_bin_centers, fc_hist, marker='o', linestyle='-', color='b')\n",
    "plt.title('Weight Distribution: Input to Hidden1 Layer')\n",
    "plt.xlabel('Weight Value')\n",
    "plt.ylabel('Frequency')\n",
    "\n",
    "plt.subplot(1, 3, 2)\n",
    "plt.plot(fc2_bin_centers, fc2_hist, marker='o', linestyle='-', color='g')\n",
    "plt.title('Weight Distribution: hidden 1 to hidden 2 Layer')\n",
    "plt.xlabel('Weight Value')\n",
    "plt.ylabel('Frequency')\n",
    "\n",
    "plt.subplot(1, 3, 3)\n",
    "plt.plot(out_bin_centers, out_hist, marker='o', linestyle='-', color='g')\n",
    "plt.title('Weight Distribution: Hidden2 to Output Layer')\n",
    "plt.xlabel('Weight Value')\n",
    "plt.ylabel('Frequency')\n",
    "\n",
    "plt.tight_layout()\n",
    "plt.show()\n"
   ]
  },
  {
   "cell_type": "code",
   "execution_count": 52,
   "metadata": {},
   "outputs": [
    {
     "name": "stdout",
     "output_type": "stream",
     "text": [
      "Number of non-zero weights greater than 0.01 in layer 1: 7658\n",
      "Number of non-zero weights greater than 0.01 in layer 1: 7471\n",
      "Number of non-zero weights greater than 0.01 in layer 3: 631\n"
     ]
    }
   ],
   "source": [
    "import torch\n",
    "\n",
    "def count_nonzero_weights_above_threshold(layer, threshold=0.01):\n",
    "    return torch.sum(torch.abs(layer.weight) > threshold).item()\n",
    "\n",
    "threshold_value = 0.01 \n",
    "\n",
    "nonzero_fc1 = count_nonzero_weights_above_threshold(model.fc, threshold=threshold_value)\n",
    "nonzero_fc2 = count_nonzero_weights_above_threshold(model.fc2, threshold=threshold_value)\n",
    "nonzero_fc3 = count_nonzero_weights_above_threshold(model.out, threshold=threshold_value)\n",
    "\n",
    "print(f'Number of non-zero weights greater than {threshold_value} in layer 1: {nonzero_fc1}')\n",
    "print(f'Number of non-zero weights greater than {threshold_value} in layer 1: {nonzero_fc2}')\n",
    "print(f'Number of non-zero weights greater than {threshold_value} in layer 3: {nonzero_fc3}')"
   ]
  },
  {
   "cell_type": "code",
   "execution_count": 53,
   "metadata": {},
   "outputs": [
    {
     "name": "stdout",
     "output_type": "stream",
     "text": [
      "[0.9787279815742194, 0.9790892345078395, 0.9790135421112589, 0.9787805904358481, 0.9802684167645704, 0.978730753101836, 0.9785240530105305, 0.9792943912008292, 0.9787919709104256, 0.9800118816979085, 0.9794861887397593, 0.9784413716907865, 0.9785135867178532, 0.9795828071523166, 0.9782700426101707, 0.9794107243801126, 0.9793379490778912, 0.9801563934007806, 0.9790837396351911, 0.9796811855296738, 0.9798354078926701, 0.9814019723660702, 0.9797942396790228, 0.9796435841855932, 0.97906372290896, 0.978773003491411, 0.979322592685788, 0.979561752490918, 0.9795568592882787, 0.978099847326302, 0.9780629269348402, 0.9789440953154466, 0.9787872585209919, 0.9797236068897017, 0.9786732496413275, 0.9788650052036785, 0.979344709118754, 0.9791199849623963, 0.9799888256807027, 0.9786908008701711, 0.9794401143605975, 0.978955743447031, 0.9797667889989232, 0.9801284970206768, 0.9793014377572835, 0.9801426524487228, 0.9789815820686101, 0.9781111072420434, 0.9801533194448945, 0.9796724366117989, 0.9793519756817199, 0.9793975701332202, 0.9777707768515691, 0.9792420763146799, 0.981115620332322, 0.978203154402379, 0.9783519656578423, 0.9806614435595105, 0.9790476167322998, 0.9786595689886425, 0.9799611760043495, 0.9795169710859479, 0.9803107885743033, 0.9790247625324614, 0.9802543064110493, 0.9805956638439813, 0.9795232217537563, 0.9780015218595349, 0.9786191943536812, 0.9799824345169111, 0.9796788983930437, 0.9786191629290162, 0.9797417210643283, 0.9785507491927145, 0.9803490247699906, 0.9791964581120809, 0.9783035843929646, 0.97933850431148, 0.9793384274084856, 0.9778361529826299, 0.9791963581938339, 0.9794987854168277, 0.9788208546302891, 0.9794881292934475, 0.9786216558273215, 0.9783123658885757, 0.9805943451120329, 0.9780831761619208, 0.9792997207475874, 0.9798460785961937, 0.9792443592739379, 0.979420714203764, 0.979608722787662, 0.9790694164064988, 0.9796003794886409, 0.978861267064468, 0.979562096957951, 0.9786966775102799, 0.9802051153907716, 0.97877731157523, 0.9793844364543333, 0.9806661564072272, 0.9792541105535275, 0.9783675739848928, 0.9799621760481598, 0.9793941830594053, 0.9787711785437804, 0.9792800571646718, 0.9787844346773165, 0.9788826785670707, 0.9782259596043162, 0.9799960101661125, 0.9799346689302149, 0.9794867251102625, 0.9792588290018671, 0.9798351063370284, 0.9790227881981269, 0.9800999216202214, 0.9784011622245209, 0.9784269866021335, 0.9779593760291521, 0.980110128129868, 0.9788719754062085, 0.979631086108845, 0.9795647002410949, 0.9788907078391286, 0.9792953449490204, 0.9788559266746879, 0.9800064742317789, 0.9785328714354579, 0.9795229279889738, 0.9800065634060295, 0.9793991633256455, 0.9799316267164965, 0.9789289278899448, 0.9792454113290766, 0.9801552832233351, 0.9791418554532734, 0.9804315587550771, 0.9784069110331126, 0.9791521283641819, 0.978540183825898, 0.9788531360282073, 0.978689552276838, 0.9802205802635174, 0.9784290833776244, 0.9791865596547169, 0.9793046030138498, 0.9798382933541784, 0.9794362247473564, 0.9787848846948453, 0.9788416985639907, 0.9793068290764986, 0.9781012629277012, 0.9788978233303043, 0.9801980543949855, 0.9797645730752647, 0.9786654951005206, 0.9790962759839461, 0.9794770728585108, 0.9793871446530488, 0.978842686199214, 0.9793729522678074, 0.9802184116250056, 0.980051882640219, 0.9795251570087808, 0.978363513243942, 0.9791814688041812, 0.9800180112860392, 0.9800326937440529, 0.9794071336074114, 0.9792364568032308, 0.9788024219012742, 0.9796988707515534, 0.9786067625316122, 0.9786784202394825, 0.9791916510562299, 0.9791987174358676, 0.9790754744564081, 0.9802651242215203, 0.9811579219771931, 0.9786088880869062, 0.9799044583990684, 0.9793937208885454, 0.9791177891685708, 0.9790301884109656, 0.9789357441311, 0.9791623103879344, 0.9793873791689021, 0.98056813919218, 0.979433336868839, 0.9786942440314323, 0.9792830786787667, 0.9786901527210179, 0.9788461667778072, 0.9805070165874209, 0.9791075778641414, 0.9798331239394545, 0.9786551245684133, 0.9802045274462758, 0.9793781742674107, 0.9788695867631577, 0.9789170197209406, 0.9793872685768247, 0.9788445168281279, 0.9796018625260936, 0.9790484826284375, 0.9789790628381492, 0.9798236548697108, 0.9782243578236312, 0.9799534250017543, 0.9786259742885062, 0.9796189094177258, 0.9790576042576279, 0.9795424377066491, 0.9789682845290552, 0.9793633038888645, 0.9798903719725947, 0.9796381649584736, 0.9812315769833326, 0.9802488825405877, 0.9781702146353588, 0.9780223032777251, 0.980446963441588, 0.9786500851874999, 0.9778751061245116, 0.9802437540232312, 0.9782569337902001, 0.9797415057361676, 0.979029367392669, 0.978515518944125, 0.9782150504917788, 0.9789991649406694, 0.9786684083279293, 0.9797466752933826, 0.9778963151983513, 0.9782012737080226, 0.9776635694357986, 0.9794649007876397, 0.9806229529520446, 0.9784055760111949, 0.9787829111883732, 0.9800083940810103, 0.9788347705623198, 0.9798355948531688, 0.9786151096730236, 0.9786682539919072, 0.979301143959325, 0.9790991218597676, 0.9792150593118194, 0.9782753308593063, 0.9799866270730165, 0.9800339100532837, 0.9803656753495198, 0.9799647708235827, 0.9782510618648016, 0.978479053788345, 0.9780029131798667, 0.9788682847208914, 0.9779752037398506, 0.9792041706008086, 0.9791242814723199, 0.980145115523295, 0.9800896036947816, 0.9801386659914405, 0.9783719524428042, 0.9788861788198043, 0.9786329298056488, 0.9786105410992385, 0.9802335681089285, 0.9797986348083739, 0.978612206446825, 0.9785835210006469, 0.9794012974324726, 0.9792932710675567, 0.9792700424260584, 0.9796881537773374, 0.978354198452352, 0.9792573122699343, 0.9801106084848884, 0.98042394029015, 0.9789656319395642, 0.9798584205940051, 0.9782892128692053, 0.9779300726227393, 0.9786183040577191, 0.9774331389678148, 0.9803920600141557, 0.9797003968548111, 0.9792999129498018, 0.979860192426719, 0.9788906606668811, 0.9788277629069666, 0.979353681846625, 0.9788826193702709, 0.9800568852351224, 0.9795042133456222, 0.9784965929868082, 0.9783339648769583, 0.9802238472673797, 0.9804617868956382, 0.979879360519922, 0.9786195118967351, 0.9792173593166119, 0.9787335390762244, 0.980121560597323, 0.9789489735550483, 0.978786272314282, 0.9794281652761675, 0.9785282138495467, 0.9780132545666438, 0.9786949141560368, 0.98033259080622, 0.9783490646368693, 0.9788423084297463, 0.9785027392146942, 0.9788784898314409, 0.9798574632045012, 0.9783800322949843, 0.9785828168178426, 0.9793812519697636, 0.9793897709875139, 0.9790154474405617, 0.9782575999762668, 0.9809554649122716, 0.979384860470072, 0.9785722874156902, 0.9788134106798213, 0.9783849096575632, 0.9792024571735413, 0.9791469833909049, 0.9787840905621459, 0.9796685819812386, 0.9788750168775264, 0.9798846607149589, 0.9793996242304857, 0.9797281498361374, 0.9799762716777002, 0.9783762012044632, 0.9796395363073488, 0.9792196042527015, 0.9787303558033221, 0.9796265788075558, 0.9789164584149831, 0.9784372581846541, 0.9797724257412994, 0.9787923593707644, 0.9789701547552149, 0.9804436650037581, 0.9802585304308025, 0.9784738068016146, 0.9785186173881595, 0.9784223988988746, 0.9801079165865411, 0.9792031469163076, 0.980665039311055, 0.9797468578005415, 0.9784778713302308, 0.9781608022297021, 0.9792285684970745, 0.9788896621383123, 0.9788226450963963, 0.978778583985362, 0.9799720754777372, 0.978979961765355, 0.9783583755434493, 0.9789221690727719, 0.9793396133513099, 0.9803768773973998, 0.9783137014335985, 0.9788355196267714, 0.9785228237524559, 0.9793124632331596, 0.9789979312230839, 0.9788785115258285, 0.9786743750638408, 0.9785094209867506, 0.9800560485994428, 0.9806955622511035, 0.978621314596118, 0.978979178022569, 0.9791809595453146, 0.9792407563593049, 0.9796071073838724, 0.9795431199111906, 0.9780924553326098, 0.9787940436003288, 0.9805439370672591, 0.9808741135721883, 0.9790397022771989, 0.9790002871849179, 0.9804519031168084, 0.9794482602548481, 0.978904088580985, 0.9785873955044315, 0.9798293012042885, 0.9780446154674279, 0.9794623551612521, 0.979620411327169, 0.9797574499203022, 0.9784126742322485, 0.9793584769209251, 0.9780072562769478, 0.9797403918741937, 0.9789233484323608, 0.9799581263720404, 0.9780357709232872, 0.9790736404589403, 0.9796390598136915, 0.9784950989847024, 0.9797621131161772, 0.9784053115885267, 0.9800921528292387, 0.9785505165816135, 0.9801371988759761, 0.9798746213607157, 0.9787255308974137, 0.9795067983684814, 0.9800688526693497, 0.9796438790506036, 0.9791415001056322, 0.9793083592514172, 0.9790528825697896, 0.9792001771554042, 0.9804028551840811, 0.9799063330739757, 0.9785715227155315, 0.9791133306613508, 0.9786609802556844, 0.9792051167854164, 0.9773361600707917, 0.9784401207522274, 0.9784813926371974, 0.9792786194987003, 0.9787067317106733, 0.9788898544476954, 0.9778354571428016, 0.979352446132172, 0.9785274194190572, 0.9785935408980045, 0.9792414822529824, 0.9788373777619074, 0.9792040451962123, 0.9794711919323752, 0.978237530451389, 0.9788113762110527, 0.9787375195705437, 0.9788720873052498, 0.9785857679141424, 0.9790762261103385, 0.9777480586042049, 0.9792055235318494, 0.9793179862441659, 0.979592986352344, 0.9788375812218993, 0.9781417262943762, 0.978933585941381, 0.9794146307387592, 0.9789411811753408, 0.9780836969913614, 0.9786887980266353, 0.9789525391197742, 0.9786958668151396, 0.9796449209492123, 0.9782785662180593, 0.978815817334049, 0.9801186126646106, 0.9799849278845904, 0.9781089146388989, 0.9772698668544831, 0.9782372472893704, 0.9791913267824102, 0.9790174049344137, 0.978988591654896, 0.9788717023175861, 0.9794495753521023, 0.9800781297430884, 0.9791132540141015, 0.9788116416168757, 0.9787973858436139, 0.9782248091904139, 0.9782736400267611, 0.978121412793679, 0.9781478464231398, 0.9785975266557403, 0.9790647049747757, 0.9789075986623382, 0.9790441508920267, 0.9795598132855058, 0.9788985423070452, 0.9795728504768564, 0.9797219392288524, 0.9798138878242088, 0.9794440589813935, 0.9782775965346338, 0.9795115663014479, 0.9794374378806592, 0.9799351168716383, 0.9783252297779029, 0.9790190739205776, 0.9799680102400763, 0.9788772510564906, 0.9785153967208323, 0.9793955162341811, 0.9793210941957429, 0.9796655629203819, 0.9789157745500929, 0.9789312002278613, 0.978188398831856, 0.9788026533329172, 0.9783758260676907, 0.9790906304780951]\n",
      "torch.Size([512])\n",
      "[0.9839068895069528, 0.9849501013802614, 0.9846827500712593, 0.9846624878305951, 0.9844457936560752, 0.986202267274651, 0.9844157587357206, 0.9848046246174711, 0.9846556891964094, 0.9843893689957929, 0.9844431022526847, 0.9846824589478735, 0.9845412041008227, 0.984535421119765, 0.984326926798891, 0.9851207969835614, 0.9856046024885259, 0.9849816670740265, 0.984406576715073, 0.984962867367468, 0.9844992253516356, 0.984656770798537, 0.9845724786083551, 0.9841023815661292, 0.9845431037511537, 0.9858075298083033, 0.9847421503519969, 0.9835414236074408, 0.9845238663272231, 0.9844200112597978, 0.9854700146995446, 0.9852851153694786, 0.984673227681849, 0.9846243510820241, 0.9847749836028512, 0.9845559183316748, 0.9851740198716603, 0.9858101830708532, 0.9842778542481005, 0.9850524879579773, 0.9851435916028797, 0.9844506606896107, 0.9845078897891018, 0.9844825272096114, 0.9845488167651273, 0.9846188423520436, 0.9842039431432609, 0.9845414691178795, 0.9839491978865873, 0.9839594025100049, 0.9847862129096921, 0.9846919278590266, 0.9847440483109866, 0.9832597698183414, 0.9847213068965813, 0.9845451376991136, 0.9849228768042756, 0.9855410316679599, 0.9843150670394302, 0.9842677417651695, 0.9842265778855028, 0.9845833898364608, 0.9843156626163958, 0.9845812453849051, 0.9848266438730271, 0.9851980436685894, 0.9847520921445385, 0.9844632505950875, 0.9843533066964539, 0.984580410550035, 0.9845494049583673, 0.9844094377262894, 0.9845701043747705, 0.9869489768144303, 0.9845537831609815, 0.9869948318390114, 0.9845591627184171, 0.9833624644236559, 0.9844337505671474, 0.9844303417174454, 0.9846027541508622, 0.984851836195368, 0.9845855674840435, 0.9844279486493943, 0.9846463480701205, 0.9845394760697673, 0.9844385494307152, 0.984680923307472, 0.9848800009380096, 0.9845945167943047, 0.9846377631662515, 0.9846773840799156, 0.9846090240158333, 0.9845746701193756, 0.984228401629821, 0.9845524489999905, 0.9848685937420975, 0.9847987568172504, 0.9845748190159065, 0.9840146943774803, 0.984396424905844, 0.9847328379067872, 0.9855990606853878, 0.9844737139962194, 0.9840655350054326, 0.9840472597109806, 0.9848850543346388, 0.9844860472145595, 0.9845364229406912, 0.9843400070327613, 0.9844227237788206, 0.9845865741991864, 0.9845992045247203, 0.9837784252041395, 0.9876878701023821, 0.9844525201347655, 0.98439195629201, 0.9847913860071296, 0.9848019824886936, 0.9853912636916844, 0.9846370290225289, 0.984564839210979, 0.9844325839398211, 0.984401162557365, 0.98462891145154, 0.9844648701899488, 0.9856587831969067, 0.9848156357248921, 0.9845402499511933, 0.9847873260655577, 0.984354841926313, 0.9846945084816923, 0.9849773815469882, 0.984698524305605, 0.9846208127353842, 0.9862386672582395, 0.9857712477966524, 0.9846844585227456, 0.9857396151751727, 0.9838491517862253, 0.9842842091790392, 0.9857846615247615, 0.9846658623165853, 0.9849867205645975, 0.9846084102605788, 0.9849865215170537, 0.9847961484067375, 0.9847161716439663, 0.9843147413937678, 0.9845442504729461, 0.9846888824469231, 0.9846543114047434, 0.9850071858270979, 0.9844940750854821, 0.9861295604352057, 0.9844592434231131, 0.9844906165620607, 0.9848390818179854, 0.9845853326571299, 0.9847020233184236, 0.9848568441379988, 0.9845105495432976, 0.9846943875101617, 0.9846205360952895, 0.9849570207172544, 0.9844330874706034, 0.9842432420100633, 0.9843620443862692, 0.9844925387719263, 0.9845697890620577, 0.9842939816425827, 0.9846959031709984, 0.9844414609714065, 0.9849000177760444, 0.9847496000850412, 0.984442097098538, 0.9840894736138045, 0.9845228333171824, 0.9847235085575199, 0.9845481381366477, 0.9842456587395418, 0.9843658188524176, 0.9845352775634132, 0.9844796188878036, 0.98308782212332, 0.9846321974042587, 0.9844734582688548, 0.9844002975574275, 0.9846091869648448, 0.984695317388011, 0.985223739601046, 0.9849746598021104, 0.9863689327724401, 0.9845573962117536, 0.9874089265541277, 0.9849267246778678, 0.984993287287482, 0.9844473687080543, 0.9847007108806735, 0.9854588069173639, 0.98452607205865, 0.9849730515399419, 0.9849194949353518, 0.9845413667835949, 0.9848414164642473, 0.9845444169446618, 0.9843474278729643, 0.9845702448628738, 0.9844452789497119, 0.9852360149853667, 0.9848122026149819, 0.984464790414737, 0.9845392541447162, 0.9843359088933512, 0.984430054404583, 0.9845821305377775, 0.9846638184467813, 0.9843700991833477, 0.9844630028396176, 0.9849423573977586, 0.9848927813389349, 0.9845851957991354, 0.9842051460731012, 0.9842895045596781, 0.9845684274467994, 0.9855149767427257, 0.9846314556721465, 0.9846027251945432, 0.9853837443339832, 0.9850095305633503, 0.9850794938653054, 0.9846467207407208, 0.9844653998337112, 0.984905789173531, 0.9848599888403825, 0.9844552302628818, 0.9855322967843969, 0.9846544487004145, 0.9842418373602005, 0.9846796216422566, 0.9842679653832584, 0.9851729606213733, 0.9847198494112033, 0.9853175021032343, 0.9847540412129738, 0.9847600242769925, 0.9844512726064762, 0.9848498722976209, 0.9843230587213803, 0.9856634113047874, 0.9851490348236382, 0.9845036350043381, 0.9845629985268849, 0.9844510928108907, 0.9845177013200342, 0.9840329972737503]\n",
      "torch.Size([256])\n",
      "[0.9910981033255059, 0.9921977036917139, 0.9919725740659943, 0.9922945612958106, 0.9924226224057383, 0.9922777741732122, 0.9888750200002417, 0.9923254110638243, 0.992287557942967, 0.9921439402462255, 0.9922568608710276, 0.9910923414262214, 0.9923010654113182, 0.9923672414116789, 0.992347454842919, 0.992150473955202, 0.992331969754179, 0.9869441425634924, 0.9919128889498708, 0.9923042068737127, 0.9919908214577042, 0.9921164338857287, 0.9922906387737831, 0.9910244850689789, 0.9917151103840531, 0.9923325651614616, 0.9922437149841669, 0.9917933621050246, 0.9923761711281228, 0.9922860527192959, 0.9922686329047089, 0.9923825045983636, 0.9920347083109086, 0.9910514670872131, 0.991209397904643, 0.9919755809808483, 0.989953323087465, 0.9923240393456569, 0.9923720585239733, 0.9922024127344546, 0.9924593489933877, 0.9921675026245553, 0.9918661866310833, 0.9918606378813197, 0.9916046169613101, 0.9922366295574502, 0.992304539989217, 0.9924016212051041, 0.9920156814529467, 0.9922996783827056, 0.9885028417717009, 0.9917155978441816, 0.9923756418305354, 0.9924205901963878, 0.9923263396882868, 0.9923186265719339, 0.9922888462021775, 0.9922736722037867, 0.9920836082128033, 0.9921355858540021, 0.9923801794646233, 0.9919898807260897, 0.9923295117330284, 0.992393643938758, 0.9921449294512502, 0.9922458451616316, 0.9921536586284958, 0.9908016989113018, 0.9922070009322258, 0.9923331261995869, 0.9915928560171748, 0.9921530591572245, 0.9919502789666998, 0.9921561715311351, 0.992350719761188, 0.9924177043467756, 0.9921648707450351, 0.9919052560667445, 0.9922571599982912, 0.9921487972277311, 0.9916862198708092, 0.9920326632243744, 0.9917540891494183, 0.9922602231042694, 0.9922462107041871, 0.9922277221790703, 0.9915187617860003, 0.9921186030142327, 0.9919608907707682, 0.9924129009944248, 0.9923555669619926, 0.9919588685406705, 0.9920501572943079, 0.9922720072976987, 0.9923464027837631, 0.9923588688577212, 0.9919477913365893, 0.9914596912366308, 0.9920731970696899, 0.9921944162895434, 0.9921247565457885, 0.9923720398712218, 0.9923908587751992, 0.9915281779246904, 0.9922031095912213, 0.9923810770432214, 0.9919233732267441, 0.9922036063120512, 0.992419421655872, 0.9922549571359632, 0.9919910549086836, 0.9922119259644817, 0.9918978067972668, 0.9922903143076107, 0.9921186830512625, 0.9903280678060404, 0.9924751132923687, 0.9916773831490405, 0.9924990349992329, 0.9923646496986555, 0.9916971525643942, 0.9922307577436106, 0.9922167638851281, 0.9922016727446422, 0.9922139155802717, 0.9921496874237425, 0.9923677805345397, 0.991054153169066]\n",
      "torch.Size([128])\n",
      "[0.9999999635705967, 1.0000000465640342, 1.0, 1.0, 1.0000000416154096, 1.0000000602704728, 1.0, 1.0, 1.0000000413368153, 1.0, 1.000000061054875, 1.0000000937128384, 1.0, 0.9999999641813201, 1.000000030994775, 1.0000000825809485, 1.0, 0.9999999108984355, 0.9999999512108718, 1.0, 0.9999999553876256, 1.0000000818762866, 0.9999998899040249, 1.0000000622786094, 0.9999999337239797, 0.9999999519854116, 0.9999999188281216, 1.0000000767271955, 0.9999998835363422, 1.0, 1.0, 0.9999998890100221, 1.000000059075537, 1.0, 0.9999999295639407, 1.0, 1.0000000712431028, 1.0, 0.9999999431058174, 0.9999999584506021, 0.9999998905429373, 1.0000000644429365, 0.999999944681244, 1.0, 0.9999999410174241, 1.0000000749204168, 0.9999999625934631, 1.000000114090437, 0.9999999648445151, 1.0000000411621415, 1.0000001214187095, 1.0000000840159453, 1.0000000364841262, 1.0000000398955748, 1.0000000988541307, 0.9999999245058047, 1.0, 1.0000000556147777, 0.9999999689450595, 1.0, 1.0, 0.9999999038369951, 1.0, 0.9999999590462318]\n",
      "torch.Size([64])\n"
     ]
    }
   ],
   "source": [
    "for i in range(len(lay)):\n",
    "    if i > 0 and i <= len(lay)-1:\n",
    "        norms = []\n",
    "        for j in range(lay[i-1][1].weight.shape[0]):\n",
    "            norms.append(np.sqrt(torch.sum(torch.square(lay[i][1].weight.data[:,j])).item())/np.sqrt(torch.sum(torch.square(lay[i-1][1].weight.data[j])).item()))\n",
    "        print(norms)\n",
    "        norms = torch.tensor(norms)\n",
    "        print(norms.shape)"
   ]
  },
  {
   "cell_type": "code",
   "execution_count": 54,
   "metadata": {},
   "outputs": [
    {
     "data": {
      "image/png": "[encoded data removed]",
      "text/plain": [
       "<Figure size 1600x1000 with 1 Axes>"
      ]
     },
     "metadata": {},
     "output_type": "display_data"
    }
   ],
   "source": [
    "epochs_plot = list(range(100))\n",
    "\n",
    "plt.figure(figsize=(16, 10))\n",
    "plt.plot(epochs_plot, acc, linestyle='-', color='b', label='acc')\n",
    "\n",
    "plt.xlabel('Epochs', fontsize=14)\n",
    "plt.ylabel('Accuracy', fontsize=14)\n",
    "plt.title('Model Accuracy Over Epochs', fontsize=14)\n",
    "\n",
    "plt.xticks(fontsize=14)\n",
    "plt.yticks(fontsize=14)\n",
    "\n",
    "plt.grid(True)\n",
    "\n",
    "plt.legend(fontsize=14)\n",
    "\n",
    "plt.show()"
   ]
  },
  {
   "cell_type": "code",
   "execution_count": 55,
   "metadata": {},
   "outputs": [],
   "source": [
    "import pickle\n",
    "with open('nbOnlineEveryEpochAcc4.pkl', 'wb') as f:\n",
    "    pickle.dump(acc, f)\n",
    "\n",
    "torch.save(model.state_dict(), 'neuralBalanceModel4.pt')"
   ]
  }
 ],
 "metadata": {
  "kernelspec": {
   "display_name": "Python 3",
   "language": "python",
   "name": "python3"
  },
  "language_info": {
   "codemirror_mode": {
    "name": "ipython",
    "version": 3
   },
   "file_extension": ".py",
   "mimetype": "text/x-python",
   "name": "python",
   "nbconvert_exporter": "python",
   "pygments_lexer": "ipython3",
   "version": "3.11.2"
  }
 },
 "nbformat": 4,
 "nbformat_minor": 2
}
