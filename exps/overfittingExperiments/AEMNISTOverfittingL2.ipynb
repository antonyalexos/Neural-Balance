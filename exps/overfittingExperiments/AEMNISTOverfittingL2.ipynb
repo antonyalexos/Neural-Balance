{
 "cells": [
  {
   "cell_type": "code",
   "execution_count": 100,
   "metadata": {},
   "outputs": [],
   "source": [
    "import torch\n",
    "import torch.nn as nn\n",
    "import torch.optim as optim\n",
    "import numpy as np\n",
    "from torchvision.datasets import MNIST\n",
    "from torch.utils.data import DataLoader\n",
    "from torchvision import transforms\n",
    "import torch.nn.functional as F\n",
    "import os\n",
    "from tqdm import tqdm\n",
    "\n",
    "class SingleLayerNN(nn.Module):\n",
    "    def __init__(self):\n",
    "        super(SingleLayerNN, self).__init__()\n",
    "        self.fc = nn.Linear(784, 512) \n",
    "        self.fc0 = nn.Linear(512, 256)\n",
    "        self.fc1 = nn.Linear(256, 128)\n",
    "        self.fc2 = nn.Linear(128, 64)\n",
    "        self.out = nn.Linear(64, 10)\n",
    "\n",
    "    def forward(self, x):\n",
    "        x = torch.relu(self.fc(x)) \n",
    "        x = torch.relu(self.fc0(x))\n",
    "        x = torch.relu(self.fc1(x))\n",
    "        x = torch.relu(self.fc2(x))\n",
    "        x = self.out(x)  \n",
    "        return x\n",
    "\n",
    "model = SingleLayerNN()\n",
    "\n",
    "\n",
    "criterion = nn.MSELoss() \n",
    "optimizer = optim.Adam(model.parameters(), lr=0.01)  \n"
   ]
  },
  {
   "cell_type": "code",
   "execution_count": 101,
   "metadata": {},
   "outputs": [],
   "source": [
    "#torch.manual_seed(7)"
   ]
  },
  {
   "cell_type": "code",
   "execution_count": 102,
   "metadata": {},
   "outputs": [
    {
     "name": "stderr",
     "output_type": "stream",
     "text": [
      "/var/folders/d1/pxwd2rcj41j7b2lhnz909xn80000gn/T/ipykernel_62951/112231088.py:4: UserWarning: To copy construct from a tensor, it is recommended to use sourceTensor.clone().detach() or sourceTensor.clone().detach().requires_grad_(True), rather than torch.tensor(sourceTensor).\n",
      "  x_train = torch.tensor(x_train, dtype=torch.float32)\n",
      "/var/folders/d1/pxwd2rcj41j7b2lhnz909xn80000gn/T/ipykernel_62951/112231088.py:5: UserWarning: To copy construct from a tensor, it is recommended to use sourceTensor.clone().detach() or sourceTensor.clone().detach().requires_grad_(True), rather than torch.tensor(sourceTensor).\n",
      "  y_train = torch.tensor(y_train, dtype=torch.float32)\n"
     ]
    }
   ],
   "source": [
    "train_dataset = MNIST(os.getcwd(), train=True, download=True, transform=[transforms.ToTensor(), transforms.Normalize((0.5,), (0.5,))])\n",
    "x_train = train_dataset.data / 255.0\n",
    "y_train = F.one_hot(train_dataset.targets, num_classes=10)\n",
    "x_train = torch.tensor(x_train, dtype=torch.float32)\n",
    "y_train = torch.tensor(y_train, dtype=torch.float32)\n",
    "x_train = x_train.view(-1, 784)\n",
    "dtrain = torch.utils.data.TensorDataset(x_train, y_train)\n",
    "trainloader = DataLoader(dtrain, batch_size=256, shuffle=True)"
   ]
  },
  {
   "cell_type": "code",
   "execution_count": 103,
   "metadata": {},
   "outputs": [
    {
     "name": "stderr",
     "output_type": "stream",
     "text": [
      "/var/folders/d1/pxwd2rcj41j7b2lhnz909xn80000gn/T/ipykernel_62951/3473755828.py:4: UserWarning: To copy construct from a tensor, it is recommended to use sourceTensor.clone().detach() or sourceTensor.clone().detach().requires_grad_(True), rather than torch.tensor(sourceTensor).\n",
      "  x_test = torch.tensor(x_test, dtype=torch.float32)\n",
      "/var/folders/d1/pxwd2rcj41j7b2lhnz909xn80000gn/T/ipykernel_62951/3473755828.py:5: UserWarning: To copy construct from a tensor, it is recommended to use sourceTensor.clone().detach() or sourceTensor.clone().detach().requires_grad_(True), rather than torch.tensor(sourceTensor).\n",
      "  y_test = torch.tensor(y_test, dtype=torch.float32)\n"
     ]
    }
   ],
   "source": [
    "testDataset = MNIST(os.getcwd(), train=False, download=True, transform=[transforms.ToTensor(), transforms.Normalize((0.5,), (0.5,))])\n",
    "x_test = testDataset.data / 255.0\n",
    "y_test = F.one_hot(testDataset.targets, num_classes=10)\n",
    "x_test = torch.tensor(x_test, dtype=torch.float32)\n",
    "y_test = torch.tensor(y_test, dtype=torch.float32)\n",
    "x_test = x_test.view(-1, 784)\n",
    "dtest = torch.utils.data.TensorDataset(x_test, y_test)\n",
    "testloader = DataLoader(dtest, batch_size=256, shuffle=True)"
   ]
  },
  {
   "cell_type": "code",
   "execution_count": 104,
   "metadata": {},
   "outputs": [],
   "source": [
    "def neuronalNeuralBalance(inl, oul):\n",
    "\n",
    "    ninc = torch.zeros_like(inl.weight)\n",
    "    noul = torch.zeros_like(oul.weight)\n",
    "\n",
    "    for i in range(inl.weight.data.shape[0]):\n",
    "        inc = np.sqrt(torch.sum(torch.square(inl.weight.data[i])).item())\n",
    "        outg = np.sqrt(torch.sum(torch.square(oul.weight.data[:,i])).item())\n",
    "\n",
    "        # outg = outg / float(len(oul.weight.data[:,i]))\n",
    "        # inc = inc / float(len(inl.weight.data[i]))\n",
    "\n",
    "        opt = np.sqrt(outg/inc)\n",
    "\n",
    "        ninc[i] = inl.weight.data[i]*opt\n",
    "        noul[:, i] = oul.weight.data[:,i]/opt\n",
    "\n",
    "    inl.weight.data = ninc\n",
    "    oul.weight.data = noul\n"
   ]
  },
  {
   "cell_type": "code",
   "execution_count": 105,
   "metadata": {},
   "outputs": [
    {
     "name": "stdout",
     "output_type": "stream",
     "text": [
      "Linear\n",
      "Linear\n",
      "Linear\n",
      "Linear\n",
      "Linear\n"
     ]
    },
    {
     "name": "stderr",
     "output_type": "stream",
     "text": [
      "100%|██████████| 235/235 [00:01<00:00, 131.32it/s]\n"
     ]
    },
    {
     "name": "stdout",
     "output_type": "stream",
     "text": [
      "Epoch 0/100, Loss: 0.012234299443662167, train dataset accuracy: 78.47666666666667\n",
      "test dataset accuracy: 94.25%\n"
     ]
    },
    {
     "name": "stderr",
     "output_type": "stream",
     "text": [
      "100%|██████████| 235/235 [00:01<00:00, 128.20it/s]\n"
     ]
    },
    {
     "name": "stdout",
     "output_type": "stream",
     "text": [
      "Epoch 1/100, Loss: 0.010575342923402786, train dataset accuracy: 95.31\n",
      "test dataset accuracy: 95.42%\n"
     ]
    },
    {
     "name": "stderr",
     "output_type": "stream",
     "text": [
      "100%|██████████| 235/235 [00:01<00:00, 135.58it/s]\n"
     ]
    },
    {
     "name": "stdout",
     "output_type": "stream",
     "text": [
      "Epoch 2/100, Loss: 0.010051806457340717, train dataset accuracy: 95.845\n",
      "test dataset accuracy: 96.08%\n"
     ]
    },
    {
     "name": "stderr",
     "output_type": "stream",
     "text": [
      "100%|██████████| 235/235 [00:01<00:00, 134.28it/s]\n"
     ]
    },
    {
     "name": "stdout",
     "output_type": "stream",
     "text": [
      "Epoch 3/100, Loss: 0.01096200942993164, train dataset accuracy: 96.02666666666667\n",
      "test dataset accuracy: 95.45%\n"
     ]
    },
    {
     "name": "stderr",
     "output_type": "stream",
     "text": [
      "100%|██████████| 235/235 [00:01<00:00, 131.41it/s]\n"
     ]
    },
    {
     "name": "stdout",
     "output_type": "stream",
     "text": [
      "Epoch 4/100, Loss: 0.012699427083134651, train dataset accuracy: 96.12\n",
      "test dataset accuracy: 95.76%\n"
     ]
    },
    {
     "name": "stderr",
     "output_type": "stream",
     "text": [
      "100%|██████████| 235/235 [00:01<00:00, 126.82it/s]\n"
     ]
    },
    {
     "name": "stdout",
     "output_type": "stream",
     "text": [
      "Epoch 5/100, Loss: 0.01132010668516159, train dataset accuracy: 96.19833333333334\n",
      "test dataset accuracy: 96.15%\n"
     ]
    },
    {
     "name": "stderr",
     "output_type": "stream",
     "text": [
      "100%|██████████| 235/235 [00:01<00:00, 140.82it/s]\n"
     ]
    },
    {
     "name": "stdout",
     "output_type": "stream",
     "text": [
      "Epoch 6/100, Loss: 0.007732518948614597, train dataset accuracy: 96.25333333333333\n",
      "test dataset accuracy: 95.64%\n"
     ]
    },
    {
     "name": "stderr",
     "output_type": "stream",
     "text": [
      "100%|██████████| 235/235 [00:01<00:00, 133.42it/s]\n"
     ]
    },
    {
     "name": "stdout",
     "output_type": "stream",
     "text": [
      "Epoch 7/100, Loss: 0.011147378012537956, train dataset accuracy: 96.15666666666667\n",
      "test dataset accuracy: 96.34%\n"
     ]
    },
    {
     "name": "stderr",
     "output_type": "stream",
     "text": [
      "100%|██████████| 235/235 [00:01<00:00, 125.69it/s]\n"
     ]
    },
    {
     "name": "stdout",
     "output_type": "stream",
     "text": [
      "Epoch 8/100, Loss: 0.012546001002192497, train dataset accuracy: 96.51666666666667\n",
      "test dataset accuracy: 95.99%\n"
     ]
    },
    {
     "name": "stderr",
     "output_type": "stream",
     "text": [
      "100%|██████████| 235/235 [00:01<00:00, 129.91it/s]\n"
     ]
    },
    {
     "name": "stdout",
     "output_type": "stream",
     "text": [
      "Epoch 9/100, Loss: 0.010480537079274654, train dataset accuracy: 96.375\n",
      "test dataset accuracy: 96.03%\n"
     ]
    },
    {
     "name": "stderr",
     "output_type": "stream",
     "text": [
      "100%|██████████| 235/235 [00:01<00:00, 135.02it/s]\n"
     ]
    },
    {
     "name": "stdout",
     "output_type": "stream",
     "text": [
      "Epoch 10/100, Loss: 0.008196024224162102, train dataset accuracy: 96.385\n",
      "test dataset accuracy: 95.94%\n"
     ]
    },
    {
     "name": "stderr",
     "output_type": "stream",
     "text": [
      "100%|██████████| 235/235 [00:01<00:00, 133.20it/s]\n"
     ]
    },
    {
     "name": "stdout",
     "output_type": "stream",
     "text": [
      "Epoch 11/100, Loss: 0.015420561656355858, train dataset accuracy: 96.49666666666667\n",
      "test dataset accuracy: 95.75%\n"
     ]
    },
    {
     "name": "stderr",
     "output_type": "stream",
     "text": [
      "100%|██████████| 235/235 [00:01<00:00, 133.27it/s]\n"
     ]
    },
    {
     "name": "stdout",
     "output_type": "stream",
     "text": [
      "Epoch 12/100, Loss: 0.009219866245985031, train dataset accuracy: 96.42833333333333\n",
      "test dataset accuracy: 95.89%\n"
     ]
    },
    {
     "name": "stderr",
     "output_type": "stream",
     "text": [
      "100%|██████████| 235/235 [00:01<00:00, 126.58it/s]\n"
     ]
    },
    {
     "name": "stdout",
     "output_type": "stream",
     "text": [
      "Epoch 13/100, Loss: 0.009186433628201485, train dataset accuracy: 96.52666666666667\n",
      "test dataset accuracy: 96.07%\n"
     ]
    },
    {
     "name": "stderr",
     "output_type": "stream",
     "text": [
      "100%|██████████| 235/235 [00:01<00:00, 135.28it/s]\n"
     ]
    },
    {
     "name": "stdout",
     "output_type": "stream",
     "text": [
      "Epoch 14/100, Loss: 0.00939173810184002, train dataset accuracy: 96.455\n",
      "test dataset accuracy: 95.6%\n"
     ]
    },
    {
     "name": "stderr",
     "output_type": "stream",
     "text": [
      "100%|██████████| 235/235 [00:01<00:00, 134.00it/s]\n"
     ]
    },
    {
     "name": "stdout",
     "output_type": "stream",
     "text": [
      "Epoch 15/100, Loss: 0.010377395898103714, train dataset accuracy: 96.40666666666667\n",
      "test dataset accuracy: 96.37%\n"
     ]
    },
    {
     "name": "stderr",
     "output_type": "stream",
     "text": [
      "100%|██████████| 235/235 [00:01<00:00, 129.14it/s]\n"
     ]
    },
    {
     "name": "stdout",
     "output_type": "stream",
     "text": [
      "Epoch 16/100, Loss: 0.01085556112229824, train dataset accuracy: 96.43166666666667\n",
      "test dataset accuracy: 96.19%\n"
     ]
    },
    {
     "name": "stderr",
     "output_type": "stream",
     "text": [
      "100%|██████████| 235/235 [00:01<00:00, 129.98it/s]\n"
     ]
    },
    {
     "name": "stdout",
     "output_type": "stream",
     "text": [
      "Epoch 17/100, Loss: 0.010149783454835415, train dataset accuracy: 96.50166666666667\n",
      "test dataset accuracy: 96.15%\n"
     ]
    },
    {
     "name": "stderr",
     "output_type": "stream",
     "text": [
      "100%|██████████| 235/235 [00:01<00:00, 133.81it/s]\n"
     ]
    },
    {
     "name": "stdout",
     "output_type": "stream",
     "text": [
      "Epoch 18/100, Loss: 0.00908429455012083, train dataset accuracy: 96.58666666666667\n",
      "test dataset accuracy: 95.92%\n"
     ]
    },
    {
     "name": "stderr",
     "output_type": "stream",
     "text": [
      "100%|██████████| 235/235 [00:01<00:00, 135.04it/s]\n"
     ]
    },
    {
     "name": "stdout",
     "output_type": "stream",
     "text": [
      "Epoch 19/100, Loss: 0.008273962885141373, train dataset accuracy: 96.50833333333334\n",
      "test dataset accuracy: 95.76%\n"
     ]
    },
    {
     "name": "stderr",
     "output_type": "stream",
     "text": [
      "100%|██████████| 235/235 [00:01<00:00, 134.64it/s]\n"
     ]
    },
    {
     "name": "stdout",
     "output_type": "stream",
     "text": [
      "Epoch 20/100, Loss: 0.007878664880990982, train dataset accuracy: 96.59833333333333\n",
      "test dataset accuracy: 96.37%\n"
     ]
    },
    {
     "name": "stderr",
     "output_type": "stream",
     "text": [
      "100%|██████████| 235/235 [00:01<00:00, 130.93it/s]\n"
     ]
    },
    {
     "name": "stdout",
     "output_type": "stream",
     "text": [
      "Epoch 21/100, Loss: 0.013950098305940628, train dataset accuracy: 96.515\n",
      "test dataset accuracy: 96.23%\n"
     ]
    },
    {
     "name": "stderr",
     "output_type": "stream",
     "text": [
      "100%|██████████| 235/235 [00:01<00:00, 134.99it/s]\n"
     ]
    },
    {
     "name": "stdout",
     "output_type": "stream",
     "text": [
      "Epoch 22/100, Loss: 0.006644358858466148, train dataset accuracy: 96.52666666666667\n",
      "test dataset accuracy: 95.88%\n"
     ]
    },
    {
     "name": "stderr",
     "output_type": "stream",
     "text": [
      "100%|██████████| 235/235 [00:01<00:00, 132.63it/s]\n"
     ]
    },
    {
     "name": "stdout",
     "output_type": "stream",
     "text": [
      "Epoch 23/100, Loss: 0.008687407709658146, train dataset accuracy: 96.52333333333333\n",
      "test dataset accuracy: 95.83%\n"
     ]
    },
    {
     "name": "stderr",
     "output_type": "stream",
     "text": [
      "100%|██████████| 235/235 [00:01<00:00, 135.00it/s]\n"
     ]
    },
    {
     "name": "stdout",
     "output_type": "stream",
     "text": [
      "Epoch 24/100, Loss: 0.016467520967125893, train dataset accuracy: 96.69166666666666\n",
      "test dataset accuracy: 96.11%\n"
     ]
    },
    {
     "name": "stderr",
     "output_type": "stream",
     "text": [
      "100%|██████████| 235/235 [00:01<00:00, 130.87it/s]\n"
     ]
    },
    {
     "name": "stdout",
     "output_type": "stream",
     "text": [
      "Epoch 25/100, Loss: 0.010216648690402508, train dataset accuracy: 96.54833333333333\n",
      "test dataset accuracy: 96.72%\n"
     ]
    },
    {
     "name": "stderr",
     "output_type": "stream",
     "text": [
      "100%|██████████| 235/235 [00:01<00:00, 128.65it/s]\n"
     ]
    },
    {
     "name": "stdout",
     "output_type": "stream",
     "text": [
      "Epoch 26/100, Loss: 0.010824205353856087, train dataset accuracy: 96.70333333333333\n",
      "test dataset accuracy: 94.99%\n"
     ]
    },
    {
     "name": "stderr",
     "output_type": "stream",
     "text": [
      "100%|██████████| 235/235 [00:01<00:00, 140.28it/s]\n"
     ]
    },
    {
     "name": "stdout",
     "output_type": "stream",
     "text": [
      "Epoch 27/100, Loss: 0.014044029638171196, train dataset accuracy: 96.61833333333334\n",
      "test dataset accuracy: 95.69%\n"
     ]
    },
    {
     "name": "stderr",
     "output_type": "stream",
     "text": [
      "100%|██████████| 235/235 [00:01<00:00, 134.72it/s]\n"
     ]
    },
    {
     "name": "stdout",
     "output_type": "stream",
     "text": [
      "Epoch 28/100, Loss: 0.00901651568710804, train dataset accuracy: 96.72666666666667\n",
      "test dataset accuracy: 96.13%\n"
     ]
    },
    {
     "name": "stderr",
     "output_type": "stream",
     "text": [
      "100%|██████████| 235/235 [00:01<00:00, 126.99it/s]\n"
     ]
    },
    {
     "name": "stdout",
     "output_type": "stream",
     "text": [
      "Epoch 29/100, Loss: 0.011629417538642883, train dataset accuracy: 96.65\n",
      "test dataset accuracy: 95.9%\n"
     ]
    },
    {
     "name": "stderr",
     "output_type": "stream",
     "text": [
      "100%|██████████| 235/235 [00:01<00:00, 133.45it/s]\n"
     ]
    },
    {
     "name": "stdout",
     "output_type": "stream",
     "text": [
      "Epoch 30/100, Loss: 0.012201476842164993, train dataset accuracy: 96.55666666666667\n",
      "test dataset accuracy: 96.24%\n"
     ]
    },
    {
     "name": "stderr",
     "output_type": "stream",
     "text": [
      "100%|██████████| 235/235 [00:01<00:00, 135.00it/s]\n"
     ]
    },
    {
     "name": "stdout",
     "output_type": "stream",
     "text": [
      "Epoch 31/100, Loss: 0.006565674673765898, train dataset accuracy: 96.67166666666667\n",
      "test dataset accuracy: 96.48%\n"
     ]
    },
    {
     "name": "stderr",
     "output_type": "stream",
     "text": [
      "100%|██████████| 235/235 [00:01<00:00, 134.62it/s]\n"
     ]
    },
    {
     "name": "stdout",
     "output_type": "stream",
     "text": [
      "Epoch 32/100, Loss: 0.011261360719799995, train dataset accuracy: 96.7\n",
      "test dataset accuracy: 96.33%\n"
     ]
    },
    {
     "name": "stderr",
     "output_type": "stream",
     "text": [
      "100%|██████████| 235/235 [00:01<00:00, 128.91it/s]\n"
     ]
    },
    {
     "name": "stdout",
     "output_type": "stream",
     "text": [
      "Epoch 33/100, Loss: 0.013973874971270561, train dataset accuracy: 96.725\n",
      "test dataset accuracy: 95.87%\n"
     ]
    },
    {
     "name": "stderr",
     "output_type": "stream",
     "text": [
      "100%|██████████| 235/235 [00:01<00:00, 134.18it/s]\n"
     ]
    },
    {
     "name": "stdout",
     "output_type": "stream",
     "text": [
      "Epoch 34/100, Loss: 0.01586776226758957, train dataset accuracy: 96.515\n",
      "test dataset accuracy: 96.12%\n"
     ]
    },
    {
     "name": "stderr",
     "output_type": "stream",
     "text": [
      "100%|██████████| 235/235 [00:01<00:00, 133.04it/s]\n"
     ]
    },
    {
     "name": "stdout",
     "output_type": "stream",
     "text": [
      "Epoch 35/100, Loss: 0.017628610134124756, train dataset accuracy: 96.595\n",
      "test dataset accuracy: 96.1%\n"
     ]
    },
    {
     "name": "stderr",
     "output_type": "stream",
     "text": [
      "100%|██████████| 235/235 [00:01<00:00, 126.30it/s]\n"
     ]
    },
    {
     "name": "stdout",
     "output_type": "stream",
     "text": [
      "Epoch 36/100, Loss: 0.01109318993985653, train dataset accuracy: 96.7\n",
      "test dataset accuracy: 96.31%\n"
     ]
    },
    {
     "name": "stderr",
     "output_type": "stream",
     "text": [
      "100%|██████████| 235/235 [00:01<00:00, 125.81it/s]\n"
     ]
    },
    {
     "name": "stdout",
     "output_type": "stream",
     "text": [
      "Epoch 37/100, Loss: 0.011545347049832344, train dataset accuracy: 96.52166666666666\n",
      "test dataset accuracy: 96.4%\n"
     ]
    },
    {
     "name": "stderr",
     "output_type": "stream",
     "text": [
      "100%|██████████| 235/235 [00:01<00:00, 135.51it/s]\n"
     ]
    },
    {
     "name": "stdout",
     "output_type": "stream",
     "text": [
      "Epoch 38/100, Loss: 0.011050309985876083, train dataset accuracy: 96.57\n",
      "test dataset accuracy: 96.44%\n"
     ]
    },
    {
     "name": "stderr",
     "output_type": "stream",
     "text": [
      "100%|██████████| 235/235 [00:01<00:00, 133.56it/s]\n"
     ]
    },
    {
     "name": "stdout",
     "output_type": "stream",
     "text": [
      "Epoch 39/100, Loss: 0.0143387820571661, train dataset accuracy: 96.82166666666667\n",
      "test dataset accuracy: 96.65%\n"
     ]
    },
    {
     "name": "stderr",
     "output_type": "stream",
     "text": [
      "100%|██████████| 235/235 [00:01<00:00, 132.70it/s]\n"
     ]
    },
    {
     "name": "stdout",
     "output_type": "stream",
     "text": [
      "Epoch 40/100, Loss: 0.009780590422451496, train dataset accuracy: 96.67833333333333\n",
      "test dataset accuracy: 96.55%\n"
     ]
    },
    {
     "name": "stderr",
     "output_type": "stream",
     "text": [
      "100%|██████████| 235/235 [00:01<00:00, 130.29it/s]\n"
     ]
    },
    {
     "name": "stdout",
     "output_type": "stream",
     "text": [
      "Epoch 41/100, Loss: 0.011111065745353699, train dataset accuracy: 96.59\n",
      "test dataset accuracy: 96.4%\n"
     ]
    },
    {
     "name": "stderr",
     "output_type": "stream",
     "text": [
      "100%|██████████| 235/235 [00:01<00:00, 135.31it/s]\n"
     ]
    },
    {
     "name": "stdout",
     "output_type": "stream",
     "text": [
      "Epoch 42/100, Loss: 0.008607477881014347, train dataset accuracy: 96.55333333333333\n",
      "test dataset accuracy: 96.36%\n"
     ]
    },
    {
     "name": "stderr",
     "output_type": "stream",
     "text": [
      "100%|██████████| 235/235 [00:01<00:00, 134.69it/s]\n"
     ]
    },
    {
     "name": "stdout",
     "output_type": "stream",
     "text": [
      "Epoch 43/100, Loss: 0.012505804188549519, train dataset accuracy: 96.65\n",
      "test dataset accuracy: 95.58%\n"
     ]
    },
    {
     "name": "stderr",
     "output_type": "stream",
     "text": [
      "100%|██████████| 235/235 [00:01<00:00, 134.21it/s]\n"
     ]
    },
    {
     "name": "stdout",
     "output_type": "stream",
     "text": [
      "Epoch 44/100, Loss: 0.014300307258963585, train dataset accuracy: 96.615\n",
      "test dataset accuracy: 96.77%\n"
     ]
    },
    {
     "name": "stderr",
     "output_type": "stream",
     "text": [
      "100%|██████████| 235/235 [00:01<00:00, 128.15it/s]\n"
     ]
    },
    {
     "name": "stdout",
     "output_type": "stream",
     "text": [
      "Epoch 45/100, Loss: 0.006152633111923933, train dataset accuracy: 96.68333333333334\n",
      "test dataset accuracy: 96.54%\n"
     ]
    },
    {
     "name": "stderr",
     "output_type": "stream",
     "text": [
      "100%|██████████| 235/235 [00:01<00:00, 133.33it/s]\n"
     ]
    },
    {
     "name": "stdout",
     "output_type": "stream",
     "text": [
      "Epoch 46/100, Loss: 0.012106831185519695, train dataset accuracy: 96.73333333333333\n",
      "test dataset accuracy: 96.06%\n"
     ]
    },
    {
     "name": "stderr",
     "output_type": "stream",
     "text": [
      "100%|██████████| 235/235 [00:01<00:00, 123.39it/s]\n"
     ]
    },
    {
     "name": "stdout",
     "output_type": "stream",
     "text": [
      "Epoch 47/100, Loss: 0.01053017657250166, train dataset accuracy: 96.67166666666667\n",
      "test dataset accuracy: 95.63%\n"
     ]
    },
    {
     "name": "stderr",
     "output_type": "stream",
     "text": [
      "100%|██████████| 235/235 [00:01<00:00, 128.38it/s]\n"
     ]
    },
    {
     "name": "stdout",
     "output_type": "stream",
     "text": [
      "Epoch 48/100, Loss: 0.01842622645199299, train dataset accuracy: 96.48333333333333\n",
      "test dataset accuracy: 95.72%\n"
     ]
    },
    {
     "name": "stderr",
     "output_type": "stream",
     "text": [
      "100%|██████████| 235/235 [00:01<00:00, 130.51it/s]\n"
     ]
    },
    {
     "name": "stdout",
     "output_type": "stream",
     "text": [
      "Epoch 49/100, Loss: 0.018761053681373596, train dataset accuracy: 96.815\n",
      "test dataset accuracy: 96.38%\n"
     ]
    },
    {
     "name": "stderr",
     "output_type": "stream",
     "text": [
      "100%|██████████| 235/235 [00:01<00:00, 134.02it/s]\n"
     ]
    },
    {
     "name": "stdout",
     "output_type": "stream",
     "text": [
      "Epoch 50/100, Loss: 0.009332707151770592, train dataset accuracy: 96.62\n",
      "test dataset accuracy: 95.84%\n"
     ]
    },
    {
     "name": "stderr",
     "output_type": "stream",
     "text": [
      "100%|██████████| 235/235 [00:01<00:00, 130.55it/s]\n"
     ]
    },
    {
     "name": "stdout",
     "output_type": "stream",
     "text": [
      "Epoch 51/100, Loss: 0.010459519922733307, train dataset accuracy: 96.66166666666666\n",
      "test dataset accuracy: 95.0%\n"
     ]
    },
    {
     "name": "stderr",
     "output_type": "stream",
     "text": [
      "100%|██████████| 235/235 [00:01<00:00, 133.06it/s]\n"
     ]
    },
    {
     "name": "stdout",
     "output_type": "stream",
     "text": [
      "Epoch 52/100, Loss: 0.010743445716798306, train dataset accuracy: 96.62833333333333\n",
      "test dataset accuracy: 96.51%\n"
     ]
    },
    {
     "name": "stderr",
     "output_type": "stream",
     "text": [
      "100%|██████████| 235/235 [00:01<00:00, 134.06it/s]\n"
     ]
    },
    {
     "name": "stdout",
     "output_type": "stream",
     "text": [
      "Epoch 53/100, Loss: 0.011533709242939949, train dataset accuracy: 96.785\n",
      "test dataset accuracy: 95.49%\n"
     ]
    },
    {
     "name": "stderr",
     "output_type": "stream",
     "text": [
      "100%|██████████| 235/235 [00:01<00:00, 133.00it/s]\n"
     ]
    },
    {
     "name": "stdout",
     "output_type": "stream",
     "text": [
      "Epoch 54/100, Loss: 0.012064125388860703, train dataset accuracy: 96.645\n",
      "test dataset accuracy: 96.72%\n"
     ]
    },
    {
     "name": "stderr",
     "output_type": "stream",
     "text": [
      "100%|██████████| 235/235 [00:01<00:00, 123.99it/s]\n"
     ]
    },
    {
     "name": "stdout",
     "output_type": "stream",
     "text": [
      "Epoch 55/100, Loss: 0.009450864046812057, train dataset accuracy: 96.66\n",
      "test dataset accuracy: 95.7%\n"
     ]
    },
    {
     "name": "stderr",
     "output_type": "stream",
     "text": [
      "100%|██████████| 235/235 [00:01<00:00, 134.97it/s]\n"
     ]
    },
    {
     "name": "stdout",
     "output_type": "stream",
     "text": [
      "Epoch 56/100, Loss: 0.011697357520461082, train dataset accuracy: 96.71166666666667\n",
      "test dataset accuracy: 96.33%\n"
     ]
    },
    {
     "name": "stderr",
     "output_type": "stream",
     "text": [
      "100%|██████████| 235/235 [00:01<00:00, 132.20it/s]\n"
     ]
    },
    {
     "name": "stdout",
     "output_type": "stream",
     "text": [
      "Epoch 57/100, Loss: 0.007783493958413601, train dataset accuracy: 96.61833333333334\n",
      "test dataset accuracy: 95.43%\n"
     ]
    },
    {
     "name": "stderr",
     "output_type": "stream",
     "text": [
      "100%|██████████| 235/235 [00:01<00:00, 133.90it/s]\n"
     ]
    },
    {
     "name": "stdout",
     "output_type": "stream",
     "text": [
      "Epoch 58/100, Loss: 0.011709311977028847, train dataset accuracy: 96.73\n",
      "test dataset accuracy: 96.21%\n"
     ]
    },
    {
     "name": "stderr",
     "output_type": "stream",
     "text": [
      "100%|██████████| 235/235 [00:01<00:00, 132.98it/s]\n"
     ]
    },
    {
     "name": "stdout",
     "output_type": "stream",
     "text": [
      "Epoch 59/100, Loss: 0.008696495555341244, train dataset accuracy: 96.82666666666667\n",
      "test dataset accuracy: 96.41%\n"
     ]
    },
    {
     "name": "stderr",
     "output_type": "stream",
     "text": [
      "100%|██████████| 235/235 [00:01<00:00, 130.70it/s]\n"
     ]
    },
    {
     "name": "stdout",
     "output_type": "stream",
     "text": [
      "Epoch 60/100, Loss: 0.011745305731892586, train dataset accuracy: 96.69666666666667\n",
      "test dataset accuracy: 95.84%\n"
     ]
    },
    {
     "name": "stderr",
     "output_type": "stream",
     "text": [
      "100%|██████████| 235/235 [00:01<00:00, 132.00it/s]\n"
     ]
    },
    {
     "name": "stdout",
     "output_type": "stream",
     "text": [
      "Epoch 61/100, Loss: 0.007558306213468313, train dataset accuracy: 96.64333333333333\n",
      "test dataset accuracy: 96.32%\n"
     ]
    },
    {
     "name": "stderr",
     "output_type": "stream",
     "text": [
      "100%|██████████| 235/235 [00:01<00:00, 133.24it/s]\n"
     ]
    },
    {
     "name": "stdout",
     "output_type": "stream",
     "text": [
      "Epoch 62/100, Loss: 0.012993298470973969, train dataset accuracy: 96.70166666666667\n",
      "test dataset accuracy: 95.61%\n"
     ]
    },
    {
     "name": "stderr",
     "output_type": "stream",
     "text": [
      "100%|██████████| 235/235 [00:01<00:00, 134.55it/s]\n"
     ]
    },
    {
     "name": "stdout",
     "output_type": "stream",
     "text": [
      "Epoch 63/100, Loss: 0.008962099440395832, train dataset accuracy: 96.67666666666666\n",
      "test dataset accuracy: 95.79%\n"
     ]
    },
    {
     "name": "stderr",
     "output_type": "stream",
     "text": [
      "100%|██████████| 235/235 [00:01<00:00, 128.96it/s]\n"
     ]
    },
    {
     "name": "stdout",
     "output_type": "stream",
     "text": [
      "Epoch 64/100, Loss: 0.011274651624262333, train dataset accuracy: 96.73166666666667\n",
      "test dataset accuracy: 96.09%\n"
     ]
    },
    {
     "name": "stderr",
     "output_type": "stream",
     "text": [
      "100%|██████████| 235/235 [00:01<00:00, 127.28it/s]\n"
     ]
    },
    {
     "name": "stdout",
     "output_type": "stream",
     "text": [
      "Epoch 65/100, Loss: 0.00967430043965578, train dataset accuracy: 96.61\n",
      "test dataset accuracy: 95.89%\n"
     ]
    },
    {
     "name": "stderr",
     "output_type": "stream",
     "text": [
      "100%|██████████| 235/235 [00:01<00:00, 136.12it/s]\n"
     ]
    },
    {
     "name": "stdout",
     "output_type": "stream",
     "text": [
      "Epoch 66/100, Loss: 0.010405543260276318, train dataset accuracy: 96.67\n",
      "test dataset accuracy: 95.51%\n"
     ]
    },
    {
     "name": "stderr",
     "output_type": "stream",
     "text": [
      "100%|██████████| 235/235 [00:01<00:00, 133.10it/s]\n"
     ]
    },
    {
     "name": "stdout",
     "output_type": "stream",
     "text": [
      "Epoch 67/100, Loss: 0.014967186376452446, train dataset accuracy: 96.745\n",
      "test dataset accuracy: 96.24%\n"
     ]
    },
    {
     "name": "stderr",
     "output_type": "stream",
     "text": [
      "100%|██████████| 235/235 [00:01<00:00, 128.57it/s]\n"
     ]
    },
    {
     "name": "stdout",
     "output_type": "stream",
     "text": [
      "Epoch 68/100, Loss: 0.017641661688685417, train dataset accuracy: 96.695\n",
      "test dataset accuracy: 95.88%\n"
     ]
    },
    {
     "name": "stderr",
     "output_type": "stream",
     "text": [
      "100%|██████████| 235/235 [00:01<00:00, 133.99it/s]\n"
     ]
    },
    {
     "name": "stdout",
     "output_type": "stream",
     "text": [
      "Epoch 69/100, Loss: 0.012964960187673569, train dataset accuracy: 96.66833333333334\n",
      "test dataset accuracy: 95.98%\n"
     ]
    },
    {
     "name": "stderr",
     "output_type": "stream",
     "text": [
      "100%|██████████| 235/235 [00:01<00:00, 135.38it/s]\n"
     ]
    },
    {
     "name": "stdout",
     "output_type": "stream",
     "text": [
      "Epoch 70/100, Loss: 0.01017385721206665, train dataset accuracy: 96.74833333333333\n",
      "test dataset accuracy: 95.29%\n"
     ]
    },
    {
     "name": "stderr",
     "output_type": "stream",
     "text": [
      "100%|██████████| 235/235 [00:01<00:00, 133.65it/s]\n"
     ]
    },
    {
     "name": "stdout",
     "output_type": "stream",
     "text": [
      "Epoch 71/100, Loss: 0.011041322723031044, train dataset accuracy: 96.66\n",
      "test dataset accuracy: 95.46%\n"
     ]
    },
    {
     "name": "stderr",
     "output_type": "stream",
     "text": [
      "100%|██████████| 235/235 [00:01<00:00, 129.12it/s]\n"
     ]
    },
    {
     "name": "stdout",
     "output_type": "stream",
     "text": [
      "Epoch 72/100, Loss: 0.01439726073294878, train dataset accuracy: 96.70666666666666\n",
      "test dataset accuracy: 96.49%\n"
     ]
    },
    {
     "name": "stderr",
     "output_type": "stream",
     "text": [
      "100%|██████████| 235/235 [00:01<00:00, 133.13it/s]\n"
     ]
    },
    {
     "name": "stdout",
     "output_type": "stream",
     "text": [
      "Epoch 73/100, Loss: 0.012251726351678371, train dataset accuracy: 96.72333333333333\n",
      "test dataset accuracy: 96.33%\n"
     ]
    },
    {
     "name": "stderr",
     "output_type": "stream",
     "text": [
      "100%|██████████| 235/235 [00:01<00:00, 128.51it/s]\n"
     ]
    },
    {
     "name": "stdout",
     "output_type": "stream",
     "text": [
      "Epoch 74/100, Loss: 0.009168078191578388, train dataset accuracy: 96.75666666666666\n",
      "test dataset accuracy: 96.54%\n"
     ]
    },
    {
     "name": "stderr",
     "output_type": "stream",
     "text": [
      "100%|██████████| 235/235 [00:01<00:00, 134.10it/s]\n"
     ]
    },
    {
     "name": "stdout",
     "output_type": "stream",
     "text": [
      "Epoch 75/100, Loss: 0.012578174471855164, train dataset accuracy: 96.78166666666667\n",
      "test dataset accuracy: 96.0%\n"
     ]
    },
    {
     "name": "stderr",
     "output_type": "stream",
     "text": [
      "100%|██████████| 235/235 [00:01<00:00, 132.34it/s]\n"
     ]
    },
    {
     "name": "stdout",
     "output_type": "stream",
     "text": [
      "Epoch 76/100, Loss: 0.013010824099183083, train dataset accuracy: 96.72333333333333\n",
      "test dataset accuracy: 96.15%\n"
     ]
    },
    {
     "name": "stderr",
     "output_type": "stream",
     "text": [
      "100%|██████████| 235/235 [00:01<00:00, 132.34it/s]\n"
     ]
    },
    {
     "name": "stdout",
     "output_type": "stream",
     "text": [
      "Epoch 77/100, Loss: 0.014806987717747688, train dataset accuracy: 96.64166666666667\n",
      "test dataset accuracy: 96.69%\n"
     ]
    },
    {
     "name": "stderr",
     "output_type": "stream",
     "text": [
      "100%|██████████| 235/235 [00:01<00:00, 134.05it/s]\n"
     ]
    },
    {
     "name": "stdout",
     "output_type": "stream",
     "text": [
      "Epoch 78/100, Loss: 0.010556502267718315, train dataset accuracy: 96.74833333333333\n",
      "test dataset accuracy: 95.73%\n"
     ]
    },
    {
     "name": "stderr",
     "output_type": "stream",
     "text": [
      "100%|██████████| 235/235 [00:01<00:00, 141.36it/s]\n"
     ]
    },
    {
     "name": "stdout",
     "output_type": "stream",
     "text": [
      "Epoch 79/100, Loss: 0.011863159015774727, train dataset accuracy: 96.715\n",
      "test dataset accuracy: 96.01%\n"
     ]
    },
    {
     "name": "stderr",
     "output_type": "stream",
     "text": [
      "100%|██████████| 235/235 [00:01<00:00, 130.61it/s]\n"
     ]
    },
    {
     "name": "stdout",
     "output_type": "stream",
     "text": [
      "Epoch 80/100, Loss: 0.014713548123836517, train dataset accuracy: 96.60833333333333\n",
      "test dataset accuracy: 96.37%\n"
     ]
    },
    {
     "name": "stderr",
     "output_type": "stream",
     "text": [
      "100%|██████████| 235/235 [00:01<00:00, 124.05it/s]\n"
     ]
    },
    {
     "name": "stdout",
     "output_type": "stream",
     "text": [
      "Epoch 81/100, Loss: 0.010839011520147324, train dataset accuracy: 96.715\n",
      "test dataset accuracy: 95.85%\n"
     ]
    },
    {
     "name": "stderr",
     "output_type": "stream",
     "text": [
      "100%|██████████| 235/235 [00:01<00:00, 132.87it/s]\n"
     ]
    },
    {
     "name": "stdout",
     "output_type": "stream",
     "text": [
      "Epoch 82/100, Loss: 0.008286826312541962, train dataset accuracy: 96.74166666666666\n",
      "test dataset accuracy: 96.5%\n"
     ]
    },
    {
     "name": "stderr",
     "output_type": "stream",
     "text": [
      "100%|██████████| 235/235 [00:01<00:00, 132.85it/s]\n"
     ]
    },
    {
     "name": "stdout",
     "output_type": "stream",
     "text": [
      "Epoch 83/100, Loss: 0.010676377452909946, train dataset accuracy: 96.67833333333333\n",
      "test dataset accuracy: 96.02%\n"
     ]
    },
    {
     "name": "stderr",
     "output_type": "stream",
     "text": [
      "100%|██████████| 235/235 [00:01<00:00, 119.74it/s]\n"
     ]
    },
    {
     "name": "stdout",
     "output_type": "stream",
     "text": [
      "Epoch 84/100, Loss: 0.009954294189810753, train dataset accuracy: 96.72166666666666\n",
      "test dataset accuracy: 96.41%\n"
     ]
    },
    {
     "name": "stderr",
     "output_type": "stream",
     "text": [
      "100%|██████████| 235/235 [00:01<00:00, 134.60it/s]\n"
     ]
    },
    {
     "name": "stdout",
     "output_type": "stream",
     "text": [
      "Epoch 85/100, Loss: 0.012462828308343887, train dataset accuracy: 96.70833333333333\n",
      "test dataset accuracy: 96.21%\n"
     ]
    },
    {
     "name": "stderr",
     "output_type": "stream",
     "text": [
      "100%|██████████| 235/235 [00:01<00:00, 133.86it/s]\n"
     ]
    },
    {
     "name": "stdout",
     "output_type": "stream",
     "text": [
      "Epoch 86/100, Loss: 0.00963430106639862, train dataset accuracy: 96.73\n",
      "test dataset accuracy: 96.28%\n"
     ]
    },
    {
     "name": "stderr",
     "output_type": "stream",
     "text": [
      "100%|██████████| 235/235 [00:01<00:00, 134.10it/s]\n"
     ]
    },
    {
     "name": "stdout",
     "output_type": "stream",
     "text": [
      "Epoch 87/100, Loss: 0.011535990983247757, train dataset accuracy: 96.66333333333333\n",
      "test dataset accuracy: 96.24%\n"
     ]
    },
    {
     "name": "stderr",
     "output_type": "stream",
     "text": [
      "100%|██████████| 235/235 [00:01<00:00, 131.11it/s]\n"
     ]
    },
    {
     "name": "stdout",
     "output_type": "stream",
     "text": [
      "Epoch 88/100, Loss: 0.01033126749098301, train dataset accuracy: 96.805\n",
      "test dataset accuracy: 95.99%\n"
     ]
    },
    {
     "name": "stderr",
     "output_type": "stream",
     "text": [
      "100%|██████████| 235/235 [00:01<00:00, 134.22it/s]\n"
     ]
    },
    {
     "name": "stdout",
     "output_type": "stream",
     "text": [
      "Epoch 89/100, Loss: 0.010319441556930542, train dataset accuracy: 96.69166666666666\n",
      "test dataset accuracy: 95.86%\n"
     ]
    },
    {
     "name": "stderr",
     "output_type": "stream",
     "text": [
      "100%|██████████| 235/235 [00:01<00:00, 135.51it/s]\n"
     ]
    },
    {
     "name": "stdout",
     "output_type": "stream",
     "text": [
      "Epoch 90/100, Loss: 0.009064882062375546, train dataset accuracy: 96.63833333333334\n",
      "test dataset accuracy: 96.24%\n"
     ]
    },
    {
     "name": "stderr",
     "output_type": "stream",
     "text": [
      "100%|██████████| 235/235 [00:01<00:00, 135.68it/s]\n"
     ]
    },
    {
     "name": "stdout",
     "output_type": "stream",
     "text": [
      "Epoch 91/100, Loss: 0.010147721506655216, train dataset accuracy: 96.77166666666666\n",
      "test dataset accuracy: 96.32%\n"
     ]
    },
    {
     "name": "stderr",
     "output_type": "stream",
     "text": [
      "100%|██████████| 235/235 [00:01<00:00, 125.92it/s]\n"
     ]
    },
    {
     "name": "stdout",
     "output_type": "stream",
     "text": [
      "Epoch 92/100, Loss: 0.010048546828329563, train dataset accuracy: 96.84833333333333\n",
      "test dataset accuracy: 96.37%\n"
     ]
    },
    {
     "name": "stderr",
     "output_type": "stream",
     "text": [
      "100%|██████████| 235/235 [00:01<00:00, 129.38it/s]\n"
     ]
    },
    {
     "name": "stdout",
     "output_type": "stream",
     "text": [
      "Epoch 93/100, Loss: 0.009435141459107399, train dataset accuracy: 96.69666666666667\n",
      "test dataset accuracy: 96.33%\n"
     ]
    },
    {
     "name": "stderr",
     "output_type": "stream",
     "text": [
      "100%|██████████| 235/235 [00:01<00:00, 133.86it/s]\n"
     ]
    },
    {
     "name": "stdout",
     "output_type": "stream",
     "text": [
      "Epoch 94/100, Loss: 0.012833911925554276, train dataset accuracy: 96.65666666666667\n",
      "test dataset accuracy: 94.18%\n"
     ]
    },
    {
     "name": "stderr",
     "output_type": "stream",
     "text": [
      "100%|██████████| 235/235 [00:01<00:00, 132.92it/s]\n"
     ]
    },
    {
     "name": "stdout",
     "output_type": "stream",
     "text": [
      "Epoch 95/100, Loss: 0.014645821414887905, train dataset accuracy: 96.665\n",
      "test dataset accuracy: 95.99%\n"
     ]
    },
    {
     "name": "stderr",
     "output_type": "stream",
     "text": [
      "100%|██████████| 235/235 [00:01<00:00, 131.43it/s]\n"
     ]
    },
    {
     "name": "stdout",
     "output_type": "stream",
     "text": [
      "Epoch 96/100, Loss: 0.014084499329328537, train dataset accuracy: 96.70333333333333\n",
      "test dataset accuracy: 96.07%\n"
     ]
    },
    {
     "name": "stderr",
     "output_type": "stream",
     "text": [
      "100%|██████████| 235/235 [00:01<00:00, 132.10it/s]\n"
     ]
    },
    {
     "name": "stdout",
     "output_type": "stream",
     "text": [
      "Epoch 97/100, Loss: 0.014808233827352524, train dataset accuracy: 96.77333333333333\n",
      "test dataset accuracy: 96.45%\n"
     ]
    },
    {
     "name": "stderr",
     "output_type": "stream",
     "text": [
      "100%|██████████| 235/235 [00:01<00:00, 135.09it/s]\n"
     ]
    },
    {
     "name": "stdout",
     "output_type": "stream",
     "text": [
      "Epoch 98/100, Loss: 0.012214506976306438, train dataset accuracy: 96.655\n",
      "test dataset accuracy: 96.69%\n"
     ]
    },
    {
     "name": "stderr",
     "output_type": "stream",
     "text": [
      "100%|██████████| 235/235 [00:01<00:00, 134.61it/s]\n"
     ]
    },
    {
     "name": "stdout",
     "output_type": "stream",
     "text": [
      "Epoch 99/100, Loss: 0.011054396629333496, train dataset accuracy: 96.745\n",
      "test dataset accuracy: 95.67%\n"
     ]
    }
   ],
   "source": [
    "model = model\n",
    "lay = []\n",
    "for n, i in model.named_children():\n",
    "    print(type(i).__name__)\n",
    "    if type(i).__name__ == \"Linear\":\n",
    "        lay.append((n, i))\n",
    "\n",
    "acc = []\n",
    "\n",
    "l2_lambda = 0.00001\n",
    "\n",
    "num_epochs = 100  \n",
    "for epoch in range(num_epochs):\n",
    "    ttot = 0\n",
    "    tcorr = 0\n",
    "    for b in tqdm(trainloader):\n",
    "        xt, y = b[0], b[1]\n",
    "        optimizer.zero_grad() \n",
    "        outputs = model(xt)  \n",
    "        loss = criterion(outputs, y) \n",
    "\n",
    "        l2_penalty = sum(torch.sum(p**2) for p in model.parameters())\n",
    "        loss += l2_lambda * l2_penalty \n",
    "        \n",
    "        loss.backward() \n",
    "        optimizer.step() \n",
    "    \n",
    "        _, y = torch.max(y.data, 1)\n",
    "        _, pred = torch.max(outputs.data, 1)\n",
    "        ttot += y.shape[0]\n",
    "        tcorr += (pred == y).sum().item()\n",
    "    \n",
    "    # for i in range(len(lay)):\n",
    "    #     if i > 0 and i <= len(lay)-1:\n",
    "    #         di = neuronalNeuralBalance(lay[i-1][1], lay[i][1])\n",
    "\n",
    "    print(f'Epoch {epoch}/{num_epochs}, Loss: {loss.item()}, train dataset accuracy: {100*tcorr/ttot}')\n",
    "        \n",
    "    tot = 0\n",
    "    corr = 0\n",
    "\n",
    "    with torch.no_grad():\n",
    "        for i in testloader:\n",
    "            xt, y = i[0], i[1]\n",
    "            outputs = model(xt)  \n",
    "            _, y = torch.max(y.data, 1)\n",
    "            _, pred = torch.max(outputs.data, 1)\n",
    "            tot += y.shape[0]\n",
    "            corr += (pred == y).sum().item()\n",
    "    print(f'test dataset accuracy: {100*corr/tot}%')\n",
    "    acc.append(corr/tot)\n"
   ]
  },
  {
   "cell_type": "code",
   "execution_count": 106,
   "metadata": {},
   "outputs": [
    {
     "data": {
      "image/png": "[encoded data removed]",
      "text/plain": [
       "<Figure size 2500x500 with 3 Axes>"
      ]
     },
     "metadata": {},
     "output_type": "display_data"
    }
   ],
   "source": [
    "import matplotlib.pyplot as plt\n",
    "\n",
    "fc_weights = model.fc.weight.cpu().detach().numpy().flatten()\n",
    "fc2_weights = model.fc2.weight.cpu().detach().numpy().flatten()\n",
    "out_weights = model.out.weight.cpu().detach().numpy().flatten()\n",
    "\n",
    "bins = np.linspace(-0.5, 0.5, 50) \n",
    "fc_hist, fc_bins = np.histogram(fc_weights, bins=bins)\n",
    "fc2_hist, fc2_bins = np.histogram(fc2_weights, bins=bins)\n",
    "out_hist, out_bins = np.histogram(out_weights, bins=bins)\n",
    "\n",
    "fc_bin_centers = 0.5 * (fc_bins[:-1] + fc_bins[1:])\n",
    "fc2_bin_centers = 0.5 * (fc2_bins[:-1] + fc2_bins[1:])\n",
    "out_bin_centers = 0.5 * (out_bins[:-1] + out_bins[1:])\n",
    "\n",
    "plt.figure(figsize=(25, 5))\n",
    "\n",
    "plt.subplot(1, 3, 1)\n",
    "plt.plot(fc_bin_centers, fc_hist, marker='o', linestyle='-', color='b')\n",
    "plt.title('Weight Distribution: Input to Hidden1 Layer')\n",
    "plt.xlabel('Weight Value')\n",
    "plt.ylabel('Frequency')\n",
    "\n",
    "plt.subplot(1, 3, 2)\n",
    "plt.plot(fc2_bin_centers, fc2_hist, marker='o', linestyle='-', color='g')\n",
    "plt.title('Weight Distribution: hidden 1 to hidden 2 Layer')\n",
    "plt.xlabel('Weight Value')\n",
    "plt.ylabel('Frequency')\n",
    "\n",
    "plt.subplot(1, 3, 3)\n",
    "plt.plot(out_bin_centers, out_hist, marker='o', linestyle='-', color='g')\n",
    "plt.title('Weight Distribution: Hidden2 to Output Layer')\n",
    "plt.xlabel('Weight Value')\n",
    "plt.ylabel('Frequency')\n",
    "\n",
    "plt.tight_layout()\n",
    "plt.show()\n"
   ]
  },
  {
   "cell_type": "code",
   "execution_count": 107,
   "metadata": {},
   "outputs": [
    {
     "name": "stdout",
     "output_type": "stream",
     "text": [
      "Number of non-zero weights greater than 0.01 in layer 1: 30860\n",
      "Number of non-zero weights greater than 0.01 in layer 1: 530\n",
      "Number of non-zero weights greater than 0.01 in layer 3: 229\n"
     ]
    }
   ],
   "source": [
    "import torch\n",
    "\n",
    "def count_nonzero_weights_above_threshold(layer, threshold=0.01):\n",
    "    return torch.sum(torch.abs(layer.weight) > threshold).item()\n",
    "\n",
    "threshold_value = 0.01 \n",
    "\n",
    "nonzero_fc1 = count_nonzero_weights_above_threshold(model.fc, threshold=threshold_value)\n",
    "nonzero_fc2 = count_nonzero_weights_above_threshold(model.fc2, threshold=threshold_value)\n",
    "nonzero_fc3 = count_nonzero_weights_above_threshold(model.out, threshold=threshold_value)\n",
    "\n",
    "print(f'Number of non-zero weights greater than {threshold_value} in layer 1: {nonzero_fc1}')\n",
    "print(f'Number of non-zero weights greater than {threshold_value} in layer 1: {nonzero_fc2}')\n",
    "print(f'Number of non-zero weights greater than {threshold_value} in layer 3: {nonzero_fc3}')"
   ]
  },
  {
   "cell_type": "code",
   "execution_count": 108,
   "metadata": {},
   "outputs": [
    {
     "name": "stdout",
     "output_type": "stream",
     "text": [
      "[569649785406.5098, 0.17926228546330455, 17677.189108330185, inf, 1.1013411086293408e+19, 1.0252522308794707, 40013.87639456929, 2610094492.0596156, 623888286630083.2, 0.6604643774196817, 1.6847860084212644e+16, 11789369778608.762, 8949583439636.258, 1.9589140127564102, inf, 891348.5974550701, 0.3189321309608093, 37.14062180422891, inf, 2173733336017301.8, inf, 0.4759232648260645, 2570827.72357809, 34701249017.39661, 0.8241566970781756, 0.2950548076562593, 1599925.7148095495, 6523493713.793565, 89526.6678824236, 5041952353519357.0, 55.99589410004276, 1.0012773042700036, 7925.849228157426, 0.6994183692005381, 4020934467.98121, 222267002078783.34, 23.44230820894029, 11871477.851667223, 3019629610.7416706, 450.67640699564396, 915.067586985219, 2.344637265554626, 0.229332324641709, 10362970179.093113, 7.396416409106632, 0.6567634113426578, 587695.1844919968, 2.513145961211261e+17, 91.5726184448618, 0.18047458971921349, 1839.4016644583485, 201.72777857180284, 0.450270178992654, 988451097.5074861, inf, 0.4267958902209924, 0.10117354910281907, inf, 0.4870711574628843, 965147.8062047433, 78119.20359746012, 4841485.92313678, 2.226002885172958e+16, 0.7944702255985999, 24672205726.11725, 516270753.45941365, 6887.717788684504, 41447376664968.22, 5123257970189.428, 2.474344340239657e+17, 0.6151998234797568, 0.3720426152491224, 0.6237408409520304, 79167.97922333669, 0.2891058392975397, 88.4177595439733, 88.3670459952329, 48.3306978865356, 7.23080384067696, 109641286160192.69, inf, 341729224.7998923, 40.34569208499571, 1.2787159916041664e+17, inf, 12.542851535006692, 2117.8446349497895, inf, inf, 263520213.18816328, 0.33243538401660233, 2.301110401198335, 8.028468306120419e+19, 0.48913452879180735, 1.4925117788400557, 0.38981064309960395, 123266167861646.84, 0.6079151982599141, 0.28731425758385415, 0.41339484363826295, 4322467598094870.0, inf, 2935743861867859.0, 2.4310279032288635, 522675.28494002204, 1383.5348775902464, 1.654623808507182e+16, inf, 337716411300491.6, 0.17917135080490265, 5.377898660479164e+16, 5572.877292219678, 311.1786199630311, 167997011886483.3, 6174730429374.369, 5510843232594.278, 0.38737284634774133, 0.39561457135725936, 22282.193879353716, 19467.959769301324, 5.978400540720694e+18, 24454046.84236309, 3267.94407649668, 20400682160.278194, 73008319.98114339, 2.7134977880007396, 0.38331076695772925, inf, 826594.3232692031, 0.44653635748182124, 45131678370.01781, 66.29018096778363, 9385214242.08869, 9072754.531601759, 4031.16583067795, 0.8560904398400647, 23697.596650718348, 97.97852068883897, 2000133.1288164346, 1318.1075667275331, 2946648865401880.0, 3808112658384136.5, 893650825487457.0, 0.37729224175551085, 33.944060151864036, 0.3786446904704253, 4055.998860773949, 0.8458446988452014, 117030.33007097173, 0.31152527250100714, 0.41778464791786596, 1012186.9894416552, 0.06221143174079192, 5352.730527735187, 2583.0453983460493, 6965907184282.996, 5.9003676895382675, 1.484838415537892, 0.6603729518400011, 53016.62750750295, 4211.364306335194, 11028701774.52542, 1.1372231219338485e+17, 4076106898964.036, 166931.34373452936, 2.9834546638479995e+19, 512951311121014.7, 546348497212.79346, 31535.254971076105, inf, 1.310187869986192, 10498247328552.637, 1254031457.2852378, 1.7828597891411693, 6.063228880645725e+17, inf, 61.08792879911295, 0.5446559670693332, 118447.9167348409, 492.18052435009344, 1423.9545825990576, 1.4393568759490136e+19, 6242739.1762088565, 27922.702969757946, 1.8872759317214165, 140274295.33179346, 201.75841007735985, 2659503970288.98, 0.3587960659306369, 1.6398460605333627, 1.8139076129226894, 0.6385810159709241, 6501.189500690374, 0.394304156490107, 1.2465088146023877, 180.62532144544434, 0.7321243692161503, 75.54287039066566, 1.0745706191514086, 552.730606976906, 0.38027087167889845, 1222228408299.7063, inf, 56320173224879.016, 0.7308205800674561, inf, 8451448718914628.0, 2722781351.187028, 496469953.79364294, 4616136057705689.0, 6962249.954922536, 22832.85431666976, 1.0173076937581283e+19, 0.21654492916338478, 0.4777579067803457, 1468867306292.398, 0.4919063569562465, 1.6438064803158599, 14740019.753615657, inf, inf, 3.26559254699389e+17, 4.306714630071772, 80984.83963793784, 2.462839760922325e+17, 3.699649233379145e+18, 237826736.83876637, 2493.0933846425955, 38616360.81367217, 1.0652982263103443, 114132.02279495186, 3657978.6419888632, 0.49869879197787753, inf, 944829811.3861823, 10666400799.096375, 366.648008224097, inf, 6726515.346200163, 5235212.901672372, inf, 508408176583.11395, 0.4764606612034977, 22922.698514119482, 787.0481641048001, 2.088098611390335, 4070.085820601144, 28.53447276146398, 0.45996678935024315, 7.110728287323569, 333412629.7303916, 140.0725159539344, 0.4590959843269125, 4.043913200904316, 0.27918490522908684, inf, 7368548.029710437, 1431.7011255461478, 8.293541798347335e+20, inf, inf, 755.6894851308974, 140853892532351.44, 1.0152557981137313, 5751.422356414719, 86212919140326.66, 0.48297470239174717, inf, 1.9382538901248705, 0.16377469397859354, 0.3621067747653666, 1.009947742196063, 0.520423896638847, 1.1614642204884333, 2.8504771516213725, 0.45863167542442046, 391225295998.9668, 1668.6171477515245, 0.5197906374473376, 6735116727.645545, 679853.1941203002, 9.81850963131443, 3.004039477276066e+18, 0.7965675021659673, 4571.812176745155, 0.44771188891088715, inf, 4.137033877303712, 0.4816622924754688, 34395332.37256141, 0.2927198529073633, 0.5708973443053875, 5.709349253065117e+18, 0.5473484864040626, 18973488.910894416, 0.8357449048943227, 0.2771833951182899, 0.9875708589593266, 745.1874092472907, 1.387395561748076, 4094406195026698.5, 20.24467005588614, 2.8325681480873503e+18, 1.2246763167922579, 962084502077.4758, 0.45695923005740124, 1.6391593284578947, 0.37621831767582514, inf, 633.3536074687693, 41216.86475516856, 0.2502798185395939, 91583036748.67297, 1.9217457855688202e+17, 1.9869951368989045, 7.193481396016489e+18, inf, 1689.0950236219908, 61564856325.15129, 187.0075707211965, inf, 0.6778070503857462, 134528828581190.34, inf, 41971299244287.01, 0.686828967370242, 15.547732293369389, 307422.1973167673, 21329384.8344592, inf, 1.4373716814844505e+20, 25061229.26398513, 139263945.9641012, 1129894.7739584232, inf, 0.24688661694197936, inf, inf, 1.6798539914544826, 0.5423413251540811, inf, inf, 0.33784252662411235, 810.1028716434639, inf, 1.0872781034644905, 18210573.144180667, 4609825033270390.0, 1.1568192485966064e+21, inf, 1367167405549940.8, 0.27087665043167597, 0.5021440597600884, 13.065906175995393, 8.283101984025579e+16, 0.43974205974648234, 0.2597490384393235, 11481075.076772789, 0.4645628430241875, inf, 881352576063.2222, 4.308561147301473e+19, 2114.523952768944, 0.34010773006210276, 1.6242541087405498, inf, 1.8482156594049104e+16, 0.22695423691024055, 1603143203587.046, 8.612625506395173e+18, 1.0573343046747954e+16, 61791174621174.09, 1.0010233939999313, 2085658871814.8433, 0.3417487048512961, inf, 7.630675628879917e+16, 9983178846.364971, 3229001843310.794, 2.1915518610647053, 35.816911617592496, 82973.46421044077, 165951.7288867004, 821975.7366417934, 0.4276029873175662, 1057009960905.5663, 0.4267380626550544, 20142920636.892258, 0.46387594538371263, 150007394087.75626, inf, 25195999.112079915, 8.11098448689872, 1156334201025251.2, 0.32262316493300913, 2087349.9356345139, 154838887345.501, 35700.21060788532, 349290986154.6559, 3.3237244866718724e+16, 0.4472726763575054, 2429168420.6318126, 889.2276722218763, 0.15981606212273508, 5.424050265063288e+16, 0.4996949399804517, 0.8335063535939193, 91484740344924.05, 3.50865105694885, 2.981450524691213, 340131688335.60345, 0.340226357595534, 1475464629069.9912, 1337.566801181902, inf, inf, 68782458990.42052, 2013050272.6450663, 45272016657404.31, 2699.5490073159654, 45777.856655646254, 0.8007083048542298, 0.3338173113815852, inf, 29263382.886304583, 7.066750751399438e+17, 0.973403597082145, 0.5745172042904204, 81.40798805231283, 7892112207055.352, 7.782241874999287, 343320077196.6887, 453.23936834749304, 0.6032968666463279, 1448143095.4732654, 1.0720202592530104, 191.932708185424, 57516.537276227835, 4.079716097247967, 0.5022652606452263, inf, 1752227306162047.8, 98076.29070268065, inf, inf, 1.5689284130555838, inf, 281982336889.2719, 49390893217771.46, 0.9343545709591179, 0.6945856469610281, 97.14823051865734, inf, 8821382.356015889, 801.7435419467289, 28.73145066742757, 0.5359182607307171, 1350139.1443672848, 288950.0231581295, 4.184832449255391, 8442178.316071076, 3.4878052449460936e+16, 799980.8148332475, 74825.1014528552, 1.6855281745476691, 0.41115974052740384, 3331572924138.306, 4842535421.636866, 12116.586961105582, 1886718.9676443667, 1.95231942070301, inf, 7940.720563511428, 4.5448434930936216e+16, inf, 0.4351102614017972, inf, 7.82210857137696e+16, inf, 0.3966445390734835, 0.8999670965980069, 19.54434132986738, 0.46372758325319385, 1.634293714684898, 7912420.114502651, 6108353.74137724, 30440.379137292002, 4.520589960715945e+18, inf, 0.4477669681477284, 166709641330.4906, inf, 0.38408769019215766, inf, 1.2665609253217098, 0.29667417305711913, 259903881.78003725, 128256526.28507201, 3040257.1115053315, 8.943090005499277, inf, 8.638174201224862, 0.3959041507443198, inf, inf, 0.8104771476651272, 55142.50220315513, 58215250496844.88, inf, 5903368738.293606, 0.23959461672018317, 0.2547621177763752]\n",
      "torch.Size([512])\n",
      "[0.37474000558199955, 0.5278062802710484, 0.413257890930831, 2.062643260878241, 2.586719922250939e-10, 0.9546555023600998, 0.4802322147722313, 0.46868423689213673, 0.4168132013586837, 1.732914125299554e-11, 0.3096053759003812, 0.7434597342974854, 0.09726686375052242, 0.0057465491879876455, 0.027491629003134975, 0.14964590732141322, 16.31377041504648, 2.254805211285683, 0.3304371151523295, 0.021895126219380886, 0.002063535602266022, 0.0069011465739861454, 0.28662362164445304, 0.5180741125326386, 0.06984392542956012, 0.12086034776726623, 0.006668687597429769, 0.5968856624496288, 0.0011204124192106862, 0.1585171398568357, 0.008481696009338235, 1.4937435694544562e-07, 0.4280980913725542, 0.6899337260711079, 0.018247049959005675, 2.037497747192699, 0.0009574571138861466, 0.2097191479131607, 0.3427102354654133, 0.1583647017855294, 0.49395639146386705, 0.43529309861075033, 3.03288369270695e-06, 0.0001497815995724556, 0.19402482412035854, 0.46648148957470875, 0.3745173887497479, 0.44267017769021333, 1.1631357983880288, 0.010027424035799067, 0.8184713386132466, 0.4632171134567106, 0.08312506206666291, 0.45158455639098394, 1.3382932057993262e-05, 0.9067771780874125, 0.07525850350847374, 0.008044798091119364, 0.07288446281531635, 3.239885481244524, 1.57848994008257, 0.1690638729098566, 3.1552247454759863e-07, 6.5039394135393925e-06, 34.626211029456606, 0.6801948145524147, 0.28996151036615553, 0.009731961265598991, 23.101984977972975, 0.5098568652508546, 0.0008789176823915536, 0.47614626075372135, 0.056556498365579744, 0.0035659762476622147, 0.1824725962180689, 8.599147961896292e-05, 0.26997232572572105, 6.921502489496638e-06, 0.6624840482719556, 3.982938707683358, 0.6334918058605123, 0.00011756932562627429, 0.6058388555694717, 0.3615691739168345, 0.9321254347702778, 0.3053720223877987, 0.018572507780217656, 0.46567750986167034, 0.0013814336125595463, 0.38717427189818293, 0.00013885645483227883, 5.503090849805656, 0.2714586867362657, 0.20238121782993557, 0.466248876834639, 0.609975696148363, 5.66106420977116e-07, 0.5018185551169934, 0.00042637666666039655, 0.41038013682452845, 0.46338507152239294, 0.4263686311259292, 1.4186365966193761, 0.16106950583253715, 1.890039095583019e-10, 0.5531904480045641, 0.0003739515577632915, 0.31655156618917357, 0.4702805371059109, 0.023009049360376548, 8.90976772178962e-08, 2.415953660712569e-07, 0.18689751949496755, 0.42262959448461096, 34.56492957586331, 0.581601152145398, 0.7514925654069126, 0.009814937315022787, 0.0017849459501576431, 0.0016655319031958443, 0.4264883204567656, 0.07536465491182555, 0.0027043215464051676, 0.35854077478532087, 0.29510637577531135, 0.0970740691048547, 0.39608647185368623, 0.7631733027024215, 1.2794751787213197, 0.36074657245194164, 0.47480098009708877, 1.7282837682169814e-09, 0.09999739683397817, 2.273158822194039, 0.39374048866685185, 0.03129812896990301, 0.011472856039923988, 0.668244619710953, 0.6879605150382561, 0.5225104298221716, 0.0005121116380069385, 0.004641852219951575, 0.42336942761141505, 0.06368340581770447, 1.4120477170932708, 0.10077872103219387, 0.6349173869787059, 0.25782797506856614, 0.013070751892174007, 0.028209064410231417, 1.7485798447182685, 2.1493848071403328, 1.8263930543945381, 0.5566555100604925, 0.00023007482420183878, 0.014508304980144207, 0.13526534133992496, 0.05484036798128575, 4.3486388593136036e-06, 0.4677422248558707, 0.002195958572998602, 0.104357443861449, 4.699225233239588e-11, 0.039611178956338276, 0.031241059648606847, 0.05041783718098008, 0.15982339997066056, 1.746437747188594, 0.00041991704798378753, 0.33608426797289287, 0.8750242450766245, 0.4797974736494885, 0.47833281599065813, 0.2667780866423399, 0.541028961862044, 0.15042576813552502, 1.85165485028491, 0.6583783848406441, 0.02433049561010375, 0.4078899612629337, 4.192581168173775e-12, 0.013734824797434075, 0.011614158809701158, 0.6789557619392085, 0.3649717600329253, 0.7743433184926255, 0.06354923200434547, 0.9372527496482013, 0.297176199023828, 0.4791236207158744, 0.05141878126777507, 0.9390445378222039, 0.37905228540111197, 0.0008549295918295757, 0.4000176809399335, 0.020981939794823892, 1.4921092697038566e-14, 0.5473247815537432, 1.3987944959866125, 0.5634619190690765, 1.4529194690873264, 0.3372326242088957, 8.665085198287414e-09, 2.178548394570768, 0.0615109972910682, 1.0589068062120655, 0.005971680982687749, 0.03693875312296568, 0.45243305603054806, 0.6490464741233359, 0.2853339295363998, 0.47894358954502075, 4.3967981200076796e-08, 0.4615314610870462, 1.0400313287026523e-06, 0.021640345188090826, 0.06621498162750854, 0.8819082700429355, 0.715252494556051, 2.5156900936832844, 0.040213025250741725, 1.112809373624572, 0.32853570951722766, 0.5119983446240667, 0.14568253082487506, 0.685826162255603, 1.5082592129002996, 0.3212385932547478, 0.06186237100414225, 0.0005071885929967787, 0.3505017418733984, 0.5229756064182399, 0.5989765750739121, 0.12056866434921319, 0.5067344399236601, 1.3293653794661275, 3.084801476688708, 0.7184533969156132, 0.3789170620558541, 0.9975694282613334, 0.0113977749141595, 0.0013745909865215276, 0.0002950228622649877, 9.31724596305691, 0.7725590626287029, 5.103142280961491, 0.016304036370481986, 0.23587150625834993, 0.03209383370915467, 0.013982750109801484, 0.03846294645117235, 0.0003043440352815298, 0.6313982946856177, 0.8642776163642386, 0.05539321609038757, 0.8074529294309456]\n",
      "torch.Size([256])\n",
      "[0.27551552857073264, 0.1236523445824909, 0.2917468421453008, 2.633484938694459e-12, 0.0007632995330835559, 1.2580651552679852e-11, 0.0016415108129135567, 0.01689852995602122, 2.2389444646836276, 0.0004777058816711615, 0.9393276432934657, 0.43911574350777527, 0.9359546332742066, 5.287273690992689e-07, 0.4458734385190332, 1.161587175584578, 1.2754292852167448, 0.5845585684645266, 0.002570413592163172, 0.1104674164989742, 1.5986261390143838e-09, 0.17228881692587766, 0.7644843446096584, 3.8191750128554145e-06, 0.4723212833676207, 0.6214568175172277, 0.8617166967305345, 3.584543740316355e-08, 0.48590396062012214, 0.05354092918096375, 0.007656658868161848, 0.4047014261425032, 0.6225037329869435, 0.0003344898051078895, 0.00036460449464740754, 0.2856657276672802, 0.39905561919829624, 1.0287944050878108, 0.0009352267277440558, 14.108345307719475, 0.7594863495556584, 0.10632643495668243, 0.015957442122259854, 1.386147519078755e-07, 1.050221109502678e-07, 0.014162702424654453, 0.9702349045545933, 0.9129625248371824, 0.0004883510430115239, 0.8989805158819167, 0.5291716888227564, 4.989007632286209e-06, 1.0106417672115393, 0.0020336130181895186, 0.006326921013898765, 1.4176156879741514e-05, 0.018352227820183288, 0.8838945715654207, 0.7018643631967952, 8.058206946926596e-05, 0.04601668353468019, 0.019130806596884285, 618.8009479742839, 0.00034165971149468784, 0.027742243788689894, 0.0007601927937483205, 7.402021859854473e-05, 0.9097962561817213, 0.07983666460430919, 0.8509449053737338, 0.058119270412135424, 0.9513758689978254, 0.987396509166256, 0.17573699129054532, 0.9173061731523968, 2.3368094571515165e-06, 0.00390077395418058, 0.8125785695385686, 7.483775046832072e-07, 0.43126049034015995, 0.04525954916453766, 0.9681113682504517, 2.9006427691812484, 0.6144726212276389, 5.555533129615439e-06, 0.003874537172947412, 0.0004850512558277115, 0.7001849906850555, 1.904907909317636e-05, 1.0491876201386156e-10, 1.2256513512224099, 0.7506703964559894, 1.8154074196569462e-07, 0.877887647278946, 0.8063434842154367, 3.884068139944026e-15, 0.005608773518375817, 5.380541699376811e-06, 0.8152025634249342, 0.011755095112809701, 0.6836752336940884, 0.19447623395955457, 0.9646927781795436, 0.8607237645432777, 0.6209489796492419, 2.6213960443449915e-06, 1.297654267071451, 0.8679947746604814, 0.013171853565784737, 0.0, 3.1689313543908946e-06, 0.4573909297015618, 0.041681924765921884, 1.8882365835844455, 0.1106436386317195, 0.768913119337475, 0.049111719016552105, 0.10866090330123321, 0.0029839553875767623, 0.1682648891763259, 0.9789725659562047, 0.0009931612935894772, 0.5104435696945505, 3.5657256573602822, 7.072578902840607e-05, 0.8186414298651189, 1.2069952622375067e-13, 0.0006064705332435304]\n",
      "torch.Size([128])\n",
      "[0.7254423835877342, 0.6575345691957217, 0.8408840608097667, 0.7422823071960754, 0.9963494395586394, 29.933841257318562, 0.0, 0.005207607210837052, 0.8385795872180802, 0.0, 0.0020252697959798694, inf, 0.0010560554130914187, 2.344475055976264, 0.7612568663692114, 0.23509953321426666, 0.026089632402417306, 0.735422807116147, 0.20261378576773115, 0.0008135182444584139, 7.261592295094846e-09, 0.9381806151563922, 0.7818466663066032, 0.7017682594546742, 0.8204134703284747, 1.1391959853336882, 0.8930732829982881, 0.7207187597559739, 0.7962186128672536, 0.0, 212.1662845548318, 4.335812939232914, 0.0, 2.681889861060196e-05, 0.04928846729719285, 0.18026736242579058, 0.005583490757117045, 3.6090694131698746e-07, 0.03699807634271969, 16.43924603595183, 848.994138185112, 0.1711789915382234, 12582.752396122272, 0.09465321562677419, 0.00010604925422636068, 0.7774943321479866, 0.7370677436899685, inf, 0.7190615588555427, 0.599024440599794, 2.6957998993828984, 5.0375408463139956e-14, 0.7521805414229025, 0.0004712189759892645, 0.5112983473487923, 0.015399946924915526, 0.7398648427614368, 0.739206508952969, 0.0, 0.3962163274263247, 588.9923743572109, 621529908.5673887, 0.8283000601057046, 0.3039960982423626]\n",
      "torch.Size([64])\n"
     ]
    },
    {
     "name": "stderr",
     "output_type": "stream",
     "text": [
      "/var/folders/d1/pxwd2rcj41j7b2lhnz909xn80000gn/T/ipykernel_62951/2415192822.py:5: RuntimeWarning: divide by zero encountered in scalar divide\n",
      "  norms.append(np.sqrt(torch.sum(torch.square(lay[i][1].weight.data[:,j])).item())/np.sqrt(torch.sum(torch.square(lay[i-1][1].weight.data[j])).item()))\n"
     ]
    }
   ],
   "source": [
    "for i in range(len(lay)):\n",
    "    if i > 0 and i <= len(lay)-1:\n",
    "        norms = []\n",
    "        for j in range(lay[i-1][1].weight.shape[0]):\n",
    "            norms.append(np.sqrt(torch.sum(torch.square(lay[i][1].weight.data[:,j])).item())/np.sqrt(torch.sum(torch.square(lay[i-1][1].weight.data[j])).item()))\n",
    "        print(norms)\n",
    "        norms = torch.tensor(norms)\n",
    "        print(norms.shape)"
   ]
  },
  {
   "cell_type": "code",
   "execution_count": 109,
   "metadata": {},
   "outputs": [
    {
     "data": {
      "image/png": "[encoded data removed]",
      "text/plain": [
       "<Figure size 1600x1000 with 1 Axes>"
      ]
     },
     "metadata": {},
     "output_type": "display_data"
    }
   ],
   "source": [
    "epochs_plot = list(range(100))\n",
    "\n",
    "plt.figure(figsize=(16, 10))\n",
    "plt.plot(epochs_plot, acc, linestyle='-', color='b', label='acc')\n",
    "\n",
    "plt.xlabel('Epochs', fontsize=14)\n",
    "plt.ylabel('Accuracy', fontsize=14)\n",
    "plt.title('Model Accuracy Over Epochs', fontsize=14)\n",
    "\n",
    "plt.xticks(fontsize=14)\n",
    "plt.yticks(fontsize=14)\n",
    "\n",
    "plt.grid(True)\n",
    "\n",
    "plt.legend(fontsize=14)\n",
    "\n",
    "plt.show()"
   ]
  },
  {
   "cell_type": "code",
   "execution_count": 110,
   "metadata": {},
   "outputs": [],
   "source": [
    "import pickle\n",
    "with open('l2regularization4.pkl', 'wb') as f:\n",
    "    pickle.dump(acc, f)\n",
    "\n",
    "torch.save(model.state_dict(), 'l2Model4.pt')"
   ]
  }
 ],
 "metadata": {
  "kernelspec": {
   "display_name": "Python 3",
   "language": "python",
   "name": "python3"
  },
  "language_info": {
   "codemirror_mode": {
    "name": "ipython",
    "version": 3
   },
   "file_extension": ".py",
   "mimetype": "text/x-python",
   "name": "python",
   "nbconvert_exporter": "python",
   "pygments_lexer": "ipython3",
   "version": "3.11.2"
  }
 },
 "nbformat": 4,
 "nbformat_minor": 2
}
