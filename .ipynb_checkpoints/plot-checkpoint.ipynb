{
 "cells": [
  {
   "cell_type": "code",
   "execution_count": 1,
   "id": "b5106975",
   "metadata": {},
   "outputs": [],
   "source": [
    "import matplotlib.pyplot as plt"
   ]
  },
  {
   "cell_type": "code",
   "execution_count": 2,
   "id": "6bb19d24",
   "metadata": {},
   "outputs": [],
   "source": [
    "trained_w_l2 = \"logs/04_03_2024_14_51_29/test_accuracies.npy\""
   ]
  },
  {
   "cell_type": "code",
   "execution_count": null,
   "id": "9c075be2",
   "metadata": {},
   "outputs": [],
   "source": [
    "trained_without_nb = \"logs/04_03_2024_14_39_41/test_accuracies.npy\""
   ]
  },
  {
   "cell_type": "code",
   "execution_count": null,
   "id": "d159d383",
   "metadata": {},
   "outputs": [],
   "source": []
  },
  {
   "cell_type": "code",
   "execution_count": null,
   "id": "947375a7",
   "metadata": {},
   "outputs": [],
   "source": [
    "# Let's assume these are the accuracy values of your model over epochs\n",
    "epochs_plot = list(range(50))\n",
    "\n",
    "plt.figure(figsize=(10, 8))\n",
    "\n",
    "# Create a simple line plot\n",
    "plt.plot(epochs_plot, accuracies_clean, linestyle='-', color='b', label='Clean Accuracy')\n",
    "plt.plot(epochs_plot, accuracies, linestyle='-', color='r', label='With Neural Balance')\n",
    "plt.plot(epochs_plot, accuracies_l2, linestyle='-', color='g', label='With L2 regularizer')\n",
    "\n",
    "# Add labels and title\n",
    "plt.xlabel('Epochs', fontsize=14)\n",
    "plt.ylabel('Accuracy', fontsize=14)\n",
    "plt.title('Model Accuracy Over Epochs', fontsize=14)\n",
    "\n",
    "plt.xticks(fontsize=14)\n",
    "plt.yticks(fontsize=14)\n",
    "\n",
    "# Optionally, add a grid\n",
    "plt.grid(True)\n",
    "\n",
    "plt.legend(fontsize=14)\n",
    "\n",
    "# Show the plot\n",
    "plt.show()"
   ]
  },
  {
   "cell_type": "code",
   "execution_count": null,
   "id": "404114ea",
   "metadata": {},
   "outputs": [],
   "source": [
    "# Let's assume these are the accuracy values of your model over epochs\n",
    "epochs_norm = list(range(len(norms)))\n",
    "\n",
    "plt.figure(figsize=(10, 8))\n",
    "\n",
    "# Create a simple line plot\n",
    "plt.plot(epochs_norm, norms, linestyle='-', color='b', label='Norm')\n",
    "\n",
    "# Add labels and title\n",
    "plt.xlabel('Epochs', fontsize=14)\n",
    "plt.ylabel('Accuracy', fontsize=14)\n",
    "plt.title('Model Accuracy Over Epochs', fontsize=14)\n",
    "\n",
    "plt.xticks(fontsize=14)\n",
    "plt.yticks(fontsize=14)\n",
    "\n",
    "# Optionally, add a grid\n",
    "plt.grid(True)\n",
    "\n",
    "plt.legend(fontsize=14)\n",
    "\n",
    "# Show the plot\n",
    "plt.show()"
   ]
  }
 ],
 "metadata": {
  "kernelspec": {
   "display_name": "Python 3 (ipykernel)",
   "language": "python",
   "name": "python3"
  },
  "language_info": {
   "codemirror_mode": {
    "name": "ipython",
    "version": 3
   },
   "file_extension": ".py",
   "mimetype": "text/x-python",
   "name": "python",
   "nbconvert_exporter": "python",
   "pygments_lexer": "ipython3",
   "version": "3.6.8"
  }
 },
 "nbformat": 4,
 "nbformat_minor": 5
}
