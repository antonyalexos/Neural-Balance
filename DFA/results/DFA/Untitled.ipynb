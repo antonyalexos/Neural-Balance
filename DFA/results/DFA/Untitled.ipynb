{
 "cells": [
  {
   "cell_type": "code",
   "execution_count": 78,
   "id": "6332c591",
   "metadata": {},
   "outputs": [],
   "source": [
    "import pandas as pd"
   ]
  },
  {
   "cell_type": "code",
   "execution_count": 79,
   "id": "7b4f8e2f",
   "metadata": {},
   "outputs": [],
   "source": [
    "folder = '7_layers/168/'"
   ]
  },
  {
   "cell_type": "code",
   "execution_count": 80,
   "id": "4de1d8fb",
   "metadata": {},
   "outputs": [
    {
     "data": {
      "text/plain": [
       "97.2"
      ]
     },
     "execution_count": 80,
     "metadata": {},
     "output_type": "execute_result"
    }
   ],
   "source": [
    "clean_file = folder+'clean.csv'\n",
    "max(pd.read_csv(clean_file, skiprows=[0])['Test Accuracy'])"
   ]
  },
  {
   "cell_type": "code",
   "execution_count": 81,
   "id": "da5242bd",
   "metadata": {},
   "outputs": [
    {
     "data": {
      "text/plain": [
       "95.21"
      ]
     },
     "execution_count": 81,
     "metadata": {},
     "output_type": "execute_result"
    }
   ],
   "source": [
    "nb_file = folder+'nb.csv'\n",
    "max(pd.read_csv(nb_file, skiprows=[0])['Test Accuracy'])"
   ]
  },
  {
   "cell_type": "code",
   "execution_count": 82,
   "id": "5fd3c39a",
   "metadata": {},
   "outputs": [
    {
     "data": {
      "text/plain": [
       "97.02"
      ]
     },
     "execution_count": 82,
     "metadata": {},
     "output_type": "execute_result"
    }
   ],
   "source": [
    "l2_1e_4_file = folder+'l2_1e_4.csv'\n",
    "max(pd.read_csv(l2_1e_4_file, skiprows=[0])['Test Accuracy'])"
   ]
  },
  {
   "cell_type": "code",
   "execution_count": 83,
   "id": "9b3a72d5",
   "metadata": {},
   "outputs": [
    {
     "data": {
      "text/plain": [
       "97.25"
      ]
     },
     "execution_count": 83,
     "metadata": {},
     "output_type": "execute_result"
    }
   ],
   "source": [
    "l2_1e_5_file = folder+'l2_1e_5.csv'\n",
    "max(pd.read_csv(l2_1e_5_file, skiprows=[0])['Test Accuracy'])"
   ]
  },
  {
   "cell_type": "code",
   "execution_count": 85,
   "id": "94bfd2f9",
   "metadata": {},
   "outputs": [
    {
     "data": {
      "text/plain": [
       "97.41"
      ]
     },
     "execution_count": 85,
     "metadata": {},
     "output_type": "execute_result"
    }
   ],
   "source": [
    "max(pd.read_csv(\"240427_153409.csv\", skiprows=[0])['Test Accuracy'])"
   ]
  },
  {
   "cell_type": "code",
   "execution_count": null,
   "id": "4541a014",
   "metadata": {},
   "outputs": [],
   "source": []
  }
 ],
 "metadata": {
  "kernelspec": {
   "display_name": "Python 3 (ipykernel)",
   "language": "python",
   "name": "python3"
  },
  "language_info": {
   "codemirror_mode": {
    "name": "ipython",
    "version": 3
   },
   "file_extension": ".py",
   "mimetype": "text/x-python",
   "name": "python",
   "nbconvert_exporter": "python",
   "pygments_lexer": "ipython3",
   "version": "3.6.8"
  }
 },
 "nbformat": 4,
 "nbformat_minor": 5
}
