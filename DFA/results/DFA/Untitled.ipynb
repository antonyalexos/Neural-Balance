{
 "cells": [
  {
   "cell_type": "code",
   "execution_count": 29,
   "id": "6332c591",
   "metadata": {},
   "outputs": [],
   "source": [
    "import pandas as pd\n",
    "import numpy as np"
   ]
  },
  {
   "cell_type": "code",
   "execution_count": 8,
   "id": "7b4f8e2f",
   "metadata": {},
   "outputs": [],
   "source": [
    "folder_7_2_168 = '7_layers/lr_1e_2/168/'\n",
    "folder_7_3_168 = '7_layers/lr_1e_3/168/'\n",
    "folder_7_4_168 = '7_layers/lr_1e_4/168/'\n",
    "\n",
    "folder_7_2_512 = '7_layers/lr_1e_2/512/'\n",
    "folder_7_3_512 = '7_layers/lr_1e_3/512/'\n",
    "folder_7_4_512 = '7_layers/lr_1e_4/512/'\n",
    "\n",
    "folder_7_2_1 = '7_layers/lr_1e_2/-1/'\n",
    "folder_7_3_1 = '7_layers/lr_1e_3/-1/'\n",
    "folder_7_4_1 = '7_layers/lr_1e_4/-1/'\n",
    "\n",
    "folder_7_2_42 = '7_layers/lr_1e_2/42/'\n",
    "folder_7_3_42 = '7_layers/lr_1e_3/42/'\n",
    "folder_7_4_42 = '7_layers/lr_1e_4/42/'\n",
    "\n",
    "folder_2_2_168 = '2_layers/lr_1e_2/168/'\n",
    "folder_2_3_168 = '2_layers/lr_1e_3/168/'\n",
    "folder_2_4_168 = '2_layers/lr_1e_4/168/'\n",
    "\n",
    "folder_2_2_512 = '2_layers/lr_1e_2/512/'\n",
    "folder_2_3_512 = '2_layers/lr_1e_3/512/'\n",
    "folder_2_4_512 = '2_layers/lr_1e_4/512/'\n",
    "\n",
    "folder_2_2_1 = '2_layers/lr_1e_2/-1/'\n",
    "folder_2_3_1 = '2_layers/lr_1e_3/-1/'\n",
    "folder_2_4_1 = '2_layers/lr_1e_4/-1/'\n",
    "\n",
    "folder_2_2_42 = '2_layers/lr_1e_2/42/'\n",
    "folder_2_3_42 = '2_layers/lr_1e_3/42/'\n",
    "folder_2_4_42 = '2_layers/lr_1e_4/42/'"
   ]
  },
  {
   "cell_type": "code",
   "execution_count": null,
   "id": "04449b08",
   "metadata": {},
   "outputs": [],
   "source": [
    "# 7 layers seed = 168 -> clean=97.2\n",
    "# 7 layers seed = 168 -> nb=97.41\n",
    "# 7 layers seed = 168 -> L2=97.62\n",
    "\n",
    "# 7 layers seed = 512 -> clean=97.15\n",
    "# 7 layers seed = 512 -> nb=97.48\n",
    "# 7 layers seed = 512 -> L2=97.78\n",
    "\n",
    "# 7 layers seed = -1 -> clean=97.07\n",
    "# 7 layers seed = -1 -> nb=97.28\n",
    "# 7 layers seed = -1 -> L2=97.73\n",
    "\n",
    "# 7 layers seed = 42 -> clean=\n",
    "# 7 layers seed = 42 -> nb=\n",
    "# 7 layers seed = 42 -> L2="
   ]
  },
  {
   "cell_type": "code",
   "execution_count": 59,
   "id": "7685b0bf",
   "metadata": {},
   "outputs": [
    {
     "name": "stdout",
     "output_type": "stream",
     "text": [
      "mean:  97.15249999999999\n",
      "neural balance:  97.37\n",
      "L2 with 1e-4:  97.685\n",
      "L2 with 1e-5:  97.37\n"
     ]
    }
   ],
   "source": [
    "#7 layers\n",
    "\n",
    "clean = [97.19, 97.07, 97.15, 97.2]\n",
    "nb = [97.31, 97.28, 97.48, 97.41]\n",
    "l2_1e_4 = [97.61, 97.73, 97.78, 97.62]\n",
    "l2_1e_5 = [97.45, 97.44, 97.34, 97.25]\n",
    "\n",
    "print(\"mean: \", np.mean(clean))\n",
    "print(\"neural balance: \", np.mean(nb))\n",
    "print(\"L2 with 1e-4: \", np.mean(l2_1e_4))\n",
    "print(\"L2 with 1e-5: \", np.mean(l2_1e_5))"
   ]
  },
  {
   "cell_type": "code",
   "execution_count": 58,
   "id": "666942d4",
   "metadata": {},
   "outputs": [
    {
     "name": "stdout",
     "output_type": "stream",
     "text": [
      "mean:  98.2475\n",
      "neural balance:  98.22749999999999\n",
      "L2 with 1e-4:  98.2625\n",
      "L2 with 1e-5:  98.2325\n"
     ]
    }
   ],
   "source": [
    "#2 layers\n",
    "\n",
    "clean = [98.2, 98.29, 98.23, 98.27]\n",
    "nb = [98.23, 98.26, 98.21, 98.21]\n",
    "l2_1e_4 = [98.27, 98.26, 98.26, 98.26]\n",
    "l2_1e_5 = [98.26, 98.21, 98.23, 98.23]\n",
    "\n",
    "print(\"mean: \", np.mean(clean))\n",
    "print(\"neural balance: \", np.mean(nb))\n",
    "print(\"L2 with 1e-4: \", np.mean(l2_1e_4))\n",
    "print(\"L2 with 1e-5: \", np.mean(l2_1e_5))"
   ]
  },
  {
   "cell_type": "markdown",
   "id": "adc0d784",
   "metadata": {},
   "source": [
    "# 2 layers seed 42"
   ]
  },
  {
   "cell_type": "code",
   "execution_count": 37,
   "id": "a37c712f",
   "metadata": {},
   "outputs": [
    {
     "name": "stdout",
     "output_type": "stream",
     "text": [
      "97.99\n",
      "98.2\n",
      "98.14\n"
     ]
    }
   ],
   "source": [
    "clean_file = folder_2_2_42+'clean.csv'\n",
    "print(max(pd.read_csv(clean_file, skiprows=[0])['Test Accuracy']))\n",
    "\n",
    "clean_file = folder_2_3_42+'clean.csv'\n",
    "print(max(pd.read_csv(clean_file, skiprows=[0])['Test Accuracy']))\n",
    "\n",
    "clean_file = folder_2_4_42+'clean.csv'\n",
    "print(max(pd.read_csv(clean_file, skiprows=[0])['Test Accuracy']))"
   ]
  },
  {
   "cell_type": "code",
   "execution_count": 38,
   "id": "154aafef",
   "metadata": {},
   "outputs": [
    {
     "name": "stdout",
     "output_type": "stream",
     "text": [
      "97.99\n",
      "98.09\n",
      "98.23\n"
     ]
    }
   ],
   "source": [
    "nb_file = folder_2_2_42+'nb.csv'\n",
    "print(max(pd.read_csv(nb_file, skiprows=[0])['Test Accuracy']))\n",
    "\n",
    "nb_file = folder_2_3_42+'nb.csv'\n",
    "print(max(pd.read_csv(nb_file, skiprows=[0])['Test Accuracy']))\n",
    "\n",
    "nb_file = folder_2_4_42+'nb.csv'\n",
    "print(max(pd.read_csv(nb_file, skiprows=[0])['Test Accuracy']))"
   ]
  },
  {
   "cell_type": "code",
   "execution_count": 39,
   "id": "fa1438e3",
   "metadata": {},
   "outputs": [
    {
     "name": "stdout",
     "output_type": "stream",
     "text": [
      "97.82\n",
      "98.27\n",
      "98.14\n"
     ]
    }
   ],
   "source": [
    "l2_1e_4_file = folder_2_2_42+'l2_1e_4.csv'\n",
    "print(max(pd.read_csv(l2_1e_4_file, skiprows=[0])['Test Accuracy']))\n",
    "\n",
    "l2_1e_4_file = folder_2_3_42+'l2_1e_4.csv'\n",
    "print(max(pd.read_csv(l2_1e_4_file, skiprows=[0])['Test Accuracy']))\n",
    "\n",
    "l2_1e_4_file = folder_2_4_42+'l2_1e_4.csv'\n",
    "print(max(pd.read_csv(l2_1e_4_file, skiprows=[0])['Test Accuracy']))"
   ]
  },
  {
   "cell_type": "code",
   "execution_count": 40,
   "id": "1fc81441",
   "metadata": {},
   "outputs": [
    {
     "name": "stdout",
     "output_type": "stream",
     "text": [
      "98.06\n",
      "98.26\n",
      "98.14\n"
     ]
    }
   ],
   "source": [
    "l2_1e_5_file = folder_2_2_42+'l2_1e_5.csv'\n",
    "print(max(pd.read_csv(l2_1e_5_file, skiprows=[0])['Test Accuracy']))\n",
    "\n",
    "l2_1e_5_file = folder_2_3_42+'l2_1e_5.csv'\n",
    "print(max(pd.read_csv(l2_1e_5_file, skiprows=[0])['Test Accuracy']))\n",
    "\n",
    "l2_1e_5_file = folder_2_4_42+'l2_1e_5.csv'\n",
    "print(max(pd.read_csv(l2_1e_5_file, skiprows=[0])['Test Accuracy']))"
   ]
  },
  {
   "cell_type": "markdown",
   "id": "71f9a9cc",
   "metadata": {},
   "source": [
    "# 2 layers seed -1"
   ]
  },
  {
   "cell_type": "code",
   "execution_count": 41,
   "id": "5f2766b4",
   "metadata": {},
   "outputs": [
    {
     "name": "stdout",
     "output_type": "stream",
     "text": [
      "98.1\n",
      "98.29\n",
      "98.18\n"
     ]
    }
   ],
   "source": [
    "clean_file = folder_2_2_1+'clean.csv'\n",
    "print(max(pd.read_csv(clean_file, skiprows=[0])['Test Accuracy']))\n",
    "\n",
    "clean_file = folder_2_3_1+'clean.csv'\n",
    "print(max(pd.read_csv(clean_file, skiprows=[0])['Test Accuracy']))\n",
    "\n",
    "clean_file = folder_2_4_1+'clean.csv'\n",
    "print(max(pd.read_csv(clean_file, skiprows=[0])['Test Accuracy']))"
   ]
  },
  {
   "cell_type": "code",
   "execution_count": 42,
   "id": "a29bb289",
   "metadata": {},
   "outputs": [
    {
     "name": "stdout",
     "output_type": "stream",
     "text": [
      "97.74\n",
      "97.92\n",
      "98.26\n"
     ]
    }
   ],
   "source": [
    "nb_file = folder_2_2_1+'nb.csv'\n",
    "print(max(pd.read_csv(nb_file, skiprows=[0])['Test Accuracy']))\n",
    "\n",
    "nb_file = folder_2_3_1+'nb.csv'\n",
    "print(max(pd.read_csv(nb_file, skiprows=[0])['Test Accuracy']))\n",
    "\n",
    "nb_file = folder_2_4_1+'nb.csv'\n",
    "print(max(pd.read_csv(nb_file, skiprows=[0])['Test Accuracy']))"
   ]
  },
  {
   "cell_type": "code",
   "execution_count": 43,
   "id": "c7386f6f",
   "metadata": {},
   "outputs": [
    {
     "name": "stdout",
     "output_type": "stream",
     "text": [
      "97.75\n",
      "98.26\n",
      "98.19\n"
     ]
    }
   ],
   "source": [
    "l2_1e_4_file = folder_2_2_1+'l2_1e_4.csv'\n",
    "print(max(pd.read_csv(l2_1e_4_file, skiprows=[0])['Test Accuracy']))\n",
    "\n",
    "l2_1e_4_file = folder_2_3_1+'l2_1e_4.csv'\n",
    "print(max(pd.read_csv(l2_1e_4_file, skiprows=[0])['Test Accuracy']))\n",
    "\n",
    "l2_1e_4_file = folder_2_4_1+'l2_1e_4.csv'\n",
    "print(max(pd.read_csv(l2_1e_4_file, skiprows=[0])['Test Accuracy']))"
   ]
  },
  {
   "cell_type": "code",
   "execution_count": 44,
   "id": "b0976fde",
   "metadata": {},
   "outputs": [
    {
     "name": "stdout",
     "output_type": "stream",
     "text": [
      "97.87\n",
      "98.21\n",
      "98.02\n"
     ]
    }
   ],
   "source": [
    "l2_1e_5_file = folder_2_2_1+'l2_1e_5.csv'\n",
    "print(max(pd.read_csv(l2_1e_5_file, skiprows=[0])['Test Accuracy']))\n",
    "\n",
    "l2_1e_5_file = folder_2_3_1+'l2_1e_5.csv'\n",
    "print(max(pd.read_csv(l2_1e_5_file, skiprows=[0])['Test Accuracy']))\n",
    "\n",
    "l2_1e_5_file = folder_2_4_1+'l2_1e_5.csv'\n",
    "print(max(pd.read_csv(l2_1e_5_file, skiprows=[0])['Test Accuracy']))"
   ]
  },
  {
   "cell_type": "markdown",
   "id": "68d56bbb",
   "metadata": {},
   "source": [
    "# 2 layers seed 512"
   ]
  },
  {
   "cell_type": "code",
   "execution_count": 46,
   "id": "3827ee14",
   "metadata": {},
   "outputs": [
    {
     "name": "stdout",
     "output_type": "stream",
     "text": [
      "97.98\n",
      "98.23\n",
      "98.1\n"
     ]
    }
   ],
   "source": [
    "clean_file = folder_2_2_512+'clean.csv'\n",
    "print(max(pd.read_csv(clean_file, skiprows=[0])['Test Accuracy']))\n",
    "\n",
    "clean_file = folder_2_3_512+'clean.csv'\n",
    "print(max(pd.read_csv(clean_file, skiprows=[0])['Test Accuracy']))\n",
    "\n",
    "clean_file = folder_2_4_512+'clean.csv'\n",
    "print(max(pd.read_csv(clean_file, skiprows=[0])['Test Accuracy']))"
   ]
  },
  {
   "cell_type": "code",
   "execution_count": 47,
   "id": "bc763c8d",
   "metadata": {},
   "outputs": [
    {
     "name": "stdout",
     "output_type": "stream",
     "text": [
      "97.74\n",
      "98.21\n",
      "98.11\n"
     ]
    }
   ],
   "source": [
    "nb_file = folder_2_2_512+'nb.csv'\n",
    "print(max(pd.read_csv(nb_file, skiprows=[0])['Test Accuracy']))\n",
    "\n",
    "nb_file = folder_2_3_512+'nb.csv'\n",
    "print(max(pd.read_csv(nb_file, skiprows=[0])['Test Accuracy']))\n",
    "\n",
    "nb_file = folder_2_4_512+'nb.csv'\n",
    "print(max(pd.read_csv(nb_file, skiprows=[0])['Test Accuracy']))"
   ]
  },
  {
   "cell_type": "code",
   "execution_count": 48,
   "id": "a07db6ba",
   "metadata": {},
   "outputs": [
    {
     "name": "stdout",
     "output_type": "stream",
     "text": [
      "97.73\n",
      "98.26\n",
      "98.15\n"
     ]
    }
   ],
   "source": [
    "l2_1e_4_file = folder_2_2_512+'l2_1e_4.csv'\n",
    "print(max(pd.read_csv(l2_1e_4_file, skiprows=[0])['Test Accuracy']))\n",
    "\n",
    "l2_1e_4_file = folder_2_3_512+'l2_1e_4.csv'\n",
    "print(max(pd.read_csv(l2_1e_4_file, skiprows=[0])['Test Accuracy']))\n",
    "\n",
    "l2_1e_4_file = folder_2_4_512+'l2_1e_4.csv'\n",
    "print(max(pd.read_csv(l2_1e_4_file, skiprows=[0])['Test Accuracy']))"
   ]
  },
  {
   "cell_type": "code",
   "execution_count": 49,
   "id": "85a58f52",
   "metadata": {},
   "outputs": [
    {
     "name": "stdout",
     "output_type": "stream",
     "text": [
      "98.08\n",
      "98.23\n",
      "98.15\n"
     ]
    }
   ],
   "source": [
    "l2_1e_5_file = folder_2_2_512+'l2_1e_5.csv'\n",
    "print(max(pd.read_csv(l2_1e_5_file, skiprows=[0])['Test Accuracy']))\n",
    "\n",
    "l2_1e_5_file = folder_2_3_512+'l2_1e_5.csv'\n",
    "print(max(pd.read_csv(l2_1e_5_file, skiprows=[0])['Test Accuracy']))\n",
    "\n",
    "l2_1e_5_file = folder_2_4_512+'l2_1e_5.csv'\n",
    "print(max(pd.read_csv(l2_1e_5_file, skiprows=[0])['Test Accuracy']))"
   ]
  },
  {
   "cell_type": "markdown",
   "id": "8fea3958",
   "metadata": {},
   "source": [
    "# 2 layers seed 168"
   ]
  },
  {
   "cell_type": "code",
   "execution_count": 53,
   "id": "5035bc5a",
   "metadata": {},
   "outputs": [
    {
     "name": "stdout",
     "output_type": "stream",
     "text": [
      "98.14\n",
      "98.27\n",
      "98.18\n"
     ]
    }
   ],
   "source": [
    "clean_file = folder_2_2_168+'clean.csv'\n",
    "print(max(pd.read_csv(clean_file, skiprows=[0])['Test Accuracy']))\n",
    "\n",
    "clean_file = folder_2_3_168+'clean.csv'\n",
    "print(max(pd.read_csv(clean_file, skiprows=[0])['Test Accuracy']))\n",
    "\n",
    "clean_file = folder_2_4_168+'clean.csv'\n",
    "print(max(pd.read_csv(clean_file, skiprows=[0])['Test Accuracy']))"
   ]
  },
  {
   "cell_type": "code",
   "execution_count": 54,
   "id": "a3f959b7",
   "metadata": {},
   "outputs": [
    {
     "name": "stdout",
     "output_type": "stream",
     "text": [
      "97.74\n",
      "98.21\n",
      "98.11\n"
     ]
    }
   ],
   "source": [
    "nb_file = folder_2_2_512+'nb.csv'\n",
    "print(max(pd.read_csv(nb_file, skiprows=[0])['Test Accuracy']))\n",
    "\n",
    "nb_file = folder_2_3_512+'nb.csv'\n",
    "print(max(pd.read_csv(nb_file, skiprows=[0])['Test Accuracy']))\n",
    "\n",
    "nb_file = folder_2_4_512+'nb.csv'\n",
    "print(max(pd.read_csv(nb_file, skiprows=[0])['Test Accuracy']))"
   ]
  },
  {
   "cell_type": "code",
   "execution_count": 55,
   "id": "77271a03",
   "metadata": {},
   "outputs": [
    {
     "name": "stdout",
     "output_type": "stream",
     "text": [
      "97.73\n",
      "98.26\n",
      "98.15\n"
     ]
    }
   ],
   "source": [
    "l2_1e_4_file = folder_2_2_512+'l2_1e_4.csv'\n",
    "print(max(pd.read_csv(l2_1e_4_file, skiprows=[0])['Test Accuracy']))\n",
    "\n",
    "l2_1e_4_file = folder_2_3_512+'l2_1e_4.csv'\n",
    "print(max(pd.read_csv(l2_1e_4_file, skiprows=[0])['Test Accuracy']))\n",
    "\n",
    "l2_1e_4_file = folder_2_4_512+'l2_1e_4.csv'\n",
    "print(max(pd.read_csv(l2_1e_4_file, skiprows=[0])['Test Accuracy']))"
   ]
  },
  {
   "cell_type": "code",
   "execution_count": 56,
   "id": "c141efd4",
   "metadata": {},
   "outputs": [
    {
     "name": "stdout",
     "output_type": "stream",
     "text": [
      "98.08\n",
      "98.23\n",
      "98.15\n"
     ]
    }
   ],
   "source": [
    "l2_1e_5_file = folder_2_2_512+'l2_1e_5.csv'\n",
    "print(max(pd.read_csv(l2_1e_5_file, skiprows=[0])['Test Accuracy']))\n",
    "\n",
    "l2_1e_5_file = folder_2_3_512+'l2_1e_5.csv'\n",
    "print(max(pd.read_csv(l2_1e_5_file, skiprows=[0])['Test Accuracy']))\n",
    "\n",
    "l2_1e_5_file = folder_2_4_512+'l2_1e_5.csv'\n",
    "print(max(pd.read_csv(l2_1e_5_file, skiprows=[0])['Test Accuracy']))"
   ]
  },
  {
   "cell_type": "code",
   "execution_count": null,
   "id": "4e3ccdb1",
   "metadata": {},
   "outputs": [],
   "source": []
  },
  {
   "cell_type": "code",
   "execution_count": null,
   "id": "1614f646",
   "metadata": {},
   "outputs": [],
   "source": []
  },
  {
   "cell_type": "markdown",
   "id": "c32c66d1",
   "metadata": {},
   "source": [
    "# 7 layers seed 42"
   ]
  },
  {
   "cell_type": "code",
   "execution_count": 24,
   "id": "4eb7053d",
   "metadata": {},
   "outputs": [
    {
     "name": "stdout",
     "output_type": "stream",
     "text": [
      "95.7\n",
      "96.0\n",
      "97.19\n"
     ]
    }
   ],
   "source": [
    "clean_file = folder_7_2_42+'clean.csv'\n",
    "print(max(pd.read_csv(clean_file, skiprows=[0])['Test Accuracy']))\n",
    "\n",
    "clean_file = folder_7_3_42+'clean.csv'\n",
    "print(max(pd.read_csv(clean_file, skiprows=[0])['Test Accuracy']))\n",
    "\n",
    "clean_file = folder_7_4_42+'clean.csv'\n",
    "print(max(pd.read_csv(clean_file, skiprows=[0])['Test Accuracy']))"
   ]
  },
  {
   "cell_type": "code",
   "execution_count": 25,
   "id": "8da0ce59",
   "metadata": {},
   "outputs": [
    {
     "name": "stdout",
     "output_type": "stream",
     "text": [
      "97.31\n",
      "96.82\n",
      "94.97\n"
     ]
    }
   ],
   "source": [
    "nb_file = folder_7_2_42+'nb.csv'\n",
    "print(max(pd.read_csv(nb_file, skiprows=[0])['Test Accuracy']))\n",
    "\n",
    "nb_file = folder_7_3_42+'nb.csv'\n",
    "print(max(pd.read_csv(nb_file, skiprows=[0])['Test Accuracy']))\n",
    "\n",
    "nb_file = folder_7_4_42+'nb.csv'\n",
    "print(max(pd.read_csv(nb_file, skiprows=[0])['Test Accuracy']))"
   ]
  },
  {
   "cell_type": "code",
   "execution_count": 26,
   "id": "caade585",
   "metadata": {},
   "outputs": [
    {
     "name": "stdout",
     "output_type": "stream",
     "text": [
      "97.61\n",
      "96.71\n",
      "97.46\n"
     ]
    }
   ],
   "source": [
    "l2_1e_4_file = folder_7_2_42+'l2_1e_4.csv'\n",
    "print(max(pd.read_csv(l2_1e_4_file, skiprows=[0])['Test Accuracy']))\n",
    "\n",
    "l2_1e_4_file = folder_7_3_42+'l2_1e_4.csv'\n",
    "print(max(pd.read_csv(l2_1e_4_file, skiprows=[0])['Test Accuracy']))\n",
    "\n",
    "l2_1e_4_file = folder_7_4_42+'l2_1e_4.csv'\n",
    "print(max(pd.read_csv(l2_1e_4_file, skiprows=[0])['Test Accuracy']))"
   ]
  },
  {
   "cell_type": "code",
   "execution_count": 28,
   "id": "66264b98",
   "metadata": {},
   "outputs": [
    {
     "name": "stdout",
     "output_type": "stream",
     "text": [
      "96.9\n",
      "96.3\n",
      "97.45\n"
     ]
    }
   ],
   "source": [
    "l2_1e_5_file = folder_7_2_42+'l2_1e_5.csv'\n",
    "print(max(pd.read_csv(l2_1e_5_file, skiprows=[0])['Test Accuracy']))\n",
    "\n",
    "l2_1e_5_file = folder_7_3_42+'l2_1e_5.csv'\n",
    "print(max(pd.read_csv(l2_1e_5_file, skiprows=[0])['Test Accuracy']))\n",
    "\n",
    "l2_1e_5_file = folder_7_4_42+'l2_1e_5.csv'\n",
    "print(max(pd.read_csv(l2_1e_5_file, skiprows=[0])['Test Accuracy']))"
   ]
  },
  {
   "cell_type": "markdown",
   "id": "f1dd33b4",
   "metadata": {},
   "source": [
    "# 7 layers seed -1"
   ]
  },
  {
   "cell_type": "code",
   "execution_count": 20,
   "id": "5cfe4679",
   "metadata": {},
   "outputs": [
    {
     "name": "stdout",
     "output_type": "stream",
     "text": [
      "96.46\n",
      "96.15\n",
      "97.07\n"
     ]
    }
   ],
   "source": [
    "clean_file = folder_7_2_1+'clean.csv'\n",
    "print(max(pd.read_csv(clean_file, skiprows=[0])['Test Accuracy']))\n",
    "\n",
    "clean_file = folder_7_3_1+'clean.csv'\n",
    "print(max(pd.read_csv(clean_file, skiprows=[0])['Test Accuracy']))\n",
    "\n",
    "clean_file = folder_7_4_1+'clean.csv'\n",
    "print(max(pd.read_csv(clean_file, skiprows=[0])['Test Accuracy']))"
   ]
  },
  {
   "cell_type": "code",
   "execution_count": 21,
   "id": "7ed8d2b0",
   "metadata": {},
   "outputs": [
    {
     "name": "stdout",
     "output_type": "stream",
     "text": [
      "97.28\n",
      "96.27\n",
      "94.43\n"
     ]
    }
   ],
   "source": [
    "nb_file = folder_7_2_1+'nb.csv'\n",
    "print(max(pd.read_csv(nb_file, skiprows=[0])['Test Accuracy']))\n",
    "\n",
    "nb_file = folder_7_3_1+'nb.csv'\n",
    "print(max(pd.read_csv(nb_file, skiprows=[0])['Test Accuracy']))\n",
    "\n",
    "nb_file = folder_7_4_1+'nb.csv'\n",
    "print(max(pd.read_csv(nb_file, skiprows=[0])['Test Accuracy']))"
   ]
  },
  {
   "cell_type": "code",
   "execution_count": 22,
   "id": "e36a0aa0",
   "metadata": {},
   "outputs": [
    {
     "name": "stdout",
     "output_type": "stream",
     "text": [
      "97.73\n",
      "96.88\n",
      "96.69\n"
     ]
    }
   ],
   "source": [
    "l2_1e_4_file = folder_7_2_1+'l2_1e_4.csv'\n",
    "print(max(pd.read_csv(l2_1e_4_file, skiprows=[0])['Test Accuracy']))\n",
    "\n",
    "l2_1e_4_file = folder_7_3_1+'l2_1e_4.csv'\n",
    "print(max(pd.read_csv(l2_1e_4_file, skiprows=[0])['Test Accuracy']))\n",
    "\n",
    "l2_1e_4_file = folder_7_4_1+'l2_1e_4.csv'\n",
    "print(max(pd.read_csv(l2_1e_4_file, skiprows=[0])['Test Accuracy']))"
   ]
  },
  {
   "cell_type": "code",
   "execution_count": 23,
   "id": "adb9ea66",
   "metadata": {},
   "outputs": [
    {
     "name": "stdout",
     "output_type": "stream",
     "text": [
      "97.05\n",
      "96.37\n",
      "97.44\n"
     ]
    }
   ],
   "source": [
    "l2_1e_5_file = folder_7_2_1+'l2_1e_5.csv'\n",
    "print(max(pd.read_csv(l2_1e_5_file, skiprows=[0])['Test Accuracy']))\n",
    "\n",
    "l2_1e_5_file = folder_7_3_1+'l2_1e_5.csv'\n",
    "print(max(pd.read_csv(l2_1e_5_file, skiprows=[0])['Test Accuracy']))\n",
    "\n",
    "l2_1e_5_file = folder_7_4_1+'l2_1e_5.csv'\n",
    "print(max(pd.read_csv(l2_1e_5_file, skiprows=[0])['Test Accuracy']))"
   ]
  },
  {
   "cell_type": "markdown",
   "id": "7377f4c9",
   "metadata": {},
   "source": [
    "# 7 layers seed 512"
   ]
  },
  {
   "cell_type": "code",
   "execution_count": 16,
   "id": "ed60186e",
   "metadata": {},
   "outputs": [
    {
     "name": "stdout",
     "output_type": "stream",
     "text": [
      "96.6\n",
      "96.48\n",
      "97.15\n"
     ]
    }
   ],
   "source": [
    "clean_file = folder_7_2_512+'clean.csv'\n",
    "print(max(pd.read_csv(clean_file, skiprows=[0])['Test Accuracy']))\n",
    "\n",
    "clean_file = folder_7_3_512+'clean.csv'\n",
    "print(max(pd.read_csv(clean_file, skiprows=[0])['Test Accuracy']))\n",
    "\n",
    "clean_file = folder_7_4_512+'clean.csv'\n",
    "print(max(pd.read_csv(clean_file, skiprows=[0])['Test Accuracy']))"
   ]
  },
  {
   "cell_type": "code",
   "execution_count": 17,
   "id": "fb11a957",
   "metadata": {},
   "outputs": [
    {
     "name": "stdout",
     "output_type": "stream",
     "text": [
      "97.48\n",
      "96.67\n",
      "95.76\n"
     ]
    }
   ],
   "source": [
    "nb_file = folder_7_2_512+'nb.csv'\n",
    "print(max(pd.read_csv(nb_file, skiprows=[0])['Test Accuracy']))\n",
    "\n",
    "nb_file = folder_7_3_512+'nb.csv'\n",
    "print(max(pd.read_csv(nb_file, skiprows=[0])['Test Accuracy']))\n",
    "\n",
    "nb_file = folder_7_4_512+'nb.csv'\n",
    "print(max(pd.read_csv(nb_file, skiprows=[0])['Test Accuracy']))"
   ]
  },
  {
   "cell_type": "code",
   "execution_count": 18,
   "id": "d0a707c4",
   "metadata": {},
   "outputs": [
    {
     "name": "stdout",
     "output_type": "stream",
     "text": [
      "97.78\n",
      "97.24\n",
      "97.17\n"
     ]
    }
   ],
   "source": [
    "l2_1e_4_file = folder_7_2_512+'l2_1e_4.csv'\n",
    "print(max(pd.read_csv(l2_1e_4_file, skiprows=[0])['Test Accuracy']))\n",
    "\n",
    "l2_1e_4_file = folder_7_3_512+'l2_1e_4.csv'\n",
    "print(max(pd.read_csv(l2_1e_4_file, skiprows=[0])['Test Accuracy']))\n",
    "\n",
    "l2_1e_4_file = folder_7_4_512+'l2_1e_4.csv'\n",
    "print(max(pd.read_csv(l2_1e_4_file, skiprows=[0])['Test Accuracy']))"
   ]
  },
  {
   "cell_type": "code",
   "execution_count": 19,
   "id": "49426ccc",
   "metadata": {},
   "outputs": [
    {
     "name": "stdout",
     "output_type": "stream",
     "text": [
      "97.34\n",
      "96.38\n",
      "97.28\n"
     ]
    }
   ],
   "source": [
    "l2_1e_5_file = folder_7_2_512+'l2_1e_5.csv'\n",
    "print(max(pd.read_csv(l2_1e_5_file, skiprows=[0])['Test Accuracy']))\n",
    "\n",
    "l2_1e_5_file = folder_7_3_512+'l2_1e_5.csv'\n",
    "print(max(pd.read_csv(l2_1e_5_file, skiprows=[0])['Test Accuracy']))\n",
    "\n",
    "l2_1e_5_file = folder_7_4_512+'l2_1e_5.csv'\n",
    "print(max(pd.read_csv(l2_1e_5_file, skiprows=[0])['Test Accuracy']))"
   ]
  },
  {
   "cell_type": "markdown",
   "id": "207caec7",
   "metadata": {},
   "source": [
    "# 7 layers seed 168"
   ]
  },
  {
   "cell_type": "code",
   "execution_count": 11,
   "id": "4de1d8fb",
   "metadata": {},
   "outputs": [
    {
     "name": "stdout",
     "output_type": "stream",
     "text": [
      "96.0\n",
      "96.22\n",
      "97.2\n"
     ]
    }
   ],
   "source": [
    "clean_file = folder_7_2_168+'clean.csv'\n",
    "print(max(pd.read_csv(clean_file, skiprows=[0])['Test Accuracy']))\n",
    "\n",
    "clean_file = folder_7_3_168+'clean.csv'\n",
    "print(max(pd.read_csv(clean_file, skiprows=[0])['Test Accuracy']))\n",
    "\n",
    "clean_file = folder_7_4_168+'clean.csv'\n",
    "print(max(pd.read_csv(clean_file, skiprows=[0])['Test Accuracy']))"
   ]
  },
  {
   "cell_type": "code",
   "execution_count": 13,
   "id": "da5242bd",
   "metadata": {},
   "outputs": [
    {
     "name": "stdout",
     "output_type": "stream",
     "text": [
      "97.41\n",
      "96.25\n",
      "95.21\n"
     ]
    }
   ],
   "source": [
    "nb_file = folder_7_2_168+'nb.csv'\n",
    "print(max(pd.read_csv(nb_file, skiprows=[0])['Test Accuracy']))\n",
    "\n",
    "nb_file = folder_7_3_168+'nb.csv'\n",
    "print(max(pd.read_csv(nb_file, skiprows=[0])['Test Accuracy']))\n",
    "\n",
    "nb_file = folder_7_4_168+'nb.csv'\n",
    "print(max(pd.read_csv(nb_file, skiprows=[0])['Test Accuracy']))"
   ]
  },
  {
   "cell_type": "code",
   "execution_count": 14,
   "id": "5fd3c39a",
   "metadata": {},
   "outputs": [
    {
     "name": "stdout",
     "output_type": "stream",
     "text": [
      "97.62\n",
      "97.07\n",
      "97.02\n"
     ]
    }
   ],
   "source": [
    "l2_1e_4_file = folder_7_2_168+'l2_1e_4.csv'\n",
    "print(max(pd.read_csv(l2_1e_4_file, skiprows=[0])['Test Accuracy']))\n",
    "\n",
    "l2_1e_4_file = folder_7_3_168+'l2_1e_4.csv'\n",
    "print(max(pd.read_csv(l2_1e_4_file, skiprows=[0])['Test Accuracy']))\n",
    "\n",
    "l2_1e_4_file = folder_7_4_168+'l2_1e_4.csv'\n",
    "print(max(pd.read_csv(l2_1e_4_file, skiprows=[0])['Test Accuracy']))"
   ]
  },
  {
   "cell_type": "code",
   "execution_count": 15,
   "id": "9b3a72d5",
   "metadata": {
    "scrolled": true
   },
   "outputs": [
    {
     "name": "stdout",
     "output_type": "stream",
     "text": [
      "96.95\n",
      "96.51\n",
      "97.25\n"
     ]
    }
   ],
   "source": [
    "l2_1e_5_file = folder_7_2_168+'l2_1e_5.csv'\n",
    "print(max(pd.read_csv(l2_1e_5_file, skiprows=[0])['Test Accuracy']))\n",
    "\n",
    "l2_1e_5_file = folder_7_3_168+'l2_1e_5.csv'\n",
    "print(max(pd.read_csv(l2_1e_5_file, skiprows=[0])['Test Accuracy']))\n",
    "\n",
    "l2_1e_5_file = folder_7_4_168+'l2_1e_5.csv'\n",
    "print(max(pd.read_csv(l2_1e_5_file, skiprows=[0])['Test Accuracy']))"
   ]
  }
 ],
 "metadata": {
  "kernelspec": {
   "display_name": "Python 3 (ipykernel)",
   "language": "python",
   "name": "python3"
  },
  "language_info": {
   "codemirror_mode": {
    "name": "ipython",
    "version": 3
   },
   "file_extension": ".py",
   "mimetype": "text/x-python",
   "name": "python",
   "nbconvert_exporter": "python",
   "pygments_lexer": "ipython3",
   "version": "3.6.8"
  }
 },
 "nbformat": 4,
 "nbformat_minor": 5
}
