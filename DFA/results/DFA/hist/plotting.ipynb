{
 "cells": [
  {
   "cell_type": "code",
   "execution_count": 9,
   "metadata": {},
   "outputs": [
    {
     "name": "stdout",
     "output_type": "stream",
     "text": [
      "n_layers = 2, l2 = 0.0001, nb at start = 0, nb = 0 97.758\n",
      "n_layers = 2, l2 = 0.0001, nb at start = 1, nb = 0 97.758\n",
      "n_layers = 2, l2 = 1e-05, nb at start = 0, nb = 0 97.76433999999999\n",
      "n_layers = 2, l2 = 1e-05, nb at start = 1, nb = 0 97.76433999999999\n",
      "n_layers = 2, l2 = 0, nb at start = 0, nb = 0:  97.76433999999999\n",
      "n_layers = 2, l2 = 0, nb at start = 1, nb = 0:  97.76433999999999\n",
      "n_layers = 2, l2 = 0, nb at start = 0, nb = 1:  97.76433999999999\n",
      "n_layers = 2, l2 = 0, nb at start = 1, nb = 1:  97.76433999999999\n",
      "n_layers = 7, l2 = 0.0001, nb at start = 0, nb = 0 95.41782\n",
      "n_layers = 7, l2 = 0.0001, nb at start = 1, nb = 0 95.41782\n",
      "n_layers = 7, l2 = 1e-05, nb at start = 0, nb = 0 95.4525\n",
      "n_layers = 7, l2 = 1e-05, nb at start = 1, nb = 0 95.4525\n",
      "n_layers = 7, l2 = 0, nb at start = 0, nb = 0:  95.4525\n",
      "n_layers = 7, l2 = 0, nb at start = 1, nb = 0:  95.4525\n",
      "n_layers = 7, l2 = 0, nb at start = 0, nb = 1:  95.4525\n",
      "n_layers = 7, l2 = 0, nb at start = 1, nb = 1:  95.4525\n"
     ]
    }
   ],
   "source": [
    "import pickle\n",
    "import numpy as np\n",
    "\n",
    "for n_layers in ['2', '7']:\n",
    "    for l2 in ['0.0001', '1e-05']:\n",
    "        for nbs in ['0', '1']:\n",
    "            l = []\n",
    "            for seed in ['10', '11', '12', '13', '14']:\n",
    "                with open(f'DFA-n_layers_{n_layers}-seed_{seed}-lr_0.0001-l2_{l2}-neuralBalance_0-neuralBalanceAtStart_{nbs}.pkl', 'rb') as f:\n",
    "                    l.append(pickle.load(f)['test_acc'])\n",
    "            l = np.array(l)\n",
    "            print(f'n_layers = {n_layers}, l2 = {l2}, nb at start = {nbs}, nb = 0',np.max(np.mean(l)))\n",
    "    for nb in ['0', '1']:\n",
    "        for nbs in ['0', '1']:\n",
    "            l = []\n",
    "            for seed in ['10', '11', '12', '13', '14']:\n",
    "                with open(f'DFA-n_layers_{n_layers}-seed_{seed}-lr_0.0001-l2_{l2}-neuralBalance_0-neuralBalanceAtStart_{nbs}.pkl', 'rb') as f:\n",
    "                    l.append(pickle.load(f)['test_acc'])\n",
    "            l = np.array(l)\n",
    "            print(f'n_layers = {n_layers}, l2 = 0, nb at start = {nbs}, nb = {nb}: ',np.max(np.mean(l)))"
   ]
  }
 ],
 "metadata": {
  "kernelspec": {
   "display_name": "Python 3",
   "language": "python",
   "name": "python3"
  },
  "language_info": {
   "codemirror_mode": {
    "name": "ipython",
    "version": 3
   },
   "file_extension": ".py",
   "mimetype": "text/x-python",
   "name": "python",
   "nbconvert_exporter": "python",
   "pygments_lexer": "ipython3",
   "version": "3.10.12"
  }
 },
 "nbformat": 4,
 "nbformat_minor": 2
}
