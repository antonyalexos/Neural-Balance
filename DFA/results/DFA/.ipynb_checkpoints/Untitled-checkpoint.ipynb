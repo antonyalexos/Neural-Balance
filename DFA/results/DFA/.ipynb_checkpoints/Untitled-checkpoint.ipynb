{
 "cells": [
  {
   "cell_type": "code",
   "execution_count": 1,
   "id": "6332c591",
   "metadata": {},
   "outputs": [],
   "source": [
    "import pandas as pd"
   ]
  },
  {
   "cell_type": "code",
   "execution_count": 73,
   "id": "7b4f8e2f",
   "metadata": {},
   "outputs": [],
   "source": [
    "folder = '7_layers/168/'"
   ]
  },
  {
   "cell_type": "code",
   "execution_count": 74,
   "id": "4de1d8fb",
   "metadata": {},
   "outputs": [
    {
     "data": {
      "text/plain": [
       "97.19"
      ]
     },
     "execution_count": 74,
     "metadata": {},
     "output_type": "execute_result"
    }
   ],
   "source": [
    "clean_file = folder+'clean.csv'\n",
    "max(pd.read_csv(clean_file, skiprows=[0])['Test Accuracy'])"
   ]
  },
  {
   "cell_type": "code",
   "execution_count": 75,
   "id": "da5242bd",
   "metadata": {},
   "outputs": [
    {
     "data": {
      "text/plain": [
       "94.97"
      ]
     },
     "execution_count": 75,
     "metadata": {},
     "output_type": "execute_result"
    }
   ],
   "source": [
    "nb_file = folder+'nb.csv'\n",
    "max(pd.read_csv(nb_file, skiprows=[0])['Test Accuracy'])"
   ]
  },
  {
   "cell_type": "code",
   "execution_count": 76,
   "id": "5fd3c39a",
   "metadata": {},
   "outputs": [
    {
     "data": {
      "text/plain": [
       "97.46"
      ]
     },
     "execution_count": 76,
     "metadata": {},
     "output_type": "execute_result"
    }
   ],
   "source": [
    "l2_1e_4_file = folder+'l2_1e_4.csv'\n",
    "max(pd.read_csv(l2_1e_4_file, skiprows=[0])['Test Accuracy'])"
   ]
  },
  {
   "cell_type": "code",
   "execution_count": 77,
   "id": "9b3a72d5",
   "metadata": {},
   "outputs": [
    {
     "data": {
      "text/plain": [
       "97.45"
      ]
     },
     "execution_count": 77,
     "metadata": {},
     "output_type": "execute_result"
    }
   ],
   "source": [
    "l2_1e_5_file = folder+'l2_1e_5.csv'\n",
    "max(pd.read_csv(l2_1e_5_file, skiprows=[0])['Test Accuracy'])"
   ]
  },
  {
   "cell_type": "code",
   "execution_count": null,
   "id": "cdf6820d",
   "metadata": {},
   "outputs": [],
   "source": []
  },
  {
   "cell_type": "code",
   "execution_count": null,
   "id": "f28c374d",
   "metadata": {},
   "outputs": [],
   "source": []
  }
 ],
 "metadata": {
  "kernelspec": {
   "display_name": "Python 3 (ipykernel)",
   "language": "python",
   "name": "python3"
  },
  "language_info": {
   "codemirror_mode": {
    "name": "ipython",
    "version": 3
   },
   "file_extension": ".py",
   "mimetype": "text/x-python",
   "name": "python",
   "nbconvert_exporter": "python",
   "pygments_lexer": "ipython3",
   "version": "3.6.8"
  }
 },
 "nbformat": 4,
 "nbformat_minor": 5
}
